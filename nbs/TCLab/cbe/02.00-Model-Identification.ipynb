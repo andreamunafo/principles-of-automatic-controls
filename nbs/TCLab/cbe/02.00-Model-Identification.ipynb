{
 "cells": [
  {
   "cell_type": "markdown",
   "metadata": {},
   "source": [
    "<!--NOTEBOOK_HEADER-->\n",
    "*This notebook contains course material from [CBE32338](https://jckantor.github.io/CBE32338)\n",
    "by Jeffrey Kantor (jeff at nd.edu); the content is available [on Github](https://github.com/jckantor/CBE2338.git).\n",
    "The text is released under the [CC-BY-NC-ND-4.0 license](https://creativecommons.org/licenses/by-nc-nd/4.0/legalcode),\n",
    "and code is released under the [MIT license](https://opensource.org/licenses/MIT).*"
   ]
  },
  {
   "cell_type": "markdown",
   "metadata": {},
   "source": [
    "<!--NAVIGATION-->\n",
    "< [TCLab Lab 1: Coding a relay controller](http://nbviewer.jupyter.org/github/jckantor/CBE32338/blob/master/notebooks/01.11-TCLab-Lab-1-Coding-a-relay-controller.ipynb) | [Contents](toc.ipynb) | [Step Testing](http://nbviewer.jupyter.org/github/jckantor/CBE32338/blob/master/notebooks/02.01-Step-Testing.ipynb) ><p><a href=\"https://colab.research.google.com/github/jckantor/CBE32338/blob/master/notebooks/02.00-Model-Identification.ipynb\"><img align=\"left\" src=\"https://colab.research.google.com/assets/colab-badge.svg\" alt=\"Open in Colab\" title=\"Open in Google Colaboratory\"></a><p><a href=\"https://raw.githubusercontent.com/jckantor/CBE32338/master/notebooks/02.00-Model-Identification.ipynb\"><img align=\"left\" src=\"https://img.shields.io/badge/Github-Download-blue.svg\" alt=\"Download\" title=\"Download Notebook\"></a>"
   ]
  },
  {
   "cell_type": "markdown",
   "metadata": {},
   "source": [
    "# Model Identification\n",
    "\n",
    "## Reference materials\n",
    "\n",
    "* Alizadeh, Esmaeil. \"A Guide to Non-Minimum Phase Systems.\" *Towards Data Science.* https://towardsdatascience.com/a-guide-to-non-minimum-phase-systems-1403350917a0. Accessed 6 Decewmber 2020."
   ]
  },
  {
   "cell_type": "markdown",
   "metadata": {},
   "source": [
    "<!--NAVIGATION-->\n",
    "< [TCLab Lab 1: Coding a relay controller](http://nbviewer.jupyter.org/github/jckantor/CBE32338/blob/master/notebooks/01.11-TCLab-Lab-1-Coding-a-relay-controller.ipynb) | [Contents](toc.ipynb) | [Step Testing](http://nbviewer.jupyter.org/github/jckantor/CBE32338/blob/master/notebooks/02.01-Step-Testing.ipynb) ><p><a href=\"https://colab.research.google.com/github/jckantor/CBE32338/blob/master/notebooks/02.00-Model-Identification.ipynb\"><img align=\"left\" src=\"https://colab.research.google.com/assets/colab-badge.svg\" alt=\"Open in Colab\" title=\"Open in Google Colaboratory\"></a><p><a href=\"https://raw.githubusercontent.com/jckantor/CBE32338/master/notebooks/02.00-Model-Identification.ipynb\"><img align=\"left\" src=\"https://img.shields.io/badge/Github-Download-blue.svg\" alt=\"Download\" title=\"Download Notebook\"></a>"
   ]
  }
 ],
 "metadata": {
  "kernelspec": {
   "display_name": "python3",
   "language": "python",
   "name": "python3"
  }
 },
 "nbformat": 4,
 "nbformat_minor": 1
}
