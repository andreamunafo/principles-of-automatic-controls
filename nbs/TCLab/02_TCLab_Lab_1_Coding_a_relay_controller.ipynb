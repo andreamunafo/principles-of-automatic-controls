{
 "cells": [
  {
   "cell_type": "markdown",
   "id": "625bc3f0",
   "metadata": {},
   "source": [
    "# TCLab Lab 1: Coding a relay controller"
   ]
  },
  {
   "cell_type": "markdown",
   "id": "d7ffed76",
   "metadata": {},
   "source": [
    "The purpose of this first laboratory session is to verify that you can interface and interact with the TCLab hardware, and familiarize you with the TCLab library. The first exercise will be to code a rudimentary relay (also called 'on-off' or thermostat) controller for one of the two heaters.\n",
    "\n",
    "Before you begin, you should be familiar with the following reading meterials:\n",
    "\n",
    "* [On-Off Control in Section 1.6 of *Feedback Control for Scientists and Engineers*](http://www.cds.caltech.edu/~murray/books/AM08/pdf/fbs-intro_07Aug2019.pdf#page=19)\n",
    "* [01_Understanding_TCLab](./01_Understanding_TCLab.ipynb)\n",
    "\n"
   ]
  },
  {
   "cell_type": "markdown",
   "id": "ca2f8cbf",
   "metadata": {},
   "source": [
    "## Exercise 1. Download and install TCLab.py\n",
    "\n",
    "Execute the following cell to download and install the TCLab.py python library."
   ]
  },
  {
   "cell_type": "code",
   "execution_count": null,
   "id": "a0df12bb",
   "metadata": {},
   "outputs": [],
   "source": [
    "!pip install tclab --upgrade"
   ]
  },
  {
   "cell_type": "markdown",
   "id": "429ad66d",
   "metadata": {},
   "source": [
    "## Exercise 2.  Verify that your hardware and software are working correctly.\n",
    "\n",
    "The following cell should cause the LED on the TCLab shield to light up to 100% maximum brightness."
   ]
  },
  {
   "cell_type": "code",
   "execution_count": null,
   "id": "e6b86fdc",
   "metadata": {},
   "outputs": [],
   "source": [
    "from tclab import TCLab\n",
    "\n",
    "with TCLab() as lab:\n",
    "    lab.LED(0)"
   ]
  },
  {
   "cell_type": "markdown",
   "id": "2bb65b3a",
   "metadata": {},
   "source": [
    "## Exercise 3. Turn on the heaters for 120 seconds and log temperature response.\n",
    "\n",
    "For this exercise, write a code cell that turns on heater 1 at 100% power, then log the temperature response once per second for 120 seconds. The output of the cell should report the time, power level, and temperature for each measurement. You may wish to consult [01_Understanding_TCLab](./01_Understanding_TCLab.ipynb) notebook for relevant code examples. You will need the `clock` function from `tclab` for this exercise."
   ]
  },
  {
   "cell_type": "code",
   "execution_count": null,
   "id": "c3d28a23",
   "metadata": {},
   "outputs": [],
   "source": [
    "# put your code here."
   ]
  },
  {
   "cell_type": "markdown",
   "id": "fd96badc",
   "metadata": {},
   "source": [
    "## Exercise 4. Code an on-off controller. \n",
    "\n",
    "Code an on-off controller for a setpoint of 40 degrees C using heater 1 as the manipulated variable, and temperature 1 as the measured variable. Operate the controller for at least 5 minutes (600 seconds), reporting time/power/temperature measurements every 2 seconds. "
   ]
  },
  {
   "cell_type": "code",
   "execution_count": null,
   "id": "bd2bac90",
   "metadata": {},
   "outputs": [],
   "source": [
    "# put your code here."
   ]
  },
  {
   "cell_type": "markdown",
   "id": "35a6d147",
   "metadata": {},
   "source": [
    "## Exercise 5. Analysis\n",
    "\n",
    "Examine the results of the previous exercise and answer the following questions.\n",
    "\n",
    "1. Approximately how much time elapses between power on and power off events?\n",
    "\n",
    "2. What is the approximate duty cycle (i.e, fraction of time the heater is in the 'on' state) once the initial start-up period has passed.\n",
    "\n",
    "3. What is the size of the oscillation around the setpoint?  Why does this occur?"
   ]
  },
  {
   "cell_type": "code",
   "execution_count": null,
   "id": "7c6ec10b",
   "metadata": {},
   "outputs": [],
   "source": []
  }
 ],
 "metadata": {
  "kernelspec": {
   "display_name": "python3",
   "language": "python",
   "name": "python3"
  }
 },
 "nbformat": 4,
 "nbformat_minor": 5
}
