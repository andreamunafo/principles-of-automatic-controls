{
 "cells": [
  {
   "cell_type": "markdown",
   "id": "13c98243",
   "metadata": {},
   "source": [
    "# System Modeling\n",
    "\n",
    "Before jumping into control design, it's essential to understand the physics of the system, including heat transfer mechanisms: conduction, radiation, and (to a lesser extent in space) convection.\n",
    "\n",
    "## Reference materials\n",
    "\n",
    "* Alizadeh, Esmaeil. \"A Guide to Non-Minimum Phase Systems.\" *Towards Data Science.* https://ealizadeh.com/blog/non-minimum-phase-systems/. Accessed 6 Decewmber 2020."
   ]
  },
  {
   "cell_type": "markdown",
   "id": "14989565",
   "metadata": {},
   "source": [
    "### Heat Transfer Mechanisms Explained\n",
    "\n",
    "- **Conduction**: Heat flow through direct physical contact, significant in our system due to connections between the heater, battery, and spacecraft structure.\n",
    "- **Radiation**: Transfer of heat through electromagnetic waves, relevant due to exposure to the sun and deep space.\n",
    "- **Convection**: Less relevant in the vacuum of space, but a factor to consider during earth-based testing.\n",
    "\n",
    "<table>\n",
    "    <tr>\n",
    "    <td>\n",
    "        <img src=\"./pics/tclab_conductive.png\" alt=\"tclab_conductive\" style=\"width: 450px;\"/>    \n",
    "    </td>\n",
    "    </tr>\n",
    "</table> "
   ]
  },
  {
   "cell_type": "markdown",
   "id": "271f2f22",
   "metadata": {},
   "source": [
    "## First block diagram - how accurate it is?\n",
    "\n",
    "\n",
    "<table>\n",
    "    <tr>\n",
    "    <td>\n",
    "        <img src=\"./pics/tclab_block_diagram-1.png\" alt=\"tclab_block_diagram-1\" style=\"width: 450px;\"/>    \n",
    "    </td>\n",
    "    </tr>\n",
    "</table> \n"
   ]
  },
  {
   "cell_type": "markdown",
   "id": "37fc1869",
   "metadata": {},
   "source": [
    "### Detailed Explanation of Heat Transfer Mechanisms\n",
    "\n",
    "#### **Conduction**\n",
    "\n",
    "Conduction is the transfer of heat through direct physical contact. In a spacecraft, this occurs when molecules or atoms in a high-temperature region vibrate intensely and pass on their energy to neighboring particles in a lower temperature area. \n",
    "\n",
    "- **Importance in Spacecraft**: In our satellite thermal control system, conduction is crucial as it enables the transfer of heat from the heater to the battery and then to the spacecraft's structure. This mechanism is integral in maintaining the temperatures within operational limits.\n",
    "  \n",
    "- **Example**: Imagine holding one end of a metal rod over a flame. Gradually, heat travels along the rod, making the distant end warm. This is similar to how heat conducts from the heater through the battery in our system.\n",
    "\n",
    "#### **Radiation**\n",
    "\n",
    "Radiation refers to the transfer of heat in the form of electromagnetic waves. It doesn't require a medium to travel through, making it a primary mode of heat transfer in space.\n",
    "\n",
    "- **Role in Spacecraft**: In the context of a spacecraft, radiation is significant for two reasons. Firstly, it accounts for the heat gain from the Sun, as solar radiation directly impacts parts of the satellite. Secondly, it is the method by which the spacecraft loses heat to the coldness of deep space.\n",
    "  \n",
    "- **Example**: The warmth you feel when standing in sunlight is due to radiant heat transfer. The Sun's heat travels through the vacuum of space and warms you via radiation.\n",
    "\n",
    "#### **Convection**\n",
    "\n",
    "Convection is the transfer of heat by the physical movement of a fluid (such as air or liquid). It involves the circulation or movement of particles within the fluid, where hot particles move to cooler areas and vice versa.\n",
    "\n",
    "- **Relevance in Spacecraft Testing**: While convection is not a heat transfer mechanism in the vacuum of space, it becomes significant during Earth-based testing of spacecraft systems. Here, the presence of air around the spacecraft allows for convective heat transfer, which can affect the performance and testing outcomes of thermal control systems.\n",
    "  \n",
    "- **Example**: When you heat water in a pot, the water at the bottom, nearest to the heat source, becomes hot and rises, while cooler water moves down to replace it, creating a circular motion. This process of heat transfer through the movement of fluid is convection.\n",
    "\n",
    "Understanding these heat transfer mechanisms is important for effectively managing the thermal environment of a spacecraft. It ensures that the onboard systems operate within their temperature tolerances, thereby enhancing the satellite's overall performance and longevity."
   ]
  },
  {
   "cell_type": "markdown",
   "id": "2afb69db",
   "metadata": {},
   "source": [
    "----"
   ]
  },
  {
   "cell_type": "markdown",
   "id": "fc956014",
   "metadata": {},
   "source": [
    "# System Identification"
   ]
  },
  {
   "cell_type": "markdown",
   "id": "797a1501",
   "metadata": {},
   "source": [
    "### Importance of Accurate Modeling\n",
    "\n",
    "Accurate system modeling is crucial for effective controller design. It involves understanding the dynamics of the system and its response to inputs, which is particularly important for PID controller tuning.\n",
    "\n",
    "1. **Step Response Analysis**: Conducting a step response experiment to gather data for system identification.\n",
    "2. **Fitting a Transfer Function**: Using the gathered data to fit a first-order plus dead time (FOPDT) model, which includes gain, time constant, and delay."
   ]
  },
  {
   "cell_type": "markdown",
   "id": "a5248030",
   "metadata": {},
   "source": [
    "### Iterative Design Process\n",
    "\n",
    "The design process is iterative, involving tweaking and improving the controller based on system response. This approach emphasizes the non-linear and exploratory nature of engineering problem-solving."
   ]
  },
  {
   "cell_type": "markdown",
   "id": "72586886",
   "metadata": {},
   "source": [
    "## First-Order Dead Time (FOPDT) Modeling\n",
    "\n",
    "Also called First-Order plus time delay (FOPTD)"
   ]
  },
  {
   "cell_type": "markdown",
   "id": "b8055843",
   "metadata": {},
   "source": [
    "- $y(t)$: output\n",
    "- $u(t)$: input\n",
    "\n",
    "Model:\n",
    "\n",
    "$$\n",
    "\\tau_p \\frac{dy(t)}{dt} = -y(t) + K_pu(t-\\theta_p)\n",
    "$$\n",
    "\n",
    "Three parameters: \n",
    "- $\\tau_p$: time-constant\n",
    "- $K_p$: gain $\\frac{\\Delta y}{\\Delta u}$ \n",
    "- $\\theta_p$: dead time (how long it takes the output to start responding to an input) \n",
    "\n",
    "The process gain is the change in the output y induced by a unit change in the input u. The process gain is calculated by evaluating the change in $y(t)$ divided by the change in $u(t)$ at steady state initial and final conditions:\n",
    "\n",
    "$$\n",
    "K_p = \\frac{\\Delta y}{\\Delta u} = \\frac{y_ss_2 - y_ss_1}{u_ss_2 - u_ss_1}\n",
    "$$\n",
    "\n",
    "\n",
    "These three parameters adjust the shape of the response between the input and the output.\n",
    "\n",
    "<table>\n",
    "    <tr>\n",
    "    <td>\n",
    "        <img src=\"./pics/fopdt-1.png\" alt=\"fopdt-1\" style=\"width: 450px;\"/>    \n",
    "    </td>\n",
    "    </tr>\n",
    "</table> \n"
   ]
  },
  {
   "cell_type": "markdown",
   "id": "7e926324",
   "metadata": {},
   "source": [
    "The Laplace transform of the previous differential equation is:\n",
    "\n",
    "$$\n",
    "\\tau_p sY(s) = - Y(s) + K_p e^{-\\theta_p s}U(s)\n",
    "$$\n",
    "\n",
    "hence the transfer function is:\n",
    "\n",
    "$$\n",
    "G(s) = \\frac{Y(s)}{U(s)} = \\frac{K_p e^{-\\theta_p s}}{\\tau_p s + 1}\n",
    "$$"
   ]
  },
  {
   "cell_type": "markdown",
   "id": "18c4fc06",
   "metadata": {},
   "source": [
    "The solution to the previous differential equation:\n",
    "\n",
    "$$\n",
    "y(t) = \\Big(1-e^{-\\frac{t-\\theta_p}{\\tau_p}}\\Big)K_p\\Delta u \\mu(t-\\theta_p)\n",
    "$$\n",
    "\n",
    "where $\\mu(t-\\theta_p)$ is the step function with a delay.\n",
    "\n",
    "\n",
    "\n",
    "Setting $t=\\tau_p$ and $\\theta_p=0$ we can calculate:\n",
    "\n",
    "$$\n",
    "\\frac{y(\\tau_p)}{Kp\\Delta u} = \\Big(1-e^{-\\frac{\\tau_p}{\\tau_p}}\\Big) = (1-e^{-1}) = 0.632\n",
    "$$\n",
    "\n",
    "given that $K_p = \\Delta y / \\Delta u$ we can write:\n",
    "\n",
    "$$\n",
    "\\frac{y(\\tau_p)}{\\Delta y} = \\Big(1-e^{-\\frac{\\tau_p}{\\tau_p}}\\Big) = (1-e^{-1}) = 0.632\n",
    "$$\n",
    "\n",
    "which means:\n",
    "\n",
    "$$\n",
    "y(\\tau_p) = 0.632\\Delta y\n",
    "$$"
   ]
  },
  {
   "cell_type": "markdown",
   "id": "a043dbf3",
   "metadata": {},
   "source": [
    "We can plot this in python:"
   ]
  },
  {
   "cell_type": "code",
   "execution_count": null,
   "id": "4cf47c15",
   "metadata": {},
   "outputs": [],
   "source": [
    "import numpy as np\n",
    "import matplotlib.pyplot as plt\n",
    "from ipywidgets import interactive"
   ]
  },
  {
   "cell_type": "code",
   "execution_count": null,
   "id": "0271e12b",
   "metadata": {},
   "outputs": [
    {
     "data": {
      "application/vnd.jupyter.widget-view+json": {
       "model_id": "3f1a1e2e42bd4d7b996d1ff25a0355cc",
       "version_major": 2,
       "version_minor": 0
      },
      "text/plain": [
       "interactive(children=(FloatSlider(value=1.0, description='Kp', max=10.0, min=0.1), FloatSlider(value=0.0, desc…"
      ]
     },
     "execution_count": null,
     "metadata": {},
     "output_type": "execute_result"
    }
   ],
   "source": [
    "def step_function(t, theta_p):\n",
    "    return np.heaviside(t - theta_p, 1)\n",
    "\n",
    "def y(t, Kp, theta_p, tau_p, Delta_u=1):\n",
    "    return (1 - np.exp(-(t - theta_p) / tau_p)) * Kp * Delta_u * step_function(t, theta_p)\n",
    "\n",
    "def plot_response(Kp=1, theta_p=0, tau_p=1):\n",
    "    t = np.linspace(0, 10, 1000)  # Adjust time range as needed\n",
    "    Delta_u = 1  # Change as per your setup\n",
    "    y_vals = y(t, Kp, theta_p, tau_p, Delta_u)\n",
    "    \n",
    "    plt.figure(figsize=(10, 6))\n",
    "    plt.plot(t, y_vals, label=f'$K_p$={Kp}, $\\\\theta_p$={theta_p}, $\\\\tau_p$={tau_p}')\n",
    "    plt.title('System Response')\n",
    "    plt.xlabel('Time')\n",
    "    plt.ylabel('$y(t)$')\n",
    "    plt.grid(True)\n",
    "    plt.legend()\n",
    "    plt.show()\n",
    "\n",
    "def plot_response_with_input(Kp=1, theta_p=0, tau_p=1):\n",
    "    t = np.linspace(0, 10, 1000)  # Adjust time range as needed\n",
    "    Delta_u = 1  # Change as per your setup\n",
    "    y_vals = y(t, Kp, theta_p, tau_p, Delta_u)\n",
    "    input_signal = step_function(t, theta_p) * Delta_u  # Assuming Delta_u is the step height\n",
    "    \n",
    "    plt.figure(figsize=(10, 6))\n",
    "    \n",
    "    # Plotting the system response\n",
    "    plt.plot(t, y_vals, label=f'System Response: $K_p$={Kp}, $\\\\theta_p$={theta_p}, $\\\\tau_p$={tau_p}')\n",
    "    # Plotting the input signal\n",
    "    plt.plot(t, input_signal, '--', label='Input Signal ($\\\\Delta u$)')\n",
    "    \n",
    "    plt.title('System Response and Input Signal')\n",
    "    plt.xlabel('Time')\n",
    "    plt.ylabel('Value')\n",
    "    plt.grid(True)\n",
    "    plt.legend()\n",
    "    plt.show()    \n",
    "    \n",
    "    \n",
    "interactive_plot = interactive(plot_response, Kp=(0.1, 10, 0.1), theta_p=(0, 5, 0.1), tau_p=(0.1, 10, 0.1))\n",
    "output = interactive_plot.children[-1]\n",
    "output.layout.height = '550px'\n",
    "interactive_plot\n"
   ]
  },
  {
   "cell_type": "markdown",
   "id": "a9c4a227",
   "metadata": {},
   "source": [
    "-----"
   ]
  },
  {
   "cell_type": "markdown",
   "id": "421550a3",
   "metadata": {},
   "source": [
    "### Graphical Method: FOPDT to Step Test\n",
    "\n",
    "See also [here](https://apmonitor.com/pdc/index.php/Main/FirstOrderGraphical)"
   ]
  },
  {
   "cell_type": "markdown",
   "id": "05adece4",
   "metadata": {},
   "source": [
    "Step test data are convenient for identifying an FOPDT model through a graphical fitting method. Follow the following steps when fitting the parameters $K_p$, $\\tau_p$, $\\theta_p$ to a step response:\n",
    "\n",
    "\n",
    "- Find $\\Delta y$ from step response.\n",
    "- Find $\\Delta u$ from step response.\n",
    "- Calculate $K_p = \\frac{\\Delta y}{\\Delta u}=\\frac{3.0}{1.0}$ \n",
    "- Find $\\theta_p$ apparent dead time, from step response: draw the tangent in the output curve, and compare when the tangent crosses the x-axis to when the input started. In our case it seems approximately $2.5s$\n",
    "\n",
    "- Find $0.632\\Delta y$ from step response. In our case: 1.9\n",
    "- Find $t_{0.632}$ for $y(t_{0.632}) = 0.632\\Delta y$ from step response.\n",
    "\n",
    "- Calculate $\\tau_p = t_{0.632} - \\theta_p = 6.8 - 4.5 = 2.3 s$. This assumes that the step starts at $t = 0$. If the step happens later, subtract the step time as well.\n",
    "\n"
   ]
  },
  {
   "cell_type": "code",
   "execution_count": null,
   "id": "2e170e5c",
   "metadata": {},
   "outputs": [],
   "source": [
    "import numpy as np\n",
    "from scipy.integrate import odeint\n",
    "from scipy.interpolate import interp1d\n",
    "\n",
    "import matplotlib.pyplot as plt"
   ]
  },
  {
   "cell_type": "code",
   "execution_count": null,
   "id": "0ed0ee20",
   "metadata": {},
   "outputs": [],
   "source": [
    "def process_model(y, t, system_order, input_value, gain, time_constant):\n",
    "    \"\"\"\n",
    "    Simulate a higher-order process.\n",
    "\n",
    "    Parameters:\n",
    "    y            : Current output values of the system.\n",
    "    t            : Current time.\n",
    "    system_order : Order of the system.\n",
    "    input_value  : Current input value to the system.\n",
    "    gain         : Process gain.\n",
    "    time_constant: Process time constant.\n",
    "\n",
    "    Returns:\n",
    "    dydt : Derivative of the system output.\n",
    "    \"\"\"\n",
    "    dydt = np.zeros(system_order)\n",
    "    dydt[0] = (-y[0] + gain * input_value) / (time_constant / system_order)\n",
    "    for i in range(1, system_order):\n",
    "        dydt[i] = (-y[i] + y[i-1]) / (time_constant / system_order)\n",
    "    return dydt\n",
    "\n",
    "def fopdt_model(y, t, input_func, model_gain, model_time_constant, model_delay):\n",
    "    \"\"\"\n",
    "    First-Order Plus Dead-Time (FOPDT) approximation of a process.\n",
    "\n",
    "    Parameters:\n",
    "    y                  : Current output value of the model.\n",
    "    t                  : Current time.\n",
    "    input_func         : Function to interpolate input values over time.\n",
    "    model_gain         : Model gain.\n",
    "    model_time_constant: Model time constant.\n",
    "    model_delay        : Model delay time.\n",
    "\n",
    "    Returns:\n",
    "    dydt : Derivative of the model output.\n",
    "    \"\"\"\n",
    "    # Handle input value with respect to delay\n",
    "    try:\n",
    "        if t - model_delay <= 0:\n",
    "            input_value = input_func(0.0)\n",
    "        else:\n",
    "            input_value = input_func(t - model_delay)\n",
    "    except:\n",
    "        input_value = 0\n",
    "\n",
    "    dydt = (-y + model_gain * input_value) / model_time_constant\n",
    "    return dydt\n",
    "\n",
    "# Simulation setup\n",
    "ns = 40  # Number of steps\n",
    "t = np.linspace(0, 16, ns+1)  # Define time points\n",
    "delta_t = t[1] - t[0]  # Time step size\n",
    "u = np.zeros(ns+1)  # Initialize input vector\n",
    "u[5:] = 1.0  # Set input to 1.0 starting from t=5\n",
    "\n",
    "# Create a function to interpolate input values over time\n",
    "uf = interp1d(t, u)\n",
    "\n",
    "def simulate_process_data():\n",
    "    \"\"\"\n",
    "    Simulate data from a higher-order process for comparison with the FOPDT model.\n",
    "    \n",
    "    Returns:\n",
    "    yp : Simulated process output over time.\n",
    "    \"\"\"\n",
    "    # Process parameters\n",
    "    n = 10  # Order of the system\n",
    "    Kp = 3.0  # Gain\n",
    "    taup = 5.0  # Time constant\n",
    "    \n",
    "    yp = np.zeros(ns+1)  # Initialize storage for process outputs\n",
    "    for i in range(1, ns+1):\n",
    "        if i == 1:\n",
    "            yp0 = np.zeros(n)  # Initial condition\n",
    "        ts = [delta_t * (i-1), delta_t * i]  # Time span for this step\n",
    "        y = odeint(process_model, yp0, ts, args=(n, u[i], Kp, taup))\n",
    "        yp0 = y[-1]  # Update initial condition for the next step\n",
    "        yp[i] = y[1][n-1]  # Store the last output\n",
    "    return yp\n",
    "\n",
    "yp = simulate_process_data()\n",
    "\n",
    "def simulate_fopdt_model(Km, taum, thetam):\n",
    "    \"\"\"\n",
    "    Simulate the FOPDT model based on given parameters.\n",
    "\n",
    "    Parameters:\n",
    "    Km     : Model gain.\n",
    "    taum   : Model time constant.\n",
    "    thetam : Model delay time.\n",
    "\n",
    "    Returns:\n",
    "    ym : Simulated model output over time.\n",
    "    \"\"\"\n",
    "    ym = np.zeros(ns+1)  # Initialize model output storage\n",
    "    ym[0] = 0  # Initial condition\n",
    "    for i in range(1, ns+1):\n",
    "        ts = [delta_t * (i-1), delta_t * i]  # Time span for this step\n",
    "        y1 = odeint(fopdt_model, ym[i-1], ts, args=(uf, Km, taum, thetam))\n",
    "        ym[i] = y1[-1][0]  # Corrected to ensure a scalar is assigned to ym[i]\n",
    "    return ym\n",
    "\n"
   ]
  },
  {
   "cell_type": "code",
   "execution_count": null,
   "id": "7f3a28d3",
   "metadata": {},
   "outputs": [],
   "source": [
    "# Update model parameters for simulation\n",
    "Km = 2.5  # Model gain\n",
    "taum = 3.0  # Model time constant\n",
    "thetam = 5.0  # Model delay\n",
    "\n",
    "# Simulate FOPDT model with the updated parameters\n",
    "ym = simulate_fopdt_model(Km, taum, thetam)"
   ]
  },
  {
   "cell_type": "code",
   "execution_count": null,
   "id": "0176fe80",
   "metadata": {},
   "outputs": [
    {
     "data": {
      "image/png": "[encoded data removed]",
      "text/plain": [
       "<Figure size 1000x800 with 2 Axes>"
      ]
     },
     "metadata": {},
     "output_type": "display_data"
    }
   ],
   "source": [
    "\n",
    "\n",
    "# Start plotting the results\n",
    "plt.figure(figsize=(10, 8))  # Create a new figure with a specified size\n",
    "\n",
    "# Plot the first subplot showing output comparison\n",
    "plt.subplot(2, 1, 1)  # Create a subplot in a 2x1 grid, position 1\n",
    "plt.plot(t, ym, 'r--', linewidth=3, label='FOPDT Model Fit')  # Plot the FOPDT model output\n",
    "plt.plot(t, yp, 'kx-', linewidth=2, label='Process Data')  # Plot the simulated process data\n",
    "plt.ylabel('Output')  # Label the y-axis\n",
    "plt.legend(loc='best')  # Show a legend in the best location\n",
    "plt.title('Model Fit vs. Process Data')  # Title for the subplot\n",
    "\n",
    "# Plot the second subplot showing input data\n",
    "plt.subplot(2, 1, 2)  # Create a subplot in a 2x1 grid, position 2\n",
    "plt.plot(t, u, 'bx-', linewidth=2, label='Measured Input')  # Plot the measured input data\n",
    "plt.plot(t, uf(t), 'r--', linewidth=3, label='Interpolated Input')  # Plot the interpolated input data\n",
    "plt.legend(loc='best')  # Show a legend in the best location\n",
    "plt.ylabel('Input Data')  # Label the y-axis\n",
    "plt.xlabel('Time')  # Label the x-axis with 'Time'\n",
    "\n",
    "# Display the plot\n",
    "plt.show()\n"
   ]
  },
  {
   "cell_type": "code",
   "execution_count": null,
   "id": "a9c42dd7",
   "metadata": {},
   "outputs": [],
   "source": []
  }
 ],
 "metadata": {
  "kernelspec": {
   "display_name": "python3",
   "language": "python",
   "name": "python3"
  }
 },
 "nbformat": 4,
 "nbformat_minor": 5
}
