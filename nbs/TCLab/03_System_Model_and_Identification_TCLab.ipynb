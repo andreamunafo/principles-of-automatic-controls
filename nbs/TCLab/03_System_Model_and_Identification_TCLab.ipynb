{
 "cells": [
  {
   "cell_type": "markdown",
   "id": "13c98243",
   "metadata": {},
   "source": [
    "# System Modeling\n",
    "\n",
    "Before jumping into control design, it's essential to understand the physics of the system, including heat transfer mechanisms: conduction, radiation, and (to a lesser extent in space) convection.\n",
    "\n",
    "## Reference materials\n",
    "\n",
    "* Alizadeh, Esmaeil. \"A Guide to Non-Minimum Phase Systems.\" *Towards Data Science.* https://ealizadeh.com/blog/non-minimum-phase-systems/. Accessed 6 Decewmber 2020."
   ]
  },
  {
   "cell_type": "markdown",
   "id": "14989565",
   "metadata": {},
   "source": [
    "### Heat Transfer Mechanisms Explained\n",
    "\n",
    "- **Conduction**: Heat flow through direct physical contact, significant in our system due to connections between the heater, battery, and spacecraft structure.\n",
    "- **Radiation**: Transfer of heat through electromagnetic waves, relevant due to exposure to the sun and deep space.\n",
    "- **Convection**: Less relevant in the vacuum of space, but a factor to consider during earth-based testing.\n",
    "\n",
    "<table>\n",
    "    <tr>\n",
    "    <td>\n",
    "        <img src=\"./pics/tclab_conductive.png\" alt=\"tclab_conductive\" style=\"width: 450px;\"/>    \n",
    "    </td>\n",
    "    </tr>\n",
    "</table> "
   ]
  },
  {
   "cell_type": "markdown",
   "id": "271f2f22",
   "metadata": {},
   "source": [
    "## First block diagram - how accurate it is?\n",
    "\n",
    "\n",
    "<table>\n",
    "    <tr>\n",
    "    <td>\n",
    "        <img src=\"./pics/tclab_block_diagram-1.png\" alt=\"tclab_block_diagram-1\" style=\"width: 450px;\"/>    \n",
    "    </td>\n",
    "    </tr>\n",
    "</table> \n"
   ]
  },
  {
   "cell_type": "markdown",
   "id": "37fc1869",
   "metadata": {},
   "source": [
    "### Detailed Explanation of Heat Transfer Mechanisms\n",
    "\n",
    "#### **Conduction**\n",
    "\n",
    "Conduction is the transfer of heat through direct physical contact. In a spacecraft, this occurs when molecules or atoms in a high-temperature region vibrate intensely and pass on their energy to neighboring particles in a lower temperature area. \n",
    "\n",
    "- **Importance in Spacecraft**: In our satellite thermal control system, conduction is crucial as it enables the transfer of heat from the heater to the battery and then to the spacecraft's structure. This mechanism is integral in maintaining the temperatures within operational limits.\n",
    "  \n",
    "- **Example**: Imagine holding one end of a metal rod over a flame. Gradually, heat travels along the rod, making the distant end warm. This is similar to how heat conducts from the heater through the battery in our system.\n",
    "\n",
    "#### **Radiation**\n",
    "\n",
    "Radiation refers to the transfer of heat in the form of electromagnetic waves. It doesn't require a medium to travel through, making it a primary mode of heat transfer in space.\n",
    "\n",
    "- **Role in Spacecraft**: In the context of a spacecraft, radiation is significant for two reasons. Firstly, it accounts for the heat gain from the Sun, as solar radiation directly impacts parts of the satellite. Secondly, it is the method by which the spacecraft loses heat to the coldness of deep space.\n",
    "  \n",
    "- **Example**: The warmth you feel when standing in sunlight is due to radiant heat transfer. The Sun's heat travels through the vacuum of space and warms you via radiation.\n",
    "\n",
    "#### **Convection**\n",
    "\n",
    "Convection is the transfer of heat by the physical movement of a fluid (such as air or liquid). It involves the circulation or movement of particles within the fluid, where hot particles move to cooler areas and vice versa.\n",
    "\n",
    "- **Relevance in Spacecraft Testing**: While convection is not a heat transfer mechanism in the vacuum of space, it becomes significant during Earth-based testing of spacecraft systems. Here, the presence of air around the spacecraft allows for convective heat transfer, which can affect the performance and testing outcomes of thermal control systems.\n",
    "  \n",
    "- **Example**: When you heat water in a pot, the water at the bottom, nearest to the heat source, becomes hot and rises, while cooler water moves down to replace it, creating a circular motion. This process of heat transfer through the movement of fluid is convection.\n",
    "\n",
    "Understanding these heat transfer mechanisms is important for effectively managing the thermal environment of a spacecraft. It ensures that the onboard systems operate within their temperature tolerances, thereby enhancing the satellite's overall performance and longevity."
   ]
  },
  {
   "cell_type": "markdown",
   "id": "2afb69db",
   "metadata": {},
   "source": [
    "----"
   ]
  },
  {
   "cell_type": "markdown",
   "id": "fc956014",
   "metadata": {},
   "source": [
    "# System Identification"
   ]
  },
  {
   "cell_type": "markdown",
   "id": "a5248030",
   "metadata": {},
   "source": [
    "### Importance of Accurate Modeling\n",
    "\n",
    "Accurate system modeling is crucial for effective controller design. It involves understanding the dynamics of the system and its response to inputs, which is particularly important for PID controller tuning.\n",
    "\n",
    "1. **Step Response Analysis**: Conducting a step response experiment to gather data for system identification.\n",
    "2. **Fitting a Transfer Function**: Using the gathered data to fit a first-order plus dead time (FOPDT) model, which includes gain, time constant, and delay.\n",
    "\n",
    "    - *Insert MATLAB Code Example*: Code to fit an FOPDT model to the step response data.\n",
    "\n",
    "### Iterative Design Process\n",
    "\n",
    "The design process is iterative, involving tweaking and improving the controller based on system response. This approach emphasizes the non-linear and exploratory nature of engineering problem-solving.\n",
    "\n",
    "\n"
   ]
  },
  {
   "cell_type": "markdown",
   "id": "3c9ba1c9",
   "metadata": {},
   "source": [
    "# Section 2: Dynamic Modeling\n",
    "\n",
    "## 2.1 Introduction to Dynamic Modeling\n",
    "\n",
    "- **Definition**: Explain the concept of dynamic modeling in control systems.\n",
    "- **Importance**: Discuss how dynamic modeling helps predict system behavior over time.\n",
    "- **Mathematical Representation**: Introduce differential equations as a tool for dynamic modeling.\n",
    "\n",
    "## 2.2 Mathematical Foundation\n",
    "\n",
    "- **Differential Equations**: Detailed explanation of differential equations in the context of control systems.\n",
    "- **Balance Equations**: Explain balance equations for energy, mass, etc., in system modeling.\n",
    "\n",
    "## 2.3 TCLab's Simplified Dynamic Model\n",
    "\n",
    "- **Equation**: Present the simplified model of TCLab:\n",
    "    $$\\tau_p \\frac{dT}{dt} = \\left(T_a-T\\right) + K_p \\, Q$$\n",
    "- **Explanation**: Break down the equation, explaining each term in detail.\n",
    "- **Physical Interpretation**: Use metaphors, like comparing the heat transfer to water flowing in and out of a tank, to explain the concept.\n",
    "\n",
    "**[Insert Graphical Representation Here]**\n",
    "\n",
    "---"
   ]
  },
  {
   "cell_type": "markdown",
   "id": "421550a3",
   "metadata": {},
   "source": [
    "\n",
    "\n",
    "# Section 3: Step Response Experiment\n",
    "\n",
    "## 3.1 Concept of Step Response\n",
    "\n",
    "- **Definition**: Explain what step response is and its significance in control systems.\n",
    "\n",
    "## 3.2 Conducting the Experiment\n",
    "\n",
    "- **Objective**: State the experiment's purpose.\n",
    "- **Procedure**: Step-by-step guide to perform the step response experiment using TCLab.\n",
    "- **Python Code for Data Collection**: Include a Python script to collect data from TCLab.\n",
    "\n",
    "    ```python\n",
    "    # [Insert Python Code Here for Step Response Experiment]\n",
    "    ```\n",
    "\n",
    "---\n",
    "\n",
    "# Section 4: Data Analysis and Simulation\n",
    "\n",
    "## 4.1 Analyzing the Data\n",
    "\n",
    "- **Plotting the Data**: Guide on plotting the collected data using matplotlib in Python.\n",
    "- **Interpreting Results**: Discuss how to interpret the results from the experiment.\n",
    "\n",
    "**[Insert Example Plot Here]**\n",
    "\n",
    "## 4.2 Simulation of the System\n",
    "\n",
    "- **Objective**: Explain the purpose of simulating TCLab's behavior.\n",
    "- **Python Code for Simulation**: Provide a script for simulating TCLab's response using the `odeint` function or GEKKO.\n",
    "\n",
    "    ```python\n",
    "    # [Insert Python Code Here for Simulation]\n",
    "    ```\n",
    "\n",
    "**[Insert Simulation Results Graph Here]**"
   ]
  }
 ],
 "metadata": {
  "kernelspec": {
   "display_name": "python3",
   "language": "python",
   "name": "python3"
  }
 },
 "nbformat": 4,
 "nbformat_minor": 5
}
