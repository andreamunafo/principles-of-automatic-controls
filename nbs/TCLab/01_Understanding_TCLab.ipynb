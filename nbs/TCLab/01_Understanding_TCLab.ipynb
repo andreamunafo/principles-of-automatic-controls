{
 "cells": [
  {
   "cell_type": "markdown",
   "id": "f7c59879",
   "metadata": {},
   "source": [
    "# Understanding TCLab"
   ]
  },
  {
   "cell_type": "markdown",
   "id": "f91271aa",
   "metadata": {},
   "source": [
    "# The TCLab Python Package\n",
    "\n",
    "The accompanying diagram shows how to access the temperature contol laboratory using the TCLab library.\n",
    "\n",
    "<img src='./pics/B.00-TCLabOverview.png' style=\"float: right;padding-left:30px;\"></img>\n",
    "\n",
    "**_Jupyter notebooks and Python scripts:_**\n",
    "The highest level consists of the you code you write to implement control algorithms. This can be done in Jupyter/Python notebooks, directly from Python using a development environment such as Spyder or PyCharm. This repository contains several examples, lessons, and student projects.\n",
    "\n",
    "**_TCLab:_**\n",
    "[TCLab](https://github.com/jckantor/TCLab) consists of a Python library entitled `tclab` that provides high-level access to sensors, heaters, a pseudo-realtime clock. The package includes `TCLab()` class that creates an object to access to the device, an iterator `clock` for synchronizing with a real time clock, `Historian()` class to create objects for data logging, and a `Plotter()` class to visualize data in realtime.\n",
    "\n",
    "**_TCLab-sketch:_**\n",
    "The [TCLab-sketch](https://github.com/jckantor/TCLab-sketch) github repository provides firmware to ensure intrisically safe operation of the Arduino board and shield. The sketch is downloaded to the Arduino using the [Arduino IDE](https://www.arduino.cc/en/Main/Software). Loading firmware to the Arduino is a one-time operation. \n",
    "\n",
    "**_Arduino:_**\n",
    "The hardware platform for the Temperature Control Laboratory. The Python tools and libraries have been tested with the Arduino Uno and Arduino Leonardo boards.\n",
    "\n",
    "_From: [CBE32338](https://jckantor.github.io/CBE32338/)_"
   ]
  },
  {
   "cell_type": "markdown",
   "id": "c3fff7e8",
   "metadata": {},
   "source": [
    "## The Core Components of TCLab\n",
    "\n",
    "<img src='pics/tclab_heater.png' style=\"float: right; padding-left:0px; width:500px;\"></img>\n",
    "<img src='pics/tclab_temperature_sensor.png' style=\"float: right; padding-left:0px; width:500px;\"></img>\n",
    "<img src='pics/tclab_radiator.png' style=\"float: right; padding-left:0px; width:500px;\"></img>\n",
    "\n",
    "The Temperature Control Lab (TCLab) is an integrated system composed of several key components, each contributing significantly to its functionality:\n",
    "\n",
    "1. **Arduino Microcontroller**: \n",
    "   - **Purpose**: Serves as the central processing unit for the TCLab.\n",
    "   - **Functionality**: Processes input data from temperature sensors and manages the operation of heaters.\n",
    "   - **Connectivity**: Utilizes a USB connection for data transfer and allows for real-time control through Python scripts.\n",
    "\n",
    "2. **Heaters**: \n",
    "   - **Description**: TCLab features two heaters, each capable of generating adjustable thermal energy.\n",
    "   - **Role**: Act as the main heat sources for experiments, replicating scenarios requiring temperature regulation. They function as the system's **actuators**.\n",
    "\n",
    "3. **Temperature Sensors**: \n",
    "   - **Type**: These sensors are thermistors, a kind of resistor whose resistance varies with temperature changes.\n",
    "   - **Measurement Range**: Capable of measuring temperatures ranging from $-40^\\circ$C to $150^\\circ$C.\n",
    "   - **Functionality**: Positioned near each heater to accurately measure temperature, providing essential feedback for temperature control.\n",
    "\n",
    "4. **Heat Sinks**: \n",
    "   - **Type**: Comprised of transistor heat sinks.\n",
    "   - **Purpose**: Employed to efficiently dissipate heat away from the transistors.\n",
    "   \n",
    "5. **LED (Light Emitting Diode)**: \n",
    "  - **Purpose**: Serves as a visual indicator for various states or actions, such as signaling the activation of a heater.   \n",
    "\n",
    "### Operational Configurations of TCLab\n",
    "\n",
    "TCLab can be configured in various modes depending on the educational objectives:\n",
    "\n",
    "1. **Single Input Single Output (SISO)**:\n",
    "   - Utilizes only one heater and one sensor. Ideal for simple control experiments and learning the basics of temperature control.\n",
    "\n",
    "2. **Single Input Single Output (SISO) with Disturbance**:\n",
    "   - Employs one heater/sensor as the primary control system and the second heater as a source of external disturbance. This setup is useful for understanding how external factors influence control systems.\n",
    "\n",
    "3. **Multiple Inputs Multiple Outputs (MIMO)**:\n",
    "   - Involves using both heaters and sensors simultaneously. This more advanced configuration isn't covered here but is valuable for complex control system studies.\n",
    "\n",
    "Each component of the TCLab plays a specific role, making it a versatile tool for teaching and experimenting with various aspects of control engineering. Whether for fundamental learning or advanced exploration, TCLab offers a practical platform for understanding the dynamics and control of temperature-based systems."
   ]
  },
  {
   "cell_type": "markdown",
   "id": "c5442d35",
   "metadata": {},
   "source": [
    "## How TCLab Works\n",
    "\n",
    "- **Operation Flow**:\n",
    "  1. **Input Signal**: A Python script sends a command to the Arduino, setting the desired power level for the heaters.\n",
    "  2. **Heating Action**: The heaters generate heat corresponding to the received power level commands.\n",
    "  3. **Temperature Measurement**: The thermistors measure the resulting temperatures near the heaters.\n",
    "  4. **Feedback Loop**: These temperature readings are sent back to the computer.\n",
    "  5. **Adjustments**: The control algorithm in the Python script adjusts the heater power based on the temperature feedback, striving to reach and maintain a target temperature.\n",
    "\n",
    "**[Insert Flowchart or Diagram Showing the Feedback Loop Here]**\n",
    "\n",
    "---"
   ]
  },
  {
   "cell_type": "markdown",
   "id": "a554e7bc",
   "metadata": {},
   "source": [
    "\n",
    "## TCLab Schematics\n",
    "\n",
    "<table>\n",
    "    <tr>\n",
    "    <td>\n",
    "        <img src=\"./pics/tclab_schematic.png\" alt=\"tclab_schematic\" style=\"width: 450px;\"/>    \n",
    "    </td>\n",
    "    </tr>\n",
    "</table>\n",
    "\n"
   ]
  },
  {
   "cell_type": "markdown",
   "id": "8a31bde2",
   "metadata": {},
   "source": [
    "# Setting Up TCLab\n",
    "\n",
    "\n",
    "This guide provides step-by-step instructions for setting up the Temperature Control Lab (TCLab), starting from installing Python on different operating systems to conducting initial tests with TCLab and its simulator."
   ]
  },
  {
   "cell_type": "markdown",
   "id": "4c927833",
   "metadata": {},
   "source": [
    "## Section 1: Installing Python Using Conda"
   ]
  },
  {
   "cell_type": "markdown",
   "id": "75f2b46e",
   "metadata": {},
   "source": [
    "## Installing Python on Mac\n",
    "\n",
    "### Step 1: Install Anaconda\n",
    "\n",
    "- **Download Anaconda**: Visit the [Anaconda Download Page](https://www.anaconda.com/products/individual) and download the installer for Mac.\n",
    "- **Run Installer**: Open the downloaded file and follow the on-screen instructions.\n",
    "- **Verify Installation**:\n",
    "  - Open Terminal.\n",
    "  - Type `conda --version` and press Enter. If Anaconda is successfully installed, you'll see the version number.\n",
    "\n",
    "### Step 2: Set Up Environment (Optional)\n",
    "\n",
    "- **Create a New Environment**: In Terminal, type `conda create -n tclab_env python=3.8` and press Enter.\n",
    "- **Activate Environment**: Type `conda activate tclab_env` and press Enter."
   ]
  },
  {
   "cell_type": "markdown",
   "id": "a0d0653b",
   "metadata": {},
   "source": [
    "## Installing Python on Windows\n",
    "\n",
    "### Step 1: Install Anaconda\n",
    "\n",
    "- **Download Anaconda**: Visit the [Anaconda Download Page](https://www.anaconda.com/products/individual) and download the installer for Windows.\n",
    "- **Run Installer**: Open the downloaded file and follow the on-screen instructions.\n",
    "- **Verify Installation**:\n",
    "  - Open Anaconda Prompt.\n",
    "  - Type `conda --version` and press Enter.\n",
    "\n",
    "### Step 2: Set Up Environment (Optional)\n",
    "\n",
    "- **Create a New Environment**: In Anaconda Prompt, type `conda create -n tclab_env python=3.8` and press Enter.\n",
    "- **Activate Environment**: Type `conda activate tclab_env` and press Enter."
   ]
  },
  {
   "cell_type": "markdown",
   "id": "a4435627",
   "metadata": {},
   "source": [
    "## Installing Python on Linux\n",
    "\n",
    "### Step 1: Install Anaconda\n",
    "\n",
    "- **Download Anaconda**: Visit the [Anaconda Download Page](https://www.anaconda.com/products/individual) and download the installer for Linux.\n",
    "- **Run Installer**: Open Terminal, navigate to the directory containing the downloaded file, and run the script using `bash Anaconda3-XXXX.sh`.\n",
    "- **Verify Installation**:\n",
    "  - In Terminal, type `conda --version`.\n",
    "\n",
    "### Step 2: Set Up Environment (Optional)\n",
    "\n",
    "- **Create a New Environment**: In Terminal, type `conda create -n tclab_env python=3.8` and press Enter.\n",
    "- **Activate Environment**: Type `conda activate tclab_env` and press Enter."
   ]
  },
  {
   "cell_type": "markdown",
   "id": "b9e27af2",
   "metadata": {},
   "source": [
    "---"
   ]
  },
  {
   "cell_type": "markdown",
   "id": "d66f204d",
   "metadata": {},
   "source": [
    "# Section 2: Setting Up TCLab\n"
   ]
  },
  {
   "cell_type": "markdown",
   "id": "7091fd8b",
   "metadata": {},
   "source": [
    "## Setting Up the Conda Environment\n",
    "\n",
    "To set up the Conda environment for this course, follow these steps:\n",
    "\n",
    "1. Download the `tclab_environment.yml` file from this repository.\n",
    "2. Open your terminal or Anaconda Prompt and navigate to the directory where the file is located.\n",
    "\n",
    "The file `tclab_environment.yml` looks like this:\n",
    "\n",
    "```     tclab_environment.yml\n",
    "name: tclab_env\n",
    "channels:\n",
    "  - defaults\n",
    "dependencies:\n",
    "  - python=3.10\n",
    "  - pip\n",
    "  - numpy\n",
    "  - matplotlib\n",
    "  - scipy\n",
    "  - pandas\n",
    "  - pip:\n",
    "    - tclab\n",
    "```\n",
    "\n",
    "\n",
    "3. Create the environment from the `tclab_environment.yml` file:\n",
    "\n",
    "    ```conda env create -f tclab_environment.yml```\n",
    "\n",
    "4. Activate the new environment:\n",
    "    \n",
    "    ```conda activate tclab```\n",
    "    \n",
    "5. To verify that the environment was installed correctly, you can use:\n",
    "\n",
    "    ```conda env list```"
   ]
  },
  {
   "cell_type": "markdown",
   "id": "f3698c0d",
   "metadata": {},
   "source": [
    "### Installing the TCLab Package\n",
    "\n",
    "1. **Activating the Environment**:\n",
    "   - Ensure your Anaconda environment is active. Open your Terminal (or Anaconda Prompt on Windows) and activate your environment:\n",
    "     ```\n",
    "     conda activate tclab_env\n",
    "     ```\n",
    "\n",
    "2. **Installing TCLab**:\n",
    "   - The `tclab` library interfaces with the Temperature Control Lab hardware. Install it by entering the following command from a window (MacOS) or command window (PC):\n",
    "     ```\n",
    "     pip install tclab\n",
    "     ```\n",
    "   - Press Enter to execute the command and complete the installation.\n",
    "   \n",
    "\n",
    "    Alternatively, the installation can be performed from within a Jupyter/Python notebook with the command\n",
    "\n",
    "    ```\n",
    "    !pip install tclab\n",
    "    ```\n",
    "\n",
    "    There are occasional updates to the library. These can be installed by appending a ` --upgrade` to the above commands and demonstrated in the next cell."
   ]
  },
  {
   "cell_type": "code",
   "execution_count": null,
   "id": "7735a7f6",
   "metadata": {},
   "outputs": [
    {
     "name": "stdout",
     "output_type": "stream",
     "text": [
      "Requirement already satisfied: tclab in /Users/andreamunafo/opt/anaconda3/envs/tclab/lib/python3.10/site-packages (1.0.0)\n",
      "Requirement already satisfied: pyserial in /Users/andreamunafo/opt/anaconda3/envs/tclab/lib/python3.10/site-packages (from tclab) (3.5)\n"
     ]
    }
   ],
   "source": [
    "!pip install tclab --upgrade"
   ]
  },
  {
   "cell_type": "markdown",
   "id": "9696054a",
   "metadata": {},
   "source": [
    "#### Installing Additional Useful Libraries\n",
    "\n",
    "For a comprehensive experience with TCLab and to support various aspects of control engineering and data analysis, the following libraries will also be installed:\n",
    "\n",
    "1. **numpy**:\n",
    "   - Significance: A fundamental library for numerical computations in Python.\n",
    "   - Installation Command:\n",
    "     ```\n",
    "     pip install numpy\n",
    "     ```\n",
    "\n",
    "2. **matplotlib**:\n",
    "   - Significance: Crucial for creating visual representations of data, especially for the analysis of TCLab experiments.\n",
    "   - Installation Command:\n",
    "     ```\n",
    "     pip install matplotlib\n",
    "     ```\n",
    "\n",
    "3. **scipy**:\n",
    "   - Significance: Provides a broad range of tools for scientific computing, including methods for solving ordinary differential equations, useful in system modeling.\n",
    "   - Installation Command:\n",
    "     ```\n",
    "     pip install scipy\n",
    "     ```\n",
    "\n",
    "4. **pandas**:\n",
    "   - Significance: Offers extensive features for data manipulation and analysis, ideal for handling complex datasets.\n",
    "   - Installation Command:\n",
    "     ```\n",
    "     pip install pandas\n",
    "     ```\n",
    "\n",
    "5. **gekko**:\n",
    "   - Significance: Advanced package for optimization and control, suitable for implementing model predictive control strategies.\n",
    "   - Installation Command:\n",
    "     ```\n",
    "     pip install gekko\n",
    "     ```"
   ]
  },
  {
   "cell_type": "markdown",
   "id": "7c88050a",
   "metadata": {},
   "source": [
    "## Initial Tests with TCLab\n",
    "\n",
    "### Step 1: Connect TCLab\n",
    "\n",
    "- **Connect TCLab**: Plug in the TCLab device to your computer using a USB cable.\n",
    "\n",
    "### Step 2: Test TCLab Connection\n",
    "\n",
    "- **Write Test Script**:\n",
    "  - Open your Python IDE or Jupyter Notebook.\n",
    "  - Write the following Python code and run the script. If it prints the temperature, TCLab is connected properly."
   ]
  },
  {
   "cell_type": "code",
   "execution_count": null,
   "id": "457ddd4c",
   "metadata": {},
   "outputs": [],
   "source": [
    "import tclab\n",
    "with tclab.TCLab() as lab:\n",
    "    print(f\"Connected! Heater 1 is at {lab.T1}°C\")"
   ]
  },
  {
   "cell_type": "markdown",
   "id": "afdb157d",
   "metadata": {},
   "source": [
    "## Using TCLab Simulator\n",
    "\n",
    "- **Why Use a Simulator**: The TCLab simulator is useful when you don't have the physical hardware available.\n",
    "- **Install Simulator**: In Terminal or Anaconda Prompt, type `pip install tclab` again (it includes the simulator).\n",
    "- **Test Script with Simulator**:\n",
    "\n",
    "    "
   ]
  },
  {
   "cell_type": "code",
   "execution_count": null,
   "id": "3bdb3466",
   "metadata": {},
   "outputs": [
    {
     "name": "stdout",
     "output_type": "stream",
     "text": [
      "TCLab version 1.0.0\n",
      "Simulated TCLab\n",
      "Time 0 seconds. T1: 20.949499999999997°C\n",
      "Time 2.01 seconds. T1: 20.949499999999997°C\n",
      "Time 4.04 seconds. T1: 20.949499999999997°C\n",
      "Time 6.03 seconds. T1: 20.949499999999997°C\n",
      "Time 8.06 seconds. T1: 20.949499999999997°C\n",
      "Time 10.07 seconds. T1: 20.949499999999997°C\n",
      "Time 12.02 seconds. T1: 20.949499999999997°C\n",
      "Time 14.03 seconds. T1: 20.949499999999997°C\n",
      "Time 16.15 seconds. T1: 20.949499999999997°C\n",
      "Time 18.04 seconds. T1: 20.949499999999997°C\n",
      "Time 20.2 seconds. T1: 20.949499999999997°C\n",
      "Time 22.01 seconds. T1: 20.949499999999997°C\n",
      "Time 24.19 seconds. T1: 20.949499999999997°C\n",
      "Time 26.24 seconds. T1: 20.949499999999997°C\n",
      "Time 28.16 seconds. T1: 20.949499999999997°C\n",
      "Time 30.03 seconds. T1: 20.949499999999997°C\n",
      "Time 32.12 seconds. T1: 20.949499999999997°C\n",
      "Time 34.2 seconds. T1: 20.6272°C\n",
      "Time 36.04 seconds. T1: 20.949499999999997°C\n",
      "Time 38.02 seconds. T1: 20.6272°C\n",
      "Time 40.21 seconds. T1: 20.949499999999997°C\n",
      "Time 42.14 seconds. T1: 20.949499999999997°C\n",
      "Time 44.01 seconds. T1: 20.6272°C\n",
      "Time 46.3 seconds. T1: 20.949499999999997°C\n",
      "Time 48.22 seconds. T1: 20.949499999999997°C\n",
      "Time 50.07 seconds. T1: 20.949499999999997°C\n",
      "Time 52.27 seconds. T1: 20.949499999999997°C\n",
      "Time 54.09 seconds. T1: 20.949499999999997°C\n",
      "Time 56.28 seconds. T1: 20.949499999999997°C\n",
      "Time 58.19 seconds. T1: 20.949499999999997°C\n",
      "Time 60.04 seconds. T1: 20.949499999999997°C\n",
      "Time 62.2 seconds. T1: 20.949499999999997°C\n",
      "Time 64.11 seconds. T1: 20.949499999999997°C\n",
      "Time 66.08 seconds. T1: 20.949499999999997°C\n",
      "Time 68.23 seconds. T1: 20.6272°C\n",
      "Time 70.13 seconds. T1: 20.949499999999997°C\n",
      "Time 72.07 seconds. T1: 20.949499999999997°C\n",
      "Time 74.05 seconds. T1: 20.949499999999997°C\n",
      "Time 76.1 seconds. T1: 20.6272°C\n",
      "Time 78.1 seconds. T1: 20.6272°C\n",
      "Time 80.22 seconds. T1: 20.949499999999997°C\n",
      "Time 82.28 seconds. T1: 20.949499999999997°C\n",
      "Time 84.22 seconds. T1: 20.949499999999997°C\n",
      "Time 86.16 seconds. T1: 20.949499999999997°C\n",
      "Time 88.23 seconds. T1: 20.949499999999997°C\n",
      "Time 90.0 seconds. T1: 20.949499999999997°C\n",
      "Time 92.27 seconds. T1: 20.949499999999997°C\n",
      "Time 94.0 seconds. T1: 20.949499999999997°C\n",
      "Time 96.16 seconds. T1: 20.949499999999997°C\n",
      "Time 98.02 seconds. T1: 20.949499999999997°C\n",
      "Time 100.1 seconds. T1: 20.949499999999997°C\n",
      "Time 102.24 seconds. T1: 20.949499999999997°C\n",
      "Time 104.0 seconds. T1: 20.6272°C\n",
      "Time 106.18 seconds. T1: 20.949499999999997°C\n",
      "Time 108.27 seconds. T1: 20.949499999999997°C\n",
      "Time 110.27 seconds. T1: 20.949499999999997°C\n",
      "Time 112.1 seconds. T1: 20.949499999999997°C\n",
      "Time 114.22 seconds. T1: 20.949499999999997°C\n",
      "Time 116.24 seconds. T1: 20.949499999999997°C\n",
      "Time 118.18 seconds. T1: 20.949499999999997°C\n",
      "Time 120.19 seconds. T1: 20.949499999999997°C\n",
      "Time 122.06 seconds. T1: 20.949499999999997°C\n",
      "Time 124.22 seconds. T1: 20.6272°C\n",
      "Time 126.19 seconds. T1: 20.949499999999997°C\n",
      "Time 128.18 seconds. T1: 20.949499999999997°C\n",
      "Time 130.25 seconds. T1: 20.949499999999997°C\n",
      "Time 132.02 seconds. T1: 20.6272°C\n",
      "Time 134.2 seconds. T1: 20.949499999999997°C\n",
      "Time 136.27 seconds. T1: 20.949499999999997°C\n",
      "Time 138.01 seconds. T1: 20.6272°C\n",
      "Time 140.2 seconds. T1: 20.949499999999997°C\n",
      "Time 142.18 seconds. T1: 20.949499999999997°C\n",
      "Time 144.2 seconds. T1: 20.949499999999997°C\n",
      "Time 146.23 seconds. T1: 20.949499999999997°C\n",
      "Time 148.24 seconds. T1: 20.949499999999997°C\n",
      "Time 150.19 seconds. T1: 20.949499999999997°C\n",
      "Time 152.28 seconds. T1: 20.949499999999997°C\n",
      "Time 154.25 seconds. T1: 20.949499999999997°C\n",
      "Time 156.23 seconds. T1: 20.6272°C\n",
      "Time 158.04 seconds. T1: 20.949499999999997°C\n",
      "Time 160.11 seconds. T1: 20.949499999999997°C\n",
      "Time 162.04 seconds. T1: 20.949499999999997°C\n",
      "Time 164.05 seconds. T1: 20.949499999999997°C\n",
      "Time 166.01 seconds. T1: 20.949499999999997°C\n",
      "Time 168.23 seconds. T1: 20.6272°C\n",
      "Time 170.08 seconds. T1: 20.949499999999997°C\n",
      "Time 172.01 seconds. T1: 20.949499999999997°C\n",
      "Time 174.14 seconds. T1: 20.949499999999997°C\n",
      "Time 176.01 seconds. T1: 20.949499999999997°C\n",
      "Time 178.22 seconds. T1: 20.949499999999997°C\n",
      "Time 180.2 seconds. T1: 20.949499999999997°C\n",
      "Time 182.2 seconds. T1: 20.949499999999997°C\n",
      "Time 184.21 seconds. T1: 20.949499999999997°C\n",
      "Time 186.08 seconds. T1: 20.949499999999997°C\n",
      "Time 188.29 seconds. T1: 20.949499999999997°C\n",
      "Time 190.24 seconds. T1: 20.949499999999997°C\n",
      "Time 192.18 seconds. T1: 20.949499999999997°C\n",
      "Time 194.09 seconds. T1: 20.949499999999997°C\n",
      "Time 196.22 seconds. T1: 20.949499999999997°C\n",
      "Time 198.26 seconds. T1: 20.949499999999997°C\n",
      "Time 200.02 seconds. T1: 20.6272°C\n",
      "TCLab Model disconnected successfully.\n"
     ]
    }
   ],
   "source": [
    "from tclab import setup, clock\n",
    "TCLab = setup(connected=False, speedup=5)\n",
    "\n",
    "with TCLab() as lab:\n",
    "    for t in clock(200, 2):\n",
    "        print(f\"Time {t} seconds. T1: {lab.T1}°C\")\n"
   ]
  },
  {
   "cell_type": "markdown",
   "id": "6ceddd81",
   "metadata": {},
   "source": [
    "### Importing\n",
    "    \n",
    "Once installed, the `tclab` package can be imported into Python and an instance created with the Python statements\n",
    "\n",
    "    from tclab import TCLab\n",
    "    lab = TCLab()\n",
    "\n",
    "TCLab() attempts to find a device connected to a serial port and return a connection. An error is generated if no device is found.  The connection should be closed when no longer in use.\n",
    "\n",
    "The following cell demonstrates this process, and uses the tclab `LED()` function to flash the LED on the Temperature Control Lab for a period of 10 seconds at a 100% brightness level. "
   ]
  },
  {
   "cell_type": "code",
   "execution_count": null,
   "id": "ab8378d0",
   "metadata": {},
   "outputs": [
    {
     "name": "stdout",
     "output_type": "stream",
     "text": [
      "TCLab version 1.0.0\n",
      "--- Serial Ports ---\n",
      "/dev/cu.BLTH n/a n/a\n",
      "/dev/cu.BlueBeatsStudio n/a n/a\n",
      "/dev/cu.Bluetooth-Incoming-Port n/a n/a\n"
     ]
    },
    {
     "ename": "RuntimeError",
     "evalue": "No Arduino device found.",
     "output_type": "error",
     "traceback": [
      "\u001b[0;31m---------------------------------------------------------------------------\u001b[0m",
      "\u001b[0;31mRuntimeError\u001b[0m                              Traceback (most recent call last)",
      "Cell \u001b[0;32mIn[2], line 3\u001b[0m\n\u001b[1;32m      1\u001b[0m \u001b[38;5;28;01mfrom\u001b[39;00m \u001b[38;5;21;01mtclab\u001b[39;00m \u001b[38;5;28;01mimport\u001b[39;00m TCLab\n\u001b[0;32m----> 3\u001b[0m lab \u001b[38;5;241m=\u001b[39m \u001b[43mTCLab\u001b[49m\u001b[43m(\u001b[49m\u001b[43m)\u001b[49m\n\u001b[1;32m      4\u001b[0m lab\u001b[38;5;241m.\u001b[39mLED(\u001b[38;5;241m100\u001b[39m)\n\u001b[1;32m      5\u001b[0m lab\u001b[38;5;241m.\u001b[39mclose()\n",
      "File \u001b[0;32m~/opt/anaconda3/envs/tclab/lib/python3.10/site-packages/tclab/tclab.py:61\u001b[0m, in \u001b[0;36mTCLab.__init__\u001b[0;34m(self, port, debug)\u001b[0m\n\u001b[1;32m     59\u001b[0m \u001b[38;5;28mself\u001b[39m\u001b[38;5;241m.\u001b[39mport, \u001b[38;5;28mself\u001b[39m\u001b[38;5;241m.\u001b[39marduino \u001b[38;5;241m=\u001b[39m find_arduino(port)\n\u001b[1;32m     60\u001b[0m \u001b[38;5;28;01mif\u001b[39;00m \u001b[38;5;28mself\u001b[39m\u001b[38;5;241m.\u001b[39mport \u001b[38;5;129;01mis\u001b[39;00m \u001b[38;5;28;01mNone\u001b[39;00m:\n\u001b[0;32m---> 61\u001b[0m     \u001b[38;5;28;01mraise\u001b[39;00m \u001b[38;5;167;01mRuntimeError\u001b[39;00m(\u001b[38;5;124m'\u001b[39m\u001b[38;5;124mNo Arduino device found.\u001b[39m\u001b[38;5;124m'\u001b[39m)\n\u001b[1;32m     63\u001b[0m \u001b[38;5;28;01mtry\u001b[39;00m:\n\u001b[1;32m     64\u001b[0m     \u001b[38;5;28mself\u001b[39m\u001b[38;5;241m.\u001b[39mconnect(baud\u001b[38;5;241m=\u001b[39m\u001b[38;5;241m115200\u001b[39m)\n",
      "\u001b[0;31mRuntimeError\u001b[0m: No Arduino device found."
     ]
    }
   ],
   "source": [
    "from tclab import TCLab\n",
    "\n",
    "lab = TCLab()\n",
    "lab.LED(100)\n",
    "lab.close()"
   ]
  },
  {
   "cell_type": "markdown",
   "id": "f99fa383",
   "metadata": {},
   "source": [
    "### Using TCLab with Python's `with` statement\n",
    "\n",
    "The Python `with` statement provides a convenient means of setting up and closing a connection to the Temperature Control Laboratory. In particular, the with statement establishes a context where a tclab instance is created, assigned to a variable, and automatically closed upon completion. The `with` statement is the preferred way to connect the Temperature Control Laboratory for most uses."
   ]
  },
  {
   "cell_type": "code",
   "execution_count": null,
   "id": "78acab18",
   "metadata": {},
   "outputs": [],
   "source": [
    "from tclab import TCLab\n",
    "\n",
    "with TCLab() as lab:\n",
    "    lab.LED(100)"
   ]
  },
  {
   "cell_type": "markdown",
   "id": "30bc00b6",
   "metadata": {},
   "source": [
    "## Reading Temperatures\n",
    "\n",
    "Once a tclab instance is created and connected to a device, the temperature sensors on the temperature control lab can be acccessed with the attributes `.T1` and `.T2`.  For example, given an instance `lab`, the temperatures are accessed as\n",
    "\n",
    "    T1 = lab.T1\n",
    "    T2 = lab.T2\n",
    "\n",
    "`lab.T1` and `lab.T2` are read-only properties. Any attempt to set them to a value will return a Python error."
   ]
  },
  {
   "cell_type": "code",
   "execution_count": null,
   "id": "4704a7bd",
   "metadata": {},
   "outputs": [],
   "source": [
    "from tclab import TCLab\n",
    "\n",
    "with TCLab() as a:\n",
    "    print(\"Temperature 1: {0:0.2f} C\".format(a.T1))\n",
    "    print(\"Temperature 2: {0:0.2f} C\".format(a.T2))"
   ]
  },
  {
   "cell_type": "markdown",
   "id": "4149c822",
   "metadata": {},
   "source": [
    "## Setting Heaters\n",
    "\n",
    "For legacy reasons, there are two ways to set the power levels of the heaters. \n",
    "\n",
    "The first way is to the functions`.Q1()` and `.Q2()` of a `TCLab` instance. For example, both heaters can be set to 100% power with the functions\n",
    "\n",
    "    lab = TCLab()\n",
    "    lab.Q1(100)\n",
    "    lab.Q2(100)\n",
    "\n",
    "The device firmware limits the heaters to a range of 0 to 100%. The current value of attributes may be accessed via\n",
    "\n",
    "    Q1 = lab.Q1()\n",
    "    Q2 = lab.Q2()\n",
    "    \n",
    "Important notes:\n",
    "1. The led on the temperature control laboratory will turns from dim to bright when either heater is on.\n",
    "2. Closing the TCLab instance turns the heaters off.\n",
    "3. The power level of the two heaters may be different. Current versions of the firmware limit maximum power of first heater to 4 watts, and maxium power of the second heater to 2 watts.\n",
    "4. In addition to the constraints imposed by the firmware, the power supply may not be capable of providing all of the power needed to operate both heaters at 100%\n",
    "5. The values retrieved from these functions may be different than the values set due to the power limits enforced by the device firmware."
   ]
  },
  {
   "cell_type": "code",
   "execution_count": null,
   "id": "ba381d41",
   "metadata": {},
   "outputs": [],
   "source": [
    "from tclab import TCLab\n",
    "import time\n",
    "\n",
    "with TCLab() as a:\n",
    "    print(\"\\nStarting Temperature 1: {0:0.2f} C\".format(a.T1),flush=True)\n",
    "    print(\"Starting Temperature 2: {0:0.2f} C\".format(a.T2),flush=True)\n",
    "\n",
    "    a.Q1(100)\n",
    "    a.Q2(100)\n",
    "    print(\"\\nSet Heater 1:\", a.Q1(), \"%\",flush=True)\n",
    "    print(\"Set Heater 2:\", a.Q2(), \"%\",flush=True)\n",
    "    \n",
    "    t_heat = 30\n",
    "    print(\"\\nHeat for\", t_heat, \"seconds\")\n",
    "    time.sleep(t_heat)\n",
    "\n",
    "    print(\"\\nTurn Heaters Off\")\n",
    "    a.Q1(0)\n",
    "    a.Q2(0)\n",
    "    print(\"\\nSet Heater 1:\", a.Q1(), \"%\",flush=True)\n",
    "    print(\"Set Heater 2:\", a.Q2(), \"%\",flush=True)\n",
    "    \n",
    "    print(\"\\nFinal Temperature 1: {0:0.2f} C\".format(a.T1))\n",
    "    print(\"Final Temperature 2: {0:0.2f} C\".format(a.T2))"
   ]
  },
  {
   "cell_type": "markdown",
   "id": "a5d6724c",
   "metadata": {},
   "source": [
    "Alternatively, the heaters can be set using the `.U1` and `.U2` attributes of a `TCLab` instance. "
   ]
  },
  {
   "cell_type": "code",
   "execution_count": null,
   "id": "5a6854a2",
   "metadata": {},
   "outputs": [],
   "source": [
    "lab = TCLab()\n",
    "\n",
    "print('Setting power levels on heaters 1 and 2')\n",
    "lab.U1 = 50\n",
    "lab.U2 = 25\n",
    "\n",
    "print('Current power level on Heater 1 is: ', lab.U1, '%')\n",
    "print('Current power level on Heater 1 is: ', lab.U2, '%')\n",
    "\n",
    "lab.close()"
   ]
  },
  {
   "cell_type": "markdown",
   "id": "7aad24bc",
   "metadata": {},
   "source": [
    "## Synchronizing with Real Time using `clock`\n",
    "\n",
    "The `tclab` module includes `clock` for synchronizing calculations with real time.  `clock(tperiod, tstep)` generates a sequence of iterations over a period of `tperiod` seconds evenly by `tstep` seconds. If `tstep` is omitted then the default period is set to 1 second."
   ]
  },
  {
   "cell_type": "code",
   "execution_count": null,
   "id": "f499fc5b",
   "metadata": {},
   "outputs": [],
   "source": [
    "from tclab import clock\n",
    "\n",
    "tperiod = 6\n",
    "tstep = 2\n",
    "for t in clock(tperiod,tstep):\n",
    "    print(t, \"sec.\")"
   ]
  },
  {
   "cell_type": "markdown",
   "id": "f028d0db",
   "metadata": {},
   "source": [
    "There are some considerations to keep in mind when using `clock`. Most important, by its nature Python is not a real-time environment. `clock` makes a best effort to stay in sync with evenly spaced ticks of the real time clock. If, for some reason, the loop falls behind the real time clock, then the generator will skip over the event to get back in sync with the real time clock. Thus the total number of iterations may be less than expected. This behavior is demonstrated in the following cell."
   ]
  },
  {
   "cell_type": "code",
   "execution_count": null,
   "id": "4450f3dd",
   "metadata": {},
   "outputs": [],
   "source": [
    "from tclab import TCLab, clock\n",
    "\n",
    "import time\n",
    "\n",
    "tfinal = 12\n",
    "tstep = 2\n",
    "for t in clock(tfinal, tstep):\n",
    "    print(t, \"sec.\")\n",
    "    \n",
    "    # insert a long time out between 3 and 5 seconds into the event loop\n",
    "    if (t > 3) and (t < 5):\n",
    "        time.sleep(2.2)"
   ]
  },
  {
   "cell_type": "markdown",
   "id": "d98b3537",
   "metadata": {},
   "source": [
    "### Using `clock` with TCLab"
   ]
  },
  {
   "cell_type": "code",
   "execution_count": null,
   "id": "ef717b1d",
   "metadata": {},
   "outputs": [],
   "source": [
    "from tclab import TCLab, clock\n",
    "\n",
    "tperiod = 20\n",
    "\n",
    "# connect to the temperature control lab\n",
    "with TCLab() as a:\n",
    "    # turn heaters on\n",
    "    a.Q1(100)\n",
    "    a.Q2(100)\n",
    "    print(\"\\nSet Heater 1 to {0:f} %\".format(a.Q1()))\n",
    "    print(\"Set Heater 2 to {0:f} %\".format(a.Q2()))\n",
    "\n",
    "    # report temperatures for the next tperiod seconds\n",
    "    sfmt = \"   {0:5.1f} sec:   T1 = {1:0.1f} C    T2 = {2:0.1f} C\"\n",
    "    for t in clock(tperiod):\n",
    "        print(sfmt.format(t, a.T1, a.T2), flush=True)\n",
    "        "
   ]
  },
  {
   "cell_type": "markdown",
   "id": "8afa2f9d",
   "metadata": {},
   "source": [
    "## The TCLab `Historian`"
   ]
  },
  {
   "cell_type": "markdown",
   "id": "fc76b156",
   "metadata": {},
   "source": [
    "The `Historian` class provides means for data logging. Given an instance `lab` of a TCLab object, `lab.sources` is a list of all data sources and methods to access the data.\n",
    "\n",
    "    lab = TCLab()\n",
    "    h = Historian(lab.sources)\n",
    "    \n",
    "The historian initializes a data log. The data log is updated by issuing a command\n",
    "\n",
    "    h.update(t)\n",
    "    \n",
    "where `t` marks the current time. The following cell logs 10 seconds of data with a chaning power level to heater 1, then saves the data to a file."
   ]
  },
  {
   "cell_type": "code",
   "execution_count": null,
   "id": "164da46c",
   "metadata": {},
   "outputs": [],
   "source": [
    "from tclab import TCLab, clock, Historian\n",
    "\n",
    "with TCLab() as lab:\n",
    "    h = Historian(lab.sources)\n",
    "    for t in clock(10):\n",
    "        lab.Q1(100 if t <= 5 else 0)\n",
    "        h.update(t)\n",
    "        \n",
    "h.to_csv('data.csv')"
   ]
  },
  {
   "cell_type": "markdown",
   "id": "62949cd3",
   "metadata": {},
   "source": [
    "Once saved, data can be read and plotted using the [Pandas Data Analysis Library](https://pandas.pydata.org/) as demonstrated in this cell."
   ]
  },
  {
   "cell_type": "code",
   "execution_count": null,
   "id": "90bb415f",
   "metadata": {},
   "outputs": [],
   "source": [
    "%matplotlib inline\n",
    "\n",
    "import pandas as pd\n",
    "data = pd.read_csv('data.csv')\n",
    "data.index = data['Time']\n",
    "print(data)\n",
    "data[['Q1','Q2']].plot(grid=True)"
   ]
  },
  {
   "cell_type": "markdown",
   "id": "e258a6f3",
   "metadata": {},
   "source": [
    "## The TCLab `Plotter`\n",
    "\n",
    "The `Plotter` class adds a real time plotting of experimental data. A plotter is created from an instance of an historian as follows\n",
    "\n",
    "    h = Historian(lab.sources)\n",
    "    p = Plotter(h)\n",
    "    \n",
    "Updating the plotter also updates the associated historian.\n",
    "\n",
    "    p.update(t)\n",
    "    \n",
    "The following example shows how this works."
   ]
  },
  {
   "cell_type": "code",
   "execution_count": null,
   "id": "652b1ce5",
   "metadata": {},
   "outputs": [],
   "source": [
    "%matplotlib notebook\n",
    "\n",
    "from tclab import TCLab, clock, Historian, Plotter\n",
    "\n",
    "with TCLab() as lab:\n",
    "    h = Historian(lab.sources)\n",
    "    p = Plotter(h, 10)\n",
    "    for t in clock(10):\n",
    "        lab.Q1(100 if t <= 5 else 0)\n",
    "        p.update(t)\n",
    "        \n",
    "h.to_csv('data.csv')"
   ]
  },
  {
   "cell_type": "markdown",
   "id": "9f6065a8",
   "metadata": {},
   "source": [
    "## Using TCLab Offline"
   ]
  },
  {
   "cell_type": "code",
   "execution_count": null,
   "id": "9aa7b74d",
   "metadata": {},
   "outputs": [
    {
     "data": {
      "image/png": "[encoded data removed]",
      "text/plain": [
       "<Figure size 640x480 with 4 Axes>"
      ]
     },
     "metadata": {},
     "output_type": "display_data"
    },
    {
     "name": "stdout",
     "output_type": "stream",
     "text": [
      "TCLab Model disconnected successfully.\n"
     ]
    },
    {
     "data": {
      "image/png": "[encoded data removed]",
      "text/plain": [
       "<Figure size 640x480 with 4 Axes>"
      ]
     },
     "metadata": {},
     "output_type": "display_data"
    }
   ],
   "source": [
    "%matplotlib inline\n",
    "from tclab import clock, setup, Historian, Plotter\n",
    "\n",
    "TCLab = setup(connected=False, speedup=20)\n",
    "\n",
    "SP = 40\n",
    "with TCLab() as a:\n",
    "    h = Historian(a.sources)\n",
    "    p = Plotter(h)\n",
    "    for t in clock(120,2):\n",
    "        PV = a.T1\n",
    "        MV = 100 if SP > PV else 0\n",
    "        a.U1 = MV\n",
    "        p.update()"
   ]
  },
  {
   "cell_type": "markdown",
   "id": "83de9dbf",
   "metadata": {},
   "source": [
    "## Running Diagnostics"
   ]
  },
  {
   "cell_type": "code",
   "execution_count": null,
   "id": "27c27ff0",
   "metadata": {},
   "outputs": [
    {
     "name": "stdout",
     "output_type": "stream",
     "text": [
      "Version =  1.0.0\n",
      "\n",
      "Checking connection\n",
      "-------------------\n",
      "Looking for Arduino on any port...\n",
      "--- Serial Ports ---\n",
      "/dev/cu.BLTH n/a n/a\n",
      "/dev/cu.BlueBeatsStudio n/a n/a\n",
      "/dev/cu.Bluetooth-Incoming-Port n/a n/a\n",
      "No known Arduino was found in the ports listed above.\n"
     ]
    }
   ],
   "source": [
    "import tclab\n",
    "\n",
    "print(\"Version = \", tclab.__version__)\n",
    "tclab.diagnose()"
   ]
  },
  {
   "cell_type": "code",
   "execution_count": null,
   "id": "ba427360",
   "metadata": {},
   "outputs": [],
   "source": []
  }
 ],
 "metadata": {
  "kernelspec": {
   "display_name": "python3",
   "language": "python",
   "name": "python3"
  }
 },
 "nbformat": 4,
 "nbformat_minor": 5
}
