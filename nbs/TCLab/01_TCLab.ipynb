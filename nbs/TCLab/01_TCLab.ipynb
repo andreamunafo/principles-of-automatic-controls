{
 "cells": [
  {
   "cell_type": "markdown",
   "id": "1cf06128",
   "metadata": {},
   "source": [
    "# The Temperature Control Lab"
   ]
  },
  {
   "cell_type": "markdown",
   "id": "f9fc5a13",
   "metadata": {},
   "source": [
    "The primary resource for TCLab can be found at [apmonitor.com](http://apmonitor.com/pdc/index.php/Main/ArduinoTemperatureControl).\n",
    "\n",
    "Developed by John Hedengren at the Brigham Young University (USA).\n",
    "\n",
    "In subsequent sections, we'll explore the complexities of dynamic modeling, understanding system responses, and the implementation of various control strategies.\n",
    "\n",
    "Our approach will involve utilizing Python programming to engage with the TCLab hardware, conduct data analysis, and effectively visualize the behaviors of the system."
   ]
  },
  {
   "cell_type": "markdown",
   "id": "946d5ad3",
   "metadata": {},
   "source": [
    "## What is TCLab?\n",
    "\n",
    "TCLab is a compact laboratory setup that includes an Arduino microcontroller, heaters, temperature sensors, and an LED. It is designed for learning and applying control engineering principles in a hands-on manner.\n",
    "\n"
   ]
  },
  {
   "cell_type": "markdown",
   "id": "5ae2be1c",
   "metadata": {},
   "source": [
    "<img src='pics/B.00-arduino_lab_kit.png' style=\"float: right; padding-left:0px; width:500px;\"></img>\n",
    "\n",
    "The Temperature Control Laboratory hardware consists of five components:\n",
    "\n",
    "1. **Arduino Microcontroller** (Arduino Uno, Arduino Leonardo, or equivalents): Acts as the brain of the setup.\n",
    "\n",
    "2. **The Temperature Control Laboratory plug-in board** (also known as a shield). Includes:\n",
    "   - **Heaters**: Provide thermal energy to the system.\n",
    "   - **Temperature Sensors**: Measure the system's temperature.\n",
    "   - **LED**: Visual indicator for certain actions or states.\n",
    "\n",
    "3. Five watt USB power supply.\n",
    "\n",
    "4. 5.5mm to USB power supply cable.\n",
    "\n",
    "5. USB 2.0 data cable. (w/mini-USB connector for Arduino Uno, or micro-USB cable for Arduino Leonardo.)\n",
    "\n",
    "Before going further, be sure to complete the steps outlined under *Hardware setup* as described in TCLab [README](https://github.com/jckantor/TCLab/blob/master/README.rst). \n",
    "\n",
    "Mac OS users may need to install a serial driver available [here](https://github.com/adrianmihalko/ch340g-ch34g-ch34x-mac-os-x-driver). \n",
    "\n",
    "Normally the TCLab shield will already be mounted on the Arduino board, and the firmware driver will have been loaded on to the Arduino."
   ]
  },
  {
   "cell_type": "markdown",
   "id": "1f5f41d9",
   "metadata": {},
   "source": [
    "<table>\n",
    "    <tr>\n",
    "    <td>\n",
    "        <img src=\"./pics/tclab_transparent.png\" alt=\"tclab_transparent\" style=\"width: 450px;\"/>    \n",
    "    </td>\n",
    "    </tr>\n",
    "</table> "
   ]
  },
  {
   "cell_type": "markdown",
   "id": "c3fff7e8",
   "metadata": {},
   "source": [
    "## Understanding the TCLab Kit\n",
    "\n",
    "### The Core Components of TCLab\n",
    "\n",
    "The Temperature Control Lab (TCLab) is an integrated system composed of several key components, each contributing significantly to its functionality:\n",
    "\n",
    "1. **Arduino Microcontroller**: \n",
    "   - **Purpose**: Serves as the central processing unit for the TCLab.\n",
    "   - **Functionality**: Processes input data from temperature sensors and manages the operation of heaters.\n",
    "   - **Connectivity**: Utilizes a USB connection for data transfer and allows for real-time control through Python scripts.\n",
    "\n",
    "2. **Heaters**: \n",
    "   - **Description**: TCLab features two heaters, each capable of generating adjustable thermal energy.\n",
    "   - **Role**: Act as the main heat sources for experiments, replicating scenarios requiring temperature regulation. They function as the system's **actuators**.\n",
    "\n",
    "3. **Temperature Sensors**: \n",
    "   - **Type**: These sensors are thermistors, a kind of resistor whose resistance varies with temperature changes.\n",
    "   - **Measurement Range**: Capable of measuring temperatures ranging from $-40^\\circ$C to $150^\\circ$C.\n",
    "   - **Functionality**: Positioned near each heater to accurately measure temperature, providing essential feedback for temperature control.\n",
    "\n",
    "4. **Heat Sinks**: \n",
    "   - **Type**: Comprised of transistor heat sinks.\n",
    "   - **Purpose**: Employed to efficiently dissipate heat away from the transistors.\n",
    "   \n",
    "5. **LED (Light Emitting Diode)**: \n",
    "  - **Purpose**: Serves as a visual indicator for various states or actions, such as signaling the activation of a heater.   \n",
    "\n",
    "### Operational Configurations of TCLab\n",
    "\n",
    "TCLab can be configured in various modes depending on the educational objectives:\n",
    "\n",
    "1. **Single Input Single Output (SISO)**:\n",
    "   - Utilizes only one heater and one sensor. Ideal for simple control experiments and learning the basics of temperature control.\n",
    "\n",
    "2. **Single Input Single Output (SISO) with Disturbance**:\n",
    "   - Employs one heater/sensor as the primary control system and the second heater as a source of external disturbance. This setup is useful for understanding how external factors influence control systems.\n",
    "\n",
    "3. **Multiple Inputs Multiple Outputs (MIMO)**:\n",
    "   - Involves using both heaters and sensors simultaneously. This more advanced configuration isn't covered here but is valuable for complex control system studies.\n",
    "\n",
    "Each component of the TCLab plays a specific role, making it a versatile tool for teaching and experimenting with various aspects of control engineering. Whether for fundamental learning or advanced exploration, TCLab offers a practical platform for understanding the dynamics and control of temperature-based systems."
   ]
  },
  {
   "cell_type": "markdown",
   "id": "70db6ee6",
   "metadata": {},
   "source": [
    "<table>\n",
    "    <tr>\n",
    "    <td>\n",
    "        <img src=\"./pics/tclab_heater.png\" alt=\"tclab_heater\" style=\"width: 450px;\"/>    \n",
    "    </td>\n",
    "    <td>\n",
    "        <img src=\"./pics/tclab_temperature_sensor.png\" alt=\"tclab_temperature_sensor\" style=\"width: 450px;\"/>    \n",
    "    </td>\n",
    "    </tr>\n",
    "</table> "
   ]
  },
  {
   "cell_type": "markdown",
   "id": "fc3b564e",
   "metadata": {},
   "source": [
    "<table>\n",
    "    <tr>\n",
    "    <td>\n",
    "        <img src=\"./pics/tclab_radiator.png\" alt=\"tclab_temperature_sensor\" style=\"width: 450px;\"/>    \n",
    "    </td>    \n",
    "    </tr>\n",
    "</table> "
   ]
  },
  {
   "cell_type": "markdown",
   "id": "c5442d35",
   "metadata": {},
   "source": [
    "## How TCLab Works\n",
    "\n",
    "- **Operation Flow**:\n",
    "  1. **Input Signal**: A Python script sends a command to the Arduino, setting the desired power level for the heaters.\n",
    "  2. **Heating Action**: The heaters generate heat corresponding to the received power level commands.\n",
    "  3. **Temperature Measurement**: The thermistors measure the resulting temperatures near the heaters.\n",
    "  4. **Feedback Loop**: These temperature readings are sent back to the computer.\n",
    "  5. **Adjustments**: The control algorithm in the Python script adjusts the heater power based on the temperature feedback, striving to reach and maintain a target temperature.\n",
    "\n",
    "---"
   ]
  },
  {
   "cell_type": "markdown",
   "id": "12730193",
   "metadata": {},
   "source": [
    "# Section 2: In-Depth Look at TCLab Components\n",
    "\n",
    "## 2.1 Arduino Microcontroller\n",
    "\n",
    "- **Detailed Description**: Provide specifics about the Arduino model used in TCLab, its capabilities, and its limitations"
   ]
  },
  {
   "cell_type": "markdown",
   "id": "b59fa2c8",
   "metadata": {},
   "source": [
    "<table>\n",
    "    <tr>\n",
    "    <td>\n",
    "        <img src=\"./pics/tclab_heater.png\" alt=\"tclab_heater\" style=\"width: 450px;\"/>    \n",
    "    </td>\n",
    "    <td>\n",
    "        <img src=\"./pics/tclab_radiator.png\" alt=\"tclab_radiator\" style=\"width: 450px;\"/>    \n",
    "    </td>\n",
    "    </tr>\n",
    "</table> \n",
    "\n",
    "\n",
    "<table>\n",
    "    <tr>\n",
    "    <td>\n",
    "        <img src=\"./pics/tclab_temperature_sensor.png\" alt=\"tclab_temperature_sensor\" style=\"width: 450px;\"/>    \n",
    "    </td>    \n",
    "    </tr>\n",
    "</table> "
   ]
  },
  {
   "cell_type": "markdown",
   "id": "f7973c1b",
   "metadata": {},
   "source": [
    "### Ojectives:\n",
    "\n",
    "- Dynamic modeling with balance equations\n",
    "- The difference between manual and automatic control\n",
    "- Step tests to generate dynamic data\n",
    "- Fitting dynamic data to a First Order Plus Dead Time (FOPDT) model\n",
    "- Obtaining parameters for PID control from standard tuning rules\n",
    "- Tuning the PID controller to improve performance\n",
    "\n"
   ]
  },
  {
   "cell_type": "markdown",
   "id": "a9a33b1c",
   "metadata": {},
   "source": [
    "----"
   ]
  },
  {
   "cell_type": "markdown",
   "id": "8a31bde2",
   "metadata": {},
   "source": [
    "# Setting Up TCLab\n",
    "\n",
    "\n",
    "This guide provides step-by-step instructions for setting up the Temperature Control Lab (TCLab), starting from installing Python on different operating systems to conducting initial tests with TCLab and its simulator."
   ]
  },
  {
   "cell_type": "markdown",
   "id": "4c927833",
   "metadata": {},
   "source": [
    "## Section 1: Installing Python Using Conda"
   ]
  },
  {
   "cell_type": "markdown",
   "id": "75f2b46e",
   "metadata": {},
   "source": [
    "## Installing Python on Mac\n",
    "\n",
    "### Step 1: Install Anaconda\n",
    "\n",
    "- **Download Anaconda**: Visit the [Anaconda Download Page](https://www.anaconda.com/products/individual) and download the installer for Mac.\n",
    "- **Run Installer**: Open the downloaded file and follow the on-screen instructions.\n",
    "- **Verify Installation**:\n",
    "  - Open Terminal.\n",
    "  - Type `conda --version` and press Enter. If Anaconda is successfully installed, you'll see the version number.\n",
    "\n",
    "### Step 2: Set Up Environment (Optional)\n",
    "\n",
    "- **Create a New Environment**: In Terminal, type `conda create -n tclab_env python=3.8` and press Enter.\n",
    "- **Activate Environment**: Type `conda activate tclab_env` and press Enter."
   ]
  },
  {
   "cell_type": "markdown",
   "id": "a0d0653b",
   "metadata": {},
   "source": [
    "## Installing Python on Windows\n",
    "\n",
    "### Step 1: Install Anaconda\n",
    "\n",
    "- **Download Anaconda**: Visit the [Anaconda Download Page](https://www.anaconda.com/products/individual) and download the installer for Windows.\n",
    "- **Run Installer**: Open the downloaded file and follow the on-screen instructions.\n",
    "- **Verify Installation**:\n",
    "  - Open Anaconda Prompt.\n",
    "  - Type `conda --version` and press Enter.\n",
    "\n",
    "### Step 2: Set Up Environment (Optional)\n",
    "\n",
    "- **Create a New Environment**: In Anaconda Prompt, type `conda create -n tclab_env python=3.8` and press Enter.\n",
    "- **Activate Environment**: Type `conda activate tclab_env` and press Enter."
   ]
  },
  {
   "cell_type": "markdown",
   "id": "a4435627",
   "metadata": {},
   "source": [
    "## 1.3 Installing Python on Linux\n",
    "\n",
    "### Step 1: Install Anaconda\n",
    "\n",
    "- **Download Anaconda**: Visit the [Anaconda Download Page](https://www.anaconda.com/products/individual) and download the installer for Linux.\n",
    "- **Run Installer**: Open Terminal, navigate to the directory containing the downloaded file, and run the script using `bash Anaconda3-XXXX.sh`.\n",
    "- **Verify Installation**:\n",
    "  - In Terminal, type `conda --version`.\n",
    "\n",
    "### Step 2: Set Up Environment (Optional)\n",
    "\n",
    "- **Create a New Environment**: In Terminal, type `conda create -n tclab_env python=3.8` and press Enter.\n",
    "- **Activate Environment**: Type `conda activate tclab_env` and press Enter."
   ]
  },
  {
   "cell_type": "markdown",
   "id": "b9e27af2",
   "metadata": {},
   "source": [
    "---"
   ]
  },
  {
   "cell_type": "markdown",
   "id": "d66f204d",
   "metadata": {},
   "source": [
    "# Section 2: Setting Up TCLab\n"
   ]
  },
  {
   "cell_type": "markdown",
   "id": "7091fd8b",
   "metadata": {},
   "source": [
    "## Setting Up the Conda Environment\n",
    "\n",
    "To set up the Conda environment for this course, follow these steps:\n",
    "\n",
    "1. Download the `tclab_environment.yml` file from this repository.\n",
    "2. Open your terminal or Anaconda Prompt and navigate to the directory where the file is located.\n",
    "\n",
    "The file `tclab_environment.yml` looks like this:\n",
    "\n",
    "```     tclab_environment.yml\n",
    "name: tclab_env\n",
    "channels:\n",
    "  - defaults\n",
    "dependencies:\n",
    "  - python=3.10\n",
    "  - pip\n",
    "  - numpy\n",
    "  - matplotlib\n",
    "  - scipy\n",
    "  - pandas\n",
    "  - pip:\n",
    "    - tclab\n",
    "```\n",
    "\n",
    "\n",
    "3. Create the environment from the `tclab_environment.yml` file:\n",
    "\n",
    "    ```conda env create -f tclab_environment.yml```\n",
    "\n",
    "4. Activate the new environment:\n",
    "    \n",
    "    ```conda activate tclab```\n",
    "    \n",
    "5. To verify that the environment was installed correctly, you can use:\n",
    "\n",
    "    ```conda env list```"
   ]
  },
  {
   "cell_type": "markdown",
   "id": "9696054a",
   "metadata": {},
   "source": [
    "### Installing the TCLab Package\n",
    "\n",
    "1. **Activating the Environment**:\n",
    "   - Ensure your Anaconda environment is active. Open your Terminal (or Anaconda Prompt on Windows) and activate your environment:\n",
    "     ```\n",
    "     conda activate tclab_env\n",
    "     ```\n",
    "\n",
    "2. **Installing TCLab**:\n",
    "   - The `tclab` library is pivotal for interfacing with the Temperature Control Lab hardware. Install it by entering the following command:\n",
    "     ```\n",
    "     pip install tclab\n",
    "     ```\n",
    "   - Press Enter to execute the command and complete the installation.\n",
    "\n",
    "#### Installing Additional Useful Libraries\n",
    "\n",
    "For a comprehensive experience with TCLab and to support various aspects of control engineering and data analysis, the following libraries will also be installed:\n",
    "\n",
    "1. **numpy**:\n",
    "   - Significance: A fundamental library for numerical computations in Python.\n",
    "   - Installation Command:\n",
    "     ```\n",
    "     pip install numpy\n",
    "     ```\n",
    "\n",
    "2. **matplotlib**:\n",
    "   - Significance: Crucial for creating visual representations of data, especially for the analysis of TCLab experiments.\n",
    "   - Installation Command:\n",
    "     ```\n",
    "     pip install matplotlib\n",
    "     ```\n",
    "\n",
    "3. **scipy**:\n",
    "   - Significance: Provides a broad range of tools for scientific computing, including methods for solving ordinary differential equations, useful in system modeling.\n",
    "   - Installation Command:\n",
    "     ```\n",
    "     pip install scipy\n",
    "     ```\n",
    "\n",
    "4. **pandas**:\n",
    "   - Significance: Offers extensive features for data manipulation and analysis, ideal for handling complex datasets.\n",
    "   - Installation Command:\n",
    "     ```\n",
    "     pip install pandas\n",
    "     ```\n",
    "\n",
    "5. **gekko**:\n",
    "   - Significance: Advanced package for optimization and control, suitable for implementing model predictive control strategies.\n",
    "   - Installation Command:\n",
    "     ```\n",
    "     pip install gekko\n",
    "     ```"
   ]
  },
  {
   "cell_type": "markdown",
   "id": "a554e7bc",
   "metadata": {},
   "source": [
    "\n",
    "## TCLab Schematics\n",
    "\n",
    "<table>\n",
    "    <tr>\n",
    "    <td>\n",
    "        <img src=\"./pics/tclab_schematic.png\" alt=\"tclab_schematic\" style=\"width: 450px;\"/>    \n",
    "    </td>\n",
    "    </tr>\n",
    "</table>\n",
    "\n"
   ]
  },
  {
   "cell_type": "markdown",
   "id": "7c88050a",
   "metadata": {},
   "source": [
    "## Initial Tests with TCLab\n",
    "\n",
    "### Step 1: Connect TCLab\n",
    "\n",
    "- **Connect TCLab**: Plug in the TCLab device to your computer using a USB cable.\n",
    "\n",
    "### Step 2: Test TCLab Connection\n",
    "\n",
    "- **Write Test Script**:\n",
    "  - Open your Python IDE or Jupyter Notebook.\n",
    "  - Write the following Python code and run the script. If it prints the temperature, TCLab is connected properly."
   ]
  },
  {
   "cell_type": "code",
   "execution_count": null,
   "id": "457ddd4c",
   "metadata": {},
   "outputs": [
    {
     "name": "stdout",
     "output_type": "stream",
     "text": [
      "TCLab version 1.0.0\n",
      "Arduino Leonardo connected on port /dev/cu.usbmodem142101 at 115200 baud.\n",
      "TCLab Firmware 3.0.0 Arduino Leonardo/Micro.\n",
      "Connected! Heater 1 is at 23.477°C\n",
      "TCLab disconnected successfully.\n"
     ]
    }
   ],
   "source": [
    "import tclab\n",
    "with tclab.TCLab() as lab:\n",
    "    print(f\"Connected! Heater 1 is at {lab.T1}°C\")"
   ]
  },
  {
   "cell_type": "markdown",
   "id": "afdb157d",
   "metadata": {},
   "source": [
    "## Using TCLab Simulator\n",
    "\n",
    "- **Why Use a Simulator**: The TCLab simulator is useful when you don't have the physical hardware available.\n",
    "- **Install Simulator**: In Terminal or Anaconda Prompt, type `pip install tclab` again (it includes the simulator).\n",
    "- **Test Script with Simulator**:\n",
    "\n",
    "    "
   ]
  },
  {
   "cell_type": "code",
   "execution_count": null,
   "id": "3bdb3466",
   "metadata": {},
   "outputs": [
    {
     "name": "stdout",
     "output_type": "stream",
     "text": [
      "TCLab version 1.0.0\n",
      "Simulated TCLab\n",
      "Time 0 seconds. T1: 20.949499999999997°C\n",
      "Time 2.01 seconds. T1: 20.949499999999997°C\n",
      "Time 4.04 seconds. T1: 20.949499999999997°C\n",
      "Time 6.03 seconds. T1: 20.949499999999997°C\n",
      "Time 8.06 seconds. T1: 20.949499999999997°C\n",
      "Time 10.07 seconds. T1: 20.949499999999997°C\n",
      "Time 12.02 seconds. T1: 20.949499999999997°C\n",
      "Time 14.03 seconds. T1: 20.949499999999997°C\n",
      "Time 16.15 seconds. T1: 20.949499999999997°C\n",
      "Time 18.04 seconds. T1: 20.949499999999997°C\n",
      "Time 20.2 seconds. T1: 20.949499999999997°C\n",
      "Time 22.01 seconds. T1: 20.949499999999997°C\n",
      "Time 24.19 seconds. T1: 20.949499999999997°C\n",
      "Time 26.24 seconds. T1: 20.949499999999997°C\n",
      "Time 28.16 seconds. T1: 20.949499999999997°C\n",
      "Time 30.03 seconds. T1: 20.949499999999997°C\n",
      "Time 32.12 seconds. T1: 20.949499999999997°C\n",
      "Time 34.2 seconds. T1: 20.6272°C\n",
      "Time 36.04 seconds. T1: 20.949499999999997°C\n",
      "Time 38.02 seconds. T1: 20.6272°C\n",
      "Time 40.21 seconds. T1: 20.949499999999997°C\n",
      "Time 42.14 seconds. T1: 20.949499999999997°C\n",
      "Time 44.01 seconds. T1: 20.6272°C\n",
      "Time 46.3 seconds. T1: 20.949499999999997°C\n",
      "Time 48.22 seconds. T1: 20.949499999999997°C\n",
      "Time 50.07 seconds. T1: 20.949499999999997°C\n",
      "Time 52.27 seconds. T1: 20.949499999999997°C\n",
      "Time 54.09 seconds. T1: 20.949499999999997°C\n",
      "Time 56.28 seconds. T1: 20.949499999999997°C\n",
      "Time 58.19 seconds. T1: 20.949499999999997°C\n",
      "Time 60.04 seconds. T1: 20.949499999999997°C\n",
      "Time 62.2 seconds. T1: 20.949499999999997°C\n",
      "Time 64.11 seconds. T1: 20.949499999999997°C\n",
      "Time 66.08 seconds. T1: 20.949499999999997°C\n",
      "Time 68.23 seconds. T1: 20.6272°C\n",
      "Time 70.13 seconds. T1: 20.949499999999997°C\n",
      "Time 72.07 seconds. T1: 20.949499999999997°C\n",
      "Time 74.05 seconds. T1: 20.949499999999997°C\n",
      "Time 76.1 seconds. T1: 20.6272°C\n",
      "Time 78.1 seconds. T1: 20.6272°C\n",
      "Time 80.22 seconds. T1: 20.949499999999997°C\n",
      "Time 82.28 seconds. T1: 20.949499999999997°C\n",
      "Time 84.22 seconds. T1: 20.949499999999997°C\n",
      "Time 86.16 seconds. T1: 20.949499999999997°C\n",
      "Time 88.23 seconds. T1: 20.949499999999997°C\n",
      "Time 90.0 seconds. T1: 20.949499999999997°C\n",
      "Time 92.27 seconds. T1: 20.949499999999997°C\n",
      "Time 94.0 seconds. T1: 20.949499999999997°C\n",
      "Time 96.16 seconds. T1: 20.949499999999997°C\n",
      "Time 98.02 seconds. T1: 20.949499999999997°C\n",
      "Time 100.1 seconds. T1: 20.949499999999997°C\n",
      "Time 102.24 seconds. T1: 20.949499999999997°C\n",
      "Time 104.0 seconds. T1: 20.6272°C\n",
      "Time 106.18 seconds. T1: 20.949499999999997°C\n",
      "Time 108.27 seconds. T1: 20.949499999999997°C\n",
      "Time 110.27 seconds. T1: 20.949499999999997°C\n",
      "Time 112.1 seconds. T1: 20.949499999999997°C\n",
      "Time 114.22 seconds. T1: 20.949499999999997°C\n",
      "Time 116.24 seconds. T1: 20.949499999999997°C\n",
      "Time 118.18 seconds. T1: 20.949499999999997°C\n",
      "Time 120.19 seconds. T1: 20.949499999999997°C\n",
      "Time 122.06 seconds. T1: 20.949499999999997°C\n",
      "Time 124.22 seconds. T1: 20.6272°C\n",
      "Time 126.19 seconds. T1: 20.949499999999997°C\n",
      "Time 128.18 seconds. T1: 20.949499999999997°C\n",
      "Time 130.25 seconds. T1: 20.949499999999997°C\n",
      "Time 132.02 seconds. T1: 20.6272°C\n",
      "Time 134.2 seconds. T1: 20.949499999999997°C\n",
      "Time 136.27 seconds. T1: 20.949499999999997°C\n",
      "Time 138.01 seconds. T1: 20.6272°C\n",
      "Time 140.2 seconds. T1: 20.949499999999997°C\n",
      "Time 142.18 seconds. T1: 20.949499999999997°C\n",
      "Time 144.2 seconds. T1: 20.949499999999997°C\n",
      "Time 146.23 seconds. T1: 20.949499999999997°C\n",
      "Time 148.24 seconds. T1: 20.949499999999997°C\n",
      "Time 150.19 seconds. T1: 20.949499999999997°C\n",
      "Time 152.28 seconds. T1: 20.949499999999997°C\n",
      "Time 154.25 seconds. T1: 20.949499999999997°C\n",
      "Time 156.23 seconds. T1: 20.6272°C\n",
      "Time 158.04 seconds. T1: 20.949499999999997°C\n",
      "Time 160.11 seconds. T1: 20.949499999999997°C\n",
      "Time 162.04 seconds. T1: 20.949499999999997°C\n",
      "Time 164.05 seconds. T1: 20.949499999999997°C\n",
      "Time 166.01 seconds. T1: 20.949499999999997°C\n",
      "Time 168.23 seconds. T1: 20.6272°C\n",
      "Time 170.08 seconds. T1: 20.949499999999997°C\n",
      "Time 172.01 seconds. T1: 20.949499999999997°C\n",
      "Time 174.14 seconds. T1: 20.949499999999997°C\n",
      "Time 176.01 seconds. T1: 20.949499999999997°C\n",
      "Time 178.22 seconds. T1: 20.949499999999997°C\n",
      "Time 180.2 seconds. T1: 20.949499999999997°C\n",
      "Time 182.2 seconds. T1: 20.949499999999997°C\n",
      "Time 184.21 seconds. T1: 20.949499999999997°C\n",
      "Time 186.08 seconds. T1: 20.949499999999997°C\n",
      "Time 188.29 seconds. T1: 20.949499999999997°C\n",
      "Time 190.24 seconds. T1: 20.949499999999997°C\n",
      "Time 192.18 seconds. T1: 20.949499999999997°C\n",
      "Time 194.09 seconds. T1: 20.949499999999997°C\n",
      "Time 196.22 seconds. T1: 20.949499999999997°C\n",
      "Time 198.26 seconds. T1: 20.949499999999997°C\n",
      "Time 200.02 seconds. T1: 20.6272°C\n",
      "TCLab Model disconnected successfully.\n"
     ]
    }
   ],
   "source": [
    "from tclab import setup, clock\n",
    "TCLab = setup(connected=False, speedup=5)\n",
    "\n",
    "with TCLab() as lab:\n",
    "    for t in clock(200, 2):\n",
    "        print(f\"Time {t} seconds. T1: {lab.T1}°C\")\n"
   ]
  }
 ],
 "metadata": {
  "kernelspec": {
   "display_name": "python3",
   "language": "python",
   "name": "python3"
  }
 },
 "nbformat": 4,
 "nbformat_minor": 5
}
