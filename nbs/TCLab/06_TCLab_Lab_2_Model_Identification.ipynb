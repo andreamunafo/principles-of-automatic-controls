{
 "cells": [
  {
   "cell_type": "markdown",
   "id": "9c86e560",
   "metadata": {},
   "source": [
    "# TCLab Lab 2: Model Identification"
   ]
  },
  {
   "cell_type": "markdown",
   "id": "6090fa8e",
   "metadata": {},
   "source": [
    "For this laboratory session you will collect data from a step test experiment, then fit the data to models derived from first-principles energy balances. Fitting models to data is an engineering skill that links between the real world of engineering systems to the theory you've been learning in the classroom."
   ]
  },
  {
   "cell_type": "markdown",
   "id": "fe325c80",
   "metadata": {},
   "source": [
    "## Exercise 1. Verify operation of the temperature control lab.\n",
    "\n",
    "Execute the following cell to verify that you have a working connection to the temperature control lab hardware. This will test for installation of TCLab.py, connection to the Arduino device, and working firmware within the Arduino."
   ]
  },
  {
   "cell_type": "code",
   "execution_count": null,
   "id": "b299aadf",
   "metadata": {},
   "outputs": [],
   "source": [
    "from tclab import TCLab, clock, Historian, Plotter\n",
    "\n",
    "lab = TCLab()\n",
    "print(\"TCLab Temperatures:\", lab.T1, lab.T2)\n",
    "lab.close()"
   ]
  },
  {
   "cell_type": "markdown",
   "id": "81c5424d",
   "metadata": {},
   "source": [
    "## Exercise 2.  Check for steady state\n",
    "\n",
    "As discussed in class, for good model fitting it is essential for the TCLab hardware to be at steady state before proceeding with the step test. Run the following code to verify that the heaters are off and that the temperatures are at a steady ambient temperature."
   ]
  },
  {
   "cell_type": "code",
   "execution_count": null,
   "id": "a3d13826",
   "metadata": {},
   "outputs": [],
   "source": [
    "# experimental parameters\n",
    "tfinal = 30\n",
    "\n",
    "# perform experiment\n",
    "with TCLab() as lab:\n",
    "    h = Historian(lab.sources)\n",
    "    p = Plotter(h, tfinal)\n",
    "    for t in clock(tfinal):\n",
    "        p.update(t)"
   ]
  },
  {
   "cell_type": "markdown",
   "id": "b6cbe984",
   "metadata": {},
   "source": [
    "## Exercise 3. Step test.\n",
    "\n",
    "The step test consists of turning on one heater at 50% power and recording temperature data for at least 800 seconds. Copy and paste the code from Exercise 2 into the following cell, then modify as needed to accomplish the step test. "
   ]
  },
  {
   "cell_type": "code",
   "execution_count": null,
   "id": "e520b25c",
   "metadata": {},
   "outputs": [],
   "source": [
    "# write your code here"
   ]
  },
  {
   "cell_type": "markdown",
   "id": "12fc18fb",
   "metadata": {},
   "source": [
    "## Exercise 4. Verify and save data to a .csv file\n",
    "\n",
    "Run the following cell to verify and save your data to a '.csv' file. Be sure you can find and locate the data on your laptop before leaving the lab. You will need access to this data for subsequent exercises."
   ]
  },
  {
   "cell_type": "code",
   "execution_count": null,
   "id": "db5d52a3",
   "metadata": {},
   "outputs": [],
   "source": [
    "%matplotlib inline\n",
    "import matplotlib.pyplot as plt\n",
    "\n",
    "t, T1, T2, Q1, Q2 = h.fields\n",
    "\n",
    "plt.plot(t, T1, t, T2, t, Q1, t, Q2)\n",
    "plt.legend(['T1','T2','Q1','Q2'])\n",
    "plt.xlabel('Time / seconds')\n",
    "plt.grid()\n",
    "\n",
    "h.to_csv('tclab-data.csv')"
   ]
  },
  {
   "cell_type": "markdown",
   "id": "3ddc50f6",
   "metadata": {},
   "source": [
    "## Exercise 5. Analysis\n",
    "\n",
    "1.) Approximating the the step test results for T1 as a first order transfer function, estimate the time constant and gain. Write your answer in the following cell."
   ]
  },
  {
   "cell_type": "code",
   "execution_count": null,
   "id": "ec2456a7",
   "metadata": {},
   "outputs": [],
   "source": [
    "# write your code here"
   ]
  },
  {
   "cell_type": "markdown",
   "id": "ad74969a",
   "metadata": {},
   "source": [
    "2.) As we discussed in class, a simple energy balance model for T1 is given by\n",
    "\n",
    "$$C_p \\frac{dT_1}{dt} = U_a(T_{amb} - T_1) + P Q_1$$\n",
    "\n",
    "where the parameter $P$ has, through independent means, been determined as 0.04 watts per percent increase in $Q_1$. Use the results of this experiment to estimate values for $C_p$ and $U_a$. Write your answers in the following cell."
   ]
  },
  {
   "cell_type": "code",
   "execution_count": null,
   "id": "cfd65c17",
   "metadata": {},
   "outputs": [],
   "source": [
    "# write your answer here"
   ]
  }
 ],
 "metadata": {
  "kernelspec": {
   "display_name": "python3",
   "language": "python",
   "name": "python3"
  }
 },
 "nbformat": 4,
 "nbformat_minor": 5
}
