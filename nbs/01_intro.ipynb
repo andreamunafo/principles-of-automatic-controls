{
 "cells": [
  {
   "cell_type": "markdown",
   "id": "51f99936-d635-4878-80cd-26d5254f0c3d",
   "metadata": {},
   "source": [
    "# Principles of Automatic Control"
   ]
  },
  {
   "cell_type": "markdown",
   "id": "022b0e40-40b2-48d6-aaad-7f434fe62fe9",
   "metadata": {},
   "source": [
    "\n",
    "Welcome to the course on **Principles of Automatic Control**. In this series of interactive Jupyter notebooks, we'll discuss the fundamental principles, concepts, and terminologies used in the field of control engineering.\n"
   ]
  },
  {
   "cell_type": "markdown",
   "id": "abd05e58-9ce3-4601-93ab-0ec43b18a445",
   "metadata": {},
   "source": [
    "## Introduction to Control Systems\n",
    "\n",
    "Control engineering or control systems engineering deals with designing systems to behave in a desired manner. Today, control systems are integral to our daily lives, and they have a vast range of applications.\n"
   ]
  },
  {
   "cell_type": "markdown",
   "id": "54918c8f-b175-460c-b136-401d6f7ec15f",
   "metadata": {},
   "source": [
    "### Control System Terminology\n",
    "\n",
    "In our initial discussions, we'll focus on the terminologies used in control systems. It's crucial to get acquainted with these terms to have a clear understanding of the subsequent topics.\n",
    "\n",
    "Let's begin!"
   ]
  },
  {
   "cell_type": "markdown",
   "id": "488e428f-34e2-4075-82ea-408f879e693f",
   "metadata": {},
   "source": [
    "### The Role of Control Systems in Modern Technology\n",
    "\n",
    "Control systems play a key role in the development of modern civilization and technology. Examples abound in daily life:\n",
    "\n",
    "1. **Domestic Appliances**: Home heating systems, refrigerators, air conditioners, automobiles.\n",
    "2. **Industrial Applications**: Inventory control, automatic assembly lines, machine tool control.\n",
    "3. **Advanced Technology**: Space technology, weapon systems, robotics, power plants.\n",
    "\n",
    "These systems ensure efficient, reliable, and safe operations in various sectors.\n",
    "\n",
    "<table>\n",
    "    <tr>\n",
    "    <td>\n",
    "        <img src=\"./pics/01_medical_automation.webp?1\" alt=\"01_medical_automation.webp\" style=\"width: 550px;\"/>\n",
    "    </td>\n",
    "    <td>\n",
    "        <img src=\"./pics/01_people_transportation.webp?1\" alt=\"01_people_transportation.webp\" style=\"width: 550px;\"/>\n",
    "    </td>\n",
    "    </tr>\n",
    "    <tr>\n",
    "    <td>\n",
    "        <img src=\"./pics/01_product_transportation.webp?1\" alt=\"01_product_transportation.webp\" style=\"width: 550px;\"/>\n",
    "    </td>\n",
    "    <td>\n",
    "        <img src=\"./pics/01_animal_robot_industry.jpg?1\" alt=\"01_animal_robot_industry\" style=\"width: 550px;\"/>\n",
    "    </td>    \n",
    "    </tr>\n",
    "</table>  \n",
    "\n",
    "\n",
    "Feedback control theory, which we will be focusing on in this course, is also utilized in inventory control and socio-economic systems. \n",
    "\n",
    "While our primary focus will be on **engineering systems**, where the system to be controlled obeys specific physical laws.\n",
    "\n",
    "It's essential to note that control system can be also applied to socio-economic and biological systems (cybernetics), but we will not discuss them in this course.\n"
   ]
  },
  {
   "cell_type": "markdown",
   "id": "ee81d363",
   "metadata": {},
   "source": [
    "### Historical Context and Evolution\n",
    "\n",
    "The application of control techniques began primarily in process control during the early 20th century (1900-1940). The Second World War accelerated the development of control systems with the advent of automatic airplane pilots, gun positioning systems, radar, and antenna control systems. \n",
    "\n",
    "This period marked the birth of servomechanisms, derived from \"servo\" (meaning slave or servant) and \"mechanism\", indicating a system responding to commands. This convergence of disciplines led to the unified feedback control theory we study today.\n"
   ]
  },
  {
   "cell_type": "markdown",
   "id": "192e0ebb-45a3-4f8b-bdcc-c7ef44e9f359",
   "metadata": {},
   "source": [
    "### Basic Control System Terminologies\n",
    "\n",
    "Before we move forward, let's define some of the basic terminologies used in control systems:\n",
    "\n",
    "\n",
    "#### 1. The Process or Plant or Controlled System\n",
    "\n",
    "- **Definition**: The system that is being controlled. It can be any system, machine, or process that needs automated control.\n",
    "- **Examples in Industries**: Chemical, petroleum, steam power, etc., where control of temperature, pressure, liquid level, humidity, and composition is required.\n",
    "These applications are often referred to as \"process control applications.\"\n",
    "\n",
    "\n",
    "#### 2. Response or Controlled Variable\n",
    "\n",
    "- **Definition**: The output or the variable of the process we aim to control.\n",
    "- **Example**: Temperature in a heating system.\n",
    "\n",
    "\n",
    "#### 3. Manipulated Variable\n",
    "\n",
    "- **Definition**: The variable adjusted by the controller to influence the response variable.\n",
    "- **Example**: The valve position in a heating system to regulate heat flow.\n",
    "\n",
    "\n",
    "#### 4. Controller\n",
    "\n",
    "- **Role**: To adjust the manipulated variable to ensure the controlled variable follows the set commands.\n",
    "\n",
    "\n",
    "#### 5. Disturbance\n",
    "\n",
    "- **Characteristics**: An unwanted, uncontrollable, often random signal that affects the process. This signal is beyond our control.\n",
    "- **Sources**: External environmental factors or internal process changes.\n",
    "- **Example**: Ambient temperature fluctuations affecting a heating system (external); Parameter changes with time (internal)\n",
    "\n"
   ]
  },
  {
   "cell_type": "markdown",
   "id": "67e5371a-5ba1-4733-9999-e0c641a49f16",
   "metadata": {},
   "source": [
    "### Block Diagram Representation\n",
    "\n",
    "To understand how a basic control system operates, it's beneficial to use a block diagram representation.\n",
    "\n",
    "<table>\n",
    "    <tr>\n",
    "    <td> \n",
    "    <img src=\"./pics/01_intro_basic_elements_1.png\" alt=\"01_intro_basic_elements_1\" style=\"width: 650px;\"/>    \n",
    "    </td> \n",
    "    </tr>\n",
    "</table> \n",
    "\n",
    "or we can also see the command signal as coming to a single block, which produces the response variable:"
   ]
  },
  {
   "cell_type": "markdown",
   "id": "33a87c7e",
   "metadata": {},
   "source": [
    "<table><tr>\n",
    "<td> <img src=\"./pics/01_intro_basic_elements_2.png\" alt=\"01_intro_basic_elements_1\" style=\"width: 650px;\"/>    \n",
    "</tr></table> \n",
    "\n",
    "_Figure: Block diagram representing the basic control system structure and it main components and signals._\n",
    "\n",
    "Note that although the disturbance is visualised as a signal coming from outside, it might be an internal change (e.g., parameter change)."
   ]
  },
  {
   "cell_type": "markdown",
   "id": "65fef8b4",
   "metadata": {},
   "source": [
    "This latter block diagram shows the our objective is to have a response variable that follows the set commands. Let's now see how we can achieve this objective."
   ]
  },
  {
   "cell_type": "markdown",
   "id": "00562986",
   "metadata": {},
   "source": [
    "### Open-Loop Control System\n",
    "\n",
    "- **Structure**: The controller receives the command signal and adjusts the manipulated variable accordingly, regardless of any disturbances.\n",
    "- **Limitation**: Lack of feedback; the system does not adapt to disturbances or changes in the process.\n"
   ]
  },
  {
   "cell_type": "markdown",
   "id": "7302ee38-e60d-4894-b16d-07f8436084c9",
   "metadata": {},
   "source": [
    "However, such a system can be vulnerable to disturbances. If a random disturbance affects the system, and the controller isn't aware of this change, it may fail to make the response variable follow the command."
   ]
  },
  {
   "cell_type": "markdown",
   "id": "b4a8eb43-b3d2-48ff-9c70-d1eb0d8f5646",
   "metadata": {},
   "source": [
    "### Closed-Loop Control System\n",
    "\n",
    "To tackle this, a more intelligent system, known as the \"closed-loop control\" system, is utilized. Here, the controller receives feedback from the response variable, allowing it to adjust the manipulated variable in real-time and ensuring the output closely follows the command, even when disturbances occur.\n",
    "\n",
    "#### The Intelligence of Closed-Loop Systems\n",
    "\n",
    "The closed-loop system continuously monitors the process it controls and makes real-time adjustments to keep things running smoothly. Here's how it works:\n",
    "\n",
    "1. **Feedback Mechanism**: The controller in a closed-loop system is constantly informed about the current state of the process (the response variable). This continuous stream of feedback is the system's way of keeping its finger on the pulse.\n",
    "2. **Dynamic Adjustment**: Based on this feedback, the controller makes immediate adjustments to the manipulated variable – the component of the system that directly influences the output.\n",
    "\n",
    "#### Dealing with Disturbances\n",
    "\n",
    "In an ideal scenario, if we could predict every disturbance, we could pre-emptively adjust our systems to counteract them. But in reality, disturbances are often random and unpredictable. This is where the closed-loop system's ability to measure and react comes into play:\n",
    "\n",
    "- When a disturbance affects the process, this impact is reflected in the response variable.\n",
    "- By measuring this variable, the system indirectly gathers information about the disturbance.\n",
    "- The controller then compares the actual output (controlled variable) with the intended output (command signal) and identifies any discrepancies.\n",
    "- This comparison produces an error signal, which the controller uses to generate a corrective control signal. This signal is fed back into the process, reducing the error towards zero.\n",
    "\n",
    "\n",
    "Feedback control systems are key in various sectors due to their error-minimizing capabilities. They operate on a straightforward yet effective principle: use feedback to reduce the gap between what is desired (the command signal) and what is actually happening (the actual output).\n",
    "\n",
    "\n",
    "#### Components of a Closed-Loop Control System\n",
    "\n",
    "1. **Sensor**: This component measures the controlled variable, effectively taking the system's temperature.\n",
    "2. **Comparator**: Acting as a judge, it compares the sensor's readings with the desired command signal.\n",
    "3. **Controller**: Based on the comparator's findings, the controller alters the manipulated variable to correct any errors.\n",
    "\n",
    "\n"
   ]
  },
  {
   "cell_type": "markdown",
   "id": "a33b30f2",
   "metadata": {},
   "source": [
    "<table><tr>\n",
    "<td> <img src=\"./pics/01_intro_closed_loop_system.png?1\" alt=\"01_intro_closed_loop_system\" style=\"width: 650px;\"/>    \n",
    "</tr></table> "
   ]
  },
  {
   "cell_type": "markdown",
   "id": "6190fe29-1f75-4bdf-804f-12dd7954c6de",
   "metadata": {},
   "source": [
    "_**Diagram**: A block diagram representing the closed-loop control system. The structure illustrates the feedback from the response variable to the controller._"
   ]
  },
  {
   "cell_type": "markdown",
   "id": "850137b8-94d7-4f62-b767-706c2bbaad6e",
   "metadata": {},
   "source": [
    "### Structure of Feedback Control Systems\n",
    "\n",
    "The mechanism of a feedback control system is an **error self-nulling process**. \n",
    "\n",
    "The system continually checks for discrepancies between the desired command and the actual output, employing controller actions to mitigate these errors. Such a system is commonly known as a closed-loop system due to its looped structure, facilitating the feedback process."
   ]
  },
  {
   "cell_type": "markdown",
   "id": "318b554c-5668-4102-9ccf-ff9482fe3161",
   "metadata": {},
   "source": [
    "The components of this system can be understood as follows:\n",
    "\n",
    "- Command Signal: The desired output or set point.\n",
    "- Controlled Variable: The actual output of the system.\n",
    "- Error Signal: Difference between the command signal and controlled variable.\n",
    "- Controller: It processes the error signal to produce the control signal.\n",
    "- Plant: The actual system being controlled.\n",
    "- Sensor: Measures the output of the plant"
   ]
  },
  {
   "cell_type": "markdown",
   "id": "c933878c-bdf5-4bed-9fd7-509063d640ce",
   "metadata": {},
   "source": [
    "### Challenges in Feedback Control System\n",
    "\n",
    "Despite their effectiveness, closed-loop systems present specific challenges:\n",
    "\n",
    "1. **Sensor Noise**: \n",
    "One of the primary sources of challenges in the feedback control system is the sensor. The inclusion of the sensor, which was absent in open-loop systems, presents its own set of problems:\n",
    "\n",
    "    - Noise: The sensor might introduce noise, especially at high frequencies, during measurement. This noise can disrupt the proper functioning of the plant and the controller, thereby reducing the system's efficiency.\n",
    "    \n",
    "    - Solutions to Noise: Installing suitable noise filters can address this issue, ensuring that the high-frequency noise does not interfere with the operation of the loop.\n",
    "\n",
    "\n",
    "\n",
    "2. **Controller Requirements**:\n",
    "A significant aspect of the feedback system is its controller. \n",
    "    \n",
    "    - The controller's primary aim is to render the system robust. A robust system implies that the controlled variable closely follows the command signal, even in the presence of external disturbances or variations in plant parameters. Achieving this requires a careful balance between system accuracy and stability, a delicate trade-off that forms the core of feedback control theory.\n",
    "\n",
    "\n",
    "    - The objective is for the controlled variable to follow the command. This means that the controller in a closed-loop system should achieve:\n",
    "\n",
    "        - **Accuracy at Steady State**: Minimizing the long-term error between the controlled variable and the command signal.\n",
    "        - **Speed of Response**: Responding quickly to changes in the command or disturbances.\n",
    "\n",
    "3. **Stability Concerns (Trade-off Between Accuracy and Stability)**:\n",
    "    \n",
    "    - As we strive for increased system accuracy, stability might get compromised. This trade-off is an inherent challenge of the feedback structure. Feedback control theory and its designs aim to strike a balance between these conflicting requirements.\n",
    "    \n",
    "\n",
    "### Feedback Control Advantages\n",
    "Feedback control systems are indispensable, primarily due to their robust nature. Despite their associated challenges, their ability to filter disturbances and adjust to parameter variations makes them superior to open-loop systems. Without feedback control structures, it would be challenging to achieve system accuracy effectively."
   ]
  },
  {
   "cell_type": "markdown",
   "id": "5f81acf2",
   "metadata": {},
   "source": [
    "----"
   ]
  },
  {
   "cell_type": "markdown",
   "id": "8caac797-07ff-4057-b1a6-d479f05ad276",
   "metadata": {},
   "source": [
    "### Example"
   ]
  },
  {
   "cell_type": "code",
   "execution_count": null,
   "id": "2eb0d1f9",
   "metadata": {},
   "outputs": [],
   "source": [
    "import numpy as np\n",
    "import matplotlib.pyplot as plt\n",
    "from scipy.integrate import odeint"
   ]
  },
  {
   "cell_type": "code",
   "execution_count": null,
   "id": "55f0b83c-f017-4a4a-9198-14acff8d56a6",
   "metadata": {},
   "outputs": [
    {
     "data": {
      "image/png": "[encoded data removed]",
      "text/plain": [
       "<Figure size 1000x600 with 2 Axes>"
      ]
     },
     "metadata": {},
     "output_type": "display_data"
    }
   ],
   "source": [
    "def open_loop_system(y, t, K, tau):\n",
    "    \"\"\"Open-loop system model.\"\"\"\n",
    "    u = 1  # step input\n",
    "    if 3 <= t <= 8:  # Adding a disturbance between time 3 and 5\n",
    "        u += 1.0\n",
    "    dydt = (-y + K * u) / tau\n",
    "    return dydt\n",
    "\n",
    "def closed_loop_system(states, t, K, tau, Ki, Kd):\n",
    "    \"\"\"Closed-loop system model with PID control.\"\"\"\n",
    "    y, e_prev, e_int = states  # y is system output, e_prev is previous error, e_int is integral of error\n",
    "    setpoint = 1  # desired setpoint\n",
    "    disturbance = 0\n",
    "    \n",
    "    if 3 <= t <= 5:  # Adding a disturbance between time 3 and 5\n",
    "        disturbance += 1.0\n",
    "        \n",
    "    # Error\n",
    "    e = setpoint - y\n",
    "    \n",
    "    # PID Controller\n",
    "    u = K * e + Ki * e_int + Kd * (e - e_prev)\n",
    "    \n",
    "    dydt = (-y + u + disturbance) / tau  # Disturbance is added directly to the system dynamics\n",
    "    deintdt = e  # Integral of error over time\n",
    "    dedt = e - e_prev\n",
    "    \n",
    "    return [dydt, dedt, deintdt]\n",
    "\n",
    "\n",
    "# System parameters\n",
    "K = 2.5\n",
    "tau = 1.0\n",
    "Ki = 1.0  # Integral gain\n",
    "Kd = 0.5  # Derivative gain\n",
    "\n",
    "# Time array\n",
    "t = np.linspace(0, 10, 100)\n",
    "\n",
    "# Solve ODE for the open-loop system\n",
    "y_open = odeint(open_loop_system, 0, t, args=(K, tau))\n",
    "error_open = 1 - y_open.squeeze()  # desired setpoint is 1, so error is 1 - output\n",
    "\n",
    "# Solve ODE for the closed-loop system\n",
    "initial_conditions = [0, 0, 0]  # initial values for y, e_prev, and e_int\n",
    "y_closed, error_closed, _ = odeint(closed_loop_system, initial_conditions, t, args=(K, tau, Ki, Kd)).T\n",
    "\n",
    "# Plot Responses\n",
    "plt.figure(figsize=(10,6))\n",
    "plt.subplot(2, 1, 1)\n",
    "plt.plot(t, y_closed, 'r-', label='Closed-loop Response (PID)')\n",
    "plt.plot(t, y_open, 'b--', label='Open-loop Response')\n",
    "plt.ylabel('Response')\n",
    "plt.title('Control System Response with Disturbance')\n",
    "plt.legend()\n",
    "plt.grid()\n",
    "\n",
    "# Plot Errors\n",
    "plt.subplot(2, 1, 2)\n",
    "plt.plot(t, error_closed, 'r-', label='Closed-loop Error (PID)')\n",
    "plt.plot(t, error_open, 'b--', label='Open-loop Error')\n",
    "plt.xlabel('Time')\n",
    "plt.ylabel('Error')\n",
    "plt.title('Control System Errors with Disturbance')\n",
    "plt.legend()\n",
    "plt.grid()\n",
    "plt.tight_layout()\n",
    "plt.show()"
   ]
  },
  {
   "cell_type": "markdown",
   "id": "fa656c4e-74f6-453a-87cf-9f7cd6986984",
   "metadata": {},
   "source": [
    "The system we're simulating is a basic first-order system. It's one of the simplest dynamical systems used often as a foundational building block in control theory. The equations governing its dynamics, in general, look like:\n",
    "\n",
    "$$\n",
    "\\tau \\frac{dy(t)}{dt} + y(t) = Ku(t) \n",
    "$$\n",
    "\n",
    "Here:\n",
    "- $\\tau$ is the time constant of the system. It gives an idea of how fast the system responds to changes in the input.\n",
    "- $K$ is the system gain. It tells you how much the system output changes for a given change in the input.\n",
    "- $u(t)$ is the system input at time $t$.\n",
    "- $y(t)$ is the system output at time $t$.\n",
    "\n",
    "The open-loop system directly acts on the system with the input $u(t)$. There's no feedback, so if there's a disturbance or the system isn't behaving as expected, the open-loop system cannot correct for it.\n",
    "\n",
    "The closed-loop system, on the other hand, uses feedback. The system output $y(t)$ is constantly measured and compared to the desired setpoint to determine the error. A controller then adjusts the system input $u(t)$ based on this error to make the system output match the desired setpoint. This allows the closed-loop system to correct for disturbances and system behavior that deviates from the desired behavior.\n",
    "\n",
    "In our specific simulation:\n",
    "- The open-loop system was modeled to show how it reacts directly to an input and a disturbance without any feedback mechanism.\n",
    "- The closed-loop system was modeled using a simple proportional controller with a derivative term. The controller tries to minimize the error, which is the difference between the desired output (setpoint + disturbance) and the actual system output. This allows the closed-loop system to correct when there's a disturbance or other unexpected behavior.\n",
    "\n",
    "With this feedback mechanism, the controller can dynamically adjust and correct any deviations, ensuring the system remains stable and performs as desired."
   ]
  },
  {
   "cell_type": "markdown",
   "id": "32bacd70",
   "metadata": {},
   "source": [
    "------"
   ]
  },
  {
   "cell_type": "markdown",
   "id": "64e934d4-d5b7-4e6e-affe-48a169824167",
   "metadata": {},
   "source": [
    "## Design Approaches for Feedback Control Systems\n",
    "\n",
    "Designing an effective controller is paramount. There are various approaches to this, and they can be categorized as follows:\n",
    "\n",
    "1. **Experimental Approach (Controller Tuning)**:\n",
    "   - **Method**: Adjusting the controller based on practical experience and real-time feedback. A controller is installed based on past experiences and then adjusted in real-time until the desired results are achieved.\n",
    "   - **Use Case**: Commonly used in process control where accurate process models are hard to obtain or very complex (e.g., highly non-linear plants).\n",
    "   - **Nature**: It's an ad-hoc approach, relying more on empirical knowledge than theoretical models.\n",
    "\n",
    "2. **Model-Based Approach (Analytical Approach)**:\n",
    "   - **Method**: Developing a mathematical model of the system (differential equations, transfer functions, state variable models) and designing the controller based on this model.\n",
    "   - **Use-case**: This is a methods used for complex systems where control requirements are tight, a model-based approach is more suitable. Here, the system's dynamics are captured in a mathematical model, which is then used to design the controller analytically.\n",
    "   - **Advantage**: Provides a more precise control, especially for complex systems.\n",
    "\n",
    "3. **Knowledge-Based or Data-Based Approach**:\n",
    "   - **Recent Trends**: Includes methods like expert control, fuzzy control, neural networks, and reinforcement learning. The core idea is to utilize qualitative guidelines or rules derived from expert knowledge (either an expdert user or data) to design the controller.\n",
    "   - **Application**: Becoming increasingly popular in industrial applications.\n",
    "\n",
    "For the scope of this course, we will primarily focus on the **model-based control**. This involves deriving a mathematical model of the physical system, which can be based on physical laws or experimentation.\n",
    "\n",
    "### Approach\n",
    "\n",
    "For a physical system we will obtain a methematical model. This can be derived:\n",
    "\n",
    "1. **Using Physical Laws**: Deriving differential equations based on the physical principles governing the system, which can then be translated into a more convenient representation, e.g., transfer functions or state-space variables.\n",
    "\n",
    "2. **Performing Experimentation**: Conducting experiments to determine input-output relationships and modeling these using suitable mathematical forms, for example, transfer functions. This is called system identification.\n",
    "\n"
   ]
  },
  {
   "cell_type": "markdown",
   "id": "a311b328",
   "metadata": {},
   "source": [
    "----"
   ]
  },
  {
   "cell_type": "markdown",
   "id": "78e178d2-1b18-482b-a148-1f0070104971",
   "metadata": {},
   "source": [
    "## Historical Context:\n",
    "\n",
    "The evolution of control design methods can be broadly categorized into two main eras:\n",
    "\n",
    "1. **Classical Control Design (1940-1960)**: This period witnessed the development of frequency domain design methods. Techniques like Nyquist Stability methods, Bode plots, and Root Locus plots emerged. They are still very much in use, especially in industrial control applications (servo mechanism development).\n",
    "\n",
    "2. **Modern Control Design (1960s onwards)**: Space vehicle control requirements gave birth to state-space techniques, known as Modern Control Design. While these methods are termed \"modern,\" it's crucial to understand that both classical and modern methods are still prevalent and critical in their respective applications.\n",
    "\n",
    "The term \"modern control design\" might be a bit misleading. It emerged primarily from the specific requirements of tracking in space vehicles. Yet, in the realm of industrial control, the classical methods of design are still widely prevalent. In fact, about 75% of today's industrial control problems are addressed using these classical techniques.\n",
    "\n",
    "While modern methods have their origins and advantages, particularly in specialized applications like space vehicles, it is still debatable which method offers more **robustness**. Robustness, after all, is the primary requirement for most systems.\n",
    "\n",
    "This ongoing debate makes it imperative to forgo the terminology of classical and modern control, as both are equally relevant depending on the application.\n"
   ]
  },
  {
   "cell_type": "markdown",
   "id": "e1c0c0a7-a8c2-4887-a8ad-7a856c03a455",
   "metadata": {},
   "source": [
    "For the scope of this course, our primary concentration will be on the **frequency domain methods of design**. This will provide you with a comprehensive understanding of the foundational methods in control design.\n",
    "\n",
    "However, we won't neglect the state variable methods altogether. Instead, they'll be introduced not from a design perspective but rather for system simulation.\n",
    "System simulation, when approached through state variable formulation, can be more intuitive and effective."
   ]
  },
  {
   "cell_type": "markdown",
   "id": "ad1d7b09-75fd-41c6-8e18-9b0f9187303a",
   "metadata": {},
   "source": [
    "## Illustrative Examples of Control Systems\n",
    "\n",
    "It's often helpful to relate theoretical concepts to real-world examples. This helps in understanding the broader applications and nuances of control systems in everyday life.\n",
    "\n",
    "### Examples of Controlled Systems:\n",
    "- Bathroom Toilet Tank: A seemingly simple system, but it is, in essence, a feedback control mechanism.\n",
    "- Automobile Driving: Encompasses various control systems, from speed regulation to power steering.\n",
    "- Residential Heating: Thermostats and HVAC systems rely on feedback to maintain desired temperatures.\n",
    "- Hydraulic Steering Mechanism: A critical component for many heavy-duty vehicles and systems.\n",
    "- Antenna Servo System: Used for tracking and communications.\n",
    "- Speed Control System: Found in various machines, from industrial setups to home appliances."
   ]
  },
  {
   "cell_type": "markdown",
   "id": "7b8e95e5",
   "metadata": {},
   "source": [
    "We will delve further into these examples, framing them within the context of feedback control systems. By doing so, we aim to provide a deeper understanding of how these principles are applied in practical scenarios."
   ]
  },
  {
   "cell_type": "markdown",
   "id": "f268e758",
   "metadata": {},
   "source": [
    "----"
   ]
  },
  {
   "cell_type": "code",
   "execution_count": null,
   "id": "efd63ad2",
   "metadata": {},
   "outputs": [],
   "source": [
    "#| hide\n",
    "from IPython.display import Image\n",
    "from IPython.display import HTML\n",
    "\n",
    "# To support animationsa\n",
    "from matplotlib import animation, rc\n",
    "from matplotlib.animation import FuncAnimation\n",
    "#| hide\n",
    "# This is equivalent to rcParams['animation.html'] = 'html5'\n",
    "rc('animation', html='html5')"
   ]
  },
  {
   "cell_type": "markdown",
   "id": "7f7f5b2b",
   "metadata": {},
   "source": [
    "<table>\n",
    "    <tr>\n",
    "    <td>\n",
    "    <figure>\n",
    "    <video controls src=\"videos/SpaceX-Nails-Landing-of-Reusable-Rocket-on-Land.mp4\" width=\"600\" height=\"400\"  frameborder=\"0\" ></video>        \n",
    "    <figcaption>SpaceX Nails Landing of Reusable Rocket on Land, From Bloomberg Technology</figcaption>\n",
    "    </figure>\n",
    "    </td>\n",
    "    </tr>\n",
    "</table> "
   ]
  },
  {
   "cell_type": "markdown",
   "id": "77b0a5c9",
   "metadata": {},
   "source": [
    "<table>\n",
    "    <tr>\n",
    "    <td>\n",
    "    <figure>\n",
    "    <video controls src=\"videos/SpaceX-2.mp4\" width=\"600\" height=\"400\"  frameborder=\"0\" ></video>        \n",
    "    <figcaption>SpaceX Nails Landing of Reusable Rocket on Land (close up)</figcaption>\n",
    "    </figure>\n",
    "    </td>\n",
    "    </tr>\n",
    "</table> "
   ]
  },
  {
   "cell_type": "markdown",
   "id": "3b314d4f",
   "metadata": {},
   "source": [
    "Where does Control System Engineering come into place?\n",
    "\n",
    "- Attitude control\n",
    "- Landing control\n",
    "- Trajectory tracking\n",
    "- Land control (e.g., antennna tracking)"
   ]
  },
  {
   "cell_type": "markdown",
   "id": "82b29fa7",
   "metadata": {},
   "source": [
    "<table>\n",
    "    <tr>\n",
    "    <td>\n",
    "    <figure>\n",
    "    <video controls src=\"videos/Rolls-Royce.mp4\" width=\"600\" height=\"400\"  frameborder=\"0\" ></video>        \n",
    "    <figcaption>Autonomous Ferries (Rolls-Royce)</figcaption>\n",
    "    </figure>\n",
    "    </td>\n",
    "    </tr>\n",
    "</table> "
   ]
  },
  {
   "cell_type": "markdown",
   "id": "c1b86d17",
   "metadata": {},
   "source": [
    "<table>\n",
    "    <tr>\n",
    "    <td>\n",
    "    <figure>\n",
    "    <video controls src=\"videos/Atlas.mp4\" width=\"600\" height=\"400\"  frameborder=\"0\" ></video>        \n",
    "    <figcaption>Atlas (Boston Dynamics)</figcaption>\n",
    "    </figure>\n",
    "    </td>\n",
    "    </tr>\n",
    "</table> "
   ]
  },
  {
   "cell_type": "markdown",
   "id": "b41a771b-f20b-44e2-a281-0552c47fdc2b",
   "metadata": {},
   "source": [
    "## Conclusions"
   ]
  },
  {
   "cell_type": "markdown",
   "id": "70427c5a-6a1a-4f3d-9caf-ba4f60402e06",
   "metadata": {},
   "source": [
    "Feedback control systems form the backbone of many modern engineering applications. The ability to provide a mechanism to automatically adjust system behavior based on feedback from outputs makes these systems indispensable. However, the design and implementation of these systems require a comprehensive understanding of their structure, challenges, advantages, and the various approaches available. In subsequent chapters, we'll delve deeper into each of these aspects, providing a more detailed look at the intricacies of feedback control systems."
   ]
  },
  {
   "cell_type": "code",
   "execution_count": null,
   "id": "9c25e688",
   "metadata": {},
   "outputs": [],
   "source": []
  }
 ],
 "metadata": {
  "kernelspec": {
   "display_name": "python3",
   "language": "python",
   "name": "python3"
  }
 },
 "nbformat": 4,
 "nbformat_minor": 5
}
