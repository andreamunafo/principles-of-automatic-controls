{
 "cells": [
  {
   "cell_type": "markdown",
   "id": "575dd0e1",
   "metadata": {},
   "source": [
    "# Syllabus for \"Principles of Automatic Control\""
   ]
  },
  {
   "cell_type": "markdown",
   "id": "4a9d8813",
   "metadata": {},
   "source": [
    "Instructors:\n",
    "- Andrea Munafo (andrea.munafo@unipi.it)\n",
    "- Riccardo Costanzi (riccardo.costanzi@unipi.it)"
   ]
  },
  {
   "cell_type": "markdown",
   "id": "9edd4ae5",
   "metadata": {},
   "source": [
    "- Semester: Spring 2024\n",
    "\n",
    "- Lectures: 3 sessions (8h) / week for 8 weeks\n",
    "\n",
    "    - Tuesday: 08:30 - 11:30\n",
    "    - Wednesday: 10.30-13:30\n",
    "    - Thursday: 11.30-13:30\n",
    "\n",
    "- Office Hours: After Lectures"
   ]
  },
  {
   "cell_type": "markdown",
   "id": "6cfa8ae3",
   "metadata": {},
   "source": [
    "------"
   ]
  },
  {
   "cell_type": "markdown",
   "id": "9924eed2",
   "metadata": {},
   "source": [
    "## Learning Outcomes\n",
    "\n",
    "- Understand the fundamental principles of automatic control, including concepts such as feedback control, stability, and controllability.\n",
    "- Analyze and design control systems using mathematical models and tools, including Laplace transforms, transfer functions, and block diagrams.\n",
    "- Apply control strategies to various real-world engineering problems, such as temperature control, speed control, etc.\n",
    "- Evaluate the performance of control systems and identify ways to improve them, including adjusting control parameters and modifying system components.\n",
    "- Develop critical thinking and problem-solving skills by applying control principles to novel and complex engineering problems, and communicating their findings effectively.\n",
    "\n",
    "_You will be well-prepared to apply the principles of automatic control to a variety of engineering fields, such as robotics, aerospace, and manufacturing, etc._\n",
    "\n",
    "-----\n"
   ]
  },
  {
   "cell_type": "markdown",
   "id": "8d995e7e",
   "metadata": {},
   "source": [
    "## Course Description\n",
    "\n",
    "This course introduces the design of feedback control systems. Topics include:\n",
    "\n",
    "<table>\n",
    "  <tr>\n",
    "    <td style=\"vertical-align:top; text-align:left;\">\n",
    "      <ul>\n",
    "        <li>A bit on Python/Jupyter notebook</li>\n",
    "        <li>Open loop vs Closed Loop</li>\n",
    "        <li>Transfer functions and Laplace transform</li>\n",
    "        <li>Block Diagrams</li>\n",
    "        <li>Reponse of a system</li>          \n",
    "        <li>Frequency response and Bode plots</li>   \n",
    "        <li>Final Value Theorem and Steady State</li>\n",
    "      </ul>\n",
    "    </td>\n",
    "    <td style=\"vertical-align:top; text-align:left;\">\n",
    "      <ul>\n",
    "        <li>System Stability and Control</li>\n",
    "        <li>The Root Locus Method</li>\n",
    "        <li>PID controllers</li>\n",
    "        <li>Gain and phase margins</li>\n",
    "        <li>Sensitivity Functions</li>\n",
    "        <li>Lead/Lag compensators</li>\n",
    "        <li>State space analysis</li>  \n",
    "      </ul>\n",
    "    </td>\n",
    "  </tr>\n",
    "</table>\n",
    "\n",
    "----"
   ]
  },
  {
   "cell_type": "markdown",
   "id": "aa630c25",
   "metadata": {},
   "source": [
    "## Tutorials and TCLab\n",
    "\n",
    "The practical component of our course involves using the Temperature Control Lab ([TCLab](http://apmonitor.com/pdc/index.php/Main/ArduinoTemperatureControl)). This hands-on approach enhances understanding of control problems.\n",
    "\n",
    "<table>\n",
    "    <tr>\n",
    "    <td>\n",
    "        <img src=\"./TCLab/pics/tclab_transparent.png\" alt=\"tclab_transparent\" style=\"width: 450px;\"/>    \n",
    "    </td>\n",
    "    </tr>\n",
    "</table> \n",
    "\n",
    "You can purchase TCLab on [amazon.com](amazon.com) for about $50, but purchasing it is not mandatory for this course. I will provide a limited number of boards, and TCLab offers simulators, which are usually sufficient for grasping the course concepts.\n",
    "\n",
    "**Guidelines for Using TCLab:**\n",
    "- Only one board at any time.\n",
    "- Schedule your TCLab time using the course Teams channel spreadsheet. When returning the board, ensure to check out. Responsibility for the board rests with the last person listed as having it on the spreadsheet."
   ]
  },
  {
   "cell_type": "markdown",
   "id": "3c93ccd5",
   "metadata": {},
   "source": [
    "**Week 1: Introduction and Basics**\n",
    "- **Notebooks:** \n",
    "    - Introduction (`01_intro`)\n",
    "    - Basics of Feedback Control (`02_basics_of_feedback_control`)\n",
    "- **Objectives:** \n",
    "   - Understanding Control Systems and their importance in modern technology. Discussions on basic terminologies and concepts in control systems. Distinction between Open-Loop and Closed-Loop control systems. Exploring the structure and challenges of Feedback Control Systems. Design approaches for Feedback Control Systems. Historical context and evolution of control systems.\n",
    "\n",
    "- **TCLab Integration:** Familiarization with the lab and basic setup.\n",
    "   - Notebooks: `00_Spacecraft_Thermal_Control_Systems`, `01_TCLab`, `01_Understanding_TCLab`\n",
    "   - Lab: `02_TCLab_Lab_1_Coding_a_relay_controller`\n",
    "\n",
    "- **Activities:** Group discussions on real-world applications of control systems.\n",
    "\n",
    "- **Assignment:** \n",
    "   - [Install Python](https://www.apmonitor.com/pdc/index.php/Main/InstallPython). Python is a general-purpose programming language. It is used in this course for process dynamics and control. \n",
    "   - [Install TCLab Libraries](01_TCLab)\n"
   ]
  },
  {
   "cell_type": "markdown",
   "id": "82bc07a6",
   "metadata": {},
   "source": [
    "**Week 2: Mathematical Modeling**\n",
    "- **Notebooks:** \n",
    "   - Mathematical Models (`03_introduction_to_control_problem`), \n",
    "   - Laplace Transforms and Transfer Functions (`04_dynamic_systems`),\n",
    "   - System Response and The Final Value Theorem; Characteristics of First-Order and Second-Order systems (`05_dynamic_response`)\n",
    "\n",
    "- **Objectives:** \n",
    "   - Understanding mathematical models and transfer functions in control systems. Real-world examples of control systems: Water Level Control, Automobile Driving System, Hydraulic Power Steering Mechanism, Residential Heating System. Introduction to Multi-Input Multi-Output (MIMO) systems. Analysis of complex control systems and their components. Block Diagram of Basic Feedback Structure.   \n",
    "   \n",
    "- **TCLab Integration:** Modeling Identification\n",
    "    - Notebooks: `03_System_Model_and_Identification_TCLab`, `04_Step_Testing_TCLab`, `05_Fitting_Step_Test_Data_to_Empirical_Models`, (optional: `05b_First-Order-Model-for-a-Single-Heater`)\n",
    "    - Lab: `06_TCLab_Lab_2_Model_Identification`\n",
    "\n",
    "- **Activities:** Problem-solving sessions to apply mathematical models to theoretical scenarios.\n",
    "\n",
    "- **Assignment:** [TCLab Simulate Step Response](https://www.apmonitor.com/pdc/index.php/Main/TCLabSim). Description: Dynamic Temperature Response of a Heater and Temperature Sensor with an Arduino"
   ]
  },
  {
   "cell_type": "markdown",
   "id": "308ad2b5",
   "metadata": {},
   "source": [
    "**Week 3: System Response and Feedback**\n",
    "- **Notebooks:**   \n",
    "   - Inverse Laplace Transform (`06_inverse_laplace_transform`)\n",
    "   - Modeling Dynamic Systems: mechanical and thermal modeling (`07_modeling_dynamic_systems`) \n",
    "   - Components of a controller (`08_control_system_components`)\n",
    "   - Models of Control Devices and Systes (`09_Models_of_Control_Devices_and_Systems`)\n",
    "   - Hardware and some case studies (`10_hardware_and_case_studies`, `11_AC_hardware_and_case_studies`)\n",
    "   \n",
    "- **Objectives:** \n",
    "    - Explore system response to various inputs and the role of feedback in control systems. Time-domain analysis of systems, introduction to modelling of physical systems. Understanding hardware and exemplar case studies for practical understanding. Application of inverse Laplace transform in control systems. Methods of partial fraction decomposition for complex functions.\n",
    "\n",
    "- **TCLab Integration:** Given the data from an identification experiment, the next task is to find one or more models that accurately reproduce the process response to changes in the manipulated variable. This notebook demonsrates a practical approach to fitting low-order models to step response data.\n",
    "    - Notebooks: -\n",
    "    - Lab: `07_CLab_Lab_2_Fitting`\n",
    "\n",
    "- **Activities:** Interactive simulations to demonstrate the impact of feedback on system stability.\n",
    "\n",
    "- **Assignment:** [TCLab Convective Heat Transfer](https://www.apmonitor.com/pdc/index.php/Main/TCLabConvection). Description: Convective Heat Transfer Prediction with a Transistor Heater. !!!"
   ]
  },
  {
   "cell_type": "markdown",
   "id": "11ef2ff5",
   "metadata": {},
   "source": [
    "**Week 4: Stability and Controllers**\n",
    "- **Notebooks:** \n",
    "    - A first complete application, temperature control system (`12_A_First_Complete_Application`)\n",
    "    - Feedback Control (`13_Principles_of_Feedback_Control`, `14_Feedback_systems_and_their_effects`)\n",
    "    - Diving deeper on control systems: PID Controllers (`Introduction to Control Systems`)\n",
    "    - Stability Analysis in Control Systems (`16_Stability`, `17_Stability_and_Routh_Criterion`)\n",
    "\n",
    "- **Objectives:** \n",
    "     - Applying theoretical knowledge to a complete control system application. Detailed study of feedback control principles and their applications. Analyzing the effects of feedback mechanisms in control systems. Revisiting the fundamental concepts in control systems. Study the concepts of stability in systems and feedback systems, and the basics of PID controllers. Detailed study of the Routh criterion and its application in assessing stability. \n",
    "     \n",
    "- **TCLab Integration:** Implement controllers using TCLab.\n",
    "    - Notebooks: `08_Relay_Control`, `09_PID_Control`\n",
    "    - Labs: `10_Lab-Assignment-PID-Control`, `11_Lab-Assignment-PI-Control`\n",
    "\n",
    "- **Activities:** Group exercises to design basic PID controllers for given specifications.\n",
    "\n",
    "- **Resources:** [TCLab FOPDT Model](https://www.apmonitor.com/pdc/index.php/Main/TCLabFOPDT). Description: Linear Dynamic Temperature Response Model of a Heater and Temperature Sensor with an Arduino"
   ]
  },
  {
   "cell_type": "markdown",
   "id": "4b565659",
   "metadata": {},
   "source": [
    "**Week 5: Advanced Control Strategies**\n",
    "- **Notebooks:** \n",
    "    - Performance of Feedback Systems (`18_Performance_of_Feedback_Systems`)\n",
    "    - Design of Feedback Control: Second Order Systems (`19_Design_of_feedback_control`, `20_Design_of_feedback_control_continued`)\n",
    "    - Steady-state accuracy and a complete design example (`21_Steady_State_Accuracy_And_Design_Principles`)\n",
    "\n",
    "- **Objectives:** \n",
    "    - Study the concepts of performance in feedback systems. Evaluating and enhancing the performance of feedback control systems. Introduction to steady-state accuracy. Initial discussions on strategies and methodologies for designing effective feedback control systems.\n",
    "    \n",
    "- **TCLab Integration:** Continue with implementation of simple PID controllers using TCLab.    "
   ]
  },
  {
   "cell_type": "markdown",
   "id": "f6f19a3a",
   "metadata": {},
   "source": [
    "**Week 6: Advanced Control Strategies: Root Locus**\n",
    "- **Notebooks:** \n",
    "    - Root Locus (`22_Compensator_Design_Using_Root_Locus`, `23_Design_with_the_root_locus`, `24_Compensators_and_Root_Locus`)\n",
    "    \n",
    "- **Objectives:** \n",
    "    - Understanding the Root Locus and how to use it to design control systems.\n",
    "    \n",
    "- **TCLab Integration:** TBC\n",
    "\n",
    "- **Activities:** Case studies of different control strategies in computing systems.\n",
    "\n",
    "- **Assignment:** [Graphical Method: FOPDT to Step Test](https://www.apmonitor.com/pdc/index.php/Main/FirstOrderGraphical). Description: A first-order linear system with time delay is a common empirical description of many dynamic processes. Python source code demonstrates how to simulate a step test and compare with an FOPDT approximation.\n",
    "\n",
    "[TCLab FOPDT Regression](https://www.apmonitor.com/pdc/index.php/Main/TCLabRegression). Description: Linear Dynamic Temperature Response Model of a Heater and Temperature Sensor with an Arduino"
   ]
  },
  {
   "cell_type": "markdown",
   "id": "5206cf7f",
   "metadata": {},
   "source": [
    "**Week 7: Advanced Control Strategies: Frequency Response**\n",
    "- **Notebooks:** \n",
    "    - Frequency Response and the Nyquist's Criterion (`25_Introduction_to_Frequency_Domain_Analysis_in_Control_Systems`)\n",
    "    - Application of the Nyquist's Criterion (`26_Application_of_Nyquist_Stability_Criterion`)\n",
    "    - Relative Stability (`27_The_Nyquist_Stability_Criterion_and_Relative_Stability`)\n",
    "- **Objectives:** \n",
    "    - Understanding the Frequency Response, the Nyquist Criterion and the concept of relative stability.\n",
    "    \n",
    "- **TCLab Integration:** Design and implement a controller using TCLab.\n",
    "- **Activities:** Case studies of different control strategies in computing systems.\n",
    "- **Assignment:** [TCLab Controller Design](https://www.apmonitor.com/pdc/index.php/Main/TCLabControlDesign). Description: Design a controller for automation of temperature regulation to a setpoint. The controller adjusts a heater to regulate the temperature."
   ]
  },
  {
   "cell_type": "markdown",
   "id": "0d6b589a",
   "metadata": {},
   "source": [
    "**Week 8: Bode Plots, Control and Final Comments**\n",
    "- **Notebooks:** \n",
    "    - Bode Plots (`28_Body_Plots`)\n",
    "    - System performance in the frequency domain (`29_Feedback_system_performance_based_on_frequency_response`)\n",
    "    - Loop shaping (`30_Loop_Shaping`)\n",
    "\n",
    "- **Objectives:** \n",
    "   - Understanding Bode Plots. Analysis of performance in the frequency domain. Loop shaping as a control strategy. Review of key concepts and preparation for the final exam. \n",
    "   \n",
    "- **TCLab Integration:** State-space modeling with TCLab.\n",
    "- **Activities:** Q&A sessions, mock tests, and group discussions.\n",
    "\n",
    "- **Assignement:** \n",
    "    - [TCLab Proportional-only Control](https://www.apmonitor.com/pdc/index.php/Main/TCLabPOnlyControl). Description: TCLab with proportional-only control has offset between the setpoint and measured temperature. The purpose of this lab activity is to quantify and verify the offset.\n",
    "    - [TCLab PI Control](https://www.apmonitor.com/pdc/index.php/Main/TCLabPIControl). Description: TCLab with proportional integral (PI) control eliminates offset between the setpoint and measured temperature\n",
    "    - [TCLab PID Control](https://www.apmonitor.com/pdc/index.php/Main/TCLabPIDControl). Description: TCLab with proportional integral derivative (PID) control. Use IMC and ITAE tuning and compare the response\n"
   ]
  },
  {
   "cell_type": "markdown",
   "id": "5144f37c",
   "metadata": {},
   "source": [
    "----"
   ]
  },
  {
   "cell_type": "markdown",
   "id": "36456bbd",
   "metadata": {},
   "source": [
    "## Textbooks\n",
    "\n",
    "Italian\n",
    "- Bolzern, Scattolini, Schiavoni. Fondamenti di Controlli Automatici, 2nd ed. McGraw-Hill.\n",
    "- Ogata, Katsuhiko. Modern Control Engineering. 4th ed. Prentice Hall, 2002.\n",
    "\n",
    "\n",
    "English\n",
    "- Ogata, Katsuhiko. Modern Control Engineering. 4th ed. Prentice Hall, 2002.\n",
    "- M. Gopal, Control Systems Principles and Design, McGraw-Hill (3rd edition).\n",
    "- Richard C. Dorf and Robert H. Bishop IE, Modern Control Systems (13th Edition).\n",
    "\n",
    "\n",
    "Other texts which might be helpful:\n",
    "\n",
    "- G. Marro, Controlli Automatici, Zanichelli\n",
    "\n",
    "- Franklin, Gene, J. David Powell, and Abbas Emami-Naeini. Feedback Control of Dynamic Systems. 6th ed. Prentice Hall, 2009. ISBN: 9780136019695.\n",
    "\n",
    "- Van de Vegte, John. Feedback Control Systems. 3rd ed. Prentice Hall, 1994. ISBN: 9780002085069.\n",
    "\n",
    "- Kuo, Benjamin. Automatic Control Systems. 8th ed. John Wiley & Sons, 2003. ISBN: 9780471381488.\n",
    "\n",
    "- Ogata, Katsuhiko. Solving Control Engineering Problems with MATLAB. Prentice Hall, 1993. ISBN: 9780130459077."
   ]
  },
  {
   "cell_type": "markdown",
   "id": "3c121542",
   "metadata": {},
   "source": [
    "## The Role of Software in the Study of Feedback Systems\n",
    "\n",
    "- Using a software package like Python or MATLAB is very helpful in the study of Feedback Systems."
   ]
  },
  {
   "cell_type": "markdown",
   "id": "81eeaed3",
   "metadata": {},
   "source": [
    "- The software can best be used initially to check work that is first done traditionally with pencil and paper.\n",
    "- This is particularly helpful when verifying polar plots (Nyquist plots), Bode diagrams and root loci when first attempting to sketch these functions.\n",
    "- Step responses in the time domain can be examined in order to build an intuitive sense of the relations between time and frequency domain behavior.\n",
    "- Simplifying approximations that are often made when carrying out preliminary designs can be checked for validity using Python.\n",
    "- More complex problems can be studied with a computer-aided design package without the enormous burden of doing extensive computations."
   ]
  },
  {
   "cell_type": "markdown",
   "id": "8e2accf6",
   "metadata": {},
   "source": [
    "- We suggest that everyone become familiar with the use of Python or MATLAB.\n",
    "- Remember that the computer is to aid in achieving understanding and should be used intelligently as an engineering tool.\n",
    "- The goal is for you to come away with an understanding of feedback theory in some depth."
   ]
  },
  {
   "cell_type": "markdown",
   "id": "2befb754",
   "metadata": {},
   "source": [
    "## Frequently Asked Questions (FAQ)\n",
    "\n",
    "- see notebook `00_FAQ.ipynb`"
   ]
  },
  {
   "cell_type": "code",
   "execution_count": null,
   "id": "6d699a1b",
   "metadata": {},
   "outputs": [],
   "source": []
  }
 ],
 "metadata": {
  "kernelspec": {
   "display_name": "python3",
   "language": "python",
   "name": "python3"
  }
 },
 "nbformat": 4,
 "nbformat_minor": 5
}
