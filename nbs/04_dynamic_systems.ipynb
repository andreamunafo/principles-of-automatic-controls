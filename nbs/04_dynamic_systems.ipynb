{
 "cells": [
  {
   "cell_type": "markdown",
   "id": "c43867d6",
   "metadata": {},
   "source": [
    "# Modeling in Control Systems"
   ]
  },
  {
   "cell_type": "markdown",
   "id": "fe57c00c",
   "metadata": {},
   "source": [
    "When we discuss control systems, the importance of modeling cannot be overstated. Models are mathematical representations of systems and play a pivotal role in the analysis and design of control systems. While many of you might be familiar with some of the models from previous studies, it's always a good idea to review and set the terminologies and symbols we'll be using throughout the course."
   ]
  },
  {
   "cell_type": "markdown",
   "id": "5ae841df",
   "metadata": {},
   "source": [
    "**Popup Question**: Why is modeling important in control systems?\n",
    "\n",
    "**Answer**: Modeling provides a mathematical representation of systems which aids in their analysis, design, and understanding."
   ]
  },
  {
   "cell_type": "markdown",
   "id": "a87e05f7",
   "metadata": {},
   "source": [
    "## State Variable Model\n",
    "\n",
    "In our last discussion, we introduced the concept of the state variable model. This model revolves around the idea that the energy state of a system can be defined using state variables."
   ]
  },
  {
   "cell_type": "markdown",
   "id": "4829bd9b",
   "metadata": {},
   "source": [
    "Consider a system with state variables $x_1, x_2, ... x_n$. \n",
    "\n",
    "The relationship between these variables and the system's differential equations can be represented as:\n",
    "\n",
    "$$\n",
    "\\begin{aligned}\n",
    "\\dot{x_1} &= a_{11}x_1 + a_{12}x_2 + ... + a_{1n}x_n + b_1r\\\\\n",
    "\\dot{x_2} &= a_{21}x_1 + a_{22}x_2 + ... + a_{2n}x_n + b_2r\\\\\n",
    "\\vdots\\\\\n",
    "\\dot{x_n} &= a_{n1}x_1 + a_{n2}x_2 + ... + a_{nn}x_n + b_nr\\\\\n",
    "\\end{aligned}\n",
    "$$\n",
    "\n",
    "Where $r$ is the input variable and the coefficients form the matrices $A$ and $B$."
   ]
  },
  {
   "cell_type": "markdown",
   "id": "bde69e7c",
   "metadata": {},
   "source": [
    "Additionally, the output equation is:\n",
    "\n",
    "$$\n",
    "y = c_{1}x_1 + c_{2}x_2 + ... + c_{n}x_n + dr\n",
    "$$\n",
    "\n",
    "The output is an attribute of the system and is obtained as an algebric combination of the state variables."
   ]
  },
  {
   "cell_type": "markdown",
   "id": "dbb8dc4f",
   "metadata": {},
   "source": [
    "The model is comprised of $n$ state equations and one output equation for a Single Input Single Output (SISO) system.\n",
    "\n",
    "This is a $n-th$ order system. The order of the system is directly linked to the number of state variables.\n"
   ]
  },
  {
   "cell_type": "markdown",
   "id": "84f291bc",
   "metadata": {},
   "source": [
    "In matrix notation, this system can be represented as:\n",
    "\n",
    "$$\n",
    "\\dot{x} = Ax+br\n",
    "$$\n",
    "\n",
    "and the output equation:\n",
    "\n",
    "$$\n",
    "y=cx+dr\n",
    "$$\n",
    "\n",
    "\n",
    "Where:\n",
    "- $A$ is a $n \\times n$ matrix\n",
    "- $b$ is a $n \\times 1$ vector\n",
    "- $c$ is a $1 \\times n$ vector\n",
    "- $d$ is a scalar constant.\n",
    "\n",
    "\n",
    "_Note: in the state-variable representation, the input is denoted by $u$ or $r$_."
   ]
  },
  {
   "cell_type": "markdown",
   "id": "dc865f2d",
   "metadata": {},
   "source": [
    "> **Popup Question**: What does the order of a system represent?\n",
    "**Answer**: The order of a system is directly linked to the number of state variables which represent the energy state of the system."
   ]
  },
  {
   "cell_type": "markdown",
   "id": "dd084bd8",
   "metadata": {},
   "source": [
    "# Impulse Response Model\n",
    "\n",
    "Another fundamental model in control systems is the impulse response model, which is particularly useful for linear time-invariant systems. \n",
    "\n",
    "For this model, there are two conditions to consider:\n",
    "\n",
    "- Relaxed System: A system is termed 'relaxed' if its initial energy storage is zero. Mathematically, this means the initial conditions or system state at $t=0$ are zero: $\\underline{x}(t=0)=0$\n",
    "\n",
    "- Input-Output Relationship: The impulse response model gives the relationship between the input and output of a system. However, it doesn't provide information about the system state."
   ]
  },
  {
   "cell_type": "markdown",
   "id": "8a5b9d1b",
   "metadata": {},
   "source": [
    "<table><tr>\n",
    "<td> <img src=\"./pics/04_dynamic_systems_impulse-response-model-block-diagram.png\" alt=\"impulse-response-model-block-diagram\" style=\"width: 650px;\"/>    \n",
    "</tr></table> \n",
    "\n",
    "\n",
    "_Left: state variable model; Right: impulse response model_"
   ]
  },
  {
   "cell_type": "markdown",
   "id": "3b965718",
   "metadata": {},
   "source": [
    "The impulse response model does not rely on state variables, however it is still extremly important and useful in control systems."
   ]
  },
  {
   "cell_type": "markdown",
   "id": "fc3e9649",
   "metadata": {},
   "source": [
    "The impulse response model can be defined by the convolution integral.\n",
    "\n",
    "The output $y(t)$, for $t\\ge0$ is:\n",
    "\n",
    "$$\n",
    "y(t)=\\int_0^t g(t−\\tau)r(\\tau)d\\tau=\\int_0^t g(t)r(\\tau−\\tau)d\\tau; \\;\\;t\\ge0\n",
    "$$\n",
    "\n",
    "Where:\n",
    "\n",
    "- $g(t)$ is the impulse response of the system.\n",
    "- $r(t)$ is the input to the system, for $t\\ge0$\n",
    "\n",
    "\n",
    "What is a state variable model: A state variable model describes the system's state $x(t)$ over time, based on input and initial conditions.\n",
    "\n",
    "The convolution integral provides the value of the output $y(t)$ for all time, given the input, under the assumption that initial conditions are zero.\n",
    "\n",
    "The impulse response $g(t)$ characterises a relaxed system completely."
   ]
  },
  {
   "cell_type": "markdown",
   "id": "21a5be56",
   "metadata": {},
   "source": [
    "> **Popup Question**: What information does the impulse response model provide about a system?\n",
    "**Answer**: The impulse response model provides the relationship between the input and the output of a system but does not give information about the system state."
   ]
  },
  {
   "cell_type": "markdown",
   "id": "bbceb116",
   "metadata": {},
   "source": [
    "<table><tr>\n",
    "<td> <img src=\"./pics/04_dynamic_systems_impulse-response-model-block-diagram-1.png\" alt=\"impulse-response-model-block-diagram-1\" style=\"width: 350px;\"/>    \n",
    "</tr></table> \n"
   ]
  },
  {
   "cell_type": "markdown",
   "id": "5064cb0e",
   "metadata": {},
   "source": [
    "# Laplace Transform\n",
    "\n",
    "The convolution integral can be cumbersome to compute in the time domain. An effective alternative is to utilize the Laplace Transform, converting the problem from an integration in the time domain to an algebraic problem in the frequency (Laplace) domain."
   ]
  },
  {
   "cell_type": "markdown",
   "id": "c8d03a4c",
   "metadata": {},
   "source": [
    "The Laplace transform of a function $f(t)$ is given by:\n",
    "\n",
    "$$\n",
    "\\mathcal{L}\\{f(t)\\} = F(s) = \\int_0^\\infty f(t) e^{-st} dt\n",
    "$$\n",
    "\n",
    "Where:\n",
    "\n",
    "- $ \\mathcal{L}\\{f(t)\\} $ represents the Laplace transform of $ f(t) $.\n",
    "- $ F(s) $ is the transformed function in the s-domain.\n",
    "- $ s $ is a complex variable."
   ]
  },
  {
   "cell_type": "markdown",
   "id": "dc619137",
   "metadata": {},
   "source": [
    "We are going to apply this relationship on the convolution and define the relationship between input and output in the Laplace domain.\n",
    "\n",
    "Why? This relationship will be more easy and convenient to use."
   ]
  },
  {
   "cell_type": "markdown",
   "id": "2d33ee11",
   "metadata": {},
   "source": [
    "$$\n",
    "\\mathcal{L}\\{y(t)\\} = Y(s) = \\int_0^\\infty y(t) e^{-st} dt\n",
    "$$\n",
    "\n",
    "where:\n",
    "\n",
    "$$\n",
    "y(t)=\\int_0^t g(t−\\tau)r(\\tau)d\\tau\n",
    "$$"
   ]
  },
  {
   "cell_type": "markdown",
   "id": "26bf0ff7",
   "metadata": {},
   "source": [
    "Since we are talking about a causal system, the response of the system can only happen after the input is applied. For this reason:\n",
    "- $g(t−\\tau) = 0$, for $t<\\tau$ \n",
    "\n",
    "This means that we can extend the limit of the integration:\n",
    "\n",
    "$$\n",
    "y(t) = \\int_0^\\infty g(t−\\tau)r(\\tau)d\\tau\n",
    "$$\n",
    "\n",
    "Because $g(t−\\tau) = 0$ for $t<\\tau$, there's no contribution to the integral when $t<\\tau$. This means you can effectively extend the upper limit of the integral to infinity without changing its value.\n",
    "\n",
    "The reason this doesn't alter the value of the integral is that even though the integration is over an infinite range, $g(t−\\tau) = 0$ for $t<\\tau$ ensures that for any value of $\\tau$ greater than $t$, the integrand becomes zero. In essence, you're adding up a lot of zeros."
   ]
  },
  {
   "cell_type": "markdown",
   "id": "f54a68fb",
   "metadata": {},
   "source": [
    "Let's go back to the Laplace Transform:\n",
    "\n",
    "$$\n",
    "\\mathcal{L}\\{y(t)\\} = Y(s) = \\int_0^\\infty \\Big[ \\int_0^\\infty g(t-\\tau)r(\\tau)d\\tau \\Big] e^{-st} dt\n",
    "$$\n",
    "\n",
    "and now we can change the order of integration and integrate first wrt $t$.\n",
    "\n",
    "$$\n",
    "\\mathcal{L}\\{y(t)\\} = Y(s) = \\int_0^\\infty \\Big[ \\int_0^\\infty g(t-\\tau) e^{-st} dt\\Big] r(\\tau)d\\tau \n",
    "$$"
   ]
  },
  {
   "cell_type": "markdown",
   "id": "dac415c0",
   "metadata": {},
   "source": [
    "We can now make a simple change of variable: $t-\\tau \\rightarrow \\theta$\n",
    "\n",
    "$$\n",
    "\\mathcal{L}\\{y(t)\\} = Y(s) = \\int_0^\\infty \\Big[ \\int_0^\\infty g(t-\\tau) e^{-s(t-\\tau)} dt\\Big]e^{-s\\tau} r(\\tau)d\\tau \n",
    "$$\n",
    "\n",
    "$$\n",
    "\\mathcal{L}\\{y(t)\\} = Y(s) = \\int_0^\\infty \\Big[ \\int_0^\\infty g(\\theta) e^{-s\\theta} d\\theta \\Big]e^{-s\\tau} r(\\tau)d\\tau \n",
    "$$"
   ]
  },
  {
   "cell_type": "markdown",
   "id": "3fdf60ed",
   "metadata": {},
   "source": [
    "**Sidenote - Adjusting the integral limits:**\n",
    "\n",
    "When changing variables, it's important to adjust the limits of integration. \n",
    "\n",
    "For the inner integral with respect to $t$:\n",
    "\n",
    "- When $t\\rightarrow ∞$, $\\theta \\rightarrow ∞$ (Upper limit)\n",
    "\n",
    "- When $\\tau = t$, $\\theta=0$ (Lower limit)\n",
    "\n",
    "  The lower limit for the integral with respect to $t$ becomes $\\theta=−\\tau$. Since $g(\\theta)=0$ for $\\theta<0$, this means that the impulse response is zero before $t=0$ (causality of the system). Integrating with respect to $\\theta$ (previously $t$), any value of $\\theta$ that is less than 0 will just multiply with 0 (because $g(\\theta)=0$), which means those values won't contribute anything to the integral.\n",
    "  Because of this, when you're considering the integration limits for $\\theta$, you can replace the lower limit $\\theta=−\\tau$, with $\\theta=0$ without affecting the value of the integral.\n",
    "\n",
    "\n",
    "The limits remain the same for this specific substitution, i.e., from 0 to infinity.\n",
    "\n",
    "For the outer integral with respect to $\\tau$, the limits remain unchanged (0 to infinity).\n",
    "\n",
    "(since $g(\\theta)=0$ for $\\theta<0$ then the $-\\tau$ can be replaced by 0)"
   ]
  },
  {
   "cell_type": "markdown",
   "id": "91f38cb8",
   "metadata": {},
   "source": [
    "**Sidenote - Differentials in variable substitution**\n",
    "\n",
    "When we make a variable substitution in integration, it's crucial to ensure we understand how the differentials are related. Let's look at the substitution made:\n",
    "\n",
    "$ \\theta = t - \\tau $\n",
    "\n",
    "Differentiating both sides with respect to $ t $ gives:\n",
    "\n",
    "$ d\\theta = dt - d\\tau $\n",
    "\n",
    "Since $ \\tau $ is considered as an external parameter (not dependent on $ t $) when integrating with respect to $ t $, $ d\\tau $ is treated as zero during the differentiation process. Hence, \n",
    "\n",
    "$ d\\theta = dt $\n",
    "\n",
    "That's why we have $ dt = d\\theta $.\n",
    "\n",
    "In other words, when $ t $ changes by a small amount $ dt $, $ \\theta $ also changes by the same small amount  $ d\\theta $."
   ]
  },
  {
   "cell_type": "markdown",
   "id": "28e33497",
   "metadata": {},
   "source": [
    "This can now be written as:\n",
    "\n",
    "$$\n",
    "\\mathcal{L}\\{y(t)\\} = Y(s) = \\Big[ \\int_0^\\infty g(\\theta) e^{-s\\theta} d\\theta \\Big] \\big[ \\int_0^\\infty r(\\tau) e^{-s\\tau} d\\tau \\Big]\n",
    "$$\n",
    "\n",
    "\n",
    "$$\n",
    "\\mathcal{L}\\{y(t)\\} = Y(s) = G(s) \\cdot R(s)\n",
    "$$"
   ]
  },
  {
   "cell_type": "markdown",
   "id": "83d2aa2d",
   "metadata": {},
   "source": [
    "We have replaced the convolution with a simple algebric relationship, where:\n",
    "\n",
    "- $Y(s)$ is the Laplace transform of $y(t)$.\n",
    "- $G(s)$ is the Laplace transform of $g(t)$, known as the **system's transfer function**.\n",
    "- $R(s)$ is the Laplace transform of $r(t)$."
   ]
  },
  {
   "cell_type": "markdown",
   "id": "b9e11ba7",
   "metadata": {},
   "source": [
    "_Popup Question_: How does the convolution theorem relate to Laplace transforms?\n",
    "_Answer_: The convolution theorem states that the Laplace transform of the convolution of two functions is the product of their individual Laplace transforms."
   ]
  },
  {
   "cell_type": "markdown",
   "id": "6f62fca7",
   "metadata": {},
   "source": [
    "The Transfer Function is more convenient for analysis and design than the impulse response. This is because it provides a direct relationship between input and output in the frequency domain, eliminating the need for convolution."
   ]
  },
  {
   "cell_type": "markdown",
   "id": "b0da37f0",
   "metadata": {},
   "source": [
    "# Transfer Function and Its Significance\n",
    "\n",
    "> Definition: The Transfer function $G(s)$ is the Laplace Transform of the impulse response.\n",
    "\n",
    "However, this definition is not always of practical use because the impulse response will not always be available. I typically have differential equations.\n",
    "\n",
    "I would like to have the transfer function directly from the differential equation models.\n"
   ]
  },
  {
   "cell_type": "markdown",
   "id": "69a227c3",
   "metadata": {},
   "source": [
    "We can define the transfer function as:\n",
    "\n",
    "$$\n",
    "G(s) = \\frac{Y(s)}{R(s)}\\Big|_{relaxed}\n",
    "$$\n",
    "\n",
    "Note that the fact that the system is relaxed is very important in this definition.\n",
    "\n",
    "This will be more convenient when we have a model of the system."
   ]
  },
  {
   "cell_type": "markdown",
   "id": "1f4608e7",
   "metadata": {},
   "source": [
    "Let's consider again the mass-spring-dumper system:"
   ]
  },
  {
   "cell_type": "markdown",
   "id": "ab02588e",
   "metadata": {},
   "source": [
    "<table><tr>\n",
    "<td> <img src=\"./pics/03_introduction_to_control_problem_mass_damp_spring.png\" alt=\"03_introduction_to_control_problem_mass_damp_spring\" style=\"width: 450px;\"/>    \n",
    "</tr></table> "
   ]
  },
  {
   "cell_type": "markdown",
   "id": "30adf24c",
   "metadata": {},
   "source": [
    "We saw in `03_introduction_to_control_problem` how we can model this system.\n",
    "\n",
    "$$\n",
    "M \\ddot{x} + B \\dot{x} + Kx = F(t)\n",
    "$$\n",
    "\n",
    "If my requirement explicitly needs a state variable model, we will use the approach discussed before to have it in the standard state variable form.\n",
    "\n",
    "If the requirement is instead to have it as a transfer function we can obtain this directly applying the definition:\n",
    "\n",
    "$$\n",
    "G(s) = \\frac{Y(s)}{R(s)}\\Big|_{relaxed}\n",
    "$$\n",
    "\n",
    "Ratio of the T.F. of the output and of the input, assuming that the system is relaxed.\n",
    "\n",
    "In this case:\n",
    "\n",
    "- Input: $F(t)$\n",
    "- Output: $x(t)$, the displacement of the mass."
   ]
  },
  {
   "cell_type": "markdown",
   "id": "af44d40e",
   "metadata": {},
   "source": [
    "Let's take the Laplace Transform:\n",
    "\n",
    "$$\n",
    "\\mathcal{L}\\{\\dot{x}\\} = s X(s) - x(0)\n",
    "$$\n",
    "\n",
    "$$\n",
    "\\mathcal{L}\\{\\ddot{x}\\} = s^2 X(s) - s \\cdot x(0) - \\dot{x}(0)\n",
    "$$\n",
    "\n",
    "Since the system is relaxed: $x(0)=0$ and $\\dot{x}(0)=0$"
   ]
  },
  {
   "cell_type": "markdown",
   "id": "66f3d885",
   "metadata": {},
   "source": [
    "This means that:\n",
    "\n",
    "$$\n",
    "M \\ddot{x} + B \\dot{x} + Kx = F(t)\n",
    "$$\n",
    "\n",
    "$$\\Rightarrow$$\n",
    "\n",
    "$$\n",
    "M s^2 X(s) + B sX(s) + KX(s) = F(s)\n",
    "$$\n"
   ]
  },
  {
   "cell_type": "markdown",
   "id": "8d341de4",
   "metadata": {},
   "source": [
    "From which:\n",
    "\n",
    "$$\n",
    "G(s) = \\frac{X(s)}{F(s)} = \\frac{1}{Ms^2 + Bs + K}\n",
    "$$\n",
    "\n",
    "This is the transfer function model of the system."
   ]
  },
  {
   "cell_type": "markdown",
   "id": "57acf339",
   "metadata": {},
   "source": [
    "Note that when we used the state variable model, we obtained a second order system (two state variables).\n",
    "\n",
    "In the Transfer Function model, the order of the system is defined by the highest power of $s$ in the denominator of the transfer function."
   ]
  },
  {
   "cell_type": "markdown",
   "id": "d8cfe08e",
   "metadata": {},
   "source": [
    "## Modeling the RLC circuit\n",
    "\n",
    "Let's revisit the circuit we saw before.\n",
    "\n",
    "There are two energy storing elements in this circuit, the capacitor and the inductor. This system will be represented by a second order model."
   ]
  },
  {
   "cell_type": "markdown",
   "id": "3855ae27",
   "metadata": {},
   "source": [
    "<table><tr>\n",
    "<td> <img src=\"./pics/03_introduction_to_control_problem_state-variable-model-simple-circuit-precise.png\" alt=\"state-variable-model-simple-circuit\" style=\"width: 450px;\"/>   \n",
    "</tr></table> "
   ]
  },
  {
   "cell_type": "markdown",
   "id": "eaf44e4b",
   "metadata": {},
   "source": [
    "As before, we start from the differential equations:\n",
    "\n",
    "The loop equation is given by:\n",
    "$$\n",
    "R i + e + \\frac{Ldi}{dt} = e_i\n",
    "$$ \n",
    "\n",
    "which we can port to the Laplace domain as:\n",
    "\n",
    "$$\n",
    "RI(s) + E(s) + sLI(s) = E_i(s)\n",
    "$$"
   ]
  },
  {
   "cell_type": "markdown",
   "id": "c00b9148",
   "metadata": {},
   "source": [
    "We also have a second equation:\n",
    "\n",
    "$$\n",
    "i = C\\frac{de}{dt}\n",
    "$$\n",
    "\n",
    "and we can write:\n",
    "\n",
    "$$\n",
    "I(s) = sCE(s)\n",
    "$$\n"
   ]
  },
  {
   "cell_type": "markdown",
   "id": "f031cd31",
   "metadata": {},
   "source": [
    "We have two algebric equations that can easily be manipulated to have the transfer function.\n",
    "\n",
    "$$\n",
    "G(s) = \\frac{Y(s)}{E_i(s)}\n",
    "$$\n",
    "\n",
    "where $Y(s)$ is the output that we need to define.\n",
    "\n",
    "For example, $y(t)$ can be taken as the voltage across the inductor:\n",
    "\n",
    "$$\n",
    "y(t) = L\\frac{di}{dt}\n",
    "$$\n",
    "\n",
    "which I need to Laplace transform:\n",
    "\n",
    "$$\n",
    "Y(s) = sLI(s)\n",
    "$$\n",
    "\n",
    "We have three equations that we need to have the transfer function model."
   ]
  },
  {
   "cell_type": "markdown",
   "id": "5df63be9",
   "metadata": {},
   "source": [
    "Rearranging these equation we obtain:\n",
    "\n",
    "\n",
    "$$\n",
    "G(s) = \\frac{Y(s)}{E_i(s)} = \\frac{s^2}{s^2+\\frac{R}{L}s+\\frac{1}{LC}}\n",
    "$$\n",
    "\n",
    "which is also a second order system.\n"
   ]
  },
  {
   "cell_type": "markdown",
   "id": "b5331b0a",
   "metadata": {},
   "source": [
    "We are now ready to write the generic form of a transfer function:\n",
    "\n",
    "$$\n",
    "G(s) = \\frac{b_0 s^m + b_1 s^{m-1} + \\ldots + b_{m-1} s + b_m}{a_0 s^n + a_1 s^{n-1} + \\ldots + a_{n-1} s + a_n}\n",
    "$$"
   ]
  },
  {
   "cell_type": "markdown",
   "id": "c8b843b2",
   "metadata": {},
   "source": [
    "where $m \\le n$ (causal/realisability condition).\n",
    "\n",
    "Transfer functions can be classified based on the order of the numerator and denominator polynomials. For many physical systems, the order of the numerator polynomial is usually less than the order of the denominator, categorized as strictly proper transfer functions.\n",
    "\n",
    "\n",
    "- If $m=n$, the transfer function is a proper transfer function.\n",
    "- If $m<n$, the transfer function is a strictly proper transfer function.\n",
    "\n",
    "A system is realisable if $m \\le n$."
   ]
  },
  {
   "cell_type": "markdown",
   "id": "76ff98e6",
   "metadata": {},
   "source": [
    "We will also write:\n",
    "\n",
    "$$\n",
    "G(s) = \\frac{N(s)}{D(s)}\n",
    "$$"
   ]
  },
  {
   "cell_type": "markdown",
   "id": "8a25c95f",
   "metadata": {},
   "source": [
    "**Sidebar - Writing the general form of the denominator**\n",
    "\n",
    "While the denominator polynomial often has its highest order term with a coefficient of 1 (rendering it a Monic polynomial), there's no loss of generality here. If there's a coefficient other than 1, it can be normalized. This representation is chosen for convenience, as will be evident later."
   ]
  },
  {
   "cell_type": "markdown",
   "id": "9690cff9",
   "metadata": {},
   "source": [
    "*Popup Question*: Why might one choose to represent the highest order term of the denominator polynomial with a coefficient of 1?\n",
    "\n",
    "**Answer**: This is done for convenience, as it simplifies certain mathematical operations and representations. Furthermore, any transfer function can be rearranged to have this form without loss of generality.\n"
   ]
  },
  {
   "cell_type": "markdown",
   "id": "5637c3c8",
   "metadata": {},
   "source": [
    "## Poles and Zeros\n",
    "\n",
    "The roots of the numerator polynomial are termed as **zeros** of the transfer function. In contrast, the roots of the denominator polynomial are termed the **poles** of the transfer function. \n",
    "\n",
    "The behavior of a system, particularly its dynamical evolution, is profoundly influenced by its poles. These poles, or the roots of the denominator polynomial, are so central to system dynamics that they've been named the characteristic roots of the system. They dictate the system's response nature. The zeros, on the other hand, primarily affect the response's amplitude.\n",
    "\n",
    "*Popup Question*: Why are the poles so vital in determining the nature of the system's response?\n",
    "\n",
    "**Answer**: Poles are the roots of the denominator polynomial in the transfer function. The location and nature of these poles dictate stability, oscillatory behavior, damping, and transient response of the system. Hence, they play a paramount role in system analysis.\n",
    "\n",
    "\n",
    "The polinomial $D(s)$, whose roots are the poles of the transfer function, plays an important role in the dynamics of the system.\n",
    "For this reason, $D(s)$ is called **characteristic polinomial of the system**.\n",
    "\n",
    "The polinomial $N(s)$, the numberator of the transfer function, will play a role in determining the amplitude of the response."
   ]
  },
  {
   "cell_type": "markdown",
   "id": "7b789506",
   "metadata": {},
   "source": [
    "Expressed in a form that elucidates the poles and zeros directly, the transfer function, $ G(s) $, becomes:\n",
    "\n",
    "\n",
    "$$\n",
    "G(s) = \\frac{K (s+z_1)(s+z_2)\\ldots(s+z_m)}{(s+p_1)(s+p_2)\\ldots(s+p_n)}\n",
    "$$\n",
    "\n",
    "where:\n",
    " - $z_i$ are the zeros\n",
    " - $p_i$ are the poles\n",
    " - $K$ is the gain constant, equating to $ b_0 $.\n",
    " \n",
    "This representation is often termed the **pole-zero form**.\n"
   ]
  },
  {
   "cell_type": "markdown",
   "id": "f702270f",
   "metadata": {},
   "source": [
    "## Input-Output Block Diagram Using the Transfer Function Model\n",
    "\n",
    "When we are given a transfer function model, it becomes important to understand its relation in terms of the system's input and output. This relationship can be efficiently visualized using block diagrams, which offer a clear graphical representation of how the various components interact.\n",
    "\n",
    "The Basic Block Diagram\n",
    "\n",
    "In its simplest form, the block diagram using a transfer function model consists of:\n",
    "\n",
    "- An input, $R(s)$, representing the Laplace-transformed input signal.\n",
    "- The transfer function, $G(s)$, that maps the input to the output.\n",
    "- An output, $Y(s)$, representing the Laplace-transformed output signal."
   ]
  },
  {
   "cell_type": "markdown",
   "id": "7c267ec5",
   "metadata": {},
   "source": [
    "<table><tr>\n",
    "<td> <img src=\"./pics/04_dynamic_systems_input-output-diagram-using-trasfer-function-model.png\" alt=\"input-output-diagram-using-trasfer-function-model\" style=\"width: 450px;\"/>    \n",
    "</tr></table>"
   ]
  },
  {
   "cell_type": "markdown",
   "id": "b5447a97",
   "metadata": {},
   "source": [
    "### Expanding to Include Disturbances\n",
    "\n",
    "While the basic block diagram gives an overall picture, it does not encapsulate every possible influence on a system. In reality, systems often encounter disturbances, which can significantly affect their performance.\n",
    "\n",
    "To model this accurately we need to explicitly two types of inputs that act on the system:\n",
    "\n",
    "- **Manipulated Input, $R(s)$**: This is the input that we have control over. It's usually the input we manipulate to achieve desired system behavior.\n",
    "\n",
    "- **Disturbance, $W(s)$**: Disturbances are inputs that aren't under our control. These could be anything from environmental changes, external loads, or any unforeseen changes that can affect the system. Disturbances are crucial as they determine how robust our system is."
   ]
  },
  {
   "cell_type": "markdown",
   "id": "f88e1283",
   "metadata": {},
   "source": [
    "<table><tr>\n",
    "<td> <img src=\"./pics/04_dynamic_systems_input-output-diagram-using-trasfer-function-model-with-disturbance.png\" alt=\"input-output-diagram-using-trasfer-function-model-with-disturbance\" style=\"width: 450px;\"/>    \n",
    "</tr></table> "
   ]
  },
  {
   "cell_type": "markdown",
   "id": "c2b76441",
   "metadata": {},
   "source": [
    "## Disturbances in Systems\n",
    "\n",
    "Disturbances are inevitable perturbations in any system. By definition, a disturbance is something that is not under our control. The nature of the disturbance is hence not known to you, at least not completely. If it was known that you can easily derive a controller that an reduce or nullify its presence.\n",
    "\n",
    "Disturbances can arise from various sources and can be of various natures. For instance, in a power system, electrical loads can be disturbances; in a robotic system, payload variations can act as disturbances. In thermal systems, environmental temperatures can disturb the system's desired state.\n",
    "\n",
    "The objective of the controller will be that of filtering out the effect of the disturbances.\n",
    "\n",
    "\n",
    "Disturbances are classified into two main categories:\n",
    "\n",
    "1. Erratic signals with unknown waveforms, often high-frequency in nature. These are usually called **Noise**.\n",
    "These disturbances require stochastic modeling. We will not deal with stochastic modeling in this course.\n",
    "\n",
    "2. Slow-vary signals, where the waveform's general nature is somewhat predictable.\n",
    "\n",
    "Examples:\n",
    "- Payload variations in a robotic system\n",
    "- Environmental temperature variations in a room heating system\n",
    "- Wind acting on an airplane\n",
    "- etc.\n",
    "\n",
    "These disturbances can be modeled through deterministic models.\n",
    "\n",
    "*Popup Question*: In a robotic system, how might payload variations act as a disturbance?\n",
    "\n",
    "**Answer**: A robotic system is often designed to function optimally with a specific payload. Any variation, either an increase or decrease from this optimal payload, can affect the robot's performance, balance, energy consumption, and other dynamics, thereby acting as a disturbance.\n",
    "\n",
    "\n",
    "### Types of Disturbances:\n",
    "\n",
    "- External Disturbances: These arise from the system's environment. Examples include wind acting on a building, changes in ambient temperature influencing a room's thermostat, or unforeseen load changes in electrical systems.\n",
    "- Internal Disturbances: These are changes that occur within the system but are not part of the desired operation. For instance, voltage fluctuations in an electronic circuit, wear and tear in machinery, or internal thermal changes in a process."
   ]
  },
  {
   "cell_type": "markdown",
   "id": "5a5f4dbc",
   "metadata": {},
   "source": [
    "# Disturbance Models in Control Systems\n",
    "\n",
    "Understanding disturbances is pivotal in control systems. Disturbances can emerge from various scenarios, be it a sudden gust of wind for an aircraft or a sudden load change in an electrical system. But can every possible situation be mathematically modeled? Not precisely. However, certain models can closely approximate real-life situations, providing substantial insight into a system's behavior under disturbances."
   ]
  },
  {
   "cell_type": "markdown",
   "id": "d6fc8eff",
   "metadata": {},
   "source": [
    "## Categories of Disturbance Models\n",
    "\n",
    "While there's an infinite array of disturbances, for the sake of analysis and design, they can be broadly modeled as:\n",
    "\n",
    "1. Pulse and Impulse Disturbance:\n",
    "- Pulse: Represents a short-duration, constant disturbance.\n",
    "- Impulse: Represents a short-duration, high-magnitude disturbance.\n",
    "- Useful for situations resembling sudden shocks.\n",
    "- Example: A sudden voltage spike in a circuit.\n",
    "\n",
    "For example, a sudden shock to a system might be approximated by an impulse, while a short-duration disturbance might be approximated by a pulse.\n"
   ]
  },
  {
   "cell_type": "code",
   "execution_count": null,
   "id": "c2988579",
   "metadata": {},
   "outputs": [
    {
     "data": {
      "image/png": "[encoded data removed]",
      "text/plain": [
       "<Figure size 1000x400 with 1 Axes>"
      ]
     },
     "metadata": {},
     "output_type": "display_data"
    }
   ],
   "source": [
    "import numpy as np\n",
    "import matplotlib.pyplot as plt\n",
    "\n",
    "# Define the time range\n",
    "t = np.linspace(-2, 4, 600)\n",
    "\n",
    "# Define a function for the rectangular pulse\n",
    "def rectangular_pulse(t):\n",
    "    if 0 <= t <= 2:\n",
    "        return 1\n",
    "    else:\n",
    "        return 0\n",
    "\n",
    "# Vectorize the function to allow numpy array inputs\n",
    "vectorized_pulse = np.vectorize(rectangular_pulse)\n",
    "\n",
    "# Get the pulse values\n",
    "pulse_values = vectorized_pulse(t)\n",
    "\n",
    "plt.figure(figsize=(10, 4))\n",
    "plt.plot(t, pulse_values, 'b', linewidth=2)\n",
    "plt.title(\"Rectangular Pulse\")\n",
    "plt.xlabel(\"Time\")\n",
    "plt.ylabel(\"Amplitude\")\n",
    "plt.xlim([-2, 4])\n",
    "plt.ylim([-0.2, 1.2])\n",
    "plt.grid(True)\n",
    "\n",
    "plt.show()\n"
   ]
  },
  {
   "cell_type": "code",
   "execution_count": null,
   "id": "2177a776",
   "metadata": {},
   "outputs": [
    {
     "data": {
      "image/png": "[encoded data removed]",
      "text/plain": [
       "<Figure size 1000x400 with 1 Axes>"
      ]
     },
     "metadata": {},
     "output_type": "display_data"
    }
   ],
   "source": [
    "import numpy as np\n",
    "import matplotlib.pyplot as plt\n",
    "\n",
    "# Define the time range\n",
    "t = np.linspace(-2, 2, 400)\n",
    "# Create impulse signal\n",
    "impulse = np.where((t > -0.01) & (t < 0.01), 1, 0)\n",
    "\n",
    "plt.figure(figsize=(10, 4))\n",
    "plt.stem(t, impulse, basefmt=\" \") #, use_line_collection=True)\n",
    "plt.title(\"Impulse Signal\")\n",
    "plt.xlabel(\"Time\")\n",
    "plt.ylabel(\"Amplitude\")\n",
    "plt.xlim([-2, 2])\n",
    "plt.ylim([0, 1.2])\n",
    "plt.grid(True)\n",
    "\n",
    "plt.show()\n"
   ]
  },
  {
   "cell_type": "markdown",
   "id": "b56faa18",
   "metadata": {},
   "source": [
    "2. Step Disturbance:\n",
    "- Constant magnitude, mimicking a persistent change.\n",
    "- Relevant for scenarios like electrical load variation during evening hours."
   ]
  },
  {
   "cell_type": "code",
   "execution_count": null,
   "id": "94480cf5",
   "metadata": {},
   "outputs": [
    {
     "data": {
      "image/png": "[encoded data removed]",
      "text/plain": [
       "<Figure size 1000x400 with 1 Axes>"
      ]
     },
     "metadata": {},
     "output_type": "display_data"
    }
   ],
   "source": [
    "import numpy as np\n",
    "import matplotlib.pyplot as plt\n",
    "\n",
    "# Define the time range\n",
    "t = np.linspace(-2, 2, 400)\n",
    "# Create step signal\n",
    "step = np.where(t >= 0, 1, 0)\n",
    "\n",
    "plt.figure(figsize=(10, 4))\n",
    "plt.plot(t, step, lw=2)\n",
    "plt.title(\"Step Signal\")\n",
    "plt.xlabel(\"Time\")\n",
    "plt.ylabel(\"Amplitude\")\n",
    "plt.xlim([-2, 2])\n",
    "plt.ylim([-0.2, 1.2])\n",
    "plt.grid(True)\n",
    "\n",
    "plt.show()"
   ]
  },
  {
   "cell_type": "markdown",
   "id": "33ea9c0b",
   "metadata": {},
   "source": [
    "3. Ramp Disturbance:\n",
    "- Represents a continuously increasing or decreasing disturbance over time.\n",
    "- Captures situations where a disturbance variable drifts."
   ]
  },
  {
   "cell_type": "markdown",
   "id": "61d6401e",
   "metadata": {},
   "source": [
    "4. Parabolic Disturbance:\n",
    "- A faster mode compared to ramp, depicting a more rapid drift of disturbance."
   ]
  },
  {
   "cell_type": "code",
   "execution_count": null,
   "id": "ddfce692",
   "metadata": {},
   "outputs": [
    {
     "data": {
      "image/png": "[encoded data removed]",
      "text/plain": [
       "<Figure size 1000x400 with 1 Axes>"
      ]
     },
     "metadata": {},
     "output_type": "display_data"
    }
   ],
   "source": [
    "import numpy as np\n",
    "import matplotlib.pyplot as plt\n",
    "\n",
    "# Define the time range\n",
    "t = np.linspace(-2, 2, 400)\n",
    "\n",
    "# Create ramp signal for t >= 0\n",
    "ramp = np.where(t >= 0, t, 0)\n",
    "\n",
    "# Create parabolic signal for t >= 0\n",
    "parabola = np.where(t >= 0, t**2, 0)\n",
    "\n",
    "plt.figure(figsize=(10, 4))\n",
    "\n",
    "# Plot both signals\n",
    "plt.plot(t, ramp, lw=2, label=\"Ramp Signal\")\n",
    "plt.plot(t, parabola, lw=2, label=\"Parabolic Signal\")\n",
    "\n",
    "# Add title, labels, legend, etc.\n",
    "plt.title(\"Ramp and Parabolic Signals\")\n",
    "plt.xlabel(\"Time\")\n",
    "plt.ylabel(\"Amplitude\")\n",
    "plt.xlim([-2, 2])\n",
    "plt.ylim([-0.5, 4.5])\n",
    "plt.legend()\n",
    "plt.grid(True)\n",
    "\n",
    "plt.show()\n"
   ]
  },
  {
   "cell_type": "markdown",
   "id": "b44bca53",
   "metadata": {},
   "source": [
    "- These categories provide a good spectrum of disturbances for analysis.\n",
    "\n",
    "- It's important to note that these models, while deterministic, are approximations of the real-world scenario. "
   ]
  },
  {
   "cell_type": "markdown",
   "id": "2386322e",
   "metadata": {},
   "source": [
    "### Mathematical Modeling using Laplace Transforms\n",
    "\n",
    "The Laplace domain offers a powerful tool to analyze these disturbances.\n",
    "\n",
    "1. Impulse Response: \n",
    "- $\\delta(t)$ (where $\\delta$ is the Dirac delta function)\n",
    "- Laplace transform: $1$\n",
    "\n",
    "2. Step signal:\n",
    "- Denoted as $\\mu(t)$ (Note: We deviate from the usual notation of using $u$ to avoid confusion with control signals.)\n",
    "- Laplace transform: $\\frac{1}{s}$\n",
    " \n",
    "3. Ramp Signal:\n",
    "- $f(t)=t$, for $t\\ge0$ or equivalently $t\\mu(t)$\n",
    "- Laplace transform: $\\frac{1}{s^2}$\n",
    " \n",
    "4. Parabolic Signal:\n",
    "- $f(t)=\\frac{t^2}{2}\\mu(t)$  for $t\\ge0$ \n",
    "- Laplace transform: $\\frac{1}{s^3}$\n",
    "\n",
    "  "
   ]
  },
  {
   "cell_type": "markdown",
   "id": "d6af34cd",
   "metadata": {},
   "source": [
    "# Command or Reference Signals"
   ]
  },
  {
   "cell_type": "markdown",
   "id": "d1d41c83",
   "metadata": {},
   "source": [
    "Beyond disturbances, there are reference or command signals. \n",
    "Note that these are often known.\n",
    "For instance, in a residential heating system, the reference signal is a temperature set point, like 20°C (a step signal). But in complex scenarios, like radar tracking, the reference signal (e.g., an enemy plane's position) is unpredictable. Commands might also be unknown and we need to design a system that can be subjected to unknown reference signals.\n",
    "\n",
    "\n",
    "The strategy, therefore, lies in designing systems that can withstand the most strenuous situations. If they succeed under these, they're likely to perform well under actual conditions. \n",
    "Thus, while impulses, steps, ramps, and parabolas may not always mirror real-life disturbances, they act as effective standard test signals. Experimental evidence suggests that systems performing well under these signals usually operate efficiently under actual conditions.\n",
    "\n",
    "These inputs, impulses, steps, ramps, and parabolas, they are the models for the both the disturbances and for the standard test input signals."
   ]
  },
  {
   "cell_type": "markdown",
   "id": "186dbc0e",
   "metadata": {},
   "source": [
    "Fin"
   ]
  },
  {
   "cell_type": "code",
   "execution_count": null,
   "id": "e244c0b4",
   "metadata": {},
   "outputs": [],
   "source": []
  }
 ],
 "metadata": {
  "kernelspec": {
   "display_name": "python3",
   "language": "python",
   "name": "python3"
  }
 },
 "nbformat": 4,
 "nbformat_minor": 5
}
