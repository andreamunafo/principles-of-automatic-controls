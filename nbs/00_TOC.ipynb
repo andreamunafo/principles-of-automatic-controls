{
 "cells": [
  {
   "cell_type": "markdown",
   "id": "5e37960d",
   "metadata": {},
   "source": [
    "<div style=\"page-break-before: always;\"></div>"
   ]
  },
  {
   "cell_type": "markdown",
   "id": "719bdd36",
   "metadata": {},
   "source": [
    "# Table of Contents"
   ]
  },
  {
   "cell_type": "code",
   "execution_count": null,
   "id": "7eb6ed8d",
   "metadata": {},
   "outputs": [],
   "source": [
    "from bin.toc import display_table_of_contents"
   ]
  },
  {
   "cell_type": "code",
   "execution_count": null,
   "id": "c1f0a095",
   "metadata": {},
   "outputs": [
    {
     "data": {
      "text/html": [
       "<style>ul { list-style-type: circle; } body { font-family: 'Arial'; }</style><h2 style='font-size: 18px;'>Notebooks</h2><ul><li><a href='00_FAQ.ipynb' target='_blank' style='font-size: 18px;'>00_FAQ.ipynb</a></li><li><a href='00_Syllabus.ipynb' target='_blank' style='font-size: 18px;'>00_Syllabus.ipynb</a></li><li><a href='00_TOC.ipynb' target='_blank' style='font-size: 18px;'>00_TOC.ipynb</a></li><li><a href='01_Getting_started_with_Python_and_Jupyter_Notebook.ipynb' target='_blank' style='font-size: 18px;'>01_Getting_started_with_Python_and_Jupyter_Notebook.ipynb</a></li><li><a href='01_intro.ipynb' target='_blank' style='font-size: 18px;'>01_intro.ipynb</a></li><li><a href='02_basics_of_feedback_control.ipynb' target='_blank' style='font-size: 18px;'>02_basics_of_feedback_control.ipynb</a></li><li><a href='03_introduction_to_control_problem.ipynb' target='_blank' style='font-size: 18px;'>03_introduction_to_control_problem.ipynb</a></li><li><a href='04_dynamic_systems.ipynb' target='_blank' style='font-size: 18px;'>04_dynamic_systems.ipynb</a></li><li><a href='05_dynamic_response.ipynb' target='_blank' style='font-size: 18px;'>05_dynamic_response.ipynb</a></li><li><a href='06_inverse_laplace_transform.ipynb' target='_blank' style='font-size: 18px;'>06_inverse_laplace_transform.ipynb</a></li><li><a href='07_modeling_dynamic_systems.ipynb' target='_blank' style='font-size: 18px;'>07_modeling_dynamic_systems.ipynb</a></li><li><a href='08_control_system_components.ipynb' target='_blank' style='font-size: 18px;'>08_control_system_components.ipynb</a></li><li><a href='09_Models_of_Control_Devices_and_Systems.ipynb' target='_blank' style='font-size: 18px;'>09_Models_of_Control_Devices_and_Systems.ipynb</a></li><li><a href='10_hardware_and_case_studies.ipynb' target='_blank' style='font-size: 18px;'>10_hardware_and_case_studies.ipynb</a></li><li><a href='11_AC_hardware_and_case_studies.ipynb' target='_blank' style='font-size: 18px;'>11_AC_hardware_and_case_studies.ipynb</a></li><li><a href='12_A_First_Complete_Application.ipynb' target='_blank' style='font-size: 18px;'>12_A_First_Complete_Application.ipynb</a></li><li><a href='13_Principles_of_Feedback_Control.ipynb' target='_blank' style='font-size: 18px;'>13_Principles_of_Feedback_Control.ipynb</a></li><li><a href='14_Feedback_systems_and_their_effects.ipynb' target='_blank' style='font-size: 18px;'>14_Feedback_systems_and_their_effects.ipynb</a></li><li><a href='15_Introduction_to_Control_Systems.ipynb' target='_blank' style='font-size: 18px;'>15_Introduction_to_Control_Systems.ipynb</a></li><li><a href='16_Stability.ipynb' target='_blank' style='font-size: 18px;'>16_Stability.ipynb</a></li><li><a href='17_Stability_and_Routh_Criterion.ipynb' target='_blank' style='font-size: 18px;'>17_Stability_and_Routh_Criterion.ipynb</a></li><li><a href='18_Performance_of_Feedback_Systems.ipynb' target='_blank' style='font-size: 18px;'>18_Performance_of_Feedback_Systems.ipynb</a></li><li><a href='19_Design_of_feedback_control.ipynb' target='_blank' style='font-size: 18px;'>19_Design_of_feedback_control.ipynb</a></li><li><a href='20_Design_of_feedback_control_continued.ipynb' target='_blank' style='font-size: 18px;'>20_Design_of_feedback_control_continued.ipynb</a></li><li><a href='21_Steady_State_Accuracy_And_Design_Principles.ipynb' target='_blank' style='font-size: 18px;'>21_Steady_State_Accuracy_And_Design_Principles.ipynb</a></li><li><a href='22_Compensator_Design_Using_Root_Locus.ipynb' target='_blank' style='font-size: 18px;'>22_Compensator_Design_Using_Root_Locus.ipynb</a></li><li><a href='23_Design_with_the_root_locus.ipynb' target='_blank' style='font-size: 18px;'>23_Design_with_the_root_locus.ipynb</a></li><li><a href='24_Compensators_and_Root_Locus.ipynb' target='_blank' style='font-size: 18px;'>24_Compensators_and_Root_Locus.ipynb</a></li><li><a href='25_Introduction_to_Frequency_Domain_Analysis_in_Control_Systems.ipynb' target='_blank' style='font-size: 18px;'>25_Introduction_to_Frequency_Domain_Analysis_in_Control_Systems.ipynb</a></li><li><a href='26_Application_of_Nyquist_Stability_Criterion.ipynb' target='_blank' style='font-size: 18px;'>26_Application_of_Nyquist_Stability_Criterion.ipynb</a></li><li><a href='27_The_Nyquist_Stability_Criterion_and_Relative_Stability.ipynb' target='_blank' style='font-size: 18px;'>27_The_Nyquist_Stability_Criterion_and_Relative_Stability.ipynb</a></li><li><a href='28_Bode_Plots.ipynb' target='_blank' style='font-size: 18px;'>28_Bode_Plots.ipynb</a></li><li><a href='29_Feedback_system_performance_based_on_frequency_response.ipynb' target='_blank' style='font-size: 18px;'>29_Feedback_system_performance_based_on_frequency_response.ipynb</a></li><li><a href='30_TBC.ipynb' target='_blank' style='font-size: 18px;'>30_TBC.ipynb</a></li></ul>"
      ],
      "text/plain": [
       "<IPython.core.display.HTML object>"
      ]
     },
     "metadata": {},
     "output_type": "display_data"
    }
   ],
   "source": [
    "# Call this in your notebook to display the table of contents\n",
    "display_table_of_contents(notebook_dir='.', exclude_list=['index.ipynb'], font_size='18px')"
   ]
  },
  {
   "cell_type": "code",
   "execution_count": null,
   "id": "811e6bd7",
   "metadata": {},
   "outputs": [],
   "source": []
  }
 ],
 "metadata": {
  "kernelspec": {
   "display_name": "python3",
   "language": "python",
   "name": "python3"
  }
 },
 "nbformat": 4,
 "nbformat_minor": 5
}
