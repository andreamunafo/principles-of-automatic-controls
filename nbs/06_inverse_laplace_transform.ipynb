{
 "cells": [
  {
   "cell_type": "markdown",
   "id": "c7d21ba4",
   "metadata": {},
   "source": [
    "## Inverse Laplace Transform: Partial fraction decomposition"
   ]
  },
  {
   "cell_type": "markdown",
   "id": "6c7ca918",
   "metadata": {},
   "source": [
    "To find the inverse Laplace transform of a complicated function, we can convert the function to a sum of simpler terms for which we know the Laplace transform of each term. The result is called a partial-fraction expansion."
   ]
  },
  {
   "cell_type": "markdown",
   "id": "96b467a5",
   "metadata": {},
   "source": [
    "Given:\n",
    "\n",
    "$$Y(s) = G(s)R(s) = \\frac{N(s)}{D(s)}R(s)$$\n",
    "\n",
    "where the order of $N(s)$ is less than the order of $D(s)$, then a partial-fraction expansion can be made.\n",
    "\n",
    "If the order of $N(s)$ is greater than or equal to the order of $D(s)$, then $N(s)$ must be divided by $D(s)$ successively until the result has a remainder whose numerator is of order less than its denominator."
   ]
  },
  {
   "cell_type": "markdown",
   "id": "f68965f6",
   "metadata": {},
   "source": [
    "We want to expand $G(s)$ into the sum of functions for which we already know the inverse transform, then thanks to the linearity we can simply sum them all up to obtain the inverse of the entire function."
   ]
  },
  {
   "cell_type": "markdown",
   "id": "b30f0a3e",
   "metadata": {},
   "source": [
    "### Case 1. Roots of the Denominator of F(s) Are Real and Distinct\n",
    "\n",
    "Let's suppose we have all **distinct poles**:\n",
    "\n",
    "$$ D(s) = \\prod^{n}_{k=1}{(s-p_k)}$$\n",
    "\n",
    "we want to find the coefficient $P_k$ such that:\n",
    "\n",
    "$$ \\frac{N(s)}{\\prod^{n}_{k=1}{(s-p_k)}} = \\sum^{n}_{k=1}\\frac{P_k}{s-p_k}$$\n",
    "\n",
    "Multiplying for $(s-p_i)$:\n",
    "\n",
    "$$ (s-p_i)\\frac{N(s)}{\\prod^{n}_{k=1}{(s-p_k)}} = (s-p_i)\\sum^{n}_{k=1}\\frac{P_k}{s-p_k}$$\n",
    "\n",
    "we can obtain:\n",
    "\n",
    "$$P_i = [(s-p_i)G(s)] \\big|_{s=p_i}$$\n",
    "\n",
    "and finally:\n",
    "\n",
    "$$ g(t) = \\mathcal {L}^{-1}[G(s)]=\\mathcal {L}^{-1} \\bigg[\\sum^{n}_{k=1}\\frac{P_k}{s-p_k}\\bigg] = \\sum^{n}_{k=1} P_k e^{p_kt}$$"
   ]
  },
  {
   "cell_type": "markdown",
   "id": "15eddd36",
   "metadata": {},
   "source": [
    "For example:\n",
    "\n",
    "$$G(s) = \\frac{s-10}{(s+2)(s+5)}$$\n",
    "\n",
    "\n",
    "$$P_1=(s+2)\\frac{s-10}{(s+2)(s+5)}\\bigg|_{s=-2}=-\\frac{12}{3}=-4$$\n",
    "$$P_2=(s+5)\\frac{s-10}{(s+2)(s+5)}\\bigg|_{s=-5}=\\frac{-15}{-3}=5$$\n",
    "\n",
    "which means that:\n",
    "\n",
    "$$G(s) = \\frac{-4}{(s+2)} + \\frac{5}{(s+5)}$$\n",
    "\n",
    "and finally:\n",
    "\n",
    "$$ g(t) = \\mathcal {L}^{-1}[G(s)] = -4e^{-2t} + 5e^{-5t}$$"
   ]
  },
  {
   "cell_type": "markdown",
   "id": "3e399b4a",
   "metadata": {},
   "source": [
    "### Case 2. Roots of the Denominator of F(s) Are Real and Repeated\n",
    "\n",
    "If we have **muliple poles** the decomposition is similar.\n",
    "\n",
    "\n",
    "Let's consider, as an example\n",
    "\n",
    "$$\n",
    "Y(s) =  \\frac{2}{(s+1)(s+2)^2}\n",
    "$$\n",
    "\n",
    "The roots of $(s+2)^2$ in the denominator are repeated, since the factor is raised to an integer power higher than 1. In this case, the denominator root at $-2$ is a multiple root of multiplicity 2.\n",
    "\n",
    "We can write the partial-fraction expansion as a sum of terms, where each factor of the denominator forms the denominator of each term. \n",
    "\n",
    "**In addition, each multiple root generates additional terms consisting of denominator factors of reduced multiplicity.**\n",
    "\n",
    "In our case\n",
    "\n",
    "$$\n",
    "Y(s) =  \\frac{2}{(s+1)(s+2)^2} = \\frac{K_1}{(s+1)} + \\frac{K_2}{(s+2)^2} + \\frac{K_3}{(s+2)}\n",
    "$$\n",
    "\n",
    "- We obtain $K_1$ as before. In this case $K_1=2$\n",
    "\n",
    "- We obtain $K_2$ multiplying the previous equation by $(s+2)^2$:\n",
    "\n",
    "$$\n",
    "\\frac{2}{(s+1)} = \\frac{K_1(s+2)^2}{(s+1)} + K_2 + K_3(s+2)\n",
    "$$\n",
    "\n",
    "When $s \\rightarrow -2$, $K_2=-2$\n",
    "\n",
    "- We obtain $K_3$ differentiating the previous equation with respect to $s$:\n",
    "\n",
    "$$\n",
    "\\frac{-2}{(s+1)^2} = \\frac{2(s+2)K_1}{(s+1)^2} + K_3\n",
    "$$\n",
    "\n",
    "From which $K_3$ can be isolated and found if we let $s \\rightarrow -2$. Hence, $K_3=-2$.\n",
    "\n",
    "In this case then:\n",
    "\n",
    "\n",
    "$$\n",
    "Y(s) =  \\frac{2}{(s+1)(s+2)^2} = \\frac{2}{(s+1)} + \\frac{-2}{(s+2)^2} + \\frac{-2}{(s+2)}\n",
    "$$\n",
    "\n",
    "and the inverse transform is:\n",
    "\n",
    "$$\n",
    "y(t) = 2e^{-t} - 2te^{-2t} -2e^{-2t}\n",
    "$$\n",
    "\n",
    "If the denominator root is of higher multiplicity than 2, successive differentiation would isolate each residue in the expansion of the multiple root."
   ]
  },
  {
   "cell_type": "markdown",
   "id": "ac7ab563",
   "metadata": {},
   "source": [
    "In general, given a $H(s)$ whose denominator has real and repeater roots:\n",
    "\n",
    "$$H(s) = \\frac{N(s)}{(s+p_1)^r(s+p_2)...(s+p_n)}$$\n",
    "\n",
    "We can find the general expression for $K_1$ (the coefficient of the roots with multiplicity greater than 1):\n",
    "\n",
    "$$\n",
    "K_i = \\frac{1}{(i-1)!}\\frac{d^{i-1}(F(s)(s+p_1)^r)}{ds^{i-1}}\\Big|_{s\\rightarrow-p_1} \\;\\; i=1,2,...,r \n",
    "$$\n"
   ]
  },
  {
   "cell_type": "markdown",
   "id": "54d119f0",
   "metadata": {},
   "source": [
    "### Case 3. Roots of the Denominator of F(s) Are Complex or Imaginary\n",
    "\n",
    "The technique used for the partial-fraction expansion of $F(s)$ with real roots in the denominator can be used for complex and imaginary roots. \n",
    "\n",
    "However, the residues of the complex and imaginary roots are themselves complex conjugates. \n",
    "\n",
    "In this case, the resulting terms can be identified as:\n",
    "\n",
    "$$\n",
    "\\frac{e^{j\\theta}+e^{-j\\theta}}{2} = \\cos{\\theta}\n",
    "$$\n",
    "\n",
    "and\n",
    "\n",
    "$$\n",
    "\\frac{e^{j\\theta}-e^{-j\\theta}}{2j} = \\sin{\\theta}\n",
    "$$\n"
   ]
  },
  {
   "cell_type": "markdown",
   "id": "5513513d",
   "metadata": {},
   "source": [
    "For example:\n",
    "\n",
    "$$\n",
    "F(s) = \\frac{3}{s(s^2+2s+5)} = \\frac{3}{s(s+1+j2)(s+1-j2)} = \\frac{K_1}{s} + \\frac{K_2}{s+1+j2} + \\frac{K_3}{s+1-j2}\n",
    "$$\n",
    "\n",
    "$K_1$ is found as usual, and found $K_1=3/5$.\n",
    "\n",
    "\n",
    "To find $K_2$:\n",
    "\n",
    "$$\n",
    "K_2 = \\frac{3}{s(s+1-j2)}\\Big|_{s\\rightarrow -1-j2} = \\frac{-3}{20}(2+j1)\n",
    "$$\n",
    "\n",
    "$K_3$ is found to be the complex conjugate of $K_2$.\n",
    "\n",
    "$$\n",
    "F(s) = \\frac{3/5}{s} - \\frac{3}{20}\\Big(\\frac{2+j1}{s+1+2j} + \\frac{2-j1}{s+1-2j}\\Big)\n",
    "$$\n",
    "\n",
    "which we can inverse transform to obtain:\n",
    "\n",
    "$$\n",
    "f(t) = \\frac{3}{5} - \\frac{3}{20}\\Big[ (2+j1)e^{-(1+j2)t} + (2-j1)e^{-(1-j2)t} \\Big]\n",
    "$$\n",
    "\n",
    "$$\n",
    "f(t) = \\frac{3}{5} - \\frac{3}{20} e^{-t}\\Big[4 \\Big( \\frac{e^{j2t}+e^{-j2t}}{2}\\Big) + 2 \\Big(\\frac{e^{j2t}-e^{-j2t}}{2j} \\Big) \\Big]\n",
    "$$\n",
    "\n",
    "\n",
    "$$\n",
    "f(t) = \\frac{3}{5} - \\frac{3}{5} e^{-t} \\Big( cos(2t) + \\frac{1}{2}sin(2t) \\Big) = 0.6 - 0.671e^tcos(2t-\\phi)\n",
    "$$\n",
    "\n",
    "where $\\phi = arctan0.5=26.57^o$"
   ]
  },
  {
   "cell_type": "code",
   "execution_count": null,
   "id": "55d8941d",
   "metadata": {},
   "outputs": [],
   "source": []
  }
 ],
 "metadata": {
  "kernelspec": {
   "display_name": "python3",
   "language": "python",
   "name": "python3"
  }
 },
 "nbformat": 4,
 "nbformat_minor": 5
}
