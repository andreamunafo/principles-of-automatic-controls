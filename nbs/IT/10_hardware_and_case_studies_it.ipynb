{
  "cells": [
    {
      "cell_type": "markdown",
      "id": "c36be7fd",
      "metadata": {},
      "source": "# Hardware dei sistemi di controllo e casi di studio"
    },
    {
      "cell_type": "markdown",
      "id": "a32aae9f",
      "metadata": {},
      "source": "In questo quaderno presenteremo i componenti hardware comunemente presenti nei sistemi di controllo, in particolare nel settore industriale. Anche se non entreremo nei dettagli esaustivi di ciascun componente, il nostro obiettivo è fornire una chiara comprensione delle loro caratteristiche di base e di come influenzano il comportamento di un determinato sistema di controllo."
    },
    {
      "cell_type": "markdown",
      "id": "d5d95680",
      "metadata": {},
      "source": "## Caso di studio: sistema di controllo della velocità\n\nPer avviare la nostra esplorazione, consideriamo un **sistema di controllo della velocità**. In questo sistema, l'obiettivo principale è controllare la velocità di un carico. Utilizzeremo questo esempio per mostrare i vari componenti coinvolti e le loro interazioni."
    },
    {
      "cell_type": "markdown",
      "id": "15e47748",
      "metadata": {},
      "source": "### Panoramica del sistema:\n\nImmagina uno scenario in cui desideri controllare la velocità di un carico specifico, rappresentato dai parametri $J$ (momento di inerzia) e $B$ (attrito viscoso). Questo carico è soggetto ad una coppia di disturbo, $T_w$. Il nostro obiettivo è garantire che il carico mantenga una velocità specificata, $\\omega$, anche in presenza di disturbi.\n\n\n<table>\n<tr>\n    <td> <img src=\"../pics/10_hardware_and_case_studies_speed_control.png?1\" alt=\"10_hardware_and_case_studies_speed_control\" style=\"width: 850px;\"/>\n</tr></table>"
    },
    {
      "cell_type": "markdown",
      "id": "18798d64",
      "metadata": {},
      "source": "#### Componenti e loro ruoli:\n\n1. **Attuatore (motore e amplificatore di potenza)**:\n    \n    - L'attuatore fornisce la coppia necessaria per trascinare il carico alla velocità desiderata, $\\omega$.\n    - Comprende un motore abbinato ad un amplificatore di potenza.\n    - L'attuatore riceve un segnale di controllo, $u$, da un controller.\n    \n2. **Controller (amplificatore)**:\n    \n    - In questa configurazione di base, il controller è un semplice amplificatore. Tuttavia, in configurazioni più avanzate, potrebbe trattarsi di un sistema complesso che coinvolge la derivata o l'integrale di un segnale di errore.\n    - Il ruolo principale del controller è elaborare il segnale di errore e produrre un segnale di controllo appropriato, $u$.\n    - Vedremo più avanti come progettare i controller\n\n3. **Elementi di ingresso di riferimento (potenziometro)**:\n    \n    - Questo componente fornisce il segnale di riferimento, $e_r$, che corrisponde alla velocità comandata richiesta, $\\omega_r$ (non mostrata nello schema). Vorremmo $\\omega \\rightarrow \\omega_r$\n    - Regolando la posizione del braccio del potenziometro, è possibile modificare il segnale di riferimento, comandando quindi una velocità diversa.\n    \n4. **Elemento di feedback (tacogeneratore)**:\n    \n    - La dinamo tachimetrica rileva la velocità effettiva, $\\omega_r$, e produce un segnale di feedback, $e_t$, proporzionale a questa velocità.\n    - Questo segnale di feedback è essenziale per confrontare la velocità effettiva con la velocità desiderata e generare un segnale di errore.\n    - La differenza tra $e_r$ (proporzionale alla variabile controllata) e $e_t$ (proporzionale alla variabile comandata) fornisce il segnale di errore di attuazione $\\hat{e}$.\n    - Il segnale di errore di attuazione $\\hat{e}$ viene amplificato attraverso il controller per generare il segnale di controllo $u$ e fornito all'attuatore che gestisce il carico.\n\n\nTieni presente che l'obiettivo principale della progettazione del controller è regolarlo in modo appropriato per soddisfare obiettivi specifici. Mentre altri componenti, come il motore, rimangono costanti e non possono essere modificati facilmente, è più pratico ed efficiente modificare le impostazioni del controller."
    },
    {
      "cell_type": "markdown",
      "id": "466f1268",
      "metadata": {},
      "source": "#### Rappresentazione del diagramma a blocchi:\n\nIl sistema fisico può essere astratto in uno schema a blocchi per visualizzare la struttura del feedback e gli elementi fondamentali in modo più strutturato.\n\n<table>\n<tr>\n    <td> <img src=\"../pics/10_hardware_and_case_studies_speed_control_block_diagram.png?2\" alt=\"10_hardware_and_case_studies_speed_control_block_diagram\" style=\"width: 850px;\"/>\n</tr></table>"
    },
    {
      "cell_type": "markdown",
      "id": "05af5914",
      "metadata": {},
      "source": "- L'elemento di feedback, come la dinamo tachimetrica (con costante $K_T$), fornisce informazioni in tempo reale sullo stato attuale del sistema (in questo caso, la velocità effettiva). Questo feedback consente al controller di confrontare la velocità effettiva con la velocità desiderata e di apportare le modifiche necessarie per ridurre eventuali discrepanze.\n\n- Confrontare la struttura di controllo con i cicli di controllo in feedback di cui abbiamo parlato prima (da $e_r$ a $\\omega$). Questa è una **struttura di feedback non unitaria**.\n\n- La funzione di trasferimento del sensore (la dinamo tachimetrica) è $K_T$.\n\n- Questa configurazione può essere _convertita_ in un formato di feedback unitario per facilitare l'analisi e la progettazione, il tutto preservando i dettagli vitali del sistema. Affinché questa conversione sia efficace, il blocco che collega $ \\omega_r $ e $ e_r $ dovrebbe possedere una funzione di trasferimento equivalente a $ K_T $. In altre parole, la costante del potenziometro, $K_P$, dovrebbe essere impostata uguale alla costante della dinamo tachimetrica, $K_T$.\n\n- Il segnale di errore di attuazione è $\\hat{e} = e_r - e_t$. Questo è un segnale di tensione. L'unità è _Volt_, non radianti al secondo. Questi Volt saranno proporzionali all'errore di velocità se e solo se $K_P=K_T$. Questo è il lavoro dell'ingegnere di controllo! È possibile impostare la costante del potenziometro.\n\n- L'elemento di ingresso di riferimento potrebbe non essere fisicamente presente nel sistema (come la dinamo tachimetrica) ma ho comunque il blocco nello schema perché spiega il funzionamento del sistema!"
    },
    {
      "cell_type": "markdown",
      "id": "a2707073",
      "metadata": {},
      "source": "Ora possiamo riscrivere il diagramma a blocchi come feedback unitario equivalente\n\n<table>\n<tr>\n    <td> <img src=\"../pics/10_hardware_and_case_studies_speed_control_block_diagram_unity_feedback.png?2\" alt=\"10_hardware_and_case_studies_speed_control_block_diagram_unity_feedback\" style=\"width: 850px;\"/>\n</tr></table>"
    },
    {
      "cell_type": "markdown",
      "id": "ca3de9c6",
      "metadata": {},
      "source": "- Questo diagramma ha le stesse equazioni del precedente. Questa è una rappresentazione del diagramma a blocchi equivalente che mantiene la stessa relazione matematica del diagramma a blocchi originale tra $\\omega$ e $\\omega_r$.\n\n- Per questo diagramma a blocchi, $e$ rappresenta l'errore di sistema: la differenza tra la velocità comandata e quella effettiva.\n\n- Un sistema di feedback unitario risulta essere più conveniente per l'analisi e la progettazione."
    },
    {
      "cell_type": "markdown",
      "id": "b25dc45d",
      "metadata": {},
      "source": "## Analisi del Blocco Motorio\n\nApprofondiamo la dinamica del motore e la sua rappresentazione negli schemi a blocchi."
    },
    {
      "cell_type": "markdown",
      "id": "7cc98aa8",
      "metadata": {},
      "source": "Il motore controllato dall'armatura è un tipo specifico di motore in cui la velocità viene controllata variando la tensione ai capi dell'armatura.\nUno schema è riportato nell'immagine qui sotto:\n\n<table>\n<tr>\n    <td> <img src=\"../pics/10_hardware_and_case_studies_DC-Motor-Diagram.jpg?1\" alt=\"10_hardware_and_case_studies_DC-Motor-Diagram.jpg\" style=\"width: 550px;\"/>\n</tr></table>\n_Figura da electric4u.com_\n\n\n<table>\n<tr>\n    <td> <img src=\"../pics/10_hardware_and_case_studies_armature_controlled_motor.png?2\" alt=\"10_hardware_and_case_studies_armature_controlled_motor\" style=\"width: 550px;\"/>\n</tr></table>\n\n\n### Componenti del motore\n\n1. **Indotto**: L'armatura è il componente rotante principale del motore. Trasporta la corrente (spesso definita corrente di armatura, $i_a$, che interagisce con il campo magnetico prodotto dagli avvolgimenti di campo.\nQuesta interazione tra la corrente e il campo magnetico si traduce in una coppia che fa ruotare l'armatura.\nLa tensione attraverso l'armatura ($e_a$) e la corrente che la attraversa ($i_a$) determinano la velocità e la coppia del motore.\n\n2. **Avvolgimenti di campo**: si tratta di bobine avvolte attorno allo statore del motore, che producono un campo magnetico quando energizzate. Quando la corrente passa attraverso gli avvolgimenti di campo, produce un campo magnetico.\nIn un motore controllato da armatura, la corrente di campo ($i_f$) viene generalmente mantenuta costante, garantendo un campo magnetico costante.\n\n- L'intensità del campo magnetico generato dagli avvolgimenti di campo influisce sulla coppia e sulla velocità del motore.\n- Variando la corrente di campo è possibile controllare le caratteristiche del motore, soprattutto nei motori controllati dal campo.\n\n3. **Back EMF ($e_b$), (Forza elettromotrice)**: quando l'armatura ruota, induce una tensione che si oppone alla tensione di armatura applicata. Questa tensione indotta è chiamata back EMF ($e_b$).\n\n- Agisce come un meccanismo di feedback naturale: all'aumentare della velocità del motore, aumenta la forza controelettromotrice, che a sua volta riduce la tensione netta attraverso l'armatura e quindi limita la velocità.\n- È direttamente proporzionale alla velocità del motore.\n\n- La forza elettromotrice posteriore svolge un ruolo cruciale nella stabilizzazione della velocità del motore. Comprenderne la dinamica è essenziale per progettare controllori in grado di regolare in modo efficiente la velocità del motore, soprattutto nei motori controllati da armatura.\n\nIl motore del nostro sistema di controllo è caratterizzato da:\n\n- tensione di armatura applicata, $e_a$\n- la sua resistenza di armatura, $R_a$\n- e l'attuale $i_a$.\n\nQuando funziona, produce una coppia $T_M$. Questa coppia agisce sull'albero motore insieme ad una coppia di disturbo $T_W$."
    },
    {
      "cell_type": "markdown",
      "id": "39ed23c1",
      "metadata": {},
      "source": "### Modello di motore controllato da armatura\n\nRivediamo leggermente il diagramma precedente per esplicitare la presenza del Back EMF.\n\n<table>\n<tr>\n    <td> <img src=\"../pics/10_hardware_and_case_studies_armature_controlled_motor_with_back_emf_and_if.png?1\" alt=\"10_hardware_and_case_studies_armature_controlled_motor_with_back_emf_and_if\" style=\"width: 550px;\"/>\n</tr></table>\n\nPossiamo anche notare che in un modello semplificato l'induttanza dell'armatura può essere trascurata. In molti scenari, soprattutto in condizioni stazionarie, gli effetti della resistenza dell'armatura e dei campi elettromagnetici posteriori prevalgono sugli effetti transitori dell'induttanza dell'armatura.\nInoltre, l'induttanza dell'armatura ($L_a$) e la resistenza ($R_a$), insieme definiscono una costante di tempo elettrica per il motore, data da $\\tau_e=\\frac{L_a}{R_a}$. Per molti motori, soprattutto quelli più piccoli, questa costante di tempo elettrica è molto inferiore alla costante di tempo meccanica (definita da parametri come l'inerzia e l'attrito del motore).\nSe la risposta del sistema o la strategia di controllo non opera su una scala temporale in cui questa costante di tempo elettrica è significativa, può essere trascurata."
    },
    {
      "cell_type": "markdown",
      "id": "b05865e4",
      "metadata": {},
      "source": "In questo caso possiamo stabilire le seguenti relazioni chiave:\n\n1. La corrente di armatura è influenzata dalla differenza tra la tensione applicata e la forza controelettromotrice, divisa per la resistenza di armatura:\n\n$$\n\\begin{allineare}\ni_a = \\frac{e_a-e_b}{R_a}\n\\end{allineare}\n$$\n\n2. La corrente di campo $i_f$ è costante e $i_a$ dipende dalla tensione applicata $e_a$. Tuttavia la coppia prodotta dal motore ($T_M$) è proporzionale al prodotto dei due flussi, e quindi delle due correnti. Poiché $i_f$ è mantenuto costante, possiamo dire che la coppia prodotta dal motore è proporzionale alla corrente di armatura:\n\n$$\n\\begin{allineare}\nT_M = K_T \\volte i_a\n\\end{allineare}\n$$\n\nDove $K_T$ è la costante di coppia del motore.\n\nIl motore è detto controllato dall'armatura perché stiamo controllando la corrente di armatura $i_a$ attraverso la tensione applicata $e_a$, e questo rende possibile controllare la velocità del motore.\n\n3. La forza controelettromotrice è proporzionale alla velocità del motore:\n\n$$\n\\begin{allineare}\ne_b = K_b \\volte \\omega\n\\end{allineare}\n$$\n\nDove $K_b$ è la costante EMF posteriore.\n\n4. Fattore di forze e coppie esterne\n\nLa coppia $T_m$ guida il carico e possiamo scrivere un'equazione di equilibrio delle forze, tenendo conto delle influenze esterne come la coppia di disturbo $T_W$, la coppia inerziale dovuta all'inerzia del motore $J$ e la coppia di attrito dovuta all'attrito viscoso $ B$:\n\n$$\n\\begin{allineare}\nT_M = J\\punto{\\omega} + B\\omega + T_W\n\\end{allineare}\n$$"
    },
    {
      "cell_type": "markdown",
      "id": "81325c9c",
      "metadata": {},
      "source": "#### Rappresentazione in un diagramma a blocchi\n\nAvendo compreso le relazioni e le equazioni che governano la dinamica del motore, possiamo rappresentarle in uno schema a blocchi.\n\nIl segnale in ingresso è $e_a$, che possiamo trasformare in $E_a(s)$.\n\n<table>\n<tr>\n    <td> <img src=\"../pics/10_hardware_and_case_studies_armature_controlled_motor_block_diagram.png?1\" alt=\"10_hardware_and_case_studies_armature_controlled_motor_block_diagram\" style=\"width: 550px;\"/>\n</tr></table>\n\nIl circuito di retroazione è inerente al funzionamento del motore ed è una caratteristica importante dei motori controllati dall'armatura. Fornisce smorzamento.\n\nLa forza controelettromotrice si oppone alla tensione di armatura applicata, influenzando la corrente di armatura e, di conseguenza, la velocità e la coppia del motore. Introduce inoltre un anello di feedback intrinseco nei motori controllati da armatura, che influenza la risposta dinamica del motore."
    },
    {
      "cell_type": "markdown",
      "id": "4bd73a74",
      "metadata": {},
      "source": "#### Derivare la funzione di trasferimento\n\nCombinando le relazioni e le equazioni di cui sopra, si ricava la funzione di trasferimento per il motore, mettendo in relazione la velocità di uscita $\\omega$ con la tensione di armatura di ingresso $e_a$. Se impostiamo $T_W=0$, otteniamo:\n\n$$\n\\begin{allineare}\n\\frac{\\omega(s)}{E_a(s)} = \\frac{\\frac{K_T/R_a}{Js+B}}{\\frac{1+K_bK_T/R_a}{Js+B}} = \\ frac{K_T/R_a}{Js + B + K_bK_T/R_a}\n\\end{allineare}\n$$\n\nQuesta funzione di trasferimento è fondamentale in quanto ci fornisce un modello matematico della dinamica del motore, che può essere utilizzato per scopi di analisi e progettazione.\n\nPossiamo trasferire questa funzione di trasferimento in una forma standard del primo ordine:\n\n$$\n\\begin{allineare}\n\\frac{\\omega(s)}{E_a(s)} = \\frac{K_m}{\\tau_m s + 1}\n\\end{allineare}\n$$\n\nDove:\n\n$$\n\\tau_m = \\frac{J}{B+K_bK_T/R_a}\n$$\n\n$$\nK_m = \\frac{K_T/R_a}{B+K_bK_T/R_a}\n$$"
    },
    {
      "cell_type": "markdown",
      "id": "b6ea8673",
      "metadata": {},
      "source": "#### Commenti sul feedback intrinseco del motore\n\nUna delle caratteristiche uniche del motore controllato dall'indotto è il circuito di retroazione intrinseco dovuto a $K_b$.\n\n- La forza controelettromotrice $e_b$ è una tensione generata negli avvolgimenti dell'indotto di un motore quando gira. Si oppone alla tensione applicata $e_a$ e la sua grandezza è proporzionale alla velocità del motore. La costante di proporzionalità è spesso indicata come $K_b$.\n\n- $K_b$ aumenta il valore di $B$ e quindi aumenta lo smorzamento effettivo del motore. Quando il motore accelera, la forza elettromotrice posteriore aumenta. Questa maggiore forza elettromotrice si oppone più fortemente alla tensione applicata, riducendo efficacemente la tensione netta attraverso l'armatura. Ciò, a sua volta, riduce la corrente di armatura, che a sua volta diminuisce la coppia prodotta dal motore. Questo comportamento agisce come un meccanismo di smorzamento naturale, rallentando il motore quando tenta di funzionare troppo velocemente.\n\nQuesto feedback intrinseco fornisce lo smorzamento richiesto, garantendo un rapido smorzamento delle oscillazioni e una risposta più rapida allo stato stazionario.\n\nQuesto non è disponibile in tutti i motori (ad esempio, i motori controllati dal campo).\n\nSi noti inoltre che la costante di tempo del motore diminuisce quando $K_b$ aumenta, portando a una risposta più rapida (ovvero, raggiunge il suo valore di stato più rapidamente)."
    },
    {
      "cell_type": "markdown",
      "id": "7f6c9f53",
      "metadata": {},
      "source": "##### Barra laterale: in che modo la forza elettromotrice posteriore influisce sullo smorzamento\n\nRicorda le equazioni del motore:\n\n$$\n\\begin{allineare}\ni_a = \\frac{e_a-e_b}{R_a}\n\\end{allineare}\n$$\n\n\n$$\n\\begin{allineare}\nT_M = K_T \\volte i_a\n\\end{allineare}\n$$\n\n\n$$\n\\begin{allineare}\ne_b = K_b \\volte \\omega\n\\end{allineare}\n$$\n\n\n$$\n\\begin{allineare}\nT_M = J\\punto{\\omega} + B\\omega + T_W\n\\end{allineare}\n$$\n\nSostituendo nell'equazione (2), l'espressione per $i_a$ da (1) e poi l'espressione per $e_b$ da (3):\n\n$$\n\\begin{allineare}\nT_M = K_T \\times \\frac{e_a-e_b}{R_a} = K_T \\times \\frac{e_a-(K_b\\omega)}{R_a}\n\\end{allineare}\n$$\n\n\nLa coppia prodotta dal motore deve bilanciare le coppie resistenti al movimento del motore, che ora possiamo scrivere come:\n\n$$\nK_T \\times \\frac{e_a-(K_b\\omega)}{R_a} = T_M = J\\punto{\\omega} + B\\omega + T_W\n$$\n\n\nLa forza elettromotrice posteriore non entra direttamente nell'equazione della coppia, ma influenza la corrente di armatura, che a sua volta influenza la coppia prodotta dal motore. L'influenza della forza controelettromotrice sulla coppia è indiretta, attraverso la sua influenza sulla corrente di armatura.\n\n-- FINE DELLA BARRA LATERALE"
    },
    {
      "cell_type": "markdown",
      "id": "62d4b465",
      "metadata": {},
      "source": "**Domanda pop-up**: Se la costante $K_b$ dovesse aumentare (il che significa che il motore genera più forza elettromotrice posteriore per una determinata velocità), il motore sarebbe più o meno smorzato?\n\n**Risposta**: Il motore sarebbe più smorzato. Un aumento di $K_b$ significa che per ogni data velocità, la forza elettromotrice posteriore sarebbe maggiore, opponendosi più fortemente alla tensione applicata e aumentando così l'effetto di smorzamento nel sistema."
    },
    {
      "cell_type": "markdown",
      "id": "cd169d36",
      "metadata": {},
      "source": "### Rivisitare il sistema originale\n\nTorniamo al sistema primario dove integriamo il motore e deriviamo la funzione di trasferimento complessiva.\n\n<table>\n<tr>\n    <td> <img src=\"../pics/10_hardware_and_case_studies_armature_controlled_motor_block_diagram_final.png?1\" alt=\"10_hardware_and_case_studies_armature_controlled_motor_block_diagram_final\" style=\"width: 750px;\"/>\n</tr></table>\n\nUtilizzando metodi di riduzione del diagramma a blocchi (ad esempio, grafici del flusso del segnale o direttamente) diventa facile ottenere la funzione di trasferimento complessiva tra qualsiasi segnale di interesse.\n\nGeneralmente:\n\n$$\n\\omega(s) = M(s)\\omega_r(s) + M_W(s)T_W(s)\n$$"
    },
    {
      "cell_type": "markdown",
      "id": "fe8e60f0",
      "metadata": {},
      "source": "**Domanda (Popup)**: Perché usiamo $\\omega_r$ invece di $e_r$ nella nostra rappresentazione del diagramma a blocchi?\n**Risposta:** $\\omega_r$ viene utilizzato perché, ai fini dell'analisi e della progettazione nello schema a blocchi, fornisce una rappresentazione equivalente. Si tratta di equivalenza matematica piuttosto che di connessione fisica."
    },
    {
      "cell_type": "markdown",
      "id": "7d28c805",
      "metadata": {},
      "source": "# Sistema di controllo della posizione\n\n\nMentre il sistema di controllo della velocità si concentra sul mantenimento di una velocità specifica, il sistema di controllo della posizione mira a garantire che il carico o l'albero motore raggiunga e mantenga la posizione desiderata. Questo sistema è fondamentale nelle applicazioni in cui la precisione nel posizionamento è fondamentale.\n\n\nL'obiettivo principale del sistema di controllo della posizione è controllare la posizione del carico. È fondamentalmente diverso dal sistema di controllo della velocità di cui abbiamo discusso in precedenza.\n\n\n<table>\n<tr>\n    <td> <img src=\"../pics/10_hardware_and_case_studies_position_control.png?4\" alt=\"10_hardware_and_case_studies_position_control\" style=\"width: 750px;\"/>\n</tr></table>\n\n\nNel sistema di controllo della posizione:\n\n- L'ingresso di riferimento $e_r$ viene nuovamente fornito in termini di tensione.\n- Tuttavia questa tensione $e_r$ rappresenta ora la posizione desiderata.\n- L'obiettivo è che la posizione effettiva del carico $\\theta_L$ segua la posizione comandata $\\theta_r$."
    },
    {
      "cell_type": "markdown",
      "id": "e71b9e71",
      "metadata": {},
      "source": "## Comprendere lo schema a blocchi\n\n\n- L'ingresso di riferimento $e_r$ rappresenta la posizione desiderata, impostabile su un potenziometro. Pertanto, $e_r = K_p \\times \\theta_r$, dove $K_p$ è la costante potenziometrica.\n\n- Il segnale di feedback in questa fase è la posizione del carico $\\theta_L$. Questa posizione viene anche convertita in un segnale di tensione, rappresentato come $e_0 = K_p*\\theta_L$.\n\nPer semplicità e per facilitare una rappresentazione del diagramma a blocchi con retroazione unitaria, assumiamo che le costanti potenziometriche per le posizioni comandate e effettive siano identiche. Se le due costanti non fossero uguali non otterremmo un diagramma a blocchi con feedback unitario.\n\n- Il rilevatore di errori rileva la differenza tra la posizione desiderata e quella effettiva. Fornisce una tensione proporzionale a questa differenza, $e_r - e_o$. Nota che l'ingresso dell'amplificatore operazionale è $e_r - e_o$ perché il segno dei due potenziometri è invertito.\n- Il secondo amplificatore operazionale è un amplificatore invertente per invertire il segno del segnale.\n\n- L'uscita dell'amplificatore, $u$, funge da ingresso per l'amplificatore di potenza, risultando nella tensione $e_a$. Questa tensione aziona il motore controllato dall'indotto.\n\n- La coppia generata dal motore, tenendo conto dei disturbi esterni, trascina il carico.\n\n- Osservare che sia presente un rotismo che faccia da intermediario tra l'albero motore ed il carico. Ciò è spesso essenziale quando è necessario amplificare la coppia per spostare il carico, il che si traduce contemporaneamente in una riduzione della velocità.\n\n- Il treno di ingranaggi è essenziale per fornire la necessaria amplificazione di coppia, soprattutto quando si ha a che fare con un carico più pesante.\n\n- Infine, la posizione del carico $\\theta_L$ viene rilevata dal potenziometro e restituita."
    },
    {
      "cell_type": "markdown",
      "id": "50450b11",
      "metadata": {},
      "source": "### Il treno di ingranaggi nel sistema motore\n\n- Il treno di ingranaggi svolge un ruolo cruciale nell'amplificare la coppia e diminuire la velocità, adattato alle esigenze del carico.\n\n- Il nostro focus sarà sulla modellazione di due ingranaggi. Se il sistema prevede più di due marce è necessario formulare un modello corrispondente.\n\n<table>\n<tr>\n    <td> <img src=\"../pics/10_hardware_and_case_studies_position_control_train_gear.png?1\" alt=\"10_hardware_and_case_studies_position_control_train_gear\" style=\"width: 350px;\"/>\n</tr></table>\n\n- $\\theta_M$ indica la posizione del motore, mentre $\\theta_L$ indica la posizione del carico. Le loro direzioni sono invertite a causa della meccanica del treno di ingranaggi.\n\n- $T_W$ è la coppia di disturbo che, come illustrato, contrasta la direzione del movimento del carico. Tuttavia, è importante ricordare che si tratta di un valore algebrico."
    },
    {
      "cell_type": "markdown",
      "id": "51e1ca48",
      "metadata": {},
      "source": "### Derivare la relazione tra coppia e velocità\n\n\nCominciamo derivando un'equazione che mette in relazione la coppia e le velocità di due ingranaggi collegati.\n\n<table>\n<tr>\n    <td> <img src=\"../pics/10_hardware_and_case_studies_position_control_train_gear_1.png?1\" alt=\"10_hardware_and_case_studies_position_control_train_gear_1\" style=\"width: 350px;\"/>\n</tr></table>\n\nConsideriamo due ingranaggi, Gear 1 e Gear 2. I raggi di questi ingranaggi sono rispettivamente $r_1$ e $r_2$. Man mano che gli ingranaggi ruotano, il numero di giri dei due ingranaggi è diverso: la distanza lineare percorsa dalle loro superfici rimane costante, portando alla relazione:\n\n$$\n\\theta_Mr_1 = \\theta_Lr_1\n$$"
    },
    {
      "cell_type": "markdown",
      "id": "7edaddda",
      "metadata": {},
      "source": "**Domanda pop-up**: Perché le distanze lineari percorse dai due ingranaggi devono essere le stesse?\n**Risposta**: Gli ingranaggi sono in contatto, quindi per ogni giro di un ingranaggio, anche la parte corrispondente dell'altro ingranaggio percorre la stessa distanza lineare.\n\nSupponendo che i raggi e il numero di denti siano proporzionali, possiamo scrivere:\n\n$$\n\\begin{allineare}\n\\frac{N_1}{N_2} = \\frac{\\theta_L}{\\theta_M}\n\\end{allineare}\n$$\n\nQuesta diventa la nostra prima equazione fondamentale. Ma c'è di più in questa storia. Se differenziamo l'equazione precedente rispetto al tempo, otteniamo la relazione tra le velocità angolari dei due ingranaggi:\n\n$$\n\\begin{allineare}\n\\frac{N_1}{N_2} = \\frac{\\dot{\\theta}_L}{\\dot{\\theta}_M}\n\\end{allineare}\n$$\n\nIl rapporto $\\frac{N_1}{N_2}$ è spesso definito rapporto di trasmissione, indicato con $n$."
    },
    {
      "cell_type": "markdown",
      "id": "09ebdb54",
      "metadata": {},
      "source": "### Esame della dinamica della coppia"
    },
    {
      "cell_type": "markdown",
      "id": "295fb812",
      "metadata": {},
      "source": "Ora spostiamo la nostra attenzione sulle coppie coinvolte.\n\n<table>\n<tr>\n    <td> <img src=\"../pics/10_hardware_and_case_studies_position_control_train_gear_2.png?2\" alt=\"10_hardware_and_case_studies_position_control_train_gear_2\" style=\"width: 350px;\"/>\n</tr></table>\n\n- La coppia generata dal motore è rappresentata da $T_M$.\n\n- La coppia trasmessa attraverso il treno di ingranaggi all'albero di carico è $T_{21}$.\nQuesta coppia è fondamentale in quanto si oppone alla coppia di disturbo $T_W$."
    },
    {
      "cell_type": "markdown",
      "id": "29d4c29f",
      "metadata": {},
      "source": "- Un'altra coppia da considerare è $T_{12}$, che indica il carico dovuto al Gear 2 (e al carico collegato) sull'albero del motore. Possiamo capirlo intuitivamente perché il carico sull'albero motore quando abbiamo il Gear 2 e quando non lo abbiamo è diverso.\n\nNel punto di contatto tra gli ingranaggi, le **forze** sviluppate dai due ingranaggi dovrebbero equivalersi. Perciò:\n\n$$\n\\frac{T_{12}}{r_1} = \\frac{T_{21}}{r_2}\n$$\n\n$$\n\\frac{T_{12}}{T_{21}} = \\frac{N_{1}}{N_2} = \\frac{\\dot{\\theta}_L}{\\dot{\\theta}_M}\n$$\n\nSe $n < 1$, il rapporto di trasmissione amplifica la coppia (e riduce la velocità). Il valore tipico è n=1/30."
    },
    {
      "cell_type": "markdown",
      "id": "4118c43a",
      "metadata": {},
      "source": "### Integrazione degli effetti dell'equipaggiamento nel sistema\n\nUno dei risultati interessanti della nostra discussione finora è che possiamo rappresentare gli effetti combinati del motore e del treno di ingranaggi come se fossero un'unica entità. Matematicamente, l'intero sistema si comporta come se ci fosse un motore che aziona direttamente un carico con un momento di inerzia e attrito \"equivalente\".\nVediamo come risolverlo.\n\n<table>\n<tr>\n    <td> <img src=\"../pics/10_hardware_and_case_studies_position_control_train_gear_3.png?2\" alt=\"10_hardware_and_case_studies_position_control_train_gear_3\" style=\"width: 350px;\"/>\n</tr></table>\n\n\nPer la seconda marcia, l'equazione all'albero di carico è:\n\n$$\nT_{21} = J_L\\ddot{\\theta_L} + B_L\\punto{\\theta_L} + T_W\n$$\n\nPer la prima marcia, l'equazione all'albero motore è:\n\n$$\nT_M = J_M\\ddot{\\theta_M} + B_M\\dot{\\theta_M} + T_{12}\n$$\n\ndove $T_{12}$ rappresenta l'opposizione del carico e della seconda marcia all'albero motore.\n\n\nPoiché $\\frac{T_{12}}{T_{21}} = \\frac{N_{1}}{N_2}$, gli effetti combinati possono essere espressi come:\n\n$$\nT_M = J_M\\ddot{\\theta_M} + B_M\\dot{\\theta_M} + \\frac{N_{1}}{N_2}\\Big[J_L\\ddot{\\theta_L} + B_L\\dot{\\theta_L} + T_W\\ Grande]\n$$\n\n\nPoiché $n = \\frac{N_1}{N_2} = \\frac{\\theta_L}{\\theta_M}$ possiamo riscrivere l'equazione in funzione di $\\theta_M$:\n\n\n$$\nT_M = J_M\\ddot{\\theta_M} + B_M\\dot{\\theta_M} + \\Big(\\frac{N_{1}}{N_2}\\Big)^2J_L\\ddot{\\theta_M} + \\Big(\\frac{ N_{1}}{N_2}\\Grande)^2B_L\\punto{\\theta_M} + \\frac{N_{1}}{N_2}T_W\n$$\n\nPossiamo finalmente raggruppare le cose insieme:\n\n$$\nT_M = \\Grande(J_M+n^2J_L\\Grande)\\ddot{\\theta_M} + \\Grande(B_M+n^2B_L\\Grande)\\dot{\\theta_M}+ nT_W\n$$"
    },
    {
      "cell_type": "markdown",
      "id": "170b917c",
      "metadata": {},
      "source": "Matematicamente il sistema di controllo della posizione è equivalente al seguente:\n\n\nDove:\n- $J_{eq} = \\Grande(J_M+n^2J_L\\Grande)$\n- $B_{eq} = \\Grande(B_M+n^2B_L\\Grande)$\n- $nT_W$, è il disturbo equivalente che agisce sull'albero motore (in realtà il disturbo agisce sul carico).\n\nCon la nuova rappresentazione abbiamo riportato il problema del controllo allo stesso che avevamo con il controllo della velocità."
    },
    {
      "cell_type": "markdown",
      "id": "3b9e8669",
      "metadata": {},
      "source": "### Diagramma a blocchi"
    },
    {
      "cell_type": "markdown",
      "id": "fd36f076",
      "metadata": {},
      "source": "<table>\n<tr>\n    <td> <img src=\"../pics/10_hardware_and_case_studies_position_control_train_gear_4.png?2\" alt=\"10_hardware_and_case_studies_position_control_train_gear_4\" style=\"width: 650px;\"/>\n</tr></table>"
    },
    {
      "cell_type": "markdown",
      "id": "f1df512a",
      "metadata": {},
      "source": "- La dinamica del motore (compresi gli effetti del treno di ingranaggi) è rappresentata dall'equazione precedentemente derivata.\n- Vengono introdotti circuiti di feedback per tenere conto della forza elettromotrice posteriore e del meccanismo di controllo della posizione."
    },
    {
      "cell_type": "markdown",
      "id": "2bf541a3",
      "metadata": {},
      "source": "## Alcuni commenti aggiuntivi sul sistema di controllo della posizione CC\n\nNelle nostre discussioni precedenti, abbiamo approfondito le complessità del sistema di controllo della posizione CC. Oggi rivisiteremo ulteriormente questo sistema, esplorandone il significato nei sistemi di controllo e comprendendone i componenti fondamentali.\n\nI motori CC azionano molti carichi, rendendo il sistema di controllo della posizione CC un elemento fondamentale nel controllo automatico. Questo sistema ha diversi componenti e abbiamo visto l'equivalenza quando riportiamo il carico e il treno di ingranaggi sull'albero motore:\n\n<table>\n<tr>\n    <td> <img src=\"../pics/10_hardware_and_case_studies_position_control_train_gear_equivalence.png?1\" alt=\"10_hardware_and_case_studies_position_control_train_gear_equivalence\" style=\"width: 650px;\"/>\n</tr></table>\n\n_Figura: a sinistra: motore, treno di ingranaggi e carico. A destra: rappresentazione equivalente.\n\nDalle nostre discussioni precedenti, abbiamo dedotto che i parametri di carico potrebbero essere rispecchiati sull'albero motore. Questa realizzazione ci permette di rappresentare matematicamente il sistema in maniera semplificata, senza coinvolgere esplicitamente il treno di ingranaggi. Per chiarezza, si consideri un sistema in cui un motore aziona un carico attraverso un treno di ingranaggi. Questo sistema può essere rappresentato in modo equivalente come un motore che aziona un carico diretto, a patto di regolare opportunamente i parametri del carico per tenere conto degli effetti del treno di ingranaggi.\n\n- **Momento di inerzia equivalente sull'albero motore**\n$$J_{eq} = \\Grande(J_M+n^2J_L\\Grande)$$\n- **Coefficiente di attrito viscoso equivalente**\n$$B_{eq} = \\Grande(B_M+n^2B_L\\Grande)$$\n\nQui $J_M$ e $B_M$ rappresentano rispettivamente l'inerzia dovuta al rotore, agli ingranaggi, ecc. e il coefficiente di attrito sull'albero motore.\n$n$ è il rapporto di trasmissione definito come il rapporto tra il numero di denti sui due ingranaggi, $N_1$ e $N_2$.\n\n- **L'equazione del nucleo motore:**\n\n$$\nT_M = J_{eq}\\ddot{\\theta_M} + B_{eq}\\dot{\\theta_M}+ nT_W\n$$\n\nSi noti che $T_W$ è il disturbo sull'albero del carico e $n$ riflette questo disturbo sull'albero del motore."
    },
    {
      "cell_type": "markdown",
      "id": "e38fcb75",
      "metadata": {},
      "source": "Per modellare il nostro sistema, iniziamo considerando il motore controllato dall'armatura. La variabile di controllo qui è la tensione di armatura $e_a$, mentre la FEM opposta è $e_b$. Stiamo trascurando l'induttanza dell'armatura come discusso in precedenza.\n\nIn questo caso, per il motore caricato tramite un treno di ingranaggi, il carico direttamente collegato ad esso ha i parametri $J$ e $B$ riflessi dal carico originale tramite il treno di ingranaggi. Se il carico è collegato tramite un treno di ingranaggi, $J$ e $B$ lo includeranno direttamente.\nIl disturbo in questo contesto è $nT_W$.\n\n<table>\n<tr>\n    <td> <img src=\"../pics/10_hardware_and_case_studies_position_control_train_gear_equivalence_1.png?1\" alt=\"10_hardware_and_case_studies_position_control_train_gear_equivalence_1\" style=\"width: 650px;\"/>\n</tr></table>"
    },
    {
      "cell_type": "markdown",
      "id": "fc651dca",
      "metadata": {},
      "source": "### Modello di diagramma a blocchi\n\nDall'immagine precedente possiamo generare il seguente diagramma a blocchi, partendo dall'ingresso $e_a$ fino all'uscita $\\theta_M$.\n\n<table>\n<tr>\n    <img src=\"../pics/10_hardware_and_case_studies_position_control_train_gear_equivalence_2.png?1\" alt=\"10_hardware_and_case_studies_position_control_train_gear_equivalence_2\" style=\"width: 650px;\"/>\n</tr></table>\n\n_Figura: diagramma a blocchi che mostra l'intero sistema, dal rilevatore di errori che confronta la tensione di armatura e la forza elettromagnetica di ritorno, al treno di ingranaggi e ai parametri di carico e infine all'uscita_"
    },
    {
      "cell_type": "markdown",
      "id": "96a297fc",
      "metadata": {},
      "source": "In base a questo diagramma, applicando il principio di sovrapposizione (e quindi ponendo $T_W=0$, la funzione di trasferimento che lega la velocità di uscita $\\omega$ all'ingresso $e_a$ è:\n\n$$\n\\frac{\\omega(s)}{E_a(s)} = \\frac{\\frac{K_T/R_a}{Js+B}}{\\Big(1+\\frac{K_bK_T/R_a}{Js+B} \\Big)} = \\frac{K_T/R_a}{Js+B+K_bK_T/R_a}\n$$"
    },
    {
      "cell_type": "markdown",
      "id": "0823b79b",
      "metadata": {},
      "source": "Nota dall'equazione sopra come la costante EMF posteriore $K_b$ si aggiunge all'attrito meccanico nel sistema (il termine $B$), fornendo così ulteriore smorzamento, stabilizzando il sistema e rendendolo meno suscettibile alle oscillazioni. (quasi fornendo \"attrito elettrico\")"
    },
    {
      "cell_type": "markdown",
      "id": "5c07ccce",
      "metadata": {},
      "source": "La nostra funzione di trasferimento precedentemente derivata può essere interpretata nella sua forma standard per i sistemi del primo ordine come:\n\n$$\n\\frac{\\omega(s)}{E_a(s)} = \\frac{K_m}{\\tau_m s + 1}\n$$\n\nDove:\n\n- $K_m$ è il guadagno del sistema.\n- $\\tau_m$ è la costante di tempo meccanica, che può essere calcolata come:\n\n$$\n\\tau_m = \\frac{J}{B+\\frac{K_TK_b}{R_a}}\n$$"
    },
    {
      "cell_type": "markdown",
      "id": "01f2dbbe",
      "metadata": {},
      "source": "Se siamo più interessati alla relazione tra la posizione $\\theta_M$ e la tensione di ingresso $e_a$, la funzione di trasferimento diventa:\n\n$$\n\\frac{\\theta_M(s)}{E_a(s)} = \\frac{K_m}{s\\Grande(\\tau_m s + 1\\Grande)}\n$$"
    },
    {
      "cell_type": "markdown",
      "id": "48ee1d4b",
      "metadata": {},
      "source": "----\n\n### Barra laterale - Approfondimento sulla correlazione tra $K_T$ e $K_b$\n\n\nL'interrelazione tra la costante di coppia $K_T$ e la costante della forza controelettromotrice $K_b$ è un aspetto fondamentale della dinamica dei motori CC. Queste costanti sono proprietà intrinseche del motore, che ne governano il comportamento elettrico e meccanico. Per apprezzare veramente il loro significato e la loro relazione, è essenziale comprenderli in dettaglio.\n\n#### Cosa sono $K_T$ e $K_b$?\n\n1. **Costante di coppia $K_T$**: indica la coppia prodotta per unità di corrente. In termini semplici, fornisce una misura dell’efficacia del motore nel convertire la corrente elettrica in coppia meccanica. Un $K_T$ più alto implica che il motore può generare più coppia per la stessa corrente. La sua unità è Newton metro per ampere (Nm/A).\n\n2. **Costante EMF posteriore $K_b$**: La costante EMF posteriore determina la tensione prodotta per unità di velocità. Quando un motore ruota, genera intrinsecamente un EMF che si oppone alla tensione di pilotaggio; questo è chiamato EMF posteriore. $K_b$ quantifica questo effetto, indicando essenzialmente quanta tensione genera il motore per ogni radiante/secondo di rotazione. La sua unità è volt per radiante al secondo (V/(rad/s)).\n\n\n#### Derivazione matematica della loro relazione:\nConsiderando la potenza sviluppata nel motore a causa della forza controelettromotrice:\n\n$$\n\\begin{allineare}\nP &= e_b \\times i_a\\;\\;\\;\\; \\text{watt} \\\\\n  &= K_bw \\times i_a\\;\\;\\;\\; \\frac{\\text{volt}}{\\text{rad/s}}\\text{rad/s} \\times \\text{amp}\n\\end{allineare}\n$$\n\nDal punto di vista meccanico la potenza è data anche da:\n\n$$\n\\begin{allineare}\n P &= T_M \\times \\omega\\;\\;\\;\\; \\text{watt} \\\\\n   &= (\\text{Newton-m})(\\text{rad-s})\n\\end{allineare}\n$$\n\nChe può essere espanso come:\n$$\n\\begin{allineare}\n P &= K_Ti_a \\times \\omega\\;\\;\\;\\; \\text{watt} \\\\\n   &= \\frac{\\text{Newton-m}}{\\text{amp}} \\text{amp} \\times \\text{rad/s}\n\\end{allineare}\n$$\n\n\nDato che entrambe le espressioni rappresentano la potenza sviluppata nel motore, le equiparamo:\n\n$$\nK_b \\omega \\times i_a = K_T i_a \\times \\omega\n$$\n\n\nSemplificando troviamo:\n$$\n\\begin{allineare}\nK_b &= K_T \\\\\n\\frac{\\text{Newton-m}}{\\text{amp}} &= \\frac{\\text{volt}}{\\text{rad/s}}\n\\end{allineare}\n$$\n\nPertanto, questa derivazione evidenzia che la costante di coppia $ K_T $ e la costante EMF posteriore $ K_b $ sono numericamente uguali quando $ K_T $ è misurato in Newton metro per ampere e $ K_b $ in volt per radiante al secondo.\nI loro valori numerici sono gli stessi. Questo è il caso quando li consideriamo utilizzando queste unità specifiche. Se utilizziamo unità diverse, queste possono essere correlate da una costante e quindi i loro valori numerici potrebbero essere diversi.\n\n\n#### Implicazioni pratiche\n\n- Questa equivalenza non è solo una curiosità matematica; ha implicazioni nel mondo reale. Ad esempio, quando si progettano controllori motore o quando si acquistano motori per applicazioni specifiche, sapere che $K_T$ e $K_b$ sono uguali (in unità coerenti) può semplificare i calcoli e fornire informazioni dettagliate sul comportamento del motore.\n- Da un punto di vista sperimentale, misurare $K_b$ è più semplice e potenzialmente più accurato che misurare $K_T$. Ad esempio, per determinare $K_b$ è necessario soltanto misurare la forza elettromotrice e la velocità, mentre per valutare $K_T$ sono necessarie misurazioni della coppia. Data la suddetta relazione tra $K_T$ e $K_b$, è possibile misurare sperimentalmente $K_b$ e ricavarne $K_T$, offrendo un approccio più diretto.\n\n- La facilità di misurazione di $K_b$ rispetto a $K_T$ significa che gli ingegneri spesso determinano sperimentalmente $K_b$ (si misurano la FEM e la velocità) e quindi deducono $K_T$ (è necessario misurare una coppia). Ciò può portare a risparmi sui costi e caratterizzazioni dei motori più accurate in scenari pratici.\n\n\n-- FINE DELLA BARRA LATERALE"
    },
    {
      "cell_type": "markdown",
      "id": "d9760944",
      "metadata": {},
      "source": "## Motori controllati sul campo\n\nDopo aver compreso i motori controllati dall'armatura, è giunto il momento di introdurre il concetto di motori controllati dal campo.\n\nIn questi motori la corrente di armatura $i_a$ rimane costante, mentre la corrente di campo $i_f$ viene variata per controllare la coppia $T_M$.\n\n\n<table>\n<tr>\n    <img src=\"../pics/10_hardware_and_case_studies_field_motors.png?1\" alt=\"10_hardware_and_case_studies_field_motors\" style=\"width: 650px;\"/>\n</tr></table>\n\n- Ora la resistenza di campo e l'induttanza non sono trascurabili.\n\n<table>\n<tr>\n    <img src=\"../pics/10_hardware_and_case_studies_field_motors_block_diagram.png?1\" alt=\"10_hardware_and_case_studies_field_motors_block_diagram\" style=\"width: 650px;\"/>\n</tr></table>\n\n- L'effetto 'resistenza elettrica' non è più presente.\n\nLa funzione di trasferimento risultante da $\\omega(s)$ e $E_f(s)$ è:\n\n$$\n\\frac{\\omega(s)}{E_f(s)} = \\frac{K^{'}_m}{(\\tau_f s + 1)(\\tau^{'}_m s + 1)}\n$$\n\nche è un modello del secondo ordine.\n\nLa funzione di trasferimento dalla posizione $\\theta_M(s)$ e $E_f(s)$ abbiamo un modello del terzo ordine:\n\n$$\n\\frac{\\theta_M(s)}{E_f(s)} = \\frac{K^{'}_m}{s(\\tau_f s + 1)(\\tau^{'}_m s + 1)}\n$$\n\nPiù alto è l’ordine del modello, più complessa sarà la progettazione. L'ulteriore complessità deriva dal fatto che $L_f$ non può essere trascurato."
    },
    {
      "cell_type": "markdown",
      "id": "e6bead34",
      "metadata": {},
      "source": "# Selezione del motore: fattori da considerare\n\nEsaminiamo più in profondità come viene effettuata la scelta tra i diversi tipi di motori, in particolare i motori controllati sul campo rispetto ai motori controllati dall'armatura, in base alle applicazioni specifiche. Ricorda, ogni decisione ingegneristica comporta dei compromessi. Nel nostro contesto, queste decisioni ruotano attorno a potenza, prestazioni, costi e requisiti applicativi specifici.\n\n1. **Circuito campo/armatura**:\n- Requisiti dell'amplificatore di potenza: un vantaggio significativo del circuito di campo sono i requisiti inferiori dell'amplificatore di potenza. La potenza totale necessaria per azionare il circuito di campo è considerevolmente inferiore a quella richiesta per il circuito di armatura. Ciò significa che sarebbe sufficiente un amplificatore di potenza meno costoso.\n\n- Implicazioni sui costi: una conseguenza diretta dei ridotti requisiti dell'amplificatore di potenza è il costo. L'amplificatore di potenza per un circuito di campo è generalmente più economico rispetto a quello per un circuito di armatura.\n\n\n2. **Sfide con la corrente di armatura**:\n\nMantenere una corrente di armatura costante, soprattutto quando è elevata, rappresenta una sfida.\n\n- **Come mantenere costante la corrente dell'armatura?**\n  - La corrente di armatura può essere mantenuta abbastanza costante utilizzando una sorgente di tensione elevata e costante.\n  - Se la resistenza del circuito $R$ è considerevolmente maggiore della resistenza del circuito di armatura e la sorgente di tensione è robusta, la corrente di armatura $i_a$ rimarrà relativamente costante.\n\n<table>\n<tr>\n    <img src=\"../pics/10_hardware_and_case_studies_choosing_motors.png?1\" alt=\"10_hardware_and_case_studies_choosing_motors\" style=\"width: 250px;\"/>\n</tr></table>\n\n\n- **Quali sono le cause dei cambiamenti in $i_a$**?\n  - Il principale colpevole è l'effetto EMF posteriore. Questo effetto è evidente sul lato dell'armatura e poiché la forza elettromotrice posteriore cambia con la velocità, mantenere una corrente di armatura costante diventa difficile.\n\n- **Superare la sfida**:\n  - L'utilizzo di una sorgente di tensione sostanziale e di una resistenza significativa può aiutare a mantenere la corrente di armatura pressoché costante. Tuttavia, questa approssimazione è più precisa quando la corrente di armatura richiesta non è troppo elevata. Per questa ragione,\n  I _Motori controllati sul campo sono una buona scelta per i servo a bassa potenza_. _I servi ad alta potenza invece sono meglio realizzati con motori controllati da armatura_. Per questo motivo, nella maggior parte delle applicazioni industriali disponiamo di motori controllati da armatura.\n  \n  \n3. **Motori controllati sul campo e motori controllati da armatura per diverse esigenze di alimentazione**:\n- **Servi a bassa potenza**: i motori controllati sul campo sono una scelta convincente per i servi a bassa potenza. Quando il fabbisogno di potenza è basso, tale che la corrente di armatura $i_a$ rimane bassa, è possibile mantenere tale corrente a un valore ragionevolmente costante.\n- **Servi ad alta potenza**: per i servi ad alta potenza, in genere sono preferiti i motori controllati da armatura. In molte applicazioni di controllo industriale, i motori controllati dall'armatura vengono scelti rispetto ai motori controllati dal campo. Questi motori non solo forniscono più potenza ma offrono anche vantaggi come lo smorzamento intrinseco, consentendo un migliore controllo.\n\n\n## Commenti aggiuntivi:\n\nI progressi hanno affrontato alcune delle sfide associate a questi azionamenti motore. Alcune tendenze chiave includono:\n\n- **Motori DC senza spazzole**: una delle principali sfide con i motori discussi finora è l'attrito delle spazzole, che introduce la non linearità nei nostri modelli matematici. Sono ora disponibili motori CC senza spazzole, con commutazione elettronica, per mitigare gli effetti non lineari dovuti all'attrito delle spazzole.\n\n- **Ingranaggi e gioco**: la nostra discussione presuppone una relazione lineare tra l'ingresso e l'uscita del motore attraverso gli ingranaggi. Tuttavia, in realtà, il gioco degli ingranaggi introduce una non linearità. Ciò è dovuto al fatto che l'inversione degli ingranaggi non sarà istantanea (ad esempio, il tracciamento di oggetti richiede che il localizzatore si muova avanti e indietro). I motori **a trasmissione diretta** sono ora progettati per interfacciarsi direttamente con il carico, eliminando la necessità di treni di ingranaggi e le relative sfide non lineari.\n\n- **Meccanismi di feedback**: sebbene i potenziometri forniscano un modo semplice per misurare la posizione angolare, presentano le proprie sfide. I sistemi moderni si stanno orientando verso sensori più avanzati che offrono maggiore precisione e migliore linearità."
    },
    {
      "cell_type": "markdown",
      "id": "8df8e952",
      "metadata": {},
      "source": "# Controllo del feedback tramite amplificatori operazionali (amplificatori operazionali)\n\n\nRivisitiamo il nostro sistema di controllo della posizione\n\n<table>\n<tr>\n    <img src=\"../pics/10_hardware_and_case_studies_position_control_review.png?1\" alt=\"10_hardware_and_case_studies_position_control_review\" style=\"width: 750px;\"/>\n</tr></table>\n\n## Definizione delle variabili\n\nLa variabile $\\theta_L$ è il nostro attributo di interesse, quello che vogliamo controllare. A scopo illustrativo, supponiamo\n$\\theta_L$ rappresenta la posizione di un'antenna. D'altra parte, $\\theta_R$ è il segnale di comando, che in molte applicazioni del mondo reale può arrivare digitalmente o da vari dispositivi.\n\nAi fini di questo quaderno, rappresenteremo simbolicamente il segnale di comando, utilizzando un cursore su un potenziometro per regolare $\\theta_R$. Mentre il tergicristallo si muove, regola la tensione (chiamiamola tensione $e_r$), che è direttamente proporzionale a $\\theta_R$.\n\n### Potenziometro\nLa relazione tra $\\theta_R$ e $e_r$ dipende dalla costante del potenziometro $K_p$, che dipende dalla tensione fornita al potenziometro, e dal resistore:\n\n$$e_r = K_P\\theta_R$$\n\nNota che stiamo usando un altro potenziometro per rilevare l'uscita $\\theta_L$.\n\nI potenziometri sono spesso utilizzati in questi sistemi. Tuttavia, possono introdurre non linearità a causa della loro risoluzione finita. Ad esempio, un potenziometro a filo avvolto cambia passo dopo passo, non consentendo regolazioni continue (ad esempio, potenziometro a filo avvolto). Nonostante ciò, per il nostro modello matematico, assumeremo per semplicità una relazione lineare.\n\nPer ora, utilizziamo i potenziometri come rappresentazioni di dispositivi che consentono di generare segnali di riferimento e feedback, ma il dispositivo reale potrebbe essere diverso da un potenziometro, con caratteristiche lineari migliori.\n\n### Dalla tensione al controllo della posizione\n\nConcentriamoci ora sul primo amplificatore operazionale.\n\nQuesto circuito fornisce una tensione di uscita proporzionale alla differenza $e_r−e_0$, dove $e_0$ è la tensione di feedback corrispondente a $\\theta_L$.\nQuesta operazione fa sì che l'Op-Amp si comporti come un amplificatore differenziale con un guadagno specifico ($\\frac{-R_f}{R}$). A seconda della disposizione, l'uscita di tensione può rappresentare la posizione o la velocità.\n\n**L'amplificatore operazionale agisce come un amplificatore differenziale, producendo una tensione di uscita basata sulla differenza tra la tensione di riferimento e quella di feedback.**\n\nDate le disposizioni specifiche con i potenziometri ($e_r$ è una tensione negativa e $e_0$ è una tensione positiva), abbiamo:\n\n<table>\n<tr>\n    <img src=\"../pics/10_hardware_and_case_studies_position_control_review_1.png?1\" alt=\"10_hardware_and_case_studies_position_control_review_1\" style=\"width: 350px;\"/>\n</tr></table>\n\n- Si noti che per rendere la rappresentazione semplice, abbiamo ristrutturato il nostro diagramma a blocchi invertendo i segni di queste tensioni.\n\nPossiamo poi sommare i potenziometri per avere la presenza esplicita dei due angoli:\n\n<table>\n<tr>\n    <img src=\"../pics/10_hardware_and_case_studies_position_control_review_2.png?1\" alt=\"10_hardware_and_case_studies_position_control_review_2\" style=\"width: 350px;\"/>\n</tr></table>\n\n\nQuesto può anche essere scritto in modo equivalente come:\n\n\n<table>\n<tr>\n    <img src=\"../pics/10_hardware_and_case_studies_position_control_review_3.png?1\" alt=\"10_hardware_and_case_studies_position_control_review_3\" style=\"width: 350px;\"/>\n</tr></table>\n\n- Abbiamo spostato $K_P$ all'interno del ciclo\n- Questo ora è un ciclo di feedback unitario"
    },
    {
      "cell_type": "markdown",
      "id": "76aaf7b4",
      "metadata": {},
      "source": "### Integrazione del feedback della dinamo tachimetrica\n\nUna parte cruciale del nostro sistema è l'aggiunta di un generatore tachimetrico, che introduce un circuito di feedback secondario (o minore) per la velocità. La tensione della dinamo tachimetrica ($e_t$) svolge un ruolo fondamentale nelle prestazioni e nel controllo del sistema.\n\nIl secondo Op-Amp funziona anche come amplificatore differenziale con guadagno: $\\frac{-R^{'}_f}{R^{'}}$. L'ingresso di questo amplificatore operazionale è $e^{'}-e_t$."
    },
    {
      "cell_type": "markdown",
      "id": "b0dc7e2e",
      "metadata": {},
      "source": "<table>\n<tr>\n    <img src=\"../pics/10_hardware_and_case_studies_position_control_review_4.png?3\" alt=\"10_hardware_and_case_studies_position_control_review_4\" style=\"width: 750px;\"/>\n</tr></table>"
    },
    {
      "cell_type": "markdown",
      "id": "c0a68afa",
      "metadata": {},
      "source": "- L'amplificatore operazionale finale viene utilizzato come amplificatore di potenza con guadagno: $$-\\frac{R_{fp}}{R_p}$$\n\n- Da notare che, dato che abbiamo due amplificatori operazionali in cascata, i loro segni negativi si annullano e alla fine della catena abbiamo il segnale desiderato."
    },
    {
      "cell_type": "markdown",
      "id": "3298691e",
      "metadata": {},
      "source": "Possiamo ora completare lo schema a blocchi:\n\n<table>\n<tr>\n    <img src=\"../pics/10_hardware_and_case_studies_position_control_review_5.png?1\" alt=\"10_hardware_and_case_studies_position_control_review_5\" style=\"width: 750px;\"/>\n</tr></table>\n\n- Tieni presente che puoi dettagliare il diagramma a blocchi con una rappresentazione più dettagliata del motore che include il circuito EMF posteriore.\n\n- Ricordare che il rapporto di trasmissione è definito come:\n\n$$n = \\frac{\\dot{\\theta}_L}{\\dot{\\theta}_M} = \\frac{\\theta_L}{\\theta_M}$$\n\n\nIl sistema ha due cicli:\n\n1. **Ciclo primario (feedback di posizione)**: fornisce un feedback basato sulla posizione $\\theta_L$.\n2. **Loop secondario o minore (feedback di velocità)**: questo loop fornisce feedback in base alla velocità. Deriva il suo segnale da una dinamo tachimetrica, simboleggiata da $e_t$. Questo circuito secondario ha uno scopo di smorzamento simile a quello della forza elettromotrice posteriore intrinseca nel motore, ma ha il vantaggio di essere regolabile.\n3. **Loop interno al motore**: la natura intrinseca del motore introduce un altro anello di feedback, la forza elettromotrice posteriore, che non è direttamente sotto il nostro controllo. Al contrario, l'uscita della dinamo tachimetrica può essere controllata, permettendoci di regolare lo smorzamento del sistema."
    },
    {
      "cell_type": "markdown",
      "id": "2d247747",
      "metadata": {},
      "source": "### Rompere i loop\n\n#### Rompere il loop di velocità\n- Se rompiamo il feedback di velocità secondario, cosa succede alle prestazioni del sistema?\n\n- La dinamo tachimetrica fornisce intrinsecamente informazioni sulla velocità del sistema (stiamo restituendo la _derivativa_ di $\\theta_M$ attraverso il tachimetro).\n\n- **La mancanza del circuito secondario porta ad una perdita di smorzamento**\n  - Il sistema continuerà a funzionare come un sistema di controllo della posizione ma attraverso il circuito secondario stiamo controllando lo smorzamento del sistema. La dinamo tachimetrica generalmente fornisce un effetto smorzante al sistema, contribuendo a stabilizzarlo. Questo effetto di smorzamento è utile per ridurre al minimo le oscillazioni attorno al setpoint o al valore di riferimento. Senza questo feedback, il sistema potrebbe subire oscillazioni prolungate o addirittura sostenute in seguito a eventuali disturbi o modifiche del setpoint. Le prestazioni potrebbero peggiorare.\n   - _Nota che è simile a quello che è successo quando stavamo analizzando l'effetto della forza elettromagnetica posteriore. Anche la forza elettromotrice posteriore era proporzionale alla velocità ed era in grado di migliorare il nostro smorzamento. L'unica differenza è che la forza elettromotrice posteriore ($K_b$) è fuori dal nostro controllo (una volta selezionato il motore non è possibile modificare $K_b$). La $K_T$ invece è qualcosa che puoi controllare esplicitamente selezionando la dinamo tachimetrica._\n\n   - Conseguenze nel mondo reale: se il nostro sistema controllasse la posizione di un'antenna, una perdita di smorzamento potrebbe portare l'antenna a superare la posizione desiderata e quindi a oscillare avanti e indietro prima di stabilizzarsi. Ciò potrebbe causare segnali di comunicazione interrotti o degradati.\n   \n   \n#### Rompere il loop di posizione\n\n<table>\n<tr>\n    <img src=\"../pics/10_hardware_and_case_studies_position_control_review_6.png?1\" alt=\"10_hardware_and_case_studies_position_control_review_6\" style=\"width: 750px;\"/>\n</tr></table>\n\n- Quando il circuito di retroazione primario (posizione) viene interrotto, ma il circuito secondario (velocità) rimane, il sistema si comporta come un sistema a velocità controllata.\n\n- Nota che l'ingresso effettivo che abbiamo è la tensione $e_r$. In precedenza abbiamo interpretato questo segnale come una posizione.\n\n- La tensione $e_r$ nel loop diretto, che in precedenza era interpretata come posizione, ora è indicativa della velocità, dato che il feedback proviene ora dalla dinamo tachimetrica che rappresenta la velocità.\n\n- Il sistema diventa un sistema a velocità controllata. Possiamo anche ora esplicitare che la dinamo tachimetrica fornisce una velocità:\n\n\n<table>\n<tr>\n    <img src=\"../pics/10_hardware_and_case_studies_position_control_review_7.png?1\" alt=\"10_hardware_and_case_studies_position_control_review_7\" style=\"width: 750px;\"/>\n</tr></table>"
    },
    {
      "cell_type": "code",
      "execution_count": null,
      "id": "52aaa286",
      "metadata": {},
      "outputs": [],
      "source": []
    }
  ],
  "metadata": {
    "kernelspec": {
      "display_name": "python3",
      "language": "python",
      "name": "python3"
    }
  },
  "nbformat": 4,
  "nbformat_minor": 5
}