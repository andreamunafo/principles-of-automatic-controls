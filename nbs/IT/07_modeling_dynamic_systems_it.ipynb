{
  "cells": [
    {
      "cell_type": "markdown",
      "id": "1325a48b",
      "metadata": {},
      "source": "# Introduzione alla modellazione dei sistemi dinamici"
    },
    {
      "cell_type": "markdown",
      "id": "67d9a0cd",
      "metadata": {},
      "source": "La modellazione funge da spina dorsale per comprendere e manipolare i sistemi dinamici. Questi sistemi dinamici comprendono vari componenti:\n\n- Impianti\n- Controllori\n- Sensori\n- Attuatori\n- Eventuali altri dispositivi di intervento\n\nL'obiettivo primario? Stabilire equazioni precise che definiscano questi sistemi dinamici.\n\n\nRicordando le nostre discussioni precedenti, il nostro focus è sempre stato sull’applicazione delle leggi fisiche. Così facendo, possiamo trasformare le equazioni differenziali derivate in forme più digeribili. Due di questi moduli che utilizzeremo ampiamente sono:\n\n- Modelli con variabili di stato\n- Modelli di funzioni di trasferimento\n\nQuesti modelli offrono un modo strutturato per rappresentare matematicamente i sistemi, consentendo l'analisi e la progettazione."
    },
    {
      "cell_type": "markdown",
      "id": "7d68e333",
      "metadata": {},
      "source": "## Meccanica"
    },
    {
      "cell_type": "markdown",
      "id": "bd675986",
      "metadata": {},
      "source": "Anche se questo potrebbe sembrare una rivisitazione di un vecchio territorio, una revisione dei meccanismi della traduzione è importante. Questo perché i modelli fisici che utilizziamo nei sistemi di controllo derivano proprio da questi principi.\n\nSotto l’egida della meccanica della traduzione emergono tre elementi fondamentali:\n\n1. La massa ideale $M$\n2. Il coefficiente di attrito $B$\n3. La costante elastica $K$\n\n### Massa\nLa componente $M$, che rappresenta la massa ideale, è una semplificazione, un'idealizzazione a parametri concentrati di una massa distribuita. Negli scenari del mondo reale, non incontreresti una singola particella di massa $M$. Questa è un'approssimazione in cui assumiamo che l'intera massa sia centrata nel suo baricentro."
    },
    {
      "cell_type": "markdown",
      "id": "5b0b64b9",
      "metadata": {},
      "source": "**Domanda pop-up**: Perché utilizziamo l'idealizzazione dei parametri concentrati per la massa ideale\n$M$ nei sistemi dinamici?\n**Risposta**: Usiamo l'idealizzazione dei parametri concentrati per semplificare la rappresentazione delle masse distribuite approssimandole come una massa a punto singolo concentrata nel suo centro di gravità. Ciò rende la modellazione e l'analisi più trattabili."
    },
    {
      "cell_type": "markdown",
      "id": "b8d5da3c",
      "metadata": {},
      "source": "### Attrito\nIl coefficiente di attrito $B$ presenta una serie di sfide. Possono sorgere attriti a causa di vari fenomeni, quindi potrebbero essere necessari modelli diversi. Ad esempio, un attrito di guida costante tra le superfici si tradurrebbe in una forza di attrito costante per tutte le velocità, nota come attrito di Coulomb. D'altra parte, quando due superfici scivolano con un mezzo viscoso in mezzo, la forza di attrito è tipicamente proporzionale alla velocità, portando all'equazione $F=Bv$, dove $B$ è il coefficiente di attrito viscoso. Questo modello è prevalente quando un corpo solido interagisce con un mezzo fluidico.\n\nÈ essenziale riconoscere la presenza di altri tipi di attrito, come l'attrito di Coulomb, in dispositivi come i motori CC dovuti al contatto delle spazzole. Ma poiché le nostre discussioni iniziali ruotano attorno a modelli lineari, considereremo tutti gli attriti non lineari come disturbi del sistema."
    },
    {
      "cell_type": "markdown",
      "id": "74ff2b28",
      "metadata": {},
      "source": "### Molle\n\nInfine, la costante elastica $K$ entra in gioco quando c'è una deformazione elastica. In questo caso la forza dovuta all'effetto molla è data da $F=Kx$, dove $x$ è lo spostamento."
    },
    {
      "cell_type": "markdown",
      "id": "a74ace09",
      "metadata": {},
      "source": "> **Nota**: è essenziale comprendere che questi modelli, sebbene incredibilmente utili, sono approssimazioni. Semplificano le complessità del mondo reale in parti digeribili che possono essere utilizzate per la progettazione e l'analisi."
    },
    {
      "cell_type": "markdown",
      "id": "a25c6d31",
      "metadata": {},
      "source": "### Derivazione del modello matematico"
    },
    {
      "cell_type": "markdown",
      "id": "a8df477c",
      "metadata": {},
      "source": "Consideriamo un sistema meccanico complesso, in questo caso il sistema di sospensione di un'auto, e vediamo come possiamo approssimarlo attraverso una massa, una molla e un ammortizzatore più semplici.\n\n<table>\n<tr>\n    <td> <img src=\"../pics/07_modeling_dynamic_systems_hydraulic-power-steering.png?1\" alt=\"hydraulic-power-steering\" style=\"width: 650px;\"/>\n</tr></table>"
    },
    {
      "cell_type": "markdown",
      "id": "854ca402",
      "metadata": {},
      "source": "Dato un sistema fisico, il nostro primo passo è derivarne il modello matematico. Questo è essenziale per l'analisi o la progettazione.\n\nPrendiamo, ad esempio, il carico su un sistema comprendente la massa di un pistone di potenza, il collegamento di trasmissione e le ruote. Tutti questi componenti hanno masse distribuite. Tuttavia, per il nostro modello, lo semplificheremo come una singola particella di massa $M$.\n\nNel nostro caso la massa distribuita è la massa del pistone di potenza, la massa del cinematismo e la massa delle ruote. Ma modelleremo tutto questo come una particella con massa $M$.\n\n\nGli attriti nel nostro sistema derivano da varie fonti, come il movimento di un pistone in un mezzo viscoso o l'interazione tra il collegamento di trasmissione e l'ambiente circostante. Modelleremo questi attriti utilizzando il parametro $B$ e un attrito viscoso.\n\nGli pneumatici sulla strada potrebbero creare un attrito di Coulomb, ma lo considereremo come un disturbo che agisce sul nostro sistema.\n\nInfine, il comportamento elastico dei pneumatici può essere modellato attraverso una molla con parametro $k$.\n\nCon queste considerazioni possiamo modellare il sistema di sospensione del gatto con:"
    },
    {
      "cell_type": "markdown",
      "id": "060345f7",
      "metadata": {},
      "source": "<table>\n<tr>\n    <td> <img src=\"../pics/07_modeling_dynamic_systems_mechanical-systems-models-simpler.png?1\" alt=\"mechanical-systems-models\" style=\"width: 550px;\"/>\n</tr></table>"
    },
    {
      "cell_type": "markdown",
      "id": "7d502902",
      "metadata": {},
      "source": "Questa trasformazione, pur comportando varie approssimazioni, si è rivelata efficace per la progettazione del sistema di controllo."
    },
    {
      "cell_type": "markdown",
      "id": "f4f12531",
      "metadata": {},
      "source": "Abbiamo visto che a seconda del parametro $\\zeta$ abbiamo non smorzato ($\\zeta=0$), smorzato ($0<\\zeta<1$), critically damped ($\\zeta=1$) and over damped systems ($\\zeta>1$).\n\nIn alcune situazioni, potrebbe essere necessario introdurre un attrito intenzionale per controllare lo smorzamento del sistema. Ciò può essere ottenuto utilizzando un dispositivo chiamato dashpot, che utilizza un mezzo oleoso per fornire resistenza al movimento."
    },
    {
      "cell_type": "markdown",
      "id": "7fc55ccd",
      "metadata": {},
      "source": "## Modelli fisici e approssimazioni\n\nQualsiasi situazione fisica, sia nella natura che nell'industria, soprattutto se riguarda un sistema meccanico in modalità traslazionale, può essere modellata utilizzando i principi di cui abbiamo discusso. Questa rappresentazione servirà come nostro modello principale.\n\nTuttavia, man mano che andiamo avanti, è essenziale riconoscere le complessità e le approssimazioni che abbiamo impiegato. Ogni modello che deriviamo ha le sue radici in vari presupposti e semplificazioni, che sono vitali per rendere gestibile il modello.\n\nConsidera i parametri $M$ (la massa ideale), $K$ (la costante della molla) e $B$ (la costante del dash pot o costante di attrito viscoso). Nel nostro modello, $F_\\omega$ indica una forza di disturbo che agisce sul sistema. Potrebbe essere attribuito ad attriti incontrollati o anche a fattori ambientali. Abbiamo scelto il simbolo \"$\\omega$\" per rappresentare i disturbi.\n\nLe variabili $y$ e $v$ denotano rispettivamente spostamento e velocità."
    },
    {
      "cell_type": "markdown",
      "id": "3ff493d7",
      "metadata": {},
      "source": "<table>\n<tr>\n    <td> <img src=\"../pics/07_modeling_dynamic_systems_mechanical-systems-models.png?1\" alt=\"mechanical-systems-models\" style=\"width: 650px;\"/>\n</tr></table>"
    },
    {
      "cell_type": "markdown",
      "id": "d4243dea",
      "metadata": {},
      "source": "**Domanda pop-up**: Perché abbiamo bisogno di modellare i disturbi nel nostro sistema?\n**Risposta**: I disturbi possono influenzare le prestazioni e la stabilità di un sistema di controllo. Modellandoli, possiamo progettare strategie di controllo per mitigarne gli effetti e garantire che il sistema funzioni come previsto."
    },
    {
      "cell_type": "markdown",
      "id": "4a52a224",
      "metadata": {},
      "source": "Per trasformare questo modello fisico in un modello di equazioni differenziali, è spesso utile tracciare un diagramma di corpo libero."
    },
    {
      "cell_type": "markdown",
      "id": "a58ab668",
      "metadata": {},
      "source": "<table>\n<tr>\n    <td> <img src=\"../pics/07_modeling_dynamic_systems_mechanical-systems-models-forces.png?1\" alt=\"mechanical-systems-models\" style=\"width: 650px;\"/>\n</tr></table>"
    },
    {
      "cell_type": "markdown",
      "id": "a104d643",
      "metadata": {},
      "source": "Questo diagramma visualizza le masse come nodi e le forze che agiscono su di esse sono rappresentate con frecce. Per il nostro sistema attuale, abbiamo un'unica massa, $M$, con una forza applicata $F$ e una forza di disturbo $F_\\omega$. Inoltre, la forza della molla $Ky$ e la forza di attrito $Bv$ si oppongono al movimento. Bisogna considerare anche la forza d'inerzia dovuta alla massa $M$ stessa, che contrasta il movimento."
    },
    {
      "cell_type": "markdown",
      "id": "592c9561",
      "metadata": {},
      "source": "Un principio cruciale in meccanica è l’equazione dell’equilibrio delle forze, che afferma che le forze che promuovono il movimento dovrebbero eguagliare le forze che si oppongono ad esso. Pertanto la nostra equazione diventa:\n\n$$\nM\\punto{v} + B{v} + Ky = F - F_\\omega\n$$\n\nQui, $F-F_\\omega$ è la forza netta che agisce sul sistema. $\\dot{v}$ denota accelerazione e $F_\\omega$ può assistere o contrastare la forza applicata $F$ a seconda della sua natura. Vale la pena notare che anche se $F_\\omega$ aiuta il movimento, è comunque considerato un disturbo, poiché il sistema non è stato progettato pensando a questo."
    },
    {
      "cell_type": "markdown",
      "id": "73d279b6",
      "metadata": {},
      "source": "Possiamo convertirlo in un modello con variabili di stato:\n\n$$\n\\begin{allineare}\nx_1 &= y\\\\\nx_2 &= v = \\punto{y}\n\\end{allineare}\n$$\n\ne abbiamo già visto come farlo. Concentriamoci invece sul modello della funzione di trasferimento."
    },
    {
      "cell_type": "markdown",
      "id": "4907a89f",
      "metadata": {},
      "source": "## Trasformazione nel modello della funzione di trasferimento\n\nOgni sistema di controllo può essere rappresentato nel dominio di Laplace, rendendo più semplice l'analisi e la progettazione di strategie di controllo. Per il nostro sistema, la funzione di trasferimento è una relazione tra un singolo input e output. Tuttavia, si noti che il sistema è composto da due ingressi ($F, F_\\omega$) e un'uscita ($y$).\n\nPossiamo riscrivere la nostra equazione per esplicitare la variabile di output:\n\n\n$$\nM\\ddot{y} + B\\punto{y} + Ky = F - F_\\omega\n$$\n\nLa funzione di trasferimento è una descrizione SISO e quindi, utilizzando come diagramma a blocchi:\n\n<table>\n<tr>\n    <td> <img src=\"../pics/07_modeling_dynamic_systems_mechanical-systems-models-transfer-function.png?1\" alt=\"mechanical-systems-models-transfer-function\" style=\"width: 650px;\"/>\n</tr></table>"
    },
    {
      "cell_type": "markdown",
      "id": "0300fe4f",
      "metadata": {},
      "source": "Possiamo quindi scrivere la funzione di trasferimento tra $Y(s)$ e $F(s)$, e tra $Y(s)$ e $F_\\omega(s)$"
    },
    {
      "cell_type": "markdown",
      "id": "1a48b426",
      "metadata": {},
      "source": "Data la rappresentazione di cui sopra, possiamo esprimere la funzione di trasferimento tra\n$Y(s)$ e $F(s)$ (assumendo $F_\\omega(s)=0$) come:\n\n$$\n\\frac{Y(s)}{F(s)} = \\frac{1}{Ms^s+Bs+K}\n$$\n\ne questa è anche la funzione di trasferimento tra $Y(s)$ e $F_\\omega(s)$.\n\nPossiamo quindi chiamare:\n\n$$\n\\frac{Y(s)}{F(s)} = \\frac{1}{Ms^s+Bs+K} = Sol(s)\n$$"
    },
    {
      "cell_type": "markdown",
      "id": "f85b1223",
      "metadata": {},
      "source": "Con un po' di semplificazione e standardizzazione, e considerando lo smorzamento e la frequenza propria del sistema, otteniamo:\n\n$$\nG(s)=\\frac{1}{\\frac{M}{K}s^s + \\frac{B}{K}s + 1} = \\frac{K_S}{\\frac{1}{\\omega_n ^2}s^2 + \\frac{2\\zeta}{\\omega_n} s + 1 }\n$$\n\nDove ho chiamato $K_S$ il sistema guadagna per differenziarlo da $K$.\n\nQuesta funzione, definita ritardo quadratico, è un ritardo di secondo ordine in contrasto con il ritardo di primo ordine (o semplice) di cui abbiamo discusso in precedenza."
    },
    {
      "cell_type": "markdown",
      "id": "b755e201",
      "metadata": {},
      "source": "#### Unità\n\nL’importanza di comprendere queste unità e parametri non può essere sopravvalutata. Costituiscono la base su cui sono costruiti i nostri modelli matematici, consentendoci di fare previsioni, progettare controllori e comprendere il comportamento del sistema.\n\n- Forza: Newton\n- Dislocamento $y$: Metri\n- Velocità $v$: Metri/secondo\n- Accelerazione: metri/secondo^2\n- Massa $M$: Chilogrammi\n- Coefficiente di attrito $B$: Newton/(metri/secondo)\n- Costante della molla $K$: Newton/metro"
    },
    {
      "cell_type": "markdown",
      "id": "da222753",
      "metadata": {},
      "source": "**Domanda pop-up**: cosa distingue un ritardo di secondo ordine (ritardo quadratico) da un ritardo di primo ordine (semplice)?\n\n**Risposta**: un ritardo di secondo ordine ha un termine quadratico (s^2) al denominatore, mentre un ritardo di primo ordine ha solo un termine lineare (s). Ciò rende il sistema del secondo ordine più complesso, con proprietà come oscillazioni e superamento che non sono presenti in un sistema del primo ordine."
    },
    {
      "cell_type": "markdown",
      "id": "bba96614",
      "metadata": {},
      "source": "# Sistemi di rotazione ad asse fisso"
    },
    {
      "cell_type": "markdown",
      "id": "72f7a0ce",
      "metadata": {},
      "source": "Passando ai sistemi rotazionali, troviamo paralleli con le nostre discussioni precedenti. I parametri chiave qui includono:\n\n- $J$: Momento d'inerzia del sistema (Ricordare che la coppia d'inerzia dovuta a $J$ si oppone al moto).\n- $B$: Coefficiente di attrito viscoso\n- $K$: costante di primavera (sebbene spesso ignorata in molte applicazioni)"
    },
    {
      "cell_type": "markdown",
      "id": "d79b2680",
      "metadata": {},
      "source": "Consideriamo, ad esempio, l'orientamento di un'antenna.\n\n<table><tr>\n    <img src=\"../pics/07_modeling_dynamic_systems_antenna-tracking-system-gopal.png?1\" alt=\"antenna-tracking-system-gopal\" style=\"width: 450px;\"/>\n\n<td> <img src=\"../pics/07_modeling_dynamic_systems_antenna-tracking-system-gopal-block-diagram.png?1\" alt=\"antenna-tracking-system-gopal-block-diagram\" style=\"width: 350px;\"/>\n</tr></table>\n\nIl momento d'inerzia dell'antenna potrebbe essere rappresentato dal parametro $J$. Tuttavia, questo parametro potrebbe anche spiegare l’inerzia di altri componenti, come il rotore del motore, l’albero e persino gli ingranaggi. Come prima gli elementi vengono distribuiti, ma tutti questi sono raggruppati insieme in un unico parametro per la modellazione.\n\nAllo stesso modo, gli effetti di attrito (ad esempio cuscinetti, ecc.) sono incapsulati nel parametro $B$. Ricorda, le forze di smorzamento svolgono un ruolo cruciale nel controllare le oscillazioni in un sistema e garantire che si stabilizzi in una posizione stabile nel tempo.\n\nQui, di solito incontriamo due parametri principali, $J$ e $B$. In questi sistemi, spesso trascuriamo l'effetto molla $K$ a causa della breve lunghezza degli alberi e delle coppie relativamente basse generate. Tuttavia, in alcune applicazioni, come i sistemi controllati da robot, la flessibilità dell'albero diventa significativa, garantendo l'inclusione del parametro $K$."
    },
    {
      "cell_type": "markdown",
      "id": "498e69e0",
      "metadata": {},
      "source": "Per stabilire un modello matematico per un tale sistema, rappresenteremo l'elemento inerziale $J$, la coppia applicata $T$ e l'effetto di attrito $B$.\n\n<table>\n<tr>\n    <td> <img src=\"../pics/07_modeling_dynamic_systems_mechanical-systems-rotations-1.png?1\" alt=\"mechanical-systems-rotations\" style=\"width: 450px;\"/>\n</tr></table>\n\n\n\nPer il nostro diagramma di corpo libero, la coppia applicata $T$ si oppone alla coppia di disturbo $T_\\omega$ e alla coppia di attrito $B\\dot{\\theta}$ (dove $\\dot{\\theta}$ è la velocità angolare ) si oppone alla mozione.\n\n\n<table>\n<tr>\n    <td> <img src=\"../pics/07_modeling_dynamic_systems_mechanical-systems-rotations-1-torques.png?1\" alt=\"mechanical-systems-rotations-1-torques\" style=\"width: 450px;\"/>\n</tr></table>\n\n\nUtilizzando principi simili a quelli precedenti, la nostra equazione diventa:\n\n\n$$\nJ\\ddot{\\theta} + B \\dot{\\theta} = T − T_\\omega\n$$\n\nDove:\n\n- $J \\ddot{\\theta}$ è la coppia inerziale.\n- $B \\dot{\\theta}$ è la coppia di smorzamento.\n- $T$ è la coppia applicata.\n- $T_\\omega$ è la coppia di disturbo.\n\nIl modello della funzione di trasferimento per questo sistema, considerando $\\theta(s)$ come variabile di output, può essere dato da:\n\n<table>\n<tr>\n    <td> <img src=\"../pics/07_modeling_dynamic_systems_mechanical-systems-rotations-1-transfer-function-1.png?1\" alt=\"mechanical-systems-rotations-1-transfer-function\" style=\"width: 450px;\"/>\n</tr></table>\n\n\nDove:\n\n$$\nG(s) = \\frac{1}{Js^2+Bs}=\\frac{1}{s(Js+B)}\n$$"
    },
    {
      "cell_type": "markdown",
      "id": "4085c452",
      "metadata": {},
      "source": "Esprimendo la funzione di trasferimento nella sua forma standard:\n\n$$\nG(s) = \\frac{1}{s(Js+B)} = \\frac{K}{s(\\tau s + 1)}\n$$\n\nDove:\n\n- $K=\\frac{1}{B}$ è il guadagno del sistema.\n- $\\tau=\\frac{J}{B}$ è la costante di tempo del sistema.\n\nLa costante di tempo, $\\tau$, rappresenta la rapidità con cui il sistema risponde ai cambiamenti nell'input, con valori più piccoli che indicano risposte più rapide.\n\nQuesto sistema è composto da un integratore $\\frac{1}{s}$ e $\\frac{1}{(\\tau s + 1)}$ è un semplice ritardo, collegati in cascata."
    },
    {
      "cell_type": "markdown",
      "id": "d5d88730",
      "metadata": {},
      "source": "### Modifica della variabile di output\n\nIn precedenza ci siamo concentrati sul sistema rotazionale in cui lo spostamento angolare, $\\theta$, era la variabile di output primaria di interesse. Tuttavia, in alcune applicazioni, potrebbe essere più pertinente considerare la velocità angolare, $\\omega$ (o $\\dot\\theta$), come variabile di output.\n\n\nSe cambiamo la nostra variabile di output in velocità angolare, la nostra equazione differenziale che governa cambia. Nello specifico l’equazione diventa:\n$$\nJ\\punto{\\omega} + B {\\omega} = T − T_\\omega\n$$\n\nDove:\n\n- $J \\dot\\omega$ indica la coppia inerziale dovuta all'accelerazione.\n- $B\\omega$ indica la coppia di smorzamento dovuta alla velocità.\n- $T$ e $T_\\omega$ sono, come prima, rispettivamente la coppia applicata e quella di disturbo."
    },
    {
      "cell_type": "markdown",
      "id": "eaa401fd",
      "metadata": {},
      "source": "Trasformando l'equazione differenziale di cui sopra nel dominio di Laplace, e considerando $\\omega(s)$ come variabile di output, la funzione di trasferimento diventa:\n\n$$\nG(s) = \\frac{K}{\\tau s + 1}\n$$\n\n<table>\n<tr>\n    <td> <img src=\"../pics/07_modeling_dynamic_systems_mechanical-systems-rotations-1-transfer-function-omega.png?1\" alt=\"mechanical-systems-rotations-1-transfer-function-omega\" style=\"width: 450px;\"/>\n</tr></table>"
    },
    {
      "cell_type": "markdown",
      "id": "efa4022f",
      "metadata": {},
      "source": "Dove:\n\n- $K=\\frac{1}{B}$ è il guadagno del sistema.\n- $\\tau=\\frac{J}{B}$ è la costante di tempo del sistema."
    },
    {
      "cell_type": "markdown",
      "id": "fead224d",
      "metadata": {},
      "source": "1. **Guadagno del sistema, $K$**: indica come la velocità angolare del sistema, ω, cambia con le variazioni della coppia. Un $K$ maggiore significa che il sistema è più sensibile alle variazioni di coppia.\n2. **Costante di tempo, τ**: rappresenta la rapidità con cui la velocità angolare del sistema risponde ai cambiamenti nella coppia di ingresso. Un τ più piccolo indica una risposta più rapida."
    },
    {
      "cell_type": "markdown",
      "id": "e5815492",
      "metadata": {},
      "source": "**Domanda pop-up**: Perché potremmo essere interessati alla velocità angolare come risultato piuttosto che allo spostamento angolare?\n**Risposta**: la velocità angolare può essere cruciale in scenari in cui la velocità di rotazione è più critica della posizione, come nei motori, nelle turbine o in qualsiasi sistema in cui il controllo della velocità di rotazione è essenziale."
    },
    {
      "cell_type": "markdown",
      "id": "2f93e250",
      "metadata": {},
      "source": "La commutazione della variabile di uscita dallo spostamento angolare alla velocità angolare modifica la dinamica del sistema:\n\n- Il sistema ora risponde principalmente ai cambiamenti di velocità piuttosto che di posizione.\n- Le strategie di controllo potrebbero differire, concentrandosi sul mantenimento o sulla regolazione della velocità piuttosto che sul raggiungimento di una posizione particolare.\n\nAd esempio, in un'applicazione con servomotore in cui l'obiettivo è mantenere una velocità costante in condizioni di carico variabili, la velocità angolare come variabile di uscita sarebbe più rilevante dello spostamento angolare. Al contrario, per il posizionamento preciso di un braccio robotico, lo spostamento angolare potrebbe essere la variabile di output più appropriata."
    },
    {
      "cell_type": "markdown",
      "id": "98b9356d",
      "metadata": {},
      "source": "Ora possiamo rivisitare il sistema quando l'output era la posizione:"
    },
    {
      "cell_type": "markdown",
      "id": "2372794e",
      "metadata": {},
      "source": "<table>\n<tr>\n    <td> <img src=\"../pics/07_modeling_dynamic_systems_mechanical-systems-rotations-1-transfer-function-omega-theta.png?1\" alt=\"mechanical-systems-rotations-1-transfer-function-omega-theta\" style=\"width: 450px;\"/>\n</tr></table>"
    },
    {
      "cell_type": "markdown",
      "id": "347bdcee",
      "metadata": {},
      "source": "Un motore con controllo di posizione ha un effetto integrativo. Non esiste un integratore fisico ma l'effetto complessivo è quello di un integratore."
    },
    {
      "cell_type": "markdown",
      "id": "0403de02",
      "metadata": {},
      "source": "### Da un diagramma a blocchi funzionali di trasferimento a modelli a variabili di stato"
    },
    {
      "cell_type": "markdown",
      "id": "1920eaeb",
      "metadata": {},
      "source": "Si noti inoltre che se ci viene fornito un modello di diagramma della funzione di trasferimento, l'uscita di un integratore sono variabili di stato adatte.\n\nÈ importante anche realizzare che l'output di un ritardo del primo ordine è lo stesso di un integratore insieme a un filtro. Quindi anche il suo output è una variabile di stato adatta."
    },
    {
      "cell_type": "markdown",
      "id": "b21095dc",
      "metadata": {},
      "source": "<table>\n<tr>\n    <td> <img src=\"../pics/07_modeling_dynamic_systems_mechanical-systems-rotations-1-transfer-function-to-state.png?1\" alt=\"mechanical-systems-rotations-1-transfer-function-to-state\" style=\"width: 450px;\"/>\n</tr></table>"
    },
    {
      "cell_type": "markdown",
      "id": "c98fe0fd",
      "metadata": {},
      "source": "E dal diagramma sopra possiamo facilmente calcolare il modello statale.\n\nDall'integratore di destra otteniamo:\n\n$$\n\\punto{x_1}=x2\n$$\n\ne dal ritardo del primo ordine otteniamo:\n\n$$\n\\tau\\punto{x_2} + x_2 = K(T-T_\\omega)\n$$\n\ned infine possiamo trovare le matrici $A$, $b$, $c$ e $d$ per averlo nella forma standard."
    },
    {
      "cell_type": "markdown",
      "id": "41f80446",
      "metadata": {},
      "source": "Pensa a cosa succede con un ritardo del secondo ordine (ad esempio, il sistema massa-molla-smorzatore).\n\nUn ritardo del secondo ordine sarà modellato con due variabili di stato, ma in questo caso queste non saranno disponibili come output di un integratore.\n\n<table>\n<tr>\n    <td> <img src=\"../pics/07_modeling_dynamic_systems_mechanical-systems-rotations-1-transfer-function-to-state-second-order.png?1\" alt=\"mechanical-systems-rotations-1-transfer-function-to-state-second-order\" style=\"width: 450px;\"/>\n</tr></table>"
    },
    {
      "cell_type": "markdown",
      "id": "98204024",
      "metadata": {},
      "source": "La selezione delle variabili di stato non è univoca, ma un'opzione che funzionerà è prendere l'output come una delle variabili di stato e la sua derivata come le altre variabili di stato.\nIn questo caso:\n\n$$\n\\begin{allineare*}\nx_1 &= y\\\\\nx_2 &= \\punto{y} = \\punto{x_1}\\\\\n\\end{allineare*}\n$$\n\nChe dà la prima equazione:\n\n$$\n\\begin{allineare}\n\\punto{x_1}=x_2\n\\end{allineare}\n$$\n\nE per la seconda equazione possiamo scrivere:\n\n$$\n\\frac{1}{\\omega_n^2}\\ddot{y} + \\frac{2\\zeta}{\\omega_n} \\dot{y} + y = K(F-F_\\omega)\n$$\n\nda cui ricaviamo:\n\n$$\n\\begin{allineare}\n\\dot{x_2}= \\Grande[ -x_1 - \\frac{2\\zeta}{\\omega_n}x_2 + K(F-F_\\omega) \\Grande] \\omega_n^2\n\\end{allineare}\n$$\n\nNota che ci sono due input: $F$ e $F_\\omega$ e quindi il modello delle variabili di stato sarà:\n\n\n\\begin{allineato}\n\\begin{bmatrice}\n\\punto{x}_1(t) \\\\\n\\punto{x}_2(t) \\\\\n\\end{bmatrice}\n&=\n\\begin{bmatrice}\na_{11} & a_{12} \\\\\na_{21} & a_{22} \\\\\n\\end{bmatrice}\n\\begin{bmatrice}\nx_1(t) \\\\\nx_2(t) \\\\\n\\end{bmatrice}\n+\n\\begin{bmatrice}\nb_{11} & b_{12} \\\\\nb_{21} & b_{22} \\\\\n\\end{bmatrice}\n\\begin{bmatrice}\nF(t) \\\\\nF_\\omega(t) \\\\\n\\end{bmatrice}\n\\end{allineato}\n\n\\begin{allineato}\ny(t) =\n\\begin{bmatrice}\nc_{1} & c_{2} \\\\\n\\end{bmatrice}\n\\begin{bmatrice}\nx_1(t) \\\\\nx_2(t) \\\\\n\\end{bmatrice}\n+\n\\begin{bmatrice}\nd_{11} & d_{12} \\\\\n\\end{bmatrice}\n\\begin{bmatrice}\nF(t) \\\\\nF_\\omega(t) \\\\\n\\end{bmatrice}\n\\end{allineato}\n\nSi noti che $F_\\omega$ è un disturbo ma è un input nel modello."
    },
    {
      "cell_type": "markdown",
      "id": "bd324389",
      "metadata": {},
      "source": "#### Unità\n\nL’importanza di comprendere queste unità e parametri non può essere sopravvalutata. Costituiscono la base su cui sono costruiti i nostri modelli matematici, consentendoci di fare previsioni, progettare controllori e comprendere il comportamento del sistema.\n\n- Coppia: Newton$\\cdot$m\n- Spostamento $\\theta$: Radianti\n- Velocità $\\dot\\theta$: radianti/secondo\n- Accelerazione $\\ddot\\theta$: Radianti/secondo^2\n- Coefficiente di attrito $B$: Newton-m/(rad/secondo) - da $T=B\\dot{\\theta}$\n- Momento d'inerzia $J$: Newton-m/(rad/sec^2) o kg-m^2"
    },
    {
      "cell_type": "markdown",
      "id": "618a7d07",
      "metadata": {},
      "source": "# Principio delle variabili analoghe\n\nNel vasto regno della dinamica dei sistemi, è spesso utile tracciare parallelismi tra diversi tipi di sistemi per semplificare la nostra comprensione. Uno di questi approcci consiste nell’analogizzare tra sistemi meccanici ed elettrici. Questa analogia ci consente di tradurre il comportamento di un tipo di sistema in un altro, dandoci ulteriori prospettive e strumenti di analisi e progettazione.\n\nAl centro del concetto di sistemi analoghi c’è l’idea che diversi sistemi governati da equazioni differenziali simili esibiranno un comportamento dinamico identico. Pertanto, se studiamo la risposta di un sistema, possiamo dedurre il comportamento della sua controparte analoga.\n\n\nPer capirlo consideriamo un circuito elettrico:\n\n<table>\n<tr>\n    <td> <img src=\"../pics/07_modeling_dynamic_systems_princicple-of-analogous-systems-circuit.png?1\" alt=\"princicple-of-analogous-systems-circuit\" style=\"width: 450px;\"/>\n</tr></table>\n\n\n\nQuesto circuito elettrico è costituito da un resistore ($R$), un induttore ($L$) e un condensatore ($C$), pilotato da una sorgente di corrente ($i$).\n\nPossiamo scrivere l'equazione come:\n\n$$\n\\frac{e}{R} + i_2 + C\\frac{de}{dt} = i\n$$\n\n$$\nL\\frac{di_2}{dt} = e\n$$\n\nDalla corrente attraverso l'induttore e dalla tensione attraverso il condensatore possiamo derivare il solito modello della variabile di stato.\n\n\nNel tracciare parallelismi tra sistemi meccanici ed elettrici:\n\n- La forza in un sistema meccanico è analoga alla tensione in un sistema elettrico.\n- La velocità o lo spostamento in un sistema meccanico possono essere paragonati alla corrente in un sistema elettrico.\nUtilizzando queste analogie, possiamo trasformare i modelli di sistemi meccanici in circuiti elettrici equivalenti. Questa equivalenza consente l'applicazione di tecniche di analisi dei circuiti elettrici consolidate ai sistemi meccanici."
    },
    {
      "cell_type": "markdown",
      "id": "568985b2",
      "metadata": {},
      "source": "L’equazione che governa questo sistema può essere scritta come:\n\n$$\n\\begin{allineare}\n\\frac{e}{R} + C \\frac{de}{dt} + \\frac{1}{L} \\int_{-\\infty}^{t} e(\\tau) d\\tau = i\n\\end{allineare}\n$$\n\nDove:\n\n- $e$ è la tensione ai capi dei componenti.\n- $i_2$ è la corrente che attraversa l'induttore."
    },
    {
      "cell_type": "markdown",
      "id": "0fac0e3f",
      "metadata": {},
      "source": "### Barra laterale - Modellazione e analisi di un circuito RLC parallelo con una sorgente di corrente\n\nIl modello per un circuito con una sorgente di corrente e un resistore (R), un induttore (L) e un condensatore (C) in parallelo può essere rappresentato utilizzando la legge della corrente di Kirchhoff (KCL). KCL afferma che la somma delle correnti che entrano in un nodo (o una giunzione) è uguale alla somma delle correnti che escono dal nodo.\n\n#### Rappresentazione del circuito:\n\n<table>\n<tr>\n    <td> <img src=\"../pics/07_modeling_dynamic_systems_princicple-of-analogous-systems-circuit-sidebar.png?1\" alt=\"princicple-of-analogous-systems-circuit-sidebar\" style=\"width: 450px;\"/>\n</tr></table>\n\nUno schema circuitale che mostra una sorgente di corrente $ I_s $ collegata a una combinazione parallela di un resistore (R), un induttore (L) e un condensatore (C).\n\n#### Modello matematico:\n\nPer il circuito dato, applichiamo KCL al nodo in cui R, L e C sono collegati in parallelo. Indicheremo la corrente attraverso il resistore come $ I_R $, la corrente attraverso l'induttore come $ I_L $ e la corrente attraverso il condensatore come $ I_C $.\n\nSecondo la legge di Ohm:\n\n$$ I_R = \\frac{V}{R} $$\nDove $ V $ è la tensione ai capi del resistore (e anche ai capi dell'induttore e del condensatore a causa della connessione in parallelo).\n\nPer l'induttore:\n$$ I_L(t) = \\int_{-\\infty}^{t} \\frac{V(\\tau)}{L} \\, d\\tau $$\nOppure nella forma differenziale:\n$$ V = L \\frac{dI_L}{dt} $$\n\nPer il condensatore:\n$$ I_C(t) = C \\frac{dV}{dt} $$\n\nCombinando queste equazioni utilizzando KCL:\n$$ I_s = I_R + I_L + I_C $$\n\n$$ I_s = \\frac{V}{R} + \\int_{-\\infty}^{t} \\frac{V(\\tau)}{L} \\, d\\tau + C \\frac{dV}{dt }$$\n\nQuesta equazione rappresenta la relazione tra la corrente sorgente $ I_s $ e la tensione $ V $ attraverso i componenti paralleli. È un'equazione differenziale del secondo ordine dovuta alla presenza sia dell'induttore che del condensatore.\n\nFINE DELLA BARRA LATERALE\n\n------"
    },
    {
      "cell_type": "markdown",
      "id": "d2d0bbd3",
      "metadata": {},
      "source": "Consideriamo ora le equazioni che governano un sistema meccanico.\n\nPer il sistema meccanico si può applicare la seconda legge di Newton, ottenendo un'equazione che rappresenta la somma delle forze agenti sulla massa pari al prodotto della massa per la sua accelerazione.\n\nL’equazione differenziale che governa questo sistema è:\n\n$$\n\\begin{allineare}\nM\\ddot{y} + B\\punto{y} + Ky = F\n\\end{allineare}\n$$\n\nDove\n- $y$: è lo spostamento\n- assumiamo che $F_\\omega=0$ (se facciamo riferimento all'esempio precedente)\n\n\nPossiamo ora scrivere la precedente equazione (1) come:\n\n$$\nM\\punto{v} + Bv + K\\int_{-\\infty}^{t} v(\\tau)d\\tau = F\n$$\n\nDove\n- $v$: è la velocità"
    },
    {
      "cell_type": "markdown",
      "id": "eb0a9860",
      "metadata": {},
      "source": "Le equazioni elettriche e meccaniche sono identiche:\n\n$$\n\\begin{allineare}\nC \\dot{e} + \\frac{1}{R}e + \\frac{1}{L} \\int_{-\\infty}^{t} e(\\tau) d\\tau = i\n\\end{allineare}\n$$\n\n$$\n\\begin{allineare}\nM\\punto{v} + Bv + K\\int_{-\\infty}^{t} v(\\tau)d\\tau = F\n\\end{allineare}\n$$\n\nCiò significa che se si fornisce un input di passo Forza nell'equazione (2) e si misura la risposta $v$, o un input di passo corrente nell'equazione (1) e si misura la risposta $e$, i due saranno identici per quanto per quanto riguarda la loro dinamica."
    },
    {
      "cell_type": "markdown",
      "id": "c4bb8a3a",
      "metadata": {},
      "source": "Ciò consente di disegnare un equivalente elettrico di sistemi meccanici, termici, liquidi, ecc.\n\nPerché spesso abbiamo bisogno di un sistema elettrico? Perché sono facili da sperimentare."
    },
    {
      "cell_type": "markdown",
      "id": "1c1fd5ad",
      "metadata": {},
      "source": "Tracciando parallelismi tra i due sistemi, otteniamo l'analogia Forza-Corrente:\n\n1. La **Forza (F)** nel sistema meccanico è analoga alla **Corrente (I)** nel sistema elettrico.\n2. La **Velocità (v)** nel sistema meccanico è analoga alla **Tensione (e)** nel sistema elettrico.\n3. **Massa (M)** è analoga a **Capacità (C)**.\n4. **Lo Smorzamento (B)** è analogo al **reciproco della Resistenza (1/R)**.\n5. La **costante di molla (K)** è analoga al **reciproco dell'induttanza (1/L)**."
    },
    {
      "cell_type": "markdown",
      "id": "fdd861dc",
      "metadata": {},
      "source": "Analogia coppia-corrente per sistemi rotazionali\n\nPer i sistemi rotazionali meccanici, l'analogia può essere estesa:\n\n1. **Coppia (T)** è analoga a **Corrente (I)**.\n2. **Velocità angolare (ω)** è analoga a **Tensione (e)**.\n3. **Momento di inerzia (J)** è analogo a **Capacità (C)**.\n4. Lo **Smorzamento rotazionale (B)** rimane analogo al **reciproco della Resistenza (1/R)**.\n5. La **costante torsionale della molla (K)** è analoga al **reciproco dell'induttanza (1/L)**."
    },
    {
      "cell_type": "markdown",
      "id": "b177c47c",
      "metadata": {},
      "source": "# Introduzione ai Sistemi Termici nel Controllo Automatico"
    },
    {
      "cell_type": "markdown",
      "id": "1fc59625",
      "metadata": {},
      "source": "Altri due sistemi essenziali nell'ingegneria di controllo sono i sistemi termici e i sistemi di livello dei liquidi. Questi sistemi seguono gli stessi principi di controllo dei sistemi meccanici, ma con parametri e componenti diversi.\n\n1. Sistemi termici: si occupano di conduzione del calore, radiazione e convezione.\n2. Sistemi di livello dei liquidi: si concentrano sulla dinamica dello stoccaggio e del flusso dei liquidi."
    },
    {
      "cell_type": "markdown",
      "id": "3cd2eb3b",
      "metadata": {},
      "source": "## Trasferimento di calore attraverso una parete solida\n\nConsideriamo un muro di qualsiasi materiale con superficie $A$ ($m/s^2$) e spessore $l$ ($m$).\nSia $\\theta_1$ ($^oC$) e $\\theta_2$ ($^oC$) le temperature su entrambi i lati di questo muro.\n\n<table>\n<tr>\n    <td> <img src=\"../pics/07_modeling_dynamic_systems_thermal-model-wall.png?1\" alt=\"thermal-model-wall\" style=\"width: 150px;\"/>\n</tr></table>\n\nIl trasferimento di calore attraverso questa parete può essere descritto dalla seguente equazione:\n\n$$\nh = \\frac{\\sigma A(\\theta_1−\\theta_2)}{l}\n$$\n\nDove:\n- $h$ è la velocità di trasferimento del calore (in Joule al secondo).\n- $\\sigma$ è la conducibilità termica del materiale.\n\n\n\nDa una prospettiva analoga, considerando che $h$ è simile alla corrente e la differenza di temperatura $\\theta_1−\\theta_2$ è simile alla tensione, l'equazione di cui sopra può essere vista come:\n\n$$\nh = \\frac{\\theta_1−\\theta_2}{R}\n$$\n\nDove:\n- $R = \\frac{l}{\\sigma A}$ è la resistenza di conduzione del materiale."
    },
    {
      "cell_type": "markdown",
      "id": "367de8bf",
      "metadata": {},
      "source": "## Trasferimento di calore all'interfaccia liquido-solido\n\nConsidera un'interfaccia solido-liquido, dove viene trasferito il calore. Sia $U$ il coefficiente del film su questa interfaccia e $A$ sia l'area della superficie di contatto.\n\nIl trasferimento di calore in questo scenario può essere descritto da:\n\n$$\nh = UA(\\theta_1−\\theta_2)\n$$\n\nDove:\n- $\\theta_1−\\theta_2$ è il gradiente netto lungo la pellicola\n\nO\n\n$$\nh = \\frac{\\theta_1−\\theta_2}{R}\n$$\n\nDove:\n- $R = \\frac{1}{U A}$ è la resistenza al trasferimento di calore convettivo"
    },
    {
      "cell_type": "markdown",
      "id": "09df4e79",
      "metadata": {},
      "source": "## Accumulo di calore in un solido\n\nL’accumulo di calore svolge un ruolo fondamentale nei sistemi termici. Consideriamo lo stesso muro descritto in precedenza. Il calore immagazzinato all’interno di questa parete può essere rappresentato come:\n\n$$\nh=Mc\\frac{d\\theta}{dt}\n$$\n\nDove:\n\n- $h$ è la **portata di calore** in Joule al secondo\n- $M$ è la massa del materiale\n- $c$ è il calore specifico del materiale\n\nL'equazione può essere scritta come:\n\n$$\nh = C\\frac{d\\theta}{dt}\n$$\n\nDove:\n- $C=Mc$ è la capacità termica del materiale."
    },
    {
      "cell_type": "markdown",
      "id": "61c18341",
      "metadata": {},
      "source": "## Accumulo di calore in un solido\n\nL’accumulo di calore svolge un ruolo fondamentale nei sistemi termici. Consideriamo lo stesso muro descritto in precedenza.\n\n<table>\n<tr>\n    <td> <img src=\"../pics/07_modeling_dynamic_systems_thermal-model-heat-storage.png?1\" alt=\"thermal-model-heat-storage\" style=\"width: 150px;\"/>\n</tr></table>\n\nDove:\n\n- $M$ è la massa\n- $\\theta$ è la temperatura\n\nLa velocità di variazione del calore immagazzinato all’interno di questa parete può essere rappresentata come:\n\n$$\nh=Mc\\frac{d\\theta}{dt}\n$$\n\nDove:\n- $h$ è in Joule al secondo (velocità di variazione del calore immagazzinato)\n- $c$ è il calore specifico del materiale.\n\nL'equazione può essere scritta come:\n\n$$\nh=C\\frac{d\\theta}{dt}\n$$\n\nDove:\n\n- $C=Mc$ è la capacità termica del materiale."
    },
    {
      "cell_type": "markdown",
      "id": "d3c2eea1",
      "metadata": {},
      "source": "## Accumulo di calore in un serbatoio per liquidi\n\nConsideriamo un serbatoio contenente un liquido di volume $V$ alla temperatura $\\theta$.\n\n\n<table>\n<tr>\n    <td> <img src=\"../pics/07_modeling_dynamic_systems_thermal-model-liquid-tank.png?1\" alt=\"thermal-model-liquid-tank\" style=\"width: 150px;\"/>\n</tr></table>\n\n\nL’accumulo di calore all’interno del liquido può essere rappresentato come:\n\n$$\nh=V\\rho c\\frac{d\\theta}{dt}\n$$\n\nDove:\n\n- $\\rho$ è la densità del liquido ($Kg/m^3$).\n- $c$ è il calore specifico del liquido.\n\nL'equazione può essere scritta come:\n\n$$\nh=C\\frac{d\\theta}{dt}\n$$\n\nDove:\n\n- $C=V\\rho c$ è la capacità termica del liquido."
    },
    {
      "cell_type": "markdown",
      "id": "53a93fe0",
      "metadata": {},
      "source": "I sistemi termici hanno equivalenti $R$ e $C$."
    },
    {
      "cell_type": "markdown",
      "id": "f78fd4e2",
      "metadata": {},
      "source": "**Domanda pop-up**: Perché usiamo spesso l'analogia dei circuiti elettrici quando analizziamo i sistemi termici?\n\n**Risposta**: L'analogia dei sistemi termici con i circuiti elettrici ci consente di applicare la teoria familiare dei circuiti elettrici per comprendere e analizzare il comportamento dei sistemi termici. Questo approccio semplifica scenari termici complessi e fornisce informazioni intuitive."
    },
    {
      "cell_type": "code",
      "execution_count": null,
      "id": "b02ab22d",
      "metadata": {},
      "outputs": [],
      "source": []
    }
  ],
  "metadata": {
    "kernelspec": {
      "display_name": "python3",
      "language": "python",
      "name": "python3"
    }
  },
  "nbformat": 4,
  "nbformat_minor": 5
}