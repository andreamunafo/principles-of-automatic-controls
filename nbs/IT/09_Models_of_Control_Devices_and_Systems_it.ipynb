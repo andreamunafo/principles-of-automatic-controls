{
  "cells": [
    {
      "cell_type": "markdown",
      "id": "11fdb476",
      "metadata": {},
      "source": "# Modelli di dispositivi controllati"
    },
    {
      "cell_type": "markdown",
      "id": "66394c9c",
      "metadata": {},
      "source": "Dopo essere stati introdotti ai vari modelli di impianti che incontriamo frequentemente in varie applicazioni, siamo ora ben pronti per approfondire il sistema completo di controllo del feedback. Di conseguenza, la nostra attenzione con questo notebook è rivolta ai modelli di dispositivi controllati, nonché ai sistemi completi che costruiremo utilizzando questi dispositivi."
    },
    {
      "cell_type": "markdown",
      "id": "c0511fca",
      "metadata": {},
      "source": "## Rivisitazione dei modelli di impianti"
    },
    {
      "cell_type": "markdown",
      "id": "9a3caa07",
      "metadata": {},
      "source": "Per essere sicuri di avere delle basi chiare, rivediamo lo scenario rispetto ai modelli di impianto che abbiamo modellato attraverso funzioni di trasferimento e diagrammi a blocchi.\n\n<table>\n<tr>\n<td> <img src=\"../pics/09_Models_of_Control_Devices_and_Systems_transfer_function_block_diagram.png\" alt=\"09_Models_of_Control_Devices_and_Systems_transfer_function_block_diagram\" style=\"width: 350px;\"/>\n</tr></table>"
    },
    {
      "cell_type": "markdown",
      "id": "3a8060ab",
      "metadata": {},
      "source": "Questo diagramma incapsula la dinamica dell'impianto attraverso una funzione di trasferimento, $G(s)$. L'input dell'impianto, indicato come $R(s)$, produce un output, $Y(s)$. Questa uscita, chiamata anche variabile controllata del sistema, sarà sempre il risultato della moltiplicazione della funzione di trasferimento $G(s)$ per l'ingresso $R(s)$.\n\n$$\nY(s) = G(s)R(s)\n$$\n\nQuesta equazione fornisce una rappresentazione matematica nel dominio di trasformazione dell'impianto, che funge da sottosistema nel sistema di controllo generale che esploreremo presto."
    },
    {
      "cell_type": "markdown",
      "id": "b61b8dd5",
      "metadata": {},
      "source": "**Domanda pop-up:** Nell'equazione $Y(s) = G(s)R(s)$, dove $Y(s) =\\frac{1}{s+1}$ e $R( s)=1$, , quanto sarebbe $Y(s)$?\n**Risposta**: $\\frac{1}{s+1}$"
    },
    {
      "cell_type": "markdown",
      "id": "d08a2e46",
      "metadata": {},
      "source": "## Cascata di blocchi\n\nSupponiamo ora di avere due blocchi, $G_1(s)$ e $G_2(s)$.\n\n<table>\n<tr>\n<td> <img src=\"../pics/09_Models_of_Control_Devices_and_Systems_cascade.png\" alt=\"09_Models_of_Control_Devices_and_Systems_cascade\" style=\"width: 350px;\"/>\n</tr></table>\n\n\nSe $R(s)$ è l'input del primo blocco e $Y(s)$ è l'output dell'intero setup e $X(s)$ è il segnale tra i due blocchi, possiamo affermare:\n\n$$\n\\begin{allineare}\nX(s) &= G_1(s)*R(s)\\\\\nY(s) &= G_2(s)*X(s)\\\\\n\\end{allineare}\n$$\n\nCombinando queste equazioni, otteniamo:\n\n$$\nY(s) = G_1(s) \\cdot G_2(s) \\cdot R(s)\n$$\n\nCiò dimostra che quando due blocchi (o sottosistemi) sono collegati in cascata, le loro funzioni di trasferimento possono essere moltiplicate per accertare la relazione tra l'input e l'output."
    },
    {
      "cell_type": "markdown",
      "id": "a70304ad",
      "metadata": {},
      "source": "## Somma di giunzioni e punti di decollo"
    },
    {
      "cell_type": "markdown",
      "id": "ab962382",
      "metadata": {},
      "source": "Abbiamo spesso visto cerchi insieme a segni algebrici nei nostri diagrammi a blocchi. Questi denotano _rilevatori di errori_ o _giunzioni sommatrici_.\n\n\n<table>\n<tr>\n<td> <img src=\"../pics/09_Models_of_Control_Devices_and_Systems_summation_point.png\" alt=\"09_Models_of_Control_Devices_and_Systems_summation_point\" style=\"width: 350px;\"/>\n</tr></table>\n\nAd esempio, se $R(s)$ e $B(s)$ sono segnali in corrispondenza di un incrocio, il segnale risultante $E(s)$ viene calcolato come:\n\n$$E(s)=R(s)−B(s)$$\n\no $E(s)=R(s)+B(s)$ se i segnali vengono sommati.\n\nQuesta rappresentazione simbolica funge da metodo conveniente per rappresentare manipolazioni algebriche di più segnali."
    },
    {
      "cell_type": "markdown",
      "id": "94a652a2",
      "metadata": {},
      "source": "In alcuni casi, potremmo voler attingere a un segnale per ottenere feedback. Tali decolli (o banch-off) sono stati illustrati nei nostri diagrammi ramificandosi su una linea di segnale principale. Ciò garantisce che il valore del segnale restituito rimanga coerente.\n\n\n<table>\n<tr>\n<td> <img src=\"../pics/09_Models_of_Control_Devices_and_Systems_take_off_point.png\" alt=\"09_Models_of_Control_Devices_and_Systems_take_off_point\" style=\"width: 350px;\"/>\n</tr></table>"
    },
    {
      "cell_type": "markdown",
      "id": "4d9dac9d",
      "metadata": {},
      "source": "Per riassumere, qualsiasi sistema può essere rappresentato in modo completo utilizzando una combinazione di questi quattro elementi fondamentali del diagramma a blocchi: un blocco base, blocchi in cascata, giunzioni sommatrici e punti di decollo."
    },
    {
      "cell_type": "markdown",
      "id": "3a26f9ed",
      "metadata": {},
      "source": "### Sistema di livello del liquido: uno sguardo dettagliato"
    },
    {
      "cell_type": "markdown",
      "id": "077b0178",
      "metadata": {},
      "source": "Per fornire ulteriore chiarezza, parliamo di un sistema di livello del liquido.\n\n<table>\n<tr>\n<td> <img src=\"../pics/09_Models_of_Control_Devices_and_Systems_one_tank.png\" alt=\"09_Models_of_Control_Devices_and_Systems_one_tank\" style=\"width: 350px;\"/>\n</tr></table>\n\n\nQuando modelliamo un singolo serbatoio, ci preoccupiamo principalmente della dinamica tra afflusso, deflusso e altezza del liquido. Il modello più comune e semplificato si basa sull'equilibrio del volume del liquido, considerando le velocità di afflusso e deflusso.\n\nAssunzioni base:\n\n- La sezione trasversale del serbatoio è costante.\n- Il liquido nel serbatoio sia ben miscelato e abbia una densità uniforme.\n- La velocità di deflusso dipende dall'altezza del liquido (a causa della pressione gravitazionale).\n\nL'obiettivo principale di questo sistema è controllare l'altezza del liquido all'interno di un serbatoio. Quando modelliamo un serbatoio di questo tipo, spesso deriviamo un modello di sistema del primo ordine, con la dinamica del serbatoio sintetizzata da un guadagno di sistema e da una costante di tempo.\n\n$$\n\\frac{H_1(s)}{Q_i(s)} = \\frac{\\frac{R_1}{\\rho g}}{\\tau_1 s+1}\n$$\n\nDove:\n\n- $H(s)$ è la trasformata di Laplace dell'altezza del liquido $h(t)$.\n- $Q_i(s)$ è la trasformata di Laplace del tasso di afflusso $q_in(t)$.\n- $\\rho$ è la densità del liquido\n- $g$ è l'accelerazione dovuta alla gravità.\n- $R$: resistenza al flusso, tipicamente determinata dalla dimensione e dalla forma dell'uscita."
    },
    {
      "cell_type": "markdown",
      "id": "4b7d0cfa",
      "metadata": {},
      "source": "Consideriamo due carri armati. _L'input del secondo serbatoio proviene dall'output del primo serbatoio_. Utilizzando i nostri modelli precedentemente derivati ​​e se consideriamo il flusso in ingresso e l'altezza del liquido, possiamo determinare la relazione tra i serbatoi e le rispettive uscite.\n\n<table>\n<tr>\n<td> <img src=\"../pics/09_Models_of_Control_Devices_and_Systems_two_tanks.png\" alt=\"09_Models_of_Control_Devices_and_Systems_two_tanks\" style=\"width: 350px;\"/>\n</tr></table>"
    },
    {
      "cell_type": "markdown",
      "id": "3e9a3c47",
      "metadata": {},
      "source": "Possiamo modellare il secondo serbatoio come abbiamo fatto per il primo:\n\n$$\n\\frac{H_2(s)}{Q_1(s)} = \\frac{\\frac{R_2}{\\rho g}}{\\tau_2 s+1}\n$$"
    },
    {
      "cell_type": "markdown",
      "id": "c8a3a6eb",
      "metadata": {},
      "source": "possiamo rappresentare questa relazione dinamica con diagrammi a blocchi:\n\n<table>\n<tr>\n<td> <img src=\"../pics/09_Models_of_Control_Devices_and_Systems_two_tanks_block_diagram-corrected.png\" alt=\"09_Models_of_Control_Devices_and_Systems_two_tanks_block_diagram\" style=\"width: 350px;\"/>\n</tr></table>\n\nL'input per il secondo sistema è $Q_1(s)$. Tuttavia:\n\n$$\nq_1 = \\frac{p_1}{R_1}\n$$\n\ndove $p_1$ è la pressione all'uscita del primo serbatoio, e la pressione totale è $\\bar{p_1}+p_1$, e $\\bar{p_1}$ è la pressione statica.\n\nPossiamo quindi scrivere:\n\n$$\nq_1 = \\frac{p_1}{R_1} = \\frac{\\rho g h_1}{R_1}\n$$\n\nEd è così che possiamo mettere in relazione $Q_1$ e $H_1$, ma notiamo che l'output del primo serbatoio, secondo il nostro modello è $H_1$ e non $Q_1$, la seconda funzione di trasferimento è diversa dalla prima."
    },
    {
      "cell_type": "markdown",
      "id": "f2631723",
      "metadata": {},
      "source": "Per il secondo sistema, l'input è $Q_1$ (afflusso) e la variabile controllata è $H_2$.\n\nTuttavia, un punto cruciale da notare è che la dinamica del secondo serbatoio non influenza la dinamica del primo serbatoio. Questa caratteristica implica che il secondo sistema non \"carica\" ​​il primo. Solo in tali scenari le funzioni di trasferimento dei due sistemi possono essere moltiplicate.\n\nTuttavia, se i serbatoi fossero collegati in modo diverso, dove la pressione del secondo serbatoio influenza il flusso del primo serbatoio, allora questo effetto di “carico” ci impedirebbe di moltiplicare semplicemente le loro funzioni di trasferimento. Questo effetto di caricamento può alterare drasticamente la dinamica del sistema, persino trasformando un sistema del primo ordine in uno del secondo ordine.\n\n<table>\n<tr>\n<td> <img src=\"../pics/09_Models_of_Control_Devices_and_Systems_two_tanks_alternative.png?1\" alt=\"09_Models_of_Control_Devices_and_Systems_two_tanks_alternative\" style=\"width: 450px;\"/>\n</tr></table>\n\nSe modelliamo questo caso.\n\nLa velocità di stoccaggio nel serbatoio 1 è:\n\n$$\n\\begin{allineare}\nC_1\\frac{dp_1}{dt} &= q_i - \\frac{p_1-p_2}{R_1}\n\\end{allineare}\n$$\n\ne la velocità di stoccaggio nel secondo serbatoio è:\n\n$$\n\\begin{allineare}\nC_2\\frac{dp_2}{dt} &= q_1 - \\frac{p_2}{R_2}\n\\end{allineare}\n$$\n\ndove $p_2$ è la pressione del secondo serbatoio. Notare come ciò influisce sul flusso del primo serbatoio (termine più a destra nell'equazione (1) sopra), e quindi c'è un effetto di carico del secondo serbatoio sul primo.\n\nIn questo caso i due sistemi non possono essere scritti come sistemi a cascata! I due sottosistemi non sono indipendenti e non possono essere considerati due blocchi separati.\n\nPossiamo trovare la funzione di trasferimento complessiva come (ottenuta dalle due equazioni precedenti):\n\n$$\n\\frac{H_2(s)}{Q_i(s)} = \\frac{\\frac{R_2}{\\rho g}}{\\tau_1\\tau_2s^2+(\\tau_1 + \\tau_2 + \\frac{R_2}{ R_1})s + 1}\n$$\n\nSi noti che mentre nei sistemi liquidi e termici abbiamo tipicamente sistemi del primo ordine, la presenza di un effetto di carico produce un sistema del secondo ordine.\nNegli ambienti industriali, i singoli serbatoi vengono generalmente modellati utilizzando una costante di tempo e un guadagno di sistema. Quando connesso senza carico, la funzione di trasferimento del sistema rimane di secondo ordine, ma è rappresentata da due costanti di tempo distinte. Al contrario, quando connesso in modalità di caricamento, la funzione di trasferimento del sistema è ancora del secondo ordine, ma caratterizzata da un ritardo quadratico.\n\n\nPer ribadire e sottolineare: nelle nostre rappresentazioni del diagramma a blocchi, se rappresentiamo due sistemi, $G_1$ e $G_2$, in cascata, è implicito che $G_2$ non carica $G_1$. Questo è un presupposto cruciale che garantisce l’accuratezza dei nostri modelli e dei calcoli successivi.\n\nSi possono avere opportuni ammortizzatori (elettrici, idraulici, termici, ecc.) per evitare l'effetto di carico e le due funzioni di trasferimento possono essere considerate indipendentemente. Se ciò non è possibile allora i due sistemi dovranno essere considerati insieme e saranno rappresentati da un'unica funzione di trasferimento."
    },
    {
      "cell_type": "markdown",
      "id": "4dc4f300",
      "metadata": {},
      "source": "### Barra laterale - Modellazione di un singolo serbatoio\n\nQuando modelliamo un singolo serbatoio, ci preoccupiamo principalmente della dinamica tra afflusso, deflusso e altezza del liquido. Il modello più comune e semplificato si basa sull'equilibrio del volume del liquido, considerando le velocità di afflusso e deflusso.\n\n#### Assunzioni base:\n\n1. L'area della sezione trasversale del serbatoio è costante.\n2. Il liquido nel serbatoio è ben miscelato e ha una densità uniforme.\n3. La velocità di deflusso dipende dall'altezza del liquido (a causa della pressione gravitazionale).\n\n#### Rappresentazione matematica:\n\nDefiniamo le seguenti variabili:\n\n- $ h(t) $: altezza del liquido al tempo $ t $.\n- $ A $: area della sezione trasversale del serbatoio.\n- $ Q_{in}(t) $: tasso di afflusso al tempo $ t $.\n- $ Q_{out}(t) $: tasso di deflusso al tempo $ t $.\n- $ \\rho $: densità del liquido.\n- $ g $: accelerazione dovuta alla gravità.\n- $ R $: resistenza al flusso, tipicamente determinata dalla dimensione e dalla forma dell'uscita.\n\nDal principio di conservazione della massa:\n\n$$\nA \\frac{dh(t)}{dt} = Q_{in}(t) - Q_{out}(t)\n$$\n\nUtilizzando la legge di Torricelli, la portata di deflusso, $ Q_{out}(t) $, dal serbatoio attraverso un orifizio può essere correlata all'altezza del liquido:\n\n$$\nQ_{out}(t) = \\frac{\\rho g h(t)}{R}\n$$\n\nSostituisci la velocità di deflusso nell'equazione di conservazione della massa:\n\n$$\nA \\frac{dh(t)}{dt} = Q_{in}(t) - \\frac{\\rho g h(t)}{R}\n$$\n\nQuesta è un'equazione differenziale del primo ordine che rappresenta la dinamica del serbatoio. Mette in relazione la velocità di variazione dell'altezza del liquido con l'afflusso e l'altezza stessa. La soluzione di questa equazione, date le opportune condizioni iniziali, ti darà l'altezza del liquido nel serbatoio in funzione del tempo.\n\n#### Modello di funzione di trasferimento:\n\nNella teoria del controllo, è spesso utile descrivere i sistemi nel dominio della frequenza utilizzando una funzione di trasferimento. La funzione di trasferimento del serbatoio può essere derivata prendendo la trasformata di Laplace dell'equazione differenziale. Assumendo condizioni iniziali pari a zero e denotando la variabile della trasformata di Laplace come $ s $:\n\n$$\nA s H(s) = Q_{in}(s) - \\frac{\\rho g}{R} H(s)\n$$\n\nDove:\n- $ H(s) $ è la trasformata di Laplace dell'altezza del liquido $ h(t) $.\n- $ Q_{in}(s) $ è la trasformata di Laplace della portata di afflusso $ Q_{in}(t) $.\n\nRiordinare e risolvere la funzione di trasferimento $ G(s) = \\frac{H(s)}{Q_{in}(s)} $:\n\n$$\nG(s) = \\frac{A}{As + \\frac{\\rho g}{R}}\n$$\n\nQuesta funzione di trasferimento mette in relazione l'altezza del liquido con la velocità di afflusso nel dominio della frequenza.\n\n\nRiorganizzare i termini:\n\n$$\nA \\frac{dh(t)}{dt} + \\frac{\\rho g h(t)}{R} = Q_{in}(t)\n$$\n\nConsideriamo ora la trasformata di Laplace di entrambi i membri. Supponendo condizioni iniziali pari a zero:\n\n$$\nA s H(s) + \\frac{\\rho g}{R} H(s) = Q_{in}(s)\n$$\n\nFattorizza $H(s)$:\n\n$$\nH(s) \\Grande( A s + \\frac{\\rho g}{R} \\Grande) = Q_{in}(s)\n$$\n\nche porta:\n\n$$\nG(s) = \\frac{H(s)}{Q_{in}(s)} = \\frac{1}{\\Big( A s + \\frac{\\rho g}{R} \\Big)}\n$$\n\nOra, il guadagno di stato stazionario del sistema, quando $s=0$, è:\n\n$$\n\\frac{1}{\\frac{\\rho g}{R}} = \\frac{R}{\\rho g}\n$$\n\nImpostando $A=\\tau$ - la costante di tempo τ è uguale all'area della sezione trasversale\n$A$ del serbatoio, otteniamo:\n\n$$\n\\frac{H(s)}{Q_{in}(s)} = \\frac{\\frac{R}{\\rho g}}{\\tau s+1}\n$$\n\n--- FINE DELLA BARRA LATERALE"
    },
    {
      "cell_type": "markdown",
      "id": "b57bfd65",
      "metadata": {},
      "source": "# Fondamenti del diagramma a blocchi\n\nPrima di approfondire le complessità del sistema di controllo del feedback, prendiamoci un momento per riassumere i quattro componenti principali di cui abbiamo discusso in precedenza.\n\n1. Funzione di trasferimento di base: una semplice rappresentazione della dinamica di un sistema con un input $R$ e un output $Y$. Questo sistema è denotato da una funzione di trasferimento $G$.\n2. Cascata di blocchi: due funzioni di trasferimento, diciamo $G_1$ e $G_2$, disposte in serie. L'input del primo blocco è $R$ e l'output finale del secondo blocco è $Y$.\n3. Giunzione di somma: un punto nello schema a blocchi in cui due segnali vengono sommati o sottratti algebricamente. Una rappresentazione tipica include un cerchio con i segni \"+\" e \"-\", che indicano come sono combinati i segnali in arrivo.\n4. Punto di decollo: una posizione nel diagramma a blocchi in cui un segnale, ad esempio $Y$, si dirama senza alcuna modifica. Questo viene in genere utilizzato per i cicli di feedback.\n\n**Domanda pop-up**: Perché abbiamo bisogno di un punto di decollo in un sistema di controllo del feedback?\n**Risposta**: il punto di decollo ci consente di utilizzare l'output del sistema (o una sua versione elaborata) per essere reimmesso nel sistema, in genere per il confronto con il segnale di riferimento o di comando."
    },
    {
      "cell_type": "markdown",
      "id": "6581866d",
      "metadata": {},
      "source": "# Una panoramica del sistema di controllo del feedback\n\nConsideriamo ora lo schema a blocchi completo di un generico sistema di controllo in feedback:\n\n<table>\n<tr>\n<td> <img src=\"../pics/09_Models_of_Control_Devices_and_Systems_control-diagram.png?1\" alt=\"09_Models_of_Control_Devices_and_Systems_control-diagram\" style=\"width: 650px;\"/>\n</tr></table>\n\n\n1. **Segnale di comando**: $y_r$ è il segnale desiderato o di setpoint.\n2. **Elementi di ingresso di riferimento**: questi elementi trasformano il segnale di comando in un segnale di riferimento $r$, utilizzando una funzione di trasferimento $A(s)$. Ad esempio, la temperatura desiderata ($y_r$) viene convertita in una tensione ($r$).\n3. **Rilevatore di errori**: Si tratta di una giunzione di somma in cui il segnale di riferimento $r$ e il segnale di feedback $b$ vengono combinati algebricamente per produrre il segnale di errore di attuazione $\\hat{e}$.\n4. **Controller**: indicato con $D(s)$, questo blocco elabora il segnale di errore per generare un segnale di controllo $u$.\n5. **Attuatore**: rappresentato da $G_A(s)$, è il muscolo del sistema che amplifica o modifica il segnale di controllo per produrre la variabile manipolata $m$.\n6. **Impianto**: questo è il sistema principale che vogliamo controllare, rappresentato da $G_P(s)$. L'output dell'impianto è la variabile controllata $y$.\n7. **Sensore**: Il sensore, caratterizzato da $H(s)$, misura la variabile controllata e produce un segnale di feedback $b$. Ad esempio, l'uscita ($y$) può essere la temperatura e il blocco sensore la converte in tensione ($b$).\n8. **Disturbo**: $w$ è un input indesiderato che può influenzare l'output del sistema. Può accadere ovunque, ma lo modelliamo come se entrasse nel sistema in un punto di somma prima dell'impianto."
    },
    {
      "cell_type": "markdown",
      "id": "4d9cb701",
      "metadata": {},
      "source": "### Commenti\n\n1. Andando avanti, ometteremo il sottosistema $Z(s)$ responsabile della produzione della variabile controllata indirettamente. Dato che non gioca un ruolo all'interno del ciclo di feedback, la nostra attenzione primaria sarà rivolta alla variabile controllata $y$.\n\n2. Attuazione ed errore di sistema: la differenza tra $\\hat{e}$ e $e$ è cruciale. Mentre $\\hat{e}$ è il segnale che eccita il controllore, cioè la differenza tra $b$ e $r$; $e$ è l'errore reale tra la variabile controllata $y$ e il segnale di comando $y_r$.\nÈ importante capire che $b\\ne y$.\nIl nostro obiettivo principale in un sistema di feedback è ridurre al minimo $e$, portando l'output del sistema vicino al setpoint desiderato.\n\nNoi chiamiamo:\n- $e=y-y_r$, il segnale di errore del sistema.\n- $\\bar{e} = r-b$, è il segnale di errore di attuazione.\n\nLa differenza tra i due segnali dipende dagli specifici $A(s)$ e $H(s)$."
    },
    {
      "cell_type": "markdown",
      "id": "1c6b96ce",
      "metadata": {},
      "source": "## Diagramma a blocchi standard per la progettazione del feedback\n\nPer facilità di analisi, possiamo riorganizzare lo schema a blocchi.\n\n<table>\n<tr>\n<td> <img src=\"../pics/09_Models_of_Control_Devices_and_Systems_control-diagram-standard.png?1\" alt=\"09_Models_of_Control_Devices_and_Systems_control-diagram-standard\" style=\"width: 650px;\"/>\n</tr></table>\n\n\nIn questo diagramma:\n- La funzione di trasferimento tra $Y$ e $W$ è $G_P(s)$.\n- La funzione di trasferimento tra $Y$ e $U$ è $G_A(s)G_P(s)$."
    },
    {
      "cell_type": "markdown",
      "id": "37249826",
      "metadata": {},
      "source": "## Un comodo diagramma a blocchi\nPossiamo anche manipolare il diagramma per ulteriore comodità.\n\n<table>\n<tr>\n<td> <img src=\"../pics/09_Models_of_Control_Devices_and_Systems_control-diagram-standard-noise.png?1\" alt=\"09_Models_of_Control_Devices_and_Systems_control-diagram-standard-noise\" style=\"width: 650px;\"/>\n</tr></table>\n\nIn questo diagramma:\n- La funzione di trasferimento tra $Y$ e $W$ è $N(s)$.\n- La funzione di trasferimento tra $Y$ e $U$ è $G_A(s)G_P(s)$.\n\nImpostando $N(s)=G_P(s)$, entrambi i diagrammi diventano identici. Di conseguenza, la posizione della giunzione di somma diventa irrilevante. Inoltre, i due sottosistemi, $G_A(s)$ e $G_P(s)$ possono essere combinati per formare una funzione di trasferimento unificata rappresentata come $G=G_A(s)G_P(s)$.\n\nIl diagramma diventa:\n\n<table>\n<tr>\n<td> <img src=\"../pics/09_Models_of_Control_Devices_and_Systems_control-diagram-standard-noise-plant.png?1\" alt=\"09_Models_of_Control_Devices_and_Systems_control-diagram-standard-noise-plant\" style=\"width: 650px;\"/>\n</tr></table>"
    },
    {
      "cell_type": "markdown",
      "id": "27c7cdd6",
      "metadata": {},
      "source": "Man mano che avanziamo sempre più nel regno dei sistemi di controllo, la nostra rappresentazione visiva dei sistemi – i diagrammi a blocchi – diventa indispensabile. Questi diagrammi sono rappresentazioni simboliche delle equazioni matematiche che descrivono il nostro sistema. Ma come ogni lingua, esistono molti modi per trasmettere lo stesso messaggio. Pertanto, è spesso necessario manipolare i nostri diagrammi a blocchi per chiarezza o comodità."
    },
    {
      "cell_type": "markdown",
      "id": "5179ae1e",
      "metadata": {},
      "source": "**Domanda pop**: manipolare il diagramma a blocchi in modo che il blocco $A(s)$ non appaia nel percorso in avanti.\n**Risposta**:\n- Suggerimento: il segnale $\\hat{e}$ deve essere lo stesso in entrambi i casi.\n\n$\\hat{e} = Ay_r - Hy$. Se dovessimo calcolare il segnale controllato $u$ in questa configurazione, sarebbe:\n\n$$ u = GI_r − DHy$$\n\nQuesta equazione descrive la relazione tra il segnale di comando ($y_r$), il segnale controllato ($u$) e l'uscita ($y$).\n\nSe spostiamo il sottosistema $A(s)$ dopo la giunzione di sommatoria:\n\n<table>\n<tr>\n<td> <img src=\"../pics/09_Models_of_Control_Devices_and_Systems_control-diagram-2.png?1\" alt=\"09_Models_of_Control_Devices_and_Systems_control-diagram-2\" style=\"width: 650px;\"/>\n</tr></table>\n\nIn questa versione modificata, il nostro segnale controllato $u$ può essere espresso come:\n\n$$\nu = ADy_r - \\frac{H}{A}ADy\n$$\n\nIl confronto di queste due equazioni conferma l'equivalenza di entrambi gli schemi a blocchi. Le trasformazioni che abbiamo applicato per passare dallo schema iniziale a quello semplificato sono puramente simboliche, ma presentano il sistema in una maniera più digeribile. Lo facciamo perché il sistema risultante diventa più conveniente.\n\nNota:\n- In quest'ultimo diagramma possiamo dire $y_r=r$ perché non esiste un elemento di riferimento esplicito. Spostando il blocco $A$ all'interno del circuito di feedback, la rappresentazione matematica sarebbe identica e potremmo dire $y_r=r$. Nota che fisicamente potrebbe non avere alcun senso, ma le equazioni matematiche sarebbero le stesse.\n\n- Se $H=A$ allora il segnale in uscita dalla giunzione di sommatoria diventa $e=y_r-y$. In tutti gli altri casi è $\\hat{e}$."
    },
    {
      "cell_type": "markdown",
      "id": "f9330567",
      "metadata": {},
      "source": "**Domanda popup**: Perchè è fondamentale confermare l'equivalenza dei due schemi a blocchi?\n\n**Risposta**: Confermare l'equivalenza garantisce che le nostre semplificazioni o manipolazioni non alterino inavvertitamente il comportamento del sistema. Le prestazioni e la risposta del sistema dovrebbero rimanere invariate indipendentemente dalla sua rappresentazione."
    },
    {
      "cell_type": "markdown",
      "id": "62ab0ae6",
      "metadata": {},
      "source": "## Sistema di feedback unitario\n\nUn'ulteriore trasformazione può portarci a quello che viene definito \"Unity Feedback System\".\n\nQuando $H(s)$ corrisponde a $A(s)$, ovvero la funzione di trasferimento del sensore si allinea con la funzione di trasferimento di riferimento (uno scenario che potrebbe essere progettato intenzionalmente), lo schema a blocchi diventa più snello:\n\n\n<table>\n<tr>\n<td> <img src=\"../pics/09_Models_of_Control_Devices_and_Systems_control_unity_feedback.png?1\" alt=\"09_Models_of_Control_Devices_and_Systems_control_unity_feedback\" style=\"width: 650px;\"/>\n</tr></table>\n\n\nQuesto schema a blocchi è di fondamentale importanza. Spesso possiamo adattare il sistema per allinearlo a questa rappresentazione, rendendolo particolarmente vantaggioso per considerazioni di progettazione. Per via della sua importanza, viene chiamato “sistema di feedback unitario”.\n\nIl termine \"unità\" qui non implica necessariamente che la funzione di trasferimento del sensore H(s)H(s) sia unità (o 1). Piuttosto, attraverso un'attenta manipolazione e in determinate condizioni (come $H=A$), possiamo arrivare a una rappresentazione del diagramma a blocchi che sembra implicare un feedback diretto senza alcuna trasformazione. Ma ricorda, questa è solo una rappresentazione.\n\nUn malinteso comune è credere che il segnale $y$ venga restituito direttamente alla giunzione di sommatoria senza l'intervento di un sensore, o presupponendo che la funzione di trasferimento del sensore sia sempre 1. Tuttavia, questo non è necessariamente vero. Sebbene la funzione di trasferimento del sensore possa effettivamente essere 1, può anche esserci una funzione di trasferimento del sensore distinta $H$. Selezionando giudiziosamente la funzione di trasferimento del riferimento, è possibile ottenere la struttura di feedback unitario."
    },
    {
      "cell_type": "markdown",
      "id": "b9a44a93",
      "metadata": {},
      "source": "# Il diagramma a blocchi del feedback di progettazione\n\nTenendo a mente le discussioni precedenti possiamo semplificare ulteriormente il nostro diagramma a blocchi per ottenere una forma che sarà molto utile quando si progettano sistemi di controllo feedback:\n\n<table>\n<tr>\n<td> <img src=\"../pics/09_Models_of_Control_Devices_and_Systems_design_feedback_diagram.png?1\" alt=\"09_Models_of_Control_Devices_and_Systems_design_feedback_diagram\" style=\"width: 650px;\"/>\n</tr></table>\n\nAll'interno di questo modello, i blocchi $D$, $G$ e $H$ hanno una portata ampia e rappresentano gli effetti cumulativi di tutti gli elementi lungo i rispettivi percorsi. È essenziale riconoscere che questi blocchi potrebbero non rispecchiare direttamente i singoli componenti fisici. Spesso emergono da semplificazioni strategiche e riarrangiamenti delle equazioni fondamentali del sistema.\n\nPer approfondire:\n\n- $D(s)$ indica principalmente la funzione di trasferimento del titolare del trattamento. Anche se il controller gioca un ruolo fondamentale in questo blocco, la sua composizione potrebbe riflettere anche altri aggiustamenti del sistema.\n\n- $G(s)$ amalgama la dinamica sia dell'impianto che degli attuatori. Nonostante la sua natura composita, continueremo a chiamarla “Pianta” per via della sua influenza predominante.\n- $H(s)$, invece, non si limita a rappresentare solo la funzione di trasferimento del sensore. Dato il suo ruolo più ampio, è più appropriatamente descritta come la “funzione di trasferimento del percorso di feedback”.\n\nSi noti che in questo schema a blocchi è presente solo il segnale di errore di attuazione $\\bar{e}$. Il segnale $y_r$ non è nemmeno presente in questo diagramma a blocchi. Dovrebbe essere chiaro tuttavia che quando calcoli le prestazioni totali del tuo sistema dovresti calcolare l'errore $e = y_r - y$. Questo errore è cruciale quando si analizzano le prestazioni del sistema, anche se non fa esplicitamente parte del nostro ciclo di feedback primario."
    },
    {
      "cell_type": "markdown",
      "id": "e67b614e",
      "metadata": {},
      "source": "**Domanda popup**: Cosa rappresentano i blocchi $D$, $G$ e $H$ nel nostro nuovo diagramma a blocchi?\n**Risposta**: rappresentano effetti e relazioni cumulativi lungo i rispettivi percorsi, non necessariamente rispecchiando direttamente i singoli componenti fisici."
    },
    {
      "cell_type": "markdown",
      "id": "9629f2bf",
      "metadata": {},
      "source": "## I disturbi contano"
    },
    {
      "cell_type": "markdown",
      "id": "b16a2db0",
      "metadata": {},
      "source": "Infine, un elemento cruciale da non trascurare mai è il disturbo, che rappresentiamo come $w$.\n\nL’essenza stessa della teoria del controllo del feedback ruota attorno ai disturbi. Se i nostri sistemi non subissero disturbi, l’intero campo del controllo del feedback potrebbe non esistere. I sistemi a circuito aperto potrebbero gestire perfettamente scenari indisturbati.\n\n<table>\n<tr>\n<td> <img src=\"../pics/09_Models_of_Control_Devices_and_Systems_design_feedback_diagram_with_noise.png?1\" alt=\"09_Models_of_Control_Devices_and_Systems_design_feedback_diagram_with_noise\" style=\"width: 650px;\"/>\n</tr></table>\n\n\nQuesto sarà il diagramma a blocchi di feedback che utilizzeremo principalmente.\n\nQuesti diagrammi a blocchi servono a rappresentare le relazioni tra i segnali di interesse. Sono costruiti per catturare la relazione dinamica tra tutte le variabili.\n\nQuando modelli un sistema, sarai sempre in grado di ricondurre il suo modello a uno di questi diagrammi a blocchi standard."
    },
    {
      "cell_type": "markdown",
      "id": "e25462b7",
      "metadata": {},
      "source": "**Domanda popup**: Perché i disturbi sono cruciali nei sistemi di controllo del feedback?\n\n**Risposta**: i disturbi sono cambiamenti inaspettati o imprevedibili nell'ambiente o negli input di un sistema. I sistemi di controllo del feedback sono progettati per mitigare gli effetti di questi disturbi, garantendo che il sistema funzioni come desiderato nonostante questi cambiamenti imprevisti."
    },
    {
      "cell_type": "markdown",
      "id": "8fd663b8",
      "metadata": {},
      "source": "# Funzione di trasferimento ad anello chiuso\n\nConsiderato il nostro diagramma a blocchi standard, con $R$ come input di riferimento e i blocchi $D$, $G$, $N$ e $H$ come definito in precedenza.\n\n<table>\n<tr>\n<td> <img src=\"../pics/09_Models_of_Control_Devices_and_Systems_design_feedback_diagram_with_noise.png?1\" alt=\"09_Models_of_Control_Devices_and_Systems_design_feedback_diagram_with_noise\" style=\"width: 650px;\"/>\n</tr></table>\n\n\nOra determiniamo la funzione di trasferimento ad anello chiuso:\n\n$$\\frac{Y(s)}{R(s)}=?$$\n\nSi noti che questo è un sistema a due ingressi e un'uscita. Dobbiamo applicare la _sovrapposizione_ e considerare un input alla volta:\n\n## Impostazione del disturbo su zero\n\n$$\\frac{Y(s)}{R(s)}\\Big|_{w=0}=\\frac{D(s)G(s)}{1+D(s)G(s)H (s)} = M(s)$$\n\nÈ importante notare che se il nostro sistema fosse invece un ciclo di feedback positivo, questa equazione vedrebbe un segno meno al denominatore.\n\nQuesta è chiamata **Funzione di trasferimento del riferimento** perché mette in relazione il riferimento $R$ con l'output $Y$."
    },
    {
      "cell_type": "markdown",
      "id": "41c4a369",
      "metadata": {},
      "source": "## Impostazione dell'ingresso di riferimento su zero\n\nA noi interessa ora la funzione di trasferimento tra l'uscita del sistema $Y$ e l'ingresso di disturbo $W$, rappresentata come:\n\n<table>\n<tr>\n<td> <img src=\"../pics/09_Models_of_Control_Devices_and_Systems_design_feedback_diagram_tf_with_disturbance.png?1\" alt=\"09_Models_of_Control_Devices_and_Systems_design_feedback_diagram_tf_with_disturbance\" style=\"width: 650px;\"/>\n</tr></table>\n\n$$\n\\frac{Y(s)}{W(s)}\\Grande|_{R(s)=0} = ?\n$$\n\nQuesta funzione di trasferimento cattura efficacemente la risposta del sistema ai disturbi. È una misura di come i disturbi esterni vengono filtrati o amplificati dalle dinamiche del sistema prima di influenzare l'output.\n\nPer rendere il nostro compito più gestibile, possiamo semplificare il nostro diagramma a blocchi combinando gli elementi. Nello specifico, prendendo il segno negativo del rilevatore di errori e consolidandolo con il segno meno esistente, possiamo semplificare la nostra rappresentazione.\n\n\n<table>\n<tr>\n<td> <img src=\"../pics/09_Models_of_Control_Devices_and_Systems_design_feedback_diagram_tf_with_disturbance-1.png?1\" alt=\"09_Models_of_Control_Devices_and_Systems_design_feedback_diagram_tf_with_disturbance-1\" style=\"width: 650px;\"/>\n</tr></table>\n\nDa questo diagramma modificato si possono ricavare due relazioni fondamentali:\n\n1. $\\hat{E}(s) = -H(s)Y(s)$\n2. $Y(i) = D(i)G(i)\\hat{E}(i) + N(i)W(i)$\n\nManipolando e combinando queste equazioni, possiamo eliminare $\\hat{E}(s)$ per determinare la relazione tra $Y(s)$ e $W(s)$.\n\n$$\nY(s) = -D(s)G(s)H(s)Y(s) + N(s)W(s)\n$$\n\nE quindi:\n\n$$\n\\frac{Y(s)}{W(s)}\\Big|_{R(s)=0} = \\frac{N(s)}{1+D(s)G(s)H(s) } = M_W(s)\n$$\n\nQuesta è chiamata **Funzione di trasferimento dei disturbi**.\n\n**Notare che sia nella funzione di trasferimento del riferimento che in quella di trasferimento del disturbo il denominatore è lo stesso: $1+D(s)G(s)H(s)$."
    },
    {
      "cell_type": "markdown",
      "id": "12b11281",
      "metadata": {},
      "source": "## La funzione di trasferimento del ciclo\n\nL'espressione:\n\n$$\nD(s)G(s)H(s)\n$$\n\nè definita \"funzione di trasferimento del loop\". Questo nome deriva dal fatto che rappresenta l'effetto combinato di tutte le funzioni di trasferimento presenti all'interno dell'anello di retroazione."
    },
    {
      "cell_type": "markdown",
      "id": "d9cf781b",
      "metadata": {},
      "source": "**Domanda popup**: Perché il denominatore è lo stesso sia per la funzione di trasferimento del riferimento che per quella del disturbo?\n**Risposta**: Il denominatore rappresenta la funzione di trasferimento dell'anello, che è il prodotto di tutte le funzioni di trasferimento nell'anello di feedback. Ciò rimane coerente, indipendentemente dall’input in esame."
    },
    {
      "cell_type": "markdown",
      "id": "b8a92778",
      "metadata": {},
      "source": "# Considerazioni conclusive sui diagrammi delle funzioni di trasferimento"
    },
    {
      "cell_type": "markdown",
      "id": "5d44db0d",
      "metadata": {},
      "source": "La nostra esplorazione delle funzioni di trasferimento ci ha fornito due equazioni critiche:\n\nLa funzione di trasferimento del riferimento, $M(s)$, che descrive la relazione tra l'output del sistema e l'input di riferimento.\nLa funzione di trasferimento dei disturbi, $M_W(s)$, che cattura la risposta del sistema ai disturbi esterni.\n\nCon queste funzioni di trasferimento in mano, possiamo rappresentare il nostro sistema con uno schema a blocchi più compatto:\n\n<table>\n<tr>\n<td> <img src=\"../pics/09_Models_of_Control_Devices_and_Systems_final_block_diagram.png?1\" alt=\"09_Models_of_Control_Devices_and_Systems_final_block_diagram\" style=\"width: 450px;\"/>\n</tr></table>\n\nQuesta rappresentazione condensata, che è la rappresentazione equivalente dei diagrammi a blocchi standard che abbiamo visto prima, è preziosa per l'analisi del sistema poiché collega direttamente l'uscita del sistema agli ingressi di riferimento e di disturbo. Concentrandoci su queste funzioni di trasferimento, possiamo ottenere informazioni dettagliate sul comportamento, la stabilità e le prestazioni del sistema."
    },
    {
      "cell_type": "markdown",
      "id": "3dcb34f8",
      "metadata": {},
      "source": "# Riduzione avanzata del diagramma a blocchi\n\nAbbiamo approfondito i fondamenti dei diagrammi a blocchi e le loro procedure di riduzione. Man mano che si avanza nel campo del controllo automatico, la comprensione dei diagrammi a blocchi diventa fondamentale. Queste rappresentazioni grafiche ci consentono di visualizzare sistemi complessi, rendendone l'analisi e la progettazione più intuitive.\n\nI diagrammi a blocchi sono più che semplici rappresentazioni schematiche di equazioni di sistema. Questi diagrammi offrono un passaggio per semplificare sistemi di controllo complessi. La loro utilità principale sta nell'aiutarci a comprendere il comportamento del sistema senza addentrarci in complesse equazioni matematiche.\n\nL'idea è semplice: qualsiasi sistema di controllo pratico, non importa quanto complesso, può essere ridotto a uno schema a blocchi. L'essenza di questa rappresentazione, come sottolineato in precedenza, deriva dalla sua capacità di incapsulare visivamente le equazioni del sistema."
    },
    {
      "cell_type": "markdown",
      "id": "a9e4a5d5",
      "metadata": {},
      "source": "## Dissezione di un sistema multi-loop\n\nConsidera una configurazione multi-loop, come presentata nel nostro esempio. Il diagramma mostra più loop, di cui il loop primario è quello in cui l'uscita controllata, $Y$, viene restituita all'ingresso di riferimento $R$. Questo ciclo primario è completato da numerosi circuiti di feedback minori, che rendono la struttura del sistema più complessa.\n\n<table>\n<tr>\n<td> <img src=\"../pics/09_Models_of_Control_Devices_and_Systems_MultiLoop_System_Example.png?1\" alt=\"09_Models_of_Control_Devices_and_Systems_MultiLoop_System_Example\" style=\"width: 650px;\"/>\n</tr></table>\n\nLa sfida sta nel determinare la relazione tra $Y$ e $R$. Questa è la relazione di cui ho bisogno dal punto di vista del controllo.\n\nSi noti che se ci fossero state fornite le equazioni differenziali avremmo potuto manipolarle direttamente per ottenere la relazione desiderata. In alternativa, date le equazioni possiamo scrivere lo schema a blocchi equivalente e poi manipolare lo schema a blocchi per ottenere la relazione di cui abbiamo bisogno tra qualsiasi variabile di interesse."
    },
    {
      "cell_type": "markdown",
      "id": "39c3f9d9",
      "metadata": {},
      "source": "La sfida qui è che spesso questi diagrammi non sono immediatamente riducibili a un ciclo di feedback di base. Pertanto, potremmo aver bisogno di riorganizzare le giunzioni di somma, i punti di decollo o persino spostare i blocchi per creare cicli di feedback di base identificabili."
    },
    {
      "cell_type": "markdown",
      "id": "13c32689",
      "metadata": {},
      "source": "### Soluzione\n\n1. **Identificazione del ciclo di feedback di base:**\n\nIl nostro primo compito è trasformare il sistema multi-loop in cicli di feedback di base. Un ciclo di feedback di base fornisce una relazione diretta tra input e output, facilitando un'analisi più semplice.\n\n<table>\n<tr>\n<td> <img src=\"../pics/09_Models_of_Control_Devices_and_Systems_basic_diagram.png?1\" alt=\"09_Models_of_Control_Devices_and_Systems_basic_diagram\" style=\"width: 450px;\"/>\n</tr></table>\n\n_Figura: Ciclo di feedback di base_\n\n2. **Manipolazione del diagramma a blocchi:**\nPer ora non ci sono cicli di feedback di base nel nostro diagramma.\n\nPer ottenere un ciclo di feedback di base, potrebbe essere necessario spostare le giunzioni di somma o i punti di decollo. L’obiettivo è identificare e isolare questi circuiti di base, rendendo il sistema più suscettibile di analisi.\n\n3. **Applicazione delle formule di riduzione:**\nUna volta identificati i cicli di feedback di base, applichiamo la formula standard:\n\n$$\n\\frac{Y(s)}{R(s)}=\\frac{G(s)}{1±G(s)H(s)}\n$$\n\nQuesta formula ci consente di ridurre un ciclo di feedback di base in un unico blocco, semplificando l'intero sistema.\n\n\n4. **Riduzione iterativa:**\nIl processo è iterativo. Continuiamo a identificare i cicli di feedback di base, ad applicare la formula di riduzione e a semplificare il sistema fino a ottenere la relazione desiderata tra $Y$ e $R$."
    },
    {
      "cell_type": "markdown",
      "id": "4dd17ee2",
      "metadata": {},
      "source": "La procedura non è unica.\n\nNel nostro caso possiamo partire da:\n\n<table>\n<tr>\n<td> <img src=\"../pics/09_Models_of_Control_Devices_and_Systems_basic_diagram.png?1\" alt=\"09_Models_of_Control_Devices_and_Systems_basic_diagram\" style=\"width: 450px;\"/>\n</tr></table>\n\n- Se l'input del blocco $H_2$ continua ad essere $X$ (o l'output del blocco $H_2$ rimane $H_2X$, allora possiamo spostare il punto di decollo dopo il blocco $G_4$. Questo infatti garantisce che l'input nel resto del diagramma rimane lo stesso.\n\nPossiamo quindi modificare il diagramma precedente in:\n\n<table>\n<tr>\n<td> <img src=\"../pics/09_Models_of_Control_Devices_and_Systems_MultiLoop_System_Example-1.png?1\" alt=\"09_Models_of_Control_Devices_and_Systems_MultiLoop_System_Example-1\" style=\"width: 450px;\"/>\n</tr></table>\n\no per rendere più espliciti i punti di decollo:\n\n<table>\n<tr>\n<td> <img src=\"../pics/09_Models_of_Control_Devices_and_Systems_MultiLoop_System_Example-2.png?1\" alt=\"09_Models_of_Control_Devices_and_Systems_MultiLoop_System_Example-2\" style=\"width: 450px;\"/>\n</tr></table>\n\nQuest'ultimo diagramma facilita l'identificazione del primo ciclo di feedback di base (**Notare che si tratta di un ciclo di feedback positivo**).\n\nPossiamo quindi riorganizzare lo schema a blocchi come:\n\n<table>\n<tr>\n<td> <img src=\"../pics/09_Models_of_Control_Devices_and_Systems_MultiLoop_System_Example-3.png?2\" alt=\"09_Models_of_Control_Devices_and_Systems_MultiLoop_System_Example-3\" style=\"width: 450px;\"/>\n</tr></table>\n\nche, una volta ridotti i blocchi cascading, possiamo scrivere come:\n\n<table>\n<tr>\n<td> <img src=\"../pics/09_Models_of_Control_Devices_and_Systems_MultiLoop_System_Example-4.png?1\" alt=\"09_Models_of_Control_Devices_and_Systems_MultiLoop_System_Example-4\" style=\"width: 450px;\"/>\n</tr></table>\n\nE ora è facile vedere i rimanenti cicli di feedback di base. Il primo è evidenziato in rosso.\n\nInfine otteniamo:\n\n<table>\n<tr>\n<td> <img src=\"../pics/09_Models_of_Control_Devices_and_Systems_MultiLoop_System_Example-5.png?1\" alt=\"09_Models_of_Control_Devices_and_Systems_MultiLoop_System_Example-5\" style=\"width: 450px;\"/>\n</tr></table>\n\nche possiamo ridurre ancora una volta per ottenere l’equivalente finale a ciclo chiuso:\n\n<table>\n<tr>\n<td> <img src=\"../pics/09_Models_of_Control_Devices_and_Systems_MultiLoop_System_Example-6.png?1\" alt=\"09_Models_of_Control_Devices_and_Systems_MultiLoop_System_Example-6\" style=\"width: 450px;\"/>\n</tr></table>"
    },
    {
      "cell_type": "markdown",
      "id": "30fc77f2",
      "metadata": {},
      "source": "**Domanda pop-up**: due diversi diagrammi a blocchi possono rappresentare le stesse equazioni di sistema?\n**Risposta**: Sì, due diversi diagrammi a blocchi possono rappresentare le stesse equazioni di sistema se catturano le stesse relazioni e dinamiche."
    },
    {
      "cell_type": "markdown",
      "id": "c2061fa2",
      "metadata": {},
      "source": "### Soluzione alternativa\n\nLa sequenza di riduzione non è unica. Approcci diversi potrebbero produrre lo stesso risultato. Ad esempio, lo spostamento delle giunzioni di somma può offrire un metodo alternativo di riduzione.\n\n\n<table>\n<tr>\n<td> <img src=\"../pics/09_Models_of_Control_Devices_and_Systems_MultiLoop_System_Example-7.png?1\" alt=\"09_Models_of_Control_Devices_and_Systems_MultiLoop_System_Example-7\" style=\"width: 450px;\"/>\n</tr></table>\n\nPer apportare questa modifica, chiamiamo il segnale che esce dal blocco $H_1$,$Z = H_1Y$.\nPoiché il segnale $Z$ arriva in input a $G_3$, significa che se spostiamo la somma prima del blocco $G_2$, questo blocco contribuirà ad un ulteriore guadagno di $G_2$. Dobbiamo prenderci cura di questo guadagno per avere una relazione equivalente e dividerlo per $G_2$ nel percorso di feedback.\n\n<table>\n<tr>\n<td> <img src=\"../pics/09_Models_of_Control_Devices_and_Systems_MultiLoop_System_Example-8.png?1\" alt=\"09_Models_of_Control_Devices_and_Systems_MultiLoop_System_Example-8\" style=\"width: 450px;\"/>\n</tr></table>\n\n<table>\n<tr>\n<td> <img src=\"../pics/09_Models_of_Control_Devices_and_Systems_MultiLoop_System_Example-9.png?1\" alt=\"09_Models_of_Control_Devices_and_Systems_MultiLoop_System_Example-9\" style=\"width: 450px;\"/>\n</tr></table>\n\no anche in modo equivalente\n\n<table>\n<tr>\n<td> <img src=\"../pics/09_Models_of_Control_Devices_and_Systems_MultiLoop_System_Example-10.png?1\" alt=\"09_Models_of_Control_Devices_and_Systems_MultiLoop_System_Example-10\" style=\"width: 450px;\"/>\n</tr></table>\n\nPossiamo farlo perché i diagrammi a blocchi non rappresentano sistemi fisici, sono una rappresentazione matematica.\n\nIn conclusione, i diagrammi a blocchi offrono un potente strumento per l'analisi e la progettazione di sistemi per il controllo automatico. Rappresentando visivamente le equazioni del sistema, facilitano la comprensione, soprattutto dei sistemi complessi."
    },
    {
      "cell_type": "markdown",
      "id": "6c0e9a5d",
      "metadata": {},
      "source": "## Regole per la manipolazione del diagramma a blocchi\n\n<table>\n<tr>\n<td> <img src=\"../pics/09_Models_of_Control_Devices_and_Systems_Rules_For_Diagram_Manipulation.png?1\" alt=\"09_Models_of_Control_Devices_and_Systems_Rules_For_Diagram_Manipulation\" style=\"width: 650px;\"/>\n</tr></table>"
    },
    {
      "cell_type": "code",
      "execution_count": null,
      "id": "933cdc22",
      "metadata": {},
      "outputs": [],
      "source": []
    },
    {
      "cell_type": "markdown",
      "id": "74b5bf02",
      "metadata": {},
      "source": "# Grafici del flusso del segnale e formula del guadagno di Mason"
    },
    {
      "cell_type": "markdown",
      "id": "970e6e6d",
      "metadata": {},
      "source": "Nel nostro viaggio per comprendere i sistemi complessi, spesso facciamo affidamento su ausili visivi per comprendere meglio relazioni complesse. Uno di questi strumenti è il diagramma del flusso del segnale (SFG), una rappresentazione grafica che ci aiuta a visualizzare il flusso dei segnali attraverso un sistema. Accoppiando l'SFG con la formula del guadagno di Mason, possiamo ricavare la trasmittanza complessiva (o funzione di trasferimento) di un sistema senza ricorrere ad estese manipolazioni del diagramma a blocchi.\n\nIn questa sezione esamineremo più da vicino la trasformazione dai diagrammi a blocchi ai grafici del flusso del segnale e come applicare la formula del guadagno di Mason alla rappresentazione risultante.\n\nLa formula del guadagno di Mason è un approccio sistematico per trovare la funzione di trasferimento di un sistema complesso rappresentato da un grafico del flusso di segnale o da un diagramma a blocchi. La formula fornisce un modo per determinare il guadagno complessivo di un sistema considerando i guadagni individuali e i circuiti all'interno del sistema. La formula del guadagno di Mason è particolarmente utile per i sistemi con più loop e percorsi che si intersecano. Torneremo su questo tra un momento. Per ora, concentriamoci sui grafici del flusso del segnale."
    },
    {
      "cell_type": "markdown",
      "id": "d46a725a",
      "metadata": {},
      "source": "## Dai diagrammi a blocchi ai grafici del flusso dei segnali\n\nPrima di approfondire le complessità della formula del guadagno di Mason, è essenziale capire come convertire un diagramma a blocchi nel corrispondente grafico del flusso del segnale. Questa trasformazione non è solo fondamentale per una migliore visualizzazione, ma facilita anche l'applicazione della formula del guadagno di Mason."
    },
    {
      "cell_type": "markdown",
      "id": "bc27ca62",
      "metadata": {},
      "source": "### Comprensione di nodi e percorsi negli SFG\n\nIn un grafico del flusso del segnale, il termine \"nodo\" rappresenta una variabile o un segnale, mentre le frecce o i percorsi tra i nodi rappresentano il guadagno o la trasmittanza del sistema.\n\nAnalizziamo ulteriori concetti:\n\n- **Nodo di input**: un nodo senza segnali in entrata. Il valore di tale nodo è definito esternamente. Ad esempio, il nodo etichettato \"R\" nei nostri esempi precedenti.\n- **Nodo di Output**: Un nodo da cui non ci sono rami in uscita. È essenzialmente il punto finale o il risultato del nostro sistema."
    },
    {
      "cell_type": "markdown",
      "id": "aef3394c",
      "metadata": {},
      "source": "### Costruire il grafico del flusso del segnale\n\nDato lo schema a blocchi, proviamo a costruire il corrispondente grafico del flusso del segnale:\n\n- Identificare il/i nodo/i di input. Nel nostro esempio, R funge da nodo di input.\n- Traccia il percorso dall'input all'output, assicurandoti di attraversare un nodo o un ramo solo una volta. Questo è ciò che definisce un \"percorso in avanti\".\n- Contrassegnare le trasmittanze o i guadagni lungo ciascun ramo. Ad esempio, un ramo con un guadagno di $G1$ dovrebbe essere etichettato come tale."
    },
    {
      "cell_type": "markdown",
      "id": "57382664",
      "metadata": {},
      "source": "Prendiamo un blocco base con ingresso $R$ e uscita $Y$, collegati tramite un sistema $G$\n\n<table>\n<tr>\n<td> <img src=\"../pics/09_Models_of_Control_Devices_and_Systems_signal_flow_1.png?1\" alt=\"09_Models_of_Control_Devices_and_Systems_signal_flow_1\" style=\"width: 350px;\"/>\n</tr></table>\n\n\nDove:\n- $R$ è una variabile\n- $Y$ è una variabile\n- $G$ è il guadagno del sistema\n\n\nPossiamo costruire il grafico del flusso del segnale equivalente come:\n\n<table>\n<tr>\n<td> <img src=\"../pics/09_Models_of_Control_Devices_and_Systems_signal_flow_2.png?1\" alt=\"09_Models_of_Control_Devices_and_Systems_signal_flow_2\" style=\"width: 350px;\"/>\n</tr></table>\n\nIn un grafico del flusso del segnale, $R$ e $Y$ diventano nodi e $G$ diventa una trasmittanza di ramo."
    },
    {
      "cell_type": "markdown",
      "id": "fb9a752e",
      "metadata": {},
      "source": "Il concetto chiave nei grafici del flusso del segnale è l'idea di nodi che rappresentano variabili e rami che indicano la relazione (o guadagno) tra questi nodi.\n\nDa tenere presente che _La somma dei segnali in ingresso a un nodo fornisce il valore del nodo. Il segnale in uscita è il valore della variabile del nodo.\n\n\nConsideriamo un circuito di feedback in cui un segnale $Y$ viene restituito attraverso un guadagno $H$.\n\n<table>\n<tr>\n<td> <img src=\"../pics/09_Models_of_Control_Devices_and_Systems_signal_flow_3.png?1\" alt=\"09_Models_of_Control_Devices_and_Systems_signal_flow_3\" style=\"width: 350px;\"/>\n</tr></table>\n\nPer convertirlo in un diagramma di flusso del segnale:\n\n- Quante variabili ci sono? 4: $R$, $Y$, $B$, $\\hat{E}$.\n- Quanti guadagni ci sono? 2: $G$, $H$\n\nPartiamo dalle due variabili di interesse: $R$ e $Y$ e le disegniamo come nodi.\n\n<table>\n<tr>\n<td> <img src=\"../pics/09_Models_of_Control_Devices_and_Systems_signal_flow_feedback_loop_1.png?1\" alt=\"09_Models_of_Control_Devices_and_Systems_signal_flow_3\" style=\"width: 350px;\"/>\n</tr></table>\n\n<table>\n<tr>\n<td> <img src=\"../pics/09_Models_of_Control_Devices_and_Systems_signal_flow_feedback_loop_2.png?1\" alt=\"09_Models_of_Control_Devices_and_Systems_signal_flow_3\" style=\"width: 350px;\"/>\n</tr></table>\n\n<table>\n<tr>\n<td> <img src=\"../pics/09_Models_of_Control_Devices_and_Systems_signal_flow_feedback_loop_3.png?1\" alt=\"09_Models_of_Control_Devices_and_Systems_signal_flow_3\" style=\"width: 350px;\"/>\n</tr></table>\n\nIl diagramma precedente può essere rappresentato anche esplicitando il nodo $B$ e separando i contributi $H$ e $-1$. In questo caso è sufficiente la rappresentazione precedente per cogliere la dinamica di cui abbiamo bisogno.\n\n<table>\n<tr>\n<td> <img src=\"../pics/09_Models_of_Control_Devices_and_Systems_signal_flow_feedback_loop_3_alternative.png?1\" alt=\"09_Models_of_Control_Devices_and_Systems_signal_flow_3\" style=\"width: 350px;\"/>\n</tr></table>"
    },
    {
      "cell_type": "markdown",
      "id": "76709cc6",
      "metadata": {},
      "source": "E infine otteniamo:\n\n<table>\n<tr>\n<td> <img src=\"../pics/09_Models_of_Control_Devices_and_Systems_signal_flow_feedback_loop_4.png?1\" alt=\"09_Models_of_Control_Devices_and_Systems_signal_flow_4\" style=\"width: 350px;\"/>\n</tr></table>"
    },
    {
      "cell_type": "markdown",
      "id": "ee1e7939",
      "metadata": {},
      "source": "Nel grafico del flusso del segnale, il nodo etichettato \"R\" non ha segnali in entrata. Nella nostra terminologia, un tale nodo senza rami entranti viene definito \"nodo di input\".\n\nQuesto perché il suo valore è definito esternamente, e quindi il valore del nodo \"R\" dipende da ciò che gli assegniamo.\n\nIl segnale proveniente da \"R\" viaggia lungo un ramo, moltiplicandosi per una trasmittanza pari a 1, prima di raggiungere il nodo successivo.\n\nAllo stesso modo, il segnale \"Y\" viaggia lungo il suo ramo, moltiplicandosi per una trasmittanza di $-H$, prima di raggiungere il nodo di destinazione. Di conseguenza, il valore in questo nodo è la somma algebrica di questi due segnali.\n\nNel frattempo, il segnale \"$\\hat{E}$\" viaggia lungo un altro ramo, moltiplicandosi per il guadagno \"G\", prima di raggiungere la sua destinazione. Di conseguenza, il valore del nodo di output \"Y\" è dato da $ G \\times \\hat{E} $.\n\nSolo per una migliore visualizzazione, se dovessi introdurre un ramo aggiuntivo (che non è presente nello schema a blocchi originale) e etichettarlo \"Y\", questa aggiunta non avrebbe alcun impatto sulle equazioni del nostro sistema. Essenzialmente, questa equazione suggerisce $Y=Y$.\n\n\n<table>\n<tr>\n<td> <img src=\"../pics/09_Models_of_Control_Devices_and_Systems_signal_flow_feedback_loop_5.png?1\" alt=\"09_Models_of_Control_Devices_and_Systems_signal_flow_5\" style=\"width: 350px;\"/>\n</tr></table>\n\nSebbene ciò possa sembrare ridondante, offre un vantaggio in termini di chiarezza. Ora possiamo definirlo un \"nodo di output\". Un nodo di output è caratterizzato dall'assenza di rami in uscita, mentre un nodo di input è privo di rami in entrata. L'introduzione di questo nodo di output aiuta a delineare chiaramente l'attributo di interesse."
    },
    {
      "cell_type": "markdown",
      "id": "eac01c5c",
      "metadata": {},
      "source": "## Un esempio più complesso\n\n<table>\n<tr>\n<td> <img src=\"../pics/09_Models_of_Control_Devices_and_Systems_MultiLoop_System_Example.png?1\" alt=\"09_Models_of_Control_Devices_and_Systems_MultiLoop_System_Example\" style=\"width: 650px;\"/>\n</tr></table>"
    },
    {
      "cell_type": "markdown",
      "id": "a883992d",
      "metadata": {},
      "source": "<table>\n<tr>\n    <td>\n        <img src=\"../pics/09_Models_of_Control_Devices_and_Systems_signal_flow_complex_ex_1.png?1\" alt=\"09_Models_of_Control_Devices_and_Systems_signal_flow_complex_ex_1\" style=\"width: 350px;\"/>\n    </td>\n    <td>\n        <img src=\"../pics/09_Models_of_Control_Devices_and_Systems_signal_flow_complex_ex.png?1\" alt=\"09_Models_of_Control_Devices_and_Systems_signal_flow_complex_ex\" style=\"width: 350px;\"/>\n    </td>\n</tr>\n</table>"
    },
    {
      "cell_type": "markdown",
      "id": "199c172b",
      "metadata": {},
      "source": "<table>\n<tr>\n    <td>\n        <img src=\"../pics/09_Models_of_Control_Devices_and_Systems_signal_flow_complex_ex_2.png?1\" alt=\"09_Models_of_Control_Devices_and_Systems_signal_flow_complex_ex_2\" style=\"width: 350px;\"/>\n    </td>\n    <td>\n        <img src=\"../pics/09_Models_of_Control_Devices_and_Systems_signal_flow_complex_ex.png?1\" alt=\"09_Models_of_Control_Devices_and_Systems_signal_flow_complex_ex\" style=\"width: 350px;\"/>\n    </td>\n</tr>\n</table>"
    },
    {
      "cell_type": "markdown",
      "id": "a310aebf",
      "metadata": {},
      "source": "<table>\n<tr>\n    <td>\n        <img src=\"../pics/09_Models_of_Control_Devices_and_Systems_signal_flow_complex_ex_3.png?1\" alt=\"09_Models_of_Control_Devices_and_Systems_signal_flow_complex_ex_3\" style=\"width: 350px;\"/>\n    </td>\n    <td>\n        <img src=\"../pics/09_Models_of_Control_Devices_and_Systems_signal_flow_complex_ex.png?1\" alt=\"09_Models_of_Control_Devices_and_Systems_signal_flow_complex_ex\" style=\"width: 350px;\"/>\n    </td>\n</tr>\n</table>"
    },
    {
      "cell_type": "markdown",
      "id": "86c8c23a",
      "metadata": {},
      "source": "<table>\n<tr>\n    <td>\n        <img src=\"../pics/09_Models_of_Control_Devices_and_Systems_signal_flow_complex_ex_4.png?1\" alt=\"09_Models_of_Control_Devices_and_Systems_signal_flow_complex_ex_4\" style=\"width: 350px;\"/>\n    </td>\n    <td>\n        <img src=\"../pics/09_Models_of_Control_Devices_and_Systems_signal_flow_complex_ex.png?1\" alt=\"09_Models_of_Control_Devices_and_Systems_signal_flow_complex_ex\" style=\"width: 350px;\"/>\n    </td>\n</tr>\n</table>"
    },
    {
      "cell_type": "markdown",
      "id": "84781abc",
      "metadata": {},
      "source": "<table>\n<tr>\n    <td>\n        <img src=\"../pics/09_Models_of_Control_Devices_and_Systems_signal_flow_complex_ex_5.png?1\" alt=\"09_Models_of_Control_Devices_and_Systems_signal_flow_complex_ex_5\" style=\"width: 350px;\"/>\n    </td>\n    <td>\n        <img src=\"../pics/09_Models_of_Control_Devices_and_Systems_signal_flow_complex_ex.png?1\" alt=\"09_Models_of_Control_Devices_and_Systems_signal_flow_complex_ex\" style=\"width: 350px;\"/>\n    </td>\n</tr>\n</table>"
    },
    {
      "cell_type": "markdown",
      "id": "6af4d60e",
      "metadata": {},
      "source": "<table>\n<tr>\n    <td>\n        <img src=\"../pics/09_Models_of_Control_Devices_and_Systems_signal_flow_complex_ex_6.png?1\" alt=\"09_Models_of_Control_Devices_and_Systems_signal_flow_complex_ex_6\" style=\"width: 350px;\"/>\n    </td>\n    <td>\n        <img src=\"../pics/09_Models_of_Control_Devices_and_Systems_signal_flow_complex_ex.png?1\" alt=\"09_Models_of_Control_Devices_and_Systems_signal_flow_complex_ex\" style=\"width: 350px;\"/>\n    </td>\n</tr>\n</table>"
    },
    {
      "cell_type": "markdown",
      "id": "426d5872",
      "metadata": {},
      "source": "# Presentazione della formula del guadagno di Mason"
    },
    {
      "cell_type": "markdown",
      "id": "ac146e19",
      "metadata": {},
      "source": "Con il grafico del flusso del segnale in mano, ora possiamo applicare la formula del guadagno di Mason per determinare la trasmittanza complessiva del sistema (variabile di uscita/variabile di ingresso) o la funzione di trasferimento ad anello chiuso (tutte le variabili sono state trasferite nel dominio di Laplace).\n\nLa formula è data da:\n\n$$\n\\frac{Y(s)}{R(s)} = M(s) = \\frac{\\sum P_k\\Delta_k}{\\Delta}\n$$\n\nDove:\n- $M(s)$ rappresenta la trasmittanza complessiva o la funzione di trasferimento ad anello chiuso.\n\nEntriamo nei dettagli della formula:\n\n#### Comprendere $\\large \\Delta$\n\n- $\\Delta$ = 1−(somma dei guadagni di tutti i cicli indipendenti) + (somma dei prodotti dei guadagni di coppie di cicli non toccanti) − (somma dei prodotti dei guadagni di triplette di cicli non toccanti) + ...\n\nÈ fondamentale comprendere il concetto di:\n- \"**Loop**\". Un percorso chiuso in cui un nodo o un ramo viene attraversato una e una sola volta. In altre parole, partendo da qualsiasi punto del percorso, se si seguono le frecce o le indicazioni indicate, si dovrebbe tornare al punto di partenza senza ripercorrere alcuna parte del percorso né rivisitare alcun nodo o ramo. Per esempio:\n\n<table>\n<tr>\n    <td>\n        <img src=\"../pics/09_Models_of_Control_Devices_and_Systems_signal_flow_complex_ex_loop.png?1\" alt=\"09_Models_of_Control_Devices_and_Systems_signal_flow_complex_ex_loop\" style=\"width: 450px;\"/>\n    </td>\n</tr>\n</table>\n\nAlcuni punti chiave da notare sui loop:\n    \n1. La direzione è importante: la traversata deve seguire rigorosamente la direzione indicata dalle frecce nell'SFG.\n2. Nessuna rivisitazione: nessun nodo o ramo deve essere rivisitato o ritracciato nel ciclo.\n3. Guadagno del loop: è il prodotto di tutte le trasmittanze (o guadagni) dei rami che costituiscono il loop.\nAd esempio, il guadagno del loop, per il loop evidenziato in rosso sopra, è: $G_2\\times G_3\\times -H_2$\n\n\n- \"**Loop indipendenti**\": I loop indipendenti sono loop in cui ogni loop ha almeno qualcosa (un nodo o un ramo) diverso dagli altri loop. Se stai considerando\n$X$ loop come indipendenti, quindi tutti questi loop dovrebbero avere qualche elemento che li differenzia dagli altri loop nel set. Quando si identifica un insieme di anelli indipendenti in un grafico del flusso del segnale, ogni anello di quell'insieme dovrebbe avere almeno un nodo o ramo univoco che non sia condiviso con nessun altro anello di quell'insieme.\n\nAd esempio, nel nostro grafico del flusso del segnale ci sono tre cicli indipendenti. Hanno almeno un nodo o un ramo diverso.\n\n- \"**Anelli non toccanti.**\" Due anelli sono considerati non toccanti se non condividono alcun nodo o ramo comune. Questa distinzione è fondamentale quando si applica la formula del guadagno di Mason."
    },
    {
      "cell_type": "markdown",
      "id": "e6b4c6ba",
      "metadata": {},
      "source": "#### Capire $P_k$\n\n- $P_k$ indica il guadagno del $k$-esimo percorso in avanti.\n- $k$ è il numero di percorsi diretti.\n\nAd esempio, $P_1$ è il guadagno del primo percorso in avanti. Un percorso in avanti è il percorso che porta dal nodo di input al nodo di output.\n\n<table>\n<tr>\n    <td>\n        <img src=\"../pics/09_Models_of_Control_Devices_and_Systems_signal_flow_complex_ex_forward_path.png?1\" alt=\"09_Models_of_Control_Devices_and_Systems_signal_flow_complex_ex_forward_path\" style=\"width: 450px;\"/>\n    </td>\n</tr>\n</table>\n\nIn questo esempio, esiste un solo modo per viaggiare da $R$ a $Y$. Non esiste un percorso alternativo in avanti e quindi esiste uno e solo $P_1$.\n\nIl guadagno è quindi: $P_1 = G_1 \\times G_2 \\times G_3 \\times G_4 $"
    },
    {
      "cell_type": "markdown",
      "id": "39fde83e",
      "metadata": {},
      "source": "#### Comprendere $\\Delta_k$\n\n$\\Delta_k$ è il valore di $\\Delta$ quando calcolato per il sistema _escludendo_ (\"non toccando\") il $k$-esimo percorso in avanti. In termini più semplici, $\\Delta_k$ viene calcolato utilizzando la stessa formula di $\\Delta$ ma ignorando tutti i cicli che toccano o si intersecano con il percorso in avanti $k$-esimo.\n\n\nPer spiegare ulteriormente:\n\n- **Percorso in avanti**: Un percorso in avanti è un attraversamento dal nodo di input al nodo di output nella direzione delle frecce senza alcuna ripetizione di nodi o rami. Il k-esimo percorso in avanti si riferisce a uno specifico percorso in avanti su cui ci stiamo concentrando.\n\n- **Non toccare il k-esimo percorso in avanti**: Ciò significa che nel calcolo di $\\Delta_k$, escludiamo tutti i loop che hanno un nodo o un ramo in comune con il k-esimo percorso in avanti.\n\nUsiamo la stessa definizione che abbiamo dato per $\\Delta$ ma tutti i termini non devono \"toccare\" il $k-$esimo percorso di andata, cioè non hanno nulla in comune (ramo o nodo) con $k- $esimo percorso in avanti.\n\nPer esempio:\n\n$\\Delta_1$ = 1 - (somma dei guadagni di tutti i loop indipendenti **che non toccano il 1° percorso in avanti**) + (somma dei prodotti dei guadagni di coppie di loop che non si toccano **che non toccano il 1° percorso in avanti**) − (somma dei prodotti di guadagno di triplette di anelli che non si toccano **non toccano il primo percorso in avanti**) + ..."
    },
    {
      "cell_type": "markdown",
      "id": "94851419",
      "metadata": {},
      "source": "Applichiamo tutto questo al grafico del flusso del segnale:\n\n<table>\n<tr>\n    <td>\n        <img src=\"../pics/09_Models_of_Control_Devices_and_Systems_signal_flow_complex_ex_mason_formula.png?1\" alt=\"09_Models_of_Control_Devices_and_Systems_signal_flow_complex_ex_mason_formula\" style=\"width: 450px;\"/>\n    </td>\n</tr>\n</table>"
    },
    {
      "cell_type": "markdown",
      "id": "7c440320",
      "metadata": {},
      "source": "- Prima di tutto dobbiamo identificare il valore di $k$, che in questo caso è 1. Un nodo o un ramo infatti devono essere attraversati una e una sola volta.\n\n\n$$\n\\frac{Y(s)}{R(s)} = M(s) = \\frac{\\sum P_k\\Delta_k}{\\Delta} = \\frac{P_1\\Delta_1}{\\Delta}\n$$"
    },
    {
      "cell_type": "markdown",
      "id": "8d645832",
      "metadata": {},
      "source": "- $\\Delta$ = 1−(somma dei guadagni di tutti i cicli indipendenti) + (somma dei prodotti dei guadagni di coppie di cicli non toccanti) − (somma dei prodotti dei guadagni di triplette di cicli non toccanti) + ...\n\n$\\Delta = 1 − \\Grande[ \\Grande( -G_2G_3H_2 \\Grande) + \\Grande(G_3G_4H_1 \\Grande) + \\Grande(-G_1G_2G_3G_4H_3 \\Grande)\\Grande]$\n\nSi noti che non ci sono coppie di anelli che non si toccano. Almeno un nodo o un ramo è comune a tutti i circuiti. Poiché non ci sono coppie, non ci sono terzine, ecc.\n\n-$\\Delta_1$\n\n$\\Delta_1=1$.\n\nTutti i loop hanno qualcosa in comune con il percorso in avanti.\n\n-$P_1$\n\n$P_1 = SOL_1 SOL_2 SOL_3 SOL_4 $\n\nE abbiamo tutto ciò di cui abbiamo bisogno per scrivere la funzione di trasferimento ad anello chiuso complessiva sul sistema."
    },
    {
      "cell_type": "markdown",
      "id": "423e4eae",
      "metadata": {},
      "source": "### Esempio\n\n<table>\n<tr>\n    <td>\n        <img src=\"../pics/09_Models_of_Control_Devices_and_Systems_signal_flow_complex_ex1.png?1\" alt=\"09_Models_of_Control_Devices_and_Systems_signal_flow_complex_ex1\" style=\"width: 550px;\"/>\n    </td>\n</tr>\n</table>"
    },
    {
      "cell_type": "markdown",
      "id": "fbfb71ca",
      "metadata": {},
      "source": "$$\n\\frac{Y(s)}{R(s)} = M(s) = \\frac{\\sum P_k\\Delta_k}{\\Delta}\n$$\n\n\n$$k=2$$\n\n<table>\n<tr>\n    <td>\n        <img src=\"../pics/09_Models_of_Control_Devices_and_Systems_signal_flow_complex_ex1_1.png?1\" alt=\"09_Models_of_Control_Devices_and_Systems_signal_flow_complex_ex1_1\" style=\"width: 550px;\"/>\n    </td>\n</tr>\n</table>"
    },
    {
      "cell_type": "markdown",
      "id": "da9b89a7",
      "metadata": {},
      "source": "$P_1 = SOL_{12}sol_{23}sol_{34}sol_{45}$\n\n$P_2 = SOL_{12}sol_{23}sol_{35}$\n\nTieni presente che $G_{44}$ è un ciclo chiuso, quindi non può essere incluso.\n\nCi sono 5 cicli:\n\n<table>\n<tr>\n    <td>\n        <img src=\"../pics/09_Models_of_Control_Devices_and_Systems_signal_flow_complex_ex1_2.png?1\" alt=\"09_Models_of_Control_Devices_and_Systems_signal_flow_complex_ex1_2\" style=\"width: 550px;\"/>\n    </td>\n</tr>\n</table>\n\nE possiamo calcolare i guadagni di loop per questi loop.\n\nTieni presente che $G_{34},G_{45},G_{35}$ non è un ciclo perché la direzione è importante!."
    },
    {
      "cell_type": "markdown",
      "id": "c3633af7",
      "metadata": {},
      "source": "Ci sono due paia di anelli non toccanti.\n\nIl primo è:\n\n<table>\n<tr>\n    <td>\n        <img src=\"../pics/09_Models_of_Control_Devices_and_Systems_signal_flow_complex_ex1_3.png?1\" alt=\"09_Models_of_Control_Devices_and_Systems_signal_flow_complex_ex1_3\" style=\"width: 550px;\"/>\n    </td>\n</tr>\n</table>\n\nE il suo guadagno è: $G_{23}G_{32}G_{44}$.\n\n\nIl secondo è:\n<table>\n<tr>\n    <td>\n        <img src=\"../pics/09_Models_of_Control_Devices_and_Systems_signal_flow_complex_ex1_4.png?1\" alt=\"09_Models_of_Control_Devices_and_Systems_signal_flow_complex_ex1_4\" style=\"width: 550px;\"/>\n    </td>\n</tr>\n</table>\n\nE il suo guadagno è: $G_{23}G_{35}G_{52}$.\n\nE dobbiamo riassumerli nella formula $\\Delta$\n\nNessuna terzina.\n\nFinalmente:\n- $\\Delta_1 = 1$ perché tutti i loop toccano il percorso in avanti.\n- $\\Delta_2 = 1-G_{44}$ perché è l'unico loop che non tocca il **2°** percorso in avanti.\n\nAbbiamo tutti gli elementi per calcolare la formula del guadagno di Mason e ottenere la funzione di trasferimento ad anello chiuso."
    },
    {
      "cell_type": "markdown",
      "id": "b2d0ac7d",
      "metadata": {},
      "source": "### Cos'è il self loop?\n\nUn self-loop, nel contesto dei grafici del flusso del segnale, si riferisce a un loop di feedback in cui un segnale o una variabile si influenza direttamente, spesso attraverso qualche trasformazione. In sostanza, una parte dell'output viene restituita direttamente al proprio input.\n\n\nIl secondo è:\n<table>\n<tr>\n    <td>\n        <img src=\"../pics/09_Models_of_Control_Devices_and_Systems_signal_flow_complex_ex1_5.png?1\" alt=\"09_Models_of_Control_Devices_and_Systems_signal_flow_complex_ex1_5\" style=\"width: 550px;\"/>\n    </td>\n</tr>\n</table>\n\n\nAnalizziamolo:\n\n- Hai un blocco (o sistema) con un input e un output.\n- L'uscita viene restituita all'ingresso tramite un sistema di feedback o guadagno.\n- All'ingresso è presente una giunzione di somma che combina l'ingresso originale con il feedback dall'uscita."
    },
    {
      "cell_type": "code",
      "execution_count": null,
      "id": "48e70cfe",
      "metadata": {},
      "outputs": [],
      "source": []
    }
  ],
  "metadata": {
    "kernelspec": {
      "display_name": "python3",
      "language": "python",
      "name": "python3"
    }
  },
  "nbformat": 4,
  "nbformat_minor": 5
}