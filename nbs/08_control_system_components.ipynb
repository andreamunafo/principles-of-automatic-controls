{
 "cells": [
  {
   "cell_type": "markdown",
   "id": "79b0667f",
   "metadata": {},
   "source": [
    "# Control System Components "
   ]
  },
  {
   "cell_type": "markdown",
   "id": "2ccca703",
   "metadata": {},
   "source": [
    "Automatic control systems are ubiquitous in various industries and applications. They help maintain desired output conditions by adjusting the input accordingly. One fundamental aspect of understanding these systems is the concept of analogous systems and understanding the components that make up a control system.\n",
    "\n",
    "In automatic control systems, the entire process can be visualized as a sequence of interconnected components. This sequence begins with the plant, which is essentially the system we aim to control. The plant is driven by an actuator, and the power to this actuator is controlled by the controller, which is the brain of our system. The controller makes decisions based on feedback it receives from sensors that monitor the system."
   ]
  },
  {
   "cell_type": "markdown",
   "id": "bdcb5ad6",
   "metadata": {},
   "source": [
    "Control systems consist of various components that work together to achieve a desired output.\n",
    "\n",
    "In our discussion, we primarily focus on mechanical systems, but other systems like thermal or liquid-based systems also exist as we saw."
   ]
  },
  {
   "cell_type": "markdown",
   "id": "729702ca",
   "metadata": {},
   "source": [
    "<table> \n",
    "<tr>\n",
    "    <td> <img src=\"./pics/08_control_system_components_control-system-components.png\" alt=\"control-system-components-1\" style=\"width: 650px;\"/>\n",
    "</tr></table>"
   ]
  },
  {
   "cell_type": "markdown",
   "id": "7c83c0f8",
   "metadata": {},
   "source": [
    "Components of the Control System:\n",
    "\n",
    "- Plant: The primary system that needs to be controlled. This is often a mechanical system in our discussions, but it can also be a thermal system, a liquid system, or any other system that requires control.\n",
    "- Actuator: A device that drives or controls the plant. For mechanical systems, motors are common actuators.\n",
    "- Controller: The brain of the system. It decides how to drive the actuator based on the difference between the desired output and the actual output. This can be an operational amplifier circuit (Op-Amp) or even a digital computer in modern systems.\n",
    "- Sensor: A device that measures the actual output of the plant. It often needs noise filters to remove high-frequency noise and amplifiers to boost its signals to usable levels."
   ]
  },
  {
   "cell_type": "markdown",
   "id": "e0856924",
   "metadata": {},
   "source": [
    "The brain of the control system, the controller, is often electrical in nature. Today, most controllers are either Op-Amp circuits (legacy) or digital computers. Hydraulic or pneumatic controllers were used in the past. The trend is moving toward these controllers because of their versatility and efficiency."
   ]
  },
  {
   "cell_type": "markdown",
   "id": "53b1ed51",
   "metadata": {},
   "source": [
    "Your role:\n",
    "\n",
    "1. Designing noise filters to ensure that high-frequency noise from sensors doesn't interfere with the system.\n",
    "2. Amplifying or conditioning sensor outputs to make them compatible with the standard input signals or to suit the controller hardware. For example, sensor output can be millivolt or milliamper, and require amplification to use them together with the levels of the input signal and with the controller.\n",
    "3. Designing the controller, which is the most critical part of the system."
   ]
  },
  {
   "cell_type": "markdown",
   "id": "aaa5b7a6",
   "metadata": {},
   "source": [
    "Let's make the diagram more precise:"
   ]
  },
  {
   "cell_type": "markdown",
   "id": "8e6e750f",
   "metadata": {},
   "source": [
    "<table> \n",
    "<tr>\n",
    "    <td> <img src=\"./pics/08_control_system_components_control-system-components-1.png\" alt=\"control-system-components-1\" style=\"width: 650px;\"/>\n",
    "</tr></table>\n"
   ]
  },
  {
   "cell_type": "markdown",
   "id": "d5516956",
   "metadata": {},
   "source": [
    "The controller can respond to the error signal in various manners. One approach is to amplify the error, referred to as a Proportional controller. Another method involves controllers that produce a signal based on both the error and its integral. This results in a signal composed of two parts: one directly proportional to the error and another proportional to the accumulated error over time. We talk about Proportional and Integral Controllers in this case.\n",
    "\n",
    "In addition to these, there's the Proportional-Derivative (PD) controller, which not only responds to the present error but also to the rate of change of this error. By considering the derivative or the rate at which the error is changing, the PD controller can anticipate future errors and act more responsively, making it especially useful in scenarios where swift corrections are essential.\n",
    "\n",
    "Then there's the Proportional-Integral-Derivative (PID) controller, which combines all three strategies. It considers the present error (proportional), the accumulation of past errors (integral), and the rate of change of the error (derivative). By using all three components, the PID controller offers a comprehensive approach to error correction, ensuring steady-state accuracy, quick response, and anticipation of future errors. This makes the PID controller one of the most widely used control strategies in various industries due to its adaptability and efficiency in diverse control scenarios."
   ]
  },
  {
   "cell_type": "markdown",
   "id": "2da746d3",
   "metadata": {},
   "source": [
    "\n",
    "1. **Proportional (P) Controller**:\n",
    "$$\n",
    "u(t) = K_p \\cdot e(t)\n",
    "$$\n",
    "\n",
    "Where:\n",
    "- $ u(t) $ is the control output.\n",
    "- $ K_p $ is the proportional gain.\n",
    "- $ e(t) $ is the error signal.\n",
    "\n",
    "2. **Proportional-Integral (PI) Controller**:\n",
    "$$\n",
    "u(t) = K_p \\cdot e(t) + K_i \\int e(t) \\, dt\n",
    "$$\n",
    "\n",
    "Where:\n",
    "- $ K_i $ is the integral gain.\n",
    "\n",
    "The majority of the industrial controllers are PI controllers.\n",
    "\n",
    "3. **Proportional-Derivative (PD) Controller**:\n",
    "\n",
    "$$\n",
    "u(t) = K_p \\cdot e(t) + K_d \\frac{d e(t)}{dt}\n",
    "$$\n",
    "\n",
    "Where:\n",
    "- $ K_d $ is the derivative gain.\n",
    "\n",
    "4. **Proportional-Integral-Derivative (PID) Controller**:\n",
    "\n",
    "$$\n",
    "u(t) = K_p \\cdot e(t) + K_i \\int e(t) \\, dt + K_d \\frac{d e(t)}{dt}\n",
    "$$\n",
    "\n",
    "In these equations:\n",
    "- $ e(t) $ represents the error signal, which is the difference between the setpoint and the process variable (or the measured output).\n",
    "- The gains $ K_p $, $ K_i $, and $ K_d $ determine the strength of the controller's response to the error, its accumulation, and its rate of change, respectively. Adjusting these gains allows for tuning the controller's performance to suit specific applications."
   ]
  },
  {
   "cell_type": "markdown",
   "id": "dec838b1",
   "metadata": {},
   "source": [
    "These can be easily implemented as analog controllers using Op-Amps."
   ]
  },
  {
   "cell_type": "markdown",
   "id": "13ba04e9",
   "metadata": {},
   "source": [
    "# Analog Controllers"
   ]
  },
  {
   "cell_type": "markdown",
   "id": "d2d940e7",
   "metadata": {},
   "source": [
    "Operational amplifiers (Op-Amps) are crucial components in control systems. They can act as amplifiers, integrators, or differentiators, depending on their configuration.\n",
    "\n",
    "\n",
    "1. **Proportional Controller (P)**:\n",
    "    \n",
    "- Circuit: \n",
    "    \n",
    "    <table> \n",
    "<tr>\n",
    "    <td> <img src=\"./pics/08_control_system_components_op-amps-P.png\" alt=\"op-amps-P\" style=\"width: 350px;\"/>\n",
    "</tr></table>\n",
    "      \n",
    "    \n",
    "- Transfer function: \n",
    "\n",
    "$$\n",
    "\\frac{E_0(s)}{E_i(s)}=-\\frac{R2}{R1}\n",
    "$$\n",
    "\n",
    "- Note that with two circuits in serie we can get rid of the minus sign.\n",
    "    \n",
    "    \n",
    "2. **Proportional-Integral Controller (PI)**:\n",
    "    \n",
    "- Circuit: \n",
    "\n",
    "    <table> \n",
    "<tr>\n",
    "    <td> <img src=\"./pics/08_control_system_components_op-amps-PI.png\" alt=\"op-amps-P\" style=\"width: 350px;\"/>\n",
    "</tr></table>\n",
    "\n",
    "    \n",
    "- Transfer function: \n",
    "   \n",
    "$$\n",
    "\\frac{E_0(s)}{E_i(s)}=-\\frac{R_2+\\frac{1}{sC}}{R_1} = -\\frac{R_2}{R_1} - \\frac{1}{R_1C}\\frac{1}{s}\n",
    "$$\n",
    " \n",
    "that we can write it as:\n",
    " \n",
    "$$\n",
    "e_0(t) = -\\frac{R_2}{R_1}e_i(t) - \\frac{1}{R_1C}\\int_{0}^{t}e_i(\\tau)d\\tau\n",
    "$$\n",
    "    \n",
    "    \n",
    "    \n",
    "3. **Proportional-Derivative Controller (PD)**:\n",
    "    \n",
    "- Circuit:\n",
    "\n",
    "    <table> \n",
    "<tr>\n",
    "    <td> <img src=\"./pics/08_control_system_components_op-amps-PD.png\" alt=\"op-amps-P\" style=\"width: 350px;\"/>\n",
    "</tr></table>\n",
    "\n",
    "\n",
    "- Transfer function: \n",
    "\n",
    "$$\n",
    "\\frac{E_0(s)}{E_i(s)}=\\frac{\\frac{R_2}{R_1\\frac{1}{sC}}}{R_1+\\frac{1}{sC}}\n",
    "$$\n",
    "\n",
    "and with simple manipulations we can obtain the standard structure.\n",
    "    \n",
    "4. **Proportional-Integral-Derivative Controller (PID)**:\n",
    "    \n",
    "- Circuit: \n",
    "    \n",
    "    <table> \n",
    "<tr>\n",
    "    <td> <img src=\"./pics/08_control_system_components_op-amps-PID-impedence.png\" alt=\"op-amps-P\" style=\"width: 350px;\"/>\n",
    "</tr></table>    \n",
    "    \n",
    "    \n",
    "- Transfer function: \n",
    "        \n",
    "$$\n",
    "\\frac{E_0(s)}{E_i(s)} = -\\frac{Z_2(s)}{Z_1(s)}\n",
    "$$\n",
    "\n"
   ]
  },
  {
   "cell_type": "markdown",
   "id": "01494c28",
   "metadata": {},
   "source": [
    "where\n",
    "\n",
    "$$\n",
    "Z_1 = \\frac{R_1}{R_1C_1s+1} \\;\\;\\;\\; Z_2=\\frac{R_2C_2s+1}{C_2s}\n",
    "$$"
   ]
  },
  {
   "cell_type": "markdown",
   "id": "859f3385",
   "metadata": {},
   "source": [
    "-----"
   ]
  },
  {
   "cell_type": "markdown",
   "id": "2449b172",
   "metadata": {},
   "source": [
    "### Op-Amps\n",
    "\n",
    "- An op-amp, short for operational amplifier, is a type of electronic component that amplifies voltage. It's essentially a device that takes in two voltage inputs, compares them, and outputs the difference between these voltages multiplied by a very high number. The two inputs are known as the inverting input (marked with a minus sign) and the non-inverting input (marked with a plus sign). The output attempts to make the difference between the inputs zero by amplifying the voltage difference.\n",
    "\n",
    "- Op-amps are fundamental components in electronics, widely used for signal conditioning, filtering, and to perform mathematical operations such as addition, subtraction, integration, and differentiation, hence the name \"operational\" amplifier. Their capability to amplify the difference between the voltages at their two inputs (the non-inverting \"+\" and the inverting \"-\") is what makes them so useful across various applications. The actual behavior of an op-amp in a circuit depends on how it is configured, including the external components connected to it, which can control its gain and other characteristics.\n"
   ]
  },
  {
   "cell_type": "markdown",
   "id": "2af71df5",
   "metadata": {},
   "source": [
    "<table> \n",
    "<tr>\n",
    "    <td> <img src=\"./pics/08_control_system_components_op_amps.png\" alt=\"op-amps\" style=\"width: 350px;\"/>\n",
    "    </td>\n",
    "</tr></table>   \n"
   ]
  },
  {
   "cell_type": "markdown",
   "id": "9baef845",
   "metadata": {},
   "source": [
    "- The input voltages $v_1, v_2$ can be DC or AC are often measured with respect to ground which acts as a reference.\n",
    "\n",
    "- The output voltage is:\n",
    "$$\n",
    "v_0 = K(v_2-v_1) = -K(v_1-v_2)\n",
    "$$\n",
    "\n",
    "- $K$ is called (differential) gain and is usually a very large value. It can be as high as $1e5$ or $1e6$ for signal frequencies less than $10Hz$, and decreases for higher frequencies (goes to $\\approx 1$ for frequencies $> 1MHz$).\n",
    "\n",
    "- It is also called differential amplifier because it amplifies the difference between the inputs $v_1$ and $v_2$.\n",
    "\n",
    "- Since its gain is very high it needs a negative feedback to be stabilised. This negative feedback is hence done on the inverted input (negative).\n",
    "\n",
    "- In an ideal op-amp no current flows through the input terminals (input impedence is $\\infty$).\n",
    "- The load has no effect on the output voltage $v_o$ (output impedence is zero)."
   ]
  },
  {
   "cell_type": "markdown",
   "id": "ceeb400c",
   "metadata": {},
   "source": [
    "### Inverting Amplifier (P)\n",
    "\n",
    "Let's analyse the proportional controller once again:\n",
    "\n",
    "<table> \n",
    "<tr>\n",
    "    <td> <img src=\"./pics/08_control_system_components_op_amp_P_revisited.png\" alt=\"op-amps-P-revisited\" style=\"width: 350px;\"/>\n",
    "    </td>\n",
    "</tr></table>\n",
    "\n"
   ]
  },
  {
   "cell_type": "markdown",
   "id": "6c581dae",
   "metadata": {},
   "source": [
    "For this circuit we can write:\n",
    "\n",
    "$$\n",
    "i_1 = \\frac{e_i - v'}{R_1}\n",
    "$$\n",
    "\n",
    "$$\n",
    "i_2 = \\frac{v' - e_0}{R_2}\n",
    "$$\n",
    "\n",
    "- Since no current can flow through the op-amp, $i_1 = i_2$ and hence:\n",
    "\n",
    "$$\n",
    "\\frac{e_i - v'}{R_1} = \\frac{v' - e_0}{R_2}\n",
    "$$"
   ]
  },
  {
   "cell_type": "markdown",
   "id": "5918a2f7",
   "metadata": {},
   "source": [
    "Given that:\n",
    "\n",
    "$$\n",
    "v_0 = K(v_2-v_1) = K(0 - v')\n",
    "$$\n",
    "\n",
    "and $K >> 1$, $v'$ must be close to zero: $v' \\approx 0$ and hence:\n",
    "\n",
    "$$\n",
    "\\frac{e_i}{R_1} = \\frac{- e_0}{R_2} \\Rightarrow \\frac{e_0}{e_i} = \\frac{- R_2}{R_1}\n",
    "$$"
   ]
  },
  {
   "cell_type": "code",
   "execution_count": null,
   "id": "9a81ecf9",
   "metadata": {},
   "outputs": [],
   "source": []
  }
 ],
 "metadata": {
  "kernelspec": {
   "display_name": "python3",
   "language": "python",
   "name": "python3"
  }
 },
 "nbformat": 4,
 "nbformat_minor": 5
}
