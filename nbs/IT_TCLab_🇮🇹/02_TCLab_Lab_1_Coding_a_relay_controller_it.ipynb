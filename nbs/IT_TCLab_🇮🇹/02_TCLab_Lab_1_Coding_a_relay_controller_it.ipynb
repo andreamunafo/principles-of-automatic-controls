{
  "cells": [
    {
      "cell_type": "markdown",
      "id": "625bc3f0",
      "metadata": {},
      "source": "# TCLab Lab 1: Codifica di un controller relè"
    },
    {
      "cell_type": "markdown",
      "id": "d7ffed76",
      "metadata": {},
      "source": "Lo scopo di questa prima sessione di laboratorio è verificare la tua capacità di interfacciarti e interagire con l'hardware TCLab e familiarizzare con la libreria TCLab. Il primo esercizio consisterà nel codificare un rudimentale controller a relè (chiamato anche \"on-off\" o termostato) per uno dei due riscaldatori.\n\nPrima di iniziare, dovresti avere familiarità con i seguenti materiali di lettura:\n\n* [Controllo On-Off nella Sezione 1.6 di *Controllo del feedback per scienziati e ingegneri*](http://www.cds.caltech.edu/~murray/books/AM08/pdf/fbs-intro_07Aug2019.pdf#page=19 )\n* [01_Understanding_TCLab](./01_Understanding_TCLab.ipynb)"
    },
    {
      "cell_type": "markdown",
      "id": "ca2f8cbf",
      "metadata": {},
      "source": "## Esercizio 1. Scarica e installa TCLab.py\n\nEsegui la cella seguente per scaricare e installare la libreria Python TCLab.py."
    },
    {
      "cell_type": "code",
      "execution_count": null,
      "id": "a0df12bb",
      "metadata": {},
      "outputs": [],
      "source": [
        "!pip install tclab --upgrade"
      ]
    },
    {
      "cell_type": "markdown",
      "id": "429ad66d",
      "metadata": {},
      "source": "## Esercizio 2. Verifica che l'hardware e il software funzionino correttamente.\n\nLa cella seguente dovrebbe far sì che il LED sullo schermo TCLab si accenda fino al 100% di luminosità massima."
    },
    {
      "cell_type": "code",
      "execution_count": null,
      "id": "e6b86fdc",
      "metadata": {},
      "outputs": [],
      "source": [
        "from tclab import TCLab\n",
        "\n",
        "with TCLab() as lab:\n",
        "    lab.LED(0)"
      ]
    },
    {
      "cell_type": "markdown",
      "id": "2bb65b3a",
      "metadata": {},
      "source": "## Esercizio 3. Accendi i riscaldatori per 120 secondi e registra la risposta della temperatura.\n\nPer questo esercizio, scrivi una cella di codice che accende il riscaldatore 1 al 100% della potenza, quindi registra la risposta della temperatura una volta al secondo per 120 secondi. L'output della cella dovrebbe riportare l'ora, il livello di potenza e la temperatura per ciascuna misurazione. Potresti voler consultare il taccuino [01_Understanding_TCLab](./01_Understanding_TCLab.ipynb) per esempi di codice rilevanti. Per questo esercizio avrai bisogno della funzione `clock` di `tclab`."
    },
    {
      "cell_type": "code",
      "execution_count": null,
      "id": "c3d28a23",
      "metadata": {},
      "outputs": [],
      "source": [
        "# put your code here."
      ]
    },
    {
      "cell_type": "markdown",
      "id": "fd96badc",
      "metadata": {},
      "source": "## Esercizio 4. Codifica un controller on-off.\n\nCodificare un controller on-off per un setpoint di 40 gradi C utilizzando il riscaldatore 1 come variabile manipolata e la temperatura 1 come variabile misurata. Utilizzare il controller per almeno 5 minuti (600 secondi), segnalando le misurazioni di tempo/potenza/temperatura ogni 2 secondi."
    },
    {
      "cell_type": "code",
      "execution_count": null,
      "id": "bd2bac90",
      "metadata": {},
      "outputs": [],
      "source": [
        "# put your code here."
      ]
    },
    {
      "cell_type": "markdown",
      "id": "35a6d147",
      "metadata": {},
      "source": "## Esercizio 5. Analisi\n\nEsamina i risultati dell’esercizio precedente e rispondi alle seguenti domande.\n\n1. Quanto tempo trascorre approssimativamente tra gli eventi di accensione e spegnimento?\n\n2. Qual è il ciclo di lavoro approssimativo (ovvero, la frazione di tempo in cui il riscaldatore è nello stato \"acceso\") una volta trascorso il periodo di avvio iniziale.\n\n3. Qual è l'entità dell'oscillazione attorno al setpoint? Perché succede questo?"
    },
    {
      "cell_type": "code",
      "execution_count": null,
      "id": "7c6ec10b",
      "metadata": {},
      "outputs": [],
      "source": []
    }
  ],
  "metadata": {
    "kernelspec": {
      "display_name": "python3",
      "language": "python",
      "name": "python3"
    }
  },
  "nbformat": 4,
  "nbformat_minor": 5
}