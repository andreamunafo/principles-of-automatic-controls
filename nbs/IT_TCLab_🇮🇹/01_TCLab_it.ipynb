{
 "cells": [
  {
   "cell_type": "markdown",
   "id": "1cf06128",
   "metadata": {},
   "source": [
    "# Il Laboratorio di Controllo della Temperatura"
   ]
  },
  {
   "cell_type": "markdown",
   "id": "f9fc5a13",
   "metadata": {},
   "source": [
    "La risorsa principale per TCLab è disponibile su [apmonitor.com](http://apmonitor.com/pdc/index.php/Main/ArduinoTemperatureControl).\n",
    "\n",
    "Nelle sezioni successive esploreremo le complessità della modellazione dinamica, comprendendo le risposte del sistema e l'implementazione di varie strategie di controllo.\n",
    "\n",
    "Il nostro approccio comporterà l'utilizzo della programmazione Python per interagire con l'hardware TCLab, condurre analisi dei dati e visualizzare in modo efficace i comportamenti del sistema."
   ]
  },
  {
   "cell_type": "markdown",
   "id": "946d5ad3",
   "metadata": {},
   "source": [
    "## Cos'è TCLab?\n",
    "\n",
    "TCLab è una configurazione da laboratorio compatta che include un microcontrollore Arduino, riscaldatori, sensori di temperatura e un LED. È progettato per apprendere e applicare i principi dell'ingegneria di controllo in modo pratico."
   ]
  },
  {
   "cell_type": "markdown",
   "id": "5ae2be1c",
   "metadata": {},
   "source": [
    "<img src='../TCLab/pics/B.00-arduino_lab_kit.png' style=\"float: right; padding-left:0px; width:500px;\"></img>\n",
    "\n",
    "L'hardware del Laboratorio di controllo della temperatura è costituito da cinque componenti:\n",
    "\n",
    "1. **Microcontrollore Arduino** (Arduino Uno, Arduino Leonardo o equivalenti): funge da cervello della configurazione.\n",
    "\n",
    "2. **La scheda plug-in del Laboratorio di controllo della temperatura** (nota anche come scudo). Include:\n",
    "   - **Riscaldatori**: forniscono energia termica al sistema.\n",
    "   - **Sensori di temperatura**: misura la temperatura del sistema.\n",
    "   - **LED**: indicatore visivo per determinate azioni o stati.\n",
    "\n",
    "3. Alimentatore USB da cinque watt.\n",
    "\n",
    "4. Cavo di alimentazione da 5,5 mm a USB.\n",
    "\n",
    "5. Cavo dati USB 2.0. (con connettore mini-USB per Arduino Uno o cavo micro-USB per Arduino Leonardo.)\n",
    "\n",
    "Prima di procedere, assicurati di completare i passaggi delineati in *Configurazione hardware* come descritto in TCLab [README](https://github.com/jckantor/TCLab/blob/master/README.rst).\n",
    "\n",
    "Gli utenti Mac OS potrebbero dover installare un driver seriale disponibile [qui](https://github.com/adrianmihalko/ch340g-ch34g-ch34x-mac-os-x-driver).\n",
    "\n",
    "Normalmente lo scudo TCLab sarà già montato sulla scheda Arduino e il driver del firmware sarà stato caricato su Arduino."
   ]
  },
  {
   "cell_type": "markdown",
   "id": "1f5f41d9",
   "metadata": {},
   "source": [
    "<table>\n",
    "    <tr>\n",
    "    <td>\n",
    "        <img src=\"../TCLab/pics/tclab_transparent.png\" alt=\"tclab_transparent\" style=\"width: 450px;\"/>\n",
    "    </td>\n",
    "    </tr>\n",
    "</table>"
   ]
  },
  {
   "cell_type": "markdown",
   "id": "c3fff7e8",
   "metadata": {},
   "source": [
    "## Comprendere il kit TCLab\n",
    "\n",
    "### I componenti principali di TCLab\n",
    "\n",
    "Il Temperature Control Lab (TCLab) è un sistema integrato composto da diversi componenti chiave, ciascuno dei quali contribuisce in modo significativo alla sua funzionalità:\n",
    "\n",
    "1. **Microcontrollore Arduino**:\n",
    "   - **Scopo**: Serve come unità di elaborazione centrale per TCLab.\n",
    "   - **Funzionalità**: elabora i dati di input dai sensori di temperatura e gestisce il funzionamento dei riscaldatori.\n",
    "   - **Connettività**: utilizza una connessione USB per il trasferimento dei dati e consente il controllo in tempo reale tramite script Python.\n",
    "\n",
    "2. **Riscaldatori**:\n",
    "   - **Descrizione**: TCLab è dotato di due riscaldatori, ciascuno in grado di generare energia termica regolabile.\n",
    "   - **Ruolo**: Agire come principale fonte di calore per gli esperimenti, replicando scenari che richiedono la regolazione della temperatura. Funzionano come gli **attuatori** del sistema.\n",
    "\n",
    "3. **Sensori di temperatura**:\n",
    "   - **Tipo**: questi sensori sono termistori, un tipo di resistore la cui resistenza varia con le variazioni di temperatura.\n",
    "   - **Intervallo di misurazione**: in grado di misurare temperature comprese tra $ -40^\\circ$C e $150^\\circ$C.\n",
    "   - **Funzionalità**: posizionato vicino a ciascun riscaldatore per misurare con precisione la temperatura, fornendo un feedback essenziale per il controllo della temperatura.\n",
    "\n",
    "4. **Dissipatori di calore**:\n",
    "   - **Tipo**: Composto da dissipatori di calore a transistor.\n",
    "   - **Scopo**: impiegato per dissipare in modo efficiente il calore lontano dai transistor.\n",
    "   \n",
    "5. **LED (diodo a emissione luminosa)**:\n",
    "  - **Scopo**: Serve come indicatore visivo per vari stati o azioni, come segnalare l'attivazione di un riscaldatore.\n",
    "\n",
    "### Configurazioni operative di TCLab\n",
    "\n",
    "TCLab può essere configurato in varie modalità a seconda degli obiettivi formativi:\n",
    "\n",
    "1. **Ingresso singolo Uscita singola (SISO)**:\n",
    "   - Utilizza solo un riscaldatore e un sensore. Ideale per semplici esperimenti di controllo e per apprendere le basi del controllo della temperatura.\n",
    "\n",
    "2. **Ingresso singolo Uscita singola (SISO) con disturbo**:\n",
    "   - Utilizza un riscaldatore/sensore come sistema di controllo primario e il secondo riscaldatore come fonte di disturbo esterno. Questa configurazione è utile per comprendere come i fattori esterni influenzano i sistemi di controllo.\n",
    "\n",
    "3. **Ingressi multipli Uscite multiple (MIMO)**:\n",
    "   - Implica l'utilizzo simultaneo di riscaldatori e sensori. Questa configurazione più avanzata non è trattata qui ma è utile per studi di sistemi di controllo complessi.\n",
    "\n",
    "Ogni componente del TCLab svolge un ruolo specifico, rendendolo uno strumento versatile per insegnare e sperimentare vari aspetti dell'ingegneria di controllo. Sia per l'apprendimento fondamentale che per l'esplorazione avanzata, TCLab offre una piattaforma pratica per comprendere la dinamica e il controllo dei sistemi basati sulla temperatura."
   ]
  },
  {
   "cell_type": "markdown",
   "id": "70db6ee6",
   "metadata": {},
   "source": [
    "<table>\n",
    "    <tr>\n",
    "    <td>\n",
    "        <img src=\"../TCLab/pics/tclab_heater.png\" alt=\"tclab_heater\" style=\"width: 450px;\"/>\n",
    "    </td>\n",
    "    <td>\n",
    "        <img src=\"../TCLab/pics/tclab_temperature_sensor.png\" alt=\"tclab_temperature_sensor\" style=\"width: 450px;\"/>\n",
    "    </td>\n",
    "    </tr>\n",
    "</table>"
   ]
  },
  {
   "cell_type": "markdown",
   "id": "fc3b564e",
   "metadata": {},
   "source": [
    "<table>\n",
    "    <tr>\n",
    "    <td>\n",
    "        <img src=\"../TCLab/pics/tclab_radiator.png\" alt=\"tclab_temperature_sensor\" style=\"width: 450px;\"/>\n",
    "    </td>\n",
    "    </tr>\n",
    "</table>"
   ]
  },
  {
   "cell_type": "markdown",
   "id": "c5442d35",
   "metadata": {},
   "source": [
    "## Come funziona TCLab\n",
    "\n",
    "- **Flusso operativo**:\n",
    "  1. **Segnale di ingresso**: uno script Python invia un comando ad Arduino, impostando il livello di potenza desiderato per i riscaldatori.\n",
    "  2. **Azione di riscaldamento**: i riscaldatori generano calore corrispondente ai comandi del livello di potenza ricevuti.\n",
    "  3. **Misurazione della temperatura**: i termistori misurano le temperature risultanti vicino ai riscaldatori.\n",
    "  4. **Ciclo di feedback**: queste letture della temperatura vengono inviate al computer.\n",
    "  5. **Regolazioni**: l'algoritmo di controllo nello script Python regola la potenza del riscaldatore in base al feedback della temperatura, cercando di raggiungere e mantenere una temperatura target.\n",
    "\n",
    "**[Inserisci qui il diagramma di flusso o il diagramma che mostra il ciclo di feedback]**\n",
    "\n",
    "---"
   ]
  },
  {
   "cell_type": "markdown",
   "id": "c1ade87b",
   "metadata": {},
   "source": []
  },
  {
   "cell_type": "markdown",
   "id": "12730193",
   "metadata": {},
   "source": [
    "# Sezione 2: Uno sguardo approfondito ai componenti TCLab\n",
    "\n",
    "## 2.1 Microcontrollore Arduino\n",
    "\n",
    "- **Descrizione dettagliata**: Fornisci dettagli sul modello Arduino utilizzato in TCLab, le sue capacità e i suoi limiti"
   ]
  },
  {
   "cell_type": "markdown",
   "id": "b59fa2c8",
   "metadata": {},
   "source": [
    "<table>\n",
    "    <tr>\n",
    "    <td>\n",
    "        <img src=\"../TCLab/pics/tclab_heater.png\" alt=\"tclab_heater\" style=\"width: 450px;\"/>\n",
    "    </td>\n",
    "    <td>\n",
    "        <img src=\"../TCLab/pics/tclab_radiator.png\" alt=\"tclab_radiator\" style=\"width: 450px;\"/>\n",
    "    </td>\n",
    "    </tr>\n",
    "</table>\n",
    "\n",
    "\n",
    "<table>\n",
    "    <tr>\n",
    "    <td>\n",
    "        <img src=\"../TCLab/pics/tclab_temperature_sensor.png\" alt=\"tclab_temperature_sensor\" style=\"width: 450px;\"/>\n",
    "    </td>\n",
    "    </tr>\n",
    "</table>"
   ]
  },
  {
   "cell_type": "markdown",
   "id": "f7973c1b",
   "metadata": {},
   "source": [
    "### Obiettivi:\n",
    "\n",
    "- Modellazione dinamica con equazioni di bilancio\n",
    "- La differenza tra controllo manuale e automatico\n",
    "- Test di passaggio per generare dati dinamici\n",
    "- Adattamento dei dati dinamici a un modello First Order Plus Dead Time (FOPDT).\n",
    "- Ottenimento dei parametri per il controllo PID dalle regole di ottimizzazione standard\n",
    "- Ottimizzazione del controller PID per migliorare le prestazioni"
   ]
  },
  {
   "cell_type": "markdown",
   "id": "e2392ade",
   "metadata": {},
   "source": [
    "## Descrizione dell'hardware TCLab\n",
    "\n",
    "Includere uno schema a blocchi"
   ]
  },
  {
   "cell_type": "markdown",
   "id": "a9a33b1c",
   "metadata": {},
   "source": [
    "----"
   ]
  },
  {
   "cell_type": "markdown",
   "id": "8a31bde2",
   "metadata": {},
   "source": [
    "# Configurazione di TCLab\n",
    "\n",
    "\n",
    "Questa guida fornisce istruzioni passo passo per configurare il Laboratorio di Controllo della Temperatura (TCLab), partendo dall'installazione di Python su diversi sistemi operativi fino alla conduzione dei test iniziali con TCLab e il suo simulatore."
   ]
  },
  {
   "cell_type": "markdown",
   "id": "4c927833",
   "metadata": {},
   "source": [
    "## Sezione 1: Installazione di Python utilizzando Conda"
   ]
  },
  {
   "cell_type": "markdown",
   "id": "75f2b46e",
   "metadata": {},
   "source": [
    "## Installazione di Python su Mac\n",
    "\n",
    "### Passaggio 1: installa Anaconda\n",
    "\n",
    "- **Scarica Anaconda**: visita la [Pagina di download di Anaconda](https://www.anaconda.com/products/individual) e scarica il programma di installazione per Mac.\n",
    "- **Esegui il programma di installazione**: apri il file scaricato e segui le istruzioni visualizzate sullo schermo.\n",
    "- **Verifica installazione**:\n",
    "  - Apri Terminale.\n",
    "  - Digita \"conda --version\" e premi Invio. Se Anaconda è stato installato correttamente, vedrai il numero di versione.\n",
    "\n",
    "### Passaggio 2: configurazione dell'ambiente (facoltativo)\n",
    "\n",
    "- **Crea un nuovo ambiente**: nel Terminale, digita `conda create -n tclab_env python=3.8` e premi Invio.\n",
    "- **Attiva ambiente**: digita \"conda activate tclab_env\" e premi Invio."
   ]
  },
  {
   "cell_type": "markdown",
   "id": "a0d0653b",
   "metadata": {},
   "source": [
    "## Installazione di Python su Windows\n",
    "\n",
    "### Passaggio 1: installa Anaconda\n",
    "\n",
    "- **Scarica Anaconda**: visita la [Pagina di download di Anaconda](https://www.anaconda.com/products/individual) e scarica il programma di installazione per Windows.\n",
    "- **Esegui il programma di installazione**: apri il file scaricato e segui le istruzioni visualizzate sullo schermo.\n",
    "- **Verifica installazione**:\n",
    "  - Apri il prompt di Anaconda.\n",
    "  - Digita \"conda --version\" e premi Invio.\n",
    "\n",
    "### Passaggio 2: configurazione dell'ambiente (facoltativo)\n",
    "\n",
    "- **Crea un nuovo ambiente**: nel prompt di Anaconda, digita \"conda create -n tclab_env python=3.8\" e premi Invio.\n",
    "- **Attiva ambiente**: digita \"conda activate tclab_env\" e premi Invio."
   ]
  },
  {
   "cell_type": "markdown",
   "id": "a4435627",
   "metadata": {},
   "source": [
    "## 1.3 Installazione di Python su Linux\n",
    "\n",
    "### Passaggio 1: installa Anaconda\n",
    "\n",
    "- **Scarica Anaconda**: visita la [Pagina di download di Anaconda](https://www.anaconda.com/products/individual) e scarica il programma di installazione per Linux.\n",
    "- **Esegui programma di installazione**: apri Terminale, vai alla directory contenente il file scaricato ed esegui lo script utilizzando `bash Anaconda3-XXXX.sh`.\n",
    "- **Verifica installazione**:\n",
    "  - Nel Terminale, digita \"conda --version\".\n",
    "\n",
    "### Passaggio 2: configurazione dell'ambiente (facoltativo)\n",
    "\n",
    "- **Crea un nuovo ambiente**: nel Terminale, digita `conda create -n tclab_env python=3.8` e premi Invio.\n",
    "- **Attiva ambiente**: digita \"conda activate tclab_env\" e premi Invio."
   ]
  },
  {
   "cell_type": "markdown",
   "id": "b9e27af2",
   "metadata": {},
   "source": [
    "---"
   ]
  },
  {
   "cell_type": "markdown",
   "id": "d66f204d",
   "metadata": {},
   "source": [
    "# Sezione 2: Configurazione di TCLab"
   ]
  },
  {
   "cell_type": "markdown",
   "id": "7091fd8b",
   "metadata": {},
   "source": [
    "## Configurazione dell'ambiente Conda\n",
    "\n",
    "Per configurare l'ambiente Conda per questo corso, attenersi alla seguente procedura:\n",
    "\n",
    "1. Scarica il file `tclab_environment.yml` da questo repository.\n",
    "2. Apri il terminale o il prompt di Anaconda e vai alla directory in cui si trova il file.\n",
    "\n",
    "Il file `tclab_environment.yml` assomiglia a questo:\n",
    "\n",
    "``` tclab_environment.yml\n",
    "nome: tclab_env\n",
    "canali:\n",
    "  - valori predefiniti\n",
    "dipendenze:\n",
    "  - pitone=3.10\n",
    "  - pip\n",
    "  - insensato\n",
    "  - matplotlib\n",
    "  - scipito\n",
    "  - panda\n",
    "  - pip:\n",
    "    -tclab\n",
    "```\n",
    "\n",
    "\n",
    "3. Crea l'ambiente dal file `tclab_environment.yml`:\n",
    "\n",
    "    ```conda env create -f tclab_environment.yml```\n",
    "\n",
    "4. Attiva il nuovo ambiente:\n",
    "    \n",
    "    ```conda attiva tclab```\n",
    "    \n",
    "5. Per verificare che l'ambiente sia stato installato correttamente, è possibile utilizzare:\n",
    "\n",
    "    ```conda env list```"
   ]
  },
  {
   "cell_type": "markdown",
   "id": "9696054a",
   "metadata": {},
   "source": [
    "### Installazione del pacchetto TCLab\n",
    "\n",
    "1. **Attivazione dell'ambiente**:\n",
    "   - Assicurati che il tuo ambiente Anaconda sia attivo. Apri il tuo Terminale (o il prompt di Anaconda su Windows) e attiva il tuo ambiente:\n",
    "     ```\n",
    "     conda attiva tclab_env\n",
    "     ```\n",
    "\n",
    "2. **Installazione di TCLab**:\n",
    "   - La libreria `tclab` è fondamentale per l'interfacciamento con l'hardware del Laboratorio di controllo della temperatura. Installalo inserendo il seguente comando:\n",
    "     ```\n",
    "     pip installa tclab\n",
    "     ```\n",
    "   - Premi Invio per eseguire il comando e completare l'installazione.\n",
    "\n",
    "#### Installazione di librerie utili aggiuntive\n",
    "\n",
    "Per un'esperienza completa con TCLab e per supportare vari aspetti dell'ingegneria di controllo e dell'analisi dei dati, verranno installate anche le seguenti librerie:\n",
    "\n",
    "1. **insensibile**:\n",
    "   - Significato: una libreria fondamentale per i calcoli numerici in Python.\n",
    "   - Comando di installazione:\n",
    "     ```\n",
    "     pip installa numpy\n",
    "     ```\n",
    "\n",
    "2. **matplotlib**:\n",
    "   - Significato: fondamentale per creare rappresentazioni visive dei dati, in particolare per l'analisi degli esperimenti TCLab.\n",
    "   - Comando di installazione:\n",
    "     ```\n",
    "     pip installa matplotlib\n",
    "     ```\n",
    "\n",
    "3. **scipy**:\n",
    "   - Significato: fornisce un'ampia gamma di strumenti per il calcolo scientifico, compresi metodi per risolvere equazioni differenziali ordinarie, utili nella modellizzazione dei sistemi.\n",
    "   - Comando di installazione:\n",
    "     ```\n",
    "     pip installa scipy\n",
    "     ```\n",
    "\n",
    "4. **panda**:\n",
    "   - Significato: offre funzionalità estese per la manipolazione e l'analisi dei dati, ideali per la gestione di set di dati complessi.\n",
    "   - Comando di installazione:\n",
    "     ```\n",
    "     pip installa panda\n",
    "     ```\n",
    "\n",
    "5. **geco**:\n",
    "   - Significatività: pacchetto avanzato per l'ottimizzazione e il controllo, adatto all'implementazione di strategie di controllo predittivo del modello.\n",
    "   - Comando di installazione:\n",
    "     ```\n",
    "     pip installa gekko\n",
    "     ```"
   ]
  },
  {
   "cell_type": "markdown",
   "id": "a554e7bc",
   "metadata": {},
   "source": [
    "## Schemi TCLab\n",
    "\n",
    "<table>\n",
    "    <tr>\n",
    "    <td>\n",
    "        <img src=\"../TCLab/pics/tclab_schematic.png\" alt=\"tclab_schematic\" style=\"width: 450px;\"/>\n",
    "    </td>\n",
    "    </tr>\n",
    "</table>"
   ]
  },
  {
   "cell_type": "markdown",
   "id": "7c88050a",
   "metadata": {},
   "source": [
    "## Test iniziali con TCLab\n",
    "\n",
    "### Passaggio 1: collega TCLab\n",
    "\n",
    "- **Connetti TCLab**: collega il dispositivo TCLab al computer utilizzando un cavo USB.\n",
    "\n",
    "### Passaggio 2: testare la connessione TCLab\n",
    "\n",
    "- **Scrivi script di prova**:\n",
    "  - Apri il tuo IDE Python o Jupyter Notebook.\n",
    "  - Scrivi il seguente codice Python ed esegui lo script. Se stampa la temperatura, TCLab è collegato correttamente."
   ]
  },
  {
   "cell_type": "code",
   "execution_count": null,
   "id": "457ddd4c",
   "metadata": {},
   "outputs": [
    {
     "name": "stdout",
     "output_type": "stream",
     "text": [
      "TCLab version 1.0.0\n",
      "--- Serial Ports ---\n",
      "/dev/cu.BLTH n/a n/a\n",
      "/dev/cu.BlueBeatsStudio n/a n/a\n",
      "/dev/cu.Bluetooth-Incoming-Port n/a n/a\n"
     ]
    },
    {
     "ename": "RuntimeError",
     "evalue": "No Arduino device found.",
     "output_type": "error",
     "traceback": [
      "\u001b[0;31m---------------------------------------------------------------------------\u001b[0m",
      "\u001b[0;31mRuntimeError\u001b[0m                              Traceback (most recent call last)",
      "Cell \u001b[0;32mIn[1], line 2\u001b[0m\n\u001b[1;32m      1\u001b[0m \u001b[38;5;28;01mimport\u001b[39;00m \u001b[38;5;21;01mtclab\u001b[39;00m\n\u001b[0;32m----> 2\u001b[0m \u001b[38;5;28;01mwith\u001b[39;00m \u001b[43mtclab\u001b[49m\u001b[38;5;241;43m.\u001b[39;49m\u001b[43mTCLab\u001b[49m\u001b[43m(\u001b[49m\u001b[43m)\u001b[49m \u001b[38;5;28;01mas\u001b[39;00m lab:\n\u001b[1;32m      3\u001b[0m     \u001b[38;5;28mprint\u001b[39m(\u001b[38;5;124mf\u001b[39m\u001b[38;5;124m\"\u001b[39m\u001b[38;5;124mConnected! Heater 1 is at \u001b[39m\u001b[38;5;132;01m{\u001b[39;00mlab\u001b[38;5;241m.\u001b[39mT1\u001b[38;5;132;01m}\u001b[39;00m\u001b[38;5;124m°C\u001b[39m\u001b[38;5;124m\"\u001b[39m)\n",
      "File \u001b[0;32m~/opt/anaconda3/envs/tclab/lib/python3.10/site-packages/tclab/tclab.py:61\u001b[0m, in \u001b[0;36mTCLab.__init__\u001b[0;34m(self, port, debug)\u001b[0m\n\u001b[1;32m     59\u001b[0m \u001b[38;5;28mself\u001b[39m\u001b[38;5;241m.\u001b[39mport, \u001b[38;5;28mself\u001b[39m\u001b[38;5;241m.\u001b[39marduino \u001b[38;5;241m=\u001b[39m find_arduino(port)\n\u001b[1;32m     60\u001b[0m \u001b[38;5;28;01mif\u001b[39;00m \u001b[38;5;28mself\u001b[39m\u001b[38;5;241m.\u001b[39mport \u001b[38;5;129;01mis\u001b[39;00m \u001b[38;5;28;01mNone\u001b[39;00m:\n\u001b[0;32m---> 61\u001b[0m     \u001b[38;5;28;01mraise\u001b[39;00m \u001b[38;5;167;01mRuntimeError\u001b[39;00m(\u001b[38;5;124m'\u001b[39m\u001b[38;5;124mNo Arduino device found.\u001b[39m\u001b[38;5;124m'\u001b[39m)\n\u001b[1;32m     63\u001b[0m \u001b[38;5;28;01mtry\u001b[39;00m:\n\u001b[1;32m     64\u001b[0m     \u001b[38;5;28mself\u001b[39m\u001b[38;5;241m.\u001b[39mconnect(baud\u001b[38;5;241m=\u001b[39m\u001b[38;5;241m115200\u001b[39m)\n",
      "\u001b[0;31mRuntimeError\u001b[0m: No Arduino device found."
     ]
    }
   ],
   "source": [
    "import tclab\n",
    "with tclab.TCLab() as lab:\n",
    "    print(f\"Connected! Heater 1 is at {lab.T1}°C\")"
   ]
  },
  {
   "cell_type": "markdown",
   "id": "afdb157d",
   "metadata": {},
   "source": [
    "## Utilizzo del simulatore TCLab\n",
    "\n",
    "- **Perché utilizzare un simulatore**: il simulatore TCLab è utile quando non si dispone dell'hardware fisico.\n",
    "- **Installa simulatore**: nel terminale o nel prompt di Anaconda, digita nuovamente `pip install tclab` (include il simulatore).\n",
    "- **Script di prova con simulatore**:"
   ]
  },
  {
   "cell_type": "code",
   "execution_count": null,
   "id": "3bdb3466",
   "metadata": {},
   "outputs": [
    {
     "name": "stdout",
     "output_type": "stream",
     "text": [
      "TCLab version 1.0.0\n",
      "Simulated TCLab\n",
      "Time 0 seconds. T1: 20.949499999999997°C\n",
      "Time 2.01 seconds. T1: 20.949499999999997°C\n",
      "Time 4.04 seconds. T1: 20.949499999999997°C\n",
      "Time 6.03 seconds. T1: 20.949499999999997°C\n",
      "Time 8.06 seconds. T1: 20.949499999999997°C\n",
      "Time 10.07 seconds. T1: 20.949499999999997°C\n",
      "Time 12.02 seconds. T1: 20.949499999999997°C\n",
      "Time 14.03 seconds. T1: 20.949499999999997°C\n",
      "Time 16.15 seconds. T1: 20.949499999999997°C\n",
      "Time 18.04 seconds. T1: 20.949499999999997°C\n",
      "Time 20.2 seconds. T1: 20.949499999999997°C\n",
      "Time 22.01 seconds. T1: 20.949499999999997°C\n",
      "Time 24.19 seconds. T1: 20.949499999999997°C\n",
      "Time 26.24 seconds. T1: 20.949499999999997°C\n",
      "Time 28.16 seconds. T1: 20.949499999999997°C\n",
      "Time 30.03 seconds. T1: 20.949499999999997°C\n",
      "Time 32.12 seconds. T1: 20.949499999999997°C\n",
      "Time 34.2 seconds. T1: 20.6272°C\n",
      "Time 36.04 seconds. T1: 20.949499999999997°C\n",
      "Time 38.02 seconds. T1: 20.6272°C\n",
      "Time 40.21 seconds. T1: 20.949499999999997°C\n",
      "Time 42.14 seconds. T1: 20.949499999999997°C\n",
      "Time 44.01 seconds. T1: 20.6272°C\n",
      "Time 46.3 seconds. T1: 20.949499999999997°C\n",
      "Time 48.22 seconds. T1: 20.949499999999997°C\n",
      "Time 50.07 seconds. T1: 20.949499999999997°C\n",
      "Time 52.27 seconds. T1: 20.949499999999997°C\n",
      "Time 54.09 seconds. T1: 20.949499999999997°C\n",
      "Time 56.28 seconds. T1: 20.949499999999997°C\n",
      "Time 58.19 seconds. T1: 20.949499999999997°C\n",
      "Time 60.04 seconds. T1: 20.949499999999997°C\n",
      "Time 62.2 seconds. T1: 20.949499999999997°C\n",
      "Time 64.11 seconds. T1: 20.949499999999997°C\n",
      "Time 66.08 seconds. T1: 20.949499999999997°C\n",
      "Time 68.23 seconds. T1: 20.6272°C\n",
      "Time 70.13 seconds. T1: 20.949499999999997°C\n",
      "Time 72.07 seconds. T1: 20.949499999999997°C\n",
      "Time 74.05 seconds. T1: 20.949499999999997°C\n",
      "Time 76.1 seconds. T1: 20.6272°C\n",
      "Time 78.1 seconds. T1: 20.6272°C\n",
      "Time 80.22 seconds. T1: 20.949499999999997°C\n",
      "Time 82.28 seconds. T1: 20.949499999999997°C\n",
      "Time 84.22 seconds. T1: 20.949499999999997°C\n",
      "Time 86.16 seconds. T1: 20.949499999999997°C\n",
      "Time 88.23 seconds. T1: 20.949499999999997°C\n",
      "Time 90.0 seconds. T1: 20.949499999999997°C\n",
      "Time 92.27 seconds. T1: 20.949499999999997°C\n",
      "Time 94.0 seconds. T1: 20.949499999999997°C\n",
      "Time 96.16 seconds. T1: 20.949499999999997°C\n",
      "Time 98.02 seconds. T1: 20.949499999999997°C\n",
      "Time 100.1 seconds. T1: 20.949499999999997°C\n",
      "Time 102.24 seconds. T1: 20.949499999999997°C\n",
      "Time 104.0 seconds. T1: 20.6272°C\n",
      "Time 106.18 seconds. T1: 20.949499999999997°C\n",
      "Time 108.27 seconds. T1: 20.949499999999997°C\n",
      "Time 110.27 seconds. T1: 20.949499999999997°C\n",
      "Time 112.1 seconds. T1: 20.949499999999997°C\n",
      "Time 114.22 seconds. T1: 20.949499999999997°C\n",
      "Time 116.24 seconds. T1: 20.949499999999997°C\n",
      "Time 118.18 seconds. T1: 20.949499999999997°C\n",
      "Time 120.19 seconds. T1: 20.949499999999997°C\n",
      "Time 122.06 seconds. T1: 20.949499999999997°C\n",
      "Time 124.22 seconds. T1: 20.6272°C\n",
      "Time 126.19 seconds. T1: 20.949499999999997°C\n",
      "Time 128.18 seconds. T1: 20.949499999999997°C\n",
      "Time 130.25 seconds. T1: 20.949499999999997°C\n",
      "Time 132.02 seconds. T1: 20.6272°C\n",
      "Time 134.2 seconds. T1: 20.949499999999997°C\n",
      "Time 136.27 seconds. T1: 20.949499999999997°C\n",
      "Time 138.01 seconds. T1: 20.6272°C\n",
      "Time 140.2 seconds. T1: 20.949499999999997°C\n",
      "Time 142.18 seconds. T1: 20.949499999999997°C\n",
      "Time 144.2 seconds. T1: 20.949499999999997°C\n",
      "Time 146.23 seconds. T1: 20.949499999999997°C\n",
      "Time 148.24 seconds. T1: 20.949499999999997°C\n",
      "Time 150.19 seconds. T1: 20.949499999999997°C\n",
      "Time 152.28 seconds. T1: 20.949499999999997°C\n",
      "Time 154.25 seconds. T1: 20.949499999999997°C\n",
      "Time 156.23 seconds. T1: 20.6272°C\n",
      "Time 158.04 seconds. T1: 20.949499999999997°C\n",
      "Time 160.11 seconds. T1: 20.949499999999997°C\n",
      "Time 162.04 seconds. T1: 20.949499999999997°C\n",
      "Time 164.05 seconds. T1: 20.949499999999997°C\n",
      "Time 166.01 seconds. T1: 20.949499999999997°C\n",
      "Time 168.23 seconds. T1: 20.6272°C\n",
      "Time 170.08 seconds. T1: 20.949499999999997°C\n",
      "Time 172.01 seconds. T1: 20.949499999999997°C\n",
      "Time 174.14 seconds. T1: 20.949499999999997°C\n",
      "Time 176.01 seconds. T1: 20.949499999999997°C\n",
      "Time 178.22 seconds. T1: 20.949499999999997°C\n",
      "Time 180.2 seconds. T1: 20.949499999999997°C\n",
      "Time 182.2 seconds. T1: 20.949499999999997°C\n",
      "Time 184.21 seconds. T1: 20.949499999999997°C\n",
      "Time 186.08 seconds. T1: 20.949499999999997°C\n",
      "Time 188.29 seconds. T1: 20.949499999999997°C\n",
      "Time 190.24 seconds. T1: 20.949499999999997°C\n",
      "Time 192.18 seconds. T1: 20.949499999999997°C\n",
      "Time 194.09 seconds. T1: 20.949499999999997°C\n",
      "Time 196.22 seconds. T1: 20.949499999999997°C\n",
      "Time 198.26 seconds. T1: 20.949499999999997°C\n",
      "Time 200.02 seconds. T1: 20.6272°C\n",
      "TCLab Model disconnected successfully.\n"
     ]
    }
   ],
   "source": [
    "from tclab import setup, clock\n",
    "TCLab = setup(connected=False, speedup=5)\n",
    "\n",
    "with TCLab() as lab:\n",
    "    for t in clock(200, 2):\n",
    "        print(f\"Time {t} seconds. T1: {lab.T1}°C\")\n"
   ]
  }
 ],
 "metadata": {
  "kernelspec": {
   "display_name": "python3",
   "language": "python",
   "name": "python3"
  }
 },
 "nbformat": 4,
 "nbformat_minor": 5
}
