{
 "cells": [
  {
   "cell_type": "markdown",
   "id": "9c86e560",
   "metadata": {},
   "source": [
    "# TCLab Lab 2: Identificazione del modello"
   ]
  },
  {
   "cell_type": "markdown",
   "id": "6090fa8e",
   "metadata": {},
   "source": [
    "Per questa sessione di laboratorio raccoglierai dati da un esperimento di step test, quindi adatterai i dati a modelli derivati ​​dai bilanci energetici dei principi primi. Adattare i modelli ai dati è un'abilità ingegneristica che collega il mondo reale dei sistemi ingegneristici alla teoria appresa in classe."
   ]
  },
  {
   "cell_type": "markdown",
   "id": "fe325c80",
   "metadata": {},
   "source": [
    "## Esercizio 1. Verificare il funzionamento del laboratorio di controllo della temperatura.\n",
    "\n",
    "Eseguire la cella seguente per verificare di disporre di una connessione funzionante all'hardware del laboratorio di controllo della temperatura. Questo testerà l'installazione di TCLab.py, la connessione al dispositivo Arduino e il firmware funzionante all'interno di Arduino."
   ]
  },
  {
   "cell_type": "code",
   "execution_count": null,
   "id": "b299aadf",
   "metadata": {},
   "outputs": [],
   "source": [
    "from tclab import TCLab, clock, Historian, Plotter\n",
    "\n",
    "lab = TCLab()\n",
    "print(\"TCLab Temperatures:\", lab.T1, lab.T2)\n",
    "lab.close()"
   ]
  },
  {
   "cell_type": "markdown",
   "id": "81c5424d",
   "metadata": {},
   "source": [
    "## Esercizio 2. Verifica dello stato stazionario\n",
    "\n",
    "Come discusso in classe, per un buon adattamento del modello è essenziale che l'hardware TCLab sia allo stato stazionario prima di procedere con lo step test. Eseguire il codice seguente per verificare che i riscaldatori siano spenti e che le temperature siano a una temperatura ambiente costante."
   ]
  },
  {
   "cell_type": "code",
   "execution_count": null,
   "id": "a3d13826",
   "metadata": {},
   "outputs": [],
   "source": [
    "# experimental parameters\n",
    "tfinal = 30\n",
    "\n",
    "# perform experiment\n",
    "with TCLab() as lab:\n",
    "    h = Historian(lab.sources)\n",
    "    p = Plotter(h, tfinal)\n",
    "    for t in clock(tfinal):\n",
    "        p.update(t)"
   ]
  },
  {
   "cell_type": "markdown",
   "id": "b6cbe984",
   "metadata": {},
   "source": [
    "## Esercizio 3. Prova a passi.\n",
    "\n",
    "Il test a gradini consiste nell'accendere un riscaldatore al 50% della potenza e registrare i dati di temperatura per almeno 800 secondi. Copia e incolla il codice dell'esercizio 2 nella cella seguente, quindi modificalo secondo necessità per eseguire lo step test."
   ]
  },
  {
   "cell_type": "code",
   "execution_count": null,
   "id": "e520b25c",
   "metadata": {},
   "outputs": [],
   "source": [
    "# write your code here"
   ]
  },
  {
   "cell_type": "markdown",
   "id": "12fc18fb",
   "metadata": {},
   "source": [
    "## Esercizio 4. Verifica e salva i dati in un file .csv\n",
    "\n",
    "Esegui la cella seguente per verificare e salvare i tuoi dati in un file \".csv\". Assicurati di poter trovare e localizzare i dati sul tuo laptop prima di lasciare il laboratorio. Avrai bisogno di accedere a questi dati per gli esercizi successivi."
   ]
  },
  {
   "cell_type": "code",
   "execution_count": null,
   "id": "db5d52a3",
   "metadata": {},
   "outputs": [],
   "source": [
    "%matplotlib inline\n",
    "import matplotlib.pyplot as plt\n",
    "\n",
    "t, T1, T2, Q1, Q2 = h.fields\n",
    "\n",
    "plt.plot(t, T1, t, T2, t, Q1, t, Q2)\n",
    "plt.legend(['T1','T2','Q1','Q2'])\n",
    "plt.xlabel('Time / seconds')\n",
    "plt.grid()\n",
    "\n",
    "h.to_csv('tclab-data.csv')"
   ]
  },
  {
   "cell_type": "markdown",
   "id": "3ddc50f6",
   "metadata": {},
   "source": [
    "## Esercizio 5. Analisi\n",
    "\n",
    "1.) Approssimando i risultati dello step test per T1 come funzione di trasferimento del primo ordine, stimare la costante di tempo e il guadagno. Scrivi la tua risposta nella cella seguente."
   ]
  },
  {
   "cell_type": "code",
   "execution_count": null,
   "id": "ec2456a7",
   "metadata": {},
   "outputs": [],
   "source": [
    "# write your code here"
   ]
  },
  {
   "cell_type": "markdown",
   "id": "ad74969a",
   "metadata": {},
   "source": [
    "2.) Come abbiamo discusso in classe, un semplice modello di bilancio energetico per T1 è dato da\n",
    "\n",
    "$$C_p \\frac{dT_1}{dt} = U_a(T_{amb} - T_1) + P Q_1$$\n",
    "\n",
    "dove il parametro $P$ è stato determinato, con mezzi indipendenti, come un aumento percentuale di 0.04 watt in $Q_1$. Utilizza i risultati di questo esperimento per stimare i valori di $C_p$ e $U_a$. Scrivi le tue risposte nella cella seguente."
   ]
  },
  {
   "cell_type": "code",
   "execution_count": null,
   "id": "4606bf28",
   "metadata": {},
   "outputs": [],
   "source": []
  }
 ],
 "metadata": {
  "kernelspec": {
   "display_name": "python3",
   "language": "python",
   "name": "python3"
  }
 },
 "nbformat": 4,
 "nbformat_minor": 5
}
