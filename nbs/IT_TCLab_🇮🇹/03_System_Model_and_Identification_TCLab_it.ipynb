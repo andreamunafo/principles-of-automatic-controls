{
 "cells": [
  {
   "cell_type": "markdown",
   "id": "13c98243",
   "metadata": {},
   "source": [
    "# Modellazione del sistema\n",
    "\n",
    "Prima di passare alla progettazione del controllo, è essenziale comprendere la fisica del sistema, compresi i meccanismi di trasferimento del calore: conduzione, radiazione e (in misura minore nello spazio) convezione.\n",
    "\n",
    "## Materiali di riferimento\n",
    "\n",
    "* Alizadeh, Esmaeil. \"Una guida ai sistemi di fase non minima.\" *Verso la scienza dei dati.* https://ealizadeh.com/blog/non-minimum-phase-systems/. Accesso effettuato il 6 dicembre 2020."
   ]
  },
  {
   "cell_type": "markdown",
   "id": "14989565",
   "metadata": {},
   "source": [
    "### Spiegazione dei meccanismi di trasferimento del calore\n",
    "\n",
    "- **Conduzione**: flusso di calore attraverso il contatto fisico diretto, significativo nel nostro sistema a causa delle connessioni tra il riscaldatore, la batteria e la struttura del veicolo spaziale.\n",
    "- **Radiazione**: Trasferimento di calore attraverso onde elettromagnetiche, rilevante a causa dell'esposizione al sole e allo spazio profondo.\n",
    "- **Convezione**: meno rilevante nel vuoto dello spazio, ma un fattore da considerare durante i test sulla terra.\n",
    "\n",
    "<table>\n",
    "    <tr>\n",
    "    <td>\n",
    "        <img src=\"../TCLab/pics/tclab_conductive.png\" alt=\"tclab_conductive\" style=\"width: 450px;\"/>\n",
    "    </td>\n",
    "    </tr>\n",
    "</table>"
   ]
  },
  {
   "cell_type": "markdown",
   "id": "271f2f22",
   "metadata": {},
   "source": [
    "## Primo diagramma a blocchi: quanto è accurato?\n",
    "\n",
    "\n",
    "<table>\n",
    "    <tr>\n",
    "    <td>\n",
    "        <img src=\"../TCLab/pics/tclab_block_diagram-1.png\" alt=\"tclab_block_diagram-1\" style=\"width: 450px;\"/>\n",
    "    </td>\n",
    "    </tr>\n",
    "</table>"
   ]
  },
  {
   "cell_type": "markdown",
   "id": "37fc1869",
   "metadata": {},
   "source": [
    "### Spiegazione dettagliata dei meccanismi di trasferimento del calore\n",
    "\n",
    "#### **Conduzione**\n",
    "\n",
    "La conduzione è il trasferimento di calore attraverso il contatto fisico diretto. In un veicolo spaziale, ciò si verifica quando le molecole o gli atomi in una regione ad alta temperatura vibrano intensamente e trasmettono la loro energia alle particelle vicine in un'area a temperatura più bassa.\n",
    "\n",
    "- **Importanza nei veicoli spaziali**: nel nostro sistema di controllo termico satellitare, la conduzione è fondamentale in quanto consente il trasferimento del calore dal riscaldatore alla batteria e quindi alla struttura del veicolo spaziale. Questo meccanismo è fondamentale per mantenere le temperature entro i limiti operativi.\n",
    "  \n",
    "- **Esempio**: immagina di tenere un'estremità di un'asta di metallo sopra una fiamma. A poco a poco, il calore si sposta lungo l'asta, riscaldando l'estremità distante. Questo è simile al modo in cui il calore viene condotto dal riscaldatore attraverso la batteria nel nostro sistema.\n",
    "\n",
    "#### **Radiazioni**\n",
    "\n",
    "La radiazione si riferisce al trasferimento di calore sotto forma di onde elettromagnetiche. Non richiede un mezzo attraverso il quale viaggiare, rendendolo una modalità primaria di trasferimento del calore nello spazio.\n",
    "\n",
    "- **Ruolo nei veicoli spaziali**: nel contesto di un veicolo spaziale, le radiazioni sono significative per due motivi. In primo luogo, tiene conto del guadagno di calore proveniente dal Sole, poiché la radiazione solare colpisce direttamente parti del satellite. In secondo luogo, è il metodo con cui la navicella spaziale cede calore al freddo dello spazio profondo.\n",
    "  \n",
    "- **Esempio**: Il calore che senti quando sei esposto al sole è dovuto al trasferimento di calore radiante. Il calore del Sole viaggia attraverso il vuoto dello spazio e ti riscalda tramite radiazioni.\n",
    "\n",
    "#### **Convezione**\n",
    "\n",
    "La convezione è il trasferimento di calore mediante il movimento fisico di un fluido (come aria o liquido). Implica la circolazione o il movimento delle particelle all'interno del fluido, dove le particelle calde si spostano verso aree più fredde e viceversa.\n",
    "\n",
    "- **Rilevanza nei test sui veicoli spaziali**: sebbene la convezione non sia un meccanismo di trasferimento del calore nel vuoto dello spazio, diventa significativa durante i test sulla Terra dei sistemi dei veicoli spaziali. Qui, la presenza di aria attorno al veicolo spaziale consente il trasferimento di calore convettivo, che può influenzare le prestazioni e i risultati dei test dei sistemi di controllo termico.\n",
    "  \n",
    "- **Esempio**: Quando si scalda l'acqua in una pentola, l'acqua sul fondo, più vicina alla fonte di calore, diventa calda e sale verso l'alto, mentre l'acqua più fredda scende per sostituirla, creando un movimento circolare. Questo processo di trasferimento del calore attraverso il movimento del fluido è la convezione.\n",
    "\n",
    "Comprendere questi meccanismi di trasferimento del calore è importante per gestire efficacemente l’ambiente termico di un veicolo spaziale. Garantisce che i sistemi di bordo funzionino entro le rispettive tolleranze di temperatura, migliorando così le prestazioni complessive e la longevità del satellite."
   ]
  },
  {
   "cell_type": "markdown",
   "id": "2afb69db",
   "metadata": {},
   "source": [
    "----"
   ]
  },
  {
   "cell_type": "markdown",
   "id": "fc956014",
   "metadata": {},
   "source": [
    "# Identificazione del sistema"
   ]
  },
  {
   "cell_type": "markdown",
   "id": "a5248030",
   "metadata": {},
   "source": [
    "### Importanza di una modellazione accurata\n",
    "\n",
    "Una modellazione accurata del sistema è fondamentale per una progettazione efficace del controller. Implica la comprensione della dinamica del sistema e della sua risposta agli input, il che è particolarmente importante per la regolazione del controller PID.\n",
    "\n",
    "1. **Analisi della risposta al gradino**: conduzione di un esperimento di risposta al gradino per raccogliere dati per l'identificazione del sistema.\n",
    "2. **Adattamento di una funzione di trasferimento**: utilizzo dei dati raccolti per adattare un modello del primo ordine più tempo morto (FOPDT), che include guadagno, costante di tempo e ritardo.\n",
    "\n",
    "    - *Esempio di codice MATLAB inserito*: codice per adattare un modello FOPDT ai dati di risposta al gradino.\n",
    "\n",
    "### Processo di progettazione iterativo\n",
    "\n",
    "Il processo di progettazione è iterativo e prevede la modifica e il miglioramento del controller in base alla risposta del sistema. Questo approccio enfatizza la natura non lineare ed esplorativa della risoluzione dei problemi ingegneristici."
   ]
  },
  {
   "cell_type": "markdown",
   "id": "3c9ba1c9",
   "metadata": {},
   "source": [
    "# Sezione 2: Modellazione dinamica\n",
    "\n",
    "## 2.1 Introduzione alla modellazione dinamica\n",
    "\n",
    "- **Definizione**: Spiegare il concetto di modellazione dinamica nei sistemi di controllo.\n",
    "- **Importanza**: discutere in che modo la modellazione dinamica aiuta a prevedere il comportamento del sistema nel tempo.\n",
    "- **Rappresentazione matematica**: introdurre le equazioni differenziali come strumento per la modellazione dinamica.\n",
    "\n",
    "## 2.2 Fondamenti matematici\n",
    "\n",
    "- **Equazioni differenziali**: spiegazione dettagliata delle equazioni differenziali nel contesto dei sistemi di controllo.\n",
    "- **Equazioni di bilancio**: spiegare le equazioni di bilancio per energia, massa, ecc., nella modellazione di sistemi.\n",
    "\n",
    "## 2.3 Modello Dinamico Semplificato di TCLab\n",
    "\n",
    "- **Equazione**: Presenta il modello semplificato di TCLab:\n",
    "    $$\\tau_p \\frac{dT}{dt} = \\left(T_a-T\\right) + K_p \\, Q$$\n",
    "- **Spiegazione**: scomponi l'equazione, spiegando ogni termine in dettaglio.\n",
    "- **Interpretazione fisica**: usa metafore, come confrontare il trasferimento di calore con l'acqua che scorre dentro e fuori da un serbatoio, per spiegare il concetto.\n",
    "\n",
    "**[Inserisci qui la rappresentazione grafica]**\n",
    "\n",
    "---"
   ]
  },
  {
   "cell_type": "markdown",
   "id": "421550a3",
   "metadata": {},
   "source": [
    "# Sezione 3: Esperimento di risposta al gradino\n",
    "\n",
    "## 3.1 Concetto di risposta al gradino\n",
    "\n",
    "- **Definizione**: spiegare cos'è la risposta al gradino e il suo significato nei sistemi di controllo.\n",
    "\n",
    "## 3.2 Conduzione dell'esperimento\n",
    "\n",
    "- **Obiettivo**: dichiara lo scopo dell'esperimento.\n",
    "- **Procedura**: guida passo passo per eseguire l'esperimento di risposta al gradino utilizzando TCLab.\n",
    "- **Codice Python per la raccolta dati**: include uno script Python per raccogliere dati da TCLab.\n",
    "\n",
    "    ```pitone\n",
    "    # [Inserisci qui il codice Python per l'esperimento Step Response]\n",
    "    ```\n",
    "\n",
    "---\n",
    "\n",
    "# Sezione 4: Analisi e simulazione dei dati\n",
    "\n",
    "## 4.1 Analisi dei dati\n",
    "\n",
    "- **Tracciamento dei dati**: guida sul tracciamento dei dati raccolti utilizzando matplotlib in Python.\n",
    "- **Interpretazione dei risultati**: discutere come interpretare i risultati dell'esperimento.\n",
    "\n",
    "**[Inserisci qui un grafico di esempio]**\n",
    "\n",
    "## 4.2 Simulazione del Sistema\n",
    "\n",
    "- **Obiettivo**: Spiegare lo scopo della simulazione del comportamento di TCLab.\n",
    "- **Codice Python per la simulazione**: fornisce uno script per simulare la risposta di TCLab utilizzando la funzione `odeint` o GEKKO.\n",
    "\n",
    "    ```pitone\n",
    "    # [Inserisci qui il codice Python per la simulazione]\n",
    "    ```\n",
    "\n",
    "**[Inserisci qui il grafico dei risultati della simulazione]**"
   ]
  }
 ],
 "metadata": {
  "kernelspec": {
   "display_name": "python3",
   "language": "python",
   "name": "python3"
  }
 },
 "nbformat": 4,
 "nbformat_minor": 5
}
