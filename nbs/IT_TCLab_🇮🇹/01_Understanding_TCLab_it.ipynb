{
 "cells": [
  {
   "cell_type": "markdown",
   "id": "f7c59879",
   "metadata": {},
   "source": [
    "# Comprendere TCLab"
   ]
  },
  {
   "cell_type": "markdown",
   "id": "f91271aa",
   "metadata": {},
   "source": [
    "# Il pacchetto Python TCLab\n",
    "\n",
    "Lo schema allegato mostra come accedere al laboratorio di controllo della temperatura utilizzando la libreria TCLab.\n",
    "\n",
    "<img src='./pics/B.00-TCLabOverview.png' style=\"float: right;padding-left:30px;\"></img>\n",
    "\n",
    "**_Quaderni Jupyter e script Python:_**\n",
    "Il livello più alto è costituito dal codice che scrivi per implementare gli algoritmi di controllo. Questa operazione può essere eseguita nei notebook Jupyter/Python, direttamente da Python utilizzando un ambiente di sviluppo come Spyder o PyCharm. Questo repository contiene diversi esempi, lezioni e progetti degli studenti.\n",
    "\n",
    "**_TCLab:_**\n",
    "[TCLab](https://github.com/jckantor/TCLab) è costituito da una libreria Python intitolata \"tclab\" che fornisce accesso di alto livello a sensori, riscaldatori e un orologio pseudo-in tempo reale. Il pacchetto include la classe `TCLab()` che crea un oggetto per accedere al dispositivo, un iteratore `clock` per la sincronizzazione con un orologio in tempo reale, la classe `Historian()` per creare oggetti per la registrazione dei dati e un `Plotter( )` per visualizzare i dati in tempo reale.\n",
    "\n",
    "**_Schizzo TCLab:_**\n",
    "Il repository github [TCLab-sketch](https://github.com/jckantor/TCLab-sketch) fornisce il firmware per garantire il funzionamento intrinsecamente sicuro della scheda e dello scudo Arduino. Lo schizzo viene scaricato su Arduino utilizzando l'[Arduino IDE](https://www.arduino.cc/en/Main/Software). Il caricamento del firmware su Arduino è un'operazione che si effettua una sola volta.\n",
    "\n",
    "**_Arduino:_**\n",
    "La piattaforma hardware per il Laboratorio di Termoregolazione. Gli strumenti e le librerie Python sono stati testati con le schede Arduino Uno e Arduino Leonardo.\n",
    "\n",
    "_Da: [CBE32338](https://jckantor.github.io/CBE32338/)_"
   ]
  },
  {
   "cell_type": "markdown",
   "id": "c3fff7e8",
   "metadata": {},
   "source": [
    "## I componenti principali di TCLab\n",
    "\n",
    "<img src='../TCLab/pics/tclab_heater.png' style=\"float: right; padding-left:0px; width:500px;\"></img>\n",
    "<img src='../TCLab/pics/tclab_temperature_sensor.png' style=\"float: right; padding-left:0px; width:500px;\"></img>\n",
    "<img src='../TCLab/pics/tclab_radiator.png' style=\"float: right; padding-left:0px; width:500px;\"></img>\n",
    "\n",
    "Il Temperature Control Lab (TCLab) è un sistema integrato composto da diversi componenti chiave, ciascuno dei quali contribuisce in modo significativo alla sua funzionalità:\n",
    "\n",
    "1. **Microcontrollore Arduino**:\n",
    "   - **Scopo**: Serve come unità di elaborazione centrale per TCLab.\n",
    "   - **Funzionalità**: elabora i dati di input dai sensori di temperatura e gestisce il funzionamento dei riscaldatori.\n",
    "   - **Connettività**: utilizza una connessione USB per il trasferimento dei dati e consente il controllo in tempo reale tramite script Python.\n",
    "\n",
    "2. **Riscaldatori**:\n",
    "   - **Descrizione**: TCLab è dotato di due riscaldatori, ciascuno in grado di generare energia termica regolabile.\n",
    "   - **Ruolo**: Agire come principale fonte di calore per gli esperimenti, replicando scenari che richiedono la regolazione della temperatura. Funzionano come gli **attuatori** del sistema.\n",
    "\n",
    "3. **Sensori di temperatura**:\n",
    "   - **Tipo**: questi sensori sono termistori, un tipo di resistore la cui resistenza varia con le variazioni di temperatura.\n",
    "   - **Intervallo di misurazione**: in grado di misurare temperature comprese tra $ -40^\\circ$C e $150^\\circ$C.\n",
    "   - **Funzionalità**: posizionato vicino a ciascun riscaldatore per misurare con precisione la temperatura, fornendo un feedback essenziale per il controllo della temperatura.\n",
    "\n",
    "4. **Dissipatori di calore**:\n",
    "   - **Tipo**: Composto da dissipatori di calore a transistor.\n",
    "   - **Scopo**: impiegato per dissipare in modo efficiente il calore lontano dai transistor.\n",
    "   \n",
    "5. **LED (diodo a emissione luminosa)**:\n",
    "  - **Scopo**: Serve come indicatore visivo per vari stati o azioni, come segnalare l'attivazione di un riscaldatore.\n",
    "\n",
    "### Configurazioni operative di TCLab\n",
    "\n",
    "TCLab può essere configurato in varie modalità a seconda degli obiettivi formativi:\n",
    "\n",
    "1. **Ingresso singolo Uscita singola (SISO)**:\n",
    "   - Utilizza solo un riscaldatore e un sensore. Ideale per semplici esperimenti di controllo e per apprendere le basi del controllo della temperatura.\n",
    "\n",
    "2. **Ingresso singolo Uscita singola (SISO) con disturbo**:\n",
    "   - Utilizza un riscaldatore/sensore come sistema di controllo primario e il secondo riscaldatore come fonte di disturbo esterno. Questa configurazione è utile per comprendere come i fattori esterni influenzano i sistemi di controllo.\n",
    "\n",
    "3. **Ingressi multipli Uscite multiple (MIMO)**:\n",
    "   - Implica l'utilizzo simultaneo di riscaldatori e sensori. Questa configurazione più avanzata non è trattata qui ma è utile per studi di sistemi di controllo complessi.\n",
    "\n",
    "Ogni componente del TCLab svolge un ruolo specifico, rendendolo uno strumento versatile per insegnare e sperimentare vari aspetti dell'ingegneria di controllo. Sia per l'apprendimento fondamentale che per l'esplorazione avanzata, TCLab offre una piattaforma pratica per comprendere la dinamica e il controllo dei sistemi basati sulla temperatura."
   ]
  },
  {
   "cell_type": "markdown",
   "id": "c5442d35",
   "metadata": {},
   "source": [
    "## Come funziona TCLab\n",
    "\n",
    "- **Flusso operativo**:\n",
    "  1. **Segnale di ingresso**: uno script Python invia un comando ad Arduino, impostando il livello di potenza desiderato per i riscaldatori.\n",
    "  2. **Azione di riscaldamento**: i riscaldatori generano calore corrispondente ai comandi del livello di potenza ricevuti.\n",
    "  3. **Misurazione della temperatura**: i termistori misurano le temperature risultanti vicino ai riscaldatori.\n",
    "  4. **Ciclo di feedback**: queste letture della temperatura vengono inviate al computer.\n",
    "  5. **Regolazioni**: l'algoritmo di controllo nello script Python regola la potenza del riscaldatore in base al feedback della temperatura, cercando di raggiungere e mantenere una temperatura target.\n",
    "\n",
    "**[Inserisci qui il diagramma di flusso o il diagramma che mostra il ciclo di feedback]**\n",
    "\n",
    "---"
   ]
  },
  {
   "cell_type": "markdown",
   "id": "a554e7bc",
   "metadata": {},
   "source": [
    "## Schemi TCLab\n",
    "\n",
    "<table>\n",
    "    <tr>\n",
    "    <td>\n",
    "        <img src=\"../TCLab/pics/tclab_schematic.png\" alt=\"tclab_schematic\" style=\"width: 450px;\"/>\n",
    "    </td>\n",
    "    </tr>\n",
    "</table>"
   ]
  },
  {
   "cell_type": "markdown",
   "id": "8a31bde2",
   "metadata": {},
   "source": [
    "# Configurazione di TCLab\n",
    "\n",
    "\n",
    "Questa guida fornisce istruzioni passo passo per configurare il Laboratorio di Controllo della Temperatura (TCLab), partendo dall'installazione di Python su diversi sistemi operativi fino alla conduzione dei test iniziali con TCLab e il suo simulatore."
   ]
  },
  {
   "cell_type": "markdown",
   "id": "4c927833",
   "metadata": {},
   "source": [
    "## Sezione 1: Installazione di Python utilizzando Conda"
   ]
  },
  {
   "cell_type": "markdown",
   "id": "75f2b46e",
   "metadata": {},
   "source": [
    "## Installazione di Python su Mac\n",
    "\n",
    "### Passaggio 1: installa Anaconda\n",
    "\n",
    "- **Scarica Anaconda**: visita la [Pagina di download di Anaconda](https://www.anaconda.com/products/individual) e scarica il programma di installazione per Mac.\n",
    "- **Esegui il programma di installazione**: apri il file scaricato e segui le istruzioni visualizzate sullo schermo.\n",
    "- **Verifica installazione**:\n",
    "  - Apri Terminale.\n",
    "  - Digita \"conda --version\" e premi Invio. Se Anaconda è stato installato correttamente, vedrai il numero di versione.\n",
    "\n",
    "### Passaggio 2: configurazione dell'ambiente (facoltativo)\n",
    "\n",
    "- **Crea un nuovo ambiente**: nel Terminale, digita `conda create -n tclab_env python=3.8` e premi Invio.\n",
    "- **Attiva ambiente**: digita \"conda activate tclab_env\" e premi Invio."
   ]
  },
  {
   "cell_type": "markdown",
   "id": "a0d0653b",
   "metadata": {},
   "source": [
    "## Installazione di Python su Windows\n",
    "\n",
    "### Passaggio 1: installa Anaconda\n",
    "\n",
    "- **Scarica Anaconda**: visita la [Pagina di download di Anaconda](https://www.anaconda.com/products/individual) e scarica il programma di installazione per Windows.\n",
    "- **Esegui il programma di installazione**: apri il file scaricato e segui le istruzioni visualizzate sullo schermo.\n",
    "- **Verifica installazione**:\n",
    "  - Apri il prompt di Anaconda.\n",
    "  - Digita \"conda --version\" e premi Invio.\n",
    "\n",
    "### Passaggio 2: configurazione dell'ambiente (facoltativo)\n",
    "\n",
    "- **Crea un nuovo ambiente**: nel prompt di Anaconda, digita \"conda create -n tclab_env python=3.8\" e premi Invio.\n",
    "- **Attiva ambiente**: digita \"conda activate tclab_env\" e premi Invio."
   ]
  },
  {
   "cell_type": "markdown",
   "id": "a4435627",
   "metadata": {},
   "source": [
    "## Installazione di Python su Linux\n",
    "\n",
    "### Passaggio 1: installa Anaconda\n",
    "\n",
    "- **Scarica Anaconda**: visita la [Pagina di download di Anaconda](https://www.anaconda.com/products/individual) e scarica il programma di installazione per Linux.\n",
    "- **Esegui programma di installazione**: apri Terminale, vai alla directory contenente il file scaricato ed esegui lo script utilizzando `bash Anaconda3-XXXX.sh`.\n",
    "- **Verifica installazione**:\n",
    "  - Nel Terminale, digita \"conda --version\".\n",
    "\n",
    "### Passaggio 2: configurazione dell'ambiente (facoltativo)\n",
    "\n",
    "- **Crea un nuovo ambiente**: nel Terminale, digita `conda create -n tclab_env python=3.8` e premi Invio.\n",
    "- **Attiva ambiente**: digita \"conda activate tclab_env\" e premi Invio."
   ]
  },
  {
   "cell_type": "markdown",
   "id": "b9e27af2",
   "metadata": {},
   "source": [
    "---"
   ]
  },
  {
   "cell_type": "markdown",
   "id": "d66f204d",
   "metadata": {},
   "source": [
    "# Sezione 2: Configurazione di TCLab"
   ]
  },
  {
   "cell_type": "markdown",
   "id": "7091fd8b",
   "metadata": {},
   "source": [
    "## Configurazione dell'ambiente Conda\n",
    "\n",
    "Per configurare l'ambiente Conda per questo corso, attenersi alla seguente procedura:\n",
    "\n",
    "1. Scarica il file `tclab_environment.yml` da questo repository.\n",
    "2. Apri il terminale o il prompt di Anaconda e vai alla directory in cui si trova il file.\n",
    "\n",
    "Il file `tclab_environment.yml` assomiglia a questo:\n",
    "\n",
    "``` tclab_environment.yml\n",
    "nome: tclab_env\n",
    "canali:\n",
    "  - valori predefiniti\n",
    "dipendenze:\n",
    "  - pitone=3.10\n",
    "  - pip\n",
    "  - insensato\n",
    "  - matplotlib\n",
    "  - scipito\n",
    "  - panda\n",
    "  - pip:\n",
    "    -tclab\n",
    "```\n",
    "\n",
    "\n",
    "3. Crea l'ambiente dal file `tclab_environment.yml`:\n",
    "\n",
    "    ```conda env create -f tclab_environment.yml```\n",
    "\n",
    "4. Attiva il nuovo ambiente:\n",
    "    \n",
    "    ```conda attiva tclab```\n",
    "    \n",
    "5. Per verificare che l'ambiente sia stato installato correttamente, è possibile utilizzare:\n",
    "\n",
    "    ```conda env list```"
   ]
  },
  {
   "cell_type": "markdown",
   "id": "f3698c0d",
   "metadata": {},
   "source": [
    "### Installazione del pacchetto TCLab\n",
    "\n",
    "1. **Attivazione dell'ambiente**:\n",
    "   - Assicurati che il tuo ambiente Anaconda sia attivo. Apri il tuo Terminale (o il prompt di Anaconda su Windows) e attiva il tuo ambiente:\n",
    "     ```\n",
    "     conda attiva tclab_env\n",
    "     ```\n",
    "\n",
    "2. **Installazione di TCLab**:\n",
    "   - La libreria `tclab` si interfaccia con l'hardware del Temperature Control Lab. Installalo inserendo il seguente comando da una finestra (MacOS) o da una finestra di comando (PC):\n",
    "     ```\n",
    "     pip installa tclab\n",
    "     ```\n",
    "   - Premi Invio per eseguire il comando e completare l'installazione.\n",
    "   \n",
    "\n",
    "    In alternativa, l'installazione può essere eseguita da un notebook Jupyter/Python con il comando\n",
    "\n",
    "    ```\n",
    "    !pip installa tclab\n",
    "    ```\n",
    "\n",
    "    Ci sono aggiornamenti occasionali alla libreria. Questi possono essere installati aggiungendo un ` --upgrade` ai comandi precedenti e dimostrati nella cella successiva."
   ]
  },
  {
   "cell_type": "code",
   "execution_count": null,
   "id": "7735a7f6",
   "metadata": {},
   "outputs": [
    {
     "name": "stdout",
     "output_type": "stream",
     "text": [
      "Requirement already satisfied: tclab in /Users/andreamunafo/opt/anaconda3/envs/tclab/lib/python3.10/site-packages (1.0.0)\n",
      "Requirement already satisfied: pyserial in /Users/andreamunafo/opt/anaconda3/envs/tclab/lib/python3.10/site-packages (from tclab) (3.5)\n"
     ]
    }
   ],
   "source": [
    "!pip install tclab --upgrade"
   ]
  },
  {
   "cell_type": "markdown",
   "id": "9696054a",
   "metadata": {},
   "source": [
    "#### Installazione di librerie utili aggiuntive\n",
    "\n",
    "Per un'esperienza completa con TCLab e per supportare vari aspetti dell'ingegneria di controllo e dell'analisi dei dati, verranno installate anche le seguenti librerie:\n",
    "\n",
    "1. **insensibile**:\n",
    "   - Significato: una libreria fondamentale per i calcoli numerici in Python.\n",
    "   - Comando di installazione:\n",
    "     ```\n",
    "     pip installa numpy\n",
    "     ```\n",
    "\n",
    "2. **matplotlib**:\n",
    "   - Significato: fondamentale per creare rappresentazioni visive dei dati, in particolare per l'analisi degli esperimenti TCLab.\n",
    "   - Comando di installazione:\n",
    "     ```\n",
    "     pip installa matplotlib\n",
    "     ```\n",
    "\n",
    "3. **scipy**:\n",
    "   - Significato: fornisce un'ampia gamma di strumenti per il calcolo scientifico, compresi metodi per risolvere equazioni differenziali ordinarie, utili nella modellizzazione dei sistemi.\n",
    "   - Comando di installazione:\n",
    "     ```\n",
    "     pip installa scipy\n",
    "     ```\n",
    "\n",
    "4. **panda**:\n",
    "   - Significato: offre funzionalità estese per la manipolazione e l'analisi dei dati, ideali per la gestione di set di dati complessi.\n",
    "   - Comando di installazione:\n",
    "     ```\n",
    "     pip installa panda\n",
    "     ```\n",
    "\n",
    "5. **geco**:\n",
    "   - Significatività: pacchetto avanzato per l'ottimizzazione e il controllo, adatto all'implementazione di strategie di controllo predittivo del modello.\n",
    "   - Comando di installazione:\n",
    "     ```\n",
    "     pip installa gekko\n",
    "     ```"
   ]
  },
  {
   "cell_type": "markdown",
   "id": "7c88050a",
   "metadata": {},
   "source": [
    "## Test iniziali con TCLab\n",
    "\n",
    "### Passaggio 1: collega TCLab\n",
    "\n",
    "- **Connetti TCLab**: collega il dispositivo TCLab al computer utilizzando un cavo USB.\n",
    "\n",
    "### Passaggio 2: testare la connessione TCLab\n",
    "\n",
    "- **Scrivi script di prova**:\n",
    "  - Apri il tuo IDE Python o Jupyter Notebook.\n",
    "  - Scrivi il seguente codice Python ed esegui lo script. Se stampa la temperatura, TCLab è collegato correttamente."
   ]
  },
  {
   "cell_type": "code",
   "execution_count": null,
   "id": "457ddd4c",
   "metadata": {},
   "outputs": [],
   "source": [
    "import tclab\n",
    "with tclab.TCLab() as lab:\n",
    "    print(f\"Connected! Heater 1 is at {lab.T1}°C\")"
   ]
  },
  {
   "cell_type": "markdown",
   "id": "afdb157d",
   "metadata": {},
   "source": [
    "## Utilizzo del simulatore TCLab\n",
    "\n",
    "- **Perché utilizzare un simulatore**: il simulatore TCLab è utile quando non si dispone dell'hardware fisico.\n",
    "- **Installa simulatore**: nel terminale o nel prompt di Anaconda, digita nuovamente `pip install tclab` (include il simulatore).\n",
    "- **Script di prova con simulatore**:"
   ]
  },
  {
   "cell_type": "code",
   "execution_count": null,
   "id": "3bdb3466",
   "metadata": {},
   "outputs": [
    {
     "name": "stdout",
     "output_type": "stream",
     "text": [
      "TCLab version 1.0.0\n",
      "Simulated TCLab\n",
      "Time 0 seconds. T1: 20.949499999999997°C\n",
      "Time 2.01 seconds. T1: 20.949499999999997°C\n",
      "Time 4.04 seconds. T1: 20.949499999999997°C\n",
      "Time 6.03 seconds. T1: 20.949499999999997°C\n",
      "Time 8.06 seconds. T1: 20.949499999999997°C\n",
      "Time 10.07 seconds. T1: 20.949499999999997°C\n",
      "Time 12.02 seconds. T1: 20.949499999999997°C\n",
      "Time 14.03 seconds. T1: 20.949499999999997°C\n",
      "Time 16.15 seconds. T1: 20.949499999999997°C\n",
      "Time 18.04 seconds. T1: 20.949499999999997°C\n",
      "Time 20.2 seconds. T1: 20.949499999999997°C\n",
      "Time 22.01 seconds. T1: 20.949499999999997°C\n",
      "Time 24.19 seconds. T1: 20.949499999999997°C\n",
      "Time 26.24 seconds. T1: 20.949499999999997°C\n",
      "Time 28.16 seconds. T1: 20.949499999999997°C\n",
      "Time 30.03 seconds. T1: 20.949499999999997°C\n",
      "Time 32.12 seconds. T1: 20.949499999999997°C\n",
      "Time 34.2 seconds. T1: 20.6272°C\n",
      "Time 36.04 seconds. T1: 20.949499999999997°C\n",
      "Time 38.02 seconds. T1: 20.6272°C\n",
      "Time 40.21 seconds. T1: 20.949499999999997°C\n",
      "Time 42.14 seconds. T1: 20.949499999999997°C\n",
      "Time 44.01 seconds. T1: 20.6272°C\n",
      "Time 46.3 seconds. T1: 20.949499999999997°C\n",
      "Time 48.22 seconds. T1: 20.949499999999997°C\n",
      "Time 50.07 seconds. T1: 20.949499999999997°C\n",
      "Time 52.27 seconds. T1: 20.949499999999997°C\n",
      "Time 54.09 seconds. T1: 20.949499999999997°C\n",
      "Time 56.28 seconds. T1: 20.949499999999997°C\n",
      "Time 58.19 seconds. T1: 20.949499999999997°C\n",
      "Time 60.04 seconds. T1: 20.949499999999997°C\n",
      "Time 62.2 seconds. T1: 20.949499999999997°C\n",
      "Time 64.11 seconds. T1: 20.949499999999997°C\n",
      "Time 66.08 seconds. T1: 20.949499999999997°C\n",
      "Time 68.23 seconds. T1: 20.6272°C\n",
      "Time 70.13 seconds. T1: 20.949499999999997°C\n",
      "Time 72.07 seconds. T1: 20.949499999999997°C\n",
      "Time 74.05 seconds. T1: 20.949499999999997°C\n",
      "Time 76.1 seconds. T1: 20.6272°C\n",
      "Time 78.1 seconds. T1: 20.6272°C\n",
      "Time 80.22 seconds. T1: 20.949499999999997°C\n",
      "Time 82.28 seconds. T1: 20.949499999999997°C\n",
      "Time 84.22 seconds. T1: 20.949499999999997°C\n",
      "Time 86.16 seconds. T1: 20.949499999999997°C\n",
      "Time 88.23 seconds. T1: 20.949499999999997°C\n",
      "Time 90.0 seconds. T1: 20.949499999999997°C\n",
      "Time 92.27 seconds. T1: 20.949499999999997°C\n",
      "Time 94.0 seconds. T1: 20.949499999999997°C\n",
      "Time 96.16 seconds. T1: 20.949499999999997°C\n",
      "Time 98.02 seconds. T1: 20.949499999999997°C\n",
      "Time 100.1 seconds. T1: 20.949499999999997°C\n",
      "Time 102.24 seconds. T1: 20.949499999999997°C\n",
      "Time 104.0 seconds. T1: 20.6272°C\n",
      "Time 106.18 seconds. T1: 20.949499999999997°C\n",
      "Time 108.27 seconds. T1: 20.949499999999997°C\n",
      "Time 110.27 seconds. T1: 20.949499999999997°C\n",
      "Time 112.1 seconds. T1: 20.949499999999997°C\n",
      "Time 114.22 seconds. T1: 20.949499999999997°C\n",
      "Time 116.24 seconds. T1: 20.949499999999997°C\n",
      "Time 118.18 seconds. T1: 20.949499999999997°C\n",
      "Time 120.19 seconds. T1: 20.949499999999997°C\n",
      "Time 122.06 seconds. T1: 20.949499999999997°C\n",
      "Time 124.22 seconds. T1: 20.6272°C\n",
      "Time 126.19 seconds. T1: 20.949499999999997°C\n",
      "Time 128.18 seconds. T1: 20.949499999999997°C\n",
      "Time 130.25 seconds. T1: 20.949499999999997°C\n",
      "Time 132.02 seconds. T1: 20.6272°C\n",
      "Time 134.2 seconds. T1: 20.949499999999997°C\n",
      "Time 136.27 seconds. T1: 20.949499999999997°C\n",
      "Time 138.01 seconds. T1: 20.6272°C\n",
      "Time 140.2 seconds. T1: 20.949499999999997°C\n",
      "Time 142.18 seconds. T1: 20.949499999999997°C\n",
      "Time 144.2 seconds. T1: 20.949499999999997°C\n",
      "Time 146.23 seconds. T1: 20.949499999999997°C\n",
      "Time 148.24 seconds. T1: 20.949499999999997°C\n",
      "Time 150.19 seconds. T1: 20.949499999999997°C\n",
      "Time 152.28 seconds. T1: 20.949499999999997°C\n",
      "Time 154.25 seconds. T1: 20.949499999999997°C\n",
      "Time 156.23 seconds. T1: 20.6272°C\n",
      "Time 158.04 seconds. T1: 20.949499999999997°C\n",
      "Time 160.11 seconds. T1: 20.949499999999997°C\n",
      "Time 162.04 seconds. T1: 20.949499999999997°C\n",
      "Time 164.05 seconds. T1: 20.949499999999997°C\n",
      "Time 166.01 seconds. T1: 20.949499999999997°C\n",
      "Time 168.23 seconds. T1: 20.6272°C\n",
      "Time 170.08 seconds. T1: 20.949499999999997°C\n",
      "Time 172.01 seconds. T1: 20.949499999999997°C\n",
      "Time 174.14 seconds. T1: 20.949499999999997°C\n",
      "Time 176.01 seconds. T1: 20.949499999999997°C\n",
      "Time 178.22 seconds. T1: 20.949499999999997°C\n",
      "Time 180.2 seconds. T1: 20.949499999999997°C\n",
      "Time 182.2 seconds. T1: 20.949499999999997°C\n",
      "Time 184.21 seconds. T1: 20.949499999999997°C\n",
      "Time 186.08 seconds. T1: 20.949499999999997°C\n",
      "Time 188.29 seconds. T1: 20.949499999999997°C\n",
      "Time 190.24 seconds. T1: 20.949499999999997°C\n",
      "Time 192.18 seconds. T1: 20.949499999999997°C\n",
      "Time 194.09 seconds. T1: 20.949499999999997°C\n",
      "Time 196.22 seconds. T1: 20.949499999999997°C\n",
      "Time 198.26 seconds. T1: 20.949499999999997°C\n",
      "Time 200.02 seconds. T1: 20.6272°C\n",
      "TCLab Model disconnected successfully.\n"
     ]
    }
   ],
   "source": [
    "from tclab import setup, clock\n",
    "TCLab = setup(connected=False, speedup=5)\n",
    "\n",
    "with TCLab() as lab:\n",
    "    for t in clock(200, 2):\n",
    "        print(f\"Time {t} seconds. T1: {lab.T1}°C\")\n"
   ]
  },
  {
   "cell_type": "markdown",
   "id": "6ceddd81",
   "metadata": {},
   "source": [
    "### Importazione\n",
    "    \n",
    "Una volta installato, il pacchetto `tclab` può essere importato in Python e un'istanza creata con le istruzioni Python\n",
    "\n",
    "    da tclab importa TCLab\n",
    "    laboratorio = TCLab()\n",
    "\n",
    "TCLab() tenta di trovare un dispositivo connesso a una porta seriale e restituire una connessione. Se non viene trovato alcun dispositivo viene generato un errore. La connessione deve essere chiusa quando non è più in uso.\n",
    "\n",
    "La cella seguente dimostra questo processo e utilizza la funzione tclab `LED()` per far lampeggiare il LED sul laboratorio di controllo della temperatura per un periodo di 10 secondi a un livello di luminosità del 100%."
   ]
  },
  {
   "cell_type": "code",
   "execution_count": null,
   "id": "ab8378d0",
   "metadata": {},
   "outputs": [
    {
     "name": "stdout",
     "output_type": "stream",
     "text": [
      "TCLab version 1.0.0\n",
      "--- Serial Ports ---\n",
      "/dev/cu.BLTH n/a n/a\n",
      "/dev/cu.BlueBeatsStudio n/a n/a\n",
      "/dev/cu.Bluetooth-Incoming-Port n/a n/a\n"
     ]
    },
    {
     "ename": "RuntimeError",
     "evalue": "No Arduino device found.",
     "output_type": "error",
     "traceback": [
      "\u001b[0;31m---------------------------------------------------------------------------\u001b[0m",
      "\u001b[0;31mRuntimeError\u001b[0m                              Traceback (most recent call last)",
      "Cell \u001b[0;32mIn[2], line 3\u001b[0m\n\u001b[1;32m      1\u001b[0m \u001b[38;5;28;01mfrom\u001b[39;00m \u001b[38;5;21;01mtclab\u001b[39;00m \u001b[38;5;28;01mimport\u001b[39;00m TCLab\n\u001b[0;32m----> 3\u001b[0m lab \u001b[38;5;241m=\u001b[39m \u001b[43mTCLab\u001b[49m\u001b[43m(\u001b[49m\u001b[43m)\u001b[49m\n\u001b[1;32m      4\u001b[0m lab\u001b[38;5;241m.\u001b[39mLED(\u001b[38;5;241m100\u001b[39m)\n\u001b[1;32m      5\u001b[0m lab\u001b[38;5;241m.\u001b[39mclose()\n",
      "File \u001b[0;32m~/opt/anaconda3/envs/tclab/lib/python3.10/site-packages/tclab/tclab.py:61\u001b[0m, in \u001b[0;36mTCLab.__init__\u001b[0;34m(self, port, debug)\u001b[0m\n\u001b[1;32m     59\u001b[0m \u001b[38;5;28mself\u001b[39m\u001b[38;5;241m.\u001b[39mport, \u001b[38;5;28mself\u001b[39m\u001b[38;5;241m.\u001b[39marduino \u001b[38;5;241m=\u001b[39m find_arduino(port)\n\u001b[1;32m     60\u001b[0m \u001b[38;5;28;01mif\u001b[39;00m \u001b[38;5;28mself\u001b[39m\u001b[38;5;241m.\u001b[39mport \u001b[38;5;129;01mis\u001b[39;00m \u001b[38;5;28;01mNone\u001b[39;00m:\n\u001b[0;32m---> 61\u001b[0m     \u001b[38;5;28;01mraise\u001b[39;00m \u001b[38;5;167;01mRuntimeError\u001b[39;00m(\u001b[38;5;124m'\u001b[39m\u001b[38;5;124mNo Arduino device found.\u001b[39m\u001b[38;5;124m'\u001b[39m)\n\u001b[1;32m     63\u001b[0m \u001b[38;5;28;01mtry\u001b[39;00m:\n\u001b[1;32m     64\u001b[0m     \u001b[38;5;28mself\u001b[39m\u001b[38;5;241m.\u001b[39mconnect(baud\u001b[38;5;241m=\u001b[39m\u001b[38;5;241m115200\u001b[39m)\n",
      "\u001b[0;31mRuntimeError\u001b[0m: No Arduino device found."
     ]
    }
   ],
   "source": [
    "from tclab import TCLab\n",
    "\n",
    "lab = TCLab()\n",
    "lab.LED(100)\n",
    "lab.close()"
   ]
  },
  {
   "cell_type": "markdown",
   "id": "f99fa383",
   "metadata": {},
   "source": [
    "### Utilizzo di TCLab con l'istruzione `with` di Python\n",
    "\n",
    "L'istruzione Python `with` fornisce un mezzo conveniente per impostare e chiudere una connessione al Laboratorio di controllo della temperatura. In particolare, l'istruzione with stabilisce un contesto in cui viene creata un'istanza tclab, assegnata a una variabile e chiusa automaticamente al completamento. L'istruzione \"with\" è il modo preferito per collegare il laboratorio di controllo della temperatura per la maggior parte degli usi."
   ]
  },
  {
   "cell_type": "code",
   "execution_count": null,
   "id": "78acab18",
   "metadata": {},
   "outputs": [],
   "source": [
    "from tclab import TCLab\n",
    "\n",
    "with TCLab() as lab:\n",
    "    lab.LED(100)"
   ]
  },
  {
   "cell_type": "markdown",
   "id": "30bc00b6",
   "metadata": {},
   "source": [
    "## Lettura delle temperature\n",
    "\n",
    "Una volta creata e connessa un'istanza tclab a un dispositivo, è possibile accedere ai sensori di temperatura nel laboratorio di controllo della temperatura con gli attributi \".T1\" e \".T2\". Ad esempio, data un'istanza \"lab\", si accede alle temperature come\n",
    "\n",
    "    T1 = lab.T1\n",
    "    T2 = lab.T2\n",
    "\n",
    "\"lab.T1\" e \"lab.T2\" sono proprietà di sola lettura. Qualsiasi tentativo di impostarli su un valore restituirà un errore Python."
   ]
  },
  {
   "cell_type": "code",
   "execution_count": null,
   "id": "4704a7bd",
   "metadata": {},
   "outputs": [],
   "source": [
    "from tclab import TCLab\n",
    "\n",
    "with TCLab() as a:\n",
    "    print(\"Temperature 1: {0:0.2f} C\".format(a.T1))\n",
    "    print(\"Temperature 2: {0:0.2f} C\".format(a.T2))"
   ]
  },
  {
   "cell_type": "markdown",
   "id": "4149c822",
   "metadata": {},
   "source": [
    "## Impostazione dei riscaldatori\n",
    "\n",
    "Per motivi tradizionali, esistono due modi per impostare i livelli di potenza dei riscaldatori.\n",
    "\n",
    "Il primo modo è utilizzare le funzioni`.Q1()` e `.Q2()` di un'istanza `TCLab`. Ad esempio, entrambi i riscaldatori possono essere impostati al 100% della potenza tramite le funzioni\n",
    "\n",
    "    laboratorio = TCLab()\n",
    "    lab.Q1(100)\n",
    "    lab.Q2(100)\n",
    "\n",
    "Il firmware del dispositivo limita i riscaldatori a un intervallo compreso tra 0 e 100%. È possibile accedere al valore corrente degli attributi tramite\n",
    "\n",
    "    Q1 = lab.Q1()\n",
    "    Q2 = lab.Q2()\n",
    "    \n",
    "Note importanti:\n",
    "1. Il LED sul laboratorio di controllo della temperatura passa da fioco a luminoso quando uno dei riscaldatori è acceso.\n",
    "2. La chiusura dell'istanza TCLab spegne i riscaldatori.\n",
    "3. Il livello di potenza dei due riscaldatori potrebbe essere diverso. Le versioni attuali del firmware limitano la potenza massima del primo riscaldatore a 4 watt e la potenza massima del secondo riscaldatore a 2 watt.\n",
    "4. Oltre ai vincoli imposti dal firmware, l'alimentatore potrebbe non essere in grado di fornire tutta la potenza necessaria per far funzionare entrambi i riscaldatori al 100%\n",
    "5. I valori recuperati da queste funzioni potrebbero essere diversi dai valori impostati a causa dei limiti di potenza imposti dal firmware del dispositivo."
   ]
  },
  {
   "cell_type": "code",
   "execution_count": null,
   "id": "ba381d41",
   "metadata": {},
   "outputs": [],
   "source": [
    "from tclab import TCLab\n",
    "import time\n",
    "\n",
    "with TCLab() as a:\n",
    "    print(\"\\nStarting Temperature 1: {0:0.2f} C\".format(a.T1),flush=True)\n",
    "    print(\"Starting Temperature 2: {0:0.2f} C\".format(a.T2),flush=True)\n",
    "\n",
    "    a.Q1(100)\n",
    "    a.Q2(100)\n",
    "    print(\"\\nSet Heater 1:\", a.Q1(), \"%\",flush=True)\n",
    "    print(\"Set Heater 2:\", a.Q2(), \"%\",flush=True)\n",
    "    \n",
    "    t_heat = 30\n",
    "    print(\"\\nHeat for\", t_heat, \"seconds\")\n",
    "    time.sleep(t_heat)\n",
    "\n",
    "    print(\"\\nTurn Heaters Off\")\n",
    "    a.Q1(0)\n",
    "    a.Q2(0)\n",
    "    print(\"\\nSet Heater 1:\", a.Q1(), \"%\",flush=True)\n",
    "    print(\"Set Heater 2:\", a.Q2(), \"%\",flush=True)\n",
    "    \n",
    "    print(\"\\nFinal Temperature 1: {0:0.2f} C\".format(a.T1))\n",
    "    print(\"Final Temperature 2: {0:0.2f} C\".format(a.T2))"
   ]
  },
  {
   "cell_type": "markdown",
   "id": "a5d6724c",
   "metadata": {},
   "source": [
    "In alternativa, i riscaldatori possono essere impostati utilizzando gli attributi \".U1\" e \".U2\" di un'istanza \"TCLab\"."
   ]
  },
  {
   "cell_type": "code",
   "execution_count": null,
   "id": "5a6854a2",
   "metadata": {},
   "outputs": [],
   "source": [
    "lab = TCLab()\n",
    "\n",
    "print('Setting power levels on heaters 1 and 2')\n",
    "lab.U1 = 50\n",
    "lab.U2 = 25\n",
    "\n",
    "print('Current power level on Heater 1 is: ', lab.U1, '%')\n",
    "print('Current power level on Heater 1 is: ', lab.U2, '%')\n",
    "\n",
    "lab.close()"
   ]
  },
  {
   "cell_type": "markdown",
   "id": "7aad24bc",
   "metadata": {},
   "source": [
    "## Sincronizzazione in tempo reale utilizzando `clock`\n",
    "\n",
    "Il modulo `tclab` include `clock` per sincronizzare i calcoli in tempo reale. \"clock(tperiod, tstep)\" genera una sequenza di iterazioni su un periodo di \"tperiod\" secondi in modo uniforme per \"tstep\" secondi. Se \"tstep\" viene omesso, il periodo predefinito è impostato su 1 secondo."
   ]
  },
  {
   "cell_type": "code",
   "execution_count": null,
   "id": "f499fc5b",
   "metadata": {},
   "outputs": [],
   "source": [
    "from tclab import clock\n",
    "\n",
    "tperiod = 6\n",
    "tstep = 2\n",
    "for t in clock(tperiod,tstep):\n",
    "    print(t, \"sec.\")"
   ]
  },
  {
   "cell_type": "markdown",
   "id": "f028d0db",
   "metadata": {},
   "source": [
    "Ci sono alcune considerazioni da tenere a mente quando si usa `clock`. Ancora più importante, per sua natura Python non è un ambiente in tempo reale. \"clock\" fa del suo meglio per rimanere sincronizzato con i tick equidistanti dell'orologio in tempo reale. Se, per qualche motivo, il ciclo resta indietro rispetto all'orologio in tempo reale, il generatore salterà l'evento per tornare in sincronia con l'orologio in tempo reale. Pertanto il numero totale di iterazioni potrebbe essere inferiore al previsto. Questo comportamento è illustrato nella cella seguente."
   ]
  },
  {
   "cell_type": "code",
   "execution_count": null,
   "id": "4450f3dd",
   "metadata": {},
   "outputs": [],
   "source": [
    "from tclab import TCLab, clock\n",
    "\n",
    "import time\n",
    "\n",
    "tfinal = 12\n",
    "tstep = 2\n",
    "for t in clock(tfinal, tstep):\n",
    "    print(t, \"sec.\")\n",
    "    \n",
    "    # insert a long time out between 3 and 5 seconds into the event loop\n",
    "    if (t > 3) and (t < 5):\n",
    "        time.sleep(2.2)"
   ]
  },
  {
   "cell_type": "markdown",
   "id": "d98b3537",
   "metadata": {},
   "source": [
    "### Utilizzo di `clock` con TCLab"
   ]
  },
  {
   "cell_type": "code",
   "execution_count": null,
   "id": "ef717b1d",
   "metadata": {},
   "outputs": [],
   "source": [
    "from tclab import TCLab, clock\n",
    "\n",
    "tperiod = 20\n",
    "\n",
    "# connect to the temperature control lab\n",
    "with TCLab() as a:\n",
    "    # turn heaters on\n",
    "    a.Q1(100)\n",
    "    a.Q2(100)\n",
    "    print(\"\\nSet Heater 1 to {0:f} %\".format(a.Q1()))\n",
    "    print(\"Set Heater 2 to {0:f} %\".format(a.Q2()))\n",
    "\n",
    "    # report temperatures for the next tperiod seconds\n",
    "    sfmt = \"   {0:5.1f} sec:   T1 = {1:0.1f} C    T2 = {2:0.1f} C\"\n",
    "    for t in clock(tperiod):\n",
    "        print(sfmt.format(t, a.T1, a.T2), flush=True)\n",
    "        "
   ]
  },
  {
   "cell_type": "markdown",
   "id": "8afa2f9d",
   "metadata": {},
   "source": [
    "## Lo `Historian` di TCLab"
   ]
  },
  {
   "cell_type": "markdown",
   "id": "fc76b156",
   "metadata": {},
   "source": [
    "La classe \"Historian\" fornisce mezzi per la registrazione dei dati. Data un'istanza \"lab\" di un oggetto TCLab, \"lab.sources\" è un elenco di tutte le origini dati e i metodi per accedere ai dati.\n",
    "\n",
    "    laboratorio = TCLab()\n",
    "    h = Historian(lab.fonti)\n",
    "    \n",
    "Lo storico inizializza un registro dati. Il registro dati viene aggiornato emettendo un comando\n",
    "\n",
    "    h.update(t)\n",
    "    \n",
    "dove \"t\" indica l'ora corrente. La cella successiva registra 10 secondi di dati con un livello di potenza variabile nel riscaldatore 1, quindi salva i dati in un file."
   ]
  },
  {
   "cell_type": "code",
   "execution_count": null,
   "id": "164da46c",
   "metadata": {},
   "outputs": [],
   "source": [
    "from tclab import TCLab, clock, Historian\n",
    "\n",
    "with TCLab() as lab:\n",
    "    h = Historian(lab.sources)\n",
    "    for t in clock(10):\n",
    "        lab.Q1(100 if t <= 5 else 0)\n",
    "        h.update(t)\n",
    "        \n",
    "h.to_csv('data.csv')"
   ]
  },
  {
   "cell_type": "markdown",
   "id": "62949cd3",
   "metadata": {},
   "source": [
    "Una volta salvati, i dati possono essere letti e tracciati utilizzando la [Libreria di analisi dei dati di Pandas](https://pandas.pydata.org/) come dimostrato in questa cella."
   ]
  },
  {
   "cell_type": "code",
   "execution_count": null,
   "id": "90bb415f",
   "metadata": {},
   "outputs": [],
   "source": [
    "%matplotlib inline\n",
    "\n",
    "import pandas as pd\n",
    "data = pd.read_csv('data.csv')\n",
    "data.index = data['Time']\n",
    "print(data)\n",
    "data[['Q1','Q2']].plot(grid=True)"
   ]
  },
  {
   "cell_type": "markdown",
   "id": "e258a6f3",
   "metadata": {},
   "source": [
    "## Il `Plotter` di TCLab\n",
    "\n",
    "La classe \"Plotter\" aggiunge un tracciamento in tempo reale dei dati sperimentali. Un plotter viene creato da un'istanza di uno storico come segue\n",
    "\n",
    "    h = Historian(lab.fonti)\n",
    "    p = Plotter(h)\n",
    "    \n",
    "Aggiornando il plotter si aggiorna anche lo storico associato.\n",
    "\n",
    "    p.update(t)\n",
    "    \n",
    "L'esempio seguente mostra come funziona."
   ]
  },
  {
   "cell_type": "code",
   "execution_count": null,
   "id": "652b1ce5",
   "metadata": {},
   "outputs": [],
   "source": [
    "%matplotlib notebook\n",
    "\n",
    "from tclab import TCLab, clock, Historian, Plotter\n",
    "\n",
    "with TCLab() as lab:\n",
    "    h = Historian(lab.sources)\n",
    "    p = Plotter(h, 10)\n",
    "    for t in clock(10):\n",
    "        lab.Q1(100 if t <= 5 else 0)\n",
    "        p.update(t)\n",
    "        \n",
    "h.to_csv('data.csv')"
   ]
  },
  {
   "cell_type": "markdown",
   "id": "9f6065a8",
   "metadata": {},
   "source": [
    "## Utilizzo di TCLab offline"
   ]
  },
  {
   "cell_type": "code",
   "execution_count": null,
   "id": "9aa7b74d",
   "metadata": {},
   "outputs": [
    {
     "data": {
      "image/png": "[encoded data removed]",
      "text/plain": [
       "<Figure size 640x480 with 4 Axes>"
      ]
     },
     "metadata": {},
     "output_type": "display_data"
    },
    {
     "name": "stdout",
     "output_type": "stream",
     "text": [
      "TCLab Model disconnected successfully.\n"
     ]
    },
    {
     "data": {
      "image/png": "[encoded data removed]",
      "text/plain": [
       "<Figure size 640x480 with 4 Axes>"
      ]
     },
     "metadata": {},
     "output_type": "display_data"
    }
   ],
   "source": [
    "%matplotlib inline\n",
    "from tclab import clock, setup, Historian, Plotter\n",
    "\n",
    "TCLab = setup(connected=False, speedup=20)\n",
    "\n",
    "SP = 40\n",
    "with TCLab() as a:\n",
    "    h = Historian(a.sources)\n",
    "    p = Plotter(h)\n",
    "    for t in clock(120,2):\n",
    "        PV = a.T1\n",
    "        MV = 100 if SP > PV else 0\n",
    "        a.U1 = MV\n",
    "        p.update()"
   ]
  },
  {
   "cell_type": "markdown",
   "id": "83de9dbf",
   "metadata": {},
   "source": [
    "## Esecuzione della diagnostica"
   ]
  },
  {
   "cell_type": "code",
   "execution_count": null,
   "id": "27c27ff0",
   "metadata": {},
   "outputs": [
    {
     "name": "stdout",
     "output_type": "stream",
     "text": [
      "Version =  1.0.0\n",
      "\n",
      "Checking connection\n",
      "-------------------\n",
      "Looking for Arduino on any port...\n",
      "--- Serial Ports ---\n",
      "/dev/cu.BLTH n/a n/a\n",
      "/dev/cu.BlueBeatsStudio n/a n/a\n",
      "/dev/cu.Bluetooth-Incoming-Port n/a n/a\n",
      "No known Arduino was found in the ports listed above.\n"
     ]
    }
   ],
   "source": [
    "import tclab\n",
    "\n",
    "print(\"Version = \", tclab.__version__)\n",
    "tclab.diagnose()"
   ]
  },
  {
   "cell_type": "code",
   "execution_count": null,
   "id": "ba427360",
   "metadata": {},
   "outputs": [],
   "source": []
  }
 ],
 "metadata": {
  "kernelspec": {
   "display_name": "python3",
   "language": "python",
   "name": "python3"
  }
 },
 "nbformat": 4,
 "nbformat_minor": 5
}
