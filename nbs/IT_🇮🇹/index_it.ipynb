{
  "cells": [
    {
      "cell_type": "markdown",
      "metadata": {},
      "source": "# Controllo del feedback"
    },
    {
      "cell_type": "markdown",
      "metadata": {},
      "source": "Il corso fornisce una vasta base di ingegneria del controllo, coprendo sia concetti teorici che applicazioni pratiche.\n\nÈ rivolto agli studenti universitari del secondo anno e a chiunque sia interessato a comprendere i principi dei controlli automatici."
    },
    {
      "cell_type": "markdown",
      "metadata": {},
      "source": "Semestre di insegnamento: primavera 2024\n\nLingua di insegnamento: italiano e inglese\n\n## Coordinatore del corso\n\nAndrea Munafo\n\n## Docente(i)\n\nAndrea Munafo"
    },
    {
      "cell_type": "markdown",
      "metadata": {},
      "source": "## Come usare"
    },
    {
      "cell_type": "markdown",
      "metadata": {},
      "source": "Ogni notebook è pensato per essere indipendente l'uno dall'altro, quindi è possibile eseguirli nell'ordine che preferisci."
    },
    {
      "cell_type": "markdown",
      "metadata": {},
      "source": "## Installa"
    },
    {
      "cell_type": "markdown",
      "metadata": {},
      "source": "I notebook funzionano con Python 3.9 e utilizzano le seguenti librerie Python:\n- controllo Python\n- insensato\n- panda\n- matplotlib\n\nPuoi facoltativamente installare 'sympy' per eseguire calcoli simbolici in Python.\n\nIl notebook `01_Getting_started_with_Python_and_Jupyter_Notebook.ipynb` fornisce una breve introduzione su come configurare un ambiente anaconda per iniziare.\n\n\nPer utilizzare tutti i notebook _potresti_ dover installare il pacchetto di controllo del feedback. Puoi farlo inserendo questo nel tuo terminale:\n\n    pip install -e '.[dev]'\n    \nQuesto è il modo consigliato per rendere importabile un pacchetto Python da qualsiasi punto dell'ambiente corrente:\n\n- `-e` – abbreviazione di “modificabile”, ti consente di utilizzare immediatamente le modifiche apportate al tuo pacchetto durante lo sviluppo.\n- `.` – si riferisce alla directory corrente.\n- `[dev]` – include i requisiti di \"sviluppo\": altri pacchetti che i tuoi notebook utilizzano esclusivamente per documentazione o test."
    },
    {
      "cell_type": "markdown",
      "metadata": {},
      "source": "## Ringraziamenti e riferimenti\n\n- I libri di testo rilevanti utilizzati per preparare questi quaderni sono riportati in `00_Syllabus.ipynb`."
    },
    {
      "cell_type": "markdown",
      "metadata": {},
      "source": "## Risorse addizionali\n\n- [Accademia dei sistemi di controllo](http://www.controlsystemsacademy.com/)\n- [Dinamica e controllo dei processi in Python](https://apmonitor.com/pdc/index.php)\n- [Karl J. Åström e Richard M. Murray, Sistemi di feedback: un'introduzione per scienziati e ingegneri](http://www.cds.caltech.edu/~murray/amwiki/index.php/Main_Page)\n- [Serie di conferenze sull'ingegneria dei controlli del Prof. Madan Gopal](https://www.youtube.com/playlist?list=PLghJObT_RyfLmKRT86TquJhG6QuiHZ6Pi)\n- [Progettazione di compensatori di anticipo e ritardo in Matlab e Simulink](https://ctms.engin.umich.edu/CTMS/index.php?aux=Extras_Leadlag)\n- [Nozioni di base sui sistemi di controllo](https://www.youtube.com/watch?v=wVPOp-tptPQ&list=PLwNL9Dya_TvWQ44OHs63cvf7H5TWW67tS)"
    },
    {
      "cell_type": "markdown",
      "metadata": {},
      "source": "--------------------"
    }
  ],
  "metadata": {
    "kernelspec": {
      "display_name": "python3",
      "language": "python",
      "name": "python3"
    }
  },
  "nbformat": 4,
  "nbformat_minor": 2
}