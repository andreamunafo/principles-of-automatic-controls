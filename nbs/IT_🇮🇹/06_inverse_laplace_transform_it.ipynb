{
 "cells": [
  {
   "cell_type": "markdown",
   "id": "c7d21ba4",
   "metadata": {},
   "source": [
    "## Trasformata di Laplace inversa: scomposizione parziale di frazioni"
   ]
  },
  {
   "cell_type": "markdown",
   "id": "6c7ca918",
   "metadata": {},
   "source": [
    "Per trovare la trasformata di Laplace inversa di una funzione complicata, possiamo convertire la funzione in una somma di termini più semplici di cui conosciamo la trasformata di Laplace di ciascun termine. Il risultato è chiamato espansione di frazioni parziali."
   ]
  },
  {
   "cell_type": "markdown",
   "id": "96b467a5",
   "metadata": {},
   "source": [
    "Dato:\n",
    "\n",
    "$$Y(s) = G(s)R(s) = \\frac{N(s)}{D(s)}R(s)$$\n",
    "\n",
    "dove l'ordine di $N(s)$ è inferiore all'ordine di $D(s)$, è possibile effettuare un'espansione per frazione parziale.\n",
    "\n",
    "Se l'ordine di $N(s)$ è maggiore o uguale all'ordine di $D(s)$, allora $N(s)$ deve essere diviso per $D(s)$ in successione finché il risultato non ha resto il cui numeratore è di ordine inferiore al denominatore."
   ]
  },
  {
   "cell_type": "markdown",
   "id": "f68965f6",
   "metadata": {},
   "source": [
    "Vogliamo espandere $G(s)$ nella somma delle funzioni di cui conosciamo già la trasformata inversa, poi grazie alla linearità potremo semplicemente sommarle tutte per ottenere l'inversa dell'intera funzione."
   ]
  },
  {
   "cell_type": "markdown",
   "id": "b30f0a3e",
   "metadata": {},
   "source": [
    "### Caso 1. Le radici del denominatore di F(s) sono reali e distinte\n",
    "\n",
    "Supponiamo di avere tutti **poli distinti**:\n",
    "\n",
    "$$ D(s) = \\prod^{n}_{k=1}{(s-p_k)}$$\n",
    "\n",
    "vogliamo trovare il coefficiente $P_k$ tale che:\n",
    "\n",
    "$$ \\frac{N(s)}{\\prod^{n}_{k=1}{(s-p_k)}} = \\sum^{n}_{k=1}\\frac{P_k}{ s-p_k}$$\n",
    "\n",
    "Moltiplicando per $(s-p_i)$:\n",
    "\n",
    "$$ (s-p_i)\\frac{N(s)}{\\prod^{n}_{k=1}{(s-p_k)}} = (s-p_i)\\sum^{n}_{ k=1}\\frac{P_k}{s-p_k}$$\n",
    "\n",
    "possiamo ottenere:\n",
    "\n",
    "$$P_i = [(s-p_i)G(s)] \\big|_{s=p_i}$$\n",
    "\n",
    "e infine:\n",
    "\n",
    "$$ g(t) = \\mathcal {L}^{-1}[G(s)]=\\mathcal {L}^{-1} \\bigg[\\sum^{n}_{k=1}\\ frac{P_k}{s-p_k}\\bigg] = \\sum^{n}_{k=1} P_k e^{p_kt}$$"
   ]
  },
  {
   "cell_type": "markdown",
   "id": "15eddd36",
   "metadata": {},
   "source": [
    "Per esempio:\n",
    "\n",
    "$$G(s) = \\frac{s-10}{(s+2)(s+5)}$$\n",
    "\n",
    "\n",
    "$$P_1=(s+2)\\frac{s-10}{(s+2)(s+5)}\\bigg|_{s=-2}=-\\frac{12}{3}=- 4$$\n",
    "$$P_2=(s+5)\\frac{s-10}{(s+2)(s+5)}\\bigg|_{s=-5}=\\frac{-15}{-3}= 5$$\n",
    "\n",
    "che significa che:\n",
    "\n",
    "$$G(s) = \\frac{-4}{(s+2)} + \\frac{5}{(s+5)}$$\n",
    "\n",
    "e infine:\n",
    "\n",
    "$$ g(t) = \\mathcal {L}^{-1}[G(s)] = -4e^{-2t} + 5e^{-5t}$$"
   ]
  },
  {
   "cell_type": "markdown",
   "id": "3e399b4a",
   "metadata": {},
   "source": [
    "### Caso 2. Le radici del denominatore di F(s) sono reali e ripetute\n",
    "\n",
    "Se abbiamo **poli multipli** la scomposizione è simile.\n",
    "\n",
    "\n",
    "Consideriamo, ad esempio\n",
    "\n",
    "$$\n",
    "Y(s) = \\frac{2}{(s+1)(s+2)^2}\n",
    "$$\n",
    "\n",
    "Le radici di $(s+2)^2$ nel denominatore vengono ripetute, poiché il fattore viene elevato a una potenza intera maggiore di 1. In questo caso, la radice del denominatore in $-2$ è una radice multipla di molteplicità 2 .\n",
    "\n",
    "Possiamo scrivere l'espansione delle frazioni parziali come una somma di termini, dove ciascun fattore del denominatore forma il denominatore di ciascun termine.\n",
    "\n",
    "**Inoltre, ciascuna radice multipla genera termini aggiuntivi costituiti da fattori denominatori di molteplicità ridotta.**\n",
    "\n",
    "Nel nostro caso\n",
    "\n",
    "$$\n",
    "Y(s) = \\frac{2}{(s+1)(s+2)^2} = \\frac{K_1}{(s+1)} + \\frac{K_2}{(s+2)^ 2} + \\frac{K_3}{(s+2)}\n",
    "$$\n",
    "\n",
    "- Otteniamo $K_1$ come prima. In questo caso $K_1=2$\n",
    "\n",
    "- Otteniamo $K_2$ moltiplicando l'equazione precedente per $(s+2)^2$:\n",
    "\n",
    "$$\n",
    "\\frac{2}{(s+1)} = \\frac{K_1(s+2)^2}{(s+1)} + K_2 + K_3(s+2)\n",
    "$$\n",
    "\n",
    "Quando $s \\rightarrow -2$, $K_2=-2$\n",
    "\n",
    "- Otteniamo $K_3$ differenziando l'equazione precedente rispetto a $s$:\n",
    "\n",
    "$$\n",
    "\\frac{-2}{(s+1)^2} = \\frac{2(s+2)K_1}{(s+1)^2} + K_3\n",
    "$$\n",
    "\n",
    "Da cui $K_3$ può essere isolato e trovato se lasciamo $s \\rightarrow -2$. Quindi, $K_3=-2$.\n",
    "\n",
    "In questo caso quindi:\n",
    "\n",
    "\n",
    "$$\n",
    "Y(s) = \\frac{2}{(s+1)(s+2)^2} = \\frac{2}{(s+1)} + \\frac{-2}{(s+2) ^2} + \\frac{-2}{(s+2)}\n",
    "$$\n",
    "\n",
    "e la trasformata inversa è:\n",
    "\n",
    "$$\n",
    "y(t) = 2e^{-t} - 2te^{-2t} -2e^{-2t}\n",
    "$$\n",
    "\n",
    "Se la radice del denominatore ha molteplicità maggiore di 2, la differenziazione successiva isolerebbe ciascun residuo nell'espansione della radice multipla."
   ]
  },
  {
   "cell_type": "markdown",
   "id": "ac7ab563",
   "metadata": {},
   "source": [
    "In generale, dato un $H(s)$ il cui denominatore ha radici reali e ripetitive:\n",
    "\n",
    "$$H(s) = \\frac{N(s)}{(s+p_1)^r(s+p_2)...(s+p_n)}$$\n",
    "\n",
    "Possiamo trovare l'espressione generale per $K_1$ (il coefficiente delle radici con molteplicità maggiore di 1):\n",
    "\n",
    "$$\n",
    "K_i = \\frac{1}{(i-1)!}\\frac{d^{i-1}(F(s)(s+p_1)^r)}{ds^{i-1}}\\Big |_{s\\rightarrow-p_1} \\;\\; i=1,2,...,r\n",
    "$$"
   ]
  },
  {
   "cell_type": "markdown",
   "id": "54d119f0",
   "metadata": {},
   "source": [
    "### Caso 3. Le radici del denominatore di F(s) sono complesse o immaginarie\n",
    "\n",
    "La tecnica utilizzata per l'espansione in frazioni parziali di $F(s)$ con radici reali al denominatore può essere utilizzata per radici complesse e immaginarie.\n",
    "\n",
    "Tuttavia, i residui delle radici complesse e immaginarie sono essi stessi coniugati complessi.\n",
    "\n",
    "In questo caso i termini risultanti possono essere identificati come:\n",
    "\n",
    "$$\n",
    "\\frac{e^{j\\theta}+e^{-j\\theta}}{2} = \\cos{\\theta}\n",
    "$$\n",
    "\n",
    "E\n",
    "\n",
    "$$\n",
    "\\frac{e^{j\\theta}-e^{-j\\theta}}{2j} = \\sin{\\theta}\n",
    "$$"
   ]
  },
  {
   "cell_type": "markdown",
   "id": "5513513d",
   "metadata": {},
   "source": [
    "Per esempio:\n",
    "\n",
    "$$\n",
    "F(s) = \\frac{3}{s(s^2+2s+5)} = \\frac{3}{s(s+1+j2)(s+1-j2)} = \\frac{K_1 }{s} + \\frac{K_2}{s+1+j2} + \\frac{K_3}{s+1-j2}\n",
    "$$\n",
    "\n",
    "$K_1$ viene trovato come al solito e trovato $K_1=3/5$.\n",
    "\n",
    "\n",
    "Per trovare $K_2$:\n",
    "\n",
    "$$\n",
    "K_2 = \\frac{3}{s(s+1-j2)}\\Big|_{s\\rightarrow -1-j2} = \\frac{-3}{20}(2+j1)\n",
    "$$\n",
    "\n",
    "Risulta che $K_3$ è il complesso coniugato di $K_2$.\n",
    "\n",
    "$$\n",
    "F(s) = \\frac{3/5}{s} - \\frac{3}{20}\\Big(\\frac{2+j1}{s+1+2j} + \\frac{2-j1}{ s+1-2j}\\Big)\n",
    "$$\n",
    "\n",
    "che possiamo trasformare in senso inverso per ottenere:\n",
    "\n",
    "$$\n",
    "f(t) = \\frac{3}{5} - \\frac{3}{20}\\Big[ (2+j1)e^{-(1+j2)t} + (2-j1)e^{ -(1-j2)t} \\Big]\n",
    "$$\n",
    "\n",
    "$$\n",
    "f(t) = \\frac{3}{5} - \\frac{3}{20} e^{-t}\\Big[4 \\Big( \\frac{e^{j2t}+e^{-j2t} }{2}\\Big) + 2 \\Big(\\frac{e^{j2t}-e^{-j2t}}{2j} \\Big) \\Big]\n",
    "$$\n",
    "\n",
    "\n",
    "$$\n",
    "f(t) = \\frac{3}{5} - \\frac{3}{5} e^{-t} \\Big( cos(2t) + \\frac{1}{2}sin(2t) \\Big ) = 0,6 - 0,671e^tcos(2t-\\phi)\n",
    "$$\n",
    "\n",
    "dove $\\phi = arctan0.5=26.57^o$"
   ]
  },
  {
   "cell_type": "code",
   "execution_count": null,
   "id": "55d8941d",
   "metadata": {},
   "outputs": [],
   "source": []
  }
 ],
 "metadata": {
  "kernelspec": {
   "display_name": "python3",
   "language": "python",
   "name": "python3"
  }
 },
 "nbformat": 4,
 "nbformat_minor": 5
}
