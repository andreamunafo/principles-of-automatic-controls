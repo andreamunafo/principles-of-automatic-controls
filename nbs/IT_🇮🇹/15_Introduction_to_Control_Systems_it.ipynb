{
 "cells": [
  {
   "cell_type": "markdown",
   "id": "e2855e29",
   "metadata": {},
   "source": [
    "# Introduzione ai sistemi di controllo"
   ]
  },
  {
   "cell_type": "markdown",
   "id": "902b5e56",
   "metadata": {},
   "source": [
    "In questo notebook esploreremo i concetti fondamentali dei sistemi di controllo e le varie modalità di controllo, inclusi il controllo proporzionale, il controllo integrale e il controllo derivativo."
   ]
  },
  {
   "cell_type": "markdown",
   "id": "a0ff0e69",
   "metadata": {},
   "source": [
    "In un sistema di controllo, abbiamo una struttura di feedback di base composta da diversi componenti:\n",
    "\n",
    "<table>\n",
    "<tr>\n",
    "    <img src=\"../pics/15_Introduction_to_Control_Systems_feedback_loop.png\" alt=\"15_Introduction_to_Control_Systems_feedback_loop\" style=\"width:650px;\"/>\n",
    "</tr></table>\n",
    "\n",
    "Per semplicità stiamo considerando un sistema a retroazione unitaria, e quindi ci concentriamo direttamente sull'errore di sistema \\$e\\$.\n",
    "\n",
    "- **$G(s)$**: Rappresenta l'impianto, che per semplicità indicheremo come SG.\n",
    "- **$D$**: la funzione di trasferimento del nostro controller.\n",
    "- **$N$**: Un modello che cattura i disturbi che agiscono sul sistema.\n",
    "- **$y$**: la nostra variabile controllata.\n",
    "- **$y_r$**: Il comando o il segnale di riferimento.\n",
    "- **$e = y_r - y$**: Il segnale di errore\n",
    "\n",
    "\n",
    "Appunti:\n",
    "- Feedback unitario quindi $e = r-y$, mentre se fosse avvenuto tramite un sensore avremmo avuto $\\hat{e}$.\n",
    "\n",
    "- Ora concentriamoci sul controller, indicato come $D$. Fino ad ora, il tipo più elementare di controller che abbiamo utilizzato è un amplificatore. In questo corso abbiamo esplorato amplificatori con guadagni diversi in una varietà di contesti industriali. Tuttavia, come abbiamo osservato nella nostra discussione precedente, un amplificatore da solo potrebbe non soddisfare tutti i nostri obiettivi prestazionali. C'è un conflitto intrinseco negli obiettivi prestazionali. Ad esempio, l'aumento del guadagno dell'amplificatore migliora alcune caratteristiche prestazionali del sistema, ma allo stesso tempo può avere un impatto negativo su altri aspetti cruciali.\n",
    "\n",
    "- Dobbiamo anche tenere presente che non è necessario vincolare la forma di $D(s)$.\n",
    "\n",
    "Storicamente esistevano limitazioni hardware (i controller dovevano essere idraulici, pneumatici o elettrici).\n",
    "\n",
    "Con l'avvento della tecnologia digitale, praticamente qualsiasi funzione può essere realizzata tramite un computer digitale, eliminando le limitazioni dei sistemi di controllo basati su hardware."
   ]
  },
  {
   "cell_type": "markdown",
   "id": "96ec411b",
   "metadata": {},
   "source": [
    "## Controllo proporzionale (controllo P)\n",
    "\n",
    "Il controllo proporzionale è una delle modalità di controllo più semplici. Il segnale di controllo \\$u\\$ nel controllo proporzionale è dato da:\n",
    "\n",
    "$$\n",
    "u = K_c \\cdot e\n",
    "$$\n",
    "\n",
    "Dove $K_c$ è il guadagno del controller.\n",
    "\n",
    "Nel dominio di Laplace:\n",
    "\n",
    "$$\n",
    "U(s) = K_c \\cdot E(s)\n",
    "$$"
   ]
  },
  {
   "cell_type": "markdown",
   "id": "2fa1028f",
   "metadata": {},
   "source": [
    "## Proporzionale - Controllo integrale (controllo PI)\n",
    "\n",
    "Il controllo proporzionale-integrale, spesso noto come controllo PI, introduce un'azione integrale per migliorare le prestazioni del controllo.\n",
    "\n",
    "Il segnale di controllo $u$ in controllo integrale è dato da:\n",
    "\n",
    "$$\n",
    "u = K_c \\cdot \\big( e + \\frac{1}{T_I} \\int e dt \\big)\n",
    "$$\n",
    "\n",
    "È composto da due componenti, una proporzionale all'errore e una proporzionale all'integrale dell'errore.\n",
    "\n",
    "Nel dominio di Laplace:\n",
    "\n",
    "$$\n",
    "u = K_c \\cdot \\big( 1 + \\frac{1}{T_I s}\\big)E(s)\n",
    "$$\n",
    "\n",
    "A volte scritto anche come:\n",
    "\n",
    "$$\n",
    "u = \\big( K_c + \\frac{K_I}{s}\\big)E(s)\n",
    "$$\n",
    "\n",
    "\n",
    "Dove:\n",
    "- $K_I$ è chiamato guadagno integrale\n",
    "- $K_c$ è chiamato guadagno del controller\n",
    "- $T_I$ è il tempo integrale o tempo di reset.\n",
    "\n",
    "Esploreremo i vantaggi del controllo integrale e la sua applicazione nei sistemi di controllo."
   ]
  },
  {
   "cell_type": "markdown",
   "id": "35beb1c0",
   "metadata": {},
   "source": [
    "## Controllo proporzionale-derivativo (controllo PD)\n",
    "\n",
    "Il controllo proporzionale-derivativo, spesso noto come controllo PD, introduce un'azione derivativa nei sistemi di controllo.\n",
    "\n",
    "Il segnale di controllo $u$ nel controllo derivato è dato da:\n",
    "\n",
    "$$\n",
    "u = K_c \\big(e + T_D \\dot{e}\\big )\n",
    "$$\n",
    "\n",
    "Nel dominio di Laplace:\n",
    "\n",
    "$$\n",
    "U(s) = K_c \\big(1 + T_D s\\big )E(s)\n",
    "$$\n",
    "\n",
    "Dove $T_D$ è il tempo derivativo o il tempo del tasso.\n",
    "\n",
    "\n",
    "A volte scritto anche come:\n",
    "\n",
    "$$\n",
    "u = \\big( K_c + K_D s\\big)E(s)\n",
    "$$\n",
    "\n",
    "Dove $K_D$ è chiamato guadagno derivato.\n",
    "\n",
    "Esamineremo il ruolo del controllo derivato e il suo impatto sulle prestazioni del sistema di controllo."
   ]
  },
  {
   "cell_type": "markdown",
   "id": "9fecf02d",
   "metadata": {},
   "source": [
    "## Controllo PID\n",
    "\n",
    "Il controllo PID combina azioni proporzionali, integrali e derivative in un unico controller. Il segnale di controllo $u$ nel controllo PID è dato da:\n",
    "\n",
    "$$\n",
    "u = K_c \\cdot (e + \\frac{1}{T_I} \\int e dt + T_D \\cdot \\frac{de}{dt})\n",
    "$$\n",
    "\n",
    "$$\n",
    "U(s) = K_c \\big(1+\\frac{1}{T_I s} + T_Ds\\big)E(s)\n",
    "$$\n",
    "\n",
    "A volte scritto anche come:\n",
    "\n",
    "$$\n",
    "U(s) = \\big(K_c+\\frac{K_I}{s} + K_Ds\\big)E(s)\n",
    "$$\n",
    "\n",
    "\n",
    "Spesso utilizzato come primo tentativo prima di tentare metodi diversi se il PID non funziona."
   ]
  },
  {
   "cell_type": "markdown",
   "id": "4d306540",
   "metadata": {},
   "source": [
    "## Esempio: sistema di controllo della temperatura\n",
    "\n",
    "Considera un sistema di controllo della temperatura progettato per mantenere la temperatura di una camera a un livello prescritto. Questo sistema costituisce un eccellente esempio del controllo proporzionale.\n",
    "\n",
    "- Descrizione del sistema: Consideriamo un sistema di controllo della temperatura, ovvero una camera in cui la temperatura deve essere mantenuta a un livello specifico $\\theta_r$.\n",
    "La variabile di disturbo (temperatura ambiente) in questo sistema è indicata come $\\theta_a$ e $\\theta$ rappresenta la temperatura della camera.\n",
    "\n",
    "- Contesto applicativo: questo sistema può essere paragonato a una camera di prova per apparecchiature elettroniche, dove è necessario regolare la temperatura per testare i componenti in diverse condizioni termiche.\n",
    "\n",
    "\n",
    "<table>\n",
    "<tr>\n",
    "    <img src=\"../pics/15_Introduction_to_Control_Systems_temperature_control.png\" alt=\"15_Introduction_to_Control_Systems_temperature_control\" style=\"width:650px;\"/>\n",
    "</tr></table>\n",
    "\n",
    "Componenti del sistema:\n",
    "- Temperatura della Camera ($\\theta$): La variabile primaria da regolare.\n",
    "- Variabile di disturbo ($\\theta_a$): fattori esterni che influenzano la temperatura della camera, come la temperatura ambiente.\n",
    "- Termocoppia: un sensore utilizzato per misurare la temperatura della camera.\n",
    "- Trasduttore Elettropneumatico: Converte il segnale elettrico in un segnale di pressione.\n",
    "- Posizionatore della valvola: regola una valvola per controllare il flusso di vapore, regolando così la temperatura della camera.\n",
    "- Scambiatore di calore: Facilita il riscaldamento dell'aria all'interno della camera.\n",
    "\n",
    "Operazione:\n",
    "-La temperatura desiderata ($\\theta_r$) viene impostata e confrontata con la temperatura effettiva (θ).\n",
    "- La termocoppia genera un segnale elettrico proporzionale alla differenza di temperatura.\n",
    "- Questo segnale viene amplificato e utilizzato per regolare la posizione della valvola, controllando il flusso di vapore e, di conseguenza, la temperatura.\n",
    "\n",
    "\n",
    "Requisiti di controllo\n",
    "\n",
    "- Obiettivo: mantenere la temperatura della camera ad un valore regolato, $\\theta_r$.\n",
    "- Rilevamento della temperatura: una termocoppia viene utilizzata come sensore per misurare la temperatura della camera.\n",
    "- Calcolo dell'errore: l'uscita del sensore, indicata come $e_t$, viene confrontata con un valore di riferimento $e_r$ (proporzionale a $\\theta_r$) per calcolare il segnale di errore $e$.\n",
    "\n",
    "Controller e attuatori\n",
    "\n",
    "- Amplificatore come controller: l'uscita dell'amplificatore, in base al segnale di errore, viene utilizzata per controllare il trasduttore elettropneumatico, che a sua volta genera un segnale di pressione.\n",
    "- Posizionatore della valvola: questo dispositivo regola la valvola in base al segnale di pressione, controllando il flusso di vapore e quindi la temperatura nella camera.\n",
    "\n",
    "Disturbi\n",
    "\n",
    "- Sorgenti di disturbo: i cambiamenti della temperatura ambientale o le variazioni del segnale di comando sono i disturbi principali.\n",
    "- Risposta del sistema: il sistema di controllo regola la portata del vapore per ripristinare l'equilibrio in risposta ai disturbi."
   ]
  },
  {
   "cell_type": "markdown",
   "id": "7c0a3dfb",
   "metadata": {},
   "source": [
    "### Utilizzo di un proporzionale proporzionale\n",
    "\n",
    "Analizziamo quanto sia efficace il controllo proporzionale nel mantenere la temperatura desiderata in presenza di disturbi.\n",
    "\n",
    "🤔 **Domanda popup**: Cosa succede al segnale di errore $e$ quando la temperatura della camera $\\theta$ è uguale al setpoint $\\theta_r$?\n",
    "\n",
    "**Risposta**: Il segnale di errore $e$ diventa zero, indicando che non vi è alcuna discrepanza tra la temperatura desiderata e quella effettiva.\n",
    "\n",
    "\n",
    "<table>\n",
    "<tr>\n",
    "    <img src=\"../pics/15_Introduction_to_Control_Systems_temperature_control_1.png\" alt=\"15_Introduction_to_Control_Systems_temperature_control_1\" style=\"width:650px;\"/>\n",
    "</tr></table>"
   ]
  },
  {
   "cell_type": "markdown",
   "id": "1916d1e5",
   "metadata": {},
   "source": [
    "Nello stato di equilibrio sia il segnale di errore che il segnale di controllo sono nulli. La regolazione iniziale del trasduttore elettropneumatico all'interno del posizionatore della valvola mantiene l'equilibrio termico. Questa regolazione compensa inoltre eventuali perdite di calore nell'ambiente circostante, a condizione che la temperatura ambiente rimanga costante."
   ]
  },
  {
   "cell_type": "markdown",
   "id": "b529625f",
   "metadata": {},
   "source": [
    "**Cosa succede se si verificano disordini?**"
   ]
  },
  {
   "cell_type": "markdown",
   "id": "dd83d7b9",
   "metadata": {},
   "source": [
    "Le perturbazioni dalla posizione di equilibrio possono essere create da\n",
    "- Cambiamento nell'ambiente\n",
    "- Modifica del segnale di comando\n",
    "\n",
    "Quando ciò accade, abbiamo un segnale di errore $e$ e un corrispondente segnale di controllo $u$ che deve riaggiustare la portata del vapore per raggiungere un nuovo equilibrio."
   ]
  },
  {
   "cell_type": "markdown",
   "id": "ec1f5fbb",
   "metadata": {},
   "source": [
    "### Modellazione del sistema di controllo della temperatura\n",
    "\n",
    "- **Modello matematico:** Possiamo modellare la camera come un sistema del primo ordine con una funzione di trasferimento\n",
    "\n",
    "$$ \\frac{K_p}{\\tau_p s + 1} $$\n",
    "\n",
    "dove $K_p$ è il guadagno del processo e $\\tau_p$ è la costante di tempo.\n",
    "\n",
    "- **Disturbo:** I cambiamenti nella temperatura ambientale ($\\theta_a$) possono perturbare il sistema dal suo equilibrio.\n",
    "\n",
    "Possiamo quindi modellare l'influenza del disturbo come un sistema del primo ordine con una funzione di trasferimento\n",
    "\n",
    "$$ \\frac{1}{\\tau_p s + 1} $$\n",
    "\n",
    "Impostare $K$ come 1 implica che stiamo assumendo un impatto diretto e uno a uno di $ \\theta_a $ su $ \\theta $ allo stato stazionario. Se una valutazione sperimentale rivela una deviazione da questa ipotesi, è possibile introdurre una costante appropriata per tenere conto della differenza.\n",
    "\n",
    "_Quando consideriamo i modelli dinamici consideriamo sempre rispetto allo stato stazionario. La temperatura ambiente totale non è $\\theta_a$, che è la perturbazione della temperatura ambiente dal punto di equilibrio._"
   ]
  },
  {
   "cell_type": "markdown",
   "id": "b887dcfd",
   "metadata": {},
   "source": [
    "<table>\n",
    "<tr>\n",
    "    <img src=\"../pics/15_Introduction_to_Control_Systems_temperature_control_1.png\" alt=\"15_Introduction_to_Control_Systems_temperature_control_1\" style=\"width:650px;\"/>\n",
    "</tr></table>"
   ]
  },
  {
   "cell_type": "markdown",
   "id": "712e89e3",
   "metadata": {},
   "source": [
    "### Diagramma a blocchi\n",
    "\n",
    "Possiamo quindi scrivere lo schema a blocchi del sistema di termoregolazione, illustrando la relazione tra il segnale di controllo, l'impianto e l'uscita.\n",
    "\n",
    "\n",
    "<table>\n",
    "<tr>\n",
    "    <img src=\"../pics/15_Introduction_to_Control_Systems_temperature_control_2.png\" alt=\"15_Introduction_to_Control_Systems_temperature_control_2\" style=\"width:750px;\"/>\n",
    "</tr></table>"
   ]
  },
  {
   "cell_type": "markdown",
   "id": "a15948b4",
   "metadata": {},
   "source": [
    "Nell'esempio del sistema di controllo della temperatura, stiamo osservando un controller proporzionale (P) in cui vengono moltiplicati insieme vari guadagni. Analizziamo questi guadagni e le loro unità per comprendere l'unità complessiva del controller proporzionale in questo contesto.\n",
    "\n",
    "### Ripartizione dei guadagni e delle loro unità\n",
    "\n",
    "1. **Guadagno dell'amplificatore ($K_A$):** questo guadagno è generalmente espresso nell'unità volt per volt (V/V), poiché mette in relazione la tensione di uscita con la tensione di ingresso dell'amplificatore.\n",
    "\n",
    "2. **Guadagno trasduttore elettropneumatico ($K_e$):** questo guadagno converte il segnale elettrico (tensione) in un segnale pneumatico (pressione).\n",
    "\n",
    "3. **Guadagno posizionatore valvola ($K_x$):** Mette in relazione il segnale di pressione pneumatica con la posizione meccanica della valvola. La sua unità potrebbe essere adimensionale e rappresentare il rapporto tra lo spostamento dello stelo della valvola e il segnale di pressione in ingresso (ad esempio mm/psi o mm/bar).\n",
    "\n",
    "4. **Guadagno valvola di controllo ($K_v$):** Questo guadagno descrive come la posizione della valvola influisce sulla portata del vapore. L'unità potrebbe essere in termini di portata di vapore per unità di spostamento, ad esempio metri cubi all'ora per millimetro (m³/h/mm).\n",
    "\n",
    "### Calcolo del guadagno complessivo del controller proporzionale\n",
    "\n",
    "Quando questi guadagni vengono moltiplicati insieme, l'unità risultante del guadagno complessivo del controller proporzionale ($K$) sarà un composto di tutte queste singole unità. Nello scenario indicato, le unità si moltiplicherebbero come segue:\n",
    "\n",
    "$$ K = K_A \\times K_e \\times K_x \\times K_v $$\n",
    "\n",
    "Quindi, ad esempio, l'unità di $K$ sarebbe:\n",
    "\n",
    "$$ \\text{V/V} \\times \\text{psi/V} \\times \\text{(mm/psi)} \\times \\text{(m³/h/mm)} $$\n",
    "\n",
    "Se semplificato, questo ci dà:\n",
    "\n",
    "$$ \\text{m³/h/V} $$\n",
    "\n",
    "### Interpretazione\n",
    "\n",
    "L'unità risultante di m³/h/V indica che la produzione del controller, in termini di portata di vapore (m³/h), è proporzionale alla tensione in ingresso al sistema. Ciò riflette l'essenza di un controller proporzionale, in cui l'uscita è direttamente proporzionale al segnale di errore, che, in questo caso, è rappresentato in tensione.\n",
    "\n",
    "Questa conoscenza dettagliata delle unità è fondamentale per la progettazione e la messa a punto dei sistemi di controllo, garantendo che il controller funzioni entro l'intervallo desiderato e gestisca efficacemente l'impianto che sta controllando."
   ]
  },
  {
   "cell_type": "markdown",
   "id": "6ecc3a28",
   "metadata": {},
   "source": [
    "### Componenti come sistemi di ordine zero\n",
    "\n",
    "Abbiamo semplificato il nostro modello trattando tutti questi componenti come sistemi di ordine zero, ignorando le loro dinamiche intrinseche. È importante ricordare che questi componenti possiedono caratteristiche dinamiche.\n",
    "\n",
    "Caratterizzarli come sistemi di ordine zero implica l'assunzione di una risposta istantanea, che non è possibile per nessun sistema fisico. Tuttavia questa semplificazione è dovuta al fatto che le costanti di tempo di questi singoli componenti sono notevolmente piccole rispetto alla costante di tempo dell'impianto $ \\tau_p $."
   ]
  },
  {
   "cell_type": "markdown",
   "id": "5464bd18",
   "metadata": {},
   "source": [
    "## Comprendere l'impatto del disturbo ($\\theta_a$)\n",
    "\n",
    "Con riferimento al disegno fisico sopra riportato, considerare un aumento della temperatura ambiente ($\\theta_a$). Intuitivamente, se la temperatura esterna aumenta, il flusso di calore in uscita dal sistema diminuirà, portando ad un aumento della temperatura della camera.\n",
    "\n",
    "Premesso questo, considereremo positivo l'effetto del disturbo $\\theta_a$ sul sistema $\\theta$ (vedi punto di somma nello schema a blocchi)."
   ]
  },
  {
   "cell_type": "markdown",
   "id": "1f312418",
   "metadata": {},
   "source": [
    "## Effetti del guadagno dell'amplificatore\n",
    "\n",
    "Il nostro obiettivo è studiare l'effetto del guadagno dell'amplificatore ($K_A$) su vari parametri prestazionali come errore a regime, risposta ai transitori e sensibilità ai disturbi."
   ]
  },
  {
   "cell_type": "markdown",
   "id": "f3db7a70",
   "metadata": {},
   "source": [
    "### Sviluppo dell'equazione del sistema\n",
    "\n",
    "#### Descrivere le equazioni\n",
    "\n",
    "1. **Segnale di errore:** L'errore è rappresentato da\n",
    "\n",
    "$$e = K_t \\theta_r(s) - K_t \\theta(s)$$\n",
    "\n",
    "dove $K_t$ è la costante della termocoppia, $\\theta_r$ è la temperatura di riferimento e $\\theta$ è la temperatura effettiva.\n",
    "\n",
    "2. **Segnale di controllo:** il segnale di errore viene moltiplicato per il prodotto dei guadagni\n",
    "\n",
    "$$K_A K_e K_x K_v$$\n",
    "\n",
    "risultante nella variabile manipolata.\n",
    "\n",
    "3. **Dinamica complessiva del sistema:** Incorporando la dinamica dell'impianto, rappresentata da $\\frac{K_p}{\\tau_p s + 1}$, e il disturbo $\\theta_a$, otteniamo un'equazione completa che descrive il sistema:\n",
    "\n",
    "$$\\Big[ (K_t \\theta_r(s) - K_t \\theta(s))K_A K_e K_x K_v \\Big] \\frac{K_p}{\\tau_p s + 1}$$\n",
    "\n",
    "4. **Incluso il disturbo:**\n",
    "\n",
    "$$\\Big[ (K_t \\theta_r(s) - K_t \\theta(s))K_A K_e K_x K_v \\Big] \\frac{K_p}{\\tau_p s + 1} + \\frac{1}{\\tau_p s + 1}\\theta_a(s) = \\theta$$"
   ]
  },
  {
   "cell_type": "markdown",
   "id": "d2e318db",
   "metadata": {},
   "source": [
    "#### Manipolazione dell'equazione\n",
    "\n",
    "- **Obiettivo:** Esprimere l'uscita del sistema $\\theta(s)$ in termini di ingresso di riferimento $\\theta_r(s)$ e disturbo \\(\\theta_a(s)\\).\n",
    "\n",
    "$$ (\\tau_p s + 1)\\theta(s) + K_tK_A K_e K_x K_vK_p\\theta(s) = (K_tK_A K_e K_x K_vK_p)\\theta_r + \\theta_a $$\n",
    "\n",
    "\n",
    "- **Guadagno del loop ($K$):** Combinando le costanti, definiamo\n",
    "\n",
    "$$K = K_t K_A K_e K_x K_v K_p$$\n",
    "\n",
    "definito guadagno d'anello.\n",
    "\n",
    "Questo guadagno, in particolare $K_A$ (il guadagno dell'amplificatore), influenza direttamente la risposta del sistema."
   ]
  },
  {
   "cell_type": "markdown",
   "id": "f3d85069",
   "metadata": {},
   "source": [
    "### Equazione finale\n",
    "\n",
    "Utilizzando il guadagno d'anello $K$ possiamo ora ottenere:\n",
    "\n",
    "$$ (\\tau_p s + 1 + K )\\theta(s) = K \\theta_r(s) + \\theta_a(s) $$\n",
    "\n",
    "\n",
    "**Interpretazione:** Questa equazione collega la temperatura di uscita $\\theta(s)$ con la temperatura di riferimento $\\theta_r(s)$ e il disturbo della temperatura ambiente $\\theta_a(s)$."
   ]
  },
  {
   "cell_type": "markdown",
   "id": "a00a86fa",
   "metadata": {},
   "source": [
    "### Punti chiave da notare\n",
    "\n",
    "- **Costante di controllo proporzionale:** Il guadagno del circuito $K$ può essere considerato come una costante di controllo proporzionale, che riflette l'efficacia del controllore proporzionale nel mantenere la temperatura desiderata in presenza di disturbi.\n",
    "\n",
    "- **Attenzione ai dettagli:** È necessario prestare attenzione nella derivazione di questa equazione. Qualsiasi errore nella manipolazione può portare a conclusioni errate sul comportamento del sistema."
   ]
  },
  {
   "cell_type": "markdown",
   "id": "300729a0",
   "metadata": {},
   "source": [
    "Quindi in questo caso l'equazione finale è:\n",
    "\n",
    "$$ \\theta(s) = \\frac{K}{\\tau_p s + 1 + K} \\theta_r(s) + \\frac{1}{\\tau_p s + 1 + K} \\theta_a(s) $$\n",
    "\n",
    "Abbiamo la relazione tra l'uscita $\\theta(s)$ e il comando $\\theta_r(s)$ e tra l'uscita $\\theta(s)$ e il disturbo $\\theta_a(s)$.\n",
    "\n",
    "\n",
    "#### Impatto del feedback sulla costante di tempo\n",
    "\n",
    "Riscrivere l'espressione del sistema come\n",
    "\n",
    "$$ \\theta(s) = \\frac{K}{1 + K} \\cdot \\frac{1}{\\tau s + 1} \\theta_r(s) + \\frac{1}{1 + K} \\cdot \\frac{1}{\\tau s + 1} \\theta_a(s) $$\n",
    "\n",
    "\n",
    "osserviamo che la costante di tempo del sistema retroazionato, $ \\tau $, è:\n",
    "\n",
    "$$\\tau = \\frac{\\tau_p}{1 + K} $$\n",
    "\n",
    "\n",
    "- Qui \\( \\tau_p \\) è la costante di tempo originale della pianta senza feedback.\n",
    "- Il feedback riduce la costante di tempo ($ \\tau $) poiché $ K > 0 $.\n",
    "- Implicazione: una riduzione della costante di tempo implica una risposta più rapida del sistema. I transitori decadono più rapidamente e il sistema raggiunge lo stato stazionario prima dopo un disturbo."
   ]
  },
  {
   "cell_type": "markdown",
   "id": "af351b38",
   "metadata": {},
   "source": [
    "#### Analisi degli errori in stato stazionario\n",
    "\n",
    "Analizziamo ora l'errore a regime. Per questo separiamo l'effetto dell'ingresso $\\theta_r$ e quello del disturbo $\\theta_a$ (possiamo applicare la sovrapposizione dato che parliamo di sistemi lineari).\n",
    "\n",
    "Più nel dettaglio, analizziamo la risposta del sistema ad un ingresso a gradino unitario per determinare il valore di regime:\n",
    "\n",
    "$$\\theta_r = \\frac{1}{s}$$\n",
    "\n",
    "e l'output è:\n",
    "\n",
    "$$ \\theta(s) = \\frac{K}{1 + K} \\cdot \\frac{1}{\\tau s + 1} \\frac{1}{s} $$\n",
    "\n",
    "\n",
    "**Valore di stato stazionario per ingresso passo:**\n",
    "\n",
    "$$ \\theta_{ss} = \\lim_{s \\to 0} s \\theta(s) = \\frac{K}{1 + K} $$"
   ]
  },
  {
   "cell_type": "markdown",
   "id": "4be8b91f",
   "metadata": {},
   "source": [
    "Esaminiamo ora la risposta del sistema ad un disturbo a gradino unitario.\n",
    "\n",
    "$$\\theta_a = \\frac{1}{s}$$\n",
    "\n",
    "**Valore di stato stazionario per disturbo:**\n",
    "\n",
    "$$ \\theta_{ss} = \\frac{1}{1 + K} $$\n",
    "\n",
    "\n",
    "#### Commenti e risultati\n",
    "\n",
    "**Segnale di comando:**\n",
    "- $\\theta_r(s)$ è il segnale di comando. Vogliamo che $\\theta_{ss}$ sia uguale a 1 (stiamo monitorando un input di passo unitario).\n",
    "- All'aumentare di $ K $, $ \\theta_{ss} $ si avvicina a 1, riducendo l'errore a regime per segnali di comando costanti.\n",
    "- All'aumentare di $ K $, l'errore a regime in risposta a un segnale di comando diminuisce.\n",
    "\n",
    " \n",
    "**Rifiuto per disturbo:**\n",
    "- Valori $K$ più alti migliorano la reiezione del disturbo, spingendo \\(\\theta_{ss}\\) verso lo zero, e quindi filtrando il disturbo.\n",
    "\n",
    "\n",
    "- **Miglioramento con $ K $ elevati:** le prestazioni sia in stato transitorio che stazionario migliorano con un $ K $ più elevato.\n",
    "- **Scenario ideale:** Teoricamente, con $ K \\rightarrow \\infty $, il sistema avrebbe una risposta immediata e un errore in stato stazionario pari a zero."
   ]
  },
  {
   "cell_type": "markdown",
   "id": "5a20ba35",
   "metadata": {},
   "source": [
    "#### Il compromesso tra prestazioni e stabilità\n",
    "\n",
    "- **Miglioramento rispetto alla stabilità:**\n",
    "  - Valori $ K $ più alti migliorano le prestazioni sia transitorie che stazionarie.\n",
    "  - Teoricamente, un $ K $ infinito risulterebbe in un sistema istantaneo con errore stazionario pari a zero.\n",
    "  - Tuttavia, ciò porta a un conflitto tra miglioramento delle prestazioni e stabilità del sistema."
   ]
  },
  {
   "cell_type": "markdown",
   "id": "167ed92f",
   "metadata": {},
   "source": [
    "#### Considerazioni sulle dinamiche di sistema:\n",
    "\n",
    "- **Rivisitazione delle dinamiche dei componenti:**\n",
    "  - Il nostro modello iniziale utilizzava approssimazioni di ordine zero per componenti come l'amplificatore e il posizionatore della valvola (le loro costanti di tempo sono trascurabili rispetto alla costante di tempo $\\tau_p$ dell'impianto).\n",
    "  - Quando operiamo in retroazione invece la costante temporale è $\\tau=\\frac{\\tau_p}{1+K}$\n",
    "  - All'aumentare di $ K $ e alla diminuzione della costante di tempo effettiva ($ \\tau $), queste approssimazioni diventano non valide (le costanti di tempo delle componenti non sono più trascurabili).\n",
    "\n",
    "- **Implicazioni di valori $ K$ elevati:**\n",
    "  - Un $ K $ elevato trasforma il sistema del primo ordine (vedi lo schema a blocchi iniziale sopra) in un sistema di ordine superiore, potenzialmente del quinto ordine (vedi lo schema a blocchi sotto).\n",
    "  - I sistemi di ordine elevato (> terzo ordine) possono diventare instabili con grandi valori di $ K $ (vedremo perché più avanti quando studieremo gli strumenti di analisi della stabilità).\n",
    "  - Il sistema quindi non si comporta come vorremmo.\n",
    "  - Questa instabilità introduce un compromesso tra le prestazioni del sistema (precisione in stato stazionario) e i suoi requisiti di stabilità.\n",
    "  \n",
    "- **Non linearità e saturazione:** valori elevati di $K$ possono portare i componenti alla saturazione, portando a un comportamento non lineare e potenziale instabilità.\n",
    "\n",
    "\n",
    "<table>\n",
    "<tr>\n",
    "    <img src=\"../pics/15_Introduction_to_Control_Systems_temperature_control_3.png\" alt=\"15_Introduction_to_Control_Systems_temperature_control_3\" style=\"width:750px;\"/>\n",
    "</tr></table>"
   ]
  },
  {
   "cell_type": "markdown",
   "id": "a4c35608",
   "metadata": {},
   "source": [
    "Per rendere il concetto più chiaro, facciamo un esempio\n",
    "\n",
    "\n",
    "<table>\n",
    "<tr>\n",
    "    <img src=\"../pics/15_Introduction_to_Control_Systems_temperature_control_4.png?1\" alt=\"15_Introduction_to_Control_Systems_temperature_control_4\" style=\"width:750px;\"/>\n",
    "</tr></table>\n",
    "\n",
    "La funzione di trasferimento ad anello chiuso diventa:\n",
    "\n",
    "$$\n",
    "\\frac{\\theta(s)}{\\theta_r(s)} = \\frac{\\frac{K_cK_vK_p}{(\\tau_cs+1)(\\tau_vs+1)(\\tau_ps+1)}}{1+\\ frac{K_cK_vK_p}{(\\tau_cs+1)(\\tau_vs+1)(\\tau_ps+1)}} = \\frac{K_cK_vK_p}{(\\tau_cs+1)(\\tau_vs+1)(\\tau_ps+1) + K_cK_vK_p}\n",
    "$$\n",
    "\n",
    "L'espressione originale per il sistema senza la dinamica del primo ordine dei singoli componenti era:\n",
    "\n",
    "$$\n",
    "\\frac{\\theta(s)}{\\theta_r(s)} = \\frac{K}{\\tau_p s + 1 + K}\n",
    "$$\n",
    "\n",
    "In quest’ultimo caso l’equazione caratteristica è:\n",
    "\n",
    "$$\n",
    "\\tau_ps + 1 + K = 0\n",
    "$$\n",
    "\n",
    "e la sua radice (il polo del sistema ad anello chiuso) è:\n",
    "\n",
    "$$\n",
    "s = -\\frac{1+K}{\\tau_p}\n",
    "$$\n",
    "\n",
    "Non abbiamo discusso la stabilità nei dettagli, ma intuitivamente (quella delle equazioni differenziali e delle sue soluzioni), se i poli sono nella Mezza Posta Sinistra (LHP) il sistema è stabile.\n",
    "\n",
    "Nel caso in cui $s = -\\frac{1+K}{\\tau_p}$, per tutti i valori di $K$, $s$ è sempre negativo.\n",
    "\n",
    "\n",
    "Quando consideriamo le costanti di tempo per ciascuna componente, l'equazione caratteristica diventa quella di un sistema del terzo ordine:\n",
    "\n",
    "$$ a_1 s^3 + a_2 s^2 + a_3 s + a_4 = 0 $$\n",
    "\n",
    "Questa equazione ha tre poli nel piano s (tre radici che puoi calcolare come esercizio). Per valori elevati di $K$ alcuni poli vengono spinti verso il semipiano destro (RHP) portando ad un sistema instabile.\n",
    "\n",
    "I poli di questo sistema di ordine superiore, influenzato da $K$, ne determinano la stabilità."
   ]
  },
  {
   "cell_type": "markdown",
   "id": "088caf3e",
   "metadata": {},
   "source": [
    "### Commenti:\n",
    "- Una volta che il sistema è instabile, tutto il resto non ha importanza! Non ha senso studiare le costanti di tempo, ecc.\n",
    "- In circuito aperto, le singole modalità dinamiche sono stabili, ma in circuito chiuso la loro interazione può portare all'instabilità.\n",
    "- Il circuito di feedback, che contribuisce a migliorare robustezza e sensibilità, crea anche problemi di stabilità."
   ]
  },
  {
   "cell_type": "markdown",
   "id": "deed935f",
   "metadata": {},
   "source": [
    "## Controllo integrale ed errore di stato stazionario\n",
    "\n",
    "Affrontare l'errore dello stato stazionario con il controllo integrale\n",
    "\n",
    "- Limitazione del controllo proporzionale: nel controllo proporzionale, è necessario un errore persistente per mantenere l'equilibrio del sistema. Se l'errore è zero, l'azione di controllo è zero (vedere il diagramma seguente).\n",
    "\n",
    "<table>\n",
    "<tr>\n",
    "    <img src=\"../pics/15_Introduction_to_Control_Systems_temperature_control_5.png\" alt=\"15_Introduction_to_Control_Systems_temperature_control_5\" style=\"width:750px;\"/>\n",
    "</tr></table>\n",
    "\n",
    "Nel controllo proporzionale, l'errore fornisce l'energia necessaria per sostenere un nuovo equilibrio.\n",
    "Il nuovo equilibrio si ottiene utilizzando nuova energia disponibile solo se è presente il segnale di errore. Se l'errore è zero, si torna alla posizione di equilibrio originale. Tuttavia ciò non è possibile perché il sistema è costretto alla nuova situazione.\n",
    "\n",
    "- Ruolo del controllo integrale: il controller integrale accumula l'errore nel tempo, consentendo all'errore di ridursi a zero pur fornendo l'azione di controllo necessaria.\n",
    "\n",
    "\n",
    "<table>\n",
    "<tr>\n",
    "    <img src=\"../pics/15_Introduction_to_Control_Systems_temperature_control_6.png?1\" alt=\"15_Introduction_to_Control_Systems_temperature_control_6\" style=\"width:750px;\"/>\n",
    "</tr></table>\n",
    "\n",
    "\n",
    "Il controllo integrale utilizza l'accumulo di errori passati per raggiungere questo obiettivo, consentendo all'errore di ridursi eventualmente a zero.\n",
    "Questo è sempre possibile per la tipologia di impianti che stiamo considerando."
   ]
  },
  {
   "cell_type": "markdown",
   "id": "93360cad",
   "metadata": {},
   "source": [
    "-----"
   ]
  },
  {
   "cell_type": "markdown",
   "id": "5f123459",
   "metadata": {},
   "source": [
    "## Rivisitare il sistema di controllo della temperatura\n",
    "\n",
    "Rivisiteremo ora il processo di controllo della temperatura discusso in precedenza, concentrandoci sulle dinamiche del sistema, in particolare sul ruolo del controllo integrale nel miglioramento delle prestazioni del sistema.\n",
    "\n",
    "### Panoramica del sistema\n",
    "\n",
    "<table>\n",
    "<tr>\n",
    "    <img src=\"../pics/15_Introduction_to_Control_Systems_temperature_control_2.png\" alt=\"15_Introduction_to_Control_Systems_temperature_control_2\" style=\"width:750px;\"/>\n",
    "</tr></table>\n",
    "\n",
    "#### Descrizione del diagramma a blocchi\n",
    "\n",
    "- **Temperatura di riferimento:** Indicata come $\\theta_r$, l'impostazione della temperatura desiderata.\n",
    "- **Sensore e segnale di errore:** Un sensore a termocoppia converte $\\theta_r$ in un segnale di tensione. Questa tensione viene confrontata con la tensione di temperatura effettiva per generare un segnale di errore.\n",
    "- **Amplificatore e Trasduttore:** Il segnale di errore viene amplificato (guadagno $K_A$) e quindi inviato ad un trasduttore elettropneumatico (costante $K_e$).\n",
    "- **Posizionatore e guadagno della valvola:** il segnale del trasduttore controlla un posizionatore della valvola (costante \\(K_x\\)) per regolare la portata, influenzato dal guadagno della valvola $K_v$.\n",
    "- **Funzione di trasferimento del processo:** Rappresentata come $\\frac{K_p}{\\tau_p s + 1}$.\n",
    "- **Effetto di disturbo:** Modellato come $\\frac{1}{\\tau_p s + 1}$, dove $\\theta_a$ è il disturbo della temperatura ambiente."
   ]
  },
  {
   "cell_type": "markdown",
   "id": "0f0ac954",
   "metadata": {},
   "source": [
    "### Dinamica e stabilità del sistema\n",
    "\n",
    "Quando abbiamo assunto che l'impianto fosse un sistema del primo ordine e che i vari componenti possano essere approssimati come di ordine zero:\n",
    "- **Prestazioni transitorie:** Il guadagno del circuito più ampio ($K$) migliora le prestazioni transitorie riducendo la costante di tempo del sistema.\n",
    "- **Errore in stato stazionario:** $K$ più grandi riducono anche l'errore in stato stazionario.\n",
    "- **Limiti sul guadagno:** Un guadagno elevato $K$ può portare alla saturazione dei componenti e al comportamento non lineare, limitando l'intervallo di risposta lineare del sistema. Inoltre, la dinamica dei vari componenti non può essere trascurata, portando a una potenziale instabilità."
   ]
  },
  {
   "cell_type": "markdown",
   "id": "e836a31e",
   "metadata": {},
   "source": [
    "### Controllo integrale nei sistemi di temperatura\n",
    "\n",
    "#### Indirizzamento alle modifiche del segnale di comando\n",
    "\n",
    "- **Scenario:** Considerare l'esigenza di aumentare la temperatura della camera di 10 gradi.\n",
    "- **Cambio comando:** Ciò richiede un cambiamento in $\\theta_r$ dello stesso importo."
   ]
  },
  {
   "cell_type": "markdown",
   "id": "9c28aaf7",
   "metadata": {},
   "source": [
    "#### Meccanismo di controllo integrale\n",
    "\n",
    "- **Dinamica del segnale di errore:** Con il controllo integrale, il sistema può gestire le modifiche nel segnale di comando mantenendo stabilità e prestazioni.\n",
    "\n",
    "**Espressione matematica:**\n",
    "\n",
    "$$ u(t) = K_I \\int e(t) \\, dt $$\n",
    "\n",
    "**Commenti:**\n",
    "- **Ruolo nella stabilità del sistema:** Il controllo integrale consente al sistema di adattarsi automaticamente a nuovi equilibri senza compromettere la stabilità.\n",
    "\n",
    "- **Adattabilità del sistema:** Il controller integrale regola l'azione di controllo nel tempo in base all'errore accumulato, portando a un errore stazionario pari a zero anche con modifiche dei comandi.\n",
    "\n",
    "- **Adattabilità del sistema:** Il controller integrale regola l'azione di controllo nel tempo in base all'errore accumulato, portando a un errore stazionario pari a zero anche con modifiche dei comandi.\n",
    "\n",
    "Ci sarà un prezzo da pagare: il controllo integrale potrebbe portare all’instabilità ancor più dell’utilizzo di un semplice controllo proporzionale."
   ]
  },
  {
   "cell_type": "markdown",
   "id": "33afb53c",
   "metadata": {},
   "source": [
    "### Implementazione del controllo integrale nei sistemi di temperatura\n",
    "\n",
    "Sostituiamo l'amplificatore $K_A$ con un controller integrale $K_I/s$.\n",
    "\n",
    "**Dinamica del sistema:** il sistema ora include il controller integrale, il trasduttore elettropneumatico ($K_e$), il posizionatore della valvola ($K_x$) e il guadagno della valvola ($K_v$).\n",
    "\n",
    "<table>\n",
    "<tr>\n",
    "    <img src=\"../pics/15_Introduction_to_Control_Systems_temperature_control_7.png\" alt=\"15_Introduction_to_Control_Systems_temperature_control_7\" style=\"width:750px;\"/>\n",
    "</tr></table>\n",
    "\n",
    "\n",
    "Sulla base di questo diagramma a blocchi possiamo quindi scrivere le equazioni matematiche:\n",
    "\n",
    "$$\n",
    "(K_t\\theta_r - K_t\\theta)\\cdot \\Big(\\frac{K_I}{s}K_eK_xK_v \\Big) \\Big(\\frac{K_p}{\\tau_ps+1} \\Big) + \\frac{1}{ \\tau_ps+1} \\theta_a = \\theta\n",
    "$$"
   ]
  },
  {
   "cell_type": "markdown",
   "id": "cab50661",
   "metadata": {},
   "source": [
    "Possiamo quindi riorganizzare l'equazione per isolare $\\theta(s)$ da un lato.:\n",
    "\n",
    "$$\n",
    "(\\tau_p s + 1)\\theta(s) + \\frac{K}{s} \\theta(s) = \\frac{K}{s} \\theta_r(s) + \\theta_a(s)\n",
    "$$\n",
    "\n",
    "dove $K = K_tK_IK_eK_xK_vK_p$.\n",
    "\n",
    "E quindi:\n",
    "\n",
    "$$\n",
    "\\Big(\\tau_p s + 1 + \\frac{K}{s}\\Big) \\theta(s) = \\frac{K}{s} \\theta_r(s) + \\theta_a(s)\n",
    "$$\n",
    "\n",
    "o equivalentemente:\n",
    "\n",
    "$$\n",
    "\\Big(\\tau_p s^2 + s + K \\Big) \\theta(s) = K \\theta_r(s) + s\\theta_a(s)\n",
    "$$"
   ]
  },
  {
   "cell_type": "markdown",
   "id": "dab290b5",
   "metadata": {},
   "source": [
    "### Prestazioni in stato stazionario con controllo integrale\n",
    "\n",
    "Vorremmo ora calcolare lo stato stazionario per un gradino in ingresso in comando ed in disturbo\n",
    "\n",
    "- **Risposta ingresso comando:** Per un comando di ingresso passo, l'uscita in stato stazionario $\\theta_{ss}$ è uguale a 1, indipendentemente da $K$, indicando un errore in stato stazionario pari a zero.\n",
    "\n",
    "$$\n",
    "\\frac{\\theta(s)}{\\theta_r(s)} = \\frac{K}{\\tau_p s^2 + s + K}\n",
    "$$\n",
    "\n",
    "Applicando $\\theta_r(s)=\\frac{1}{s}$, possiamo calcolare $\\theta_{ss}$:\n",
    "\n",
    "$$ \\theta_{ss} = \\lim_{s \\to 0} s \\theta(s) = s \\frac{K}{\\tau_p s^2 + s + K} \\frac{1}{s} = 1 $$\n",
    "\n",
    "Ciò è vero per tutti i possibili valori di $K$ e l'errore in stato stazionario è zero."
   ]
  },
  {
   "cell_type": "markdown",
   "id": "2575ec1f",
   "metadata": {},
   "source": [
    "- **Risposta al disturbo:** In risposta a un disturbo a gradino $\\theta_a(s)=\\frac{1}{s}$, l'uscita in stato stazionario $\\theta_{ss}$ diventa zero, respingendo di fatto il disturbo :\n",
    "\n",
    "$$\n",
    "\\frac{\\theta(s)}{\\theta_a(s)} = \\frac{s}{\\tau_p s^2 + s + K}\n",
    "$$"
   ]
  },
  {
   "cell_type": "markdown",
   "id": "479edc03",
   "metadata": {},
   "source": [
    "### Prestazioni transitorie con controllo integrale\n",
    "\n",
    "Torniamo alla risposta all'input:\n",
    "\n",
    "$$\n",
    "\\frac{\\theta(s)}{\\theta_r(s)} = \\frac{K}{\\tau_p s^2 + s + K}\n",
    "$$\n",
    "\n",
    "\n",
    "#### Commenti:\n",
    "\n",
    "- L'aggiunta del controllo integrale cambia il sistema dal primo ordine al secondo ordine.\n",
    "\n",
    "Ricordiamo che con un controllore proporzionale il sistema era un sistema del primo ordine con forma $\\frac{\\theta(s)}{\\theta_r(s)} = \\frac{K}{\\tau_p s + 1 + K}$\n",
    "\n",
    "Per questo sistema del primo ordine il polo è:\n",
    "\n",
    "$$\n",
    "s= \\frac{-(1+K)}{\\tau_p}\n",
    "$$\n",
    "\n",
    "Quando aumentiamo $K$ il polo rimane sul piano di sinistra e si sposta da $s=\\frac{-1}{\\tau_p}$ (quando $K=0$) a sinistra e la sua risposta diventa sempre più rapida .\n",
    "\n",
    "\n",
    "Per il sistema del secondo ordine, i poli sono le radici di:\n",
    "\n",
    " $$ \\tau_p s^2 + s + K = 0 $\n",
    " \n",
    "Quando $K=0$, le radici sono $s=0$ e $s=\\frac{-1}{\\tau_p}$.\n",
    "\n",
    "Si noti che se all'origine c'è un polo il transitorio non decade mai.\n",
    "\n",
    "Aumentando il guadagno $K$ i due poli si avvicineranno, finché ad un certo punto diventeranno complessi coniugati.\n",
    "\n",
    "#### Limitazioni nel miglioramento\n",
    "\n",
    "- **Limite sulle prestazioni transitorie:** Il controllo integrale impone un limite al miglioramento delle prestazioni transitorie, poiché i poli possono essere guidati solo fino a un certo punto (vedere il grafico del luogo delle radici di seguito).\n",
    "- **Risposta oscillatoria:** L'aumento di \\(K\\) può portare a un comportamento oscillatorio, una conseguenza diretta del controllo integrale."
   ]
  },
  {
   "cell_type": "code",
   "execution_count": null,
   "id": "ce138bfb",
   "metadata": {},
   "outputs": [
    {
     "data": {
      "image/png": "[encoded data removed]",
      "text/plain": [
       "<Figure size 640x480 with 1 Axes>"
      ]
     },
     "metadata": {},
     "output_type": "display_data"
    }
   ],
   "source": [
    "import numpy as np\n",
    "import matplotlib.pyplot as plt\n",
    "from control import tf, root_locus\n",
    "\n",
    "# System parameters\n",
    "tau_p = 1  # For example, let's take tau_p as 1\n",
    "\n",
    "# Define the characteristic equation of the system with integral control\n",
    "# The characteristic equation is tau_p * s^2 + s + K = 0\n",
    "\n",
    "# For the root locus, we consider the open-loop transfer function G(s)H(s)\n",
    "# G(s)H(s) = K / (tau_p * s^2 + s)\n",
    "# This is equivalent to a system with a numerator [K] and a denominator [tau_p, 1, 0]\n",
    "\n",
    "numerator = [1]  # Coefficient for K\n",
    "denominator = [tau_p, 1, 0]  # Coefficients of s^2, s, and constant term for the denominator\n",
    "\n",
    "# Create the transfer function for the system\n",
    "system = tf(numerator, denominator)\n",
    "\n",
    "# Plot the root locus\n",
    "fig, ax = plt.subplots()\n",
    "root_locus_data = root_locus(system, Plot=True, ax=ax)\n",
    "\n",
    "# Add labels and title for clarity\n",
    "plt.xlabel('Real Axis')\n",
    "plt.ylabel('Imaginary Axis')\n",
    "plt.title('Root Locus with Integral Control')\n",
    "plt.grid(True)\n",
    "\n",
    "plt.show()\n"
   ]
  },
  {
   "cell_type": "markdown",
   "id": "eafd5109",
   "metadata": {},
   "source": [
    "### Influenza dei Poli sulla risposta del sistema\n",
    "\n",
    "- **Poli:** Nella teoria del controllo, i poli di un sistema sono le radici della sua equazione caratteristica. Sono cruciali nel determinare il comportamento del sistema nel tempo, in particolare la sua stabilità e la risposta transitoria.\n",
    "- **Rappresentazione del piano complesso:** i poli sono rappresentati nel piano complesso, dove l'asse orizzontale è l'asse reale e l'asse verticale è l'asse immaginario (asse jω).\n",
    "\n",
    "- **Posizione dei poli:** La posizione dei poli nel piano complesso influisce in modo significativo sul modo in cui il sistema risponde agli input.\n",
    "- **Prossimità dell'asse reale:** i poli più vicini all'asse jω (asse immaginario) hanno una parte reale più piccola. Questa piccola parte reale implica un tasso di decadimento più lento della risposta transitoria del sistema.\n",
    "- **Poli dominanti:** i poli più vicini all'asse jω vengono spesso definiti \"poli dominanti\" perché hanno un effetto più pronunciato sul comportamento transitorio del sistema. Il loro tasso di decadimento più lento fa sì che determinino la risposta complessiva del sistema, soprattutto nella fase transitoria.\n",
    "\n",
    "\n",
    "#### Considerazioni sul design\n",
    "- Con riferimento al luogo delle radici sopra, il polo dominante non può essere spostato ulteriormente a sinistra, limitando quindi la risposta dinamica che possiamo ottenere.\n",
    "- Quando si progettano sistemi di controllo, gli ingegneri spesso mirano a posizionare i poli dominanti in modo da raggiungere l'equilibrio desiderato tra risposta rapida e stabilità. I poli troppo vicini all’asse jω possono comportare tempi di risposta lenti, mentre i poli troppo lontani nel semipiano sinistro possono far sì che il sistema risponda troppo rapidamente, portando potenzialmente a superamento e instabilità.\n",
    "- **Risposta transitoria vs. allo stato stazionario:** i poli dominanti influenzano principalmente la risposta transitoria del sistema. Una volta che gli effetti transitori sono decaduti, il comportamento in stato stazionario è determinato da altri fattori, come il guadagno in stato stazionario del sistema e il tipo di controller utilizzato (ad esempio proporzionale, integrale, derivativo)."
   ]
  },
  {
   "cell_type": "markdown",
   "id": "a3a99139",
   "metadata": {},
   "source": [
    "In questo caso i poli non si spostano verso destra (diventano instabili). Tuttavia, se una delle costanti di tempo dei nostri componenti inizia ad avere un effetto che potrebbe facilmente portare il sistema all'instabilità (il sistema diventa almeno del terzo ordine e potrebbe avere poli che vanno verso RHP per K elevato)."
   ]
  },
  {
   "cell_type": "markdown",
   "id": "c74006f7",
   "metadata": {},
   "source": [
    "## Introduzione al controllo dei derivati\n",
    "\n",
    "\n",
    "Consideriamo ora il seguente errore:\n",
    "\n",
    "\n",
    "<table>\n",
    "<tr>\n",
    "    <img src=\"../pics/15_Introduction_to_Control_Systems_temperature_control_8_Derivative.png\" alt=\"15_Introduction_to_Control_Systems_temperature_control_8_Derivative\" style=\"width:750px;\"/>\n",
    "</tr></table>\n",
    "\n",
    "\n",
    "Ai tempi $ t_1 $ e $ t_2 $, un controller proporzionale mostrerebbe azioni di controllo identiche poiché l'entità dell'errore è la stessa in entrambi i casi. Tuttavia, gli scenari con $ t_1 $ e $ t_2 $ sono nettamente diversi: con $ t_1 $ l'errore è in aumento, mentre con $ t_2 $ l'errore ha una tendenza decrescente.\n",
    "\n",
    "Intuitivamente, preferiremmo azioni di controllo diversificate in queste situazioni. Nello specifico, a $ t_1 $, potrebbe essere auspicabile un'azione di controllo più aggressiva per evitare che l'errore si aggravi. Considerando il tasso di variazione dell'errore, o la sua pendenza, possiamo distinguere tra questi scenari. Questa pendenza informa efficacemente il controllore sui potenziali errori futuri, consentendo una risposta più predittiva e adattiva.\n",
    "\n",
    "Questo è ciò che fa un controllo derivativo: introduce un segnale che non è solo proporzionale all'entità dell'errore (controllo proporzionale), ma sulla derivata di quel segnale."
   ]
  },
  {
   "cell_type": "markdown",
   "id": "f15643d2",
   "metadata": {},
   "source": [
    "### Concetto di controllo derivato\n",
    "\n",
    "#### Natura predittiva del controllo derivato\n",
    "\n",
    "- **Previsione tramite derivata:** Il controllo derivativo predice gli errori futuri (attraverso la pendenza del segnale di errore) e regola di conseguenza l'azione di controllo, _fornendo maggiore smorzamento durante i transitori_.\n",
    "\n",
    "**Equazione:**\n",
    "\n",
    "$$ U(s) = K_c (1 + T_D s) E(s) $$"
   ]
  },
  {
   "cell_type": "markdown",
   "id": "be80a9d7",
   "metadata": {},
   "source": [
    "- **Efficacia:** il controllo derivato è efficace durante i periodi transitori ma non ha alcun impatto sull'errore stazionario.\n",
    "  - Se l'errore stazionario diventa costante, ovvero quando si raggiunge lo stato stazionario, la derivata è zero e l'effetto del controllo derivativo è zero (vedere il grafico dell'errore sopra).\n",
    "  - A regime il controllo derivato perde il suo ruolo e solo il controllo proporzionale ed integrale può supportarlo."
   ]
  },
  {
   "cell_type": "markdown",
   "id": "5d7e2102",
   "metadata": {},
   "source": [
    "## Implementazione del controllo derivato nei sistemi di controllo\n",
    "\n",
    "Spostiamo ora la nostra attenzione sugli aspetti pratici dell'implementazione del controllo derivato nei sistemi di controllo. Discuteremo le sfide e le alternative nell'impiego del controllo derivato, in particolare nel contesto di un sistema di controllo della posizione."
   ]
  },
  {
   "cell_type": "markdown",
   "id": "becdabe3",
   "metadata": {},
   "source": [
    "Abbiamo la seguente azione di controllo:\n",
    "\n",
    "$$ U(s) = K_c (1 + T_D s) E(s) $$\n",
    "\n",
    "\n",
    "### Problema di amplificazione del rumore\n",
    "\n",
    "- **Derivato del rumore ad alta frequenza:** Il controllo derivato può amplificare i segnali di rumore ad alta frequenza, disturbando potenzialmente le prestazioni del sistema.\n",
    "\n",
    "\n",
    "- **Scenario di esempio:** Considera un segnale di rumore $0,01 \\sin(10^3 t)$. L'ampiezza di questo segnale è molto piccola ed è ad alta frequenza. Nel controllo proporzionale, molto probabilmente non abbiamo bisogno di considerarlo esplicitamente perché il sistema stesso è un filtro passa basso.\n",
    "\n",
    "Nel controllo derivativo, la derivata di questo segnale è $10^3 \\cdot 0.01 \\cos(10^3 t) = 10 \\cos(10^3 t) $, che amplifica significativamente il rumore."
   ]
  },
  {
   "cell_type": "markdown",
   "id": "b6013736",
   "metadata": {},
   "source": [
    "_L'azione derivativa $ T_D s $ applicata a un segnale di rumore può portare a un segnale di grande ampiezza che può oscurare l'effettivo segnale di errore._\n",
    "\n",
    "Per questo motivo il controllo derivato sopra descritto è solo teorico e mai attuato nella pratica. Si applica sempre un filtro passa basso adatto per l'implementazione (lo vedremo più avanti).\n",
    "\n",
    "Per lo scopo di questo notebook si presuppone che il rumore ad alta frequenza non sia parte del problema o che sia stato opportunamente filtrato."
   ]
  },
  {
   "cell_type": "markdown",
   "id": "f917f36b",
   "metadata": {},
   "source": [
    "### Alternative al controllo derivato standard\n",
    "\n",
    "Vediamo quali alternative possiamo avere utilizzando un sistema di controllo della posizione. Per questo rivisiteremo il Position Control System che abbiamo analizzato in un precedente quaderno e riportato di seguito.\n",
    "\n",
    "Tieni presente che abbiamo apportato alcune semplificazioni:\n",
    "- L'impianto è solo inerziale.\n",
    "- Si trascura l'induttanza.\n",
    "\n",
    "<table>\n",
    "<tr>\n",
    "    <img src=\"../pics/15_Introduction_to_Control_Systems_position_control.png\" alt=\"15_Introduction_to_Control_Systems_position_control\" style=\"width:750px;\"/>\n",
    "</tr></table>\n",
    "\n",
    "Da ciò possiamo calcolare l'equazione (notare che il segno della coppia di disturbo $T_W$ non è importante):\n",
    "\n",
    "$$\n",
    "\\Big[ \\Big(K_p\\theta_r - K_p\\theta\\Big) K_c \\Big(1+T_Ds\\Big)\\frac{K_T}{R_f} + T_W \\big] \\frac{1}{Js^s} = \\theta\n",
    "$$\n",
    "\n",
    "che può essere scritto come:\n",
    "\n",
    "$$\n",
    "Js^s\\theta + K_pK_C\\frac{K_T}{R_f}\\Big(1+T_Ds\\Big)\\theta = K_pK_C\\frac{K_T}{R_f}\\Big(1+T_Ds\\Big)\\theta_r + T_W\n",
    "$$\n",
    "\n",
    "possiamo porre: $K = K_pK_C\\frac{K_T}{R_f}$ e otteniamo:\n",
    "\n",
    "  \n",
    "$$\n",
    "\\Big(Js^2 + K T_D s + K\\Big)\\theta(s) = K(1+T_Ds)\\theta_r + T_W\n",
    "$$\n",
    "  \n",
    "e finalmente possiamo scrivere la **Funzione di trasferimento:**\n",
    "  \n",
    "$$\n",
    "\\frac{\\theta(s)}{\\theta_r(s)} = \\frac{K (1 + T_D s)}{Js^2 + K T_D s + K}\n",
    "$$\n",
    "\n",
    "\n",
    "E i \"parametri di personalità\" dei sistemi sono:\n",
    "\n",
    "$$\n",
    "\\omega_n = \\sqrt{\\frac{K}{J}}\n",
    "$$\n",
    "\n",
    "$$\n",
    "2\\zeta\\omega_n = \\frac{KT_D}{J} \\rightarrow \\zeta=\\frac{T_D}{2}\\sqrt{\\frac{K}{J}}\n",
    "$$"
   ]
  },
  {
   "cell_type": "markdown",
   "id": "5cff4c6c",
   "metadata": {},
   "source": [
    "L'effetto del controllo derivativo sul transitorio è visibile attraverso $\\zeta$. È possibile aumentare lo smorzamento aumentando $T_D$."
   ]
  },
  {
   "cell_type": "markdown",
   "id": "115c9d75",
   "metadata": {},
   "source": [
    "#### Commenti aggiuntivi:\n",
    "\n",
    "Se osserviamo la funzione di trasferimento notiamo:\n",
    "- Il denominatore è un sistema del secondo ordine\n",
    "- Il numeratore ha uno zero\n",
    "\n",
    "Quando viene introdotto un cambio di passo nel segnale di comando ($\\theta_r$), come $\\theta_r = \\frac{1}{s}$ nel dominio di Laplace, e questo segnale interagisce con un elemento di controllo derivato caratterizzato da $T_Ds $, provoca la generazione di un impulso, o picco. Questo fenomeno si verifica perché differenziando una funzione a gradino, che rimane sostanzialmente costante dopo il cambiamento iniziale, produce un impulso:\n",
    "\n",
    "$$\n",
    "T_Ds \\cdot \\frac{1}{s} \\rightarrow T_D \\cdot \\delta(t)\n",
    "$$\n",
    "\n",
    "Ciò implica che in risposta a un cambiamento di gradino, un controller derivato produce un output iniziale eccezionalmente elevato, comunemente indicato come picco. Questo comportamento può essere interpretato come uno sforzo immediato del sistema di controllo per contrastare un cambiamento improvviso e significativo nell'errore.\n",
    "\n",
    "Tuttavia, un tale picco nell'output del controller non è sempre auspicabile. Sebbene rappresenti una risposta immediata al cambiamento dell'errore, può essere paragonato all'introduzione di un disturbo nel sistema per poi correggerlo successivamente. Ciò potrebbe potenzialmente portare a problemi quali instabilità del sistema o eccessivo superamento, soprattutto nei sistemi sensibili ai rapidi cambiamenti.\n",
    "\n",
    "Per affrontare questo problema, i sistemi di controllo sono spesso dotati di meccanismi di filtraggio aggiuntivi. In alternativa, viene impiegato un approccio modificato al controllo derivato, che non reagisce così intensamente alle componenti ad alta frequenza del segnale di errore. Queste strategie di progettazione aiutano a rendere più fluida la risposta del controller, prevenendo picchi improvvisi e garantendo un comportamento del sistema più stabile."
   ]
  },
  {
   "cell_type": "markdown",
   "id": "8f6eb89b",
   "metadata": {},
   "source": [
    "<table>\n",
    "<tr>\n",
    "    <img src=\"../pics/15_Introduction_to_Control_Systems_position_control_1.png\" alt=\"15_Introduction_to_Control_Systems_position_control_1\" style=\"width:750px;\"/>\n",
    "</tr></table>"
   ]
  },
  {
   "cell_type": "markdown",
   "id": "a37ccb33",
   "metadata": {},
   "source": [
    "E la presenza della Dinamo Tachimetrica equivale a:\n",
    "\n",
    "<table>\n",
    "<tr>\n",
    "    <img src=\"../pics/15_Introduction_to_Control_Systems_position_control_2.png\" alt=\"15_Introduction_to_Control_Systems_position_control_2\" style=\"width:750px;\"/>\n",
    "</tr></table>"
   ]
  },
  {
   "cell_type": "markdown",
   "id": "ce3f6d47",
   "metadata": {},
   "source": [
    "Invece di calcolare la derivata del segnale di uscita, è possibile utilizzare una dinamo tachimetrica per generare un segnale di feedback proporzionale alla velocità di variazione dell'uscita.\n",
    "\n",
    "Questo metodo aggira le sfide tipicamente incontrate quando si differenzia il comando di input, in particolare i problemi di amplificazione del rumore e la creazione di picchi quando si verificano cambiamenti improvvisi nel segnale di comando.\n",
    "\n",
    "Nell'effettiva implementazione di questo sistema non viene effettuata alcuna operazione derivativa. Sebbene il modello includa un termine derivato ($sK_t$), nella pratica questa differenziazione non avviene.\n",
    "\n",
    "È importante notare, tuttavia, che questo approccio non è universalmente applicabile. Ad esempio, nei sistemi di controllo della temperatura, non esiste un segnale intrinseco all'interno del sistema che rappresenti direttamente la derivata della variabile controllata.\n",
    "\n",
    "Nel controllo del movimento ciò è possibile, nel controllo del processo generalmente non è possibile. In questo caso aggiungiamo filtri adeguati per evitare picchi."
   ]
  },
  {
   "cell_type": "markdown",
   "id": "7fbf9a14",
   "metadata": {},
   "source": [
    "Invece di calcolare direttamente la derivata del segnale di uscita, è possibile utilizzare una dinamo tachimetrica per produrre un segnale di feedback correlato alla velocità di variazione dell'uscita. Questa strategia affronta in modo efficace i problemi tipici associati alla differenziazione diretta del comando di input. Queste problematiche includono l'amplificazione del rumore e la generazione di picchi, soprattutto quando il segnale di comando subisce brusche variazioni.\n",
    "\n",
    "Nelle implementazioni pratiche di tale sistema, non viene eseguito un calcolo della derivata effettiva. Il modello del sistema potrebbe includere un termine derivato rappresentato come $ sK_t $, ma in realtà questo processo di differenziazione non viene eseguito. La dinamo tachimetrica fornisce intrinsecamente un segnale che riflette la derivata, aggirando così la necessità di una differenziazione esplicita.\n",
    "\n",
    "Tuttavia, è fondamentale riconoscere che questo metodo non è universalmente applicabile a tutti i tipi di sistemi di controllo. Ad esempio, nei sistemi di controllo della temperatura, in genere non è presente un segnale immediatamente disponibile che rappresenti intrinsecamente la derivata della temperatura. Tali sistemi non hanno un equivalente della dinamo tachimetrica utilizzata nei sistemi di controllo del movimento, dove il feedback derivato è naturalmente integrato.\n",
    "\n",
    "In contesti come il controllo di processo, dove non è possibile ottenere direttamente un segnale derivato, è necessario impiegare strategie alternative. Questi spesso comportano l'aggiunta di filtri adeguati al sistema di controllo. Questi filtri sono progettati per mitigare o eliminare gli effetti indesiderati, come i picchi, che possono verificarsi quando si utilizza il controllo derivato. Questo approccio garantisce prestazioni del sistema più fluide e riduce il rischio di instabilità o di risposta eccessiva ai disturbi ad alta frequenza."
   ]
  },
  {
   "cell_type": "code",
   "execution_count": null,
   "id": "a26f88c0",
   "metadata": {},
   "outputs": [],
   "source": []
  }
 ],
 "metadata": {
  "kernelspec": {
   "display_name": "python3",
   "language": "python",
   "name": "python3"
  }
 },
 "nbformat": 4,
 "nbformat_minor": 5
}
