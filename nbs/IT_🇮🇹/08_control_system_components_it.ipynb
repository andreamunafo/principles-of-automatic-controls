{
 "cells": [
  {
   "cell_type": "markdown",
   "id": "79b0667f",
   "metadata": {},
   "source": [
    "# Componenti del sistema di controllo"
   ]
  },
  {
   "cell_type": "markdown",
   "id": "2ccca703",
   "metadata": {},
   "source": [
    "I sistemi di controllo automatico sono onnipresenti in vari settori e applicazioni. Aiutano a mantenere le condizioni di output desiderate regolando di conseguenza l'input. Un aspetto fondamentale per comprendere questi sistemi è il concetto di sistemi analoghi e la comprensione dei componenti che compongono un sistema di controllo.\n",
    "\n",
    "Nei sistemi di controllo automatico, l'intero processo può essere visualizzato come una sequenza di componenti interconnessi. Questa sequenza inizia con l'impianto, che è essenzialmente il sistema che intendiamo controllare. L'impianto è azionato da un attuatore e la potenza di questo attuatore è controllata dal controller, che è il cervello del nostro sistema. Il controller prende decisioni in base al feedback che riceve dai sensori che monitorano il sistema."
   ]
  },
  {
   "cell_type": "markdown",
   "id": "bdcb5ad6",
   "metadata": {},
   "source": [
    "I sistemi di controllo sono costituiti da vari componenti che lavorano insieme per ottenere l'output desiderato.\n",
    "\n",
    "Nella nostra discussione, ci concentreremo principalmente sui sistemi meccanici, ma, come abbiamo visto, esistono anche altri sistemi come i sistemi termici o a base liquida."
   ]
  },
  {
   "cell_type": "markdown",
   "id": "729702ca",
   "metadata": {},
   "source": [
    "<table>\n",
    "<tr>\n",
    "    <td> <img src=\"../pics/08_control_system_components_control-system-components.png\" alt=\"control-system-components-1\" style=\"width: 650px;\"/>\n",
    "</tr></table>"
   ]
  },
  {
   "cell_type": "markdown",
   "id": "7c83c0f8",
   "metadata": {},
   "source": [
    "Componenti del Sistema di Controllo:\n",
    "\n",
    "- Impianto: il sistema primario da controllare. Nelle nostre discussioni spesso si tratta di un sistema meccanico, ma può anche essere un sistema termico, un sistema liquido o qualsiasi altro sistema che richiede controllo.\n",
    "- Attuatore: Dispositivo che aziona o controlla l'impianto. Per i sistemi meccanici, i motori sono attuatori comuni.\n",
    "- Controller: il cervello del sistema. Decide come pilotare l'attuatore in base alla differenza tra l'uscita desiderata e l'uscita effettiva. Può trattarsi di un circuito amplificatore operazionale (Op-Amp) o anche di un computer digitale nei sistemi moderni.\n",
    "- Sensore: dispositivo che misura la resa effettiva dell'impianto. Spesso necessita di filtri antirumore per rimuovere il rumore ad alta frequenza e di amplificatori per aumentare i segnali a livelli utilizzabili."
   ]
  },
  {
   "cell_type": "markdown",
   "id": "e0856924",
   "metadata": {},
   "source": [
    "Il cervello del sistema di controllo, il controller, è spesso di natura elettrica. Oggi, la maggior parte dei controller sono circuiti Op-Amp (legacy) o computer digitali. In passato venivano utilizzati regolatori idraulici o pneumatici. La tendenza si sta spostando verso questi controller per la loro versatilità ed efficienza."
   ]
  },
  {
   "cell_type": "markdown",
   "id": "53b1ed51",
   "metadata": {},
   "source": [
    "Il tuo ruolo:\n",
    "\n",
    "1. Progettare filtri antirumore per garantire che il rumore ad alta frequenza proveniente dai sensori non interferisca con il sistema.\n",
    "2. Amplificare o condizionare le uscite dei sensori per renderle compatibili con i segnali di ingresso standard o per adattarle all'hardware del controller. Ad esempio, l'uscita del sensore può essere millivolt o milliamper e richiedere un'amplificazione per utilizzarli insieme ai livelli del segnale di ingresso e con il controller.\n",
    "3. Progettare il controller, che è la parte più critica del sistema."
   ]
  },
  {
   "cell_type": "markdown",
   "id": "aaa5b7a6",
   "metadata": {},
   "source": [
    "Rendiamo lo schema più preciso:"
   ]
  },
  {
   "cell_type": "markdown",
   "id": "8e6e750f",
   "metadata": {},
   "source": [
    "<table>\n",
    "<tr>\n",
    "    <td> <img src=\"../pics/08_control_system_components_control-system-components-1.png\" alt=\"control-system-components-1\" style=\"width: 650px;\"/>\n",
    "</tr></table>"
   ]
  },
  {
   "cell_type": "markdown",
   "id": "d5516956",
   "metadata": {},
   "source": [
    "Il controller può rispondere al segnale di errore in vari modi. Un approccio consiste nell'amplificare l'errore, denominato controller proporzionale. Un altro metodo prevede l'utilizzo di controllori che producono un segnale basato sia sull'errore che sul suo integrale. Ciò si traduce in un segnale composto da due parti: una direttamente proporzionale all'errore e un'altra proporzionale all'errore accumulato nel tempo. Parliamo in questo caso di regolatori proporzionali e integrali.\n",
    "\n",
    "Oltre a questi, c'è il controller proporzionale-derivativo (PD), che non solo risponde all'errore presente ma anche al tasso di variazione di questo errore. Considerando la derivata o la velocità con cui l'errore cambia, il controllore PD può anticipare gli errori futuri e agire in modo più reattivo, rendendolo particolarmente utile negli scenari in cui sono essenziali correzioni rapide.\n",
    "\n",
    "Infine c'è il controller Proporzionale-Integrale-Derivativo (PID), che combina tutte e tre le strategie. Considera l'errore attuale (proporzionale), l'accumulo di errori passati (integrale) e il tasso di variazione dell'errore (derivativo). Utilizzando tutti e tre i componenti, il controller PID offre un approccio completo alla correzione degli errori, garantendo precisione costante, risposta rapida e anticipazione di errori futuri. Ciò rende il controller PID una delle strategie di controllo più utilizzate in vari settori grazie alla sua adattabilità ed efficienza in diversi scenari di controllo."
   ]
  },
  {
   "cell_type": "markdown",
   "id": "2da746d3",
   "metadata": {},
   "source": [
    "1. **Regolatore proporzionale (P)**:\n",
    "$$\n",
    "u(t) = K_p \\cdot e(t)\n",
    "$$\n",
    "\n",
    "Dove:\n",
    "- $ u(t) $ è l'uscita di controllo.\n",
    "- $ K_p $ è il guadagno proporzionale.\n",
    "- $ e(t) $ è il segnale di errore.\n",
    "\n",
    "2. **Regolatore Proporzionale-Integrale (PI)**:\n",
    "$$\n",
    "u(t) = K_p \\cdot e(t) + K_i \\int e(t) \\, dt\n",
    "$$\n",
    "\n",
    "Dove:\n",
    "- $ K_i $ è il guadagno integrale.\n",
    "\n",
    "3. **Regolatore proporzionale-derivato (PD)**:\n",
    "\n",
    "$$\n",
    "u(t) = K_p \\cdot e(t) + K_d \\frac{d e(t)}{dt}\n",
    "$$\n",
    "\n",
    "Dove:\n",
    "- $ K_d $ è il guadagno derivato.\n",
    "\n",
    "4. **Regolatore proporzionale-integrale-derivativo (PID)**:\n",
    "\n",
    "$$\n",
    "u(t) = K_p \\cdot e(t) + K_i \\int e(t) \\, dt + K_d \\frac{d e(t)}{dt}\n",
    "$$\n",
    "\n",
    "In queste equazioni:\n",
    "- $ e(t) $ rappresenta il segnale di errore, ovvero la differenza tra il setpoint e la variabile di processo (o l'uscita misurata).\n",
    "- I guadagni $ K_p $, $ K_i $ e $ K_d $ determinano rispettivamente la forza della risposta del controllore all'errore, il suo accumulo e il suo tasso di variazione. La regolazione di questi guadagni consente di ottimizzare le prestazioni del controller per adattarle ad applicazioni specifiche."
   ]
  },
  {
   "cell_type": "markdown",
   "id": "dec838b1",
   "metadata": {},
   "source": [
    "Questi possono essere facilmente implementati come controller analogici utilizzando amplificatori operazionali."
   ]
  },
  {
   "cell_type": "markdown",
   "id": "13ba04e9",
   "metadata": {},
   "source": [
    "# Controller analogici"
   ]
  },
  {
   "cell_type": "markdown",
   "id": "d2d940e7",
   "metadata": {},
   "source": [
    "Gli amplificatori operazionali (Op-Amp) sono componenti cruciali nei sistemi di controllo. Possono fungere da amplificatori, integratori o differenziatori, a seconda della loro configurazione.\n",
    "\n",
    "\n",
    "1. **Regolatore Proporzionale (P)**:\n",
    "    \n",
    "- Circuito:\n",
    "    \n",
    "    <table>\n",
    "<tr>\n",
    "    <td> <img src=\"../pics/08_control_system_components_op-amps-P.png\" alt=\"op-amps-P\" style=\"width: 350px;\"/>\n",
    "</tr></table>\n",
    "      \n",
    "    \n",
    "- Funzione di trasferimento:\n",
    "\n",
    "$$\n",
    "\\frac{E_0(s)}{E_i(s)}=-\\frac{R2}{R1}\n",
    "$$\n",
    "\n",
    "- Notare che con due circuiti in serie si può eliminare il segno meno.\n",
    "    \n",
    "    \n",
    "2. **Regolatore proporzionale-integrale (PI)**:\n",
    "    \n",
    "- Circuito:\n",
    "\n",
    "    <table>\n",
    "<tr>\n",
    "    <td> <img src=\"../pics/08_control_system_components_op-amps-PI.png\" alt=\"op-amps-P\" style=\"width: 350px;\"/>\n",
    "</tr></table>\n",
    "\n",
    "    \n",
    "- Funzione di trasferimento:\n",
    "   \n",
    "$$\n",
    "\\frac{E_0(s)}{E_i(s)}=-\\frac{R_2+\\frac{1}{sC}}{R_1} = -\\frac{R_2}{R_1} - \\frac{1}{R_1C }\\frac{1}{s}\n",
    "$$\n",
    " \n",
    "che possiamo scriverlo come:\n",
    " \n",
    "$$\n",
    "e_0(t) = -\\frac{R_2}{R_1}e_i(t) - \\frac{1}{R_1C}\\int_{0}^{t}e_i(\\tau)d\\tau\n",
    "$$\n",
    "    \n",
    "    \n",
    "    \n",
    "3. **Controllore Proporzionale-Derivativo (PD)**:\n",
    "    \n",
    "- Circuito:\n",
    "\n",
    "    <table>\n",
    "<tr>\n",
    "    <td> <img src=\"../pics/08_control_system_components_op-amps-PD.png\" alt=\"op-amps-P\" style=\"width: 350px;\"/>\n",
    "</tr></table>\n",
    "\n",
    "\n",
    "- Funzione di trasferimento:\n",
    "\n",
    "$$\n",
    "\\frac{E_0(s)}{E_i(s)}=\\frac{\\frac{R_2}{R_1\\frac{1}{sC}}}{R_1+\\frac{1}{sC}}\n",
    "$$\n",
    "\n",
    "e con semplici manipolazioni possiamo ottenere la struttura standard.\n",
    "    \n",
    "4. **Regolatore proporzionale-integrale-derivativo (PID)**:\n",
    "    \n",
    "- Circuito:\n",
    "    \n",
    "    <table>\n",
    "<tr>\n",
    "    <td> <img src=\"../pics/08_control_system_components_op-amps-PID-impedence.png\" alt=\"op-amps-P\" style=\"width: 350px;\"/>\n",
    "</tr></table>\n",
    "    \n",
    "    \n",
    "- Funzione di trasferimento:\n",
    "        \n",
    "$$\n",
    "\\frac{E_0(s)}{E_i(s)} = -\\frac{Z_2(s)}{Z_1(s)}\n",
    "$$"
   ]
  },
  {
   "cell_type": "code",
   "execution_count": null,
   "id": "87d1d50a",
   "metadata": {},
   "outputs": [],
   "source": []
  }
 ],
 "metadata": {
  "kernelspec": {
   "display_name": "python3",
   "language": "python",
   "name": "python3"
  }
 },
 "nbformat": 4,
 "nbformat_minor": 5
}
