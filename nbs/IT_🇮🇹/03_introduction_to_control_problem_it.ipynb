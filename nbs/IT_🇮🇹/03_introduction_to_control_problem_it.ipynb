{
 "cells": [
  {
   "cell_type": "code",
   "execution_count": null,
   "id": "68a81395",
   "metadata": {},
   "outputs": [],
   "source": [
    "#| default_exp introduction_to_control_problem"
   ]
  },
  {
   "cell_type": "code",
   "execution_count": null,
   "id": "9309a677",
   "metadata": {},
   "outputs": [],
   "source": [
    "#| hide\n",
    "from nbdev.showdoc import *"
   ]
  },
  {
   "cell_type": "code",
   "execution_count": null,
   "id": "30bda769",
   "metadata": {},
   "outputs": [
    {
     "data": {
      "text/html": [
       "<link rel='stylesheet' href='https://maxcdn.bootstrapcdn.com/font-awesome/4.7.0/css/font-awesome.min.css'>"
      ],
      "text/plain": [
       "<IPython.core.display.HTML object>"
      ]
     },
     "metadata": {},
     "output_type": "display_data"
    }
   ],
   "source": [
    "#| hide\n",
    "from IPython.display import display, HTML\n",
    "display(HTML(\"<link rel='stylesheet' href='https://maxcdn.bootstrapcdn.com/font-awesome/4.7.0/css/font-awesome.min.css'>\"))"
   ]
  },
  {
   "cell_type": "markdown",
   "id": "25d357fb-92a1-4fdf-a3e5-c35ec6cd8a32",
   "metadata": {},
   "source": [
    "# Introduzione al problema del controllo"
   ]
  },
  {
   "cell_type": "markdown",
   "id": "7c52db5f-7abb-4e4b-9a57-a568d99ce2bc",
   "metadata": {},
   "source": [
    "## Servomeccanismo per il governo dell'antenna\n",
    "\n",
    "Una tipica applicazione radar prevede il governo di un'antenna in modo tale che rimanga allineata con un bersaglio, come nel seguire un aereo in volo. Questo meccanismo di allineamento e tracciamento si ottiene utilizzando un servomeccanismo."
   ]
  },
  {
   "cell_type": "markdown",
   "id": "26907385-cbff-4b17-ac11-54119ff76e08",
   "metadata": {},
   "source": [
    "<table>\n",
    "    <tr>\n",
    "    <td>\n",
    "        <img src=\"../pics/03_introduction_to_control_problem_antenna-tracking-system.png\" alt=\"antenna-tracking-system\" style=\"width: 250px;\"/>\n",
    "        <img src=\"../pics/03_introduction_to_control_problem_antenna-tracking-system-gopal.png\" alt=\"antenna-tracking-system-gopal\" style=\"width: 350px;\"/>\n",
    "    </td>\n",
    "    </tr>\n",
    "</table>"
   ]
  },
  {
   "cell_type": "markdown",
   "id": "ce161e15-9b84-49f9-af75-70e0d244abc6",
   "metadata": {},
   "source": [
    "- segnale di comando per il servo: deviazione tra l'asse dell'antenna e la posizione del bersaglio\n",
    "- questo è necessario per orientare l'antenna e ridurre l'errore a zero\n",
    "\n",
    "Come osservi nel diagramma sopra, la configurazione della nostra antenna ha due principali gradi di libertà:\n",
    "\n",
    "- Angolo di elevazione attorno all'asse orizzontale.\n",
    "- Angolo di azimut (indicato come $\\beta$) attorno all'asse verticale.\n",
    "\n",
    "Ciò rende il nostro sistema multivariabile. Ma aspetta, c'è un modo per semplificarlo?\n",
    "\n",
    "> **Bolla di pensiero**: ricordi uno scenario in cui possiamo trattare un sistema multivariabile quasi come una serie di sistemi a singolo input e singolo output?\n",
    "Corretto! Se l'interazione (o l'accoppiamento) tra queste variabili può essere trascurata, possiamo progettare i nostri sistemi di controllo separatamente per ciascun grado di libertà."
   ]
  },
  {
   "cell_type": "markdown",
   "id": "e60d62ef-aeb5-474f-b574-eca66b827e44",
   "metadata": {},
   "source": [
    "Per chiarire, ingrandiamo il controllo dell'azimut ($\\beta$).\n",
    "\n",
    "### Diagramma a blocchi del controllo dell'azimut\n",
    "\n",
    "<table><tr>\n",
    "<td> <img src=\"../pics/03_introduction_to_control_problem_antenna-tracking-system-gopal-block-diagram.png\" alt=\"antenna-tracking-system-gopal-block-diagram\" style=\"width: 650px;\"/>\n",
    "</tr></table>\n",
    "\n",
    "_Figura: Servomeccanismo azimutale per il governo dell'antenna (da Principi e progettazione dei sistemi di controllo)_"
   ]
  },
  {
   "cell_type": "markdown",
   "id": "7dcc1d9d-3a8a-4810-a96f-f0d96521a67f",
   "metadata": {},
   "source": [
    "- L'angolo di azimut è $\\beta$ (angolo controllato)\n",
    "- Segnale di comando dato dal sensore radar: $\\beta_r$\n",
    "- Il 'Computer' esegue il rilevamento e il controllo degli errori, il che significa che abbiamo bisogno di un sensore adatto per leggere l'angolo $\\beta$.\n",
    "    - l'uscita dell'elemento di calcolo è $u$ (segnale manipolato)\n",
    "- Encoder angolare: trasforma il segnale analogico $\\beta$ (spostamento angolare) in un segnale digitale\n",
    "- L'amplificatore di potenza ha generato il segnale che aziona il motore (motore di controllo dell'armatura CC) - modificare il livello di potenza per soddisfare i requisiti del motore\n",
    "- Tra l'albero del motore e l'antenna abbiamo un **treno di ingranaggi** perché la coppia richiesta per spostare l'antenna è maggiore della coppia prodotta da un tipico motore.\n",
    "\n",
    "### Tachimetrica\n",
    "C'è una svolta nella nostra storia. Come avrai notato nel diagramma, abbiamo introdotto un ulteriore meccanismo di feedback tramite una dinamo tachimetrica.\n",
    "\n",
    "La dinamo tachimetrica, fissata all'albero motore, produce un segnale di tensione proporzionale alla velocità dell'albero. _Ciò ci consente non solo di fornire feedback sulla posizione dell'antenna ma anche sul suo tasso di cambiamento (o velocità)._\n",
    "\n",
    "- la velocità è la derivata della variabile controllata $\\beta$."
   ]
  },
  {
   "cell_type": "markdown",
   "id": "3b4020a4-d6c0-4296-886f-c84bc753566d",
   "metadata": {},
   "source": [
    "**Pop Quiz**: Riesci a pensare al motivo per cui il feedback sulla velocità potrebbe essere utile nel nostro sistema di controllo?"
   ]
  },
  {
   "cell_type": "markdown",
   "id": "857637e9-6d2d-40cb-b461-3263ff4e145a",
   "metadata": {},
   "source": [
    "Questo doppio meccanismo di feedback è ciò che chiamiamo \"controllo proporzionale più derivato\". È un concetto essenziale nella progettazione del sistema di controllo, poiché aiuta a ottenere un controllo preciso considerando sia la posizione che la velocità di variazione."
   ]
  },
  {
   "cell_type": "markdown",
   "id": "02171569-6b9a-4666-a2bb-8878d3fa8603",
   "metadata": {},
   "source": [
    "Possiamo inserirlo nel nostro modulo di diagramma a blocchi standard:"
   ]
  },
  {
   "cell_type": "markdown",
   "id": "a50a98ce-04ab-4b71-8875-5a0bf9d5c559",
   "metadata": {},
   "source": [
    "<table><tr>\n",
    "<td> <img src=\"../pics/03_introduction_to_control_problem_antenna_tracking_system_gopal_block_diagram_standard_form.png\" alt=\"03_introduction_to_control_problem_antenna_tracking_system_gopal_block_diagram_standard_form\" style=\"width: 650px;\"/>\n",
    "</tr></table>\n",
    "\n",
    "_Figura: Servomeccanismo azimutale per il governo dell'antenna (da Principi e progettazione dei sistemi di controllo)_"
   ]
  },
  {
   "cell_type": "markdown",
   "id": "3bcf4b05-6325-490e-add5-9c170e812f41",
   "metadata": {},
   "source": [
    "- Il carico è l'antenna.\n",
    "- L'antenna, l'ingranaggio e l'albero motore rappresentano tutto il progetto. Se vogliamo elaborare un modello del sistema dobbiamo modellare tutto questo, il che in pratica significherà:\n",
    "    - Conoscere il momento d'inerzia $J$ e l'attrito $B$."
   ]
  },
  {
   "cell_type": "markdown",
   "id": "b16dce2f-f540-404d-bace-6f218f45c916",
   "metadata": {},
   "source": [
    "## Controllo della velocità nell'industria"
   ]
  },
  {
   "cell_type": "markdown",
   "id": "e2588255",
   "metadata": {},
   "source": [
    "Il controllo della velocità è vitale in molti settori, soprattutto dove la coerenza è cruciale. Pensa alle cartiere o agli impianti di produzione dell'acciaio, dove i rulli devono mantenere una velocità costante per produrre un prodotto uniforme, garantendo qualità e sicurezza del prodotto."
   ]
  },
  {
   "cell_type": "markdown",
   "id": "164e1cdd",
   "metadata": {},
   "source": [
    "<table><tr>\n",
    "<td> <img src=\"../pics/03_introduction_to_control_problem_speed-control-diagram-rollers.png\" alt=\"speed-control-diagram-rollers\" style=\"width: 650px;\"/>\n",
    "</tr></table>"
   ]
  },
  {
   "cell_type": "markdown",
   "id": "bf301126-c30e-4c69-8a89-eca51f416ce3",
   "metadata": {},
   "source": [
    "Per garantire una velocità costante, nonostante disturbi come la variazione dello spessore del materiale o le fluttuazioni di potenza, utilizziamo un sistema di controllo."
   ]
  },
  {
   "cell_type": "markdown",
   "id": "9a8eb257-1fd0-48b9-b209-82ecb24d2748",
   "metadata": {},
   "source": [
    "<table><tr>\n",
    "<td> <img src=\"../pics/03_introduction_to_control_problem_speed_control_diagram.png\" alt=\"speed-control-diagram\" style=\"width: 650px;\"/>\n",
    "</tr></table>"
   ]
  },
  {
   "cell_type": "markdown",
   "id": "f23b39ac",
   "metadata": {},
   "source": [
    "- Posizione velocità comandata: la posizione della velocità comandata è rappresentata da $\\omega_r$. Nel diagramma illustrato, ciò indica la velocità comandata. Questo è il segnale di riferimento che viene confrontato con l'effettivo segnale di feedback proveniente dal sistema $\\omega$.\n",
    "\n",
    "- Meccanismo di feedback:\n",
    "   - La dinamo tachimetrica, fissata all'albero motore, fornisce il feedback in questo sistema. Questo meccanismo cattura la velocità effettiva e invia un segnale di feedback al sistema principale.\n",
    "     Per fornire un'immagine più chiara, immagina un motore CC (come illustrato nel nostro diagramma). La dinamo tachimetrica è accoppiata all'albero di questo motore. Il carico collegato a questo motore ha determinati parametri: $J$ (momento di inerzia) e $B$ (attrito viscoso).\n",
    "\n",
    "\n",
    "- Traduzione della velocità in tensione:\n",
    "    - La dinamo tachimetrica non genera direttamente un segnale di velocità. Genera invece un segnale di tensione proporzionale alla velocità. Questo è fondamentale perché significa che anche il nostro segnale di riferimento, $\\omega_r$, sarà una tensione proporzionale alla velocità desiderata.\n",
    "Pertanto, in questo sistema, il rilevatore di errori potrebbe essere un amplificatore operazionale (spesso chiamato amplificatore operazionale). Questo circuito operazionale accetta i segnali di tensione che rappresentano la velocità comandata e quella effettiva, li confronta e quindi genera un segnale proporzionale all'errore tra questi due segnali."
   ]
  },
  {
   "cell_type": "markdown",
   "id": "0019fb6c-c25c-4606-8a0a-27ddbfd20a03",
   "metadata": {},
   "source": [
    "**Domanda:** Perché in questo sistema la velocità viene tradotta in tensione?\n",
    "\n",
    "Risposta: Serve per garantire che il feedback e i segnali di riferimento siano nello stesso formato (tensione) per il confronto da parte del rilevatore di errori."
   ]
  },
  {
   "cell_type": "markdown",
   "id": "ca268ae0-415d-4ace-b76a-edeeb0369749",
   "metadata": {},
   "source": [
    "- Adattamento del controllo digitale:\n",
    "Per gli appassionati di uno schema di controllo digitale, l'introduzione di un blocco convertitore da A a D (da analogico a digitale) può digitalizzare il segnale analogico generato dal rilevamento dell'errore. Questo segnale digitale può quindi essere elaborato da un sistema informatico."
   ]
  },
  {
   "cell_type": "markdown",
   "id": "00d93488-36bb-4fc0-b9a6-83661bf11644",
   "metadata": {},
   "source": [
    "- Controllo dell'erogazione di potenza:\n",
    "\n",
    "Lo scopo principale di questo schema di controllo è modulare la potenza fornita al motore in base alla differenza (errore) tra la posizione comandata e quella effettiva.\n",
    "\n",
    "Nello schema fornito, questo è gestito da un raddrizzatore di controllo al silicio (SCR). Senza entrare ancora nelle specifiche dell'hardware, la struttura di feedback inerente allo schema di controllo rivela un controllo del trigger SCR. L'attivazione dell'SCR determina l'alimentazione del motore, influenzando così la coppia generata dal motore per raggiungere $\\omega=\\omega_r$."
   ]
  },
  {
   "cell_type": "markdown",
   "id": "5a9bf0df-bb8d-403e-9f54-b69e13f1759d",
   "metadata": {},
   "source": [
    "Sia che $\\omega_r$ sia un segnale che cambia nel tempo o un set point fisso, lo schema di controllo può funzionare sia come sistema di tracciamento che come regolatore. Approfondiremo più avanti questi tipi di applicazioni e i relativi controlli di velocità."
   ]
  },
  {
   "cell_type": "markdown",
   "id": "0e7a68a5-c70b-4fd0-8328-20707f4d5379",
   "metadata": {},
   "source": [
    "# Terminologia chiave\n",
    "Mentre ci prepariamo ad approfondire questi sistemi, è essenziale familiarizzare con alcuni termini chiave:\n",
    "\n",
    "- Processo/Impianto: questi termini possono essere usati in modo intercambiabile. La loro comprensione è cruciale.\n",
    "- Attuatore: Richiama la sua funzione - regolare il livello di potenza del segnale di controllo per renderlo compatibile con il motore o l'impianto.\n",
    "- Controller: Si compone principalmente di due sottosistemi:\n",
    "      - Rilevatore di errore: confronta il segnale di riferimento o di comando con il segnale effettivamente controllato.\n",
    "      - Logica di controllo: definisce come il sistema risponde all'errore. Gli esempi includono la logica proporzionale semplice o la logica proporzionale più derivativa più complessa, ecc.\n",
    "\n",
    "- Sensore: il ruolo del sensore è fondamentale. Genera un segnale di feedback per allinearsi al segnale di riferimento o di comando, consentendo al rilevatore di errori di confrontare e agire.\n",
    "\n",
    "In una progettazione model-based, comprendere e costruire il modello matematico di questi sottosistemi è fondamentale. I modelli matematici saranno integrati per rappresentare il sistema complessivo di controllo del feedback."
   ]
  },
  {
   "cell_type": "markdown",
   "id": "9ffe3cf4",
   "metadata": {},
   "source": [
    "-----"
   ]
  },
  {
   "cell_type": "markdown",
   "id": "290e9820",
   "metadata": {},
   "source": [
    "# Modelli matematici dei sistemi fisici"
   ]
  },
  {
   "cell_type": "markdown",
   "id": "42f8169c",
   "metadata": {},
   "source": [
    "I sistemi di controllo svolgono un ruolo chiave nei moderni progressi tecnologici, dagli elettrodomestici all’esplorazione spaziale. Per progettare e analizzare questi sistemi, è essenziale creare innanzitutto modelli matematici dei processi fisici sottostanti. I modelli matematici fungono da rappresentazioni astratte, aiutando ingegneri e scienziati a prevedere il comportamento del sistema in varie condizioni. Questo capitolo approfondisce i concetti e le tecniche fondamentali per la formulazione di questi modelli, traendo ispirazione principalmente dal lavoro fondamentale di Nagrath e Gopal nel loro libro sui sistemi di controllo."
   ]
  },
  {
   "cell_type": "markdown",
   "id": "85f32fbe",
   "metadata": {},
   "source": [
    "## Perché i modelli matematici?\n",
    "\n",
    "Definizione: un modello matematico è una rappresentazione astratta di un sistema fisico sotto forma di equazioni matematiche. Descrive il comportamento del sistema e come risponde ai vari input.\n",
    "\n",
    "Benefici:\n",
    "\n",
    "- Analisi predittiva: consente previsioni sul comportamento futuro.\n",
    "- Ottimizzazione del sistema: facilita le regolazioni per prestazioni ottimali.\n",
    "- Simulazione: consente la simulazione del sistema prima dell'effettiva implementazione.\n",
    "- Conveniente: riduce la necessità di test nel mondo reale costosi e dispendiosi in termini di tempo."
   ]
  },
  {
   "cell_type": "markdown",
   "id": "5406c422",
   "metadata": {},
   "source": [
    "## Tipi di sistemi fisici:\n",
    "I sistemi fisici possono essere ampiamente classificati in base alla loro natura intrinseca:\n",
    "\n",
    "- **Sistemi lineari e non lineari**: i sistemi lineari obbediscono al principio di sovrapposizione e omogeneità, mentre i sistemi non lineari no.\n",
    "- **Sistemi invarianti rispetto al tempo rispetto a sistemi variabili nel tempo**: nei sistemi invarianti nel tempo, i parametri non cambiano con il tempo. Al contrario, lo fanno nei sistemi con varianti temporali.\n",
    "- **Sistema a tempo continuo e a tempo discreto**: i sistemi a tempo continuo operano in un intervallo di tempo continuo, mentre i sistemi a tempo discreto operano a intervalli specifici."
   ]
  },
  {
   "cell_type": "markdown",
   "id": "2487de8d",
   "metadata": {},
   "source": [
    "## Passaggi nella formulazione di modelli matematici:\n",
    "\n",
    "1. Identificazione del sistema: determinare il tipo di sistema (ad esempio, meccanico, elettrico, termico).\n",
    "2. Semplificazione: fare approssimazioni ragionevoli e trascurare gli effetti insignificanti.\n",
    "3. Selezione delle variabili: scegliere le variabili di stato appropriate per descrivere il sistema.\n",
    "4. Applicazione delle leggi fondamentali: applicare le leggi fondamentali (come la legge di Ohm per i sistemi elettrici, le leggi di Newton per i sistemi meccanici) per derivare le equazioni.\n",
    "5. Rappresentazione: utilizzare equazioni differenziali, funzioni di trasferimento o modelli nello spazio degli stati secondo necessità."
   ]
  },
  {
   "cell_type": "markdown",
   "id": "c3e786fd-9920-4ebc-8215-b68b35829d17",
   "metadata": {},
   "source": [
    "## Sistemi lineari invarianti nel tempo\n",
    "Nelle nostre prossime discussioni, tutti i sistemi saranno lineari invarianti nel tempo. Pertanto, la nostra attenzione si concentrerà sulla modellazione di questi tipi di sistemi. Si presume che ad un certo punto dei tuoi studi ti sia imbattuto nella modellazione di vari sistemi, come sistemi elettrici, meccanici, fluidici o termici."
   ]
  },
  {
   "cell_type": "markdown",
   "id": "f0fbbf3f",
   "metadata": {},
   "source": [
    "Quando risolviamo il modello matematico di un sistema fisico in diversi scenari di input, il risultato descrive il comportamento dinamico del sistema."
   ]
  },
  {
   "cell_type": "markdown",
   "id": "c7581a2f",
   "metadata": {},
   "source": [
    "> <i class=\"fa fa-lightbulb-o\" aria-hidden=\"true\"></i>\n",
    "Il modello matematico di un sistema è considerato lineare se aderisce ai principi di sovrapposizione e omogeneità."
   ]
  },
  {
   "cell_type": "markdown",
   "id": "ac1b9113",
   "metadata": {},
   "source": [
    "se un modello di sistema ha risposte $y_1(t)$ e $y_2(t)$ a due input qualsiasi $x_1(t)$ e $x_2,(t)$, la risposta del sistema alla combinazione lineare di questi input:\n",
    "\n",
    "$$ \\alpha_1 x_1(t) + \\alpha_2 x_2(t) $$\n",
    "\n",
    "è data dalla combinazione lineare delle singole risposte:\n",
    "\n",
    "$$ \\alpha_1 y_1(t) + \\alpha_2 y_2(t) $$"
   ]
  },
  {
   "cell_type": "markdown",
   "id": "035431e5-4e21-4024-a951-306b7858b3f9",
   "metadata": {},
   "source": [
    "Prima di approfondire ulteriormente, sarà utile un riepilogo delle leggi fisiche fondamentali, così come si applicano ai sistemi lineari invarianti nel tempo. Sebbene possa sembrare ripetitivo, ciò garantirà che tutti siano sulla stessa pagina e comprendano la terminologia.\n",
    "\n",
    "- L'applicazione delle leggi fondamentali della fisica fornirà equazioni differenziali. Tuttavia, queste equazioni potrebbero non essere direttamente utilizzabili per l'analisi o la progettazione e devono essere trasformate in una forma più utile per il controllo.\n",
    "\n",
    "Esistono due forme principali nei sistemi di controllo che spesso vengono sfruttati:\n",
    "1. modelli a variabili di stato\n",
    "2. funzioni di trasferimento."
   ]
  },
  {
   "cell_type": "markdown",
   "id": "fe6daed6",
   "metadata": {},
   "source": [
    "> <i class=\"fa fa-lightbulb-o\" aria-hidden=\"true\"></i>\n",
    "Le equazioni differenziali spesso caratterizzano le rappresentazioni matematiche di molti sistemi fisici. Un modello è considerato lineare quando l'equazione differenziale che lo definisce possiede coefficienti che dipendono esclusivamente dalla variabile indipendente o rimangono costanti. Se questi coefficienti cambiano nel tempo (dove il tempo è la variabile indipendente), il modello è descritto come variabile nel tempo lineare. Al contrario, se i coefficienti rimangono costanti, il modello è etichettato come lineare invariante nel tempo."
   ]
  },
  {
   "cell_type": "markdown",
   "id": "b8618977-1db9-4462-b155-cc74b79ffba6",
   "metadata": {},
   "source": [
    "## Modelli delle variabili di stato\n",
    "\n",
    "Utilizzando un semplice circuito elettrico come esempio possiamo illustrare il concetto di modelli con variabili di stato.\n",
    "\n",
    "In questo circuito, la variabile di input è $e_i$. La variabile di output, in qualsiasi sistema, è l'attributo del focus. Nel nostro esempio, potrebbe essere la corrente attraverso un elemento o la tensione attraverso un elemento."
   ]
  },
  {
   "cell_type": "markdown",
   "id": "cf3533d4-c44f-448b-a26f-584aa117d17c",
   "metadata": {},
   "source": [
    "<table><tr>\n",
    "<td> <img src=\"../pics/03_introduction_to_control_problem_state-variable-model-simple-circuit-precise-with-current.png\" alt=\"state-variable-model-simple-circuit\" style=\"width: 450px;\"/>\n",
    "</tr></table>"
   ]
  },
  {
   "cell_type": "markdown",
   "id": "c4bc2966-6f6b-45a4-9886-e8fc923d9d06",
   "metadata": {},
   "source": [
    "In questo caso, se conosciamo la tensione attraverso il condensatore $e(t)$ e la corrente attraverso l'induttore $i(t)$, possiamo ricavare qualsiasi altra variabile di interesse.\n",
    "\n",
    "- **Variabili caratterizzanti**: $e(t)$ e $i(t)$ caratterizzano completamente il sistema (una semplice rete elettrica in questo caso)\n",
    "\n",
    "Qualsiasi output di interesse può essere ottenuto in funzione di queste variabili\n",
    "- Ad esempio l'energia immagazzinata nel condensatore è data da:\n",
    "  $$ \\frac{1}{2}Ce^2$$\n",
    "\n",
    "- Ad esempio l'energia immagazzinata nell'induttore è data da:\n",
    "  $$ \\frac{1}{2}Li^2$$\n",
    "\n",
    "\n",
    "I cambiamenti dinamici nelle nostre variabili caratterizzanti, $e(t)$ e $i(t)$, indicano la ridistribuzione dell'energia all'interno del sistema. Il riconoscimento di queste variabili, che rappresentano lo stato energetico, fornisce una visione completa del comportamento del sistema.\n",
    "\n",
    "Come ottengo $e(t)$ e $i(t)$:\n",
    "- $e(t)$ e $i(t)$ in qualsiasi momento $t \\ge 0$ sono a mia disposizione se:\n",
    "     - Sono noti $e(0), i(0)$ a $t = 0$ (stato energetico iniziale del sistema)\n",
    "     - L'input esterno $e_i(t)$ è noto per $t \\ge 0$\n",
    " \n",
    "Chiamiamo $e(t)$ e $i(t)$ **variabili di stato**."
   ]
  },
  {
   "cell_type": "markdown",
   "id": "57ea0df4-5bdc-4afe-a78a-7d611e22f505",
   "metadata": {},
   "source": [
    "### Definizione (informale) della variabile di stato\n",
    "\n",
    "> Le variabili di stato sono un insieme di variabili caratterizzanti che forniscono in ogni momento l'informazione totale sul sistema, a condizione dello stato iniziale e dell'input esterno."
   ]
  },
  {
   "cell_type": "markdown",
   "id": "ee9df2a8",
   "metadata": {},
   "source": [
    "Tornando al nostro impianto elettrico:\n",
    "\n",
    "- Parametro di resistenza: $R$\n",
    "- Capacità: $C$\n",
    "- Induttanza: $L$\n",
    "- Corrente: $i$\n",
    "\n",
    "Applicazione delle leggi fondamentali:\n",
    "\n",
    "L'equazione del ciclo è data da:\n",
    "$$\n",
    "e_i= R i + e + \\frac{Ldi}{dt}\n",
    "$$\n",
    "\n",
    "E anche:\n",
    "\n",
    "$$\n",
    "i = C\\frac{de}{dt}\n",
    "$$\n",
    "\n",
    "Queste due equazioni costituiscono il nostro modello di sistema matematico."
   ]
  },
  {
   "cell_type": "markdown",
   "id": "4d70dc49-d026-4808-b9ca-f48bc6da1a01",
   "metadata": {},
   "source": [
    "#### Modello delle variabili di stato del circuito\n",
    "Una volta adottato il nostro modello matematico, procediamo al modello delle variabili di stato.\n",
    "\n",
    "L'obiettivo qui è fare in modo che il modello esprima le derivate delle nostre variabili caratterizzanti. Per questo sistema le variabili caratterizzanti sono $e(t)$ e $i(t)$.\n",
    "\n",
    "Questo significa:\n",
    "\n",
    "$$\n",
    "\\frac{de(t)}{dt} = \\frac{1}{C}i(t)\n",
    "$$\n",
    "\n",
    "$$\n",
    "\\frac{di(t)}{dt} = \\frac{R}{L}i(t) + \\frac{1}{L}e(t) + \\frac{1}{L}e_i(t)\n",
    "$$"
   ]
  },
  {
   "cell_type": "markdown",
   "id": "3ec28524",
   "metadata": {},
   "source": [
    "Per facilità di rappresentazione e standardizzazione, definiamo:\n",
    "\n",
    "$$x_1=e(t)$$\n",
    "$$x_2=i(t)$$\n",
    "\n",
    "e chiamo la variabile di input:\n",
    "\n",
    "$$\n",
    "r=e_i(t)\n",
    "$$"
   ]
  },
  {
   "cell_type": "markdown",
   "id": "b850d28a",
   "metadata": {},
   "source": [
    "Quindi il modello del sistema in forma di variabile di stato è:\n",
    "\n",
    "\n",
    "\n",
    "$$\n",
    "\\begin{align}\n",
    "    \\frac{dx_1}{dt} &= \\frac{1}{C} x_2 \\\\\n",
    "    \\frac{dx_2}{dt} &= \\frac{R}{L} x_2 + \\frac{1}{L} x_1 + \\frac{1}{L} R\n",
    "\\end{align}\n",
    "$$\n",
    "\n",
    "Queste equazioni insieme rappresentano le equazioni di stato del sistema."
   ]
  },
  {
   "cell_type": "markdown",
   "id": "06217e6f",
   "metadata": {},
   "source": [
    "**Informazioni in uscita**: È fondamentale sapere quali informazioni ci interessano o cosa desideriamo osservare dal sistema.\n",
    "\n",
    "Supponiamo di essere interessati alla tensione ai capi dell'induttore $y(t)$. Utilizzando le variabili di stato fornite, possiamo esprimere:\n",
    "\n",
    "$$\n",
    "y(t) = -Ri - e + e_i = -Rx_2 - x_1+r\n",
    "$$\n",
    "\n",
    "Questa equazione è un'**equazione di output**, che mostra come l'output dipende dal nostro stato e dalle variabili di input."
   ]
  },
  {
   "cell_type": "markdown",
   "id": "22313c52",
   "metadata": {},
   "source": [
    "## Modello standard delle variabili di stato\n",
    "\n",
    "Il modello generalizzato delle variabili di stato per un sistema con variabili di stato $ n $, un input e un output è rappresentato dalle seguenti equazioni differenziali matrice-vettore:\n",
    "\n",
    "\n",
    "\\begin{align}\n",
    "\\dot{\\mathbf{x}}(t) &= \\mathbf{A} \\mathbf{x}(t) + \\mathbf{b} u(t) \\\\\n",
    "y(t) &= \\mathbf{c} \\mathbf{x}(t) + d u(t)\n",
    "\\end{align}\n",
    "\n",
    "Dove:\n",
    "\n",
    "- $ \\mathbf{x}(t) $ è il vettore di stato di dimensione $ n \\times 1 $:\n",
    "\n",
    "$$\n",
    "\\mathbf{x}(t) = \\begin{bmatrix}\n",
    "x_1(t) \\\\\n",
    "x_2(t) \\\\\n",
    "\\vdots \\\\\n",
    "x_n(t)\n",
    "\\end{bmatrix}\n",
    "$$\n",
    "\n",
    "- $ u(t) $ è un input scalare\n",
    "- $ y(t) $ è un output scalare\n",
    "\n",
    "\n",
    "- $ \\mathbf{A} $ è la **matrice di sistema** di dimensione $ n \\times n $\n",
    "- $ \\mathbf{b} $ è il **vettore di input** della dimensione $ n \\times 1 $\n",
    "- $ \\mathbf{c} $ è il **vettore di output** di dimensione $ 1 \\times n $\n",
    "- $ d $ è la **matrice di trasmissione diretta** di dimensione $ 1 \\times 1 $."
   ]
  },
  {
   "cell_type": "markdown",
   "id": "a3addee9",
   "metadata": {},
   "source": [
    "Possiamo generalizzarlo a un sistema con variabili di stato $ n $, input $ m$ e output $ p $\n",
    "\n",
    "\\begin{align}\n",
    "\\dot{\\mathbf{x}}(t) &= \\mathbf{A} \\mathbf{x}(t) + \\mathbf{B} \\mathbf{u}(t) ​​\\\\\n",
    "\\mathbf{y}(t) &= \\mathbf{C} \\mathbf{x}(t) + \\mathbf{D} \\mathbf{u}(t)\n",
    "\\end{align}\n",
    "\n",
    "Dove:\n",
    "\n",
    "- $ \\mathbf{x}(t) $ è il vettore di stato di dimensione $ n \\times 1 $:\n",
    "\n",
    "$$\n",
    "\\mathbf{x}(t) = \\begin{bmatrix}\n",
    "x_1(t) \\\\\n",
    "x_2(t) \\\\\n",
    "\\vdots \\\\\n",
    "x_n(t)\n",
    "\\end{bmatrix}\n",
    "$$\n",
    "\n",
    "- $ \\mathbf{A} $ è la matrice del sistema di dimensione $ n \\times n $.\n",
    "- $ \\mathbf{B} $ è la matrice di input di dimensione $ n \\times m $ (assumendo che ci siano $ m $ input).\n",
    "- $ \\mathbf{C} $ è la matrice di output di dimensione $ p \\times n $ (assumendo che ci siano output $ p $).\n",
    "- $ \\mathbf{D} $ è la matrice di trasmissione diretta di dimensione $ p \\times m $.\n",
    "- $ \\mathbf{u}(t) ​​$ è il vettore di input.\n",
    "- $ \\mathbf{y}(t) $ è il vettore di output.\n",
    "\n",
    "Questo formato viene spesso definito come la rappresentazione \"nello spazio degli stati\" dei sistemi dinamici. Fornisce un modo compatto e modulare per descrivere il comportamento di un'ampia gamma di sistemi, inclusi quelli elettrici, meccanici, termici e altri."
   ]
  },
  {
   "cell_type": "markdown",
   "id": "62040e69",
   "metadata": {},
   "source": [
    "### Terminologia\n",
    "\n",
    "- Le lettere minuscole in grassetto o le lettere minuscole sottolineate indicano i vettori.\n",
    "- Le lettere maiuscole in grassetto o le lettere maiuscole sottolineate indicano le matrici.\n",
    "- Nessuna sottolineatura indica uno scalare."
   ]
  },
  {
   "cell_type": "markdown",
   "id": "b5f89c13",
   "metadata": {},
   "source": [
    "# Ammortizzatore a molla di massa"
   ]
  },
  {
   "cell_type": "markdown",
   "id": "cc004295",
   "metadata": {},
   "source": [
    "<table><tr>\n",
    "<td> <img src=\"../pics/03_introduction_to_control_problem_mass_damp_spring.png\" alt=\"03_introduction_to_control_problem_mass_damp_spring\" style=\"width: 450px;\"/>\n",
    "</tr></table>"
   ]
  },
  {
   "cell_type": "markdown",
   "id": "385c28af",
   "metadata": {},
   "source": [
    "Consideriamo il sistema fisico di un ammortizzatore massa-molla:\n",
    "\n",
    "- Messa: $M$\n",
    "- Costante della molla: $K$\n",
    "- Coefficiente di smorzamento: $B$\n",
    "- Forza esterna: $F(t)$\n",
    "- Spostamento del carrello dall'equilibrio: $x$"
   ]
  },
  {
   "cell_type": "markdown",
   "id": "31071e0a",
   "metadata": {},
   "source": [
    "Per prima cosa scriviamo l'equazione differenziale del sistema e poi manipoleremo l'equazione differenziale per averla nella forma standard della variabile di stato.\n",
    "\n",
    "Utilizzando la seconda legge di Newton, l'equazione differenziale governante è:\n",
    "\n",
    "$$\n",
    "F(t) = M \\frac{dv}{dt} + B v + Kx\n",
    "$$"
   ]
  },
  {
   "cell_type": "markdown",
   "id": "32f1a0ad",
   "metadata": {},
   "source": [
    "Dove:\n",
    "- $v$ è la variabile della velocità"
   ]
  },
  {
   "cell_type": "markdown",
   "id": "4a62ada0",
   "metadata": {},
   "source": [
    "Questa equazione può essere trasformata in un modello con variabili di stato.\n",
    "\n",
    "In questo caso $x(t)$ (Spostamento) e $v(t)$ sono le variabili caratterizzanti.\n",
    "\n",
    "Possiamo quindi definire le variabili di stato come:\n",
    "- $x_1 = x(t)$ (Spostamento)\n",
    "- $x_2 = v(t)$ (Velocità)\n",
    "\n",
    "\n",
    "Ciò significa, per la prima variabile di stato:\n",
    "$$\n",
    "\\frac{dx}{dt} = v\n",
    "$$\n",
    "\n",
    "e in termini di variabili di stato\n",
    "$$\n",
    "\\dot{x_1} = x_2\n",
    "$$\n",
    "\n",
    "e per la seconda variabile di stato, devo considerare l'equazione differenziale originale:\n",
    "\n",
    "$$\n",
    "\\frac{dv}{dt} = -\\frac{K}{M} x - \\frac{B}{M} v + \\frac{1}{M} F(t)\n",
    "$$\n",
    "\n",
    "e ora in termini di variabili di stato:\n",
    "\n",
    "$$\n",
    "\\dot{x_2} = -\\frac{K}{M} x_1 - \\frac{B}{M} x_2 + \\frac{1}{M} u\n",
    "$$\n",
    "\n",
    "\n",
    "\n",
    "> **Domanda**: Perché abbiamo due equazioni? Abbiamo due variabili di stato."
   ]
  },
  {
   "cell_type": "markdown",
   "id": "e9a0dc95",
   "metadata": {},
   "source": [
    "Il vettore di stato è:\n",
    "$$\n",
    "\\underline{x}(t) = \\begin{bmatrix}\n",
    "x_1(t) \\\\\n",
    "x_2(t) \\\\\n",
    "\\end{bmatrix} = = \\begin{bmatrix}\n",
    "X \\\\\n",
    "v(t) \\\\\n",
    "\\end{bmatrix}\n",
    "$$\n",
    "\n",
    "\n",
    "La matrice degli stati è:\n",
    "\n",
    "$$\n",
    "\\underline{A} = \\begin{bmatrix}\n",
    "0 e 1\\\\\n",
    "-\\frac{K}{M} & -\\frac{B}{M} \\\\\n",
    "\\end{bmatrix}\n",
    "$$\n",
    "\n",
    "Il vettore di input è:\n",
    "\n",
    "$$\n",
    "\\underline{b} = \\begin{bmatrix}\n",
    "0 \\\\\n",
    "\\frac{1}{M}\\\\\n",
    "\\end{bmatrix}\n",
    "$$\n",
    "\n",
    "$\\underline{c}$ e $d$ dipendono dalla variabile di output scelta.\n",
    "\n",
    "\n",
    "Nel contesto del nostro sistema massa-molla-ammortizzatore, se consideriamo lo spostamento della massa come la nostra variabile di output, ciò significa la necessità dell'utente di controllare questo spostamento. Questo requisito specifico determina la variabile di output di interesse. In questo scenario, l’obiettivo è esprimere la variabile di output in termini di variabili di stato.\n",
    "\n",
    "\n",
    "Se lo spostamento della massa è l'output, allora l'**equazione dell'output** diventa:\n",
    "\n",
    "$$\n",
    "y(t) = x = \\underline{c} \\underline{x} + d u(t)\n",
    "$$\n",
    "\n",
    "da cui:\n",
    "\n",
    "$$\n",
    "\\underline{c} = \\begin{bmatrix}\n",
    "1 e 0 \\\\\n",
    "\\end{bmatrix}\n",
    "$$\n",
    "\n",
    "\n",
    "$$\n",
    "d = 0\n",
    "$$"
   ]
  },
  {
   "cell_type": "markdown",
   "id": "d79d48c6",
   "metadata": {},
   "source": [
    "e ora abbiamo il modello completo delle variabili di stato standard:\n",
    "\n",
    "\n",
    "\\begin{align}\n",
    "\\dot{\\underline{x}}(t) &= \\underline{A} \\underline{x}(t) + \\underline{b} u(t) \\\\\n",
    "y(t) &= \\underline{c} \\underline{x}(t) + d u(t)\n",
    "\\end{align}"
   ]
  },
  {
   "cell_type": "markdown",
   "id": "91707300",
   "metadata": {},
   "source": [
    "Nota:\n",
    "\n",
    "\\begin{align}\n",
    "\\dot{\\underline{x}}(t) &= \\underline{A} \\underline{x}(t) + \\underline{b} u(t) \\\\\n",
    "\\end{align}\n",
    "\n",
    "è chiamata **equazione di stato**."
   ]
  },
  {
   "cell_type": "markdown",
   "id": "696fe626",
   "metadata": {},
   "source": [
    "## Comprensione delle variabili di stato\n",
    "\n",
    "Negli esempi finora abbiamo considerato le variabili fisiche come variabili di stato del sistema.\n",
    "\n",
    "Tuttavia, è importante notare che le variabili di stato vengono introdotte principalmente per comodità matematica.\n",
    "\n",
    "**Le variabili di stato non devono essere sempre variabili fisiche. Possono essere definiti in base a esigenze matematiche o di modellazione.**\n",
    "\n",
    "- Le variabili di input e output devono essere variabili fisiche."
   ]
  },
  {
   "cell_type": "markdown",
   "id": "08bed646",
   "metadata": {},
   "source": [
    "Nell'esempio del carrello sopra, possiamo definire $ x_1 $ come $ x(t) + v(t) $ e $ x_2 $ solo come $ v(t) $?"
   ]
  },
  {
   "cell_type": "markdown",
   "id": "b3d1e96b",
   "metadata": {},
   "source": [
    "La risposta è, teoricamente, sì.\n",
    "\n",
    "- $x_2$ rimane la velocità, $x_1$ - la somma di spostamento e velocità - non corrisponde a una variabile fisica distinta.\n",
    "- La somma dello spostamento e della velocità è un valore numerico, senza significato fisico.\n",
    "- Quindi, sebbene $x_1$ e $x_2$ non siano variabili fisiche indipendenti, le equazioni di stato possono comunque essere definite nei loro termini.\n",
    "\n",
    "- L'output risultante può essere rappresentato utilizzando $x_1$ e $x_2$, sebbene l'equazione di output potrebbe differire dal caso precedente. Tuttavia, per ogni input, l’output rimane definito in modo univoco.\n",
    "\n",
    "Le variabili di stato, come $x_1$ e $x_2$, non sono univoche. Possono essere ridefiniti in innumerevoli modi, ma per ogni input specifico è garantito un output unico. Queste variabili di stato sono in gran parte questioni di convenienza. A seconda delle esigenze di analisi e progettazione, le variabili di stato possono variare.\n",
    "\n",
    "\n",
    "Se torniamo al nostro esempio di circuito elettrico.\n",
    "\n",
    "In precedenza abbiamo impostato la tensione del condensatore come variabile di stato.\n",
    "\n",
    "Tuttavia, non esiste alcun vincolo che ci impedisca di selezionare la carica immagazzinata nel condensatore come variabile di stato.\n",
    "\n",
    "Indipendentemente dal fatto che la variabile di stato sia designata come $q$ (carica) o $e$ (tensione), per un dato input, l'output rimane coerente in tutte le definizioni delle variabili di stato."
   ]
  },
  {
   "cell_type": "markdown",
   "id": "d9b3a82d",
   "metadata": {},
   "source": [
    "Fin."
   ]
  },
  {
   "cell_type": "markdown",
   "id": "19148626",
   "metadata": {},
   "source": [
    "----"
   ]
  },
  {
   "cell_type": "code",
   "execution_count": null,
   "id": "d262426a",
   "metadata": {},
   "outputs": [],
   "source": []
  }
 ],
 "metadata": {
  "kernelspec": {
   "display_name": "python3",
   "language": "python",
   "name": "python3"
  }
 },
 "nbformat": 4,
 "nbformat_minor": 5
}
