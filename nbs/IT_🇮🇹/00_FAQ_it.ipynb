{
 "cells": [
  {
   "cell_type": "markdown",
   "id": "9002d0c5",
   "metadata": {},
   "source": [
    "# Domande frequenti (FAQ)"
   ]
  },
  {
   "cell_type": "markdown",
   "id": "37c6e1af",
   "metadata": {},
   "source": [
    "Benvenuti nella pagina delle FAQ del corso \"Principi dei Controlli Automatici\". Qui troverai le informazioni chiave e le risposte alle domande più comuni.\n",
    "\n",
    "## Informazioni generali\n",
    "\n",
    "**D: Dove posso trovare il sito web del corso?**\n",
    "\n",
    "R: Il sito web del corso è [qui](https://andreamunafo.github.io/principles-of-automatic-controls).\n",
    "\n",
    "**D: Quali materiali didattici sono disponibili?**\n",
    "\n",
    "R: Il materiale didattico è disponibile sul sito del corso sia in inglese che in italiano. Sono forniti come notebook Jupyter.\n",
    "\n",
    "## Completamento del corso\n",
    "\n",
    "**D: Come posso superare il corso?**\n",
    "\n",
    "R: Per completare con successo il corso, dovresti frequentare le lezioni e studiare prima i libri di testo suggeriti. Successivamente, integra il tuo apprendimento con il materiale disponibile sul sito web del corso.\n",
    "\n",
    "## Esami\n",
    "\n",
    "**D: Qual è il formato degli esami?**\n",
    "\n",
    "R: Gli esami sono orali. Implicano prima il completamento degli esercizi per iscritto, seguito da una discussione di questi esercizi e altri argomenti con l'istruttore.\n",
    "\n",
    "**D: Quali contenuti sono inclusi negli esami?**\n",
    "\n",
    "R: Tutti gli argomenti discussi in classe fanno parte dell'esame, ad eccezione della programmazione Python. La programmazione TCLab non è un requisito e non farà parte dell'esame. Tuttavia, i concetti alla base di TCLab sono inclusi nell'esame.\n",
    "\n",
    "## Software e strumenti\n",
    "\n",
    "**D: Imparare Python o MATLAB è importante per studiare i sistemi di feedback in questo corso?**\n",
    "\n",
    "R: Sì, l'utilizzo di un pacchetto software come Python o MATLAB è molto utile per comprendere i sistemi di feedback. Sebbene non siano obbligatori per gli esami, questi strumenti possono migliorare notevolmente la tua capacità di visualizzare e analizzare i sistemi di controllo. Forniscono esperienza pratica e una visione più approfondita dei concetti teorici trattati nel corso.\n",
    "\n",
    "## Compiti TCLab\n",
    "\n",
    "**D: I compiti TCLab sono obbligatori per questo corso?**\n",
    "\n",
    "R: Gli studenti sono tenuti a completare i compiti TCLab. Sebbene non siano obbligatori per superare il corso, sono altamente raccomandati. Il completamento di questi incarichi fornirà esperienza pratica e una comprensione pratica dei sistemi di controllo. Si suggerisce inoltre di preparare una breve relazione su questi compiti, che potrà essere consegnata prima dell'esame. Questo rapporto può fungere da prezioso riferimento durante la preparazione all'esame.\n",
    "\n",
    "**D: È disponibile un modello per il report degli incarichi TCLab?**\n",
    "\n",
    "R: Sì, viene fornito un modello di report per aiutarti con i tuoi compiti TCLab. È disponibile come notebook `00_TCLab_Exercises_Report_Template` nella cartella TCLab sul sito web del corso. Questo modello ti guiderà nell'organizzazione e nella presentazione dei risultati degli esercizi TCLab. La relazione dovrebbe essere concisa, con una lunghezza massima di 4 pagine, concentrandosi sull'evidenziazione dei punti chiave degli esercizi.\n",
    "\n",
    "\n",
    "## Risorse addizionali\n",
    "\n",
    "**D: Sono disponibili risorse aggiuntive per facilitare lo svolgimento del corso?**\n",
    "\n",
    "R: Sì, oltre ai materiali didattici principali, consigliamo di partecipare a forum online e gruppi di studio relativi ai sistemi di controllo. Questi possono fornire preziosi spunti e prospettive alternative che possono migliorare la tua comprensione. Inoltre, rivedere regolarmente i materiali del corso e applicare i concetti attraverso esercizi pratici, come l'utilizzo del kit TCLab o simulazioni software, può essere di grande aiuto."
   ]
  },
  {
   "cell_type": "code",
   "execution_count": null,
   "id": "569444c1",
   "metadata": {},
   "outputs": [],
   "source": []
  }
 ],
 "metadata": {
  "kernelspec": {
   "display_name": "python3",
   "language": "python",
   "name": "python3"
  }
 },
 "nbformat": 4,
 "nbformat_minor": 5
}
