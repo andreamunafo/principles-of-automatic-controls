{
 "cells": [
  {
   "cell_type": "markdown",
   "id": "575dd0e1",
   "metadata": {},
   "source": [
    "# Programma del corso \"Principi del controllo automatico\""
   ]
  },
  {
   "cell_type": "markdown",
   "id": "4a9d8813",
   "metadata": {},
   "source": [
    "Instructors:\n",
    "- Andrea Munafo (andrea.munafo@unipi.it)\n",
    "- Riccardo Costanzi (riccardo.costanzi@unipi.it)"
   ]
  },
  {
   "cell_type": "markdown",
   "id": "9edd4ae5",
   "metadata": {},
   "source": [
    "- Semestre: primavera 2024\n",
    "\n",
    "- Lezioni frontali: 3 sessioni (8 ore) / settimana per 8 settimane\n",
    "\n",
    "    - Martedì: 08:30 - 11:30\n",
    "    - Mercoledì: 10:30-13:30\n",
    "    - Giovedì: 11:30-13:30\n",
    "\n",
    "- Orario di ricevimento: Dopo le lezioni"
   ]
  },
  {
   "cell_type": "markdown",
   "id": "6cfa8ae3",
   "metadata": {},
   "source": [
    "------"
   ]
  },
  {
   "cell_type": "markdown",
   "id": "9924eed2",
   "metadata": {},
   "source": [
    "## Risultati dell'apprendimento\n",
    "\n",
    "- Comprendere i principi fondamentali del controllo automatico, inclusi concetti come controllo del feedback, stabilità e controllabilità.\n",
    "- Analizzare e progettare sistemi di controllo utilizzando modelli e strumenti matematici, comprese trasformate di Laplace, funzioni di trasferimento e diagrammi a blocchi.\n",
    "- Applicare strategie di controllo a vari problemi ingegneristici del mondo reale, come il controllo della temperatura, il controllo della velocità, ecc.\n",
    "- Valutare le prestazioni dei sistemi di controllo e identificare modi per migliorarli, inclusa la regolazione dei parametri di controllo e la modifica dei componenti del sistema.\n",
    "- Sviluppare il pensiero critico e capacità di risoluzione dei problemi applicando principi di controllo a problemi ingegneristici nuovi e complessi e comunicando i risultati in modo efficace.\n",
    "\n",
    "_Sarai ben preparato per applicare i principi del controllo automatico a una varietà di campi dell'ingegneria, come la robotica, l'aerospaziale e la produzione, ecc._\n",
    "\n",
    "-----"
   ]
  },
  {
   "cell_type": "markdown",
   "id": "8d995e7e",
   "metadata": {},
   "source": [
    "## Descrizione del corso\n",
    "\n",
    "Questo corso introduce la progettazione di sistemi di controllo del feedback. Gli argomenti includono:\n",
    "\n",
    "<table>\n",
    "  <tr>\n",
    "    <td style=\"vertical-align:top; text-align:left;\">\n",
    "      <ul>\n",
    "        <li>Introduzione a python a Python/Jupyter Notebook</li>\n",
    "        <li>Ciclo aperto e Ciclo chiuso</li>\n",
    "        <li>Funzioni di trasferimento e trasformazione di Laplace</li>\n",
    "        <li>Diagrammi a blocchi</li>\n",
    "        <li>Risposta di un sistema</li>\n",
    "        <li>Risposta in frequenza e grafici di Bode</li>\n",
    "        <li>Teorema del valore finale e stato stazionario</li>\n",
    "      </ul>\n",
    "    </td>\n",
    "    <td style=\"vertical-align:top; text-align:left;\">\n",
    "      <ul>\n",
    "        <li>Stabilità e controllo del sistema</li>\n",
    "        <li>Il metodo del luogo delle radici</li>\n",
    "        <li>Controller PID</li>\n",
    "        <li>Gain e margini di fase</li>\n",
    "        <li>Funzioni di sensibilità</li>\n",
    "        <li>Compensatori di piombo/ritardo</li>\n",
    "        <li>Analisi dello spazio statale</li>\n",
    "      </ul>\n",
    "    </td>\n",
    "  </tr>\n",
    "</table>\n",
    "\n",
    "----"
   ]
  },
  {
   "cell_type": "markdown",
   "id": "aa630c25",
   "metadata": {},
   "source": [
    "## Tutorial e TCLab\n",
    "\n",
    "La componente pratica del nostro corso prevede l'utilizzo del Laboratorio di controllo della temperatura ([TCLab](http://apmonitor.com/pdc/index.php/Main/ArduinoTemperatureControl)). Questo approccio pratico migliora la comprensione dei problemi di controllo.\n",
    "\n",
    "<table>\n",
    "    <tr>\n",
    "    <td>\n",
    "        <img src=\"../TCLab/pics/tclab_transparent.png\" alt=\"tclab_transparent\" style=\"width: 450px;\"/>\n",
    "    </td>\n",
    "    </tr>\n",
    "</table>\n",
    "\n",
    "Puoi acquistare TCLab su [amazon.com](amazon.com) per circa $ 50, ma acquistarlo non è obbligatorio per questo corso. Fornirò un numero limitato di schede e TCLab offre simulatori, che solitamente sono sufficienti per comprendere i concetti del corso.\n",
    "\n",
    "**Linee guida per l'utilizzo di TCLab:**\n",
    "- Solo una tavola alla volta.\n",
    "- Pianifica il tuo tempo in TCLab utilizzando il foglio di calcolo del canale Teams del corso. Quando restituisci la tavola, assicurati di effettuare il check-out. La responsabilità del consiglio spetta all'ultima persona elencata come ad averlo sul foglio di calcolo."
   ]
  },
  {
   "cell_type": "markdown",
   "id": "3c93ccd5",
   "metadata": {},
   "source": [
    "**Settimana 1: Introduzione e nozioni di base**\n",
    "- **I Quaderni:**\n",
    "    - Introduzione (`01_intro`)\n",
    "    - Nozioni di base sul controllo del feedback (`02_basics_of_feedback_control`)\n",
    "- **Obiettivi:**\n",
    "   - Comprendere i sistemi di controllo e la loro importanza nella tecnologia moderna. Discussioni su terminologie e concetti di base nei sistemi di controllo. Distinzione tra sistemi di controllo Open-Loop e Closed-Loop. Esplorare la struttura e le sfide dei sistemi di controllo del feedback. Approcci progettuali per sistemi di controllo feedback. Contesto storico ed evoluzione dei sistemi di controllo.\n",
    "\n",
    "- **Integrazione TCLab:** Familiarizzazione con il laboratorio e configurazione di base.\n",
    "   - Notebook: `00_Spacecraft_Thermal_Control_Systems`, `01_TCLab`, `01_Understanding_TCLab`\n",
    "   - Laboratorio: `02_TCLab_Lab_1_Coding_a_relay_controller`\n",
    "\n",
    "- **Attività:** Discussioni di gruppo sulle applicazioni reali dei sistemi di controllo.\n",
    "\n",
    "- **Incarico:**\n",
    "   - [Installa Python](https://www.apmonitor.com/pdc/index.php/Main/InstallPython). Python è un linguaggio di programmazione di uso generale. Viene utilizzato in questo corso per la dinamica e il controllo dei processi.\n",
    "   - [Installa le librerie TCLab](01_TCLab)"
   ]
  },
  {
   "cell_type": "markdown",
   "id": "82bc07a6",
   "metadata": {},
   "source": [
    "**Settimana 2: Modellazione matematica**\n",
    "- **I Quaderni:**\n",
    "   - Modelli matematici (`03_introduction_to_control_problem`),\n",
    "   - Trasformate di Laplace e funzioni di trasferimento (`04_dynamic_systems`),\n",
    "   - Risposta del sistema e teorema del valore finale; Caratteristiche dei sistemi del Primo e del Secondo Ordine (`05_dynamic_response`)\n",
    "\n",
    "- **Obiettivi:**\n",
    "   - Comprensione dei modelli matematici e delle funzioni di trasferimento nei sistemi di controllo. Esempi reali di sistemi di controllo: controllo del livello dell'acqua, sistema di guida dell'automobile, meccanismo del servosterzo idraulico, sistema di riscaldamento residenziale. Introduzione ai sistemi Multi-Input Multi-Output (MIMO). Analisi di sistemi di controllo complessi e dei loro componenti. Diagramma a blocchi della struttura di feedback di base.\n",
    "   \n",
    "- **Integrazione TCLab:** Identificazione della modellazione\n",
    "    - Notebook: `03_System_Model_and_Identification_TCLab`, `04_Step_Testing_TCLab`, `05_Fitting_Step_Test_Data_to_Empirical_Models`, (opzionale: `05b_First-Order-Model-for-a-Single-Heater`)\n",
    "    - Laboratorio: `06_TCLab_Lab_2_Model_Identification`\n",
    "\n",
    "- **Attività:** Sessioni di problem solving per applicare modelli matematici a scenari teorici.\n",
    "\n",
    "- **Compito:** [TCLab Simulate Step Response](https://www.apmonitor.com/pdc/index.php/Main/TCLabSim). Descrizione: Risposta dinamica della temperatura di un riscaldatore e sensore di temperatura con un Arduino"
   ]
  },
  {
   "cell_type": "markdown",
   "id": "308ad2b5",
   "metadata": {},
   "source": [
    "**Settimana 3: risposta e feedback del sistema**\n",
    "- **I Quaderni:**\n",
    "   - Trasformata di Laplace inversa (`06_inverse_laplace_transform`)\n",
    "   - Modellazione di sistemi dinamici: modellazione meccanica e termica (`07_modeling_dynamic_systems`)\n",
    "   - Componenti di un controller (`08_control_system_components`)\n",
    "   - Modelli di dispositivi e sistemi di controllo (`09_Models_of_Control_Devices_and_Systems`)\n",
    "   - Hardware e alcuni casi di studio (`10_hardware_and_case_studies`, `11_AC_hardware_and_case_studies`)\n",
    "   \n",
    "- **Obiettivi:**\n",
    "    - Esplorare la risposta del sistema a vari input e il ruolo del feedback nei sistemi di controllo. Analisi dei sistemi nel dominio del tempo, introduzione alla modellistica dei sistemi fisici. Comprensione dell'hardware e casi di studio esemplari per la comprensione pratica. Applicazione della trasformata inversa di Laplace nei sistemi di controllo. Metodi di scomposizione di frazioni parziali per funzioni complesse.\n",
    "\n",
    "- **Integrazione TCLab:** dati i dati di un esperimento di identificazione, il compito successivo è trovare uno o più modelli che riproducano accuratamente la risposta del processo ai cambiamenti nella variabile manipolata. Questo notebook illustra un approccio pratico per adattare modelli di ordine inferiore ai dati di risposta al gradino.\n",
    "    - I Quaderni: -\n",
    "    - Laboratorio: `07_CLab_Lab_2_Fitting`\n",
    "\n",
    "- **Attività:** Simulazioni interattive per dimostrare l'impatto del feedback sulla stabilità del sistema.\n",
    "\n",
    "- **Compito:** [TCLab Convective Heat Transfer](https://www.apmonitor.com/pdc/index.php/Main/TCLabConvection). Descrizione: Previsione del trasferimento di calore convettivo con un riscaldatore a transistor. !!!"
   ]
  },
  {
   "cell_type": "markdown",
   "id": "11ef2ff5",
   "metadata": {},
   "source": [
    "**Settimana 4: Stabilità e controllori**\n",
    "- **I Quaderni:**\n",
    "    - Una prima applicazione completa, sistema di controllo della temperatura (`12_A_First_Complete_Application`)\n",
    "    - Controllo del feedback (`13_Principles_of_Feedback_Control`, `14_Feedback_systems_and_ir_effects`)\n",
    "    - Approfondimento sui sistemi di controllo: controllori PID (\"Introduzione ai sistemi di controllo\")\n",
    "    - Analisi della stabilità nei sistemi di controllo (`16_Stability`, `17_Stability_and_Routh_Criterion`)\n",
    "\n",
    "- **Obiettivi:**\n",
    "     - Applicare le conoscenze teoriche ad un'applicazione completa del sistema di controllo. Studio dettagliato dei principi del controllo del feedback e delle loro applicazioni. Analisi degli effetti dei meccanismi di feedback nei sistemi di controllo. Rivisitazione dei concetti fondamentali nei sistemi di controllo. Studiare i concetti di stabilità nei sistemi e nei sistemi di feedback e le basi dei controllori PID. Studio dettagliato del criterio di Routh e della sua applicazione nella valutazione della stabilità.\n",
    "     \n",
    "- **Integrazione TCLab:** Implementa i controller utilizzando TCLab.\n",
    "    - Notebook: `08_Relay_Control`, `09_PID_Control`\n",
    "    - Lab: `10_Lab-Assignment-PID-Control`, `11_Lab-Assignment-PI-Control`\n",
    "\n",
    "- **Attività:** Esercizi di gruppo per progettare regolatori PID di base per determinate specifiche.\n",
    "\n",
    "- **Risorse:** [Modello TCLab FOPDT](https://www.apmonitor.com/pdc/index.php/Main/TCLabFOPDT). Descrizione: Modello di risposta dinamica lineare alla temperatura di un riscaldatore e sensore di temperatura con un Arduino"
   ]
  },
  {
   "cell_type": "markdown",
   "id": "4b565659",
   "metadata": {},
   "source": [
    "**Settimana 5: Strategie di controllo avanzate**\n",
    "- **I Quaderni:**\n",
    "    - Prestazioni dei sistemi di feedback (`18_Performance_of_Feedback_Systems`)\n",
    "    - Progettazione del controllo del feedback: sistemi del secondo ordine (`19_Design_of_feedback_control`, `20_Design_of_feedback_control_continued`)\n",
    "    - Precisione allo stato stazionario e un esempio di progettazione completo (`21_Steady_State_Accuracy_And_Design_Principles`)\n",
    "\n",
    "- **Obiettivi:**\n",
    "    - Studiare i concetti di prestazione nei sistemi di feedback. Valutare e migliorare le prestazioni dei sistemi di controllo del feedback. Introduzione alla precisione in regime stazionario. Discussioni iniziali su strategie e metodologie per la progettazione di sistemi di controllo del feedback efficaci.\n",
    "    \n",
    "- **Integrazione TCLab:** Continua con l'implementazione di semplici controller PID utilizzando TCLab."
   ]
  },
  {
   "cell_type": "markdown",
   "id": "f6f19a3a",
   "metadata": {},
   "source": [
    "**Settimana 6: Strategie di controllo avanzate: luogo delle radici**\n",
    "- **I Quaderni:**\n",
    "    - Luogo delle radici (`22_Compensator_Design_Using_Root_Locus`, `23_Design_with_the_root_locus`, `24_Compensators_and_Root_Locus`)\n",
    "    \n",
    "- **Obiettivi:**\n",
    "    - Comprendere il luogo delle radici e come utilizzarlo per progettare sistemi di controllo.\n",
    "    \n",
    "- **Integrazione TCLab:** da confermare\n",
    "\n",
    "- **Attività:** Casi di studio di diverse strategie di controllo nei sistemi informatici.\n",
    "\n",
    "- **Compito:** [Metodo grafico: da FOPDT a Step Test](https://www.apmonitor.com/pdc/index.php/Main/FirstOrderGraphical). Descrizione: Un sistema lineare del primo ordine con ritardo temporale è una descrizione empirica comune di molti processi dinamici. Il codice sorgente Python mostra come simulare uno step test e confrontarlo con un'approssimazione FOPDT.\n",
    "\n",
    "[Regressione TCLab FOPDT](https://www.apmonitor.com/pdc/index.php/Main/TCLabRegression). Descrizione: Modello di risposta dinamica lineare alla temperatura di un riscaldatore e sensore di temperatura con un Arduino"
   ]
  },
  {
   "cell_type": "markdown",
   "id": "5206cf7f",
   "metadata": {},
   "source": [
    "**Settimana 7: Strategie di controllo avanzate: risposta in frequenza**\n",
    "- **I Quaderni:**\n",
    "    - Risposta in frequenza e criterio di Nyquist (`25_Introduction_to_Frequency_Domain_Analysis_in_Control_Systems`)\n",
    "    - Applicazione del criterio di Nyquist (`26_Application_of_Nyquist_Stability_Criterion`)\n",
    "    - Stabilità relativa (`27_The_Nyquist_Stability_Criterion_and_Relative_Stability`)\n",
    "- **Obiettivi:**\n",
    "    - Comprensione della Risposta in Frequenza, del Criterio di Nyquist e del concetto di stabilità relativa.\n",
    "    \n",
    "- **Integrazione TCLab:** Progetta e implementa un controller utilizzando TCLab.\n",
    "- **Attività:** Casi di studio di diverse strategie di controllo nei sistemi informatici.\n",
    "- **Assegnazione:** [TCLab Controller Design](https://www.apmonitor.com/pdc/index.php/Main/TCLabControlDesign). Descrizione: Progettare un controller per l'automazione della regolazione della temperatura su un setpoint. Il controller regola un riscaldatore per regolare la temperatura."
   ]
  },
  {
   "cell_type": "markdown",
   "id": "0d6b589a",
   "metadata": {},
   "source": [
    "**Settimana 8: grafici di Bode, controllo e commenti finali**\n",
    "- **I Quaderni:**\n",
    "    - Grafici di Bode (\"28_Body_Plots\")\n",
    "    - Prestazioni del sistema nel dominio della frequenza (`29_Feedback_system_performance_based_on_frequency_response`)\n",
    "    - Modellazione del loop (`30_Loop_Shaping`)\n",
    "\n",
    "- **Obiettivi:**\n",
    "   - Comprensione dei grafici di Bode. Analisi delle prestazioni nel dominio della frequenza. Il loop shaping come strategia di controllo. Ripasso dei concetti chiave e preparazione all'esame finale.\n",
    "   \n",
    "- **Integrazione TCLab:** Modellazione nello spazio degli stati con TCLab.\n",
    "- **Attività:** sessioni di domande e risposte, test simulati e discussioni di gruppo.\n",
    "\n",
    "- **Incarico:**\n",
    "    - [Controllo solo proporzionale TCLab](https://www.apmonitor.com/pdc/index.php/Main/TCLabPOnlyControl). Descrizione: TCLab con controllo solo proporzionale presenta un offset tra il setpoint e la temperatura misurata. Lo scopo di questa attività di laboratorio è quantificare e verificare l'offset.\n",
    "    - [TCLab PI Controllo](https://www.apmonitor.com/pdc/index.php/Main/TCLabPIControl). Descrizione: TCLab con controllo proporzionale integrale (PI) elimina l'offset tra il setpoint e la temperatura misurata\n",
    "    - [Controllo PID TCLab](https://www.apmonitor.com/pdc/index.php/Main/TCLabPIDControl). Descrizione: TCLab con controllo proporzionale integrale derivativo (PID). Utilizzare l'ottimizzazione IMC e ITAE e confrontare la risposta"
   ]
  },
  {
   "cell_type": "markdown",
   "id": "5144f37c",
   "metadata": {},
   "source": [
    "----"
   ]
  },
  {
   "cell_type": "markdown",
   "id": "36456bbd",
   "metadata": {},
   "source": [
    "## Libri di testo\n",
    "\n",
    "Italiano\n",
    "- Bolzern, Scattolini, Schiavoni. Fondamenti di Controlli Automatici, 2a ed. McGraw-Hill.\n",
    "\n",
    "- Ogata, Katsuhiko. Ingegneria dei controlli moderna. 4a ed. Prentice Hall, 2002.\n",
    "\n",
    "\n",
    "Inglese\n",
    "\n",
    "- Ogata, Katsuhiko. Ingegneria dei controlli moderna. 4a ed. Prentice Hall, 2002.\n",
    "\n",
    "- M. Gopal, Principi e progettazione dei sistemi di controllo, McGraw-Hill (3a edizione).\n",
    "\n",
    "- Richard C. Dorf e Robert H. Bishop IE, Modern Control Systems (13a edizione).\n",
    "\n",
    "\n",
    "Altri testi che potrebbero essere utili:\n",
    "\n",
    "- G. Marro, Controlli Automatici, Zanichelli\n",
    "\n",
    "- Franklin, Gene, J. David Powell e Abbas Emami-Naeini. Controllo del feedback dei sistemi dinamici. 6a ed. Prentice Hall, 2009. ISBN: 9780136019695.\n",
    "\n",
    "- Van de Vegte, John. Sistemi di controllo del feedback. 3a ed. Prentice Hall, 1994. ISBN: 9780002085069.\n",
    "\n",
    "- Kuo, Beniamino. Sistemi di controllo automatico. 8a ed. John Wiley & Sons, 2003. ISBN: 9780471381488.\n",
    "\n",
    "- Ogata, Katsuhiko. Risolvere problemi di ingegneria di controllo con MATLAB. Prentice Hall, 1993. ISBN: 9780130459077."
   ]
  },
  {
   "cell_type": "markdown",
   "id": "3c121542",
   "metadata": {},
   "source": [
    "## Il ruolo del software nello studio dei sistemi di feedback\n",
    "\n",
    "- L'utilizzo di un pacchetto software come Python o MATLAB è molto utile nello studio dei sistemi di feedback."
   ]
  },
  {
   "cell_type": "markdown",
   "id": "81eeaed3",
   "metadata": {},
   "source": [
    "- Il software può essere utilizzato al meglio inizialmente per controllare il lavoro che viene inizialmente eseguito tradizionalmente con carta e matita.\n",
    "\n",
    "- Ciò è particolarmente utile quando si verificano i grafici polari (grafici di Nyquist), i diagrammi di Bode e i luoghi delle radici quando si tenta per la prima volta di disegnare queste funzioni.\n",
    "\n",
    "- Le risposte al gradino nel dominio del tempo possono essere esaminate per costruire un senso intuitivo delle relazioni tra il comportamento nel dominio del tempo e della frequenza.\n",
    "\n",
    "- Le approssimazioni semplificate che spesso vengono fatte durante l'esecuzione dei progetti preliminari possono essere verificate per verificarne la validità utilizzando Python.\n",
    "\n",
    "- È possibile studiare problemi più complessi con un pacchetto di progettazione assistita dal computer senza l'enorme onere di eseguire calcoli estesi."
   ]
  },
  {
   "cell_type": "markdown",
   "id": "8e2accf6",
   "metadata": {},
   "source": [
    "- Suggeriamo a tutti di familiarizzare con l'uso di Python o MATLAB.\n",
    "\n",
    "- Ricordare che il computer deve aiutare a raggiungere la comprensione e dovrebbe essere utilizzato in modo intelligente come strumento di ingegneria.\n",
    "\n",
    "- L'obiettivo è che tu acquisisca una comprensione approfondita della teoria del feedback."
   ]
  },
  {
   "cell_type": "markdown",
   "id": "2befb754",
   "metadata": {},
   "source": [
    "## Domande frequenti (FAQ)\n",
    "\n",
    "- vedere il notebook `00_FAQ.ipynb`"
   ]
  },
  {
   "cell_type": "code",
   "execution_count": null,
   "id": "6d699a1b",
   "metadata": {},
   "outputs": [],
   "source": []
  }
 ],
 "metadata": {
  "kernelspec": {
   "display_name": "python3",
   "language": "python",
   "name": "python3"
  }
 },
 "nbformat": 4,
 "nbformat_minor": 5
}
