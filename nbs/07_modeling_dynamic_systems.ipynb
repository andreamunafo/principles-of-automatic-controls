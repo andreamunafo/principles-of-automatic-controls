{
 "cells": [
  {
   "cell_type": "markdown",
   "id": "1325a48b",
   "metadata": {},
   "source": [
    "# Introduction to Modeling of Dynamic Systems"
   ]
  },
  {
   "cell_type": "markdown",
   "id": "67d9a0cd",
   "metadata": {},
   "source": [
    "Modeling serves as the backbone for understanding and manipulating dynamic systems. These dynamic systems encompass various components:\n",
    "\n",
    "- Plants\n",
    "- Controllers\n",
    "- Sensors\n",
    "- Actuators\n",
    "- Any other intervening devices\n",
    "\n",
    "The primary goal? To establish precise equations that define these dynamic systems.\n",
    "\n",
    "\n",
    "Recalling our previous discussions, our focus has always been on applying physical laws. By doing so, we can transform the derived differential equations into more digestible forms. Two such forms that we'll extensively use are:\n",
    "\n",
    "- State variable models\n",
    "- Transfer function models\n",
    "\n",
    "These models offer a structured way to represent systems mathematically, allowing for analysis and design."
   ]
  },
  {
   "cell_type": "markdown",
   "id": "7d68e333",
   "metadata": {},
   "source": [
    "## Mechanics"
   ]
  },
  {
   "cell_type": "markdown",
   "id": "bd675986",
   "metadata": {},
   "source": [
    "While this might feel like revisiting old territory, a review of the mechanics of translation is important. This is because the physical models we use in control systems are derived from these very principles.\n",
    "\n",
    "Under the umbrella of mechanics of translation, three fundamental elements emerge:\n",
    "\n",
    "1. The ideal mass $M$\n",
    "2. The friction coefficient $B$\n",
    "3. The spring constant $K$\n",
    "\n",
    "### Mass\n",
    "The component $M$, representing the ideal mass, is a simplification, a lumped parameter idealization of a distributed mass. In real-world scenarios, you wouldn't encounter a single particle of mass $M$. This is an approximation where we assume that the entire mass is centered at its centre of gravity."
   ]
  },
  {
   "cell_type": "markdown",
   "id": "5b0b64b9",
   "metadata": {},
   "source": [
    "**Pop-up Question**: Why do we use lumped parameter idealization for the ideal mass \n",
    "$M$ in dynamic systems?\n",
    "**Answer**: We use lumped parameter idealization to simplify the representation of distributed masses by approximating them as a single point mass concentrated at its centre of gravity. This makes modeling and analysis more tractable."
   ]
  },
  {
   "cell_type": "markdown",
   "id": "b8d5da3c",
   "metadata": {},
   "source": [
    "### Friction\n",
    "The friction coefficient $B$ presents its own set of challenges. Friction can arise due to various phenomena, hence different models might be necessary. For instance, constant drive friction between surfaces would result in a constant frictional force for all velocities, known as Coulomb friction. On the other hand, when two surfaces slide with a viscous medium in between, the frictional force is typically proportional to velocity, leading to the equation $F=Bv$, where $B$ is the coefficient of viscous friction. This model is prevalent when a solid body interacts with a fluidic medium.\n",
    "\n",
    "It's essential to acknowledge the presence of other friction types, like Coulomb friction, in devices like DC motors due to brush contact. But since our initial discussions revolve around linear models, we'll consider all non-linear frictions as disturbances on the system."
   ]
  },
  {
   "cell_type": "markdown",
   "id": "74ff2b28",
   "metadata": {},
   "source": [
    "### Springs\n",
    "\n",
    "Lastly, the spring constant $K$ comes into play when there's elastic deformation. Here, the force due to the spring effect is given by $F=Kx$, where $x$ is the displacement."
   ]
  },
  {
   "cell_type": "markdown",
   "id": "a74ace09",
   "metadata": {},
   "source": [
    "> **Note**: It's essential to understand that these models, while incredibly useful, are approximations. They simplify real-world complexities into digestible chunks that can be used for design and analysis."
   ]
  },
  {
   "cell_type": "markdown",
   "id": "a25c6d31",
   "metadata": {},
   "source": [
    "### Deriving the Mathematical Model"
   ]
  },
  {
   "cell_type": "markdown",
   "id": "a8df477c",
   "metadata": {},
   "source": [
    "Let's consider a complex mechanical system, in this case, a car's suspension system, and see how we can approximate it through a simpler mass, spring, damper.\n",
    "\n",
    "<table> \n",
    "<tr>\n",
    "    <td> <img src=\"./pics/07_modeling_dynamic_systems_hydraulic-power-steering.png\" alt=\"hydraulic-power-steering\" style=\"width: 650px;\"/>\n",
    "</tr></table>"
   ]
  },
  {
   "cell_type": "markdown",
   "id": "854ca402",
   "metadata": {},
   "source": [
    "Given a physical system, our first step is to derive its mathematical model. This is essential for analysis or design. \n",
    "\n",
    "Let's take, for instance, the load on a system comprising the mass of a power piston, the drive linkage, and wheels. All these components have distributed masses. However, for our model, we'll simplify this as a single particle of mass $M$.\n",
    "\n",
    "In our case, the distributed mass is the mass of the power piston, the mass of the drive linkage and the mass of the wheels. But we will model all this as a particle mass $M$.\n",
    "\n",
    "\n",
    "Frictions in our system arise from various sources, such as the motion of a piston in a viscous medium or the interaction between the drive linkage and its surroundings. We'll model these frictions using the parameter $B$ and a Viscous Friction.\n",
    "\n",
    "The tires on the road could create a Coulomb Friction, but we will consider this as a disturbance acting on our system.\n",
    "\n",
    "Finally, the elastic behaviour of the tires can be modeled through a spring with parameter $k$.\n",
    "\n",
    "With these considerations we can model the cat's suspension system with:"
   ]
  },
  {
   "cell_type": "markdown",
   "id": "060345f7",
   "metadata": {},
   "source": [
    "<table> \n",
    "<tr>\n",
    "    <td> <img src=\"./pics/07_modeling_dynamic_systems_mechanical-systems-models-simpler.png\" alt=\"mechanical-systems-models\" style=\"width: 550px;\"/>\n",
    "</tr></table>\n"
   ]
  },
  {
   "cell_type": "markdown",
   "id": "7d502902",
   "metadata": {},
   "source": [
    "This transformation, while involving various approximations, has proven to be effective for control system design."
   ]
  },
  {
   "cell_type": "markdown",
   "id": "f4f12531",
   "metadata": {},
   "source": [
    "We saw that depending on the $\\zeta$ parameter we have undamped ($\\zeta=0$), damped ($0<\\zeta<1$), critically damped ($\\zeta=1$) and over damped systems ($\\zeta>1$).\n",
    "\n",
    "In some situations, we might need to introduce intentional friction to control the system's damping. This can be achieved using a device called a dashpot, which uses an oil medium to provide resistance against motion."
   ]
  },
  {
   "cell_type": "markdown",
   "id": "7fc55ccd",
   "metadata": {},
   "source": [
    "## Physical models and approximations\n",
    "\n",
    "Any physical situation, be it in nature or industry, especially if it pertains to a mechanical system in translational mode, can be modeled using the principles we've discussed. This representation will serve as our main model.\n",
    "\n",
    "However, as we move forward, it's essential to recognize the complexities and approximations we've employed. Every model we derive has its roots in various assumptions and simplifications, which are vital to making the model manageable.\n",
    "\n",
    "Consider the parameters $M$ (the ideal mass), $K$ (the spring constant), and $B$ (the dash pot constant or viscous friction constant). In our model, $F_\\omega$ signifies a disturbance force acting on the system. It could be attributed to uncontrolled friction or even environmental factors. We've chosen the symbol \"$\\omega$\" to represent disturbances. \n",
    "\n",
    "The variables $y$ and $v$ denote displacement and velocity, respectively."
   ]
  },
  {
   "cell_type": "markdown",
   "id": "3ff493d7",
   "metadata": {},
   "source": [
    "<table> \n",
    "<tr>\n",
    "    <td> <img src=\"./pics/07_modeling_dynamic_systems_mechanical-systems-models.png\" alt=\"mechanical-systems-models\" style=\"width: 650px;\"/>\n",
    "</tr></table>"
   ]
  },
  {
   "cell_type": "markdown",
   "id": "d4243dea",
   "metadata": {},
   "source": [
    "**Pop-up Question**: Why do we need to model disturbances in our system?\n",
    "**Answer**: Disturbances can affect the performance and stability of a control system. By modeling them, we can design control strategies to mitigate their effects and ensure the system operates as intended."
   ]
  },
  {
   "cell_type": "markdown",
   "id": "4a52a224",
   "metadata": {},
   "source": [
    "To transition this physical model into a differential equation model, it's often useful to sketch a free body diagram."
   ]
  },
  {
   "cell_type": "markdown",
   "id": "a58ab668",
   "metadata": {},
   "source": [
    "<table> \n",
    "<tr>\n",
    "    <td> <img src=\"./pics/07_modeling_dynamic_systems_mechanical-systems-models-forces.png\" alt=\"mechanical-systems-models\" style=\"width: 650px;\"/>\n",
    "</tr></table>"
   ]
  },
  {
   "cell_type": "markdown",
   "id": "a104d643",
   "metadata": {},
   "source": [
    "This diagram visualizes the masses as nodes, and the forces acting on them are depicted with arrows. For our current system, we have a single mass, $M$, with an applied force $F$ and a disturbance force $F_\\omega$. Additionally, the spring force $Ky$ and frictional force $Bv$ oppose the motion. We must also consider the inertial force due to the mass $M$ itself, which counteracts the movement."
   ]
  },
  {
   "cell_type": "markdown",
   "id": "592c9561",
   "metadata": {},
   "source": [
    "A crucial principle in mechanics is the force balance equation, which states that forces promoting motion should equal forces opposing it. Therefore, our equation becomes:\n",
    "\n",
    "$$\n",
    "M\\dot{v} + B{v} + Ky = F - F_\\omega\n",
    "$$\n",
    "\n",
    "Here, $F-F_\\omega$ is the net force acting to the system. $\\dot{v}$ denotes acceleration, and $F_\\omega$ can either assist or counteract the applied force $F$ depending on its nature. It's worth noting that even if $F_\\omega$ assists the motion, it's still considered a disturbance, as the system wasn't designed with it in mind.\n"
   ]
  },
  {
   "cell_type": "markdown",
   "id": "73d279b6",
   "metadata": {},
   "source": [
    "We can convert this to a state variable model:\n",
    "\n",
    "$$\n",
    "\\begin{align}\n",
    "x_1 &= y\\\\\n",
    "x_2 &= v = \\dot{y}\n",
    "\\end{align}\n",
    "$$\n",
    "\n",
    "and we saw how to do this already. Let's instead focus on the transfer function model."
   ]
  },
  {
   "cell_type": "markdown",
   "id": "4907a89f",
   "metadata": {},
   "source": [
    "## Transforming into Transfer Function Model\n",
    "\n",
    "Every control system can be portrayed in the Laplace domain, making it easier to analyze and design control strategies. For our system, the transfer function is a relation between a single input and output. However, note that the system is a two inputs ($F, F_\\omega$), one output ($y$).\n",
    "\n",
    "We can re-write our equation to explicit the output variable:\n",
    "\n",
    "\n",
    "$$\n",
    "M\\ddot{y} + B\\dot{y} + Ky = F - F_\\omega\n",
    "$$\n",
    "\n",
    "The Transfer Function is a SISO description and hence, using as a block diagram:\n",
    "\n",
    "<table> \n",
    "<tr>\n",
    "    <td> <img src=\"./pics/07_modeling_dynamic_systems_mechanical-systems-models-transfer-function.png\" alt=\"mechanical-systems-models-transfer-function\" style=\"width: 650px;\"/>\n",
    "</tr></table>\n"
   ]
  },
  {
   "cell_type": "markdown",
   "id": "0300fe4f",
   "metadata": {},
   "source": [
    "We can hence write the transfer function between $Y(s)$ and $F(s)$, and between $Y(s)$ and $F_\\omega(s)$"
   ]
  },
  {
   "cell_type": "markdown",
   "id": "1a48b426",
   "metadata": {},
   "source": [
    "Given the above representation, we can express the transfer function between \n",
    "$Y(s)$ and $F(s)$ (assuming $F_\\omega(s)=0$) as:\n",
    "\n",
    "$$\n",
    "\\frac{Y(s)}{F(s)} = \\frac{1}{Ms^s+Bs+K}\n",
    "$$\n",
    "\n",
    "and this is also the transfer function between $Y(s)$ and $F_\\omega(s)$.\n",
    "\n",
    "We can then call:\n",
    "\n",
    "$$\n",
    "\\frac{Y(s)}{F(s)} = \\frac{1}{Ms^s+Bs+K} = G(s)\n",
    "$$"
   ]
  },
  {
   "cell_type": "markdown",
   "id": "f85b1223",
   "metadata": {},
   "source": [
    "With some simplification and standardization, and considering the system's damping and natural frequency, we get:\n",
    "\n",
    "$$\n",
    "G(s)=\\frac{1}{\\frac{M}{K}s^s + \\frac{B}{K}s + 1} = \\frac{K_S}{\\frac{1}{\\omega_n^2}s^2 + \\frac{2\\zeta}{\\omega_n} s + 1 }\n",
    "$$\n",
    "\n",
    "Where I called $K_S$ the system gain to differentiate it from $K$.\n",
    "\n",
    "This function, termed as the quadratic lag, is a second-order lag in contrast to the first-order (or simple) lag we previously discussed."
   ]
  },
  {
   "cell_type": "markdown",
   "id": "b755e201",
   "metadata": {},
   "source": [
    "#### Units\n",
    "\n",
    "The importance of understanding these units and parameters cannot be overstated. They form the foundation upon which our mathematical models are built, allowing us to make predictions, design controllers, and understand system behavior.\n",
    "\n",
    "- Force: Newtons\n",
    "- Displacement $y$: Meters\n",
    "- Velocity $v$: Meters/second\n",
    "- Acceleration: Meters/second^2\n",
    "- Mass $M$: Kilograms\n",
    "- Friction Coefficient $B$: Newtons/(meters/second)\n",
    "- Spring Constant $K$: Newtons/meter"
   ]
  },
  {
   "cell_type": "markdown",
   "id": "da222753",
   "metadata": {},
   "source": [
    "**Pop-up Question**: What distinguishes a second-order lag (quadratic lag) from a first-order (simple) lag?\n",
    "\n",
    "**Answer**: A second-order lag has a quadratic term (s^2) in the denominator, while a first-order lag only has a linear term (s). This makes the second-order system more complex, with properties like oscillations and overshoot that aren't present in a first-order system."
   ]
  },
  {
   "cell_type": "markdown",
   "id": "bba96614",
   "metadata": {},
   "source": [
    "# Fixed axis rotational systems"
   ]
  },
  {
   "cell_type": "markdown",
   "id": "72f7a0ce",
   "metadata": {},
   "source": [
    "Moving on to rotational systems, we find parallels with our previous discussions. Key parameters here include:\n",
    "\n",
    "- $J$: Moment of inertia of the system (Remember that the inertial torque due to $J$ opposes the motion).\n",
    "- $B$: Viscous friction coefficient\n",
    "- $K$: Spring constant (though often ignored in many applications)"
   ]
  },
  {
   "cell_type": "markdown",
   "id": "d79b2680",
   "metadata": {},
   "source": [
    "Consider, for instance, the steering of an antenna. \n",
    "\n",
    "<table>\n",
    "    <tr>\n",
    "    <img src=\"./pics/07_modeling_dynamic_systems_antenna-tracking-system-gopal.png\" alt=\"antenna-tracking-system-gopal\" style=\"width: 450px;\"/>\n",
    "    <img src=\"./pics/07_modeling_dynamic_systems_antenna-tracking-system-gopal-block-diagram.png\" alt=\"antenna-tracking-system-gopal-block-diagram\" style=\"width: 450px;\"/>    \n",
    "    </tr>\n",
    "</table> \n",
    "\n",
    "The moment of inertia of the antenna might be represented by the $J$ parameter. Yet, this parameter might also account for the inertia of other components, such as the motor rotor, shaft, and even gears. As before the elements are distributed, but all these are lumped together into a single parameter for modeling. \n",
    "\n",
    "Similarly, the frictional effects (e.g., bearings, etc) are encapsulated within the $B$ parameter. Remember, damping forces play a crucial role in controlling the oscillations in a system and ensuring it settles to a stable position over time.\n",
    "\n",
    "Here, we usually encounter two main parameters, $J$ and $B$. In these systems, we often neglect the spring effect $K$ due to the short length of shafts and the relatively low torques generated. However, in certain applications, like robot-controlled systems, the flexibility of the shaft becomes significant, warranting the inclusion of the $K$ parameter."
   ]
  },
  {
   "cell_type": "markdown",
   "id": "498e69e0",
   "metadata": {},
   "source": [
    "To establish a mathematical model for such a system, we'll represent the inertial element $J$, applied torque $T$, and frictional effect $B$. \n",
    "\n",
    "<table> \n",
    "<tr>\n",
    "    <td> <img src=\"./pics/07_modeling_dynamic_systems_mechanical-systems-rotations-1.png\" alt=\"mechanical-systems-rotations\" style=\"width: 450px;\"/>\n",
    "</tr></table>\n",
    "\n",
    "\n",
    "For our free-body diagram, the applied torque $T$ opposes the disturbance torque $T_\\omega$, and the frictional torque $B\\dot{\\theta}$ (where $\\dot{\\theta}$ is the angular velocity) opposes the motion.\n",
    "\n",
    "\n",
    "<table> \n",
    "<tr>\n",
    "    <td> <img src=\"./pics/07_modeling_dynamic_systems_mechanical-systems-rotations-1-torques.png\" alt=\"mechanical-systems-rotations-1-torques\" style=\"width: 450px;\"/>\n",
    "</tr></table>\n",
    "\n",
    "Using similar principles as before, our equation becomes:\n",
    "\n",
    "\n",
    "$$\n",
    "J\\ddot{\\theta} + B \\dot{\\theta} = T − T_\\omega\n",
    "$$\n",
    "\n",
    "Where:\n",
    "\n",
    "- $J \\ddot{\\theta}$ is the inertial torque.\n",
    "- $B \\dot{\\theta}$ is the damping torque.\n",
    "- $T$ is the applied torque.\n",
    "- $T_\\omega$ is the disturbance torque.\n",
    "\n",
    "The transfer function model for this system, considering $\\theta(s)$ as the output variable, can be given by:\n",
    "\n",
    "<table> \n",
    "<tr>\n",
    "    <td> <img src=\"./pics/07_modeling_dynamic_systems_mechanical-systems-rotations-1-transfer-function-1.png\" alt=\"mechanical-systems-rotations-1-transfer-function\" style=\"width: 450px;\"/>\n",
    "</tr></table>\n",
    "\n",
    "Where:\n",
    "\n",
    "$$\n",
    "G(s) = \\frac{1}{Js^2+Bs}=\\frac{1}{s(Js+B)}\n",
    "$$"
   ]
  },
  {
   "cell_type": "markdown",
   "id": "4085c452",
   "metadata": {},
   "source": [
    "Expressing the transfer function in its standard form:\n",
    "\n",
    "$$\n",
    "G(s) = \\frac{1}{s(Js+B)} = \\frac{K}{s(\\tau s + 1)}\n",
    "$$\n",
    "\n",
    "Where:\n",
    "\n",
    "- $K=\\frac{1}{B}$ is the system gain.\n",
    "- $\\tau=\\frac{J}{B}$ is the time constant of the system.\n",
    "\n",
    "The time constant, $\\tau$, represents how quickly the system responds to changes in input, with smaller values indicating faster responses.\n",
    "\n",
    "This system is composed by an integrator $\\frac{1}{s}$, and $\\frac{1}{(\\tau s + 1)}$ is a simple lag, cascaded together.\n",
    "\n"
   ]
  },
  {
   "cell_type": "markdown",
   "id": "d5d88730",
   "metadata": {},
   "source": [
    "### Changing output variable\n",
    "\n",
    "We previously focused on the rotational system where the angular displacement, $\\theta$, was the primary output variable of interest. However, in some applications, it might be more pertinent to consider the angular velocity, $\\omega$ (or $\\dot\\theta$), as the output variable. \n",
    "\n",
    "\n",
    "If we change our output variable to angular velocity, our governing differential equation changes. Specifically, the equation becomes:\n",
    "$$\n",
    "J\\dot{\\omega} + B {\\omega} = T − T_\\omega\n",
    "$$\n",
    "\n",
    "Where:\n",
    "\n",
    "- $J \\dot\\omega$ denotes the inertial torque due to acceleration.\n",
    "- $B\\omega$ signifies the damping torque due to velocity.\n",
    "- $T$ and $T_\\omega$ are, as before, the applied and disturbance torques respectively."
   ]
  },
  {
   "cell_type": "markdown",
   "id": "eaa401fd",
   "metadata": {},
   "source": [
    "Transforming the above differential equation into the Laplace domain, and considering $\\omega(s)$ as the output variable, the transfer function becomes:\n",
    "\n",
    "$$\n",
    "G(s) = \\frac{K}{\\tau s + 1}\n",
    "$$\n",
    "\n",
    "<table> \n",
    "<tr>\n",
    "    <td> <img src=\"./pics/07_modeling_dynamic_systems_mechanical-systems-rotations-1-transfer-function-omega.png\" alt=\"mechanical-systems-rotations-1-transfer-function-omega\" style=\"width: 450px;\"/>\n",
    "</tr></table>\n"
   ]
  },
  {
   "cell_type": "markdown",
   "id": "efa4022f",
   "metadata": {},
   "source": [
    "Where:\n",
    "\n",
    "- $K=\\frac{1}{B}$ is the system gain.\n",
    "- $\\tau=\\frac{J}{B}$ is the time constant of the system.\n"
   ]
  },
  {
   "cell_type": "markdown",
   "id": "fead224d",
   "metadata": {},
   "source": [
    "1. **System Gain, $K$**: It signifies how the system's angular velocity, ω, changes with variations in torque. A larger $K$ means the system is more sensitive to torque changes.\n",
    "2. **Time Constant, τ**: This represents how quickly the system's angular velocity responds to changes in input torque. A smaller τ indicates a faster response."
   ]
  },
  {
   "cell_type": "markdown",
   "id": "e5815492",
   "metadata": {},
   "source": [
    "**Pop-up Question**: Why might we be interested in angular velocity as the output rather than angular displacement?\n",
    "**Answer**: Angular velocity can be crucial in scenarios where the speed of rotation is more critical than the position, such as in motors, turbines, or any system where rotational speed control is essential.\n",
    "\n"
   ]
  },
  {
   "cell_type": "markdown",
   "id": "2f93e250",
   "metadata": {},
   "source": [
    "Switching the output variable from angular displacement to angular velocity changes the system dynamics:\n",
    "\n",
    "- The system now primarily responds to changes in speed rather than position.\n",
    "- Control strategies might differ, focusing on maintaining or adjusting speed rather than achieving a particular position.\n",
    "\n",
    "For instance, in a servo motor application where the objective is to maintain a constant speed under varying load conditions, angular velocity as the output variable would be more relevant than angular displacement. Conversely, for a robotic arm's precise positioning, angular displacement might be the more appropriate output variable."
   ]
  },
  {
   "cell_type": "markdown",
   "id": "98b9356d",
   "metadata": {},
   "source": [
    "We can now revisit the system when the output was the position:"
   ]
  },
  {
   "cell_type": "markdown",
   "id": "2372794e",
   "metadata": {},
   "source": [
    "<table> \n",
    "<tr>\n",
    "    <td> <img src=\"./pics/07_modeling_dynamic_systems_mechanical-systems-rotations-1-transfer-function-omega-theta.png\" alt=\"mechanical-systems-rotations-1-transfer-function-omega-theta\" style=\"width: 450px;\"/>\n",
    "</tr></table>"
   ]
  },
  {
   "cell_type": "markdown",
   "id": "347bdcee",
   "metadata": {},
   "source": [
    "A motor that is position controlled has an integrating effect. There is not physical integrator but the overall effect is that of an integrator."
   ]
  },
  {
   "cell_type": "markdown",
   "id": "0403de02",
   "metadata": {},
   "source": [
    "### From a transfer function block diagram to state variables models"
   ]
  },
  {
   "cell_type": "markdown",
   "id": "1920eaeb",
   "metadata": {},
   "source": [
    "Note also that if we are given a transfer function diagram model, the output of an integrator are suitable state variables.\n",
    "\n",
    "It is important to also realise the the output of a first-order lag is the same of an integrator along with a filter. So its output is also a suitable state variable."
   ]
  },
  {
   "cell_type": "markdown",
   "id": "b21095dc",
   "metadata": {},
   "source": [
    "<table> \n",
    "<tr>\n",
    "    <td> <img src=\"./pics/07_modeling_dynamic_systems_mechanical-systems-rotations-1-transfer-function-to-state.png\" alt=\"mechanical-systems-rotations-1-transfer-function-to-state\" style=\"width: 450px;\"/>\n",
    "</tr></table>"
   ]
  },
  {
   "cell_type": "markdown",
   "id": "c98fe0fd",
   "metadata": {},
   "source": [
    "And from the diagram above we can easily calculate the state model.\n",
    "\n",
    "From the integrator on the right we obtain:\n",
    "\n",
    "$$\n",
    "\\dot{x_1}=x2\n",
    "$$\n",
    "\n",
    "and from the first-order lag we obtain:\n",
    "\n",
    "$$\n",
    "\\tau\\dot{x_2} + x_2 = K(T-T_\\omega)\n",
    "$$\n",
    "\n",
    "and finally we can find the matrices $A$, $b$, $c$ and $d$ to have it in the standard form."
   ]
  },
  {
   "cell_type": "markdown",
   "id": "41f80446",
   "metadata": {},
   "source": [
    "Think about what happens with a second-order lag (e.g., the mass-sping-damper system).\n",
    "\n",
    "A second-order lag will be modeled with two state variables, but in this case they are not available as output of an integrator.\n",
    "\n",
    "<table> \n",
    "<tr>\n",
    "    <td> <img src=\"./pics/07_modeling_dynamic_systems_mechanical-systems-rotations-1-transfer-function-to-state-second-order.png\" alt=\"mechanical-systems-rotations-1-transfer-function-to-state-second-order\" style=\"width: 450px;\"/>\n",
    "</tr></table>\n",
    "\n"
   ]
  },
  {
   "cell_type": "markdown",
   "id": "98204024",
   "metadata": {},
   "source": [
    "The state variable selection is not unique, but one option that will work is to take the output as one of the state variables, and its derivative as the other state variables.\n",
    "In this case:\n",
    "\n",
    "$$\n",
    "\\begin{align*}\n",
    "x_1 &= y\\\\\n",
    "x_2 &= \\dot{y} = \\dot{x_1}\\\\ \n",
    "\\end{align*}\n",
    "$$\n",
    "\n",
    "Which gives the first equation:\n",
    "\n",
    "$$\n",
    "\\begin{align}\n",
    "\\dot{x_1}=x_2\n",
    "\\end{align}\n",
    "$$\n",
    "\n",
    "And for the second equation we can write:\n",
    "\n",
    "$$\n",
    "\\frac{1}{\\omega_n^2}\\ddot{y} + \\frac{2\\zeta}{\\omega_n} \\dot{y} + y = K(F-F_\\omega)\n",
    "$$\n",
    "\n",
    "from which we derive:\n",
    "\n",
    "$$\n",
    "\\begin{align}\n",
    "\\dot{x_2}= \\Big[ -x_1 - \\frac{2\\zeta}{\\omega_n}x_2 + K(F-F_\\omega) \\Big] \\omega_n^2\n",
    "\\end{align}\n",
    "$$\n",
    "\n",
    "Note that there are two inputs: $F$ and $F_\\omega$ and hence the state variable model will be:\n",
    "\n",
    "\n",
    "\\begin{aligned}\n",
    "\\begin{bmatrix}\n",
    "\\dot{x}_1(t) \\\\\n",
    "\\dot{x}_2(t) \\\\\n",
    "\\end{bmatrix}\n",
    "&=\n",
    "\\begin{bmatrix}\n",
    "a_{11} & a_{12} \\\\\n",
    "a_{21} & a_{22} \\\\\n",
    "\\end{bmatrix}\n",
    "\\begin{bmatrix}\n",
    "x_1(t) \\\\\n",
    "x_2(t) \\\\\n",
    "\\end{bmatrix}\n",
    "+\n",
    "\\begin{bmatrix}\n",
    "b_{11} & b_{12} \\\\\n",
    "b_{21} & b_{22} \\\\\n",
    "\\end{bmatrix}\n",
    "\\begin{bmatrix}\n",
    "F(t) \\\\\n",
    "F_\\omega(t) \\\\\n",
    "\\end{bmatrix}\n",
    "\\end{aligned}\n",
    "\n",
    "\\begin{aligned}\n",
    "y(t) = \n",
    "\\begin{bmatrix}\n",
    "c_{1} & c_{2} \\\\\n",
    "\\end{bmatrix}\n",
    "\\begin{bmatrix}\n",
    "x_1(t) \\\\\n",
    "x_2(t) \\\\\n",
    "\\end{bmatrix}\n",
    "+\n",
    "\\begin{bmatrix}\n",
    "d_{11} & d_{12} \\\\\n",
    "\\end{bmatrix}\n",
    "\\begin{bmatrix}\n",
    "F(t) \\\\\n",
    "F_\\omega(t) \\\\\n",
    "\\end{bmatrix}\n",
    "\\end{aligned}\n",
    "\n",
    "Note that $F_\\omega$ is a disturbance but it is an input in the model."
   ]
  },
  {
   "cell_type": "markdown",
   "id": "bd324389",
   "metadata": {},
   "source": [
    "#### Units\n",
    "\n",
    "The importance of understanding these units and parameters cannot be overstated. They form the foundation upon which our mathematical models are built, allowing us to make predictions, design controllers, and understand system behavior.\n",
    "\n",
    "- Torque: Newtons$\\cdot$m\n",
    "- Displacement $\\theta$: Radians\n",
    "- Velocity $\\dot\\theta$: Radians/second\n",
    "- Acceleration  $\\ddot\\theta$: Radians/second^2\n",
    "- Friction Coefficient $B$: Newton-m/(rad/second) - from $T=B\\dot{\\theta}$\n",
    "- Moment of inertia $J$: Newton-m/(rad/sec^2) or kg-m^2"
   ]
  },
  {
   "cell_type": "markdown",
   "id": "618a7d07",
   "metadata": {},
   "source": [
    "# Principle of Analogous Variables\n",
    "\n",
    "In the vast realm of system dynamics, it's often useful to draw parallels between different types of systems to simplify our understanding. One such approach is to analogize between mechanical and electrical systems. This analogy allows us to translate the behavior of one system type into another, giving us additional perspectives and tools for analysis and design.\n",
    "\n",
    "At the core of the concept of analogous systems is the idea that different systems governed by similar differential equations will exhibit identical dynamic behavior. Therefore, if we study the response of one system, we can infer the behavior of its analogous counterpart.\n",
    "\n",
    "\n",
    "To understand this, let's consider an electrical circuit:\n",
    "\n",
    "<table> \n",
    "<tr>\n",
    "    <td> <img src=\"./pics/07_modeling_dynamic_systems_princicple-of-analogous-systems-circuit.png\" alt=\"princicple-of-analogous-systems-circuit\" style=\"width: 450px;\"/>\n",
    "</tr></table>\n",
    "\n",
    "\n",
    "This electrical circuit is made up of a resistor ($R$), an inductor ($L$), and a capacitor ($C$), driven by a current source ($i$).\n",
    "\n",
    "We can write the equation as:\n",
    "\n",
    "$$\n",
    "\\frac{e}{R} + i_2 + C\\frac{de}{dt} = i\n",
    "$$\n",
    "\n",
    "$$\n",
    "L\\frac{di_2}{dt} = e\n",
    "$$\n",
    "\n",
    "The current through the inductor and the voltage across the capacitor and we can derive the usual state variable model.\n",
    "\n",
    "\n",
    "In drawing parallels between mechanical and electrical systems:\n",
    "\n",
    "- Force in a mechanical system is analogous to voltage in an electrical system.\n",
    "- Velocity or displacement in a mechanical system can be compared to current in an electrical system.\n",
    "Using these analogies, we can transform mechanical system models into equivalent electrical circuits. This equivalence allows for the application of well-established electrical circuit analysis techniques to mechanical systems."
   ]
  },
  {
   "cell_type": "markdown",
   "id": "568985b2",
   "metadata": {},
   "source": [
    "The governing equation for this system can be written as:\n",
    "\n",
    "$$\n",
    "\\begin{align}\n",
    "\\frac{e}{R} + C \\frac{de}{dt} + \\frac{1}{L} \\int_{-\\infty}^{t} e(\\tau) d\\tau = i\n",
    "\\end{align}\n",
    "$$\n",
    "\n",
    "Where:\n",
    "\n",
    "- $e$ is the voltage across the components.\n",
    "- $i_2$ is the current through the inductor.\n"
   ]
  },
  {
   "cell_type": "markdown",
   "id": "0fac0e3f",
   "metadata": {},
   "source": [
    "### Sidebar - Modeling and Analysis of a Parallel RLC Circuit with a Current Source\n",
    "\n",
    "The model for a circuit with a current source and a resistor (R), inductor (L), and capacitor (C) in parallel can be represented using Kirchhoff's current law (KCL). KCL states that the sum of currents entering a node (or a junction) is equal to the sum of currents leaving the node.\n",
    "\n",
    "#### Circuit Representation:\n",
    "\n",
    "<table> \n",
    "<tr>\n",
    "    <td> <img src=\"./pics/07_modeling_dynamic_systems_princicple-of-analogous-systems-circuit-sidebar.png\" alt=\"princicple-of-analogous-systems-circuit-sidebar\" style=\"width: 450px;\"/>\n",
    "</tr></table>\n",
    "\n",
    "\n",
    "A circuit diagram showing a current source $ I_s $ connected to a parallel combination of a resistor (R), an inductor (L), and a capacitor (C).\n",
    "\n",
    "#### Mathematical Model:\n",
    "\n",
    "For the given circuit, let's apply KCL at the node where R, L, and C are connected in parallel. We'll denote the current through the resistor as $ I_R $, the current through the inductor as $ I_L $, and the current through the capacitor as $ I_C $.\n",
    "\n",
    "According to Ohm's law:\n",
    "\n",
    "$$ I_R = \\frac{V}{R} $$\n",
    "Where $ V $ is the voltage across the resistor (and also across the inductor and capacitor due to the parallel connection).\n",
    "\n",
    "For the inductor:\n",
    "$$ I_L(t) = \\int_{-\\infty}^{t} \\frac{V(\\tau)}{L} \\, d\\tau $$\n",
    "Or in the differential form:\n",
    "$$ V = L \\frac{dI_L}{dt} $$\n",
    "\n",
    "For the capacitor:\n",
    "$$ I_C(t) = C \\frac{dV}{dt} $$\n",
    "\n",
    "Combining these equations using KCL:\n",
    "$$ I_s = I_R + I_L + I_C $$\n",
    "\n",
    "$$ I_s = \\frac{V}{R} + \\int_{-\\infty}^{t} \\frac{V(\\tau)}{L} \\, d\\tau + C \\frac{dV}{dt} $$\n",
    "\n",
    "This equation represents the relationship between the source current $ I_s $ and the voltage $ V $ across the parallel components. It's a second-order differential equation due to the presence of both the inductor and the capacitor.\n",
    "\n",
    "END OF SIDEBAR\n",
    "\n",
    "------"
   ]
  },
  {
   "cell_type": "markdown",
   "id": "d2d0bbd3",
   "metadata": {},
   "source": [
    "Let's now consider the equations governing a mechanical system.\n",
    "\n",
    "For the mechanical system, Newton's second law can be applied, resulting in an equation that represents the sum of forces acting on the mass being equal to the product of the mass and its acceleration. \n",
    "\n",
    "The differential equation governing this system is:\n",
    "\n",
    "$$\n",
    "\\begin{align}\n",
    "M\\ddot{y} + B\\dot{y} + Ky = F\n",
    "\\end{align}\n",
    "$$\n",
    "\n",
    "where \n",
    "- $y$: is the displacement\n",
    "- we are assuming that $F_\\omega=0$ (if we refer to the previous example)\n",
    "\n",
    "\n",
    "We can now write the previous equation (1) as:\n",
    "\n",
    "$$\n",
    "M\\dot{v} + Bv + K\\int_{-\\infty}^{t} v(\\tau)d\\tau = F\n",
    "$$\n",
    "\n",
    "where \n",
    "- $v$: is the velocity"
   ]
  },
  {
   "cell_type": "markdown",
   "id": "eb0a9860",
   "metadata": {},
   "source": [
    "The electical and mechanical equations are identical:\n",
    "\n",
    "$$\n",
    "\\begin{align}\n",
    "C \\dot{e} + \\frac{1}{R}e + \\frac{1}{L} \\int_{-\\infty}^{t} e(\\tau) d\\tau = i\n",
    "\\end{align}\n",
    "$$\n",
    "\n",
    "$$\n",
    "\\begin{align}\n",
    "M\\dot{v} + Bv + K\\int_{-\\infty}^{t} v(\\tau)d\\tau = F\n",
    "\\end{align}\n",
    "$$\n",
    "\n",
    "What this means is that if you provide a Force step input in equation (2) and measure the response $v$, or a current step input in equation (1) and measure the response $e$, the two will be identical as far as their dynamic is concerned."
   ]
  },
  {
   "cell_type": "markdown",
   "id": "c4bb8a3a",
   "metadata": {},
   "source": [
    "This makes it possible to draw an electrical equivalent of mechanical, thermal, liquid, etc systems.\n",
    "\n",
    "Why typically we want an electrical system? Because they are easy to be experimented with."
   ]
  },
  {
   "cell_type": "markdown",
   "id": "1c1fd5ad",
   "metadata": {},
   "source": [
    "Drawing parallels between the two systems, we obtain the Force-Current Analogy:\n",
    "\n",
    "1. **Force (F)** in the mechanical system is analogous to **Current (I)** in the electrical system.\n",
    "2. **Velocity (v)** in the mechanical system is analogous to **Voltage (e)** in the electrical system.\n",
    "3. **Mass (M)** is analogous to **Capacitance (C)**.\n",
    "4. **Damping (B)** is analogous to the **reciprocal of Resistance (1/R)**.\n",
    "5. **Spring Constant (K)** is analogous to the **reciprocal of Inductance (1/L)**."
   ]
  },
  {
   "cell_type": "markdown",
   "id": "fdd861dc",
   "metadata": {},
   "source": [
    "Torque-Current Analogy for Rotational Systems\n",
    "\n",
    "For mechanical rotational systems, the analogy can be extended:\n",
    "\n",
    "1. **Torque (T)** is analogous to **Current (I)**.\n",
    "2. **Angular Velocity (ω)** is analogous to **Voltage (e)**.\n",
    "3. **Moment of Inertia (J)** is analogous to **Capacitance (C)**.\n",
    "4. **Rotational Damping (B)** remains analogous to the **reciprocal of Resistance (1/R)**.\n",
    "5. **Torsional Spring Constant (K)** is analogous to the **reciprocal of Inductance (1/L)**."
   ]
  },
  {
   "cell_type": "markdown",
   "id": "b177c47c",
   "metadata": {},
   "source": [
    "# Introduction to Thermal Systems in Automatic Control"
   ]
  },
  {
   "cell_type": "markdown",
   "id": "1fc59625",
   "metadata": {},
   "source": [
    "Two other essential systems in control engineering are thermal systems and liquid level systems. These systems follow the same principles of control as mechanical systems, but with different parameters and components.\n",
    "\n",
    "1. Thermal Systems: These deal with heat conduction, radiation, and convection.\n",
    "2. Liquid Level Systems: These focus on the dynamics of liquid storage and flow."
   ]
  },
  {
   "cell_type": "markdown",
   "id": "3cd2eb3b",
   "metadata": {},
   "source": [
    "## Heat Transfer Through a Solid Wall\n",
    "\n",
    "Consider a wall made of any material with a surface area $A$ ($m/s^2$) and thickness $l$ ($m$). \n",
    "Let $\\theta_1$ ($^oC$) and $\\theta_2$ ($^oC$) be the temperatures on either side of this wall.\n",
    "\n",
    "<table> \n",
    "<tr>\n",
    "    <td> <img src=\"./pics/07_modeling_dynamic_systems_thermal-model-wall.png\" alt=\"thermal-model-wall\" style=\"width: 250px;\"/>\n",
    "</tr></table>\n",
    "\n",
    "The heat transfer through this wall can be described by the following equation:\n",
    "\n",
    "$$\n",
    "h = \\frac{\\sigma A(\\theta_1−\\theta_2)}{l}\n",
    "$$\n",
    "\n",
    "Where:\n",
    "- $h$ is the heat transfer rate (in Joules per second).\n",
    "- $\\sigma$ is the thermal conductivity of the material.\n",
    "\n",
    "\n",
    "\n",
    "From an analogous perspective, considering $h$ to be similar to current and the temperature difference $\\theta_1−\\theta_2$  to be similar to voltage, the above equation can be viewed as:\n",
    "\n",
    "$$\n",
    "h = \\frac{\\theta_1−\\theta_2}{R}\n",
    "$$\n",
    "\n",
    "Where:\n",
    "- $R = \\frac{l}{\\sigma A}$ is the conduction resistance of the material."
   ]
  },
  {
   "cell_type": "markdown",
   "id": "367de8bf",
   "metadata": {},
   "source": [
    "## Heat Transfer at the Liquid-Solid Interface \n",
    "\n",
    "Consider a solid-liquid interface, where heat is being transferred. Let $U$ be the film coefficient at this interface, and $A$ be the contact surface area.\n",
    "\n",
    "The heat transfer in this scenario can be described by:\n",
    "\n",
    "$$\n",
    "h = UA(\\theta_1−\\theta_2)\n",
    "$$\n",
    "\n",
    "Where:\n",
    "- $\\theta_1−\\theta_2$ is the net gradient across the film\n",
    "\n",
    "or\n",
    "\n",
    "$$\n",
    "h = \\frac{\\theta_1−\\theta_2}{R}\n",
    "$$\n",
    "\n",
    "Where:\n",
    "- $R = \\frac{1}{U A}$ is the convective heat transfer resistance"
   ]
  },
  {
   "cell_type": "markdown",
   "id": "09df4e79",
   "metadata": {},
   "source": [
    "## Heat Storage in a Solid\n",
    "\n",
    "Heat storage plays a pivotal role in thermal systems. Consider the same wall described earlier. The heat stored within this wall can be represented as:\n",
    "\n",
    "$$\n",
    "h=Mc\\frac{d\\theta}{dt}\n",
    "$$\n",
    "\n",
    "Where:\n",
    "\n",
    "- $h$ is the **heat flow rate** in Joules per second\n",
    "- $M$ is the mass of the material\n",
    "- $c$ is the specific heat of the material\n",
    "\n",
    "The equation can be written as:\n",
    "\n",
    "$$\n",
    "h = C\\frac{d\\theta}{dt}\n",
    "$$\n",
    "\n",
    "Where:\n",
    "- $C=Mc$ is the thermal capacitance of the material."
   ]
  },
  {
   "cell_type": "markdown",
   "id": "61c18341",
   "metadata": {},
   "source": [
    "## Heat Storage in a Solid\n",
    "\n",
    "Heat storage plays a pivotal role in thermal systems. Consider the same wall described earlier. \n",
    "\n",
    "<table> \n",
    "<tr>\n",
    "    <td> <img src=\"./pics/07_modeling_dynamic_systems_thermal-model-heat-storage.png\" alt=\"thermal-model-heat-storage\" style=\"width: 150px;\"/>\n",
    "</tr></table>\n",
    "\n",
    "Where:\n",
    "\n",
    "- $M$ is the mass\n",
    "- $\\theta$ is the temperature\n",
    "\n",
    "The rate of change of the heat stored within this wall can be represented as:\n",
    "\n",
    "$$\n",
    "h=Mc\\frac{d\\theta}{dt}\n",
    "$$\n",
    "\n",
    "Where:\n",
    "- $h$ is in Joules per second (rate of change of the heat stored)\n",
    "- $c$ is the specific heat of the material.\n",
    "\n",
    "The equation can be written as:\n",
    "\n",
    "$$\n",
    "h=C\\frac{d\\theta}{dt}\n",
    "$$\n",
    "\n",
    "Where:\n",
    "\n",
    "- $C=Mc$ is the thermal capacitance of the material.\n"
   ]
  },
  {
   "cell_type": "markdown",
   "id": "d3c2eea1",
   "metadata": {},
   "source": [
    "## Heat Storage in a Liquid Tank\n",
    "\n",
    "Consider a tank containing a liquid with volume $V$ at temperature $\\theta$. \n",
    "\n",
    "\n",
    "<table> \n",
    "<tr>\n",
    "    <td> <img src=\"./pics/07_modeling_dynamic_systems_thermal-model-liquid-tank.png\" alt=\"thermal-model-liquid-tank\" style=\"width: 250px;\"/>\n",
    "</tr></table>\n",
    "\n",
    "\n",
    "The heat storage within the liquid can be represented as:\n",
    "\n",
    "$$\n",
    "h=V\\rho c\\frac{d\\theta}{dt}\n",
    "$$\n",
    "\n",
    "Where:\n",
    "\n",
    "- $\\rho$ is the density of the liquid ($Kg/m^3$).\n",
    "- $c$ is the specific heat of the liquid.\n",
    "\n",
    "The equation can be written as:\n",
    "\n",
    "$$\n",
    "h=C\\frac{d\\theta}{dt}\n",
    "$$\n",
    "\n",
    "Where:\n",
    "\n",
    "- $C=V\\rho c$ is the thermal capacitance of the liquid."
   ]
  },
  {
   "cell_type": "markdown",
   "id": "53a93fe0",
   "metadata": {},
   "source": [
    "Thermal systems have $R$ and $C$ equivalents."
   ]
  },
  {
   "cell_type": "markdown",
   "id": "f78fd4e2",
   "metadata": {},
   "source": [
    "**Pop-up Question**: Why do we often use the analogy of electrical circuits when analyzing thermal systems?\n",
    "\n",
    "**Answer**: Analogizing thermal systems to electrical circuits allows us to apply familiar electrical circuit theory to understand and analyze the behavior of thermal systems. This approach simplifies complex thermal scenarios and provides intuitive insights."
   ]
  },
  {
   "cell_type": "code",
   "execution_count": null,
   "id": "b02ab22d",
   "metadata": {},
   "outputs": [],
   "source": []
  }
 ],
 "metadata": {
  "kernelspec": {
   "display_name": "python3",
   "language": "python",
   "name": "python3"
  }
 },
 "nbformat": 4,
 "nbformat_minor": 5
}
