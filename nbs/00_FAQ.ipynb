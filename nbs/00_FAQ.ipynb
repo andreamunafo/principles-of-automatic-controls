{
 "cells": [
  {
   "cell_type": "markdown",
   "id": "9002d0c5",
   "metadata": {},
   "source": [
    "# Frequently Asked Questions (FAQ)"
   ]
  },
  {
   "cell_type": "markdown",
   "id": "37c6e1af",
   "metadata": {},
   "source": [
    "Welcome to the FAQ page for the \"Principles of Automatic Controls\" course. Here, you'll find key information and answers to common queries.\n",
    "\n",
    "## General Information\n",
    "\n",
    "**Q: Where can I find the course website?**  \n",
    "A: The course website is [here](https://andreamunafo.github.io/principles-of-automatic-controls).\n",
    "\n",
    "**Q: What teaching materials are available?**  \n",
    "A: Teaching materials are available on the course website in both English and Italian. They are provided as Jupyter notebooks.\n",
    "\n",
    "## Course Completion\n",
    "\n",
    "**Q: How can I pass the course?**  \n",
    "A: To successfully complete the course, you should attend lectures and first study from the suggested textbooks. Afterward, supplement your learning with the material available on the course website.\n",
    "\n",
    "## Examinations\n",
    "\n",
    "**Q: What is the format of the exams?**  \n",
    "A: Exams are oral. They involve completing exercises in writing first, followed by a discussion of these exercises and other topics with the instructor.\n",
    "\n",
    "**Q: What content is included in the exams?**  \n",
    "A: All topics discussed in class are part of the exam, except for Python programming. TCLab programming is not a requirement and will not be a part of the exam. However, the concepts underlying TCLab are included in the exam.\n",
    "\n",
    "## Software and Tools\n",
    "\n",
    "**Q: Is learning Python or MATLAB important for studying Feedback Systems in this course?**  \n",
    "A: Yes, using a software package like Python or MATLAB is very beneficial for understanding Feedback Systems. While not mandatory for the exams, these tools can greatly enhance your ability to visualize and analyze control systems. They provide practical experience and a deeper insight into the theoretical concepts covered in the course.\n",
    "\n",
    "## TCLab Assignments\n",
    "\n",
    "**Q: Are TCLab assignments mandatory for this course?**  \n",
    "A: Students are expected to complete TCLab assignments. While they are not mandatory for passing the course, they are highly recommended. Completing these assignments will provide hands-on experience and a practical understanding of control systems. It is also suggested to prepare a short report on these assignments, which can be handed out before the exam. This report can serve as a valuable reference during your exam preparation.\n",
    "\n",
    "**Q: Is there a template available for the TCLab assignment report?**  \n",
    "A: Yes, a report template is provided to assist with your TCLab assignments. It is available as the notebook `00_TCLab_Exercises_Report_Template` under the TCLab folder on the course website. This template will guide you in organizing and presenting your findings from the TCLab exercises. The report should be concise, with a maximum length of 4 pages, focusing on highlighting key takeaways from the exercises.\n",
    "\n",
    "\n",
    "## Additional Resources\n",
    "\n",
    "**Q: Are there any additional resources available to help with the course?**  \n",
    "A: Yes, besides the primary teaching materials, we recommend engaging with online forums and study groups related to control systems. These can provide valuable insights and alternative perspectives that can enhance your understanding. Also, regularly reviewing the course materials and applying the concepts through practical exercises, such as using the TCLab kit or software simulations, can be highly beneficial."
   ]
  },
  {
   "cell_type": "code",
   "execution_count": null,
   "id": "569444c1",
   "metadata": {},
   "outputs": [],
   "source": []
  }
 ],
 "metadata": {
  "kernelspec": {
   "display_name": "python3",
   "language": "python",
   "name": "python3"
  }
 },
 "nbformat": 4,
 "nbformat_minor": 5
}
