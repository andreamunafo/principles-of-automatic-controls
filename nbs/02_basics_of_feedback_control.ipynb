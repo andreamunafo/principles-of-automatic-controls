{
 "cells": [
  {
   "cell_type": "markdown",
   "id": "d4ee643d-101b-4938-85d9-1439d931e698",
   "metadata": {},
   "source": [
    "# Introduction to Feedback Control Systems"
   ]
  },
  {
   "cell_type": "markdown",
   "id": "69cd8e4f-df7b-4e26-9336-4c671698964f",
   "metadata": {},
   "source": [
    "## Basics of Feedback Control\n",
    "\n",
    "In today's discussion, we will delve into the fundamentals of feedback control systems. Let's start with some simple real-world examples to illustrate the underlying feedback structure."
   ]
  },
  {
   "cell_type": "markdown",
   "id": "474ebdfc-37c5-4c5f-854e-eca26b32d95b",
   "metadata": {},
   "source": [
    "### Bathroom Toilet Tank Control System"
   ]
  },
  {
   "cell_type": "markdown",
   "id": "33df3db4-fe02-49d2-bc37-2598aa7ee81a",
   "metadata": {},
   "source": [
    "Consider a common household item - a bathroom toilet tank. The main purpose of this system is to maintain the water level inside the tank.\n",
    "\n",
    "Objective: Control the water level in the tank to a preset level.\n",
    "\n",
    "- Controlled Variable: Water level in the tank.\n",
    "- Command Signal: Preset height, $\\bar{H}$\n",
    "- Disturbance: Outflow from the tank.\n",
    "- Manipulated Variable: Inflow to the tank."
   ]
  },
  {
   "cell_type": "markdown",
   "id": "de5c6b7d-5848-483b-86ea-2260bcac713c",
   "metadata": {},
   "source": [
    "<table><tr>\n",
    "<td> <img src=\"./pics/02_basics_of_feedback_control_schematic_diagram_of_the_bathroom_toilet_tank.png?1\" alt=\"02_basics_of_feedback_control_schematic_diagram_of_the_bathroom_toilet_tank\" style=\"width: 550px;\"/>\n",
    "</tr></table>  \n",
    "\n",
    "From _Raymond T. Stefani, Bahram Shahian and Clement J. Savant, “Design of feedback control systems”, 4th edition, Oxford University press, 2001._"
   ]
  },
  {
   "cell_type": "markdown",
   "id": "1d92f522-4fad-4fd1-87c0-ec5358bd3009",
   "metadata": {},
   "source": [
    "If there's any deviation from the desired water level, the difference (error, $e$) will activate the controller - the float and lever mechanism. This controller adjusts the valve position, $u$, _proportional_ to the error signal.\n",
    "\n",
    "$$\n",
    "u = \\frac{l_1}{l_1+l_2}e = Ke\n",
    "$$\n",
    "\n",
    "As water flows in, the error decreases, eventually reaching zero, causing the valve to close.\n",
    "Note that we can change $K$ changing the position of the point $B$."
   ]
  },
  {
   "cell_type": "markdown",
   "id": "769282db-6937-4aa9-92f5-74a8e16b298b",
   "metadata": {},
   "source": [
    "#### Block Diagram\n",
    "\n",
    "<table>\n",
    "    <tr>\n",
    "    <td> \n",
    "        <img src=\"./pics/02_basics_of_feedback_control_toilet_tank_system_using_block_diagram.png?1\" alt=\"02_basics_of_feedback_control_toilet_tank_system_using_block_diagram\" style=\"width: 650px;\"/>\n",
    "    </td>\n",
    "    </tr>\n",
    "</table> "
   ]
  },
  {
   "cell_type": "markdown",
   "id": "79e9187b-f033-4279-bbc6-cb872be5164e",
   "metadata": {},
   "source": [
    "or in a more general form:\n",
    "\n",
    "<table> \n",
    "<tr>\n",
    "    <td> <img src=\"./pics/02_basics_of_feedback_control_schematic_block_diagram_of_the_bathroom_toilet_tank-corrected.png?1\" alt=\"02_basics_of_feedback_control_schematic_block_diagram_of_the_bathroom_toilet_tank-corrected\" style=\"width: 650px;\"/>\n",
    "</tr></table>  \n",
    "\n",
    "From _Raymond T. Stefani, Bahram Shahian and Clement J. Savant, “Design of feedback control systems”, 4th edition, Oxford University press, 2001._\n",
    "\n",
    "Note that the disturbance is the water outflowing the water tank."
   ]
  },
  {
   "cell_type": "markdown",
   "id": "167c227b-d8a8-44c1-8d73-b41cc3c539da",
   "metadata": {},
   "source": [
    "## Automobile Driving Control System\n",
    "\n",
    "Another familiar example is an automobile driving system, which can control both its direction (heading) and speed.\n",
    "\n",
    "Objective: Control the vehicle's heading and speed.\n",
    "\n",
    "- Controlled Variables: Heading and Speed.\n",
    "- Command Signals: Direction of the highway and speed limits.\n",
    "- Disturbances: Wind force, road, and traffic conditions.\n",
    "- Manipulated Variables: Steering and accelerator/brake position."
   ]
  },
  {
   "cell_type": "markdown",
   "id": "b4118ef6-b055-42e8-9898-8e4d75cd8c60",
   "metadata": {},
   "source": [
    "\n",
    "<table> \n",
    "<tr>\n",
    "    <td> <img src=\"./pics/02_basics_of_feedback_control_block_diagram_hydraulic-power-steering.png\" alt=\"02_basics_of_feedback_control_block_diagram_hydraulic-power-steering\" style=\"width: 650px;\"/>\n",
    "</tr></table>  \n",
    "From Pierre R. Belanger, “Control engineering: a modern approach”, 4th edition, Oxford University press, 2005."
   ]
  },
  {
   "cell_type": "markdown",
   "id": "f73d5327-9bb6-4fb0-a1cd-36ae8de4d77a",
   "metadata": {},
   "source": [
    "This system presents an interesting aspect: it has multiple input and output variables. Such systems are commonly referred to as **MIMO (Multi-Input Multi-Output)** or multivariable systems. This is in contrast to the bathroom toilet tank example, which was a **SISO (Single Input Single Output)** or scalar system.\n",
    "\n",
    "The complexity in designing MIMO systems often arises from the interactions (or couplings) between inputs and outputs. For instance, while steering primarily affects the vehicle's direction, applying brakes, which might lock up the wheel, could impact both speed and direction."
   ]
  },
  {
   "cell_type": "markdown",
   "id": "8d6e0316-ca0b-4c68-9e98-587a1054f282",
   "metadata": {},
   "source": [
    "In many cases, however, these interactions may be negligibly small. When that happens, the system can be treated as two separate single input single output (SISO) systems. For example:\n",
    "\n",
    "- System 1: Where the input is a steering command and the output is the heading of the vehicle.\n",
    "- System 2: Where the input is acceleration or brake position and the output is the speed of the vehicle.\n",
    "\n",
    "Breaking down a multivariable system into SISO systems can greatly simplify the design process. This is why, despite the prevalence of multivariable systems in the industrial sector, many designs focus on SISO systems. They are foundational and crucial.\n",
    "\n",
    "We primarily focus on the design of single input single output systems. This approach does not imply that industries only deal with SISO systems. Instead, it highlights the frequent instances where interactions in a multivariable system can be neglected, allowing it to be treated as multiple SISO systems."
   ]
  },
  {
   "cell_type": "markdown",
   "id": "8605bb2e-c0ef-4a75-9d95-6705a1de6308",
   "metadata": {},
   "source": [
    "Let's go back to the Automobile Control System and deep dive into the variuos components:\n",
    "\n",
    "- Actuator: This transforms an electrical signal into mechanical action. In our vehicle system, we can think of the accelerator pedal as an actuator. Similarly, for braking, our foot acts as an actuator.\n",
    "- Error Detector: Essential for feedback systems, this block detects the difference between the desired and actual state. In the context of driving, our eyes serve as the error detector.\n",
    "- Control Logic: Located in the brain of the driver, it processes information to make decisions.\n",
    "- Commands: These are dynamic and change based on external factors such as traffic signals and road directions.\n",
    "\n",
    "When the system’s purpose is to make the controlled variable (like speed or direction) follow time-varying commands, it's referred to as a **tracking system** or command following system.\n",
    "\n",
    "We refer to **regulators** when their purpose is to follow a non-time varying signal."
   ]
  },
  {
   "cell_type": "markdown",
   "id": "d017f9eb-4698-46ea-a30c-c8ab34ccbaa2",
   "metadata": {},
   "source": [
    "## Hydraulic Power Steering Mechanism"
   ]
  },
  {
   "cell_type": "markdown",
   "id": "6d3f7bd5-cd8c-4246-80b3-e38d974fa88c",
   "metadata": {},
   "source": [
    "Hydraulic power steering offers an intuitive example of a feedback system. \n",
    "\n",
    "The hydraulic power steering mechanism is a vital component in many vehicles, allowing the driver to steer the car with ease. It leverages hydraulic pressure to assist the steering action, thus ensuring smoother control, especially when parking or navigating tight spaces.\n",
    "\n",
    "\n",
    "#### How it Works\n",
    "\n",
    "- Steering Wheel Movement: When the driver turns the steering wheel, it rotates the steering gear.\n",
    "- Hydraulic Fluid Flow: This rotation acts on the control valve, which directs the hydraulic fluid either to the left or right of the piston.\n",
    "- Piston Movement: The hydraulic fluid pressure acts on the piston inside the cylinder, making it move to one side. This movement assists in turning the wheels of the car.\n",
    "- Feedback: The movement of the wheels generates feedback, which adjusts the flow of hydraulic fluid, ensuring that the steering wheel and the actual wheels of the vehicle are in alignment."
   ]
  },
  {
   "cell_type": "markdown",
   "id": "9f5801b1-8d72-45e9-a215-bbec59a08c3a",
   "metadata": {},
   "source": [
    "<table> \n",
    "<tr>\n",
    "    <td> <img src=\"./pics/02_basics_of_feedback_control_hydraulic-power-steering.png?1\" alt=\"02_basics_of_feedback_control_hydraulic-power-steering\" style=\"width: 650px;\"/>\n",
    "</tr></table>"
   ]
  },
  {
   "cell_type": "markdown",
   "id": "e10676b6-bab6-453f-ac02-b0a17974dc6f",
   "metadata": {},
   "source": [
    "To properly analyze and design for such a system:\n",
    "\n",
    "- Model the System: Develop a mathematical representation. For instance, a physical model for this mechanical system might interconnect mass, spring, and friction elements.\n",
    "- Construct a Block Diagram: This would depict how different components like the command signal, error detector, plant (like piston and load), and others interact.\n",
    "- Consider Disturbances: Every feedback mechanism should account for external disturbances. In the context of driving, this could be wind or variations in load on the vehicle."
   ]
  },
  {
   "cell_type": "markdown",
   "id": "7a5befd5-eb9a-43cf-9f7f-5e71d3d77dc5",
   "metadata": {},
   "source": [
    "<table> \n",
    "<tr>\n",
    "    <td> <img src=\"./pics/02_basics_of_feedback_control_block_diagram_of_automobile_driving_system.png\" alt=\"02_basics_of_feedback_control_block_diagram_of_automobile_driving_system\" style=\"width: 650px;\"/>\n",
    "</tr></table>\n",
    "\n",
    "From _Joseph J. Distefano III, Allen R. Stubberud and Ivan J. Williams, “Feedback and control systems”, 2nd edition, McGraw-Hill professional, 2014._"
   ]
  },
  {
   "cell_type": "markdown",
   "id": "4571d929-276a-408d-a187-29ff5e0d7ac7",
   "metadata": {},
   "source": [
    "Note that:\n",
    "- The feedback part is highligthed within the dashed line\n",
    "- The **reference signal** (or reference variable) is proportional to the **command signal**, and the steering gear is in between.\n",
    "    - The command signal and the reference variable in a particular system may be one and the same thing, but they might be different\n",
    "- The output signal is dependent on the **controlled variable**. We talk about an indirectly controlled variable."
   ]
  },
  {
   "cell_type": "markdown",
   "id": "00fe4086-cfbc-457d-b2db-c692e6506e92",
   "metadata": {},
   "source": [
    "## Residential Heating System\n",
    "\n",
    "A feedback control system regulates the behavior of a system by comparing its output with a desired command (or reference) signal. The difference between these two signals forms an error signal, which the control system uses to adjust its output to minimize or eliminate the error. We'll now delve into this concept using a residential heating system as an example."
   ]
  },
  {
   "cell_type": "markdown",
   "id": "c06fe1b4-e80e-4b27-9f35-da96305b993c",
   "metadata": {},
   "source": [
    "<table> \n",
    "<tr>\n",
    "    <td> <img src=\"./pics/02_basics_of_feedback_control_residential-heating-system.png?1\" alt=\"residential-heating-system\" style=\"width: 650px;\"/>\n",
    "</tr></table>"
   ]
  },
  {
   "cell_type": "markdown",
   "id": "150a1ace-bcae-4a57-8238-a32937b98ed1",
   "metadata": {},
   "source": [
    "Feedback System Components\n",
    "\n",
    "- Command Signal: This is the desired system output. In our residential heating example, it's the preset temperature the user desires for the room.\n",
    "- Reference Variable: This translates the command signal into a form the system can use. For the heating system, it's the displacement of a set screw which adjusts the gap between the thermostat and a snap action switch (or the steam flow rate - however we can consider this also as an indirectly controlled variable).\n",
    "- Plant: room radiator\n",
    "- Controlled Variable: It's the room temperature.\n",
    "- Indirectly Controlled Variable: This is a translation of the controlled variable to achieve the desired work. For the heating system, it might be the amount of steam flow or the valve opening."
   ]
  },
  {
   "cell_type": "markdown",
   "id": "66fd77a6-7f9b-4624-b5ec-9c8e25be0e87",
   "metadata": {},
   "source": [
    "<table> \n",
    "<tr>\n",
    "    <td> <img src=\"./pics/02_basics_of_feedback_control_residential-heating-system-mechanics.png\" alt=\"residential-heating-system-mechanics\" style=\"width: 650px;\"/>\n",
    "</tr></table>"
   ]
  },
  {
   "cell_type": "markdown",
   "id": "942adb6d-ed6d-4a4f-b883-ea3c8ca0d49e",
   "metadata": {},
   "source": [
    "1. A dial sets the **desired room temperature** (Command Signal).\n",
    "2. This desired temperature sets the **distance between the thermostat and a snap action switch** (Reference Variable).\n",
    "3. The thermostat, made of a **bimetallic strip**, curls due to temperature changes. The strip's curling controls the snap action switch, which in turn controls the solenoid and plunger, adjusting the valve opening and the steam flow.\n",
    "\n",
    "4. The actual room temperature is affected by this steam flow (Controlled Variable).\n",
    "5. If the room temperature goes above or below the set temperature, the bimetallic strip moves, causing a series of actions that adjust the steam flow to bring the temperature back to the desired level.\n",
    "\n",
    "The described system works on an \"on-off\" control logic. The valve is either fully open (on) or fully closed (off). This approach can result in the room temperature oscillating between two setpoints around the desired temperature.\n",
    "\n",
    "Such an oscillatory behavior is often acceptable for residential heating. The range of temperature fluctuation can be adjusted based on user preferences or system design."
   ]
  },
  {
   "cell_type": "markdown",
   "id": "ae959c69-77d3-4481-b863-b7cbaf322e6a",
   "metadata": {},
   "source": [
    "**The importance of Feedback**\n",
    "\n",
    "The system will work perfectly provided there is no disturbance on the system. \n",
    "A feedback system can adjust and adapt to disturbances or changes in the environment. For instance:\n",
    "- If environmental temperature changes, an open-loop heating system might not maintain the desired room temperature. But a feedback system would adjust its output (steam flow in our case) to counteract these disturbances.\n",
    "- The design and efficiency of the radiator can change over time due to wear, aging, and other factors. A feedback system can adapt to these changes and maintain consistent performance.\n",
    "\n",
    "**Disturbances:**\n",
    "Two types of disturbances can affect a system:\n",
    "\n",
    "- Internal Disturbances: Changes within the system itself, like the aging of radiator tubes.\n",
    "- External Disturbances: External factors affecting the system, such as the external environmental temperature.\n",
    "\n",
    "A feedback system is especially valuable in environments with frequent or significant disturbances. It continuously adjusts and adapts to maintain the desired output, ensuring consistent performance."
   ]
  },
  {
   "cell_type": "code",
   "execution_count": null,
   "id": "f505118e-8aab-4985-96ce-a6b541438ee1",
   "metadata": {},
   "outputs": [
    {
     "data": {
      "image/png": "[encoded data removed]",
      "text/plain": [
       "<Figure size 1000x600 with 1 Axes>"
      ]
     },
     "metadata": {},
     "output_type": "display_data"
    }
   ],
   "source": [
    "import matplotlib.pyplot as plt\n",
    "import matplotlib.patches as patches\n",
    "import matplotlib.transforms as transforms\n",
    "\n",
    "def draw_block(ax, position, size, text, color='white'):\n",
    "    \"\"\"Draw a block with specified text inside.\"\"\"\n",
    "    block = patches.Rectangle(position, size[0], size[1], facecolor=color)\n",
    "    ax.add_patch(block)\n",
    "    ax.text(position[0] + size[0] / 2, position[1] + size[1] / 2, text,\n",
    "            ha='center', va='center', fontsize=12)\n",
    "\n",
    "# Create the figure and axis\n",
    "fig, ax = plt.subplots(figsize=(10, 6))\n",
    "ax.set_xlim(0, 10)\n",
    "ax.set_ylim(0, 6)\n",
    "ax.axis('off')  # Turn off the axis\n",
    "\n",
    "# Draw blocks\n",
    "draw_block(ax, (1, 4.5), (2, 1), 'Command\\n$T_0$\\n(set point)', color='lightblue')\n",
    "draw_block(ax, (4, 4.5), (2, 1), 'Reference\\nDisplacement', color='lightgreen')\n",
    "draw_block(ax, (7, 4.5), (2, 1), 'Control System', color='lightcoral')\n",
    "\n",
    "# Draw arrows\n",
    "ax.annotate(\"\", xy=(3, 5), xytext=(1, 5), arrowprops=dict(arrowstyle=\"->\"))\n",
    "ax.annotate(\"\", xy=(6, 5), xytext=(4, 5), arrowprops=dict(arrowstyle=\"->\"))\n",
    "ax.annotate(\"\", xy=(9, 5), xytext=(7, 5), arrowprops=dict(arrowstyle=\"->\"))\n",
    "\n",
    "# Label for feedback (just as an example, can be omitted)\n",
    "ax.text(9.5, 4.3, 'Room Temp.', fontsize=10, va='center')\n",
    "ax.annotate(\"\", xy=(9.5, 4), xytext=(9.5, 1), arrowprops=dict(arrowstyle=\"->\", ls='--'))\n",
    "\n",
    "plt.tight_layout()\n",
    "plt.show()\n"
   ]
  },
  {
   "cell_type": "markdown",
   "id": "f3d4ba38-1b25-43bd-9c3d-99c5f0ef542f",
   "metadata": {},
   "source": [
    "Let's write a Python script to simulate and plot the temperature control of a room using an on-off controller\n",
    "\n",
    "- The room has a desired temperature (set_point).\n",
    "- The on-off controller will turn on the heater when the temperature drops below set_point - delta and will turn off when the temperature goes above set_point + delta (where delta is a small temperature difference to prevent frequent on-off switches).\n",
    "- The temperature will rise when the heater is on and drop due to environmental effects when the heater is off.\n",
    "- For the sake of simplicity, we will model the temperature change with linear equations."
   ]
  },
  {
   "cell_type": "code",
   "execution_count": null,
   "id": "24ea0034-b9e7-4634-b899-51d94c7d6ba8",
   "metadata": {},
   "outputs": [
    {
     "data": {
      "image/png": "[encoded data removed]",
      "text/plain": [
       "<Figure size 640x480 with 2 Axes>"
      ]
     },
     "metadata": {},
     "output_type": "display_data"
    }
   ],
   "source": [
    "import matplotlib.pyplot as plt\n",
    "import numpy as np\n",
    "\n",
    "# Parameters\n",
    "set_point = 20  # Desired room temperature in degrees Celsius\n",
    "delta = 1   # Tolerance in degrees Celsius. This is simulating the time it takes for the thermostat to kick in.\n",
    "duration = 300  # Simulation time in minutes\n",
    "heating_rate = 0.1  # Temperature rise per minute when heater is on\n",
    "cooling_rate = 0.05  # Temperature drop per minute when heater is off\n",
    "initial_temp = 18  # Initial room temperature\n",
    "\n",
    "# Initialize lists to store results\n",
    "times = np.arange(0, duration, 1)\n",
    "temperatures = [initial_temp]\n",
    "heater_status = [0]  # 0: off, 1: on\n",
    "\n",
    "# On-off controller simulation\n",
    "for t in times[1:]:\n",
    "    current_temp = temperatures[-1]\n",
    "    if current_temp < set_point - delta:\n",
    "        heater_status.append(1)\n",
    "        temperatures.append(current_temp + heating_rate)\n",
    "    elif current_temp > set_point + delta:\n",
    "        heater_status.append(0)\n",
    "        temperatures.append(current_temp - cooling_rate)\n",
    "    else:\n",
    "        heater_status.append(heater_status[-1])\n",
    "        if heater_status[-1] == 1:\n",
    "            temperatures.append(current_temp + heating_rate)\n",
    "        else:\n",
    "            temperatures.append(current_temp - cooling_rate)\n",
    "\n",
    "# Plotting\n",
    "fig, ax1 = plt.subplots()\n",
    "\n",
    "ax1.set_xlabel('Time (minutes)')\n",
    "ax1.set_ylabel('Temperature (°C)', color='tab:blue')\n",
    "ax1.plot(times, temperatures, label='Room Temperature', color='tab:blue', linewidth=3)\n",
    "ax1.axhline(y=set_point, color='r', linestyle='--', label='Set Point')\n",
    "ax1.tick_params(axis='y', labelcolor='tab:blue')\n",
    "ax1.legend(loc='upper left')\n",
    "\n",
    "ax2 = ax1.twinx()\n",
    "ax2.set_ylabel('Heater Status', color='tab:orange')\n",
    "ax2.step(times, heater_status, label='Heater Status', color='tab:orange')\n",
    "ax2.tick_params(axis='y', labelcolor='tab:orange')\n",
    "\n",
    "plt.title('On-Off Temperature Controller')\n",
    "plt.tight_layout()\n",
    "plt.show()\n"
   ]
  },
  {
   "cell_type": "markdown",
   "id": "a4693d46-7c28-4261-88f2-8de044b053aa",
   "metadata": {},
   "source": [
    "- In a residential heating application the oscillation (e.g., 20 degree centigrade plus minus 1 degree) might be tolerated\n",
    "- This type of control logic is called on/off control (or bang/bang control)"
   ]
  },
  {
   "cell_type": "markdown",
   "id": "4d1e00ff-b020-4a42-8c9d-f777143a9c59",
   "metadata": {},
   "source": [
    "We can place this within a more general block diagram:\n",
    "\n",
    "\n",
    "<table> \n",
    "<tr>\n",
    "    <td> <img src=\"./pics/02_basic_of_feedback_control_residential-heating-system-block-diagram.png?1\" alt=\"residential-heating-system-block-diagram\" style=\"width: 650px;\"/>\n",
    "</tr></table>\n",
    "\n",
    "\n",
    "The temperature regulation loop can be broken down into several components:\n",
    "\n",
    "- Feedback Action (Sensor): Represented by the thermostat. The desired room temperature, θ, is continuously compared against the actual temperature by this thermostat.\n",
    "- Controller: The amalgamation of the thermostat and the switch functions as the controller. The role of the controller is to modulate the current based on feedback.\n",
    "- Actuator: This is a vital component that produces a suitable manipulated signal for the plant, often amplifying the input to a level suitable for driving the plant. In our heating system, the actuator is a combination of the solenoid and valve. Its output is the steam flow that heats the room.\n",
    "- Plant: This is the system we want to control—in this case, the room radiator.\n",
    "- Disturbance: External factors, such as environmental temperature, that might affect the plant."
   ]
  },
  {
   "cell_type": "markdown",
   "id": "cefd66c7-147b-4522-b19e-f0048e3c8717",
   "metadata": {},
   "source": [
    "## Block Diagram of the Basic Feedback Structure\n",
    "\n",
    "\n",
    "<table> \n",
    "<tr>\n",
    "    <td> <img src=\"./pics/02_basics_of_feedback_control_general-block-diagram-highlight-controller.png?1\" alt=\"general-block-diagram\" style=\"width: 750px;\"/>\n",
    "</tr>\n",
    "</table>\n"
   ]
  },
  {
   "cell_type": "markdown",
   "id": "48a9723c-2142-48d6-afb7-76f553d9a159",
   "metadata": {},
   "source": [
    "- $y_r$: The command signal. This could represent temperature, displacement, water level, etc.\n",
    "- $A$: Block for reference input elements responsible for generating the reference signal, $r$.\n",
    "- $b$: Feedback signal compared against $r$ to produce an actuating error signal, $\\hat{e}$\n",
    "- $D$: The controller or control logic block that generates a control signal $u$ based on $\\hat{e}$.\n",
    "- $w$: disturbance acting on the plant\n",
    "- $G_A$: The actuator block, increasing the power level of the signal to drive the plant, producing a manipulated signal.\n",
    "- $G_P$: The plant or process, which takes in the manipulated signal $m$ and disturbances $w$ to produce the output $y$.\n",
    "- $y$: maniputlated variable (output)\n",
    "- $H$: feedback system element (sensor)\n",
    "- $Z$: indirectly controlled system (not part of the feedback\n",
    "- $q$: indirectly controlled output"
   ]
  },
  {
   "cell_type": "markdown",
   "id": "bc2079d8-f09d-4489-aa8d-c4fdd4397f46",
   "metadata": {},
   "source": [
    "Note: Not every system will include every block or variable listed, but this structure serves as a foundation for understanding the information flow in feedback control systems."
   ]
  },
  {
   "cell_type": "code",
   "execution_count": null,
   "id": "9943419e-2e8e-4d22-b5c2-56c0cdfa5b8f",
   "metadata": {},
   "outputs": [],
   "source": []
  }
 ],
 "metadata": {
  "kernelspec": {
   "display_name": "python3",
   "language": "python",
   "name": "python3"
  }
 },
 "nbformat": 4,
 "nbformat_minor": 5
}
