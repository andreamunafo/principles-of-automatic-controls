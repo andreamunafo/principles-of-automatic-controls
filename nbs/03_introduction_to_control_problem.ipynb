{
 "cells": [
  {
   "cell_type": "code",
   "execution_count": null,
   "id": "68a81395",
   "metadata": {},
   "outputs": [],
   "source": [
    "#| default_exp introduction_to_control_problem"
   ]
  },
  {
   "cell_type": "code",
   "execution_count": null,
   "id": "9309a677",
   "metadata": {},
   "outputs": [],
   "source": [
    "#| hide\n",
    "from nbdev.showdoc import *"
   ]
  },
  {
   "cell_type": "code",
   "execution_count": null,
   "id": "30bda769",
   "metadata": {},
   "outputs": [
    {
     "data": {
      "text/html": [
       "<link rel='stylesheet' href='https://maxcdn.bootstrapcdn.com/font-awesome/4.7.0/css/font-awesome.min.css'>"
      ],
      "text/plain": [
       "<IPython.core.display.HTML object>"
      ]
     },
     "metadata": {},
     "output_type": "display_data"
    }
   ],
   "source": [
    "#| hide\n",
    "from IPython.display import display, HTML\n",
    "display(HTML(\"<link rel='stylesheet' href='https://maxcdn.bootstrapcdn.com/font-awesome/4.7.0/css/font-awesome.min.css'>\"))"
   ]
  },
  {
   "cell_type": "markdown",
   "id": "25d357fb-92a1-4fdf-a3e5-c35ec6cd8a32",
   "metadata": {},
   "source": [
    "# Introduction to the control problem"
   ]
  },
  {
   "cell_type": "markdown",
   "id": "15c1c653-86e8-48c3-8df7-8cedd61f6575",
   "metadata": {},
   "source": [
    "Hello, dear readers! Throughout this journey, we've delved into the wonders of control systems, discussing its essential terminologies and feedback structures. Let's explore further using more real-world examples to strengthen our understanding."
   ]
  },
  {
   "cell_type": "markdown",
   "id": "7c52db5f-7abb-4e4b-9a57-a568d99ce2bc",
   "metadata": {},
   "source": [
    "## Servo Mechanism for Antenna Steering\n",
    "\n",
    "A typical radar application involves steering an antenna such that it remains aligned with a target - like tracking an aircraft in flight. This alignment and tracking mechanism is achieved using a servo mechanism.\n"
   ]
  },
  {
   "cell_type": "markdown",
   "id": "26907385-cbff-4b17-ac11-54119ff76e08",
   "metadata": {},
   "source": [
    "<table><tr>\n",
    "<td> <img src=\"./pics/03_introduction_to_control_problem_antenna-tracking-system.png?1\" alt=\"antenna-tracking-system\" style=\"width: 250px;\"/>\n",
    "    <img src=\"./pics/03_introduction_to_control_problem_antenna-tracking-system-gopal.png?1\" alt=\"antenna-tracking-system-gopal\" style=\"width: 450px;\"/>\n",
    "</tr></table> "
   ]
  },
  {
   "cell_type": "markdown",
   "id": "ce161e15-9b84-49f9-af75-70e0d244abc6",
   "metadata": {},
   "source": [
    "- command signal for the servo: deviation between the antenna axis and the target's position\n",
    "- this is needed to steer the antenna and reduce the error to zero\n",
    "\n",
    "As you observe in the above diagram, our antenna configuration has two main degrees of freedom:\n",
    "\n",
    "- Elevation angle around the horizontal axis.\n",
    "- Azimuth angle (denoted as $\\beta$) around the vertical axis.\n",
    "\n",
    "This makes our system a multivariable one. But wait, is there a way to simplify it?\n",
    "\n",
    "> **Thought Bubble**: Can you recall a scenario where we can treat a multivariable system almost like a series of single-input-single-output systems?\n",
    "Correct! If the interaction (or coupling) between these variables can be neglected, we can design our control systems separately for each degree of freedom.\n",
    "\n"
   ]
  },
  {
   "cell_type": "markdown",
   "id": "e60d62ef-aeb5-474f-b574-eca66b827e44",
   "metadata": {},
   "source": [
    "To elucidate, let's zoom into the azimuth control ($\\beta$).\n",
    "\n",
    "### Azimuth Control Block Diagram\n",
    "\n",
    "<table><tr>\n",
    "<td> <img src=\"./pics/03_introduction_to_control_problem_antenna-tracking-system-gopal-block-diagram.png\" alt=\"antenna-tracking-system-gopal-block-diagram\" style=\"width: 650px;\"/>    \n",
    "</tr></table> \n"
   ]
  },
  {
   "cell_type": "markdown",
   "id": "7dcc1d9d-3a8a-4810-a96f-f0d96521a67f",
   "metadata": {},
   "source": [
    "- Azimuth angle is $\\beta$ (controlled angle)\n",
    "- Command signal given by the radar sensor: $\\beta_r$\n",
    "- 'Computer' does error detection and control, which means that we need a suitable sensor to read the angle $\\beta$.\n",
    "    - output of the computing element is $u$ (manipulated signal)\n",
    "- Shaft-angle encoder: transform the analog signal $\\beta$ (angular displacement) into a digital signal\n",
    "- Power amplifier generated the signal that drives the motor (DC armature control motor) - change the power level to meet the requirement of the motor\n",
    "- Between the motor shaft and the antenna we have a **gear train** because the torque required to move the antenna is larger than the torque produced by a typical motor.\n",
    "\n",
    "### Tachogenerator\n",
    "There's a twist in our tale. As you might've observed in the diagram, we have introduced an additional feedback mechanism via a tachogenerator.\n",
    "\n",
    "The tachogenerator, attached to the motor shaft, produces a voltage signal proportional to the shaft's velocity. _This allows us not just to feedback the antenna's position but also its rate of change (or velocity)._\n",
    "\n",
    "- the velocity is the derivative of the controlled variable $\\beta$."
   ]
  },
  {
   "cell_type": "markdown",
   "id": "3b4020a4-d6c0-4296-886f-c84bc753566d",
   "metadata": {},
   "source": [
    "> **Pop Quiz**: Can you think of why feedback about the velocity might be useful in our control system?"
   ]
  },
  {
   "cell_type": "markdown",
   "id": "857637e9-6d2d-40cb-b461-3263ff4e145a",
   "metadata": {},
   "source": [
    "This dual feedback mechanism is what we refer to as \"proportional plus derivative control\". It's an essential concept in control system design, as it helps in precise control by considering both the position and its rate of change."
   ]
  },
  {
   "cell_type": "markdown",
   "id": "02171569-6b9a-4666-a2bb-8878d3fa8603",
   "metadata": {},
   "source": [
    "We can put this into our standard block diagram form:"
   ]
  },
  {
   "cell_type": "markdown",
   "id": "a50a98ce-04ab-4b71-8875-5a0bf9d5c559",
   "metadata": {},
   "source": [
    "<table><tr>\n",
    "<td> <img src=\"./pics/03_introduction_to_control_problem_antenna-tracking-system-gopal-block-diagram-standard-form.png?1\" alt=\"antenna-tracking-system-gopal-block-diagram-standard-form\" style=\"width: 650px;\"/>    \n",
    "</tr></table> \n"
   ]
  },
  {
   "cell_type": "markdown",
   "id": "3bcf4b05-6325-490e-add5-9c170e812f41",
   "metadata": {},
   "source": [
    "- The load is the antenna.\n",
    "- The antenna, the gear and the motor shaft all they represent the plan. If we want to come up with a model of the system we need to model all this, which in practise will mean:\n",
    "    - Knowing the moment of inertia $J$ and the friction $B$."
   ]
  },
  {
   "cell_type": "markdown",
   "id": "b16dce2f-f540-404d-bace-6f218f45c916",
   "metadata": {},
   "source": [
    "## Speed Control in Industry"
   ]
  },
  {
   "cell_type": "markdown",
   "id": "e2588255",
   "metadata": {},
   "source": [
    "Speed control is vital in many industries, especially where consistency is crucial. Think of paper mills or steel production plants, where rollers must maintain a consistent speed to produce a uniform product, ensuring product quality and safety."
   ]
  },
  {
   "cell_type": "markdown",
   "id": "164e1cdd",
   "metadata": {},
   "source": [
    "<table><tr>\n",
    "<td> <img src=\"./pics/03_introduction_to_control_problem_speed-control-diagram-rollers.png?1\" alt=\"speed-control-diagram-rollers\" style=\"width: 650px;\"/>    \n",
    "</tr></table> "
   ]
  },
  {
   "cell_type": "markdown",
   "id": "bf301126-c30e-4c69-8a89-eca51f416ce3",
   "metadata": {},
   "source": [
    "To ensure consistent speed, despite disturbances like varying material thickness or power fluctuations, we employ a control system. "
   ]
  },
  {
   "cell_type": "markdown",
   "id": "9a8eb257-1fd0-48b9-b209-82ecb24d2748",
   "metadata": {},
   "source": [
    "<table><tr>\n",
    "<td> <img src=\"./pics/03_introduction_to_control_problem_speed-control-diagram.png?1\" alt=\"speed-control-diagram\" style=\"width: 650px;\"/>    \n",
    "</tr></table> "
   ]
  },
  {
   "cell_type": "markdown",
   "id": "0019fb6c-c25c-4606-8a0a-27ddbfd20a03",
   "metadata": {},
   "source": [
    "- Commanded Speed Position: The commanded speed position is represented by $\\omega_r$. In the illustrated diagram, this denotes the commanded speed. This is the reference signal that gets compared to the actual feedback signal from the system $\\omega$.\n",
    "\n",
    "- Feedback Mechanism:\n",
    "   - The tachogenerator, which is attached to the motor shaft, provides the feedback in this system. This mechanism captures the actual speed and sends a feedback signal to the main system.\n",
    "     To provide a clearer image, imagine a DC motor (as depicted in our diagram). The tachogenerator is coupled to this motor's shaft. The load attached to this motor has certain parameters – namely $J$ (moment of inertia) and $B$ (viscous friction).\n",
    "\n",
    "\n",
    "- Translating Speed to Voltage:\n",
    "    - The tachogenerator does not directly generate a speed signal. Instead, it generates a voltage signal that is proportional to the speed. This is crucial because it means our reference signal, $\\omega_r$, will also be a voltage proportional to the desired speed.\n",
    "Hence, in this system, the error detector could be an operational amplifier (often called an op-amp). This op-amp circuit accepts the voltage signals that represent the commanded and actual speeds, compares them, and then generates a signal proportional to the error between these two signals.\n",
    "\n",
    "> Question: Why is the speed translated to voltage in this system?\n",
    "Answer: It's to ensure that the feedback and reference signals are in the same format (voltage) for the error detector to compare."
   ]
  },
  {
   "cell_type": "markdown",
   "id": "ca268ae0-415d-4ace-b76a-edeeb0369749",
   "metadata": {},
   "source": [
    "- Digital Control Adaptation:\n",
    "For those keen on a digital control scheme, introducing an A to D (Analog to Digital) converter block can digitize the analog signal generated from the error detection. This digital signal can then be processed by a computer system."
   ]
  },
  {
   "cell_type": "markdown",
   "id": "00d93488-36bb-4fc0-b9a6-83661bf11644",
   "metadata": {},
   "source": [
    "- Power Delivery Control:\n",
    "\n",
    "The main aim of this control scheme is to modulate the power supplied to the motor based on the difference (error) between the commanded and actual positions.\n",
    "\n",
    "In the provided scheme, a silicon control rectifier (SCR) manages this. Without delving into the hardware specifics just yet, the feedback structure inherent in the control scheme reveals a SCR trigger control. The triggering of the SCR dictates the power supply to the motor, thus influencing the torque generated by the motor to achieve $\\omega=\\omega_r$."
   ]
  },
  {
   "cell_type": "markdown",
   "id": "5a9bf0df-bb8d-403e-9f54-b69e13f1759d",
   "metadata": {},
   "source": [
    "Whether $\\omega_r$ is a changing signal over time or a fixed set point, the control scheme can function as either a tracking system or a regulator. We will delve deeper into these types of applications and their speed controls later."
   ]
  },
  {
   "cell_type": "markdown",
   "id": "0e7a68a5-c70b-4fd0-8328-20707f4d5379",
   "metadata": {},
   "source": [
    "# Key terminology\n",
    "As we prepare to go deeper into these systems, it is essential to familiarize ourselves with some key terms:\n",
    "\n",
    "- Process/Plant: These terms can be used interchangeably. Their understanding is crucial.\n",
    "- Actuator: Recall its function - to adjust the power level of the control signal to make it compatible with the motor or plant.\n",
    "- Controller: This comprises mainly two subsystems:\n",
    "      - Error Detector: This compares the reference or command signal with the actual controlled signal.\n",
    "      - Control Logic: This defines how the system responds to the error. Examples include simple proportional logic or more complex proportional plus derivative logic, etc.\n",
    "\n",
    "- Sensor: A sensor's role is pivotal. It generates a feedback signal to align with the reference or command signal, allowing the error detector to compare and act.\n",
    "\n",
    "In a model-based design, understanding and building the mathematical model of these subsystems is fundamental. The mathematical models will be integrated to represent the overall feedback control system."
   ]
  },
  {
   "cell_type": "markdown",
   "id": "290e9820",
   "metadata": {},
   "source": [
    "# Mathematical Models of Physical Systems"
   ]
  },
  {
   "cell_type": "markdown",
   "id": "42f8169c",
   "metadata": {},
   "source": [
    "Control systems play a pivotal role in modern technological advancements, from household appliances to space exploration. To design and analyze these systems, it's essential to first create mathematical models of the physical processes underlying them. Mathematical models serve as abstract representations, helping engineers and scientists predict system behavior under various conditions. This chapter delves into the foundational concepts and techniques for formulating these models, primarily drawing inspiration from the seminal work of Nagrath and Gopal in their book on Control Systems."
   ]
  },
  {
   "cell_type": "markdown",
   "id": "85f32fbe",
   "metadata": {},
   "source": [
    "## Why Mathematical Models?\n",
    "\n",
    "Definition: A mathematical model is an abstract representation of a physical system in the form of mathematical equations. It describes the system's behavior and how it responds to various inputs.\n",
    "\n",
    "Benefits:\n",
    "\n",
    "- Predictive Analysis: Allows for predictions about future behavior.\n",
    "- System Optimization: Facilitates adjustments for optimal performance.\n",
    "- Simulation: Enables system simulation before actual implementation.\n",
    "- Cost-Efficient: Reduces the need for expensive and time-consuming real-world testing."
   ]
  },
  {
   "cell_type": "markdown",
   "id": "5406c422",
   "metadata": {},
   "source": [
    "## Types of Physical Systems:\n",
    "Physical systems can be broadly categorized based on their inherent nature:\n",
    "\n",
    "- **Linear vs. Non-linear Systems**: Linear systems obey the principle of superposition and homogeneity, while non-linear systems do not.\n",
    "- **Time-Invariant vs. Time-Variant Systems**: In time-invariant systems, the parameters don't change with time. In contrast, they do in time-variant systems.\n",
    "- **Continuous-time vs. Discrete-time System**s: Continuous-time systems operate over a continuous range of time, while discrete-time systems operate at specific intervals."
   ]
  },
  {
   "cell_type": "markdown",
   "id": "2487de8d",
   "metadata": {},
   "source": [
    "## Steps in Formulating Mathematical Models:\n",
    "\n",
    "1. System Identification: Determine the type of system (e.g., mechanical, electrical, thermal).\n",
    "2. Simplification: Make reasonable approximations and neglect insignificant effects.\n",
    "3. Selection of Variables: Choose appropriate state variables to describe the system.\n",
    "4. Application of Fundamental Laws: Apply basic laws (like Ohm's law for electrical systems, Newton's laws for mechanical systems) to derive equations.\n",
    "5. Representation: Use differential equations, transfer functions, or state-space models as needed."
   ]
  },
  {
   "cell_type": "markdown",
   "id": "c3e786fd-9920-4ebc-8215-b68b35829d17",
   "metadata": {},
   "source": [
    "## Linear Time Invariant Systems\n",
    "In our upcoming discussions, all systems will be linear time invariant. Thus, our focus will pivot towards modeling these types of systems. It's presumed that at some point in your studies, you've encountered modeling of various systems, such as electrical, mechanical, fluidic, or thermal systems."
   ]
  },
  {
   "cell_type": "markdown",
   "id": "f0fbbf3f",
   "metadata": {},
   "source": [
    "When we solve the mathematical model of a physical system under different input scenarios, the outcome depicts the system's dynamic behavior. "
   ]
  },
  {
   "cell_type": "markdown",
   "id": "c7581a2f",
   "metadata": {},
   "source": [
    "> <i class=\"fa fa-lightbulb-o\" aria-hidden=\"true\"></i> \n",
    "A system's mathematical model is considered linear if it adheres to the principles of superposition and homogeneity."
   ]
  },
  {
   "cell_type": "markdown",
   "id": "ac1b9113",
   "metadata": {},
   "source": [
    "if a system model has responses $y_1(t)$ and $y_2(t)$ to any two inputs $x_1(t)$ and $x_2,(t)$, the system response to the linear combination of these inputs:\n",
    "\n",
    "$$ \\alpha_1 x_1(t) + \\alpha_2 x_2(t) $$ \n",
    "\n",
    "is given by the linear combination of the individual responses:\n",
    "\n",
    "$$ \\alpha_1 y_1(t) + \\alpha_2 y_2(t) $$ "
   ]
  },
  {
   "cell_type": "markdown",
   "id": "035431e5-4e21-4024-a951-306b7858b3f9",
   "metadata": {},
   "source": [
    "Before diving further, a recap of the foundational physics laws, as they apply to linear time-invariant systems, will be beneficial. Although it might seem repetitive, this will ensure everyone is on the same page and understands the terminology.\n",
    "\n",
    "- The application of the basic law of physics will provide differential equations. However, these equations might not be directly usable for analysis or design, and need to be transformed into a form that is more useful for control.\n",
    "\n",
    "There are two main forms in control systems that are often leveraged:\n",
    "1. state variable models \n",
    "2. transfer functions.\n",
    "\n",
    "\n",
    "\n"
   ]
  },
  {
   "cell_type": "markdown",
   "id": "fe6daed6",
   "metadata": {},
   "source": [
    "> <i class=\"fa fa-lightbulb-o\" aria-hidden=\"true\"></i> \n",
    "Differential equations often characterize the mathematical representations of many physical systems. A model is deemed linear when its defining differential equation possesses coefficients that are either solely dependent on the independent variable or remain constant. If these coefficients change over time (where time is the independent variable), the model is described as linear time-varying. Conversely, if the coefficients remain constant throughout, the model is labeled as linear time-invariant."
   ]
  },
  {
   "cell_type": "markdown",
   "id": "b8618977-1db9-4462-b155-cc74b79ffba6",
   "metadata": {},
   "source": [
    "## State Variable Models\n",
    "\n",
    "Using a simple electrical circuit as an example we can illustrate the concept of state variable models. \n",
    "\n",
    "In this circuit, the input variable is $e_i$. The output variable, in any system, is the attribute of focus. In our example, it could be the current through an element or the voltage across an element."
   ]
  },
  {
   "cell_type": "markdown",
   "id": "cf3533d4-c44f-448b-a26f-584aa117d17c",
   "metadata": {},
   "source": [
    "<table><tr>\n",
    "<td> <img src=\"./pics/03_introduction_to_control_problem_state-variable-model-simple-circuit-precise-with-current.png?1\" alt=\"state-variable-model-simple-circuit\" style=\"width: 650px;\"/>    \n",
    "</tr></table> "
   ]
  },
  {
   "cell_type": "markdown",
   "id": "c4bc2966-6f6b-45a4-9886-e8fc923d9d06",
   "metadata": {},
   "source": [
    "In this case, if we know the voltage through the capacitor $e(t)$ and the current through the inductor $i(t)$, we can derive any other variable of interest.\n",
    "\n",
    "- **Characterising variables**: $e(t)$ and $i(t)$ completely characterise the system (a simple electrical network in this case)\n",
    "\n",
    "Any output of interest can be obtained as a function of these variables\n",
    "- For example, the energy stored in the capacitor is given by:\n",
    "  $$ \\frac{1}{2}Ce^2$$\n",
    "\n",
    "- For example, the energy stored in the inductor is given by:\n",
    "  $$ \\frac{1}{2}Li^2$$\n",
    "\n",
    "\n",
    "The dynamic changes in our characterizing variables, $e(t)$ and $i(t)$, signify the redistribution of energy within the system. Recognizing these variables, which represent the energy state, provides comprehensive insight into the system's behavior.  \n",
    "\n",
    "How do I get $e(t)$ and $i(t)$:\n",
    "- $e(t)$ and $i(t)$ at any time $t \\ge 0$ is available to me if:\n",
    "     - $e(0), i(0)$ at $t = 0$ are known (initial energy state of the system)\n",
    "     - external input $e_i(t)$ is known for $t \\ge 0$\n",
    " \n",
    "We call $e(t)$ and $i(t)$ **State variables**.\n"
   ]
  },
  {
   "cell_type": "markdown",
   "id": "57ea0df4-5bdc-4afe-a78a-7d611e22f505",
   "metadata": {},
   "source": [
    "### State Variable (informal) definition\n",
    "\n",
    "> The state variables are a set of characterizing variable which provide the total information about the system at any time provided the initial state and the external input."
   ]
  },
  {
   "cell_type": "markdown",
   "id": "ee9df2a8",
   "metadata": {},
   "source": [
    "Coming back to our electrical system:\n",
    "\n",
    "- Resistance parameter: $R$\n",
    "- Capacitance: $C$\n",
    "- Inductance: $L$\n",
    "- Current: $i$\n",
    "\n",
    "Applying the basic laws:\n",
    "\n",
    "The loop equation is given by:\n",
    "$$\n",
    "e_i= R i + e + \\frac{Ldi}{dt}\n",
    "$$ \n",
    "\n",
    "And also:\n",
    "\n",
    "$$\n",
    "i = C\\frac{de}{dt}\n",
    "$$\n",
    "\n",
    "These two equations constitute our mathematical system model."
   ]
  },
  {
   "cell_type": "markdown",
   "id": "4d70dc49-d026-4808-b9ca-f48bc6da1a01",
   "metadata": {},
   "source": [
    "#### State Variable Model of the circuit\n",
    "With our mathematical model in place, we proceed to the State Variable Model. \n",
    "\n",
    "The goal here is to have the model express the derivatives of our characterizing variables. For this system, the characterizing variables are $e(t)$ and $i(t)$.\n",
    "\n",
    "This means:\n",
    "\n",
    "$$\n",
    "\\frac{de(t)}{dt} = \\frac{1}{C}i(t)\n",
    "$$\n",
    "\n",
    "$$\n",
    "\\frac{di(t)}{dt} = \\frac{R}{L}i(t) + \\frac{1}{L}e(t) + \\frac{1}{L}e_i(t)\n",
    "$$\n"
   ]
  },
  {
   "cell_type": "markdown",
   "id": "3ec28524",
   "metadata": {},
   "source": [
    "For ease of representation and standardization, we define:\n",
    "\n",
    "$$x_1=e(t)$$\n",
    "$$x_2=i(t)$$\n",
    "\n",
    "and I call the input variable:\n",
    "\n",
    "$$\n",
    "r=e_i(t)\n",
    "$$\n",
    "\n"
   ]
  },
  {
   "cell_type": "markdown",
   "id": "b850d28a",
   "metadata": {},
   "source": [
    "So the system model in state variable form is:\n",
    "\n",
    "\n",
    "\n",
    "$$\n",
    "\\begin{aligned}\n",
    "    \\frac{dx_1}{dt} &= \\frac{1}{C} x_2 \\\\\n",
    "    \\frac{dx_2}{dt} &= \\frac{R}{L} x_2 + \\frac{1}{L} x_1 + \\frac{1}{L} R\n",
    "\\end{aligned}\n",
    "$$\n",
    "\n",
    "These equations together represent the State Equations of the system."
   ]
  },
  {
   "cell_type": "markdown",
   "id": "06217e6f",
   "metadata": {},
   "source": [
    "**Output Information**: It's essential to know what information we are interested in or what we wish to observe from the system. \n",
    "\n",
    "Suppose we are interested in the voltage across the inductor $y(t)$. Using the given state variables, we can express:\n",
    "\n",
    "$$\n",
    "y(t) = -Ri - e + e_i = -Rx_2 - x_1+r\n",
    "$$\n",
    "\n",
    "This equation is an **Output Equation**, showing how the output depends on our state and input variables."
   ]
  },
  {
   "cell_type": "markdown",
   "id": "22313c52",
   "metadata": {},
   "source": [
    "## Standard State Variable Model\n",
    "\n",
    "The generalized state-variable model for a system with $ n $ state variables, one input and one output is represented by the following matrix-vector differential equations:\n",
    "\n",
    "\n",
    "\\begin{aligned}\n",
    "\\dot{\\mathbf{x}}(t) &= \\mathbf{A} \\mathbf{x}(t) + \\mathbf{b} u(t) \\\\\n",
    "y(t) &= \\mathbf{c} \\mathbf{x}(t) + d u(t)\n",
    "\\end{aligned}\n",
    "\n",
    "Where:\n",
    "\n",
    "- $ \\mathbf{x}(t) $ is the state vector of dimension $ n \\times 1 $:\n",
    "\n",
    "$$\n",
    "\\mathbf{x}(t) = \\begin{bmatrix}\n",
    "x_1(t) \\\\\n",
    "x_2(t) \\\\\n",
    "\\vdots \\\\\n",
    "x_n(t)\n",
    "\\end{bmatrix}\n",
    "$$\n",
    "\n",
    "- $ u(t) $ is a scalar input\n",
    "- $ y(t) $ is a scalar output\n",
    "\n",
    "\n",
    "- $ \\mathbf{A} $ is the **system matrix** of dimension $ n \\times n $\n",
    "- $ \\mathbf{b} $ is the **input vector** of dimension $ n \\times 1 $\n",
    "- $ \\mathbf{c} $ is the **output vector** of dimension $ 1 \\times n $\n",
    "- $ d $ is the **direct transmission matrix** of dimension $ 1 \\times 1 $.\n",
    "\n"
   ]
  },
  {
   "cell_type": "markdown",
   "id": "a3addee9",
   "metadata": {},
   "source": [
    "We can generalise it to a system with $ n $ state variables, $m$ inputs and $p$ outputs\n",
    "\n",
    "\\begin{aligned}\n",
    "\\dot{\\mathbf{x}}(t) &= \\mathbf{A} \\mathbf{x}(t) + \\mathbf{B} \\mathbf{u}(t) \\\\\n",
    "\\mathbf{y}(t) &= \\mathbf{C} \\mathbf{x}(t) + \\mathbf{D} \\mathbf{u}(t)\n",
    "\\end{aligned}\n",
    "\n",
    "Where:\n",
    "\n",
    "- $ \\mathbf{x}(t) $ is the state vector of dimension $ n \\times 1 $:\n",
    "\n",
    "$$\n",
    "\\mathbf{x}(t) = \\begin{bmatrix}\n",
    "x_1(t) \\\\\n",
    "x_2(t) \\\\\n",
    "\\vdots \\\\\n",
    "x_n(t)\n",
    "\\end{bmatrix}\n",
    "$$\n",
    "\n",
    "- $ \\mathbf{A} $ is the system matrix of dimension $ n \\times n $.\n",
    "- $ \\mathbf{B} $ is the input matrix of dimension $ n \\times m $ (assuming there are $ m $ inputs).\n",
    "- $ \\mathbf{C} $ is the output matrix of dimension $ p \\times n $ (assuming there are $ p $ outputs).\n",
    "- $ \\mathbf{D} $ is the direct transmission matrix of dimension $ p \\times m $.\n",
    "- $ \\mathbf{u}(t) $ is the input vector.\n",
    "- $ \\mathbf{y}(t) $ is the output vector.\n",
    "\n",
    "This format is often referred to as the \"state-space\" representation of dynamic systems. It provides a compact and modular way to describe the behavior of a wide range of systems, including electrical, mechanical, thermal, and more."
   ]
  },
  {
   "cell_type": "markdown",
   "id": "62040e69",
   "metadata": {},
   "source": [
    "### Terminology\n",
    "\n",
    "- Bold lowercase letters or lowercase letters with an underline indicate vectors.\n",
    "- Bold uppercase letters or uppercase letters with an underline indicate matrices.\n",
    "- No underline indicates a scalar."
   ]
  },
  {
   "cell_type": "markdown",
   "id": "b5f89c13",
   "metadata": {},
   "source": [
    "# Mass-Spring-Damper"
   ]
  },
  {
   "cell_type": "code",
   "execution_count": null,
   "id": "e8449559",
   "metadata": {},
   "outputs": [
    {
     "data": {
      "image/png": "[encoded data removed]",
      "text/plain": [
       "<Figure size 1000x500 with 1 Axes>"
      ]
     },
     "metadata": {},
     "output_type": "display_data"
    }
   ],
   "source": [
    "#| export\n",
    "import numpy as np\n",
    "import matplotlib.pyplot as plt\n",
    "import matplotlib.patches as patches\n",
    "\n",
    "def draw_mass_spring_damper(position=0.5, force=1.0):\n",
    "    fig, ax = plt.subplots(figsize=(10, 5))\n",
    "\n",
    "    # Draw wall\n",
    "    ax.plot([-1, -1], [0, 2], color='k', lw=10)\n",
    "    ax.text(-1.2, 0.5, 'Wall', rotation='vertical', va='center')\n",
    "\n",
    "    # Draw spring\n",
    "    x_spring = np.linspace(-1, position, 100)\n",
    "    y_spring = 1 + 0.1 * np.sin(10 * np.pi * x_spring)\n",
    "    ax.plot(x_spring, y_spring, 'g', lw=2)\n",
    "    ax.text(-0.5, 1.2, 'Spring', color='g', ha='center')\n",
    "\n",
    "    # Draw damper\n",
    "    damper_length = position + 1\n",
    "    damper_rect_width = damper_length / 5.0\n",
    "    damper_rect = patches.Rectangle((-1, 0.3), damper_rect_width, 0.4, linewidth=1, edgecolor='b', facecolor='white')\n",
    "    ax.add_patch(damper_rect)\n",
    "    ax.plot([-1 + damper_rect_width, position], [0.5, 0.5], 'b', lw=2)\n",
    "    ax.plot([-1 + damper_rect_width * 1.5, -1 + damper_rect_width * 2], [0.3, 0.7], 'b', lw=2)\n",
    "    ax.text(-0.5, 0.3, 'Damper', color='b', ha='center', va='top')\n",
    "\n",
    "    # Draw mass (as cart)\n",
    "    cart_rect = patches.Rectangle((position, 0.25), 1, 1.5, linewidth=1, edgecolor='r', facecolor='gray')\n",
    "    ax.add_patch(cart_rect)\n",
    "    ax.text(position + 0.5, 1, 'Mass', ha='center', va='center')\n",
    "\n",
    "    # Draw Force\n",
    "    ax.arrow(position + 1, 1, force, 0, head_width=0.1, head_length=0.1, fc='orange', ec='orange')\n",
    "    ax.text(position + 1 + force/2, 1.2, 'F', color='orange', ha='center')\n",
    "\n",
    "    # Draw displacement\n",
    "    ax.arrow(0.5, 0.1, position, 0, head_width=0.1, head_length=0.1, fc='purple', ec='purple')\n",
    "    ax.text(0.6, 0.15, 'x', color='purple', ha='center')\n",
    "\n",
    "    ax.set_xlim(-2, 3 + force)\n",
    "    ax.set_ylim(0, 2)\n",
    "    ax.axis('off')\n",
    "    plt.show()\n",
    "\n",
    "draw_mass_spring_damper(position=0.5, force=1.0)\n"
   ]
  },
  {
   "cell_type": "markdown",
   "id": "385c28af",
   "metadata": {},
   "source": [
    "Consider the physical system of a mass-spring-damper:\n",
    "\n",
    "- Mass: $M$ \n",
    "- Spring constant: $K$\n",
    "- Damping coefficient: $B$\n",
    "- External force: $F(t)$\n",
    "- Displacement of the cart from equilibrium: $x$"
   ]
  },
  {
   "cell_type": "markdown",
   "id": "31071e0a",
   "metadata": {},
   "source": [
    "We first write the differential equation of the system and then we will manipulate the differential equation to have it in the standard state variable form.\n",
    "\n",
    "Using Newton's second law, the governing differential equation is:\n",
    "\n",
    "$$\n",
    "F(t) = M \\frac{dv}{dt} + B v + Kx \n",
    "$$"
   ]
  },
  {
   "cell_type": "markdown",
   "id": "32f1a0ad",
   "metadata": {},
   "source": [
    "where:\n",
    "- $v$ is the velocity variable"
   ]
  },
  {
   "cell_type": "markdown",
   "id": "4a62ada0",
   "metadata": {},
   "source": [
    "This equation can be transformed into a state variable model.\n",
    "\n",
    "In this case, $x(t)$ (Displacement) and $v(t)$ are the characterising variables.\n",
    "\n",
    "We can then define the State Variables as:\n",
    "- $x_1 = x(t)$ (Displacement)\n",
    "- $x_2 = v(t)$ (Velocity)\n",
    "\n",
    "\n",
    "Which means, for the first state variable:\n",
    "$$\n",
    "\\frac{dx}{dt} = v\n",
    "$$\n",
    "\n",
    "and in terms of state variables\n",
    "$$\n",
    "\\dot{x_1} = x_2\n",
    "$$\n",
    "\n",
    "and for the second state variable, I need to consider the original differential equation:\n",
    "\n",
    "$$\n",
    "\\frac{dv}{dt} = -\\frac{K}{M} x - \\frac{B}{M} v + \\frac{1}{M} F(t)\n",
    "$$\n",
    "\n",
    "and now in terms of state variables:\n",
    "\n",
    "$$\n",
    "\\dot{x_2} = -\\frac{K}{M} x_1 - \\frac{B}{M} x_2 + \\frac{1}{M} u\n",
    "$$\n",
    "\n",
    "\n",
    "\n",
    "> **Question**: Why do we have two equations? We have two state variables."
   ]
  },
  {
   "cell_type": "markdown",
   "id": "e9a0dc95",
   "metadata": {},
   "source": [
    "The state vector is:\n",
    "$$\n",
    "\\underline{x}(t) = \\begin{bmatrix}\n",
    "x_1(t) \\\\\n",
    "x_2(t) \\\\\n",
    "\\end{bmatrix} = = \\begin{bmatrix}\n",
    "x \\\\\n",
    "v(t) \\\\\n",
    "\\end{bmatrix}\n",
    "$$\n",
    "\n",
    "\n",
    "The state matrix is:\n",
    "\n",
    "$$\n",
    "\\underline{A} = \\begin{bmatrix}\n",
    "0  & 1\\\\\n",
    "-\\frac{K}{M} & -\\frac{B}{M} \\\\\n",
    "\\end{bmatrix} \n",
    "$$\n",
    "\n",
    "The input vector is:\n",
    "\n",
    "$$\n",
    "\\underline{b} = \\begin{bmatrix}\n",
    "0 \\\\\n",
    "\\frac{1}{M}\\\\\n",
    "\\end{bmatrix} \n",
    "$$\n",
    "\n",
    "The $\\underline{c}$ and $d$ depend on the output variable of choice.\n",
    "\n",
    "\n",
    "In the context of our mass-spring-damper system, if we consider the displacement of the mass as our output variable, it signifies the user's requirement to control this displacement. This specific requirement dictates the output variable of interest. In this scenario, the objective is to express the output variable in terms of the state variables.\n",
    "\n",
    "\n",
    "If the displacement of the mass is the output then, the **output equation** becomes:\n",
    "\n",
    "$$\n",
    "y(t) = x = \\underline{c} \\underline{x} + d u(t)\n",
    "$$\n",
    "\n",
    "from which:\n",
    "\n",
    "$$\n",
    "\\underline{c} = \\begin{bmatrix}\n",
    "1 & 0 \\\\\n",
    "\\end{bmatrix} \n",
    "$$\n",
    "\n",
    "\n",
    "$$\n",
    "d = 0\n",
    "$$"
   ]
  },
  {
   "cell_type": "markdown",
   "id": "d79d48c6",
   "metadata": {},
   "source": [
    "and we now have the complete standard state variable model:\n",
    "\n",
    "\n",
    "\\begin{aligned}\n",
    "\\dot{\\underline{x}}(t) &= \\underline{A} \\underline{x}(t) + \\underline{b} u(t) \\\\\n",
    "y(t) &= \\underline{c} \\underline{x}(t) + d u(t)\n",
    "\\end{aligned}\n"
   ]
  },
  {
   "cell_type": "markdown",
   "id": "91707300",
   "metadata": {},
   "source": [
    "Note:\n",
    "\n",
    "\\begin{aligned}\n",
    "\\dot{\\underline{x}}(t) &= \\underline{A} \\underline{x}(t) + \\underline{b} u(t) \\\\\n",
    "\\end{aligned}\n",
    "\n",
    "is called **state equation**."
   ]
  },
  {
   "cell_type": "markdown",
   "id": "696fe626",
   "metadata": {},
   "source": [
    "## Understanding State Variables\n",
    "\n",
    "To accentuate a crucial aspect, in the examples shared earlier, we've considered physical variables as the system's state variables. However, it's important to note: state variables are introduced primarily for mathematical convenience.\n",
    "\n",
    "> State variables need not always be physical variables. They can be defined based on mathematical or modeling needs.\n",
    "\n",
    "- Input and output variables need to be physical variables.\n"
   ]
  },
  {
   "cell_type": "markdown",
   "id": "08bed646",
   "metadata": {},
   "source": [
    "Can we define $ x_1 $ as $ x(t) + v(t) $ and $ x_2 $ as just $ v(t) $?"
   ]
  },
  {
   "cell_type": "markdown",
   "id": "b3d1e96b",
   "metadata": {},
   "source": [
    "The answer is, theoretically, yes. \n",
    "\n",
    "- $x_2$ remains the velocity, $x_1$ - the sum of displacement and velocity - doesn't correspond to a distinct physical variable. \n",
    "- The sum of displacement and velocity is a numerical value, with no physical meaning.\n",
    "- Hence, while $x_1$ and $x_2$ aren't independent physical variables, state equations can still be defined in their terms. \n",
    "\n",
    "- The resulting output can be represented using $x_1$ and $x_2$, although the output equation might differ from the previous case. However, for every input, the output remains uniquely defined.\n",
    "\n",
    "State variables, such as $x_1$ and $x_2$, aren't unique. They can be redefined in countless ways, but for any specific input, a unique output is guaranteed. These state variables are largely matters of convenience. Depending on the requirements of analysis and design, state variables may vary.\n",
    "\n",
    "\n",
    "To illustrate, let's revisit our electrical circuit example. We previously recognized the capacitor's voltage as a state variable. Nonetheless, there's no constraint preventing us from selecting the stored charge in the capacitor as the state variable. Whether the state variable is designated as $q$ (charge) or $e$ (voltage), for a given input, the output remains consistent across all state variable definitions."
   ]
  },
  {
   "cell_type": "code",
   "execution_count": null,
   "id": "f9999d2f",
   "metadata": {},
   "outputs": [],
   "source": []
  }
 ],
 "metadata": {
  "kernelspec": {
   "display_name": "python3",
   "language": "python",
   "name": "python3"
  }
 },
 "nbformat": 4,
 "nbformat_minor": 5
}
