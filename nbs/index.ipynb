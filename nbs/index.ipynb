{
 "cells": [
  {
   "cell_type": "markdown",
   "metadata": {},
   "source": [
    "# Feedback Control\n",
    "\n",
    "> This is a course on principles of automatic control using classical control"
   ]
  },
  {
   "cell_type": "markdown",
   "metadata": {},
   "source": [
    "Teaching semester: Spring 2024\n",
    "\n",
    "Language of instruction: Italian and English\n",
    "\n",
    "## Course coordinator\n",
    "\n",
    "Andrea Munafo\n",
    "\n",
    "## Lecturer(s)\n",
    "\n",
    "Andrea Munafo"
   ]
  },
  {
   "cell_type": "markdown",
   "metadata": {},
   "source": [
    "## Install"
   ]
  },
  {
   "cell_type": "markdown",
   "metadata": {},
   "source": [
    "The notebooks run with python 3.9 and use the following python libraries:\n",
    "- sympy\n",
    "- python control\n",
    "- numpy\n",
    "- pandas\n",
    "- matplotlib \n",
    "\n",
    "Notebook `01_Getting_started_with_Python_and_Jupyter_Notebook.ipynb` provides a short introduction on how to set up an anaconda environment to get you started.\n",
    "\n",
    "\n",
    "To use all notebooks you might need to install the feedback control package. You can do this entering this into your terminal:\n",
    "\n",
    "    pip install -e '.[dev]'\n",
    "    \n",
    "This is the recommended way to make a Python package importable from anywhere in your current environment:\n",
    "\n",
    "- `-e` – short for “editable”, lets you immediately use changes made to your package during development.\n",
    "- `.` – refers to the current directory.\n",
    "- `[dev]` – includes “development” requirements: other packages that your notebooks use solely for documentation or testing.    "
   ]
  },
  {
   "cell_type": "markdown",
   "metadata": {},
   "source": [
    "## How to use"
   ]
  },
  {
   "cell_type": "markdown",
   "metadata": {},
   "source": [
    "Each notebook is thought to be independent from every other, so it is possible to run them in any order you prefer."
   ]
  },
  {
   "cell_type": "markdown",
   "metadata": {},
   "source": [
    "## Acknowledgements and references\n",
    "\n",
    "- Relevant textbooks used to prepare these notebooks are reported in `00_Syllabus.ipynb`. "
   ]
  },
  {
   "cell_type": "markdown",
   "metadata": {},
   "source": [
    "## Additional resources\n",
    "\n",
    "- [Control systems academy](http://www.controlsystemsacademy.com/)\n",
    "- [Process Dynamics and Control in Python](https://apmonitor.com/pdc/index.php)\n",
    "- [Karl J. Åström and Richard M. Murray, Feedback Systems: An Introduction for Scientists and Engineers](http://www.cds.caltech.edu/~murray/amwiki/index.php/Main_Page)\n",
    "- [Lecture series on Control Engineering by Prof. Madan Gopal](https://www.youtube.com/playlist?list=PLghJObT_RyfLmKRT86TquJhG6QuiHZ6Pi)\n",
    "- [Designing Lead and Lag Compensators in Matlab and Simulink](https://ctms.engin.umich.edu/CTMS/index.php?aux=Extras_Leadlag)\n",
    "- [Control Systems Basics](https://www.youtube.com/watch?v=wVPOp-tptPQ&list=PLwNL9Dya_TvWQ44OHs63cvf7H5TWW67tS)"
   ]
  },
  {
   "cell_type": "markdown",
   "metadata": {},
   "source": [
    "--------------------"
   ]
  }
 ],
 "metadata": {
  "kernelspec": {
   "display_name": "python3",
   "language": "python",
   "name": "python3"
  }
 },
 "nbformat": 4,
 "nbformat_minor": 2
}
